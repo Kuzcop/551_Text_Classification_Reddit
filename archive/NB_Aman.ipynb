{
  "cells": [
    {
      "cell_type": "markdown",
      "source": [
        "# Setup"
      ],
      "metadata": {
        "id": "awAAMg5wSCL8"
      }
    },
    {
      "cell_type": "code",
      "execution_count": 2,
      "metadata": {
        "colab": {
          "base_uri": "https://localhost:8080/"
        },
        "id": "otC0i9nsOwL2",
        "outputId": "2e25e31b-4673-4562-924e-c65f0d731995"
      },
      "outputs": [
        {
          "output_type": "stream",
          "name": "stdout",
          "text": [
            "Mounted at /content/drive\n"
          ]
        }
      ],
      "source": [
        "from google.colab import drive\n",
        "drive.mount('/content/drive')"
      ]
    },
    {
      "cell_type": "code",
      "execution_count": 3,
      "metadata": {
        "colab": {
          "base_uri": "https://localhost:8080/"
        },
        "id": "AVHrOlrVeb0y",
        "outputId": "90234683-e50d-4c19-c86f-7a70b2a7625f"
      },
      "outputs": [
        {
          "output_type": "stream",
          "name": "stderr",
          "text": [
            "[nltk_data] Downloading package stopwords to /root/nltk_data...\n",
            "[nltk_data]   Unzipping corpora/stopwords.zip.\n",
            "[nltk_data] Downloading package punkt to /root/nltk_data...\n",
            "[nltk_data]   Unzipping tokenizers/punkt.zip.\n",
            "[nltk_data] Downloading package wordnet to /root/nltk_data...\n",
            "[nltk_data] Downloading package averaged_perceptron_tagger to\n",
            "[nltk_data]     /root/nltk_data...\n",
            "[nltk_data]   Unzipping taggers/averaged_perceptron_tagger.zip.\n"
          ]
        },
        {
          "output_type": "stream",
          "name": "stdout",
          "text": [
            "Collecting git+https://github.com/ClaudeCoulombe/FrenchLefffLemmatizer.git\n",
            "  Cloning https://github.com/ClaudeCoulombe/FrenchLefffLemmatizer.git to /tmp/pip-req-build-dw10e7b2\n",
            "  Running command git clone --filter=blob:none --quiet https://github.com/ClaudeCoulombe/FrenchLefffLemmatizer.git /tmp/pip-req-build-dw10e7b2\n",
            "  Resolved https://github.com/ClaudeCoulombe/FrenchLefffLemmatizer.git to commit bc0ebd0135a6cc78f48ddf184069b4c0b9c017d8\n",
            "  Preparing metadata (setup.py) ... \u001b[?25l\u001b[?25hdone\n",
            "Building wheels for collected packages: FrenchLefffLemmatizer\n",
            "  Building wheel for FrenchLefffLemmatizer (setup.py) ... \u001b[?25l\u001b[?25hdone\n",
            "  Created wheel for FrenchLefffLemmatizer: filename=FrenchLefffLemmatizer-0.3-py3-none-any.whl size=3533513 sha256=5780f364e2b53f908b42c56e443b4c9a88b783ff2fb8f2433cfd536847d28857\n",
            "  Stored in directory: /tmp/pip-ephem-wheel-cache-12h5jdht/wheels/99/54/81/553bffdc8e0781c925f9a26606894935adb29b56175a9a358b\n",
            "Successfully built FrenchLefffLemmatizer\n",
            "Installing collected packages: FrenchLefffLemmatizer\n",
            "Successfully installed FrenchLefffLemmatizer-0.3\n",
            "Collecting langdetect\n",
            "  Downloading langdetect-1.0.9.tar.gz (981 kB)\n",
            "\u001b[2K     \u001b[90m━━━━━━━━━━━━━━━━━━━━━━━━━━━━━━━━━━━━━━━━\u001b[0m \u001b[32m981.5/981.5 kB\u001b[0m \u001b[31m8.0 MB/s\u001b[0m eta \u001b[36m0:00:00\u001b[0m\n",
            "\u001b[?25h  Preparing metadata (setup.py) ... \u001b[?25l\u001b[?25hdone\n",
            "Requirement already satisfied: six in /usr/local/lib/python3.10/dist-packages (from langdetect) (1.16.0)\n",
            "Building wheels for collected packages: langdetect\n",
            "  Building wheel for langdetect (setup.py) ... \u001b[?25l\u001b[?25hdone\n",
            "  Created wheel for langdetect: filename=langdetect-1.0.9-py3-none-any.whl size=993227 sha256=015c31d1bd6e8cc731d987cf99f78c444153bc26108f56b3ba7fe7569a85a85b\n",
            "  Stored in directory: /root/.cache/pip/wheels/95/03/7d/59ea870c70ce4e5a370638b5462a7711ab78fba2f655d05106\n",
            "Successfully built langdetect\n",
            "Installing collected packages: langdetect\n",
            "Successfully installed langdetect-1.0.9\n",
            "Requirement already satisfied: tqdm in /usr/local/lib/python3.10/dist-packages (4.66.2)\n"
          ]
        }
      ],
      "source": [
        "from sklearn.feature_extraction.text import CountVectorizer\n",
        "from sklearn.feature_extraction import text\n",
        "from sklearn.model_selection import train_test_split, KFold\n",
        "from sklearn.metrics import accuracy_score, confusion_matrix, ConfusionMatrixDisplay\n",
        "import numpy as np\n",
        "import pandas as pd\n",
        "import matplotlib.pyplot as plt\n",
        "import seaborn as sns\n",
        "import scipy\n",
        "import time\n",
        "import nltk\n",
        "from nltk.corpus import stopwords\n",
        "# from nltk.stem import French\n",
        "nltk.download('stopwords')\n",
        "nltk.download('punkt')\n",
        "nltk.download('wordnet')\n",
        "nltk.download('averaged_perceptron_tagger')\n",
        "from nltk import word_tokenize\n",
        "from nltk.stem import WordNetLemmatizer\n",
        "from spacy.lang.fr.stop_words import STOP_WORDS as fr_stop\n",
        "from spacy.lang.en.stop_words import STOP_WORDS as en_stop\n",
        "!pip install git+https://github.com/ClaudeCoulombe/FrenchLefffLemmatizer.git\n",
        "from french_lefff_lemmatizer.french_lefff_lemmatizer import FrenchLefffLemmatizer # package for french lemmatization\n",
        "from nltk.tokenize.treebank import TreebankWordDetokenizer\n",
        "import random\n",
        "import re\n",
        "!pip install langdetect\n",
        "from nltk.corpus import wordnet\n",
        "from langdetect import detect\n",
        "!pip install tqdm\n",
        "from tqdm import tqdm\n",
        "from itertools import product\n",
        "\n",
        "\n",
        "seed = 10\n",
        "random.seed(seed)\n",
        "np.random.seed(seed)"
      ]
    },
    {
      "cell_type": "markdown",
      "source": [
        "## Get Data"
      ],
      "metadata": {
        "id": "LEKGk_qnSGsc"
      }
    },
    {
      "cell_type": "code",
      "source": [
        "path = '/content/drive/MyDrive/Olympus in the Sky/McGill/2024 - Winter/ECSE 551/Data/'\n",
        "df = pd.read_csv(path + 'train.csv', encoding = \"ISO-8859-1\")\n",
        "df = df.sample(frac=1, random_state=1).reset_index(drop = True)\n",
        "df = df[~df['body'].str.contains('\\?'*10)]\n",
        "\n",
        "training_data = df['body'].apply(lambda x: x.lower().replace('_', ' ')).to_numpy()\n",
        "training_labels = df['subreddit'].to_numpy()\n",
        "\n",
        "lemmatized_training_data = pd.read_csv(path + 'lemmatized.csv')['Body'].to_numpy()"
      ],
      "metadata": {
        "id": "ZzV4brs6SAN3"
      },
      "execution_count": 3,
      "outputs": []
    },
    {
      "cell_type": "code",
      "source": [
        "path = '/content/drive/MyDrive/Olympus in the Sky/McGill/2024 - Winter/ECSE 551/Data/'\n",
        "df_swapped = pd.read_csv(path + 'train.csv', encoding = \"ISO-8859-1\")\n",
        "df_swapped = df_swapped.sample(frac=1, random_state=1).reset_index(drop = True)\n",
        "df_swapped = df_swapped[~df_swapped['body'].str.contains('\\?'*10)]\n",
        "\n",
        "training_data_swapped   = df_swapped['body'].apply(lambda x: x.lower().replace('_', ' ').replace('\\x82', 'e').replace('\\x85', 'a').replace('\\x87', 'c').replace('\\x8a', 'e').replace('\\x88', 'e').replace('\\x93', 'a').replace('\\x80', 'l').replace('\\x96', 'o')).to_numpy()\n",
        "training_labels = df_swapped['subreddit'].to_numpy()\n",
        "\n",
        "lemmatized_training_data_swapped = pd.read_csv(path + 'lemmatized_swapped.csv')['body'].to_numpy()"
      ],
      "metadata": {
        "id": "6gdiw3sAeZeY"
      },
      "execution_count": 4,
      "outputs": []
    },
    {
      "cell_type": "markdown",
      "source": [
        "## Preprocessing"
      ],
      "metadata": {
        "id": "jmqvpiUNIPqw"
      }
    },
    {
      "cell_type": "code",
      "source": [
        "def get_wordnet_pos(word):\n",
        "  \"\"\"Map POS tag to first character lemmatize() accepts\"\"\"\n",
        "  tag = nltk.pos_tag([word])[0][1][0].upper()\n",
        "  tag_dict = {\"J\": wordnet.ADJ,\n",
        "              \"N\": wordnet.NOUN,\n",
        "              \"V\": wordnet.VERB,\n",
        "              \"R\": wordnet.ADV}\n",
        "  return tag_dict.get(tag, wordnet.NOUN)\n",
        "\n",
        "def remove_stop_words(arr_of_words, stop_words):\n",
        "  return [word for word in arr_of_words if word not in stop_words]\n",
        "\n",
        "def lemmatize(arr_of_words):\n",
        "  lang = detect(' '.join(arr_of_words))\n",
        "  if lang == 'fr':\n",
        "      lemmatizer = FrenchLefffLemmatizer()\n",
        "  else:\n",
        "      lemmatizer = WordNetLemmatizer()\n",
        "\n",
        "  return [lemmatizer.lemmatize(word, pos = get_wordnet_pos(word)) for word in arr_of_words]\n",
        "\n",
        "def preprocess(sentences, regex_pattern = r\"(?u)\\b([a-z][a-z]+)\\b\", stop_words = None, is_lemmatize = False):\n",
        "  new_sentence_list = []\n",
        "  pattern = regex_pattern\n",
        "\n",
        "  for iter, sentence in enumerate(sentences):\n",
        "\n",
        "      words = list(re.findall(pattern, sentence))\n",
        "      if stop_words:\n",
        "        words = remove_stop_words(words, stop_words)\n",
        "\n",
        "      if is_lemmatize:\n",
        "        words = lemmatize(words)\n",
        "\n",
        "      new_sentence_list.append(' '.join(words))\n",
        "\n",
        "  return np.array(new_sentence_list)"
      ],
      "metadata": {
        "id": "06PcDk3Dz-Iz"
      },
      "execution_count": 5,
      "outputs": []
    },
    {
      "cell_type": "markdown",
      "source": [
        "# NB and K-Fold"
      ],
      "metadata": {
        "id": "fE3SbVUlPho5"
      }
    },
    {
      "cell_type": "code",
      "source": [
        "# to find P(Y=k), just do test_labels.where(k)/len(test_labels)\n",
        "# vectos_train will contain all the information I need to create the counting for each word\n",
        "# use the get_feature_names to create a dictionary to map to all counts\n",
        "# this dictionary would be contained in another dict that has the labels as keys\n",
        "# to find P(xj,k), find the indices where test_labels = (k), then find"
      ],
      "metadata": {
        "id": "qX4Psl8CSNg9"
      },
      "execution_count": null,
      "outputs": []
    },
    {
      "cell_type": "code",
      "source": [
        "def get_wordnet_pos(word):\n",
        "    \"\"\"Map POS tag to first character lemmatize() accepts\"\"\"\n",
        "    tag = nltk.pos_tag([word])[0][1][0].upper()\n",
        "    tag_dict = {\"J\": wordnet.ADJ,\n",
        "                \"N\": wordnet.NOUN,\n",
        "                \"V\": wordnet.VERB,\n",
        "                \"R\": wordnet.ADV}\n",
        "    return tag_dict.get(tag, wordnet.NOUN)\n",
        "\n",
        "class LemmaTokenizer:\n",
        "     def __init__(self, pattern):\n",
        "       self.pattern = pattern\n",
        "     def __call__(self, doc):\n",
        "       doc = doc.lower().replace('_', ' ')\n",
        "       doc_words = list(set(re.findall(self.pattern, doc)))\n",
        "       lang = detect(' '.join(doc_words))\n",
        "       if lang == 'fr':\n",
        "           lemmatizer = FrenchLefffLemmatizer()\n",
        "       else:\n",
        "           lemmatizer = WordNetLemmatizer()\n",
        "       return [lemmatizer.lemmatize(word,pos =get_wordnet_pos(word)) for word in doc_words]"
      ],
      "metadata": {
        "id": "1SOK9cAT17fm"
      },
      "execution_count": null,
      "outputs": []
    },
    {
      "cell_type": "code",
      "execution_count": 6,
      "metadata": {
        "id": "tJypvj7ZnfWY"
      },
      "outputs": [],
      "source": [
        "class NB():\n",
        "  def __init__(self, max_features = 3000, token_pattern = r\"(?u)\\b([a-z][a-z]+)\\b\", min_df = 1, max_df = 1.0, ngram_range = (1,1), alpha = 1):\n",
        "    spacy_stopwords_list = list(fr_stop) + list(en_stop)\n",
        "    nltk_stopwords_list = stopwords.words('english') + stopwords.words('french')\n",
        "    self.pattern = token_pattern\n",
        "    self.ngram_range = ngram_range\n",
        "    self.alpha = alpha\n",
        "    self.vectorizer = CountVectorizer(binary = True, max_features = max_features, token_pattern = self.pattern, min_df = min_df, max_df = max_df, ngram_range = ngram_range)\n",
        "    self.no_pred = []\n",
        "\n",
        "  # currently train_corpus expects a np array containing a list of strings, not array of words, nxm\n",
        "  # test_label is an nx1 array\n",
        "  def fit(self, train_corpus, test_labels):\n",
        "    assert len(train_corpus)  == len(test_labels)\n",
        "    assert type(train_corpus) == type(test_labels) == np.ndarray\n",
        "\n",
        "    vectors_train       = self.vectorizer.fit_transform(train_corpus).todense()\n",
        "    self.analyzer       = self.vectorizer.build_analyzer()\n",
        "    self.word_list      = self.vectorizer.get_feature_names_out()\n",
        "    self.num_samples    = len(test_labels)\n",
        "    self.word_count     = dict(zip(self.word_list, np.array(vectors_train.sum(axis=0))[0]))\n",
        "\n",
        "    unique, counts   = np.unique(test_labels, return_counts=True)\n",
        "    self.label_count = dict(zip(unique, counts))\n",
        "    self.labels      = unique\n",
        "\n",
        "    self.word_count_given_label = {}\n",
        "    for label in self.labels:\n",
        "      indices = np.where(test_labels == label)[0]\n",
        "      tot_word_count = np.array(vectors_train[indices].sum(axis=0))[0]\n",
        "      self.word_count_given_label[label] = {self.word_list[i] : tot_word_count[i] for i in range(len(tot_word_count))}\n",
        "      # print(label, self.word_count_given_label[label])\n",
        "\n",
        "  # Assuming test_corpus is 2-d array where each test sample is a string\n",
        "  def predict(self, test_corpus):\n",
        "\n",
        "    predictions = []\n",
        "    for corpus in tqdm(test_corpus, desc=\"Loading…\", ascii=False, ncols=75):\n",
        "\n",
        "      best_label = ''\n",
        "      best_prob  = -np.inf\n",
        "\n",
        "      corpus_words = self.analyzer(corpus)\n",
        "\n",
        "      for label in self.labels:\n",
        "        p_of_y = self.label_count[label]/self.num_samples\n",
        "\n",
        "        p_of_x_given_y = 1\n",
        "\n",
        "        for word in self.word_list:\n",
        "          if word in corpus_words:\n",
        "            xj = 1\n",
        "          else:\n",
        "            xj = 0\n",
        "\n",
        "          theta_xj_k      = (self.word_count_given_label[label][word] + self.alpha) / (self.label_count[label] + self.alpha*len(self.labels))\n",
        "          p_of_x_given_y *= (theta_xj_k**(xj) * (1-theta_xj_k)**(1-xj))\n",
        "          # print(label, word, p_of_x_given_y, theta_xj_k, (theta_xj_k**(xj) * (1-theta_xj_k)**(1-xj)))\n",
        "\n",
        "        p_of_y_given_x = np.log(p_of_y * p_of_x_given_y)\n",
        "        # print(p_of_y, p_of_x_given_y)\n",
        "        # print(label, p_of_y_given_x)\n",
        "\n",
        "        # print(p_of_y_given_x, best_prob)\n",
        "        if p_of_y_given_x > best_prob:\n",
        "          best_prob = p_of_y_given_x\n",
        "          best_label = label\n",
        "\n",
        "      if p_of_x_given_y == 0:\n",
        "        self.no_pred.append(corpus)\n",
        "      #   best_label = random.choice(self.labels)\n",
        "\n",
        "      predictions.append(best_label)\n",
        "\n",
        "    return predictions"
      ]
    },
    {
      "cell_type": "code",
      "execution_count": 7,
      "metadata": {
        "id": "tb85vAgDPPdC"
      },
      "outputs": [],
      "source": [
        "def k_fold_validation(x_train_data, y_train_data, model = NB(), K = 10):\n",
        "  assert type(x_train_data) == np.ndarray and type(y_train_data) == np.ndarray\n",
        "\n",
        "  len_of_data  = len(x_train_data) - len(x_train_data) % K\n",
        "  data_x       = x_train_data[:len_of_data]\n",
        "  data_y       = y_train_data[:len_of_data]\n",
        "  size_of_fold = len(x_train_data[:len_of_data]) // K\n",
        "  validation_error = 0\n",
        "\n",
        "  error    = []\n",
        "  pred     = []\n",
        "  timings  = []\n",
        "  no_preds = []\n",
        "\n",
        "  for i in range(K):\n",
        "\n",
        "    naive_bayes = model\n",
        "\n",
        "    if i != K-1:\n",
        "      validation_fold_x = data_x[i*size_of_fold:(i+1)*size_of_fold]\n",
        "      validation_fold_y = data_y[i*size_of_fold:(i+1)*size_of_fold]\n",
        "\n",
        "      training_folds_x  = np.concatenate((data_x[:i*size_of_fold], data_x[(i+1)*size_of_fold:]))\n",
        "      training_folds_y  = np.concatenate((data_y[:i*size_of_fold], data_y[(i+1)*size_of_fold:]))\n",
        "\n",
        "    else:\n",
        "      validation_fold_x = data_x[i*size_of_fold:]\n",
        "      validation_fold_y = data_y[i*size_of_fold:]\n",
        "\n",
        "      training_folds_x  = data_x[:i*size_of_fold]\n",
        "      training_folds_y  = data_y[:i*size_of_fold]\n",
        "\n",
        "    start_time = time.time()\n",
        "    naive_bayes.fit(training_folds_x, training_folds_y)\n",
        "    end_time = time.time()\n",
        "\n",
        "    timings.append(end_time - start_time)\n",
        "\n",
        "    pred_valid = naive_bayes.predict(validation_fold_x)\n",
        "    no_pred = naive_bayes.no_pred\n",
        "    # pred_train = naive_bayes.predict(training_folds_x)\n",
        "\n",
        "    fold_error = {}\n",
        "    fold_error['validation'] = 1 - accuracy_score(pred_valid, validation_fold_y)\n",
        "    validation_error        += 1 - accuracy_score(pred_valid, validation_fold_y)\n",
        "    # fold_error['train']      = 1 - accuracy_score(pred_train, training_folds_y)\n",
        "\n",
        "    model_pred = {}\n",
        "    model_pred['validation'] = (pred_valid, validation_fold_y)\n",
        "    # model_pred['train']      = (pred_train, training_folds_y )\n",
        "\n",
        "    error.append(fold_error)\n",
        "    pred.append(model_pred)\n",
        "    no_preds.append(no_pred)\n",
        "\n",
        "  info = {'error': error, 'pred': pred, 'time': timings, 'no_preds' : no_preds}\n",
        "\n",
        "  return validation_error/K, info"
      ]
    },
    {
      "cell_type": "markdown",
      "metadata": {
        "id": "7xBVjFXWpw7p"
      },
      "source": [
        "# Simple test cases for NB"
      ]
    },
    {
      "cell_type": "code",
      "execution_count": 11,
      "metadata": {
        "colab": {
          "base_uri": "https://localhost:8080/"
        },
        "id": "qo7BKNgek7NV",
        "outputId": "e2223df8-92b1-436a-a53e-fbb6d009b16c"
      },
      "outputs": [
        {
          "output_type": "stream",
          "name": "stderr",
          "text": [
            "Loading…: 100%|████████████████████████████| 1/1 [00:00<00:00, 1451.82it/s]\n"
          ]
        },
        {
          "output_type": "execute_result",
          "data": {
            "text/plain": [
              "['1']"
            ]
          },
          "metadata": {},
          "execution_count": 11
        }
      ],
      "source": [
        "train_corpus = [\n",
        "    'This is the first document.',\n",
        "    'This document is the second document.',\n",
        "    'And this is the third one.',\n",
        "     'Is this the first document?',]\n",
        "test_labels = np.array(['1', '2', '3', '4'])\n",
        "train_corpus = np.array(train_corpus)\n",
        "test_corpus = ['harro first pink haha']\n",
        "model = NB()\n",
        "model.fit(train_corpus, test_labels)\n",
        "model.predict(test_corpus)"
      ]
    },
    {
      "cell_type": "code",
      "execution_count": 12,
      "metadata": {
        "colab": {
          "base_uri": "https://localhost:8080/"
        },
        "id": "_jmTZkw2lgUe",
        "outputId": "3a9d9ee9-a9d8-4aa6-f200-bc0a89c09b4b"
      },
      "outputs": [
        {
          "output_type": "stream",
          "name": "stderr",
          "text": [
            "Loading…: 100%|████████████████████████████| 3/3 [00:00<00:00, 3534.53it/s]"
          ]
        },
        {
          "output_type": "stream",
          "name": "stdout",
          "text": [
            "\n",
            "[0, 1, 0]\n"
          ]
        },
        {
          "output_type": "stream",
          "name": "stderr",
          "text": [
            "\n"
          ]
        }
      ],
      "source": [
        "# Training data\n",
        "X_train = np.array([\n",
        "    \"I love this movie\",\n",
        "    \"This movie is great\",\n",
        "    \"A movie like this is great\",\n",
        "    \"I hate this movie\",\n",
        "    \"This movie is terrible\"])\n",
        "\n",
        "# Corresponding labels\n",
        "y_train = np.array([1, 1, 1, 0, 0])  # 1 for positive sentiment, 0 for negative sentiment\n",
        "\n",
        "model = NB()\n",
        "model.fit(X_train, y_train)\n",
        "X_test = [\n",
        "    \"I love this movie terrible\", # Example of both class being viable but the second being chosen due to label eval order in NB\n",
        "    \"I hate this great movie\",\n",
        "    \"This movie is terrible\"]\n",
        "\n",
        "res = model.predict(X_test)\n",
        "print()\n",
        "print(res)"
      ]
    },
    {
      "cell_type": "markdown",
      "metadata": {
        "id": "PlHr32RYp0Fn"
      },
      "source": [
        "# K-fold for NB"
      ]
    },
    {
      "cell_type": "code",
      "execution_count": null,
      "metadata": {
        "id": "eTGtkcsZM7FP"
      },
      "outputs": [],
      "source": [
        "# TODO: No predictions given, divide by zero warnings might be the cause (Solved?)\n",
        "# TODO: Test changing the prob caluclation to be a sum of logs"
      ]
    },
    {
      "cell_type": "code",
      "execution_count": 32,
      "metadata": {
        "colab": {
          "base_uri": "https://localhost:8080/"
        },
        "id": "mVQVLywgFjE1",
        "outputId": "ecebaae2-86f9-4717-aa15-476e2f940340"
      },
      "outputs": [
        {
          "output_type": "stream",
          "name": "stderr",
          "text": [
            "Loading…: 100%|██████████████████████████| 280/280 [00:12<00:00, 22.41it/s]\n"
          ]
        },
        {
          "output_type": "stream",
          "name": "stdout",
          "text": [
            "0.5464285714285714\n",
            "\n",
            "\n",
            "Model Misses: []\n"
          ]
        },
        {
          "output_type": "stream",
          "name": "stderr",
          "text": [
            "Loading…: 100%|██████████████████████████| 139/139 [00:06<00:00, 22.17it/s]\n",
            "Loading…: 100%|██████████████████████████| 139/139 [00:07<00:00, 19.40it/s]\n",
            "Loading…:  73%|██████████████████▉       | 101/139 [00:08<00:02, 18.12it/s]<ipython-input-29-8f7cd07375b2>:60: RuntimeWarning: divide by zero encountered in log\n",
            "  p_of_y_given_x = np.log(p_of_y * p_of_x_given_y)\n",
            "Loading…: 100%|██████████████████████████| 139/139 [00:10<00:00, 13.54it/s]\n",
            "Loading…:  84%|█████████████████████▉    | 117/139 [00:03<00:00, 33.05it/s]<ipython-input-29-8f7cd07375b2>:60: RuntimeWarning: divide by zero encountered in log\n",
            "  p_of_y_given_x = np.log(p_of_y * p_of_x_given_y)\n",
            "Loading…: 100%|██████████████████████████| 139/139 [00:04<00:00, 31.90it/s]\n",
            "Loading…: 100%|██████████████████████████| 139/139 [00:06<00:00, 20.03it/s]\n",
            "Loading…:  61%|████████████████▌          | 85/139 [00:02<00:01, 29.94it/s]<ipython-input-29-8f7cd07375b2>:60: RuntimeWarning: divide by zero encountered in log\n",
            "  p_of_y_given_x = np.log(p_of_y * p_of_x_given_y)\n",
            "Loading…: 100%|██████████████████████████| 139/139 [00:04<00:00, 31.85it/s]\n",
            "Loading…:   4%|█                           | 5/139 [00:00<00:03, 42.16it/s]<ipython-input-29-8f7cd07375b2>:60: RuntimeWarning: divide by zero encountered in log\n",
            "  p_of_y_given_x = np.log(p_of_y * p_of_x_given_y)\n",
            "Loading…: 100%|██████████████████████████| 139/139 [00:05<00:00, 24.93it/s]\n",
            "Loading…:  68%|██████████████████▎        | 94/139 [00:03<00:01, 29.52it/s]<ipython-input-29-8f7cd07375b2>:60: RuntimeWarning: divide by zero encountered in log\n",
            "  p_of_y_given_x = np.log(p_of_y * p_of_x_given_y)\n",
            "Loading…: 100%|██████████████████████████| 139/139 [00:05<00:00, 26.16it/s]\n",
            "Loading…: 100%|██████████████████████████| 139/139 [00:04<00:00, 31.30it/s]\n",
            "Loading…: 100%|██████████████████████████| 139/139 [00:06<00:00, 22.33it/s]"
          ]
        },
        {
          "output_type": "stream",
          "name": "stdout",
          "text": [
            "\n",
            "Mean Error: 0.4467625899280575\n",
            "\n",
            "\n",
            "Model Misses: []\n"
          ]
        },
        {
          "output_type": "stream",
          "name": "stderr",
          "text": [
            "\n"
          ]
        }
      ],
      "source": [
        "# No preprocessing\n",
        "test_split = 0.2\n",
        "\n",
        "(training_data_split, testing_data_split, training_labels_split, testing_labels_split) = train_test_split(training_data_swapped, training_labels,  test_size = test_split, random_state=seed)\n",
        "\n",
        "model = NB()\n",
        "model.fit(training_data_split, training_labels_split)\n",
        "pred = model.predict(testing_data_split)\n",
        "print((pred == testing_labels_split).sum()/len(testing_labels_split))\n",
        "print()\n",
        "print('\\nModel Misses: {}'.format(model.no_pred))\n",
        "\n",
        "mean_error, info = k_fold_validation(training_data_swapped, training_labels)\n",
        "print()\n",
        "print('Mean Error: {}'.format(mean_error))\n",
        "print()\n",
        "print('\\nModel Misses: {}'.format(model.no_pred))"
      ]
    },
    {
      "cell_type": "code",
      "source": [
        "# With Processing\n",
        "spacy_stopwords_list = list(fr_stop) + list(en_stop)\n",
        "nltk_stopwords_list = stopwords.words('english') + stopwords.words('french')\n",
        "other_stop_words = ['http', 'https', 'www']\n",
        "stop_words = list(set().union(spacy_stopwords_list, nltk_stopwords_list, other_stop_words))\n",
        "\n",
        "processed_training_data = preprocess(training_data_swapped, stop_words = stop_words)\n",
        "\n",
        "test_split = 0.2\n",
        "\n",
        "(training_data_split, testing_data_split, training_labels_split, testing_labels_split) = train_test_split(processed_training_data, training_labels, test_size = test_split, random_state=seed)\n",
        "\n",
        "model = NB()\n",
        "model.fit(training_data_split, training_labels_split)\n",
        "pred = model.predict(testing_data_split)\n",
        "print((pred == testing_labels_split).sum()/len(testing_labels_split))\n",
        "\n",
        "mean_error, info = k_fold_validation(processed_training_data, training_labels)\n",
        "print()\n",
        "print('Mean Error: {}'.format(mean_error))\n",
        "print()\n",
        "print('\\nModel Misses: {}'.format(model.no_pred))"
      ],
      "metadata": {
        "colab": {
          "base_uri": "https://localhost:8080/"
        },
        "id": "PbhToUzaVp1x",
        "outputId": "cad6ab47-aa36-497a-d64b-eef0866d192f"
      },
      "execution_count": 37,
      "outputs": [
        {
          "output_type": "stream",
          "name": "stderr",
          "text": [
            "Loading…: 100%|██████████████████████████| 280/280 [00:06<00:00, 44.61it/s]\n"
          ]
        },
        {
          "output_type": "stream",
          "name": "stdout",
          "text": [
            "0.6357142857142857\n"
          ]
        },
        {
          "output_type": "stream",
          "name": "stderr",
          "text": [
            "Loading…: 100%|██████████████████████████| 139/139 [00:03<00:00, 42.57it/s]\n",
            "Loading…: 100%|██████████████████████████| 139/139 [00:04<00:00, 29.56it/s]\n",
            "Loading…: 100%|██████████████████████████| 139/139 [00:03<00:00, 43.15it/s]\n",
            "Loading…: 100%|██████████████████████████| 139/139 [00:03<00:00, 42.07it/s]\n",
            "Loading…: 100%|██████████████████████████| 139/139 [00:04<00:00, 31.26it/s]\n",
            "Loading…: 100%|██████████████████████████| 139/139 [00:03<00:00, 39.18it/s]\n",
            "Loading…: 100%|██████████████████████████| 139/139 [00:03<00:00, 43.57it/s]\n",
            "Loading…: 100%|██████████████████████████| 139/139 [00:08<00:00, 15.65it/s]\n",
            "Loading…: 100%|██████████████████████████| 139/139 [00:03<00:00, 43.47it/s]\n",
            "Loading…: 100%|██████████████████████████| 139/139 [00:03<00:00, 44.31it/s]"
          ]
        },
        {
          "output_type": "stream",
          "name": "stdout",
          "text": [
            "\n",
            "Mean Error: 0.3654676258992805\n",
            "\n",
            "\n",
            "Model Misses: []\n"
          ]
        },
        {
          "output_type": "stream",
          "name": "stderr",
          "text": [
            "\n"
          ]
        }
      ]
    },
    {
      "cell_type": "code",
      "source": [
        "spacy_stopwords_list = list(fr_stop) + list(en_stop)\n",
        "nltk_stopwords_list = stopwords.words('english') + stopwords.words('french')\n",
        "other_stop_words = ['http', 'https', 'www']\n",
        "stop_words = list(set().union(spacy_stopwords_list, nltk_stopwords_list, other_stop_words))\n",
        "print(len(list(set().union(spacy_stopwords_list, nltk_stopwords_list, other_stop_words))))\n",
        "print(len(list(set().union(spacy_stopwords_list))))\n",
        "print(len(list(set().union(nltk_stopwords_list))))"
      ],
      "metadata": {
        "colab": {
          "base_uri": "https://localhost:8080/"
        },
        "id": "7QELtHbx8MZR",
        "outputId": "41ee3639-e98c-4d99-bdf4-7c4091f2d823"
      },
      "execution_count": 8,
      "outputs": [
        {
          "output_type": "stream",
          "name": "stdout",
          "text": [
            "949\n",
            "825\n",
            "327\n"
          ]
        }
      ]
    },
    {
      "cell_type": "code",
      "source": [
        "lemmatized_training_data_swapped = preprocess(training_data_swapped, is_lemmatize = True)"
      ],
      "metadata": {
        "id": "suKY0YChBL-4"
      },
      "execution_count": 8,
      "outputs": []
    },
    {
      "cell_type": "code",
      "source": [
        "# With Processing\n",
        "# lemmatized_data = preprocess(training_data, regex_pattern = r\"(?u)\\b[a-z][a-z]+\\b\", stop_words = None, is_lemmatize = True)\n",
        "spacy_stopwords_list = list(fr_stop) + list(en_stop)\n",
        "nltk_stopwords_list = stopwords.words('english') + stopwords.words('french')\n",
        "other_stop_words = ['http', 'https', 'www']\n",
        "stop_words = list(set().union(spacy_stopwords_list, nltk_stopwords_list, other_stop_words))\n",
        "\n",
        "processed_training_data = preprocess(lemmatized_training_data_swapped, stop_words = stop_words)\n",
        "\n",
        "test_split = 0.2\n",
        "\n",
        "(training_data_split, testing_data_split, training_labels_split, testing_labels_split) = train_test_split(processed_training_data, training_labels,  test_size = test_split, random_state=seed)\n",
        "\n",
        "model = NB()\n",
        "model.fit(training_data_split, training_labels_split)\n",
        "pred = model.predict(testing_data_split)\n",
        "print((pred == testing_labels_split).sum()/len(testing_labels_split))\n",
        "\n",
        "mean_error, info = k_fold_validation(processed_training_data, training_labels)\n",
        "print()\n",
        "print('Mean Error: {}'.format(mean_error))\n",
        "print()\n",
        "print('\\nModel Misses: {}'.format(model.no_pred))"
      ],
      "metadata": {
        "colab": {
          "base_uri": "https://localhost:8080/"
        },
        "id": "i1udosiGb4te",
        "outputId": "3a11830f-187f-4d97-93cc-a956a6eedd05"
      },
      "execution_count": 39,
      "outputs": [
        {
          "output_type": "stream",
          "name": "stderr",
          "text": [
            "Loading…: 100%|██████████████████████████| 280/280 [00:06<00:00, 41.08it/s]\n"
          ]
        },
        {
          "output_type": "stream",
          "name": "stdout",
          "text": [
            "0.6178571428571429\n"
          ]
        },
        {
          "output_type": "stream",
          "name": "stderr",
          "text": [
            "Loading…: 100%|██████████████████████████| 139/139 [00:04<00:00, 32.49it/s]\n",
            "Loading…: 100%|██████████████████████████| 139/139 [00:02<00:00, 46.39it/s]\n",
            "Loading…: 100%|██████████████████████████| 139/139 [00:03<00:00, 43.43it/s]\n",
            "Loading…: 100%|██████████████████████████| 139/139 [00:04<00:00, 31.63it/s]\n",
            "Loading…: 100%|██████████████████████████| 139/139 [00:03<00:00, 42.29it/s]\n",
            "Loading…: 100%|██████████████████████████| 139/139 [00:03<00:00, 46.05it/s]\n",
            "Loading…: 100%|██████████████████████████| 139/139 [00:03<00:00, 44.48it/s]\n",
            "Loading…: 100%|██████████████████████████| 139/139 [00:04<00:00, 28.60it/s]\n",
            "Loading…: 100%|██████████████████████████| 139/139 [00:03<00:00, 44.50it/s]\n",
            "Loading…: 100%|██████████████████████████| 139/139 [00:03<00:00, 44.80it/s]"
          ]
        },
        {
          "output_type": "stream",
          "name": "stdout",
          "text": [
            "\n",
            "Mean Error: 0.3661870503597123\n",
            "\n",
            "\n",
            "Model Misses: []\n"
          ]
        },
        {
          "output_type": "stream",
          "name": "stderr",
          "text": [
            "\n"
          ]
        }
      ]
    },
    {
      "cell_type": "code",
      "source": [
        "from sklearn.naive_bayes import MultinomialNB\n",
        "\n",
        "spacy_stopwords_list = list(fr_stop) + list(en_stop)\n",
        "nltk_stopwords_list = stopwords.words('english') + stopwords.words('french')\n",
        "other_stop_words = ['http', 'https', 'www']\n",
        "stop_words = list(set().union(spacy_stopwords_list, nltk_stopwords_list, other_stop_words))\n",
        "\n",
        "# processed_training_data = preprocess(lemmatized_training_data, regex_pattern = r\"(?u)\\b[a-z][a-z]+\\b\", stop_words = stop_words)\n",
        "processed_training_data = preprocess(training_data, regex_pattern = r\"(?u)\\b[a-z][a-z]+\\b\", stop_words = stop_words)\n",
        "\n",
        "test_split = 0.1\n",
        "\n",
        "(training_data_split, testing_data_split, training_labels_split, testing_labels_split) = train_test_split(processed_training_data, training_labels,  test_size = int(len(processed_training_data)*test_split), random_state=seed)\n",
        "\n",
        "for mf in [500, 1000, 2000, 3000, 4000, 5000]:\n",
        "  for ng in [(1,1), (1,2), (1,3), (1,5)]:\n",
        "    vectorizer = CountVectorizer(binary=True, max_features = mf, token_pattern = r\"(?u)\\b[a-z][a-z]+\\b\", ngram_range=ng)\n",
        "    x_train = np.array(vectorizer.fit_transform(training_data_split).todense())\n",
        "    x_test  = np.array(vectorizer.transform(testing_data_split).todense())\n",
        "\n",
        "\n",
        "    clf = MultinomialNB()\n",
        "    clf.fit(x_train, training_labels_split)\n",
        "    print(mf, ng)\n",
        "    print(clf.score(x_test, testing_labels_split))"
      ],
      "metadata": {
        "id": "ncNqQPb7Et1G"
      },
      "execution_count": null,
      "outputs": []
    },
    {
      "cell_type": "code",
      "source": [
        "from sklearn.linear_model import LogisticRegression\n",
        "from sklearn.naive_bayes import MultinomialNB\n",
        "from sklearn.pipeline import Pipeline\n",
        "from sklearn.model_selection import cross_val_score, KFold, GridSearchCV\n",
        "from sklearn.feature_extraction.text import TfidfVectorizer\n",
        "\n",
        "spacy_stopwords_list = list(fr_stop) + list(en_stop)\n",
        "nltk_stopwords_list = stopwords.words('english') + stopwords.words('french')\n",
        "other_stop_words = ['http', 'https', 'www']\n",
        "stop_words = list(set().union(spacy_stopwords_list, nltk_stopwords_list, other_stop_words))\n",
        "\n",
        "processed_training_data = preprocess(lemmatized_training_data, stop_words = stop_words)\n",
        "# processed_training_data = preprocess(training_data, stop_words = stop_words)\n",
        "\n",
        "model = LogisticRegression()\n",
        "# k_fold = KFold(n_splits=10, shuffle=True, random_state=seed)  # Define number of folds (k) and random state\n",
        "\n",
        "pipeline = Pipeline([\n",
        "    ('vectorizer', None),\n",
        "    ('model', model)\n",
        "])\n",
        "\n",
        "# Define the parameter grid with conditional hyperparameters for both vectorizers\n",
        "param_grid = [\n",
        "    {\n",
        "        'vectorizer': [TfidfVectorizer(token_pattern = r\"(?u)\\b[a-z][a-z]+\\b\")],\n",
        "        'vectorizer__max_features': [None, 3000, 4000],\n",
        "        'vectorizer__max_df': [0.5, 1.0],  # Example TfidfVectorizer hyperparameter\n",
        "        'vectorizer__min_df': [1, 2],          # Example TfidfVectorizer hyperparameter\n",
        "        'vectorizer__ngram_range': [(1,1), (1,2), (1,3)],\n",
        "        'model__C': [0.1, 1, 10],\n",
        "    },\n",
        "    {\n",
        "        'vectorizer': [CountVectorizer(token_pattern = r\"(?u)\\b[a-z][a-z]+\\b\")],\n",
        "        'vectorizer__max_features': [None, 3000, 4000],\n",
        "        'vectorizer__ngram_range': [(1,1), (1,2), (1,3)],\n",
        "        'vectorizer__binary': [True, False],\n",
        "        'vectorizer__max_df': [0.5, 1.0],\n",
        "        'vectorizer__min_df': [1, 2],\n",
        "        'model__C': [0.1, 1, 10],\n",
        "    }\n",
        "]\n",
        "\n",
        "grid_search = GridSearchCV(estimator=pipeline, param_grid=param_grid, cv=10, scoring='accuracy')\n",
        "grid_search.fit(processed_training_data, training_labels)\n",
        "\n",
        "# Get the best parameters and best score\n",
        "print(\"Best Parameters:\", grid_search.best_params_)\n",
        "print(\"Best Score:\", grid_search.best_score_)\n"
      ],
      "metadata": {
        "id": "jPORx40j1mdE"
      },
      "execution_count": null,
      "outputs": []
    },
    {
      "cell_type": "code",
      "source": [
        "print(\"Best Parameters:\", grid_search.best_params_)\n",
        "print(\"Best Score:\", grid_search.best_score_)"
      ],
      "metadata": {
        "colab": {
          "base_uri": "https://localhost:8080/"
        },
        "id": "IyYuopawIUT3",
        "outputId": "03879fe1-9fcb-49df-b74f-6b740a04b259"
      },
      "execution_count": 38,
      "outputs": [
        {
          "output_type": "stream",
          "name": "stdout",
          "text": [
            "Best Parameters: {'model__C': 10, 'vectorizer': TfidfVectorizer(max_df=0.5, max_features=4000,\n",
            "                token_pattern='(?u)\\\\b[a-z][a-z]+\\\\b'), 'vectorizer__max_df': 0.5, 'vectorizer__max_features': 4000, 'vectorizer__min_df': 1, 'vectorizer__ngram_range': (1, 1)}\n",
            "Best Score: 0.6961776753712238\n"
          ]
        }
      ]
    },
    {
      "cell_type": "code",
      "source": [
        "from sklearn.linear_model import LogisticRegression\n",
        "from sklearn.naive_bayes import MultinomialNB\n",
        "from sklearn.pipeline import Pipeline\n",
        "from sklearn.model_selection import cross_val_score, KFold, GridSearchCV\n",
        "from sklearn.feature_extraction.text import TfidfVectorizer\n",
        "\n",
        "spacy_stopwords_list = list(fr_stop) + list(en_stop)\n",
        "nltk_stopwords_list = stopwords.words('english') + stopwords.words('french')\n",
        "other_stop_words = ['http', 'https', 'www']\n",
        "stop_words = list(set().union(spacy_stopwords_list, nltk_stopwords_list, other_stop_words))\n",
        "\n",
        "processed_training_data_1 = preprocess(lemmatized_training_data, stop_words = stop_words)\n",
        "processed_training_data_2 = preprocess(training_data, stop_words = stop_words)\n",
        "\n",
        "pipeline = Pipeline([\n",
        "    ('vectorizer', TfidfVectorizer(token_pattern = r\"(?u)\\b[a-z][a-z]+\\b\", max_df = 0.5, max_features = 4000, min_df= 1)),\n",
        "    ('model', LogisticRegression(random_state = seed, max_iter = 1000))\n",
        "])\n",
        "\n",
        "param_grid = [\n",
        "\n",
        "    {\n",
        "        'model__C': [1e-3, 1e-1, 1, 10, 1e2],\n",
        "        'model__solver' : ['lbfgs', 'liblinear', 'newton-cg', 'newton-cholesky', 'sag', 'saga']\n",
        "    }\n",
        "]\n",
        "\n",
        "for x_train in (processed_training_data_1, processed_training_data_2):\n",
        "  grid_search = GridSearchCV(estimator=pipeline, param_grid=param_grid, cv=5, scoring='accuracy')\n",
        "  grid_search.fit(x_train, training_labels)\n",
        "\n",
        "  # Get the best parameters and best score\n",
        "  print(\"Best Parameters:\", grid_search.best_params_)\n",
        "  print(\"Best Score:\", grid_search.best_score_)\n"
      ],
      "metadata": {
        "colab": {
          "base_uri": "https://localhost:8080/"
        },
        "id": "hFtpvwqGKap1",
        "outputId": "28505fbf-a008-4830-8561-02cf5708801b"
      },
      "execution_count": 41,
      "outputs": [
        {
          "output_type": "stream",
          "name": "stdout",
          "text": [
            "Best Parameters: {'model__C': 10, 'model__solver': 'lbfgs'}\n",
            "Best Score: 0.6961776753712238\n",
            "Best Parameters: {'model__C': 10, 'model__solver': 'liblinear'}\n",
            "Best Score: 0.6890527393753201\n"
          ]
        }
      ]
    },
    {
      "cell_type": "code",
      "source": [
        "from sklearn.linear_model import LogisticRegression\n",
        "from sklearn.naive_bayes import MultinomialNB\n",
        "from sklearn.pipeline import Pipeline\n",
        "from sklearn.model_selection import cross_val_score, KFold, GridSearchCV\n",
        "from sklearn.feature_extraction.text import TfidfVectorizer\n",
        "\n",
        "spacy_stopwords_list = list(fr_stop) + list(en_stop)\n",
        "nltk_stopwords_list = stopwords.words('english') + stopwords.words('french')\n",
        "other_stop_words = ['http', 'https', 'www']\n",
        "stop_words = list(set().union(spacy_stopwords_list, nltk_stopwords_list, other_stop_words))\n",
        "\n",
        "processed_training_data = preprocess(lemmatized_training_data_swapped, stop_words = stop_words)\n",
        "# processed_training_data = preprocess(training_data, stop_words = stop_words)\n",
        "\n",
        "model = LogisticRegression()\n",
        "# k_fold = KFold(n_splits=10, shuffle=True, random_state=seed)  # Define number of folds (k) and random state\n",
        "\n",
        "pipeline = Pipeline([\n",
        "    ('vectorizer', None),\n",
        "    ('model', model)\n",
        "])\n",
        "\n",
        "# Define the parameter grid with conditional hyperparameters for both vectorizers\n",
        "param_grid = [\n",
        "    {\n",
        "        'vectorizer': [TfidfVectorizer(token_pattern = r\"(?u)\\b[a-z][a-z]+\\b\")],\n",
        "        'vectorizer__max_features': [None, 3000, 4000],\n",
        "        'vectorizer__max_df': [0.5, 1.0],  # Example TfidfVectorizer hyperparameter\n",
        "        'vectorizer__min_df': [1, 2],          # Example TfidfVectorizer hyperparameter\n",
        "        'vectorizer__ngram_range': [(1,1), (1,2), (1,3)],\n",
        "    },\n",
        "    {\n",
        "        'vectorizer': [CountVectorizer(token_pattern = r\"(?u)\\b[a-z][a-z]+\\b\")],\n",
        "        'vectorizer__max_features': [None, 3000, 4000],\n",
        "        'vectorizer__ngram_range': [(1,1), (1,2), (1,3)],\n",
        "        'vectorizer__binary': [True, False],\n",
        "        'vectorizer__max_df': [0.5, 1.0],\n",
        "        'vectorizer__min_df': [1, 2],\n",
        "    }\n",
        "]\n",
        "\n",
        "grid_search = GridSearchCV(estimator=pipeline, param_grid=param_grid, cv=10, scoring='accuracy')\n",
        "grid_search.fit(processed_training_data, training_labels)\n",
        "\n",
        "# Get the best parameters and best score\n",
        "print(\"Best Parameters:\", grid_search.best_params_)\n",
        "print(\"Best Score:\", grid_search.best_score_)\n"
      ],
      "metadata": {
        "colab": {
          "base_uri": "https://localhost:8080/"
        },
        "id": "6rY5PXTxM9DN",
        "outputId": "dc4f5747-9a52-450e-c2ea-f0d4a6458d9b"
      },
      "execution_count": 31,
      "outputs": [
        {
          "output_type": "stream",
          "name": "stdout",
          "text": [
            "Best Parameters: {'vectorizer': TfidfVectorizer(max_df=0.5, min_df=2, token_pattern='(?u)\\\\b[a-z][a-z]+\\\\b'), 'vectorizer__max_df': 0.5, 'vectorizer__max_features': None, 'vectorizer__min_df': 2, 'vectorizer__ngram_range': (1, 1)}\n",
            "Best Score: 0.6783077316948285\n"
          ]
        }
      ]
    },
    {
      "cell_type": "code",
      "source": [
        "from sklearn.linear_model import LogisticRegression\n",
        "from sklearn.naive_bayes import MultinomialNB\n",
        "from sklearn.pipeline import Pipeline\n",
        "from sklearn.model_selection import cross_val_score, KFold, GridSearchCV\n",
        "from sklearn.feature_extraction.text import TfidfVectorizer\n",
        "\n",
        "spacy_stopwords_list = list(fr_stop) + list(en_stop)\n",
        "nltk_stopwords_list = stopwords.words('english') + stopwords.words('french')\n",
        "other_stop_words = ['http', 'https', 'www']\n",
        "stop_words = list(set().union(spacy_stopwords_list, nltk_stopwords_list, other_stop_words))\n",
        "\n",
        "processed_training_data_1 = preprocess(lemmatized_training_data_swapped, stop_words = stop_words)\n",
        "processed_training_data_2 = preprocess(training_data_swapped, stop_words = stop_words)\n",
        "\n",
        "pipeline = Pipeline([\n",
        "    ('vectorizer', TfidfVectorizer(max_df=0.5, min_df=2, token_pattern='(?u)\\\\b[a-z][a-z]+\\\\b')),\n",
        "    ('model', LogisticRegression(random_state = seed, max_iter = 1000))\n",
        "])\n",
        "\n",
        "param_grid = [\n",
        "\n",
        "    {\n",
        "        'model__C': [1e-3, 1e-1, 1, 10, 1e2],\n",
        "        'model__solver' : ['lbfgs', 'liblinear', 'newton-cg', 'newton-cholesky', 'sag', 'saga']\n",
        "    }\n",
        "]\n",
        "\n",
        "for x_train in (processed_training_data_1, processed_training_data_2):\n",
        "  grid_search = GridSearchCV(estimator=pipeline, param_grid=param_grid, cv=10, scoring='accuracy')\n",
        "  grid_search.fit(x_train, training_labels)\n",
        "\n",
        "  # Get the best parameters and best score\n",
        "  print(\"Best Parameters:\", grid_search.best_params_)\n",
        "  print(\"Best Score:\", grid_search.best_score_)\n"
      ],
      "metadata": {
        "colab": {
          "base_uri": "https://localhost:8080/"
        },
        "id": "5hzbOSbqQTzu",
        "outputId": "a3bd5912-b39d-4428-f4a8-2e596b5608ea"
      },
      "execution_count": 33,
      "outputs": [
        {
          "output_type": "stream",
          "name": "stdout",
          "text": [
            "Best Parameters: {'model__C': 10, 'model__solver': 'liblinear'}\n",
            "Best Score: 0.6947491039426523\n",
            "Best Parameters: {'model__C': 10, 'model__solver': 'liblinear'}\n",
            "Best Score: 0.6997721454173067\n"
          ]
        }
      ]
    },
    {
      "cell_type": "code",
      "source": [
        "from sklearn.linear_model import LogisticRegression\n",
        "from sklearn.naive_bayes import MultinomialNB\n",
        "from sklearn.pipeline import Pipeline\n",
        "from sklearn.model_selection import cross_val_score, KFold, GridSearchCV\n",
        "from sklearn.feature_extraction.text import TfidfVectorizer\n",
        "\n",
        "spacy_stopwords_list = list(fr_stop) + list(en_stop)\n",
        "nltk_stopwords_list = stopwords.words('english') + stopwords.words('french')\n",
        "other_stop_words = ['http', 'https', 'www']\n",
        "stop_words = list(set().union(spacy_stopwords_list, nltk_stopwords_list, other_stop_words))\n",
        "\n",
        "processed_training_data = preprocess(lemmatized_training_data_swapped, stop_words = stop_words)\n",
        "# processed_training_data = preprocess(training_data, stop_words = stop_words)\n",
        "\n",
        "model = LogisticRegression()\n",
        "# k_fold = KFold(n_splits=10, shuffle=True, random_state=seed)  # Define number of folds (k) and random state\n",
        "\n",
        "pipeline = Pipeline([\n",
        "    ('vectorizer', None),\n",
        "    ('model', model)\n",
        "])\n",
        "\n",
        "# Define the parameter grid with conditional hyperparameters for both vectorizers\n",
        "param_grid = [\n",
        "    {\n",
        "        'vectorizer': [TfidfVectorizer(token_pattern = r\"(?u)\\b[a-z][a-z]+\\b\")],\n",
        "        'vectorizer__max_features': [None, 3000, 4000],\n",
        "        'vectorizer__max_df': [0.5, 1.0],  # Example TfidfVectorizer hyperparameter\n",
        "        'vectorizer__min_df': [1, 2],          # Example TfidfVectorizer hyperparameter\n",
        "        'vectorizer__ngram_range': [(1,1), (1,2), (1,3)],\n",
        "    },\n",
        "    {\n",
        "        'vectorizer': [CountVectorizer(token_pattern = r\"(?u)\\b[a-z][a-z]+\\b\")],\n",
        "        'vectorizer__max_features': [None, 3000, 4000],\n",
        "        'vectorizer__ngram_range': [(1,1), (1,2), (1,3)],\n",
        "        'vectorizer__binary': [True, False],\n",
        "        'vectorizer__max_df': [0.5, 1.0],\n",
        "        'vectorizer__min_df': [1, 2],\n",
        "    }\n",
        "]\n",
        "\n",
        "grid_search = GridSearchCV(estimator=pipeline, param_grid=param_grid, cv=10, scoring='accuracy')\n",
        "grid_search.fit(processed_training_data, training_labels)\n",
        "\n",
        "# Get the best parameters and best score\n",
        "print(\"Best Parameters:\", grid_search.best_params_)\n",
        "print(\"Best Score:\", grid_search.best_score_)\n"
      ],
      "metadata": {
        "colab": {
          "base_uri": "https://localhost:8080/",
          "height": 356
        },
        "id": "DrqV2-3LGZH2",
        "outputId": "a6f93a34-c076-40ec-d757-211922cecd3a"
      },
      "execution_count": 28,
      "outputs": [
        {
          "output_type": "error",
          "ename": "KeyboardInterrupt",
          "evalue": "",
          "traceback": [
            "\u001b[0;31m---------------------------------------------------------------------------\u001b[0m",
            "\u001b[0;31mKeyboardInterrupt\u001b[0m                         Traceback (most recent call last)",
            "\u001b[0;32m<ipython-input-28-d1bc048d37d7>\u001b[0m in \u001b[0;36m<cell line: 43>\u001b[0;34m()\u001b[0m\n\u001b[1;32m     41\u001b[0m \u001b[0;34m\u001b[0m\u001b[0m\n\u001b[1;32m     42\u001b[0m \u001b[0mgrid_search\u001b[0m \u001b[0;34m=\u001b[0m \u001b[0mGridSearchCV\u001b[0m\u001b[0;34m(\u001b[0m\u001b[0mestimator\u001b[0m\u001b[0;34m=\u001b[0m\u001b[0mpipeline\u001b[0m\u001b[0;34m,\u001b[0m \u001b[0mparam_grid\u001b[0m\u001b[0;34m=\u001b[0m\u001b[0mparam_grid\u001b[0m\u001b[0;34m,\u001b[0m \u001b[0mcv\u001b[0m\u001b[0;34m=\u001b[0m\u001b[0;36m10\u001b[0m\u001b[0;34m,\u001b[0m \u001b[0mscoring\u001b[0m\u001b[0;34m=\u001b[0m\u001b[0;34m'accuracy'\u001b[0m\u001b[0;34m)\u001b[0m\u001b[0;34m\u001b[0m\u001b[0;34m\u001b[0m\u001b[0m\n\u001b[0;32m---> 43\u001b[0;31m \u001b[0mgrid_search\u001b[0m\u001b[0;34m.\u001b[0m\u001b[0mfit\u001b[0m\u001b[0;34m(\u001b[0m\u001b[0mprocessed_training_data\u001b[0m\u001b[0;34m,\u001b[0m \u001b[0mtraining_labels\u001b[0m\u001b[0;34m)\u001b[0m\u001b[0;34m\u001b[0m\u001b[0;34m\u001b[0m\u001b[0m\n\u001b[0m\u001b[1;32m     44\u001b[0m \u001b[0;34m\u001b[0m\u001b[0m\n\u001b[1;32m     45\u001b[0m \u001b[0;31m# Get the best parameters and best score\u001b[0m\u001b[0;34m\u001b[0m\u001b[0;34m\u001b[0m\u001b[0m\n",
            "\u001b[0;32m/usr/local/lib/python3.10/dist-packages/sklearn/model_selection/_search.py\u001b[0m in \u001b[0;36mfit\u001b[0;34m(self, X, y, groups, **fit_params)\u001b[0m\n\u001b[1;32m    872\u001b[0m                 \u001b[0;32mreturn\u001b[0m \u001b[0mresults\u001b[0m\u001b[0;34m\u001b[0m\u001b[0;34m\u001b[0m\u001b[0m\n\u001b[1;32m    873\u001b[0m \u001b[0;34m\u001b[0m\u001b[0m\n\u001b[0;32m--> 874\u001b[0;31m             \u001b[0mself\u001b[0m\u001b[0;34m.\u001b[0m\u001b[0m_run_search\u001b[0m\u001b[0;34m(\u001b[0m\u001b[0mevaluate_candidates\u001b[0m\u001b[0;34m)\u001b[0m\u001b[0;34m\u001b[0m\u001b[0;34m\u001b[0m\u001b[0m\n\u001b[0m\u001b[1;32m    875\u001b[0m \u001b[0;34m\u001b[0m\u001b[0m\n\u001b[1;32m    876\u001b[0m             \u001b[0;31m# multimetric is determined here because in the case of a callable\u001b[0m\u001b[0;34m\u001b[0m\u001b[0;34m\u001b[0m\u001b[0m\n",
            "\u001b[0;32m/usr/local/lib/python3.10/dist-packages/sklearn/model_selection/_search.py\u001b[0m in \u001b[0;36m_run_search\u001b[0;34m(self, evaluate_candidates)\u001b[0m\n\u001b[1;32m   1386\u001b[0m     \u001b[0;32mdef\u001b[0m \u001b[0m_run_search\u001b[0m\u001b[0;34m(\u001b[0m\u001b[0mself\u001b[0m\u001b[0;34m,\u001b[0m \u001b[0mevaluate_candidates\u001b[0m\u001b[0;34m)\u001b[0m\u001b[0;34m:\u001b[0m\u001b[0;34m\u001b[0m\u001b[0;34m\u001b[0m\u001b[0m\n\u001b[1;32m   1387\u001b[0m         \u001b[0;34m\"\"\"Search all candidates in param_grid\"\"\"\u001b[0m\u001b[0;34m\u001b[0m\u001b[0;34m\u001b[0m\u001b[0m\n\u001b[0;32m-> 1388\u001b[0;31m         \u001b[0mevaluate_candidates\u001b[0m\u001b[0;34m(\u001b[0m\u001b[0mParameterGrid\u001b[0m\u001b[0;34m(\u001b[0m\u001b[0mself\u001b[0m\u001b[0;34m.\u001b[0m\u001b[0mparam_grid\u001b[0m\u001b[0;34m)\u001b[0m\u001b[0;34m)\u001b[0m\u001b[0;34m\u001b[0m\u001b[0;34m\u001b[0m\u001b[0m\n\u001b[0m\u001b[1;32m   1389\u001b[0m \u001b[0;34m\u001b[0m\u001b[0m\n\u001b[1;32m   1390\u001b[0m \u001b[0;34m\u001b[0m\u001b[0m\n",
            "\u001b[0;32m/usr/local/lib/python3.10/dist-packages/sklearn/model_selection/_search.py\u001b[0m in \u001b[0;36mevaluate_candidates\u001b[0;34m(candidate_params, cv, more_results)\u001b[0m\n\u001b[1;32m    819\u001b[0m                     )\n\u001b[1;32m    820\u001b[0m \u001b[0;34m\u001b[0m\u001b[0m\n\u001b[0;32m--> 821\u001b[0;31m                 out = parallel(\n\u001b[0m\u001b[1;32m    822\u001b[0m                     delayed(_fit_and_score)(\n\u001b[1;32m    823\u001b[0m                         \u001b[0mclone\u001b[0m\u001b[0;34m(\u001b[0m\u001b[0mbase_estimator\u001b[0m\u001b[0;34m)\u001b[0m\u001b[0;34m,\u001b[0m\u001b[0;34m\u001b[0m\u001b[0;34m\u001b[0m\u001b[0m\n",
            "\u001b[0;32m/usr/local/lib/python3.10/dist-packages/sklearn/utils/parallel.py\u001b[0m in \u001b[0;36m__call__\u001b[0;34m(self, iterable)\u001b[0m\n\u001b[1;32m     61\u001b[0m             \u001b[0;32mfor\u001b[0m \u001b[0mdelayed_func\u001b[0m\u001b[0;34m,\u001b[0m \u001b[0margs\u001b[0m\u001b[0;34m,\u001b[0m \u001b[0mkwargs\u001b[0m \u001b[0;32min\u001b[0m \u001b[0miterable\u001b[0m\u001b[0;34m\u001b[0m\u001b[0;34m\u001b[0m\u001b[0m\n\u001b[1;32m     62\u001b[0m         )\n\u001b[0;32m---> 63\u001b[0;31m         \u001b[0;32mreturn\u001b[0m \u001b[0msuper\u001b[0m\u001b[0;34m(\u001b[0m\u001b[0;34m)\u001b[0m\u001b[0;34m.\u001b[0m\u001b[0m__call__\u001b[0m\u001b[0;34m(\u001b[0m\u001b[0miterable_with_config\u001b[0m\u001b[0;34m)\u001b[0m\u001b[0;34m\u001b[0m\u001b[0;34m\u001b[0m\u001b[0m\n\u001b[0m\u001b[1;32m     64\u001b[0m \u001b[0;34m\u001b[0m\u001b[0m\n\u001b[1;32m     65\u001b[0m \u001b[0;34m\u001b[0m\u001b[0m\n",
            "\u001b[0;32m/usr/local/lib/python3.10/dist-packages/joblib/parallel.py\u001b[0m in \u001b[0;36m__call__\u001b[0;34m(self, iterable)\u001b[0m\n\u001b[1;32m   1861\u001b[0m             \u001b[0moutput\u001b[0m \u001b[0;34m=\u001b[0m \u001b[0mself\u001b[0m\u001b[0;34m.\u001b[0m\u001b[0m_get_sequential_output\u001b[0m\u001b[0;34m(\u001b[0m\u001b[0miterable\u001b[0m\u001b[0;34m)\u001b[0m\u001b[0;34m\u001b[0m\u001b[0;34m\u001b[0m\u001b[0m\n\u001b[1;32m   1862\u001b[0m             \u001b[0mnext\u001b[0m\u001b[0;34m(\u001b[0m\u001b[0moutput\u001b[0m\u001b[0;34m)\u001b[0m\u001b[0;34m\u001b[0m\u001b[0;34m\u001b[0m\u001b[0m\n\u001b[0;32m-> 1863\u001b[0;31m             \u001b[0;32mreturn\u001b[0m \u001b[0moutput\u001b[0m \u001b[0;32mif\u001b[0m \u001b[0mself\u001b[0m\u001b[0;34m.\u001b[0m\u001b[0mreturn_generator\u001b[0m \u001b[0;32melse\u001b[0m \u001b[0mlist\u001b[0m\u001b[0;34m(\u001b[0m\u001b[0moutput\u001b[0m\u001b[0;34m)\u001b[0m\u001b[0;34m\u001b[0m\u001b[0;34m\u001b[0m\u001b[0m\n\u001b[0m\u001b[1;32m   1864\u001b[0m \u001b[0;34m\u001b[0m\u001b[0m\n\u001b[1;32m   1865\u001b[0m         \u001b[0;31m# Let's create an ID that uniquely identifies the current call. If the\u001b[0m\u001b[0;34m\u001b[0m\u001b[0;34m\u001b[0m\u001b[0m\n",
            "\u001b[0;32m/usr/local/lib/python3.10/dist-packages/joblib/parallel.py\u001b[0m in \u001b[0;36m_get_sequential_output\u001b[0;34m(self, iterable)\u001b[0m\n\u001b[1;32m   1790\u001b[0m                 \u001b[0mself\u001b[0m\u001b[0;34m.\u001b[0m\u001b[0mn_dispatched_batches\u001b[0m \u001b[0;34m+=\u001b[0m \u001b[0;36m1\u001b[0m\u001b[0;34m\u001b[0m\u001b[0;34m\u001b[0m\u001b[0m\n\u001b[1;32m   1791\u001b[0m                 \u001b[0mself\u001b[0m\u001b[0;34m.\u001b[0m\u001b[0mn_dispatched_tasks\u001b[0m \u001b[0;34m+=\u001b[0m \u001b[0;36m1\u001b[0m\u001b[0;34m\u001b[0m\u001b[0;34m\u001b[0m\u001b[0m\n\u001b[0;32m-> 1792\u001b[0;31m                 \u001b[0mres\u001b[0m \u001b[0;34m=\u001b[0m \u001b[0mfunc\u001b[0m\u001b[0;34m(\u001b[0m\u001b[0;34m*\u001b[0m\u001b[0margs\u001b[0m\u001b[0;34m,\u001b[0m \u001b[0;34m**\u001b[0m\u001b[0mkwargs\u001b[0m\u001b[0;34m)\u001b[0m\u001b[0;34m\u001b[0m\u001b[0;34m\u001b[0m\u001b[0m\n\u001b[0m\u001b[1;32m   1793\u001b[0m                 \u001b[0mself\u001b[0m\u001b[0;34m.\u001b[0m\u001b[0mn_completed_tasks\u001b[0m \u001b[0;34m+=\u001b[0m \u001b[0;36m1\u001b[0m\u001b[0;34m\u001b[0m\u001b[0;34m\u001b[0m\u001b[0m\n\u001b[1;32m   1794\u001b[0m                 \u001b[0mself\u001b[0m\u001b[0;34m.\u001b[0m\u001b[0mprint_progress\u001b[0m\u001b[0;34m(\u001b[0m\u001b[0;34m)\u001b[0m\u001b[0;34m\u001b[0m\u001b[0;34m\u001b[0m\u001b[0m\n",
            "\u001b[0;32m/usr/local/lib/python3.10/dist-packages/sklearn/utils/parallel.py\u001b[0m in \u001b[0;36m__call__\u001b[0;34m(self, *args, **kwargs)\u001b[0m\n\u001b[1;32m    121\u001b[0m             \u001b[0mconfig\u001b[0m \u001b[0;34m=\u001b[0m \u001b[0;34m{\u001b[0m\u001b[0;34m}\u001b[0m\u001b[0;34m\u001b[0m\u001b[0;34m\u001b[0m\u001b[0m\n\u001b[1;32m    122\u001b[0m         \u001b[0;32mwith\u001b[0m \u001b[0mconfig_context\u001b[0m\u001b[0;34m(\u001b[0m\u001b[0;34m**\u001b[0m\u001b[0mconfig\u001b[0m\u001b[0;34m)\u001b[0m\u001b[0;34m:\u001b[0m\u001b[0;34m\u001b[0m\u001b[0;34m\u001b[0m\u001b[0m\n\u001b[0;32m--> 123\u001b[0;31m             \u001b[0;32mreturn\u001b[0m \u001b[0mself\u001b[0m\u001b[0;34m.\u001b[0m\u001b[0mfunction\u001b[0m\u001b[0;34m(\u001b[0m\u001b[0;34m*\u001b[0m\u001b[0margs\u001b[0m\u001b[0;34m,\u001b[0m \u001b[0;34m**\u001b[0m\u001b[0mkwargs\u001b[0m\u001b[0;34m)\u001b[0m\u001b[0;34m\u001b[0m\u001b[0;34m\u001b[0m\u001b[0m\n\u001b[0m",
            "\u001b[0;32m/usr/local/lib/python3.10/dist-packages/sklearn/model_selection/_validation.py\u001b[0m in \u001b[0;36m_fit_and_score\u001b[0;34m(estimator, X, y, scorer, train, test, verbose, parameters, fit_params, return_train_score, return_parameters, return_n_test_samples, return_times, return_estimator, split_progress, candidate_progress, error_score)\u001b[0m\n\u001b[1;32m    684\u001b[0m             \u001b[0mestimator\u001b[0m\u001b[0;34m.\u001b[0m\u001b[0mfit\u001b[0m\u001b[0;34m(\u001b[0m\u001b[0mX_train\u001b[0m\u001b[0;34m,\u001b[0m \u001b[0;34m**\u001b[0m\u001b[0mfit_params\u001b[0m\u001b[0;34m)\u001b[0m\u001b[0;34m\u001b[0m\u001b[0;34m\u001b[0m\u001b[0m\n\u001b[1;32m    685\u001b[0m         \u001b[0;32melse\u001b[0m\u001b[0;34m:\u001b[0m\u001b[0;34m\u001b[0m\u001b[0;34m\u001b[0m\u001b[0m\n\u001b[0;32m--> 686\u001b[0;31m             \u001b[0mestimator\u001b[0m\u001b[0;34m.\u001b[0m\u001b[0mfit\u001b[0m\u001b[0;34m(\u001b[0m\u001b[0mX_train\u001b[0m\u001b[0;34m,\u001b[0m \u001b[0my_train\u001b[0m\u001b[0;34m,\u001b[0m \u001b[0;34m**\u001b[0m\u001b[0mfit_params\u001b[0m\u001b[0;34m)\u001b[0m\u001b[0;34m\u001b[0m\u001b[0;34m\u001b[0m\u001b[0m\n\u001b[0m\u001b[1;32m    687\u001b[0m \u001b[0;34m\u001b[0m\u001b[0m\n\u001b[1;32m    688\u001b[0m     \u001b[0;32mexcept\u001b[0m \u001b[0mException\u001b[0m\u001b[0;34m:\u001b[0m\u001b[0;34m\u001b[0m\u001b[0;34m\u001b[0m\u001b[0m\n",
            "\u001b[0;32m/usr/local/lib/python3.10/dist-packages/sklearn/pipeline.py\u001b[0m in \u001b[0;36mfit\u001b[0;34m(self, X, y, **fit_params)\u001b[0m\n\u001b[1;32m    403\u001b[0m             \u001b[0;32mif\u001b[0m \u001b[0mself\u001b[0m\u001b[0;34m.\u001b[0m\u001b[0m_final_estimator\u001b[0m \u001b[0;34m!=\u001b[0m \u001b[0;34m\"passthrough\"\u001b[0m\u001b[0;34m:\u001b[0m\u001b[0;34m\u001b[0m\u001b[0;34m\u001b[0m\u001b[0m\n\u001b[1;32m    404\u001b[0m                 \u001b[0mfit_params_last_step\u001b[0m \u001b[0;34m=\u001b[0m \u001b[0mfit_params_steps\u001b[0m\u001b[0;34m[\u001b[0m\u001b[0mself\u001b[0m\u001b[0;34m.\u001b[0m\u001b[0msteps\u001b[0m\u001b[0;34m[\u001b[0m\u001b[0;34m-\u001b[0m\u001b[0;36m1\u001b[0m\u001b[0;34m]\u001b[0m\u001b[0;34m[\u001b[0m\u001b[0;36m0\u001b[0m\u001b[0;34m]\u001b[0m\u001b[0;34m]\u001b[0m\u001b[0;34m\u001b[0m\u001b[0;34m\u001b[0m\u001b[0m\n\u001b[0;32m--> 405\u001b[0;31m                 \u001b[0mself\u001b[0m\u001b[0;34m.\u001b[0m\u001b[0m_final_estimator\u001b[0m\u001b[0;34m.\u001b[0m\u001b[0mfit\u001b[0m\u001b[0;34m(\u001b[0m\u001b[0mXt\u001b[0m\u001b[0;34m,\u001b[0m \u001b[0my\u001b[0m\u001b[0;34m,\u001b[0m \u001b[0;34m**\u001b[0m\u001b[0mfit_params_last_step\u001b[0m\u001b[0;34m)\u001b[0m\u001b[0;34m\u001b[0m\u001b[0;34m\u001b[0m\u001b[0m\n\u001b[0m\u001b[1;32m    406\u001b[0m \u001b[0;34m\u001b[0m\u001b[0m\n\u001b[1;32m    407\u001b[0m         \u001b[0;32mreturn\u001b[0m \u001b[0mself\u001b[0m\u001b[0;34m\u001b[0m\u001b[0;34m\u001b[0m\u001b[0m\n",
            "\u001b[0;32m/usr/local/lib/python3.10/dist-packages/sklearn/linear_model/_logistic.py\u001b[0m in \u001b[0;36mfit\u001b[0;34m(self, X, y, sample_weight)\u001b[0m\n\u001b[1;32m   1289\u001b[0m             \u001b[0mn_threads\u001b[0m \u001b[0;34m=\u001b[0m \u001b[0;36m1\u001b[0m\u001b[0;34m\u001b[0m\u001b[0;34m\u001b[0m\u001b[0m\n\u001b[1;32m   1290\u001b[0m \u001b[0;34m\u001b[0m\u001b[0m\n\u001b[0;32m-> 1291\u001b[0;31m         fold_coefs_ = Parallel(n_jobs=self.n_jobs, verbose=self.verbose, prefer=prefer)(\n\u001b[0m\u001b[1;32m   1292\u001b[0m             path_func(\n\u001b[1;32m   1293\u001b[0m                 \u001b[0mX\u001b[0m\u001b[0;34m,\u001b[0m\u001b[0;34m\u001b[0m\u001b[0;34m\u001b[0m\u001b[0m\n",
            "\u001b[0;32m/usr/local/lib/python3.10/dist-packages/sklearn/utils/parallel.py\u001b[0m in \u001b[0;36m__call__\u001b[0;34m(self, iterable)\u001b[0m\n\u001b[1;32m     61\u001b[0m             \u001b[0;32mfor\u001b[0m \u001b[0mdelayed_func\u001b[0m\u001b[0;34m,\u001b[0m \u001b[0margs\u001b[0m\u001b[0;34m,\u001b[0m \u001b[0mkwargs\u001b[0m \u001b[0;32min\u001b[0m \u001b[0miterable\u001b[0m\u001b[0;34m\u001b[0m\u001b[0;34m\u001b[0m\u001b[0m\n\u001b[1;32m     62\u001b[0m         )\n\u001b[0;32m---> 63\u001b[0;31m         \u001b[0;32mreturn\u001b[0m \u001b[0msuper\u001b[0m\u001b[0;34m(\u001b[0m\u001b[0;34m)\u001b[0m\u001b[0;34m.\u001b[0m\u001b[0m__call__\u001b[0m\u001b[0;34m(\u001b[0m\u001b[0miterable_with_config\u001b[0m\u001b[0;34m)\u001b[0m\u001b[0;34m\u001b[0m\u001b[0;34m\u001b[0m\u001b[0m\n\u001b[0m\u001b[1;32m     64\u001b[0m \u001b[0;34m\u001b[0m\u001b[0m\n\u001b[1;32m     65\u001b[0m \u001b[0;34m\u001b[0m\u001b[0m\n",
            "\u001b[0;32m/usr/local/lib/python3.10/dist-packages/joblib/parallel.py\u001b[0m in \u001b[0;36m__call__\u001b[0;34m(self, iterable)\u001b[0m\n\u001b[1;32m   1861\u001b[0m             \u001b[0moutput\u001b[0m \u001b[0;34m=\u001b[0m \u001b[0mself\u001b[0m\u001b[0;34m.\u001b[0m\u001b[0m_get_sequential_output\u001b[0m\u001b[0;34m(\u001b[0m\u001b[0miterable\u001b[0m\u001b[0;34m)\u001b[0m\u001b[0;34m\u001b[0m\u001b[0;34m\u001b[0m\u001b[0m\n\u001b[1;32m   1862\u001b[0m             \u001b[0mnext\u001b[0m\u001b[0;34m(\u001b[0m\u001b[0moutput\u001b[0m\u001b[0;34m)\u001b[0m\u001b[0;34m\u001b[0m\u001b[0;34m\u001b[0m\u001b[0m\n\u001b[0;32m-> 1863\u001b[0;31m             \u001b[0;32mreturn\u001b[0m \u001b[0moutput\u001b[0m \u001b[0;32mif\u001b[0m \u001b[0mself\u001b[0m\u001b[0;34m.\u001b[0m\u001b[0mreturn_generator\u001b[0m \u001b[0;32melse\u001b[0m \u001b[0mlist\u001b[0m\u001b[0;34m(\u001b[0m\u001b[0moutput\u001b[0m\u001b[0;34m)\u001b[0m\u001b[0;34m\u001b[0m\u001b[0;34m\u001b[0m\u001b[0m\n\u001b[0m\u001b[1;32m   1864\u001b[0m \u001b[0;34m\u001b[0m\u001b[0m\n\u001b[1;32m   1865\u001b[0m         \u001b[0;31m# Let's create an ID that uniquely identifies the current call. If the\u001b[0m\u001b[0;34m\u001b[0m\u001b[0;34m\u001b[0m\u001b[0m\n",
            "\u001b[0;32m/usr/local/lib/python3.10/dist-packages/joblib/parallel.py\u001b[0m in \u001b[0;36m_get_sequential_output\u001b[0;34m(self, iterable)\u001b[0m\n\u001b[1;32m   1790\u001b[0m                 \u001b[0mself\u001b[0m\u001b[0;34m.\u001b[0m\u001b[0mn_dispatched_batches\u001b[0m \u001b[0;34m+=\u001b[0m \u001b[0;36m1\u001b[0m\u001b[0;34m\u001b[0m\u001b[0;34m\u001b[0m\u001b[0m\n\u001b[1;32m   1791\u001b[0m                 \u001b[0mself\u001b[0m\u001b[0;34m.\u001b[0m\u001b[0mn_dispatched_tasks\u001b[0m \u001b[0;34m+=\u001b[0m \u001b[0;36m1\u001b[0m\u001b[0;34m\u001b[0m\u001b[0;34m\u001b[0m\u001b[0m\n\u001b[0;32m-> 1792\u001b[0;31m                 \u001b[0mres\u001b[0m \u001b[0;34m=\u001b[0m \u001b[0mfunc\u001b[0m\u001b[0;34m(\u001b[0m\u001b[0;34m*\u001b[0m\u001b[0margs\u001b[0m\u001b[0;34m,\u001b[0m \u001b[0;34m**\u001b[0m\u001b[0mkwargs\u001b[0m\u001b[0;34m)\u001b[0m\u001b[0;34m\u001b[0m\u001b[0;34m\u001b[0m\u001b[0m\n\u001b[0m\u001b[1;32m   1793\u001b[0m                 \u001b[0mself\u001b[0m\u001b[0;34m.\u001b[0m\u001b[0mn_completed_tasks\u001b[0m \u001b[0;34m+=\u001b[0m \u001b[0;36m1\u001b[0m\u001b[0;34m\u001b[0m\u001b[0;34m\u001b[0m\u001b[0m\n\u001b[1;32m   1794\u001b[0m                 \u001b[0mself\u001b[0m\u001b[0;34m.\u001b[0m\u001b[0mprint_progress\u001b[0m\u001b[0;34m(\u001b[0m\u001b[0;34m)\u001b[0m\u001b[0;34m\u001b[0m\u001b[0;34m\u001b[0m\u001b[0m\n",
            "\u001b[0;32m/usr/local/lib/python3.10/dist-packages/sklearn/utils/parallel.py\u001b[0m in \u001b[0;36m__call__\u001b[0;34m(self, *args, **kwargs)\u001b[0m\n\u001b[1;32m    121\u001b[0m             \u001b[0mconfig\u001b[0m \u001b[0;34m=\u001b[0m \u001b[0;34m{\u001b[0m\u001b[0;34m}\u001b[0m\u001b[0;34m\u001b[0m\u001b[0;34m\u001b[0m\u001b[0m\n\u001b[1;32m    122\u001b[0m         \u001b[0;32mwith\u001b[0m \u001b[0mconfig_context\u001b[0m\u001b[0;34m(\u001b[0m\u001b[0;34m**\u001b[0m\u001b[0mconfig\u001b[0m\u001b[0;34m)\u001b[0m\u001b[0;34m:\u001b[0m\u001b[0;34m\u001b[0m\u001b[0;34m\u001b[0m\u001b[0m\n\u001b[0;32m--> 123\u001b[0;31m             \u001b[0;32mreturn\u001b[0m \u001b[0mself\u001b[0m\u001b[0;34m.\u001b[0m\u001b[0mfunction\u001b[0m\u001b[0;34m(\u001b[0m\u001b[0;34m*\u001b[0m\u001b[0margs\u001b[0m\u001b[0;34m,\u001b[0m \u001b[0;34m**\u001b[0m\u001b[0mkwargs\u001b[0m\u001b[0;34m)\u001b[0m\u001b[0;34m\u001b[0m\u001b[0;34m\u001b[0m\u001b[0m\n\u001b[0m",
            "\u001b[0;32m/usr/local/lib/python3.10/dist-packages/sklearn/linear_model/_logistic.py\u001b[0m in \u001b[0;36m_logistic_regression_path\u001b[0;34m(X, y, pos_class, Cs, fit_intercept, max_iter, tol, verbose, solver, coef, class_weight, dual, penalty, intercept_scaling, multi_class, random_state, check_input, max_squared_sum, sample_weight, l1_ratio, n_threads)\u001b[0m\n\u001b[1;32m    319\u001b[0m     \u001b[0;32mif\u001b[0m \u001b[0misinstance\u001b[0m\u001b[0;34m(\u001b[0m\u001b[0mclass_weight\u001b[0m\u001b[0;34m,\u001b[0m \u001b[0mdict\u001b[0m\u001b[0;34m)\u001b[0m \u001b[0;32mor\u001b[0m \u001b[0mmulti_class\u001b[0m \u001b[0;34m==\u001b[0m \u001b[0;34m\"multinomial\"\u001b[0m\u001b[0;34m:\u001b[0m\u001b[0;34m\u001b[0m\u001b[0;34m\u001b[0m\u001b[0m\n\u001b[1;32m    320\u001b[0m         \u001b[0mclass_weight_\u001b[0m \u001b[0;34m=\u001b[0m \u001b[0mcompute_class_weight\u001b[0m\u001b[0;34m(\u001b[0m\u001b[0mclass_weight\u001b[0m\u001b[0;34m,\u001b[0m \u001b[0mclasses\u001b[0m\u001b[0;34m=\u001b[0m\u001b[0mclasses\u001b[0m\u001b[0;34m,\u001b[0m \u001b[0my\u001b[0m\u001b[0;34m=\u001b[0m\u001b[0my\u001b[0m\u001b[0;34m)\u001b[0m\u001b[0;34m\u001b[0m\u001b[0;34m\u001b[0m\u001b[0m\n\u001b[0;32m--> 321\u001b[0;31m         \u001b[0msample_weight\u001b[0m \u001b[0;34m*=\u001b[0m \u001b[0mclass_weight_\u001b[0m\u001b[0;34m[\u001b[0m\u001b[0mle\u001b[0m\u001b[0;34m.\u001b[0m\u001b[0mfit_transform\u001b[0m\u001b[0;34m(\u001b[0m\u001b[0my\u001b[0m\u001b[0;34m)\u001b[0m\u001b[0;34m]\u001b[0m\u001b[0;34m\u001b[0m\u001b[0;34m\u001b[0m\u001b[0m\n\u001b[0m\u001b[1;32m    322\u001b[0m \u001b[0;34m\u001b[0m\u001b[0m\n\u001b[1;32m    323\u001b[0m     \u001b[0;31m# For doing a ovr, we need to mask the labels first. For the\u001b[0m\u001b[0;34m\u001b[0m\u001b[0;34m\u001b[0m\u001b[0m\n",
            "\u001b[0;32m/usr/local/lib/python3.10/dist-packages/sklearn/utils/_set_output.py\u001b[0m in \u001b[0;36mwrapped\u001b[0;34m(self, X, *args, **kwargs)\u001b[0m\n\u001b[1;32m    138\u001b[0m     \u001b[0;34m@\u001b[0m\u001b[0mwraps\u001b[0m\u001b[0;34m(\u001b[0m\u001b[0mf\u001b[0m\u001b[0;34m)\u001b[0m\u001b[0;34m\u001b[0m\u001b[0;34m\u001b[0m\u001b[0m\n\u001b[1;32m    139\u001b[0m     \u001b[0;32mdef\u001b[0m \u001b[0mwrapped\u001b[0m\u001b[0;34m(\u001b[0m\u001b[0mself\u001b[0m\u001b[0;34m,\u001b[0m \u001b[0mX\u001b[0m\u001b[0;34m,\u001b[0m \u001b[0;34m*\u001b[0m\u001b[0margs\u001b[0m\u001b[0;34m,\u001b[0m \u001b[0;34m**\u001b[0m\u001b[0mkwargs\u001b[0m\u001b[0;34m)\u001b[0m\u001b[0;34m:\u001b[0m\u001b[0;34m\u001b[0m\u001b[0;34m\u001b[0m\u001b[0m\n\u001b[0;32m--> 140\u001b[0;31m         \u001b[0mdata_to_wrap\u001b[0m \u001b[0;34m=\u001b[0m \u001b[0mf\u001b[0m\u001b[0;34m(\u001b[0m\u001b[0mself\u001b[0m\u001b[0;34m,\u001b[0m \u001b[0mX\u001b[0m\u001b[0;34m,\u001b[0m \u001b[0;34m*\u001b[0m\u001b[0margs\u001b[0m\u001b[0;34m,\u001b[0m \u001b[0;34m**\u001b[0m\u001b[0mkwargs\u001b[0m\u001b[0;34m)\u001b[0m\u001b[0;34m\u001b[0m\u001b[0;34m\u001b[0m\u001b[0m\n\u001b[0m\u001b[1;32m    141\u001b[0m         \u001b[0;32mif\u001b[0m \u001b[0misinstance\u001b[0m\u001b[0;34m(\u001b[0m\u001b[0mdata_to_wrap\u001b[0m\u001b[0;34m,\u001b[0m \u001b[0mtuple\u001b[0m\u001b[0;34m)\u001b[0m\u001b[0;34m:\u001b[0m\u001b[0;34m\u001b[0m\u001b[0;34m\u001b[0m\u001b[0m\n\u001b[1;32m    142\u001b[0m             \u001b[0;31m# only wrap the first output for cross decomposition\u001b[0m\u001b[0;34m\u001b[0m\u001b[0;34m\u001b[0m\u001b[0m\n",
            "\u001b[0;32m/usr/local/lib/python3.10/dist-packages/sklearn/preprocessing/_label.py\u001b[0m in \u001b[0;36mfit_transform\u001b[0;34m(self, y)\u001b[0m\n\u001b[1;32m    115\u001b[0m         \"\"\"\n\u001b[1;32m    116\u001b[0m         \u001b[0my\u001b[0m \u001b[0;34m=\u001b[0m \u001b[0mcolumn_or_1d\u001b[0m\u001b[0;34m(\u001b[0m\u001b[0my\u001b[0m\u001b[0;34m,\u001b[0m \u001b[0mwarn\u001b[0m\u001b[0;34m=\u001b[0m\u001b[0;32mTrue\u001b[0m\u001b[0;34m)\u001b[0m\u001b[0;34m\u001b[0m\u001b[0;34m\u001b[0m\u001b[0m\n\u001b[0;32m--> 117\u001b[0;31m         \u001b[0mself\u001b[0m\u001b[0;34m.\u001b[0m\u001b[0mclasses_\u001b[0m\u001b[0;34m,\u001b[0m \u001b[0my\u001b[0m \u001b[0;34m=\u001b[0m \u001b[0m_unique\u001b[0m\u001b[0;34m(\u001b[0m\u001b[0my\u001b[0m\u001b[0;34m,\u001b[0m \u001b[0mreturn_inverse\u001b[0m\u001b[0;34m=\u001b[0m\u001b[0;32mTrue\u001b[0m\u001b[0;34m)\u001b[0m\u001b[0;34m\u001b[0m\u001b[0;34m\u001b[0m\u001b[0m\n\u001b[0m\u001b[1;32m    118\u001b[0m         \u001b[0;32mreturn\u001b[0m \u001b[0my\u001b[0m\u001b[0;34m\u001b[0m\u001b[0;34m\u001b[0m\u001b[0m\n\u001b[1;32m    119\u001b[0m \u001b[0;34m\u001b[0m\u001b[0m\n",
            "\u001b[0;32m/usr/local/lib/python3.10/dist-packages/sklearn/utils/_encode.py\u001b[0m in \u001b[0;36m_unique\u001b[0;34m(values, return_inverse, return_counts)\u001b[0m\n\u001b[1;32m     39\u001b[0m     \"\"\"\n\u001b[1;32m     40\u001b[0m     \u001b[0;32mif\u001b[0m \u001b[0mvalues\u001b[0m\u001b[0;34m.\u001b[0m\u001b[0mdtype\u001b[0m \u001b[0;34m==\u001b[0m \u001b[0mobject\u001b[0m\u001b[0;34m:\u001b[0m\u001b[0;34m\u001b[0m\u001b[0;34m\u001b[0m\u001b[0m\n\u001b[0;32m---> 41\u001b[0;31m         return _unique_python(\n\u001b[0m\u001b[1;32m     42\u001b[0m             \u001b[0mvalues\u001b[0m\u001b[0;34m,\u001b[0m \u001b[0mreturn_inverse\u001b[0m\u001b[0;34m=\u001b[0m\u001b[0mreturn_inverse\u001b[0m\u001b[0;34m,\u001b[0m \u001b[0mreturn_counts\u001b[0m\u001b[0;34m=\u001b[0m\u001b[0mreturn_counts\u001b[0m\u001b[0;34m\u001b[0m\u001b[0;34m\u001b[0m\u001b[0m\n\u001b[1;32m     43\u001b[0m         )\n",
            "\u001b[0;32m/usr/local/lib/python3.10/dist-packages/sklearn/utils/_encode.py\u001b[0m in \u001b[0;36m_unique_python\u001b[0;34m(values, return_inverse, return_counts)\u001b[0m\n\u001b[1;32m    183\u001b[0m \u001b[0;34m\u001b[0m\u001b[0m\n\u001b[1;32m    184\u001b[0m     \u001b[0;32mif\u001b[0m \u001b[0mreturn_inverse\u001b[0m\u001b[0;34m:\u001b[0m\u001b[0;34m\u001b[0m\u001b[0;34m\u001b[0m\u001b[0m\n\u001b[0;32m--> 185\u001b[0;31m         \u001b[0mret\u001b[0m \u001b[0;34m+=\u001b[0m \u001b[0;34m(\u001b[0m\u001b[0m_map_to_integer\u001b[0m\u001b[0;34m(\u001b[0m\u001b[0mvalues\u001b[0m\u001b[0;34m,\u001b[0m \u001b[0muniques\u001b[0m\u001b[0;34m)\u001b[0m\u001b[0;34m,\u001b[0m\u001b[0;34m)\u001b[0m\u001b[0;34m\u001b[0m\u001b[0;34m\u001b[0m\u001b[0m\n\u001b[0m\u001b[1;32m    186\u001b[0m \u001b[0;34m\u001b[0m\u001b[0m\n\u001b[1;32m    187\u001b[0m     \u001b[0;32mif\u001b[0m \u001b[0mreturn_counts\u001b[0m\u001b[0;34m:\u001b[0m\u001b[0;34m\u001b[0m\u001b[0;34m\u001b[0m\u001b[0m\n",
            "\u001b[0;32m/usr/local/lib/python3.10/dist-packages/sklearn/utils/_encode.py\u001b[0m in \u001b[0;36m_map_to_integer\u001b[0;34m(values, uniques)\u001b[0m\n\u001b[1;32m    162\u001b[0m     \u001b[0;34m\"\"\"Map values based on its position in uniques.\"\"\"\u001b[0m\u001b[0;34m\u001b[0m\u001b[0;34m\u001b[0m\u001b[0m\n\u001b[1;32m    163\u001b[0m     \u001b[0mtable\u001b[0m \u001b[0;34m=\u001b[0m \u001b[0m_nandict\u001b[0m\u001b[0;34m(\u001b[0m\u001b[0;34m{\u001b[0m\u001b[0mval\u001b[0m\u001b[0;34m:\u001b[0m \u001b[0mi\u001b[0m \u001b[0;32mfor\u001b[0m \u001b[0mi\u001b[0m\u001b[0;34m,\u001b[0m \u001b[0mval\u001b[0m \u001b[0;32min\u001b[0m \u001b[0menumerate\u001b[0m\u001b[0;34m(\u001b[0m\u001b[0muniques\u001b[0m\u001b[0;34m)\u001b[0m\u001b[0;34m}\u001b[0m\u001b[0;34m)\u001b[0m\u001b[0;34m\u001b[0m\u001b[0;34m\u001b[0m\u001b[0m\n\u001b[0;32m--> 164\u001b[0;31m     \u001b[0;32mreturn\u001b[0m \u001b[0mnp\u001b[0m\u001b[0;34m.\u001b[0m\u001b[0marray\u001b[0m\u001b[0;34m(\u001b[0m\u001b[0;34m[\u001b[0m\u001b[0mtable\u001b[0m\u001b[0;34m[\u001b[0m\u001b[0mv\u001b[0m\u001b[0;34m]\u001b[0m \u001b[0;32mfor\u001b[0m \u001b[0mv\u001b[0m \u001b[0;32min\u001b[0m \u001b[0mvalues\u001b[0m\u001b[0;34m]\u001b[0m\u001b[0;34m)\u001b[0m\u001b[0;34m\u001b[0m\u001b[0;34m\u001b[0m\u001b[0m\n\u001b[0m\u001b[1;32m    165\u001b[0m \u001b[0;34m\u001b[0m\u001b[0m\n\u001b[1;32m    166\u001b[0m \u001b[0;34m\u001b[0m\u001b[0m\n",
            "\u001b[0;32m/usr/local/lib/python3.10/dist-packages/sklearn/utils/_encode.py\u001b[0m in \u001b[0;36m<listcomp>\u001b[0;34m(.0)\u001b[0m\n\u001b[1;32m    162\u001b[0m     \u001b[0;34m\"\"\"Map values based on its position in uniques.\"\"\"\u001b[0m\u001b[0;34m\u001b[0m\u001b[0;34m\u001b[0m\u001b[0m\n\u001b[1;32m    163\u001b[0m     \u001b[0mtable\u001b[0m \u001b[0;34m=\u001b[0m \u001b[0m_nandict\u001b[0m\u001b[0;34m(\u001b[0m\u001b[0;34m{\u001b[0m\u001b[0mval\u001b[0m\u001b[0;34m:\u001b[0m \u001b[0mi\u001b[0m \u001b[0;32mfor\u001b[0m \u001b[0mi\u001b[0m\u001b[0;34m,\u001b[0m \u001b[0mval\u001b[0m \u001b[0;32min\u001b[0m \u001b[0menumerate\u001b[0m\u001b[0;34m(\u001b[0m\u001b[0muniques\u001b[0m\u001b[0;34m)\u001b[0m\u001b[0;34m}\u001b[0m\u001b[0;34m)\u001b[0m\u001b[0;34m\u001b[0m\u001b[0;34m\u001b[0m\u001b[0m\n\u001b[0;32m--> 164\u001b[0;31m     \u001b[0;32mreturn\u001b[0m \u001b[0mnp\u001b[0m\u001b[0;34m.\u001b[0m\u001b[0marray\u001b[0m\u001b[0;34m(\u001b[0m\u001b[0;34m[\u001b[0m\u001b[0mtable\u001b[0m\u001b[0;34m[\u001b[0m\u001b[0mv\u001b[0m\u001b[0;34m]\u001b[0m \u001b[0;32mfor\u001b[0m \u001b[0mv\u001b[0m \u001b[0;32min\u001b[0m \u001b[0mvalues\u001b[0m\u001b[0;34m]\u001b[0m\u001b[0;34m)\u001b[0m\u001b[0;34m\u001b[0m\u001b[0;34m\u001b[0m\u001b[0m\n\u001b[0m\u001b[1;32m    165\u001b[0m \u001b[0;34m\u001b[0m\u001b[0m\n\u001b[1;32m    166\u001b[0m \u001b[0;34m\u001b[0m\u001b[0m\n",
            "\u001b[0;31mKeyboardInterrupt\u001b[0m: "
          ]
        }
      ]
    },
    {
      "cell_type": "code",
      "source": [
        "pd.DataFrame({'body':lemmatized_training_data_swapped, 'subreddit': training_labels}).to_csv('lemmatized_training_data_swapped.csv', index=False)"
      ],
      "metadata": {
        "id": "FF5qDpv4HHU5"
      },
      "execution_count": 29,
      "outputs": []
    },
    {
      "cell_type": "code",
      "source": [
        "from sklearn.linear_model import LogisticRegression\n",
        "from sklearn.naive_bayes import MultinomialNB\n",
        "from sklearn.pipeline import Pipeline\n",
        "from sklearn.model_selection import cross_val_score, KFold, GridSearchCV\n",
        "from sklearn.feature_extraction.text import TfidfVectorizer\n",
        "\n",
        "spacy_stopwords_list = list(fr_stop) + list(en_stop)\n",
        "nltk_stopwords_list = stopwords.words('english') + stopwords.words('french')\n",
        "other_stop_words = ['http', 'https', 'www']\n",
        "stop_words = list(set().union(spacy_stopwords_list, nltk_stopwords_list, other_stop_words))\n",
        "\n",
        "processed_training_data_1 = preprocess(lemmatized_training_data_swapped, stop_words = stop_words)\n",
        "processed_training_data_2 = preprocess(training_data_swapped, stop_words = stop_words)\n",
        "\n",
        "pipeline = Pipeline([\n",
        "    ('vectorizer', TfidfVectorizer(max_df=0.5, min_df=2, token_pattern='(?u)\\\\b[a-z][a-z]+\\\\b')),\n",
        "    ('model', LogisticRegression(random_state = seed, max_iter = 1000))\n",
        "])\n",
        "\n",
        "param_grid = [\n",
        "\n",
        "    {\n",
        "        'model__C': [1e-3, 1e-1, 1, 10, 1e2],\n",
        "        'model__solver' : ['lbfgs', 'liblinear', 'newton-cg', 'newton-cholesky', 'sag', 'saga']\n",
        "    }\n",
        "]\n",
        "\n",
        "for x_train in (processed_training_data_1, processed_training_data_2):\n",
        "  grid_search = GridSearchCV(estimator=pipeline, param_grid=param_grid, cv=10, scoring='accuracy')\n",
        "  grid_search.fit(x_train, training_labels)\n",
        "\n",
        "  # Get the best parameters and best score\n",
        "  print(\"Best Parameters:\", grid_search.best_params_)\n",
        "  print(\"Best Score:\", grid_search.best_score_)\n"
      ],
      "metadata": {
        "id": "8QAZWlUFGbdZ"
      },
      "execution_count": null,
      "outputs": []
    },
    {
      "cell_type": "code",
      "source": [
        "spacy_stopwords_list = list(fr_stop) + list(en_stop)\n",
        "nltk_stopwords_list = stopwords.words('english') + stopwords.words('french')\n",
        "other_stop_words = ['http', 'https', 'www']\n",
        "\n",
        "stop_words = list(set().union(spacy_stopwords_list, nltk_stopwords_list, other_stop_words))\n",
        "processed_training_data = preprocess(lemmatized_training_data, stop_words = stop_words)\n",
        "(training_data_split, testing_data_split, training_labels_split, testing_labels_split) = train_test_split(processed_training_data, training_labels, test_size = int(len(processed_training_data)*0.1), random_state=seed)\n",
        "vct = TfidfVectorizer(token_pattern = r\"(?u)\\b[a-z][a-z]+\\b\", max_df = 0.5, max_features = 4000, min_df= 1)\n",
        "training_data_split = vct.fit_transform(training_data_split)\n",
        "testing_data_split = vct.transform(testing_data_split)\n",
        "\n",
        "temp = LogisticRegression(random_state = seed, max_iter = 1000, C = 10)\n",
        "temp.fit(training_data_split, training_labels_split)\n",
        "y_pred =temp.predict(testing_data_split)\n",
        "accuracy_score(y_pred, testing_labels_split)"
      ],
      "metadata": {
        "colab": {
          "base_uri": "https://localhost:8080/"
        },
        "id": "60LFVBIib4pW",
        "outputId": "5588dc31-c20c-400c-8b54-2d16038f176e"
      },
      "execution_count": 29,
      "outputs": [
        {
          "output_type": "execute_result",
          "data": {
            "text/plain": [
              "0.6834532374100719"
            ]
          },
          "metadata": {},
          "execution_count": 29
        }
      ]
    },
    {
      "cell_type": "code",
      "source": [
        "test_df   = pd.read_csv(path + 'test.csv', encoding = \"ISO-8859-1\")\n",
        "test_data = test_df['body'].apply(lambda x: x.lower().replace('_', ' ').replace('\\x82', 'e').replace('\\x85', 'a').replace('\\x87', 'c').replace('\\x8a', 'e').replace('\\x88', 'e').replace('\\x93', 'a').replace('\\x80', 'l').replace('\\x96', 'o')).to_numpy()\n",
        "\n",
        "spacy_stopwords_list = list(fr_stop) + list(en_stop)\n",
        "nltk_stopwords_list = stopwords.words('english') + stopwords.words('french')\n",
        "other_stop_words = ['http', 'https', 'www']\n",
        "stop_words = list(set().union(spacy_stopwords_list, nltk_stopwords_list, other_stop_words))\n",
        "\n",
        "processed_training_data = preprocess(lemmatized_training_data, stop_words = stop_words)\n",
        "processed_test_data     = preprocess(test_data    , stop_words = None, is_lemmatize = True)\n",
        "processed_test_data     = preprocess(processed_test_data, stop_words = stop_words)\n",
        "\n",
        "vct = TfidfVectorizer(token_pattern = r\"(?u)\\b[a-z][a-z]+\\b\", max_df = 0.5, max_features = 4000, min_df= 1)\n",
        "\n",
        "best_model = grid_search.best_estimator_\n",
        "y_pred = best_model.predict(processed_test_data)\n",
        "\n",
        "pd.DataFrame({'Subreddit':y_pred}).reset_index().rename(columns={\"index\": \"Id\"}).to_csv('results.csv', index=False)"
      ],
      "metadata": {
        "id": "qcyF6j0PeV_P"
      },
      "execution_count": 30,
      "outputs": []
    },
    {
      "cell_type": "markdown",
      "source": [
        "# Experimentation"
      ],
      "metadata": {
        "id": "eqQEA-SVi8nW"
      }
    },
    {
      "cell_type": "code",
      "source": [
        "spacy_stopwords_list = list(fr_stop) + list(en_stop)\n",
        "is_lemmatize = True ()\n",
        "n_grams = (1,2)\n",
        "alpha = 1 (default)\n",
        "max_feat = 5000"
      ],
      "metadata": {
        "id": "HlMFfHP1F7t0"
      },
      "execution_count": null,
      "outputs": []
    },
    {
      "cell_type": "code",
      "source": [
        "# Set Hps\n",
        "spacy_stopwords_list = list(fr_stop) + list(en_stop)\n",
        "nltk_stopwords_list = stopwords.words('english') + stopwords.words('french')\n",
        "other_stop_words = ['http', 'https', 'www']\n",
        "stop_words = list(set().union(spacy_stopwords_list, nltk_stopwords_list, other_stop_words))\n",
        "\n",
        "stop_words_list = [spacy_stopwords_list, nltk_stopwords_list, stop_words]\n",
        "max_feats_list  = [3000, 4000, 5000]\n",
        "is_lemmatize    = [True, False]\n",
        "ng_list         = [(1,1), (1,2), (1,3)]\n",
        "alphas          = [1, 2, 3]\n",
        "\n",
        "hps = list(product(stop_words_list, max_feats_list, is_lemmatize, ng_list, alphas))\n",
        "\n",
        "error = []\n",
        "infos  = []\n",
        "\n",
        "count = 1\n",
        "# Evaluate\n",
        "for stp_wd, max_feat, is_lem, ngram, alpha in hps:\n",
        "  print('Iteration: {}'.format(count))\n",
        "  if is_lem:\n",
        "    processed_training_data = preprocess(lemmatized_training_data_swapped, stop_words = stp_wd)\n",
        "  else:\n",
        "    processed_training_data = preprocess(training_data_swapped, stop_words = stp_wd)\n",
        "\n",
        "  model = NB(max_features = max_feat, ngram_range = ngram, alpha = alpha)\n",
        "\n",
        "  mean_error, info = k_fold_validation(processed_training_data, training_labels, model = model)\n",
        "  error.append(mean_error)\n",
        "  infos.append(info)\n",
        "  count += 1\n",
        "  # print()\n",
        "  # print('Mean Error: {}'.format(mean_error))\n",
        "  # print()\n",
        "  # print('\\nModel Misses: {}'.format(model.no_pred))\n",
        "\n"
      ],
      "metadata": {
        "colab": {
          "base_uri": "https://localhost:8080/"
        },
        "id": "ul9lLemtKN-G",
        "outputId": "dc4904e5-22da-4113-c451-4ee91dce1fb5"
      },
      "execution_count": 9,
      "outputs": [
        {
          "output_type": "stream",
          "name": "stdout",
          "text": [
            "Iteration: 1\n"
          ]
        },
        {
          "output_type": "stream",
          "name": "stderr",
          "text": [
            "Loading…: 100%|██████████████████████████| 139/139 [00:03<00:00, 42.51it/s]\n",
            "Loading…: 100%|██████████████████████████| 139/139 [00:03<00:00, 45.03it/s]\n",
            "Loading…: 100%|██████████████████████████| 139/139 [00:04<00:00, 30.62it/s]\n",
            "Loading…: 100%|██████████████████████████| 139/139 [00:03<00:00, 37.54it/s]\n",
            "Loading…: 100%|██████████████████████████| 139/139 [00:03<00:00, 44.86it/s]\n",
            "Loading…: 100%|██████████████████████████| 139/139 [00:03<00:00, 45.23it/s]\n",
            "Loading…: 100%|██████████████████████████| 139/139 [00:05<00:00, 27.09it/s]\n",
            "Loading…: 100%|██████████████████████████| 139/139 [00:03<00:00, 43.07it/s]\n",
            "Loading…: 100%|██████████████████████████| 139/139 [00:03<00:00, 43.29it/s]\n",
            "Loading…: 100%|██████████████████████████| 139/139 [00:03<00:00, 41.63it/s]\n"
          ]
        },
        {
          "output_type": "stream",
          "name": "stdout",
          "text": [
            "Iteration: 2\n"
          ]
        },
        {
          "output_type": "stream",
          "name": "stderr",
          "text": [
            "Loading…: 100%|██████████████████████████| 139/139 [00:03<00:00, 37.46it/s]\n",
            "Loading…: 100%|██████████████████████████| 139/139 [00:03<00:00, 44.58it/s]\n",
            "Loading…: 100%|██████████████████████████| 139/139 [00:03<00:00, 41.91it/s]\n",
            "Loading…: 100%|██████████████████████████| 139/139 [00:05<00:00, 27.56it/s]\n",
            "Loading…: 100%|██████████████████████████| 139/139 [00:03<00:00, 44.14it/s]\n",
            "Loading…: 100%|██████████████████████████| 139/139 [00:03<00:00, 43.96it/s]\n",
            "Loading…: 100%|██████████████████████████| 139/139 [00:03<00:00, 39.76it/s]\n",
            "Loading…: 100%|██████████████████████████| 139/139 [00:04<00:00, 29.01it/s]\n",
            "Loading…: 100%|██████████████████████████| 139/139 [00:03<00:00, 43.15it/s]\n",
            "Loading…: 100%|██████████████████████████| 139/139 [00:03<00:00, 43.44it/s]\n"
          ]
        },
        {
          "output_type": "stream",
          "name": "stdout",
          "text": [
            "Iteration: 3\n"
          ]
        },
        {
          "output_type": "stream",
          "name": "stderr",
          "text": [
            "Loading…: 100%|██████████████████████████| 139/139 [00:05<00:00, 27.15it/s]\n",
            "Loading…: 100%|██████████████████████████| 139/139 [00:03<00:00, 43.88it/s]\n",
            "Loading…: 100%|██████████████████████████| 139/139 [00:03<00:00, 41.93it/s]\n",
            "Loading…: 100%|██████████████████████████| 139/139 [00:03<00:00, 36.09it/s]\n",
            "Loading…: 100%|██████████████████████████| 139/139 [00:04<00:00, 32.47it/s]\n",
            "Loading…: 100%|██████████████████████████| 139/139 [00:03<00:00, 44.02it/s]\n",
            "Loading…: 100%|██████████████████████████| 139/139 [00:03<00:00, 37.71it/s]\n",
            "Loading…: 100%|██████████████████████████| 139/139 [00:05<00:00, 27.02it/s]\n",
            "Loading…: 100%|██████████████████████████| 139/139 [00:03<00:00, 42.79it/s]\n",
            "Loading…: 100%|██████████████████████████| 139/139 [00:03<00:00, 43.56it/s]\n"
          ]
        },
        {
          "output_type": "stream",
          "name": "stdout",
          "text": [
            "Iteration: 4\n"
          ]
        },
        {
          "output_type": "stream",
          "name": "stderr",
          "text": [
            "Loading…: 100%|██████████████████████████| 139/139 [00:06<00:00, 22.61it/s]\n",
            "Loading…: 100%|██████████████████████████| 139/139 [00:03<00:00, 34.93it/s]\n",
            "Loading…: 100%|██████████████████████████| 139/139 [00:04<00:00, 32.13it/s]\n",
            "Loading…: 100%|██████████████████████████| 139/139 [00:05<00:00, 23.29it/s]\n",
            "Loading…: 100%|██████████████████████████| 139/139 [00:04<00:00, 34.67it/s]\n",
            "Loading…: 100%|██████████████████████████| 139/139 [00:04<00:00, 32.41it/s]\n",
            "Loading…: 100%|██████████████████████████| 139/139 [00:05<00:00, 24.62it/s]\n",
            "Loading…: 100%|██████████████████████████| 139/139 [00:04<00:00, 32.93it/s]\n",
            "Loading…: 100%|██████████████████████████| 139/139 [00:05<00:00, 25.02it/s]\n",
            "Loading…: 100%|██████████████████████████| 139/139 [00:04<00:00, 31.56it/s]\n"
          ]
        },
        {
          "output_type": "stream",
          "name": "stdout",
          "text": [
            "Iteration: 5\n"
          ]
        },
        {
          "output_type": "stream",
          "name": "stderr",
          "text": [
            "Loading…: 100%|██████████████████████████| 139/139 [00:04<00:00, 32.34it/s]\n",
            "Loading…: 100%|██████████████████████████| 139/139 [00:05<00:00, 23.77it/s]\n",
            "Loading…: 100%|██████████████████████████| 139/139 [00:04<00:00, 31.50it/s]\n",
            "Loading…: 100%|██████████████████████████| 139/139 [00:04<00:00, 28.06it/s]\n",
            "Loading…: 100%|██████████████████████████| 139/139 [00:04<00:00, 29.38it/s]\n",
            "Loading…: 100%|██████████████████████████| 139/139 [00:04<00:00, 34.18it/s]\n",
            "Loading…: 100%|██████████████████████████| 139/139 [00:05<00:00, 23.38it/s]\n",
            "Loading…: 100%|██████████████████████████| 139/139 [00:04<00:00, 29.85it/s]\n",
            "Loading…: 100%|██████████████████████████| 139/139 [00:04<00:00, 33.61it/s]\n",
            "Loading…: 100%|██████████████████████████| 139/139 [00:05<00:00, 23.49it/s]\n"
          ]
        },
        {
          "output_type": "stream",
          "name": "stdout",
          "text": [
            "Iteration: 6\n"
          ]
        },
        {
          "output_type": "stream",
          "name": "stderr",
          "text": [
            "Loading…: 100%|██████████████████████████| 139/139 [00:04<00:00, 32.46it/s]\n",
            "Loading…: 100%|██████████████████████████| 139/139 [00:05<00:00, 25.77it/s]\n",
            "Loading…: 100%|██████████████████████████| 139/139 [00:04<00:00, 29.77it/s]\n",
            "Loading…: 100%|██████████████████████████| 139/139 [00:04<00:00, 33.42it/s]\n",
            "Loading…: 100%|██████████████████████████| 139/139 [00:05<00:00, 23.96it/s]\n",
            "Loading…: 100%|██████████████████████████| 139/139 [00:04<00:00, 34.22it/s]\n",
            "Loading…: 100%|██████████████████████████| 139/139 [00:04<00:00, 33.27it/s]\n",
            "Loading…: 100%|██████████████████████████| 139/139 [00:06<00:00, 22.33it/s]\n",
            "Loading…: 100%|██████████████████████████| 139/139 [00:04<00:00, 33.28it/s]\n",
            "Loading…: 100%|██████████████████████████| 139/139 [00:04<00:00, 29.83it/s]\n"
          ]
        },
        {
          "output_type": "stream",
          "name": "stdout",
          "text": [
            "Iteration: 7\n"
          ]
        },
        {
          "output_type": "stream",
          "name": "stderr",
          "text": [
            "Loading…: 100%|██████████████████████████| 139/139 [00:05<00:00, 27.40it/s]\n",
            "Loading…: 100%|██████████████████████████| 139/139 [00:05<00:00, 26.28it/s]\n",
            "Loading…: 100%|██████████████████████████| 139/139 [00:06<00:00, 22.07it/s]\n",
            "Loading…: 100%|██████████████████████████| 139/139 [00:04<00:00, 28.08it/s]\n",
            "Loading…: 100%|██████████████████████████| 139/139 [00:06<00:00, 21.49it/s]\n",
            "Loading…: 100%|██████████████████████████| 139/139 [00:04<00:00, 29.02it/s]\n",
            "Loading…: 100%|██████████████████████████| 139/139 [00:06<00:00, 19.90it/s]\n",
            "Loading…: 100%|██████████████████████████| 139/139 [00:05<00:00, 27.15it/s]\n",
            "Loading…: 100%|██████████████████████████| 139/139 [00:06<00:00, 20.02it/s]\n",
            "Loading…: 100%|██████████████████████████| 139/139 [00:04<00:00, 28.55it/s]\n"
          ]
        },
        {
          "output_type": "stream",
          "name": "stdout",
          "text": [
            "Iteration: 8\n"
          ]
        },
        {
          "output_type": "stream",
          "name": "stderr",
          "text": [
            "Loading…: 100%|██████████████████████████| 139/139 [00:07<00:00, 19.63it/s]\n",
            "Loading…: 100%|██████████████████████████| 139/139 [00:04<00:00, 28.90it/s]\n",
            "Loading…: 100%|██████████████████████████| 139/139 [00:06<00:00, 20.07it/s]\n",
            "Loading…: 100%|██████████████████████████| 139/139 [00:04<00:00, 28.31it/s]\n",
            "Loading…: 100%|██████████████████████████| 139/139 [00:04<00:00, 28.44it/s]\n",
            "Loading…: 100%|██████████████████████████| 139/139 [00:06<00:00, 22.75it/s]\n",
            "Loading…: 100%|██████████████████████████| 139/139 [00:05<00:00, 27.01it/s]\n",
            "Loading…: 100%|██████████████████████████| 139/139 [00:07<00:00, 19.81it/s]\n",
            "Loading…: 100%|██████████████████████████| 139/139 [00:05<00:00, 27.61it/s]\n",
            "Loading…: 100%|██████████████████████████| 139/139 [00:06<00:00, 20.55it/s]\n"
          ]
        },
        {
          "output_type": "stream",
          "name": "stdout",
          "text": [
            "Iteration: 9\n"
          ]
        },
        {
          "output_type": "stream",
          "name": "stderr",
          "text": [
            "Loading…: 100%|██████████████████████████| 139/139 [00:05<00:00, 26.80it/s]\n",
            "Loading…: 100%|██████████████████████████| 139/139 [00:06<00:00, 20.30it/s]\n",
            "Loading…: 100%|██████████████████████████| 139/139 [00:05<00:00, 26.42it/s]\n",
            "Loading…: 100%|██████████████████████████| 139/139 [00:06<00:00, 20.46it/s]\n",
            "Loading…: 100%|██████████████████████████| 139/139 [00:04<00:00, 29.56it/s]\n",
            "Loading…: 100%|██████████████████████████| 139/139 [00:05<00:00, 24.66it/s]\n",
            "Loading…: 100%|██████████████████████████| 139/139 [00:05<00:00, 24.40it/s]\n",
            "Loading…: 100%|██████████████████████████| 139/139 [00:05<00:00, 27.07it/s]\n",
            "Loading…: 100%|██████████████████████████| 139/139 [00:06<00:00, 21.26it/s]\n",
            "Loading…: 100%|██████████████████████████| 139/139 [00:04<00:00, 28.31it/s]\n"
          ]
        },
        {
          "output_type": "stream",
          "name": "stdout",
          "text": [
            "Iteration: 10\n"
          ]
        },
        {
          "output_type": "stream",
          "name": "stderr",
          "text": [
            "Loading…: 100%|██████████████████████████| 139/139 [00:05<00:00, 26.69it/s]\n",
            "Loading…: 100%|██████████████████████████| 139/139 [00:03<00:00, 43.86it/s]\n",
            "Loading…: 100%|██████████████████████████| 139/139 [00:03<00:00, 41.10it/s]\n",
            "Loading…: 100%|██████████████████████████| 139/139 [00:04<00:00, 33.16it/s]\n",
            "Loading…: 100%|██████████████████████████| 139/139 [00:03<00:00, 35.61it/s]\n",
            "Loading…: 100%|██████████████████████████| 139/139 [00:03<00:00, 43.88it/s]\n",
            "Loading…: 100%|██████████████████████████| 139/139 [00:03<00:00, 42.77it/s]\n",
            "Loading…: 100%|██████████████████████████| 139/139 [00:05<00:00, 27.14it/s]\n",
            "Loading…: 100%|██████████████████████████| 139/139 [00:03<00:00, 42.63it/s]\n",
            "Loading…: 100%|██████████████████████████| 139/139 [00:03<00:00, 44.13it/s]\n"
          ]
        },
        {
          "output_type": "stream",
          "name": "stdout",
          "text": [
            "Iteration: 11\n"
          ]
        },
        {
          "output_type": "stream",
          "name": "stderr",
          "text": [
            "Loading…: 100%|██████████████████████████| 139/139 [00:04<00:00, 29.47it/s]\n",
            "Loading…: 100%|██████████████████████████| 139/139 [00:03<00:00, 39.70it/s]\n",
            "Loading…: 100%|██████████████████████████| 139/139 [00:03<00:00, 41.87it/s]\n",
            "Loading…: 100%|██████████████████████████| 139/139 [00:03<00:00, 43.96it/s]\n",
            "Loading…: 100%|██████████████████████████| 139/139 [00:04<00:00, 27.87it/s]\n",
            "Loading…: 100%|██████████████████████████| 139/139 [00:03<00:00, 43.59it/s]\n",
            "Loading…: 100%|██████████████████████████| 139/139 [00:03<00:00, 41.77it/s]\n",
            "Loading…: 100%|██████████████████████████| 139/139 [00:03<00:00, 35.78it/s]\n",
            "Loading…: 100%|██████████████████████████| 139/139 [00:04<00:00, 31.41it/s]\n",
            "Loading…: 100%|██████████████████████████| 139/139 [00:03<00:00, 42.57it/s]\n"
          ]
        },
        {
          "output_type": "stream",
          "name": "stdout",
          "text": [
            "Iteration: 12\n"
          ]
        },
        {
          "output_type": "stream",
          "name": "stderr",
          "text": [
            "Loading…: 100%|██████████████████████████| 139/139 [00:03<00:00, 41.95it/s]\n",
            "Loading…: 100%|██████████████████████████| 139/139 [00:04<00:00, 28.22it/s]\n",
            "Loading…: 100%|██████████████████████████| 139/139 [00:03<00:00, 40.82it/s]\n",
            "Loading…: 100%|██████████████████████████| 139/139 [00:03<00:00, 42.71it/s]\n",
            "Loading…: 100%|██████████████████████████| 139/139 [00:04<00:00, 32.19it/s]\n",
            "Loading…: 100%|██████████████████████████| 139/139 [00:03<00:00, 35.98it/s]\n",
            "Loading…: 100%|██████████████████████████| 139/139 [00:03<00:00, 42.94it/s]\n",
            "Loading…: 100%|██████████████████████████| 139/139 [00:03<00:00, 42.01it/s]\n",
            "Loading…: 100%|██████████████████████████| 139/139 [00:05<00:00, 26.81it/s]\n",
            "Loading…: 100%|██████████████████████████| 139/139 [00:03<00:00, 43.26it/s]\n"
          ]
        },
        {
          "output_type": "stream",
          "name": "stdout",
          "text": [
            "Iteration: 13\n"
          ]
        },
        {
          "output_type": "stream",
          "name": "stderr",
          "text": [
            "Loading…: 100%|██████████████████████████| 139/139 [00:04<00:00, 31.90it/s]\n",
            "Loading…: 100%|██████████████████████████| 139/139 [00:05<00:00, 23.79it/s]\n",
            "Loading…: 100%|██████████████████████████| 139/139 [00:04<00:00, 31.70it/s]\n",
            "Loading…: 100%|██████████████████████████| 139/139 [00:05<00:00, 27.20it/s]\n",
            "Loading…: 100%|██████████████████████████| 139/139 [00:04<00:00, 30.02it/s]\n",
            "Loading…: 100%|██████████████████████████| 139/139 [00:04<00:00, 33.80it/s]\n",
            "Loading…: 100%|██████████████████████████| 139/139 [00:06<00:00, 22.59it/s]\n",
            "Loading…: 100%|██████████████████████████| 139/139 [00:04<00:00, 31.87it/s]\n",
            "Loading…: 100%|██████████████████████████| 139/139 [00:04<00:00, 33.24it/s]\n",
            "Loading…: 100%|██████████████████████████| 139/139 [00:05<00:00, 23.36it/s]\n"
          ]
        },
        {
          "output_type": "stream",
          "name": "stdout",
          "text": [
            "Iteration: 14\n"
          ]
        },
        {
          "output_type": "stream",
          "name": "stderr",
          "text": [
            "Loading…: 100%|██████████████████████████| 139/139 [00:04<00:00, 32.28it/s]\n",
            "Loading…: 100%|██████████████████████████| 139/139 [00:05<00:00, 24.48it/s]\n",
            "Loading…: 100%|██████████████████████████| 139/139 [00:04<00:00, 31.34it/s]\n",
            "Loading…: 100%|██████████████████████████| 139/139 [00:04<00:00, 33.33it/s]\n",
            "Loading…: 100%|██████████████████████████| 139/139 [00:05<00:00, 23.62it/s]\n",
            "Loading…: 100%|██████████████████████████| 139/139 [00:04<00:00, 33.85it/s]\n",
            "Loading…: 100%|██████████████████████████| 139/139 [00:04<00:00, 31.39it/s]\n",
            "Loading…: 100%|██████████████████████████| 139/139 [00:05<00:00, 23.67it/s]\n",
            "Loading…: 100%|██████████████████████████| 139/139 [00:04<00:00, 32.52it/s]\n",
            "Loading…: 100%|██████████████████████████| 139/139 [00:05<00:00, 25.20it/s]\n"
          ]
        },
        {
          "output_type": "stream",
          "name": "stdout",
          "text": [
            "Iteration: 15\n"
          ]
        },
        {
          "output_type": "stream",
          "name": "stderr",
          "text": [
            "Loading…: 100%|██████████████████████████| 139/139 [00:04<00:00, 31.79it/s]\n",
            "Loading…: 100%|██████████████████████████| 139/139 [00:04<00:00, 33.88it/s]\n",
            "Loading…: 100%|██████████████████████████| 139/139 [00:06<00:00, 22.24it/s]\n",
            "Loading…: 100%|██████████████████████████| 139/139 [00:04<00:00, 32.82it/s]\n",
            "Loading…: 100%|██████████████████████████| 139/139 [00:05<00:00, 27.31it/s]\n",
            "Loading…: 100%|██████████████████████████| 139/139 [00:04<00:00, 30.07it/s]\n",
            "Loading…: 100%|██████████████████████████| 139/139 [00:04<00:00, 32.62it/s]\n",
            "Loading…: 100%|██████████████████████████| 139/139 [00:06<00:00, 22.33it/s]\n",
            "Loading…: 100%|██████████████████████████| 139/139 [00:04<00:00, 32.82it/s]\n",
            "Loading…: 100%|██████████████████████████| 139/139 [00:04<00:00, 33.21it/s]\n"
          ]
        },
        {
          "output_type": "stream",
          "name": "stdout",
          "text": [
            "Iteration: 16\n"
          ]
        },
        {
          "output_type": "stream",
          "name": "stderr",
          "text": [
            "Loading…: 100%|██████████████████████████| 139/139 [00:05<00:00, 23.48it/s]\n",
            "Loading…: 100%|██████████████████████████| 139/139 [00:04<00:00, 28.75it/s]\n",
            "Loading…: 100%|██████████████████████████| 139/139 [00:06<00:00, 20.06it/s]\n",
            "Loading…: 100%|██████████████████████████| 139/139 [00:05<00:00, 27.78it/s]\n",
            "Loading…: 100%|██████████████████████████| 139/139 [00:06<00:00, 20.89it/s]\n",
            "Loading…: 100%|██████████████████████████| 139/139 [00:04<00:00, 28.21it/s]\n",
            "Loading…: 100%|██████████████████████████| 139/139 [00:07<00:00, 19.72it/s]\n",
            "Loading…: 100%|██████████████████████████| 139/139 [00:05<00:00, 26.17it/s]\n",
            "Loading…: 100%|██████████████████████████| 139/139 [00:07<00:00, 19.69it/s]\n",
            "Loading…: 100%|██████████████████████████| 139/139 [00:05<00:00, 27.71it/s]\n"
          ]
        },
        {
          "output_type": "stream",
          "name": "stdout",
          "text": [
            "Iteration: 17\n"
          ]
        },
        {
          "output_type": "stream",
          "name": "stderr",
          "text": [
            "Loading…: 100%|██████████████████████████| 139/139 [00:07<00:00, 19.48it/s]\n",
            "Loading…: 100%|██████████████████████████| 139/139 [00:04<00:00, 27.99it/s]\n",
            "Loading…: 100%|██████████████████████████| 139/139 [00:07<00:00, 19.12it/s]\n",
            "Loading…: 100%|██████████████████████████| 139/139 [00:04<00:00, 27.84it/s]\n",
            "Loading…: 100%|██████████████████████████| 139/139 [00:05<00:00, 25.10it/s]\n",
            "Loading…: 100%|██████████████████████████| 139/139 [00:05<00:00, 24.95it/s]\n",
            "Loading…: 100%|██████████████████████████| 139/139 [00:05<00:00, 26.81it/s]\n",
            "Loading…: 100%|██████████████████████████| 139/139 [00:06<00:00, 20.25it/s]\n",
            "Loading…: 100%|██████████████████████████| 139/139 [00:05<00:00, 26.79it/s]\n",
            "Loading…: 100%|██████████████████████████| 139/139 [00:06<00:00, 20.22it/s]\n"
          ]
        },
        {
          "output_type": "stream",
          "name": "stdout",
          "text": [
            "Iteration: 18\n"
          ]
        },
        {
          "output_type": "stream",
          "name": "stderr",
          "text": [
            "Loading…: 100%|██████████████████████████| 139/139 [00:05<00:00, 26.69it/s]\n",
            "Loading…: 100%|██████████████████████████| 139/139 [00:06<00:00, 20.24it/s]\n",
            "Loading…: 100%|██████████████████████████| 139/139 [00:05<00:00, 25.67it/s]\n",
            "Loading…: 100%|██████████████████████████| 139/139 [00:06<00:00, 20.28it/s]\n",
            "Loading…: 100%|██████████████████████████| 139/139 [00:04<00:00, 28.73it/s]\n",
            "Loading…: 100%|██████████████████████████| 139/139 [00:06<00:00, 20.51it/s]\n",
            "Loading…: 100%|██████████████████████████| 139/139 [00:05<00:00, 27.16it/s]\n",
            "Loading…: 100%|██████████████████████████| 139/139 [00:06<00:00, 21.03it/s]\n",
            "Loading…: 100%|██████████████████████████| 139/139 [00:05<00:00, 27.33it/s]\n",
            "Loading…: 100%|██████████████████████████| 139/139 [00:05<00:00, 26.53it/s]\n"
          ]
        },
        {
          "output_type": "stream",
          "name": "stdout",
          "text": [
            "Iteration: 19\n"
          ]
        },
        {
          "output_type": "stream",
          "name": "stderr",
          "text": [
            "Loading…: 100%|██████████████████████████| 139/139 [00:04<00:00, 29.18it/s]\n",
            "Loading…: 100%|██████████████████████████| 139/139 [00:04<00:00, 33.10it/s]\n",
            "Loading…: 100%|██████████████████████████| 139/139 [00:06<00:00, 22.21it/s]\n",
            "Loading…: 100%|██████████████████████████| 139/139 [00:04<00:00, 32.57it/s]\n",
            "Loading…: 100%|██████████████████████████| 139/139 [00:04<00:00, 33.37it/s]\n",
            "Loading…: 100%|██████████████████████████| 139/139 [00:06<00:00, 22.81it/s]\n",
            "Loading…: 100%|██████████████████████████| 139/139 [00:04<00:00, 31.73it/s]\n",
            "Loading…: 100%|██████████████████████████| 139/139 [00:04<00:00, 28.11it/s]\n",
            "Loading…: 100%|██████████████████████████| 139/139 [00:05<00:00, 25.27it/s]\n",
            "Loading…: 100%|██████████████████████████| 139/139 [00:04<00:00, 32.79it/s]\n"
          ]
        },
        {
          "output_type": "stream",
          "name": "stdout",
          "text": [
            "Iteration: 20\n"
          ]
        },
        {
          "output_type": "stream",
          "name": "stderr",
          "text": [
            "Loading…: 100%|██████████████████████████| 139/139 [00:06<00:00, 22.25it/s]\n",
            "Loading…: 100%|██████████████████████████| 139/139 [00:04<00:00, 32.79it/s]\n",
            "Loading…: 100%|██████████████████████████| 139/139 [00:04<00:00, 31.04it/s]\n",
            "Loading…: 100%|██████████████████████████| 139/139 [00:06<00:00, 22.58it/s]\n",
            "Loading…: 100%|██████████████████████████| 139/139 [00:04<00:00, 33.12it/s]\n",
            "Loading…: 100%|██████████████████████████| 139/139 [00:04<00:00, 28.46it/s]\n",
            "Loading…: 100%|██████████████████████████| 139/139 [00:05<00:00, 25.53it/s]\n",
            "Loading…: 100%|██████████████████████████| 139/139 [00:04<00:00, 31.39it/s]\n",
            "Loading…: 100%|██████████████████████████| 139/139 [00:06<00:00, 22.64it/s]\n",
            "Loading…: 100%|██████████████████████████| 139/139 [00:04<00:00, 32.28it/s]\n"
          ]
        },
        {
          "output_type": "stream",
          "name": "stdout",
          "text": [
            "Iteration: 21\n"
          ]
        },
        {
          "output_type": "stream",
          "name": "stderr",
          "text": [
            "Loading…: 100%|██████████████████████████| 139/139 [00:04<00:00, 30.94it/s]\n",
            "Loading…: 100%|██████████████████████████| 139/139 [00:05<00:00, 23.63it/s]\n",
            "Loading…: 100%|██████████████████████████| 139/139 [00:04<00:00, 31.58it/s]\n",
            "Loading…: 100%|██████████████████████████| 139/139 [00:05<00:00, 25.78it/s]\n",
            "Loading…: 100%|██████████████████████████| 139/139 [00:04<00:00, 28.74it/s]\n",
            "Loading…: 100%|██████████████████████████| 139/139 [00:04<00:00, 32.90it/s]\n",
            "Loading…: 100%|██████████████████████████| 139/139 [00:06<00:00, 22.38it/s]\n",
            "Loading…: 100%|██████████████████████████| 139/139 [00:04<00:00, 32.10it/s]\n",
            "Loading…: 100%|██████████████████████████| 139/139 [00:04<00:00, 31.85it/s]\n",
            "Loading…: 100%|██████████████████████████| 139/139 [00:06<00:00, 22.43it/s]\n"
          ]
        },
        {
          "output_type": "stream",
          "name": "stdout",
          "text": [
            "Iteration: 22\n"
          ]
        },
        {
          "output_type": "stream",
          "name": "stderr",
          "text": [
            "Loading…: 100%|██████████████████████████| 139/139 [00:05<00:00, 24.05it/s]\n",
            "Loading…: 100%|██████████████████████████| 139/139 [00:07<00:00, 19.23it/s]\n",
            "Loading…: 100%|██████████████████████████| 139/139 [00:05<00:00, 23.61it/s]\n",
            "Loading…: 100%|██████████████████████████| 139/139 [00:07<00:00, 18.70it/s]\n",
            "Loading…: 100%|██████████████████████████| 139/139 [00:05<00:00, 25.93it/s]\n",
            "Loading…: 100%|██████████████████████████| 139/139 [00:07<00:00, 19.18it/s]\n",
            "Loading…: 100%|██████████████████████████| 139/139 [00:05<00:00, 24.36it/s]\n",
            "Loading…: 100%|██████████████████████████| 139/139 [00:07<00:00, 18.43it/s]\n",
            "Loading…: 100%|██████████████████████████| 139/139 [00:05<00:00, 24.67it/s]\n",
            "Loading…: 100%|██████████████████████████| 139/139 [00:07<00:00, 18.97it/s]\n"
          ]
        },
        {
          "output_type": "stream",
          "name": "stdout",
          "text": [
            "Iteration: 23\n"
          ]
        },
        {
          "output_type": "stream",
          "name": "stderr",
          "text": [
            "Loading…: 100%|██████████████████████████| 139/139 [00:05<00:00, 24.33it/s]\n",
            "Loading…: 100%|██████████████████████████| 139/139 [00:07<00:00, 19.15it/s]\n",
            "Loading…: 100%|██████████████████████████| 139/139 [00:05<00:00, 23.54it/s]\n",
            "Loading…: 100%|██████████████████████████| 139/139 [00:07<00:00, 18.81it/s]\n",
            "Loading…: 100%|██████████████████████████| 139/139 [00:05<00:00, 26.17it/s]\n",
            "Loading…: 100%|██████████████████████████| 139/139 [00:07<00:00, 19.14it/s]\n",
            "Loading…: 100%|██████████████████████████| 139/139 [00:05<00:00, 24.28it/s]\n",
            "Loading…: 100%|██████████████████████████| 139/139 [00:07<00:00, 18.17it/s]\n",
            "Loading…: 100%|██████████████████████████| 139/139 [00:05<00:00, 24.46it/s]\n",
            "Loading…: 100%|██████████████████████████| 139/139 [00:07<00:00, 18.89it/s]\n"
          ]
        },
        {
          "output_type": "stream",
          "name": "stdout",
          "text": [
            "Iteration: 24\n"
          ]
        },
        {
          "output_type": "stream",
          "name": "stderr",
          "text": [
            "Loading…: 100%|██████████████████████████| 139/139 [00:05<00:00, 23.84it/s]\n",
            "Loading…: 100%|██████████████████████████| 139/139 [00:07<00:00, 19.09it/s]\n",
            "Loading…: 100%|██████████████████████████| 139/139 [00:05<00:00, 23.63it/s]\n",
            "Loading…: 100%|██████████████████████████| 139/139 [00:07<00:00, 18.84it/s]\n",
            "Loading…: 100%|██████████████████████████| 139/139 [00:05<00:00, 25.53it/s]\n",
            "Loading…: 100%|██████████████████████████| 139/139 [00:07<00:00, 18.91it/s]\n",
            "Loading…: 100%|██████████████████████████| 139/139 [00:05<00:00, 24.28it/s]\n",
            "Loading…: 100%|██████████████████████████| 139/139 [00:07<00:00, 18.40it/s]\n",
            "Loading…: 100%|██████████████████████████| 139/139 [00:05<00:00, 24.62it/s]\n",
            "Loading…: 100%|██████████████████████████| 139/139 [00:07<00:00, 19.03it/s]\n"
          ]
        },
        {
          "output_type": "stream",
          "name": "stdout",
          "text": [
            "Iteration: 25\n"
          ]
        },
        {
          "output_type": "stream",
          "name": "stderr",
          "text": [
            "Loading…: 100%|██████████████████████████| 139/139 [00:06<00:00, 20.09it/s]\n",
            "Loading…: 100%|██████████████████████████| 139/139 [00:08<00:00, 16.82it/s]\n",
            "Loading…: 100%|██████████████████████████| 139/139 [00:07<00:00, 17.78it/s]\n",
            "Loading…: 100%|██████████████████████████| 139/139 [00:07<00:00, 19.04it/s]\n",
            "Loading…: 100%|██████████████████████████| 139/139 [00:08<00:00, 17.10it/s]\n",
            "Loading…: 100%|██████████████████████████| 139/139 [00:06<00:00, 21.65it/s]\n",
            "Loading…: 100%|██████████████████████████| 139/139 [00:08<00:00, 16.10it/s]\n",
            "Loading…: 100%|██████████████████████████| 139/139 [00:07<00:00, 19.78it/s]\n",
            "Loading…: 100%|██████████████████████████| 139/139 [00:08<00:00, 17.05it/s]\n",
            "Loading…: 100%|██████████████████████████| 139/139 [00:08<00:00, 16.66it/s]\n"
          ]
        },
        {
          "output_type": "stream",
          "name": "stdout",
          "text": [
            "Iteration: 26\n"
          ]
        },
        {
          "output_type": "stream",
          "name": "stderr",
          "text": [
            "Loading…: 100%|██████████████████████████| 139/139 [00:06<00:00, 19.91it/s]\n",
            "Loading…: 100%|██████████████████████████| 139/139 [00:08<00:00, 16.68it/s]\n",
            "Loading…: 100%|██████████████████████████| 139/139 [00:08<00:00, 17.33it/s]\n",
            "Loading…: 100%|██████████████████████████| 139/139 [00:07<00:00, 19.61it/s]\n",
            "Loading…: 100%|██████████████████████████| 139/139 [00:08<00:00, 16.96it/s]\n",
            "Loading…: 100%|██████████████████████████| 139/139 [00:06<00:00, 21.67it/s]\n",
            "Loading…: 100%|██████████████████████████| 139/139 [00:08<00:00, 15.95it/s]\n",
            "Loading…: 100%|██████████████████████████| 139/139 [00:07<00:00, 19.45it/s]\n",
            "Loading…: 100%|██████████████████████████| 139/139 [00:07<00:00, 17.66it/s]\n",
            "Loading…: 100%|██████████████████████████| 139/139 [00:08<00:00, 16.52it/s]\n"
          ]
        },
        {
          "output_type": "stream",
          "name": "stdout",
          "text": [
            "Iteration: 27\n"
          ]
        },
        {
          "output_type": "stream",
          "name": "stderr",
          "text": [
            "Loading…: 100%|██████████████████████████| 139/139 [00:06<00:00, 20.18it/s]\n",
            "Loading…: 100%|██████████████████████████| 139/139 [00:08<00:00, 16.84it/s]\n",
            "Loading…: 100%|██████████████████████████| 139/139 [00:08<00:00, 17.13it/s]\n",
            "Loading…: 100%|██████████████████████████| 139/139 [00:06<00:00, 19.98it/s]\n",
            "Loading…: 100%|██████████████████████████| 139/139 [00:08<00:00, 16.90it/s]\n",
            "Loading…: 100%|██████████████████████████| 139/139 [00:06<00:00, 21.39it/s]\n",
            "Loading…: 100%|██████████████████████████| 139/139 [00:08<00:00, 16.02it/s]\n",
            "Loading…: 100%|██████████████████████████| 139/139 [00:07<00:00, 18.74it/s]\n",
            "Loading…: 100%|██████████████████████████| 139/139 [00:07<00:00, 18.00it/s]\n",
            "Loading…: 100%|██████████████████████████| 139/139 [00:08<00:00, 16.55it/s]\n"
          ]
        },
        {
          "output_type": "stream",
          "name": "stdout",
          "text": [
            "Iteration: 28\n"
          ]
        },
        {
          "output_type": "stream",
          "name": "stderr",
          "text": [
            "Loading…: 100%|██████████████████████████| 139/139 [00:04<00:00, 31.31it/s]\n",
            "Loading…: 100%|██████████████████████████| 139/139 [00:04<00:00, 28.67it/s]\n",
            "Loading…: 100%|██████████████████████████| 139/139 [00:05<00:00, 24.40it/s]\n",
            "Loading…: 100%|██████████████████████████| 139/139 [00:04<00:00, 32.10it/s]\n",
            "Loading…: 100%|██████████████████████████| 139/139 [00:05<00:00, 23.40it/s]\n",
            "Loading…: 100%|██████████████████████████| 139/139 [00:04<00:00, 32.78it/s]\n",
            "Loading…: 100%|██████████████████████████| 139/139 [00:04<00:00, 31.61it/s]\n",
            "Loading…: 100%|██████████████████████████| 139/139 [00:06<00:00, 22.28it/s]\n",
            "Loading…: 100%|██████████████████████████| 139/139 [00:04<00:00, 31.61it/s]\n",
            "Loading…: 100%|██████████████████████████| 139/139 [00:04<00:00, 32.08it/s]\n"
          ]
        },
        {
          "output_type": "stream",
          "name": "stdout",
          "text": [
            "Iteration: 29\n"
          ]
        },
        {
          "output_type": "stream",
          "name": "stderr",
          "text": [
            "Loading…: 100%|██████████████████████████| 139/139 [00:05<00:00, 27.36it/s]\n",
            "Loading…: 100%|██████████████████████████| 139/139 [00:04<00:00, 32.47it/s]\n",
            "Loading…: 100%|██████████████████████████| 139/139 [00:06<00:00, 21.89it/s]\n",
            "Loading…: 100%|██████████████████████████| 139/139 [00:04<00:00, 32.07it/s]\n",
            "Loading…: 100%|██████████████████████████| 139/139 [00:04<00:00, 32.41it/s]\n",
            "Loading…: 100%|██████████████████████████| 139/139 [00:06<00:00, 22.69it/s]\n",
            "Loading…: 100%|██████████████████████████| 139/139 [00:04<00:00, 31.38it/s]\n",
            "Loading…: 100%|██████████████████████████| 139/139 [00:05<00:00, 25.95it/s]\n",
            "Loading…: 100%|██████████████████████████| 139/139 [00:05<00:00, 26.75it/s]\n",
            "Loading…: 100%|██████████████████████████| 139/139 [00:04<00:00, 32.47it/s]\n"
          ]
        },
        {
          "output_type": "stream",
          "name": "stdout",
          "text": [
            "Iteration: 30\n"
          ]
        },
        {
          "output_type": "stream",
          "name": "stderr",
          "text": [
            "Loading…: 100%|██████████████████████████| 139/139 [00:06<00:00, 22.17it/s]\n",
            "Loading…: 100%|██████████████████████████| 139/139 [00:04<00:00, 32.54it/s]\n",
            "Loading…: 100%|██████████████████████████| 139/139 [00:04<00:00, 27.93it/s]\n",
            "Loading…: 100%|██████████████████████████| 139/139 [00:05<00:00, 24.73it/s]\n",
            "Loading…: 100%|██████████████████████████| 139/139 [00:04<00:00, 32.57it/s]\n",
            "Loading…: 100%|██████████████████████████| 139/139 [00:05<00:00, 23.93it/s]\n",
            "Loading…: 100%|██████████████████████████| 139/139 [00:04<00:00, 29.28it/s]\n",
            "Loading…: 100%|██████████████████████████| 139/139 [00:04<00:00, 31.10it/s]\n",
            "Loading…: 100%|██████████████████████████| 139/139 [00:06<00:00, 22.34it/s]\n",
            "Loading…: 100%|██████████████████████████| 139/139 [00:04<00:00, 31.82it/s]\n"
          ]
        },
        {
          "output_type": "stream",
          "name": "stdout",
          "text": [
            "Iteration: 31\n"
          ]
        },
        {
          "output_type": "stream",
          "name": "stderr",
          "text": [
            "Loading…: 100%|██████████████████████████| 139/139 [00:07<00:00, 18.18it/s]\n",
            "Loading…: 100%|██████████████████████████| 139/139 [00:05<00:00, 25.79it/s]\n",
            "Loading…: 100%|██████████████████████████| 139/139 [00:07<00:00, 17.81it/s]\n",
            "Loading…: 100%|██████████████████████████| 139/139 [00:05<00:00, 25.03it/s]\n",
            "Loading…: 100%|██████████████████████████| 139/139 [00:07<00:00, 19.07it/s]\n",
            "Loading…: 100%|██████████████████████████| 139/139 [00:05<00:00, 25.10it/s]\n",
            "Loading…: 100%|██████████████████████████| 139/139 [00:07<00:00, 18.85it/s]\n",
            "Loading…: 100%|██████████████████████████| 139/139 [00:05<00:00, 23.71it/s]\n",
            "Loading…: 100%|██████████████████████████| 139/139 [00:07<00:00, 19.14it/s]\n",
            "Loading…: 100%|██████████████████████████| 139/139 [00:05<00:00, 24.60it/s]\n"
          ]
        },
        {
          "output_type": "stream",
          "name": "stdout",
          "text": [
            "Iteration: 32\n"
          ]
        },
        {
          "output_type": "stream",
          "name": "stderr",
          "text": [
            "Loading…: 100%|██████████████████████████| 139/139 [00:07<00:00, 18.23it/s]\n",
            "Loading…: 100%|██████████████████████████| 139/139 [00:05<00:00, 25.34it/s]\n",
            "Loading…: 100%|██████████████████████████| 139/139 [00:07<00:00, 17.83it/s]\n",
            "Loading…: 100%|██████████████████████████| 139/139 [00:05<00:00, 24.54it/s]\n",
            "Loading…: 100%|██████████████████████████| 139/139 [00:07<00:00, 19.29it/s]\n",
            "Loading…: 100%|██████████████████████████| 139/139 [00:05<00:00, 25.69it/s]\n",
            "Loading…: 100%|██████████████████████████| 139/139 [00:07<00:00, 18.70it/s]\n",
            "Loading…: 100%|██████████████████████████| 139/139 [00:05<00:00, 24.05it/s]\n",
            "Loading…: 100%|██████████████████████████| 139/139 [00:07<00:00, 18.48it/s]\n",
            "Loading…: 100%|██████████████████████████| 139/139 [00:05<00:00, 24.97it/s]\n"
          ]
        },
        {
          "output_type": "stream",
          "name": "stdout",
          "text": [
            "Iteration: 33\n"
          ]
        },
        {
          "output_type": "stream",
          "name": "stderr",
          "text": [
            "Loading…: 100%|██████████████████████████| 139/139 [00:07<00:00, 18.05it/s]\n",
            "Loading…: 100%|██████████████████████████| 139/139 [00:05<00:00, 25.22it/s]\n",
            "Loading…: 100%|██████████████████████████| 139/139 [00:07<00:00, 17.87it/s]\n",
            "Loading…: 100%|██████████████████████████| 139/139 [00:05<00:00, 24.84it/s]\n",
            "Loading…: 100%|██████████████████████████| 139/139 [00:07<00:00, 19.39it/s]\n",
            "Loading…: 100%|██████████████████████████| 139/139 [00:05<00:00, 25.20it/s]\n",
            "Loading…: 100%|██████████████████████████| 139/139 [00:07<00:00, 18.39it/s]\n",
            "Loading…: 100%|██████████████████████████| 139/139 [00:05<00:00, 24.19it/s]\n",
            "Loading…: 100%|██████████████████████████| 139/139 [00:07<00:00, 18.95it/s]\n",
            "Loading…: 100%|██████████████████████████| 139/139 [00:05<00:00, 25.03it/s]\n"
          ]
        },
        {
          "output_type": "stream",
          "name": "stdout",
          "text": [
            "Iteration: 34\n"
          ]
        },
        {
          "output_type": "stream",
          "name": "stderr",
          "text": [
            "Loading…: 100%|██████████████████████████| 139/139 [00:08<00:00, 15.71it/s]\n",
            "Loading…: 100%|██████████████████████████| 139/139 [00:06<00:00, 21.34it/s]\n",
            "Loading…: 100%|██████████████████████████| 139/139 [00:08<00:00, 15.59it/s]\n",
            "Loading…: 100%|██████████████████████████| 139/139 [00:08<00:00, 16.37it/s]\n",
            "Loading…: 100%|██████████████████████████| 139/139 [00:06<00:00, 21.42it/s]\n",
            "Loading…: 100%|██████████████████████████| 139/139 [00:08<00:00, 16.67it/s]\n",
            "Loading…: 100%|██████████████████████████| 139/139 [00:06<00:00, 20.19it/s]\n",
            "Loading…: 100%|██████████████████████████| 139/139 [00:08<00:00, 15.81it/s]\n",
            "Loading…: 100%|██████████████████████████| 139/139 [00:08<00:00, 16.53it/s]\n",
            "Loading…: 100%|██████████████████████████| 139/139 [00:06<00:00, 20.80it/s]\n"
          ]
        },
        {
          "output_type": "stream",
          "name": "stdout",
          "text": [
            "Iteration: 35\n"
          ]
        },
        {
          "output_type": "stream",
          "name": "stderr",
          "text": [
            "Loading…: 100%|██████████████████████████| 139/139 [00:08<00:00, 15.74it/s]\n",
            "Loading…: 100%|██████████████████████████| 139/139 [00:07<00:00, 19.80it/s]\n",
            "Loading…: 100%|██████████████████████████| 139/139 [00:07<00:00, 17.43it/s]\n",
            "Loading…: 100%|██████████████████████████| 139/139 [00:08<00:00, 16.25it/s]\n",
            "Loading…: 100%|██████████████████████████| 139/139 [00:06<00:00, 21.18it/s]\n",
            "Loading…: 100%|██████████████████████████| 139/139 [00:08<00:00, 16.50it/s]\n",
            "Loading…: 100%|██████████████████████████| 139/139 [00:07<00:00, 19.37it/s]\n",
            "Loading…: 100%|██████████████████████████| 139/139 [00:08<00:00, 17.31it/s]\n",
            "Loading…: 100%|██████████████████████████| 139/139 [00:08<00:00, 16.04it/s]\n",
            "Loading…: 100%|██████████████████████████| 139/139 [00:06<00:00, 21.05it/s]\n"
          ]
        },
        {
          "output_type": "stream",
          "name": "stdout",
          "text": [
            "Iteration: 36\n"
          ]
        },
        {
          "output_type": "stream",
          "name": "stderr",
          "text": [
            "Loading…: 100%|██████████████████████████| 139/139 [00:08<00:00, 15.78it/s]\n",
            "Loading…: 100%|██████████████████████████| 139/139 [00:07<00:00, 17.80it/s]\n",
            "Loading…: 100%|██████████████████████████| 139/139 [00:07<00:00, 19.16it/s]\n",
            "Loading…: 100%|██████████████████████████| 139/139 [00:08<00:00, 16.31it/s]\n",
            "Loading…: 100%|██████████████████████████| 139/139 [00:06<00:00, 21.78it/s]\n",
            "Loading…: 100%|██████████████████████████| 139/139 [00:08<00:00, 16.59it/s]\n",
            "Loading…: 100%|██████████████████████████| 139/139 [00:07<00:00, 17.89it/s]\n",
            "Loading…: 100%|██████████████████████████| 139/139 [00:07<00:00, 18.65it/s]\n",
            "Loading…: 100%|██████████████████████████| 139/139 [00:08<00:00, 15.99it/s]\n",
            "Loading…: 100%|██████████████████████████| 139/139 [00:06<00:00, 20.97it/s]\n"
          ]
        },
        {
          "output_type": "stream",
          "name": "stdout",
          "text": [
            "Iteration: 37\n"
          ]
        },
        {
          "output_type": "stream",
          "name": "stderr",
          "text": [
            "Loading…: 100%|██████████████████████████| 139/139 [00:07<00:00, 19.19it/s]\n",
            "Loading…: 100%|██████████████████████████| 139/139 [00:05<00:00, 25.97it/s]\n",
            "Loading…: 100%|██████████████████████████| 139/139 [00:07<00:00, 18.62it/s]\n",
            "Loading…: 100%|██████████████████████████| 139/139 [00:05<00:00, 25.67it/s]\n",
            "Loading…: 100%|██████████████████████████| 139/139 [00:07<00:00, 19.38it/s]\n",
            "Loading…: 100%|██████████████████████████| 139/139 [00:05<00:00, 25.78it/s]\n",
            "Loading…: 100%|██████████████████████████| 139/139 [00:07<00:00, 18.86it/s]\n",
            "Loading…: 100%|██████████████████████████| 139/139 [00:05<00:00, 24.71it/s]\n",
            "Loading…: 100%|██████████████████████████| 139/139 [00:06<00:00, 20.66it/s]\n",
            "Loading…: 100%|██████████████████████████| 139/139 [00:05<00:00, 23.73it/s]\n"
          ]
        },
        {
          "output_type": "stream",
          "name": "stdout",
          "text": [
            "Iteration: 38\n"
          ]
        },
        {
          "output_type": "stream",
          "name": "stderr",
          "text": [
            "Loading…: 100%|██████████████████████████| 139/139 [00:07<00:00, 19.05it/s]\n",
            "Loading…: 100%|██████████████████████████| 139/139 [00:05<00:00, 25.08it/s]\n",
            "Loading…: 100%|██████████████████████████| 139/139 [00:06<00:00, 20.71it/s]\n",
            "Loading…: 100%|██████████████████████████| 139/139 [00:06<00:00, 22.26it/s]\n",
            "Loading…: 100%|██████████████████████████| 139/139 [00:05<00:00, 25.47it/s]\n",
            "Loading…: 100%|██████████████████████████| 139/139 [00:06<00:00, 19.88it/s]\n",
            "Loading…: 100%|██████████████████████████| 139/139 [00:05<00:00, 24.60it/s]\n",
            "Loading…: 100%|██████████████████████████| 139/139 [00:07<00:00, 18.66it/s]\n",
            "Loading…: 100%|██████████████████████████| 139/139 [00:05<00:00, 24.92it/s]\n",
            "Loading…: 100%|██████████████████████████| 139/139 [00:07<00:00, 19.06it/s]\n"
          ]
        },
        {
          "output_type": "stream",
          "name": "stdout",
          "text": [
            "Iteration: 39\n"
          ]
        },
        {
          "output_type": "stream",
          "name": "stderr",
          "text": [
            "Loading…: 100%|██████████████████████████| 139/139 [00:05<00:00, 24.96it/s]\n",
            "Loading…: 100%|██████████████████████████| 139/139 [00:07<00:00, 18.65it/s]\n",
            "Loading…: 100%|██████████████████████████| 139/139 [00:05<00:00, 24.74it/s]\n",
            "Loading…: 100%|██████████████████████████| 139/139 [00:07<00:00, 18.99it/s]\n",
            "Loading…: 100%|██████████████████████████| 139/139 [00:05<00:00, 25.88it/s]\n",
            "Loading…: 100%|██████████████████████████| 139/139 [00:07<00:00, 18.89it/s]\n",
            "Loading…: 100%|██████████████████████████| 139/139 [00:05<00:00, 25.10it/s]\n",
            "Loading…: 100%|██████████████████████████| 139/139 [00:07<00:00, 19.07it/s]\n",
            "Loading…: 100%|██████████████████████████| 139/139 [00:05<00:00, 24.89it/s]\n",
            "Loading…: 100%|██████████████████████████| 139/139 [00:06<00:00, 21.46it/s]\n"
          ]
        },
        {
          "output_type": "stream",
          "name": "stdout",
          "text": [
            "Iteration: 40\n"
          ]
        },
        {
          "output_type": "stream",
          "name": "stderr",
          "text": [
            "Loading…: 100%|██████████████████████████| 139/139 [00:07<00:00, 19.24it/s]\n",
            "Loading…: 100%|██████████████████████████| 139/139 [00:08<00:00, 16.00it/s]\n",
            "Loading…: 100%|██████████████████████████| 139/139 [00:07<00:00, 17.68it/s]\n",
            "Loading…: 100%|██████████████████████████| 139/139 [00:08<00:00, 17.08it/s]\n",
            "Loading…: 100%|██████████████████████████| 139/139 [00:08<00:00, 16.31it/s]\n",
            "Loading…: 100%|██████████████████████████| 139/139 [00:06<00:00, 20.42it/s]\n",
            "Loading…: 100%|██████████████████████████| 139/139 [00:08<00:00, 15.50it/s]\n",
            "Loading…: 100%|██████████████████████████| 139/139 [00:07<00:00, 18.19it/s]\n",
            "Loading…: 100%|██████████████████████████| 139/139 [00:08<00:00, 17.08it/s]\n",
            "Loading…: 100%|██████████████████████████| 139/139 [00:08<00:00, 15.83it/s]\n"
          ]
        },
        {
          "output_type": "stream",
          "name": "stdout",
          "text": [
            "Iteration: 41\n"
          ]
        },
        {
          "output_type": "stream",
          "name": "stderr",
          "text": [
            "Loading…: 100%|██████████████████████████| 139/139 [00:07<00:00, 19.16it/s]\n",
            "Loading…: 100%|██████████████████████████| 139/139 [00:08<00:00, 16.17it/s]\n",
            "Loading…: 100%|██████████████████████████| 139/139 [00:09<00:00, 15.15it/s]\n",
            "Loading…: 100%|██████████████████████████| 139/139 [00:07<00:00, 19.86it/s]\n",
            "Loading…: 100%|██████████████████████████| 139/139 [00:08<00:00, 16.32it/s]\n",
            "Loading…: 100%|██████████████████████████| 139/139 [00:06<00:00, 20.40it/s]\n",
            "Loading…: 100%|██████████████████████████| 139/139 [00:08<00:00, 15.49it/s]\n",
            "Loading…: 100%|██████████████████████████| 139/139 [00:08<00:00, 15.48it/s]\n",
            "Loading…: 100%|██████████████████████████| 139/139 [00:07<00:00, 19.82it/s]\n",
            "Loading…: 100%|██████████████████████████| 139/139 [00:08<00:00, 15.94it/s]\n"
          ]
        },
        {
          "output_type": "stream",
          "name": "stdout",
          "text": [
            "Iteration: 42\n"
          ]
        },
        {
          "output_type": "stream",
          "name": "stderr",
          "text": [
            "Loading…: 100%|██████████████████████████| 139/139 [00:08<00:00, 16.27it/s]\n",
            "Loading…: 100%|██████████████████████████| 139/139 [00:07<00:00, 19.76it/s]\n",
            "Loading…: 100%|██████████████████████████| 139/139 [00:09<00:00, 15.26it/s]\n",
            "Loading…: 100%|██████████████████████████| 139/139 [00:07<00:00, 19.85it/s]\n",
            "Loading…: 100%|██████████████████████████| 139/139 [00:08<00:00, 16.23it/s]\n",
            "Loading…: 100%|██████████████████████████| 139/139 [00:07<00:00, 17.56it/s]\n",
            "Loading…: 100%|██████████████████████████| 139/139 [00:07<00:00, 18.19it/s]\n",
            "Loading…: 100%|██████████████████████████| 139/139 [00:09<00:00, 15.21it/s]\n",
            "Loading…: 100%|██████████████████████████| 139/139 [00:07<00:00, 19.76it/s]\n",
            "Loading…: 100%|██████████████████████████| 139/139 [00:08<00:00, 15.85it/s]\n"
          ]
        },
        {
          "output_type": "stream",
          "name": "stdout",
          "text": [
            "Iteration: 43\n"
          ]
        },
        {
          "output_type": "stream",
          "name": "stderr",
          "text": [
            "Loading…: 100%|██████████████████████████| 139/139 [00:10<00:00, 13.21it/s]\n",
            "Loading…: 100%|██████████████████████████| 139/139 [00:09<00:00, 15.09it/s]\n",
            "Loading…: 100%|██████████████████████████| 139/139 [00:09<00:00, 15.25it/s]\n",
            "Loading…: 100%|██████████████████████████| 139/139 [00:10<00:00, 13.67it/s]\n",
            "Loading…: 100%|██████████████████████████| 139/139 [00:09<00:00, 14.13it/s]\n",
            "Loading…: 100%|██████████████████████████| 139/139 [00:08<00:00, 16.52it/s]\n",
            "Loading…: 100%|██████████████████████████| 139/139 [00:09<00:00, 14.31it/s]\n",
            "Loading…: 100%|██████████████████████████| 139/139 [00:10<00:00, 13.24it/s]\n",
            "Loading…: 100%|██████████████████████████| 139/139 [00:10<00:00, 13.50it/s]\n",
            "Loading…: 100%|██████████████████████████| 139/139 [00:08<00:00, 16.74it/s]\n"
          ]
        },
        {
          "output_type": "stream",
          "name": "stdout",
          "text": [
            "Iteration: 44\n"
          ]
        },
        {
          "output_type": "stream",
          "name": "stderr",
          "text": [
            "Loading…: 100%|██████████████████████████| 139/139 [00:09<00:00, 15.41it/s]\n",
            "Loading…: 100%|██████████████████████████| 139/139 [00:09<00:00, 13.94it/s]\n",
            "Loading…: 100%|██████████████████████████| 139/139 [00:10<00:00, 12.82it/s]\n",
            "Loading…: 100%|██████████████████████████| 139/139 [00:09<00:00, 15.23it/s]\n",
            "Loading…: 100%|██████████████████████████| 139/139 [00:08<00:00, 16.16it/s]\n",
            "Loading…: 100%|██████████████████████████| 139/139 [00:10<00:00, 13.88it/s]\n",
            "Loading…: 100%|██████████████████████████| 139/139 [00:10<00:00, 13.36it/s]\n",
            "Loading…: 100%|██████████████████████████| 139/139 [00:08<00:00, 15.99it/s]\n",
            "Loading…: 100%|██████████████████████████| 139/139 [00:09<00:00, 14.03it/s]\n",
            "Loading…: 100%|██████████████████████████| 139/139 [00:10<00:00, 13.83it/s]\n"
          ]
        },
        {
          "output_type": "stream",
          "name": "stdout",
          "text": [
            "Iteration: 45\n"
          ]
        },
        {
          "output_type": "stream",
          "name": "stderr",
          "text": [
            "Loading…: 100%|██████████████████████████| 139/139 [00:10<00:00, 13.20it/s]\n",
            "Loading…: 100%|██████████████████████████| 139/139 [00:08<00:00, 16.65it/s]\n",
            "Loading…: 100%|██████████████████████████| 139/139 [00:10<00:00, 13.84it/s]\n",
            "Loading…: 100%|██████████████████████████| 139/139 [00:10<00:00, 13.61it/s]\n",
            "Loading…: 100%|██████████████████████████| 139/139 [00:09<00:00, 14.05it/s]\n",
            "Loading…: 100%|██████████████████████████| 139/139 [00:08<00:00, 16.89it/s]\n",
            "Loading…: 100%|██████████████████████████| 139/139 [00:10<00:00, 13.31it/s]\n",
            "Loading…: 100%|██████████████████████████| 139/139 [00:10<00:00, 13.15it/s]\n",
            "Loading…: 100%|██████████████████████████| 139/139 [00:10<00:00, 13.53it/s]\n",
            "Loading…: 100%|██████████████████████████| 139/139 [00:08<00:00, 16.70it/s]\n"
          ]
        },
        {
          "output_type": "stream",
          "name": "stdout",
          "text": [
            "Iteration: 46\n"
          ]
        },
        {
          "output_type": "stream",
          "name": "stderr",
          "text": [
            "Loading…: 100%|██████████████████████████| 139/139 [00:07<00:00, 19.35it/s]\n",
            "Loading…: 100%|██████████████████████████| 139/139 [00:05<00:00, 25.43it/s]\n",
            "Loading…: 100%|██████████████████████████| 139/139 [00:07<00:00, 18.48it/s]\n",
            "Loading…: 100%|██████████████████████████| 139/139 [00:05<00:00, 25.18it/s]\n",
            "Loading…: 100%|██████████████████████████| 139/139 [00:07<00:00, 19.17it/s]\n",
            "Loading…: 100%|██████████████████████████| 139/139 [00:05<00:00, 25.73it/s]\n",
            "Loading…: 100%|██████████████████████████| 139/139 [00:07<00:00, 18.82it/s]\n",
            "Loading…: 100%|██████████████████████████| 139/139 [00:05<00:00, 24.42it/s]\n",
            "Loading…: 100%|██████████████████████████| 139/139 [00:07<00:00, 18.54it/s]\n",
            "Loading…: 100%|██████████████████████████| 139/139 [00:05<00:00, 25.11it/s]\n"
          ]
        },
        {
          "output_type": "stream",
          "name": "stdout",
          "text": [
            "Iteration: 47\n"
          ]
        },
        {
          "output_type": "stream",
          "name": "stderr",
          "text": [
            "Loading…: 100%|██████████████████████████| 139/139 [00:07<00:00, 18.69it/s]\n",
            "Loading…: 100%|██████████████████████████| 139/139 [00:05<00:00, 25.56it/s]\n",
            "Loading…: 100%|██████████████████████████| 139/139 [00:07<00:00, 18.46it/s]\n",
            "Loading…: 100%|██████████████████████████| 139/139 [00:05<00:00, 24.24it/s]\n",
            "Loading…: 100%|██████████████████████████| 139/139 [00:07<00:00, 19.75it/s]\n",
            "Loading…: 100%|██████████████████████████| 139/139 [00:05<00:00, 25.18it/s]\n",
            "Loading…: 100%|██████████████████████████| 139/139 [00:06<00:00, 21.30it/s]\n",
            "Loading…: 100%|██████████████████████████| 139/139 [00:06<00:00, 21.54it/s]\n",
            "Loading…: 100%|██████████████████████████| 139/139 [00:05<00:00, 23.48it/s]\n",
            "Loading…: 100%|██████████████████████████| 139/139 [00:06<00:00, 20.24it/s]\n"
          ]
        },
        {
          "output_type": "stream",
          "name": "stdout",
          "text": [
            "Iteration: 48\n"
          ]
        },
        {
          "output_type": "stream",
          "name": "stderr",
          "text": [
            "Loading…: 100%|██████████████████████████| 139/139 [00:06<00:00, 21.55it/s]\n",
            "Loading…: 100%|██████████████████████████| 139/139 [00:06<00:00, 21.76it/s]\n",
            "Loading…: 100%|██████████████████████████| 139/139 [00:05<00:00, 23.74it/s]\n",
            "Loading…: 100%|██████████████████████████| 139/139 [00:07<00:00, 19.82it/s]\n",
            "Loading…: 100%|██████████████████████████| 139/139 [00:05<00:00, 25.93it/s]\n",
            "Loading…: 100%|██████████████████████████| 139/139 [00:07<00:00, 19.19it/s]\n",
            "Loading…: 100%|██████████████████████████| 139/139 [00:05<00:00, 24.52it/s]\n",
            "Loading…: 100%|██████████████████████████| 139/139 [00:07<00:00, 18.59it/s]\n",
            "Loading…: 100%|██████████████████████████| 139/139 [00:05<00:00, 24.78it/s]\n",
            "Loading…: 100%|██████████████████████████| 139/139 [00:07<00:00, 18.89it/s]\n"
          ]
        },
        {
          "output_type": "stream",
          "name": "stdout",
          "text": [
            "Iteration: 49\n"
          ]
        },
        {
          "output_type": "stream",
          "name": "stderr",
          "text": [
            "Loading…: 100%|██████████████████████████| 139/139 [00:07<00:00, 18.49it/s]\n",
            "Loading…: 100%|██████████████████████████| 139/139 [00:08<00:00, 16.73it/s]\n",
            "Loading…: 100%|██████████████████████████| 139/139 [00:09<00:00, 14.89it/s]\n",
            "Loading…: 100%|██████████████████████████| 139/139 [00:07<00:00, 19.49it/s]\n",
            "Loading…: 100%|██████████████████████████| 139/139 [00:08<00:00, 15.87it/s]\n",
            "Loading…: 100%|██████████████████████████| 139/139 [00:07<00:00, 18.31it/s]\n",
            "Loading…: 100%|██████████████████████████| 139/139 [00:08<00:00, 16.88it/s]\n",
            "Loading…: 100%|██████████████████████████| 139/139 [00:09<00:00, 15.14it/s]\n",
            "Loading…: 100%|██████████████████████████| 139/139 [00:07<00:00, 19.04it/s]\n",
            "Loading…: 100%|██████████████████████████| 139/139 [00:08<00:00, 15.68it/s]\n"
          ]
        },
        {
          "output_type": "stream",
          "name": "stdout",
          "text": [
            "Iteration: 50\n"
          ]
        },
        {
          "output_type": "stream",
          "name": "stderr",
          "text": [
            "Loading…: 100%|██████████████████████████| 139/139 [00:09<00:00, 15.22it/s]\n",
            "Loading…: 100%|██████████████████████████| 139/139 [00:06<00:00, 20.11it/s]\n",
            "Loading…: 100%|██████████████████████████| 139/139 [00:09<00:00, 15.03it/s]\n",
            "Loading…: 100%|██████████████████████████| 139/139 [00:08<00:00, 16.73it/s]\n",
            "Loading…: 100%|██████████████████████████| 139/139 [00:07<00:00, 19.28it/s]\n",
            "Loading…: 100%|██████████████████████████| 139/139 [00:08<00:00, 15.77it/s]\n",
            "Loading…: 100%|██████████████████████████| 139/139 [00:07<00:00, 19.17it/s]\n",
            "Loading…: 100%|██████████████████████████| 139/139 [00:09<00:00, 15.10it/s]\n",
            "Loading…: 100%|██████████████████████████| 139/139 [00:09<00:00, 15.27it/s]\n",
            "Loading…: 100%|██████████████████████████| 139/139 [00:07<00:00, 19.72it/s]\n"
          ]
        },
        {
          "output_type": "stream",
          "name": "stdout",
          "text": [
            "Iteration: 51\n"
          ]
        },
        {
          "output_type": "stream",
          "name": "stderr",
          "text": [
            "Loading…: 100%|██████████████████████████| 139/139 [00:09<00:00, 15.13it/s]\n",
            "Loading…: 100%|██████████████████████████| 139/139 [00:08<00:00, 16.86it/s]\n",
            "Loading…: 100%|██████████████████████████| 139/139 [00:07<00:00, 17.92it/s]\n",
            "Loading…: 100%|██████████████████████████| 139/139 [00:08<00:00, 15.69it/s]\n",
            "Loading…: 100%|██████████████████████████| 139/139 [00:06<00:00, 20.32it/s]\n",
            "Loading…: 100%|██████████████████████████| 139/139 [00:08<00:00, 15.94it/s]\n",
            "Loading…: 100%|██████████████████████████| 139/139 [00:09<00:00, 15.42it/s]\n",
            "Loading…: 100%|██████████████████████████| 139/139 [00:07<00:00, 19.10it/s]\n",
            "Loading…: 100%|██████████████████████████| 139/139 [00:09<00:00, 15.40it/s]\n",
            "Loading…: 100%|██████████████████████████| 139/139 [00:07<00:00, 19.34it/s]\n"
          ]
        },
        {
          "output_type": "stream",
          "name": "stdout",
          "text": [
            "Iteration: 52\n"
          ]
        },
        {
          "output_type": "stream",
          "name": "stderr",
          "text": [
            "Loading…: 100%|██████████████████████████| 139/139 [00:08<00:00, 15.47it/s]\n",
            "Loading…: 100%|██████████████████████████| 139/139 [00:10<00:00, 13.75it/s]\n",
            "Loading…: 100%|██████████████████████████| 139/139 [00:10<00:00, 12.81it/s]\n",
            "Loading…: 100%|██████████████████████████| 139/139 [00:09<00:00, 14.42it/s]\n",
            "Loading…: 100%|██████████████████████████| 139/139 [00:08<00:00, 16.81it/s]\n",
            "Loading…: 100%|██████████████████████████| 139/139 [00:10<00:00, 13.78it/s]\n",
            "Loading…: 100%|██████████████████████████| 139/139 [00:10<00:00, 13.11it/s]\n",
            "Loading…: 100%|██████████████████████████| 139/139 [00:09<00:00, 14.45it/s]\n",
            "Loading…: 100%|██████████████████████████| 139/139 [00:09<00:00, 15.18it/s]\n",
            "Loading…: 100%|██████████████████████████| 139/139 [00:10<00:00, 13.51it/s]\n"
          ]
        },
        {
          "output_type": "stream",
          "name": "stdout",
          "text": [
            "Iteration: 53\n"
          ]
        },
        {
          "output_type": "stream",
          "name": "stderr",
          "text": [
            "Loading…: 100%|██████████████████████████| 139/139 [00:10<00:00, 12.91it/s]\n",
            "Loading…: 100%|██████████████████████████| 139/139 [00:10<00:00, 13.88it/s]\n",
            "Loading…: 100%|██████████████████████████| 139/139 [00:09<00:00, 15.34it/s]\n",
            "Loading…: 100%|██████████████████████████| 139/139 [00:10<00:00, 13.55it/s]\n",
            "Loading…: 100%|██████████████████████████| 139/139 [00:09<00:00, 13.93it/s]\n",
            "Loading…: 100%|██████████████████████████| 139/139 [00:09<00:00, 14.34it/s]\n",
            "Loading…: 100%|██████████████████████████| 139/139 [00:08<00:00, 15.99it/s]\n",
            "Loading…: 100%|██████████████████████████| 139/139 [00:10<00:00, 13.06it/s]\n",
            "Loading…: 100%|██████████████████████████| 139/139 [00:10<00:00, 13.24it/s]\n",
            "Loading…: 100%|██████████████████████████| 139/139 [00:09<00:00, 14.08it/s]\n"
          ]
        },
        {
          "output_type": "stream",
          "name": "stdout",
          "text": [
            "Iteration: 54\n"
          ]
        },
        {
          "output_type": "stream",
          "name": "stderr",
          "text": [
            "Loading…: 100%|██████████████████████████| 139/139 [00:09<00:00, 15.39it/s]\n",
            "Loading…: 100%|██████████████████████████| 139/139 [00:09<00:00, 14.62it/s]\n",
            "Loading…: 100%|██████████████████████████| 139/139 [00:10<00:00, 12.70it/s]\n",
            "Loading…: 100%|██████████████████████████| 139/139 [00:10<00:00, 13.64it/s]\n",
            "Loading…: 100%|██████████████████████████| 139/139 [00:08<00:00, 17.07it/s]\n",
            "Loading…: 100%|██████████████████████████| 139/139 [00:09<00:00, 13.94it/s]\n",
            "Loading…: 100%|██████████████████████████| 139/139 [00:10<00:00, 13.10it/s]\n",
            "Loading…: 100%|██████████████████████████| 139/139 [00:10<00:00, 13.06it/s]\n",
            "Loading…: 100%|██████████████████████████| 139/139 [00:08<00:00, 16.16it/s]\n",
            "Loading…: 100%|██████████████████████████| 139/139 [00:09<00:00, 14.03it/s]\n"
          ]
        },
        {
          "output_type": "stream",
          "name": "stdout",
          "text": [
            "Iteration: 55\n"
          ]
        },
        {
          "output_type": "stream",
          "name": "stderr",
          "text": [
            "Loading…: 100%|██████████████████████████| 139/139 [00:04<00:00, 34.39it/s]\n",
            "Loading…: 100%|██████████████████████████| 139/139 [00:04<00:00, 30.70it/s]\n",
            "Loading…: 100%|██████████████████████████| 139/139 [00:03<00:00, 39.88it/s]\n",
            "Loading…: 100%|██████████████████████████| 139/139 [00:03<00:00, 40.88it/s]\n",
            "Loading…: 100%|██████████████████████████| 139/139 [00:05<00:00, 26.89it/s]\n",
            "Loading…: 100%|██████████████████████████| 139/139 [00:03<00:00, 40.90it/s]\n",
            "Loading…: 100%|██████████████████████████| 139/139 [00:03<00:00, 39.35it/s]\n",
            "Loading…: 100%|██████████████████████████| 139/139 [00:04<00:00, 31.27it/s]\n",
            "Loading…: 100%|██████████████████████████| 139/139 [00:04<00:00, 32.26it/s]\n",
            "Loading…: 100%|██████████████████████████| 139/139 [00:03<00:00, 41.51it/s]\n"
          ]
        },
        {
          "output_type": "stream",
          "name": "stdout",
          "text": [
            "Iteration: 56\n"
          ]
        },
        {
          "output_type": "stream",
          "name": "stderr",
          "text": [
            "Loading…: 100%|██████████████████████████| 139/139 [00:03<00:00, 39.98it/s]\n",
            "Loading…: 100%|██████████████████████████| 139/139 [00:05<00:00, 26.77it/s]\n",
            "Loading…: 100%|██████████████████████████| 139/139 [00:03<00:00, 39.10it/s]\n",
            "Loading…: 100%|██████████████████████████| 139/139 [00:03<00:00, 40.70it/s]\n",
            "Loading…: 100%|██████████████████████████| 139/139 [00:05<00:00, 27.69it/s]\n",
            "Loading…: 100%|██████████████████████████| 139/139 [00:03<00:00, 39.46it/s]\n",
            "Loading…: 100%|██████████████████████████| 139/139 [00:03<00:00, 39.66it/s]\n",
            "Loading…: 100%|██████████████████████████| 139/139 [00:03<00:00, 36.03it/s]\n",
            "Loading…: 100%|██████████████████████████| 139/139 [00:04<00:00, 28.73it/s]\n",
            "Loading…: 100%|██████████████████████████| 139/139 [00:03<00:00, 41.22it/s]\n"
          ]
        },
        {
          "output_type": "stream",
          "name": "stdout",
          "text": [
            "Iteration: 57\n"
          ]
        },
        {
          "output_type": "stream",
          "name": "stderr",
          "text": [
            "Loading…: 100%|██████████████████████████| 139/139 [00:03<00:00, 39.40it/s]\n",
            "Loading…: 100%|██████████████████████████| 139/139 [00:05<00:00, 26.69it/s]\n",
            "Loading…: 100%|██████████████████████████| 139/139 [00:03<00:00, 39.68it/s]\n",
            "Loading…: 100%|██████████████████████████| 139/139 [00:03<00:00, 40.66it/s]\n",
            "Loading…: 100%|██████████████████████████| 139/139 [00:04<00:00, 31.25it/s]\n",
            "Loading…: 100%|██████████████████████████| 139/139 [00:04<00:00, 34.01it/s]\n",
            "Loading…: 100%|██████████████████████████| 139/139 [00:03<00:00, 39.79it/s]\n",
            "Loading…: 100%|██████████████████████████| 139/139 [00:03<00:00, 39.42it/s]\n",
            "Loading…: 100%|██████████████████████████| 139/139 [00:05<00:00, 26.35it/s]\n",
            "Loading…: 100%|██████████████████████████| 139/139 [00:03<00:00, 40.88it/s]\n"
          ]
        },
        {
          "output_type": "stream",
          "name": "stdout",
          "text": [
            "Iteration: 58\n"
          ]
        },
        {
          "output_type": "stream",
          "name": "stderr",
          "text": [
            "Loading…: 100%|██████████████████████████| 139/139 [00:05<00:00, 27.08it/s]\n",
            "Loading…: 100%|██████████████████████████| 139/139 [00:05<00:00, 24.81it/s]\n",
            "Loading…: 100%|██████████████████████████| 139/139 [00:04<00:00, 29.33it/s]\n",
            "Loading…: 100%|██████████████████████████| 139/139 [00:06<00:00, 21.48it/s]\n",
            "Loading…: 100%|██████████████████████████| 139/139 [00:04<00:00, 31.74it/s]\n",
            "Loading…: 100%|██████████████████████████| 139/139 [00:04<00:00, 29.38it/s]\n",
            "Loading…: 100%|██████████████████████████| 139/139 [00:06<00:00, 23.13it/s]\n",
            "Loading…: 100%|██████████████████████████| 139/139 [00:04<00:00, 29.46it/s]\n",
            "Loading…: 100%|██████████████████████████| 139/139 [00:06<00:00, 21.30it/s]\n",
            "Loading…: 100%|██████████████████████████| 139/139 [00:04<00:00, 31.10it/s]\n"
          ]
        },
        {
          "output_type": "stream",
          "name": "stdout",
          "text": [
            "Iteration: 59\n"
          ]
        },
        {
          "output_type": "stream",
          "name": "stderr",
          "text": [
            "Loading…: 100%|██████████████████████████| 139/139 [00:05<00:00, 24.41it/s]\n",
            "Loading…: 100%|██████████████████████████| 139/139 [00:04<00:00, 28.04it/s]\n",
            "Loading…: 100%|██████████████████████████| 139/139 [00:04<00:00, 29.62it/s]\n",
            "Loading…: 100%|██████████████████████████| 139/139 [00:06<00:00, 21.57it/s]\n",
            "Loading…: 100%|██████████████████████████| 139/139 [00:04<00:00, 31.70it/s]\n",
            "Loading…: 100%|██████████████████████████| 139/139 [00:05<00:00, 26.28it/s]\n",
            "Loading…: 100%|██████████████████████████| 139/139 [00:05<00:00, 25.48it/s]\n",
            "Loading…: 100%|██████████████████████████| 139/139 [00:04<00:00, 29.45it/s]\n",
            "Loading…: 100%|██████████████████████████| 139/139 [00:06<00:00, 21.38it/s]\n",
            "Loading…: 100%|██████████████████████████| 139/139 [00:04<00:00, 31.45it/s]\n"
          ]
        },
        {
          "output_type": "stream",
          "name": "stdout",
          "text": [
            "Iteration: 60\n"
          ]
        },
        {
          "output_type": "stream",
          "name": "stderr",
          "text": [
            "Loading…: 100%|██████████████████████████| 139/139 [00:06<00:00, 22.31it/s]\n",
            "Loading…: 100%|██████████████████████████| 139/139 [00:04<00:00, 31.48it/s]\n",
            "Loading…: 100%|██████████████████████████| 139/139 [00:04<00:00, 29.31it/s]\n",
            "Loading…: 100%|██████████████████████████| 139/139 [00:06<00:00, 21.84it/s]\n",
            "Loading…: 100%|██████████████████████████| 139/139 [00:04<00:00, 31.98it/s]\n",
            "Loading…: 100%|██████████████████████████| 139/139 [00:05<00:00, 23.77it/s]\n",
            "Loading…: 100%|██████████████████████████| 139/139 [00:04<00:00, 28.63it/s]\n",
            "Loading…: 100%|██████████████████████████| 139/139 [00:04<00:00, 29.63it/s]\n",
            "Loading…: 100%|██████████████████████████| 139/139 [00:06<00:00, 21.53it/s]\n",
            "Loading…: 100%|██████████████████████████| 139/139 [00:04<00:00, 31.30it/s]\n"
          ]
        },
        {
          "output_type": "stream",
          "name": "stdout",
          "text": [
            "Iteration: 61\n"
          ]
        },
        {
          "output_type": "stream",
          "name": "stderr",
          "text": [
            "Loading…: 100%|██████████████████████████| 139/139 [00:07<00:00, 18.14it/s]\n",
            "Loading…: 100%|██████████████████████████| 139/139 [00:05<00:00, 26.22it/s]\n",
            "Loading…: 100%|██████████████████████████| 139/139 [00:07<00:00, 18.06it/s]\n",
            "Loading…: 100%|██████████████████████████| 139/139 [00:05<00:00, 24.97it/s]\n",
            "Loading…: 100%|██████████████████████████| 139/139 [00:07<00:00, 19.22it/s]\n",
            "Loading…: 100%|██████████████████████████| 139/139 [00:05<00:00, 25.97it/s]\n",
            "Loading…: 100%|██████████████████████████| 139/139 [00:07<00:00, 18.29it/s]\n",
            "Loading…: 100%|██████████████████████████| 139/139 [00:05<00:00, 23.90it/s]\n",
            "Loading…: 100%|██████████████████████████| 139/139 [00:07<00:00, 18.51it/s]\n",
            "Loading…: 100%|██████████████████████████| 139/139 [00:05<00:00, 25.61it/s]\n"
          ]
        },
        {
          "output_type": "stream",
          "name": "stdout",
          "text": [
            "Iteration: 62\n"
          ]
        },
        {
          "output_type": "stream",
          "name": "stderr",
          "text": [
            "Loading…: 100%|██████████████████████████| 139/139 [00:07<00:00, 18.27it/s]\n",
            "Loading…: 100%|██████████████████████████| 139/139 [00:05<00:00, 25.94it/s]\n",
            "Loading…: 100%|██████████████████████████| 139/139 [00:07<00:00, 18.04it/s]\n",
            "Loading…: 100%|██████████████████████████| 139/139 [00:05<00:00, 24.97it/s]\n",
            "Loading…: 100%|██████████████████████████| 139/139 [00:07<00:00, 19.36it/s]\n",
            "Loading…: 100%|██████████████████████████| 139/139 [00:05<00:00, 25.63it/s]\n",
            "Loading…: 100%|██████████████████████████| 139/139 [00:07<00:00, 18.25it/s]\n",
            "Loading…: 100%|██████████████████████████| 139/139 [00:05<00:00, 23.99it/s]\n",
            "Loading…: 100%|██████████████████████████| 139/139 [00:07<00:00, 18.41it/s]\n",
            "Loading…: 100%|██████████████████████████| 139/139 [00:05<00:00, 25.42it/s]\n"
          ]
        },
        {
          "output_type": "stream",
          "name": "stdout",
          "text": [
            "Iteration: 63\n"
          ]
        },
        {
          "output_type": "stream",
          "name": "stderr",
          "text": [
            "Loading…: 100%|██████████████████████████| 139/139 [00:07<00:00, 18.59it/s]\n",
            "Loading…: 100%|██████████████████████████| 139/139 [00:05<00:00, 25.96it/s]\n",
            "Loading…: 100%|██████████████████████████| 139/139 [00:07<00:00, 18.77it/s]\n",
            "Loading…: 100%|██████████████████████████| 139/139 [00:05<00:00, 24.18it/s]\n",
            "Loading…: 100%|██████████████████████████| 139/139 [00:06<00:00, 21.42it/s]\n",
            "Loading…: 100%|██████████████████████████| 139/139 [00:05<00:00, 25.78it/s]\n",
            "Loading…: 100%|██████████████████████████| 139/139 [00:07<00:00, 19.27it/s]\n",
            "Loading…: 100%|██████████████████████████| 139/139 [00:06<00:00, 23.03it/s]\n",
            "Loading…: 100%|██████████████████████████| 139/139 [00:06<00:00, 20.57it/s]\n",
            "Loading…: 100%|██████████████████████████| 139/139 [00:05<00:00, 23.29it/s]\n"
          ]
        },
        {
          "output_type": "stream",
          "name": "stdout",
          "text": [
            "Iteration: 64\n"
          ]
        },
        {
          "output_type": "stream",
          "name": "stderr",
          "text": [
            "Loading…: 100%|██████████████████████████| 139/139 [00:04<00:00, 30.72it/s]\n",
            "Loading…: 100%|██████████████████████████| 139/139 [00:03<00:00, 41.29it/s]\n",
            "Loading…: 100%|██████████████████████████| 139/139 [00:03<00:00, 38.59it/s]\n",
            "Loading…: 100%|██████████████████████████| 139/139 [00:05<00:00, 26.13it/s]\n",
            "Loading…: 100%|██████████████████████████| 139/139 [00:03<00:00, 40.73it/s]\n",
            "Loading…: 100%|██████████████████████████| 139/139 [00:03<00:00, 41.46it/s]\n",
            "Loading…: 100%|██████████████████████████| 139/139 [00:04<00:00, 28.35it/s]\n",
            "Loading…: 100%|██████████████████████████| 139/139 [00:03<00:00, 35.57it/s]\n",
            "Loading…: 100%|██████████████████████████| 139/139 [00:03<00:00, 40.00it/s]\n",
            "Loading…: 100%|██████████████████████████| 139/139 [00:03<00:00, 40.48it/s]\n"
          ]
        },
        {
          "output_type": "stream",
          "name": "stdout",
          "text": [
            "Iteration: 65\n"
          ]
        },
        {
          "output_type": "stream",
          "name": "stderr",
          "text": [
            "Loading…: 100%|██████████████████████████| 139/139 [00:04<00:00, 29.09it/s]\n",
            "Loading…: 100%|██████████████████████████| 139/139 [00:03<00:00, 41.64it/s]\n",
            "Loading…: 100%|██████████████████████████| 139/139 [00:03<00:00, 38.97it/s]\n",
            "Loading…: 100%|██████████████████████████| 139/139 [00:05<00:00, 26.25it/s]\n",
            "Loading…: 100%|██████████████████████████| 139/139 [00:03<00:00, 41.35it/s]\n",
            "Loading…: 100%|██████████████████████████| 139/139 [00:03<00:00, 41.16it/s]\n",
            "Loading…: 100%|██████████████████████████| 139/139 [00:04<00:00, 30.19it/s]\n",
            "Loading…: 100%|██████████████████████████| 139/139 [00:04<00:00, 32.85it/s]\n",
            "Loading…: 100%|██████████████████████████| 139/139 [00:03<00:00, 39.38it/s]\n",
            "Loading…: 100%|██████████████████████████| 139/139 [00:03<00:00, 40.56it/s]\n"
          ]
        },
        {
          "output_type": "stream",
          "name": "stdout",
          "text": [
            "Iteration: 66\n"
          ]
        },
        {
          "output_type": "stream",
          "name": "stderr",
          "text": [
            "Loading…: 100%|██████████████████████████| 139/139 [00:04<00:00, 28.49it/s]\n",
            "Loading…: 100%|██████████████████████████| 139/139 [00:03<00:00, 41.14it/s]\n",
            "Loading…: 100%|██████████████████████████| 139/139 [00:03<00:00, 39.50it/s]\n",
            "Loading…: 100%|██████████████████████████| 139/139 [00:05<00:00, 26.07it/s]\n",
            "Loading…: 100%|██████████████████████████| 139/139 [00:03<00:00, 41.44it/s]\n",
            "Loading…: 100%|██████████████████████████| 139/139 [00:03<00:00, 41.03it/s]\n",
            "Loading…: 100%|██████████████████████████| 139/139 [00:04<00:00, 31.54it/s]\n",
            "Loading…: 100%|██████████████████████████| 139/139 [00:04<00:00, 31.62it/s]\n",
            "Loading…: 100%|██████████████████████████| 139/139 [00:03<00:00, 39.93it/s]\n",
            "Loading…: 100%|██████████████████████████| 139/139 [00:03<00:00, 41.06it/s]\n"
          ]
        },
        {
          "output_type": "stream",
          "name": "stdout",
          "text": [
            "Iteration: 67\n"
          ]
        },
        {
          "output_type": "stream",
          "name": "stderr",
          "text": [
            "Loading…: 100%|██████████████████████████| 139/139 [00:06<00:00, 22.06it/s]\n",
            "Loading…: 100%|██████████████████████████| 139/139 [00:04<00:00, 31.08it/s]\n",
            "Loading…: 100%|██████████████████████████| 139/139 [00:06<00:00, 20.99it/s]\n",
            "Loading…: 100%|██████████████████████████| 139/139 [00:04<00:00, 30.47it/s]\n",
            "Loading…: 100%|██████████████████████████| 139/139 [00:04<00:00, 30.11it/s]\n",
            "Loading…: 100%|██████████████████████████| 139/139 [00:05<00:00, 23.90it/s]\n",
            "Loading…: 100%|██████████████████████████| 139/139 [00:04<00:00, 29.62it/s]\n",
            "Loading…: 100%|██████████████████████████| 139/139 [00:06<00:00, 20.96it/s]\n",
            "Loading…: 100%|██████████████████████████| 139/139 [00:04<00:00, 29.93it/s]\n",
            "Loading…: 100%|██████████████████████████| 139/139 [00:04<00:00, 28.07it/s]\n"
          ]
        },
        {
          "output_type": "stream",
          "name": "stdout",
          "text": [
            "Iteration: 68\n"
          ]
        },
        {
          "output_type": "stream",
          "name": "stderr",
          "text": [
            "Loading…: 100%|██████████████████████████| 139/139 [00:05<00:00, 25.58it/s]\n",
            "Loading…: 100%|██████████████████████████| 139/139 [00:04<00:00, 31.26it/s]\n",
            "Loading…: 100%|██████████████████████████| 139/139 [00:06<00:00, 20.80it/s]\n",
            "Loading…: 100%|██████████████████████████| 139/139 [00:04<00:00, 30.16it/s]\n",
            "Loading…: 100%|██████████████████████████| 139/139 [00:05<00:00, 24.79it/s]\n",
            "Loading…: 100%|██████████████████████████| 139/139 [00:04<00:00, 28.25it/s]\n",
            "Loading…: 100%|██████████████████████████| 139/139 [00:04<00:00, 29.49it/s]\n",
            "Loading…: 100%|██████████████████████████| 139/139 [00:06<00:00, 21.02it/s]\n",
            "Loading…: 100%|██████████████████████████| 139/139 [00:04<00:00, 29.83it/s]\n",
            "Loading…: 100%|██████████████████████████| 139/139 [00:06<00:00, 23.07it/s]\n"
          ]
        },
        {
          "output_type": "stream",
          "name": "stdout",
          "text": [
            "Iteration: 69\n"
          ]
        },
        {
          "output_type": "stream",
          "name": "stderr",
          "text": [
            "Loading…: 100%|██████████████████████████| 139/139 [00:04<00:00, 29.54it/s]\n",
            "Loading…: 100%|██████████████████████████| 139/139 [00:04<00:00, 31.56it/s]\n",
            "Loading…: 100%|██████████████████████████| 139/139 [00:06<00:00, 21.03it/s]\n",
            "Loading…: 100%|██████████████████████████| 139/139 [00:04<00:00, 30.47it/s]\n",
            "Loading…: 100%|██████████████████████████| 139/139 [00:06<00:00, 22.14it/s]\n",
            "Loading…: 100%|██████████████████████████| 139/139 [00:04<00:00, 31.20it/s]\n",
            "Loading…: 100%|██████████████████████████| 139/139 [00:04<00:00, 30.03it/s]\n",
            "Loading…: 100%|██████████████████████████| 139/139 [00:06<00:00, 21.65it/s]\n",
            "Loading…: 100%|██████████████████████████| 139/139 [00:04<00:00, 30.09it/s]\n",
            "Loading…: 100%|██████████████████████████| 139/139 [00:06<00:00, 21.79it/s]\n"
          ]
        },
        {
          "output_type": "stream",
          "name": "stdout",
          "text": [
            "Iteration: 70\n"
          ]
        },
        {
          "output_type": "stream",
          "name": "stderr",
          "text": [
            "Loading…: 100%|██████████████████████████| 139/139 [00:05<00:00, 23.86it/s]\n",
            "Loading…: 100%|██████████████████████████| 139/139 [00:07<00:00, 19.25it/s]\n",
            "Loading…: 100%|██████████████████████████| 139/139 [00:05<00:00, 23.69it/s]\n",
            "Loading…: 100%|██████████████████████████| 139/139 [00:07<00:00, 18.65it/s]\n",
            "Loading…: 100%|██████████████████████████| 139/139 [00:05<00:00, 25.98it/s]\n",
            "Loading…: 100%|██████████████████████████| 139/139 [00:07<00:00, 19.18it/s]\n",
            "Loading…: 100%|██████████████████████████| 139/139 [00:05<00:00, 24.37it/s]\n",
            "Loading…: 100%|██████████████████████████| 139/139 [00:07<00:00, 18.18it/s]\n",
            "Loading…: 100%|██████████████████████████| 139/139 [00:05<00:00, 24.60it/s]\n",
            "Loading…: 100%|██████████████████████████| 139/139 [00:07<00:00, 18.93it/s]\n"
          ]
        },
        {
          "output_type": "stream",
          "name": "stdout",
          "text": [
            "Iteration: 71\n"
          ]
        },
        {
          "output_type": "stream",
          "name": "stderr",
          "text": [
            "Loading…: 100%|██████████████████████████| 139/139 [00:05<00:00, 24.15it/s]\n",
            "Loading…: 100%|██████████████████████████| 139/139 [00:07<00:00, 19.23it/s]\n",
            "Loading…: 100%|██████████████████████████| 139/139 [00:05<00:00, 23.90it/s]\n",
            "Loading…: 100%|██████████████████████████| 139/139 [00:07<00:00, 18.81it/s]\n",
            "Loading…: 100%|██████████████████████████| 139/139 [00:05<00:00, 25.97it/s]\n",
            "Loading…: 100%|██████████████████████████| 139/139 [00:07<00:00, 19.10it/s]\n",
            "Loading…: 100%|██████████████████████████| 139/139 [00:05<00:00, 24.03it/s]\n",
            "Loading…: 100%|██████████████████████████| 139/139 [00:07<00:00, 18.22it/s]\n",
            "Loading…: 100%|██████████████████████████| 139/139 [00:05<00:00, 24.58it/s]\n",
            "Loading…: 100%|██████████████████████████| 139/139 [00:07<00:00, 18.96it/s]\n"
          ]
        },
        {
          "output_type": "stream",
          "name": "stdout",
          "text": [
            "Iteration: 72\n"
          ]
        },
        {
          "output_type": "stream",
          "name": "stderr",
          "text": [
            "Loading…: 100%|██████████████████████████| 139/139 [00:05<00:00, 23.84it/s]\n",
            "Loading…: 100%|██████████████████████████| 139/139 [00:06<00:00, 19.98it/s]\n",
            "Loading…: 100%|██████████████████████████| 139/139 [00:05<00:00, 24.04it/s]\n",
            "Loading…: 100%|██████████████████████████| 139/139 [00:07<00:00, 19.58it/s]\n",
            "Loading…: 100%|██████████████████████████| 139/139 [00:05<00:00, 26.26it/s]\n",
            "Loading…: 100%|██████████████████████████| 139/139 [00:07<00:00, 19.47it/s]\n",
            "Loading…: 100%|██████████████████████████| 139/139 [00:05<00:00, 24.04it/s]\n",
            "Loading…: 100%|██████████████████████████| 139/139 [00:07<00:00, 18.30it/s]\n",
            "Loading…: 100%|██████████████████████████| 139/139 [00:05<00:00, 23.46it/s]\n",
            "Loading…: 100%|██████████████████████████| 139/139 [00:06<00:00, 20.86it/s]\n"
          ]
        },
        {
          "output_type": "stream",
          "name": "stdout",
          "text": [
            "Iteration: 73\n"
          ]
        },
        {
          "output_type": "stream",
          "name": "stderr",
          "text": [
            "Loading…: 100%|██████████████████████████| 139/139 [00:04<00:00, 29.34it/s]\n",
            "Loading…: 100%|██████████████████████████| 139/139 [00:06<00:00, 21.47it/s]\n",
            "Loading…: 100%|██████████████████████████| 139/139 [00:04<00:00, 29.05it/s]\n",
            "Loading…: 100%|██████████████████████████| 139/139 [00:06<00:00, 22.56it/s]\n",
            "Loading…: 100%|██████████████████████████| 139/139 [00:04<00:00, 28.51it/s]\n",
            "Loading…: 100%|██████████████████████████| 139/139 [00:04<00:00, 30.42it/s]\n",
            "Loading…: 100%|██████████████████████████| 139/139 [00:06<00:00, 20.99it/s]\n",
            "Loading…: 100%|██████████████████████████| 139/139 [00:04<00:00, 29.25it/s]\n",
            "Loading…: 100%|██████████████████████████| 139/139 [00:05<00:00, 25.26it/s]\n",
            "Loading…: 100%|██████████████████████████| 139/139 [00:05<00:00, 24.58it/s]\n"
          ]
        },
        {
          "output_type": "stream",
          "name": "stdout",
          "text": [
            "Iteration: 74\n"
          ]
        },
        {
          "output_type": "stream",
          "name": "stderr",
          "text": [
            "Loading…: 100%|██████████████████████████| 139/139 [00:04<00:00, 29.79it/s]\n",
            "Loading…: 100%|██████████████████████████| 139/139 [00:06<00:00, 21.89it/s]\n",
            "Loading…: 100%|██████████████████████████| 139/139 [00:04<00:00, 28.84it/s]\n",
            "Loading…: 100%|██████████████████████████| 139/139 [00:05<00:00, 25.56it/s]\n",
            "Loading…: 100%|██████████████████████████| 139/139 [00:05<00:00, 25.13it/s]\n",
            "Loading…: 100%|██████████████████████████| 139/139 [00:04<00:00, 30.36it/s]\n",
            "Loading…: 100%|██████████████████████████| 139/139 [00:06<00:00, 21.06it/s]\n",
            "Loading…: 100%|██████████████████████████| 139/139 [00:04<00:00, 29.36it/s]\n",
            "Loading…: 100%|██████████████████████████| 139/139 [00:04<00:00, 27.92it/s]\n",
            "Loading…: 100%|██████████████████████████| 139/139 [00:06<00:00, 23.02it/s]\n"
          ]
        },
        {
          "output_type": "stream",
          "name": "stdout",
          "text": [
            "Iteration: 75\n"
          ]
        },
        {
          "output_type": "stream",
          "name": "stderr",
          "text": [
            "Loading…: 100%|██████████████████████████| 139/139 [00:04<00:00, 29.30it/s]\n",
            "Loading…: 100%|██████████████████████████| 139/139 [00:06<00:00, 22.10it/s]\n",
            "Loading…: 100%|██████████████████████████| 139/139 [00:04<00:00, 28.99it/s]\n",
            "Loading…: 100%|██████████████████████████| 139/139 [00:05<00:00, 27.42it/s]\n",
            "Loading…: 100%|██████████████████████████| 139/139 [00:05<00:00, 23.87it/s]\n",
            "Loading…: 100%|██████████████████████████| 139/139 [00:04<00:00, 30.39it/s]\n",
            "Loading…: 100%|██████████████████████████| 139/139 [00:06<00:00, 20.97it/s]\n",
            "Loading…: 100%|██████████████████████████| 139/139 [00:04<00:00, 28.87it/s]\n",
            "Loading…: 100%|██████████████████████████| 139/139 [00:04<00:00, 28.31it/s]\n",
            "Loading…: 100%|██████████████████████████| 139/139 [00:06<00:00, 22.55it/s]\n"
          ]
        },
        {
          "output_type": "stream",
          "name": "stdout",
          "text": [
            "Iteration: 76\n"
          ]
        },
        {
          "output_type": "stream",
          "name": "stderr",
          "text": [
            "Loading…: 100%|██████████████████████████| 139/139 [00:06<00:00, 21.64it/s]\n",
            "Loading…: 100%|██████████████████████████| 139/139 [00:07<00:00, 18.54it/s]\n",
            "Loading…: 100%|██████████████████████████| 139/139 [00:07<00:00, 19.78it/s]\n",
            "Loading…: 100%|██████████████████████████| 139/139 [00:07<00:00, 19.71it/s]\n",
            "Loading…: 100%|██████████████████████████| 139/139 [00:07<00:00, 19.47it/s]\n",
            "Loading…: 100%|██████████████████████████| 139/139 [00:06<00:00, 21.56it/s]\n",
            "Loading…: 100%|██████████████████████████| 139/139 [00:08<00:00, 16.90it/s]\n",
            "Loading…: 100%|██████████████████████████| 139/139 [00:06<00:00, 21.59it/s]\n",
            "Loading…: 100%|██████████████████████████| 139/139 [00:08<00:00, 17.10it/s]\n",
            "Loading…: 100%|██████████████████████████| 139/139 [00:06<00:00, 23.09it/s]\n"
          ]
        },
        {
          "output_type": "stream",
          "name": "stdout",
          "text": [
            "Iteration: 77\n"
          ]
        },
        {
          "output_type": "stream",
          "name": "stderr",
          "text": [
            "Loading…: 100%|██████████████████████████| 139/139 [00:08<00:00, 16.84it/s]\n",
            "Loading…: 100%|██████████████████████████| 139/139 [00:06<00:00, 23.09it/s]\n",
            "Loading…: 100%|██████████████████████████| 139/139 [00:08<00:00, 16.82it/s]\n",
            "Loading…: 100%|██████████████████████████| 139/139 [00:06<00:00, 22.55it/s]\n",
            "Loading…: 100%|██████████████████████████| 139/139 [00:07<00:00, 18.61it/s]\n",
            "Loading…: 100%|██████████████████████████| 139/139 [00:06<00:00, 21.82it/s]\n",
            "Loading…: 100%|██████████████████████████| 139/139 [00:07<00:00, 18.35it/s]\n",
            "Loading…: 100%|██████████████████████████| 139/139 [00:07<00:00, 17.84it/s]\n",
            "Loading…: 100%|██████████████████████████| 139/139 [00:06<00:00, 21.60it/s]\n",
            "Loading…: 100%|██████████████████████████| 139/139 [00:07<00:00, 17.61it/s]\n"
          ]
        },
        {
          "output_type": "stream",
          "name": "stdout",
          "text": [
            "Iteration: 78\n"
          ]
        },
        {
          "output_type": "stream",
          "name": "stderr",
          "text": [
            "Loading…: 100%|██████████████████████████| 139/139 [00:06<00:00, 21.69it/s]\n",
            "Loading…: 100%|██████████████████████████| 139/139 [00:07<00:00, 17.79it/s]\n",
            "Loading…: 100%|██████████████████████████| 139/139 [00:06<00:00, 21.49it/s]\n",
            "Loading…: 100%|██████████████████████████| 139/139 [00:08<00:00, 17.07it/s]\n",
            "Loading…: 100%|██████████████████████████| 139/139 [00:06<00:00, 23.02it/s]\n",
            "Loading…: 100%|██████████████████████████| 139/139 [00:07<00:00, 17.74it/s]\n",
            "Loading…: 100%|██████████████████████████| 139/139 [00:06<00:00, 21.57it/s]\n",
            "Loading…: 100%|██████████████████████████| 139/139 [00:07<00:00, 17.67it/s]\n",
            "Loading…: 100%|██████████████████████████| 139/139 [00:07<00:00, 19.09it/s]\n",
            "Loading…: 100%|██████████████████████████| 139/139 [00:06<00:00, 21.34it/s]\n"
          ]
        },
        {
          "output_type": "stream",
          "name": "stdout",
          "text": [
            "Iteration: 79\n"
          ]
        },
        {
          "output_type": "stream",
          "name": "stderr",
          "text": [
            "Loading…: 100%|██████████████████████████| 139/139 [00:09<00:00, 14.48it/s]\n",
            "Loading…: 100%|██████████████████████████| 139/139 [00:07<00:00, 19.07it/s]\n",
            "Loading…: 100%|██████████████████████████| 139/139 [00:09<00:00, 15.08it/s]\n",
            "Loading…: 100%|██████████████████████████| 139/139 [00:09<00:00, 14.87it/s]\n",
            "Loading…: 100%|██████████████████████████| 139/139 [00:07<00:00, 19.14it/s]\n",
            "Loading…: 100%|██████████████████████████| 139/139 [00:08<00:00, 15.92it/s]\n",
            "Loading…: 100%|██████████████████████████| 139/139 [00:09<00:00, 14.44it/s]\n",
            "Loading…: 100%|██████████████████████████| 139/139 [00:07<00:00, 17.60it/s]\n",
            "Loading…: 100%|██████████████████████████| 139/139 [00:08<00:00, 15.62it/s]\n",
            "Loading…: 100%|██████████████████████████| 139/139 [00:09<00:00, 15.22it/s]\n"
          ]
        },
        {
          "output_type": "stream",
          "name": "stdout",
          "text": [
            "Iteration: 80\n"
          ]
        },
        {
          "output_type": "stream",
          "name": "stderr",
          "text": [
            "Loading…: 100%|██████████████████████████| 139/139 [00:08<00:00, 16.52it/s]\n",
            "Loading…: 100%|██████████████████████████| 139/139 [00:08<00:00, 17.36it/s]\n",
            "Loading…: 100%|██████████████████████████| 139/139 [00:09<00:00, 14.47it/s]\n",
            "Loading…: 100%|██████████████████████████| 139/139 [00:07<00:00, 17.60it/s]\n",
            "Loading…: 100%|██████████████████████████| 139/139 [00:08<00:00, 17.29it/s]\n",
            "Loading…: 100%|██████████████████████████| 139/139 [00:09<00:00, 15.17it/s]\n",
            "Loading…: 100%|██████████████████████████| 139/139 [00:07<00:00, 17.61it/s]\n",
            "Loading…: 100%|██████████████████████████| 139/139 [00:09<00:00, 15.40it/s]\n",
            "Loading…: 100%|██████████████████████████| 139/139 [00:09<00:00, 14.68it/s]\n",
            "Loading…: 100%|██████████████████████████| 139/139 [00:07<00:00, 18.41it/s]\n"
          ]
        },
        {
          "output_type": "stream",
          "name": "stdout",
          "text": [
            "Iteration: 81\n"
          ]
        },
        {
          "output_type": "stream",
          "name": "stderr",
          "text": [
            "Loading…: 100%|██████████████████████████| 139/139 [00:08<00:00, 16.14it/s]\n",
            "Loading…: 100%|██████████████████████████| 139/139 [00:09<00:00, 15.32it/s]\n",
            "Loading…: 100%|██████████████████████████| 139/139 [00:08<00:00, 16.06it/s]\n",
            "Loading…: 100%|██████████████████████████| 139/139 [00:08<00:00, 17.13it/s]\n",
            "Loading…: 100%|██████████████████████████| 139/139 [00:09<00:00, 15.30it/s]\n",
            "Loading…: 100%|██████████████████████████| 139/139 [00:07<00:00, 18.29it/s]\n",
            "Loading…: 100%|██████████████████████████| 139/139 [00:08<00:00, 15.71it/s]\n",
            "Loading…: 100%|██████████████████████████| 139/139 [00:09<00:00, 14.22it/s]\n",
            "Loading…: 100%|██████████████████████████| 139/139 [00:08<00:00, 16.21it/s]\n",
            "Loading…: 100%|██████████████████████████| 139/139 [00:07<00:00, 17.98it/s]\n"
          ]
        },
        {
          "output_type": "stream",
          "name": "stdout",
          "text": [
            "Iteration: 82\n"
          ]
        },
        {
          "output_type": "stream",
          "name": "stderr",
          "text": [
            "Loading…: 100%|██████████████████████████| 139/139 [00:06<00:00, 21.06it/s]\n",
            "Loading…: 100%|██████████████████████████| 139/139 [00:04<00:00, 30.54it/s]\n",
            "Loading…: 100%|██████████████████████████| 139/139 [00:04<00:00, 28.65it/s]\n",
            "Loading…: 100%|██████████████████████████| 139/139 [00:06<00:00, 21.15it/s]\n",
            "Loading…: 100%|██████████████████████████| 139/139 [00:04<00:00, 30.10it/s]\n",
            "Loading…: 100%|██████████████████████████| 139/139 [00:06<00:00, 22.49it/s]\n",
            "Loading…: 100%|██████████████████████████| 139/139 [00:05<00:00, 27.71it/s]\n",
            "Loading…: 100%|██████████████████████████| 139/139 [00:04<00:00, 28.34it/s]\n",
            "Loading…: 100%|██████████████████████████| 139/139 [00:06<00:00, 20.91it/s]\n",
            "Loading…: 100%|██████████████████████████| 139/139 [00:04<00:00, 29.97it/s]\n"
          ]
        },
        {
          "output_type": "stream",
          "name": "stdout",
          "text": [
            "Iteration: 83\n"
          ]
        },
        {
          "output_type": "stream",
          "name": "stderr",
          "text": [
            "Loading…: 100%|██████████████████████████| 139/139 [00:06<00:00, 20.74it/s]\n",
            "Loading…: 100%|██████████████████████████| 139/139 [00:04<00:00, 29.96it/s]\n",
            "Loading…: 100%|██████████████████████████| 139/139 [00:05<00:00, 27.35it/s]\n",
            "Loading…: 100%|██████████████████████████| 139/139 [00:06<00:00, 22.13it/s]\n",
            "Loading…: 100%|██████████████████████████| 139/139 [00:04<00:00, 30.07it/s]\n",
            "Loading…: 100%|██████████████████████████| 139/139 [00:06<00:00, 21.57it/s]\n",
            "Loading…: 100%|██████████████████████████| 139/139 [00:04<00:00, 28.88it/s]\n",
            "Loading…: 100%|██████████████████████████| 139/139 [00:04<00:00, 28.63it/s]\n",
            "Loading…: 100%|██████████████████████████| 139/139 [00:06<00:00, 21.51it/s]\n",
            "Loading…: 100%|██████████████████████████| 139/139 [00:04<00:00, 29.48it/s]\n"
          ]
        },
        {
          "output_type": "stream",
          "name": "stdout",
          "text": [
            "Iteration: 84\n"
          ]
        },
        {
          "output_type": "stream",
          "name": "stderr",
          "text": [
            "Loading…: 100%|██████████████████████████| 139/139 [00:06<00:00, 20.71it/s]\n",
            "Loading…: 100%|██████████████████████████| 139/139 [00:04<00:00, 29.85it/s]\n",
            "Loading…: 100%|██████████████████████████| 139/139 [00:05<00:00, 26.25it/s]\n",
            "Loading…: 100%|██████████████████████████| 139/139 [00:06<00:00, 22.99it/s]\n",
            "Loading…: 100%|██████████████████████████| 139/139 [00:04<00:00, 30.08it/s]\n",
            "Loading…: 100%|██████████████████████████| 139/139 [00:06<00:00, 21.12it/s]\n",
            "Loading…: 100%|██████████████████████████| 139/139 [00:04<00:00, 28.77it/s]\n",
            "Loading…: 100%|██████████████████████████| 139/139 [00:05<00:00, 25.34it/s]\n",
            "Loading…: 100%|██████████████████████████| 139/139 [00:05<00:00, 23.33it/s]\n",
            "Loading…: 100%|██████████████████████████| 139/139 [00:04<00:00, 30.00it/s]\n"
          ]
        },
        {
          "output_type": "stream",
          "name": "stdout",
          "text": [
            "Iteration: 85\n"
          ]
        },
        {
          "output_type": "stream",
          "name": "stderr",
          "text": [
            "Loading…: 100%|██████████████████████████| 139/139 [00:08<00:00, 16.77it/s]\n",
            "Loading…: 100%|██████████████████████████| 139/139 [00:06<00:00, 23.13it/s]\n",
            "Loading…: 100%|██████████████████████████| 139/139 [00:08<00:00, 16.76it/s]\n",
            "Loading…: 100%|██████████████████████████| 139/139 [00:06<00:00, 20.79it/s]\n",
            "Loading…: 100%|██████████████████████████| 139/139 [00:07<00:00, 19.84it/s]\n",
            "Loading…: 100%|██████████████████████████| 139/139 [00:07<00:00, 19.72it/s]\n",
            "Loading…:  83%|█████████████████████▋    | 116/139 [00:05<00:01, 21.95it/s]<ipython-input-6-8f7cd07375b2>:60: RuntimeWarning: divide by zero encountered in log\n",
            "  p_of_y_given_x = np.log(p_of_y * p_of_x_given_y)\n",
            "Loading…: 100%|██████████████████████████| 139/139 [00:06<00:00, 20.05it/s]\n",
            "Loading…: 100%|██████████████████████████| 139/139 [00:08<00:00, 16.79it/s]\n",
            "Loading…: 100%|██████████████████████████| 139/139 [00:06<00:00, 22.06it/s]\n",
            "Loading…: 100%|██████████████████████████| 139/139 [00:07<00:00, 17.46it/s]\n"
          ]
        },
        {
          "output_type": "stream",
          "name": "stdout",
          "text": [
            "Iteration: 86\n"
          ]
        },
        {
          "output_type": "stream",
          "name": "stderr",
          "text": [
            "Loading…: 100%|██████████████████████████| 139/139 [00:06<00:00, 21.35it/s]\n",
            "Loading…: 100%|██████████████████████████| 139/139 [00:08<00:00, 17.10it/s]\n",
            "Loading…: 100%|██████████████████████████| 139/139 [00:06<00:00, 21.24it/s]\n",
            "Loading…: 100%|██████████████████████████| 139/139 [00:07<00:00, 17.45it/s]\n",
            "Loading…: 100%|██████████████████████████| 139/139 [00:06<00:00, 21.25it/s]\n",
            "Loading…: 100%|██████████████████████████| 139/139 [00:07<00:00, 19.45it/s]\n",
            "Loading…: 100%|██████████████████████████| 139/139 [00:07<00:00, 18.21it/s]\n",
            "Loading…: 100%|██████████████████████████| 139/139 [00:06<00:00, 20.66it/s]\n",
            "Loading…: 100%|██████████████████████████| 139/139 [00:08<00:00, 17.10it/s]\n",
            "Loading…: 100%|██████████████████████████| 139/139 [00:06<00:00, 22.93it/s]\n"
          ]
        },
        {
          "output_type": "stream",
          "name": "stdout",
          "text": [
            "Iteration: 87\n"
          ]
        },
        {
          "output_type": "stream",
          "name": "stderr",
          "text": [
            "Loading…: 100%|██████████████████████████| 139/139 [00:08<00:00, 16.87it/s]\n",
            "Loading…: 100%|██████████████████████████| 139/139 [00:05<00:00, 23.42it/s]\n",
            "Loading…: 100%|██████████████████████████| 139/139 [00:08<00:00, 16.87it/s]\n",
            "Loading…: 100%|██████████████████████████| 139/139 [00:06<00:00, 22.37it/s]\n",
            "Loading…: 100%|██████████████████████████| 139/139 [00:07<00:00, 17.76it/s]\n",
            "Loading…: 100%|██████████████████████████| 139/139 [00:06<00:00, 23.00it/s]\n",
            "Loading…: 100%|██████████████████████████| 139/139 [00:07<00:00, 17.38it/s]\n",
            "Loading…: 100%|██████████████████████████| 139/139 [00:07<00:00, 18.50it/s]\n",
            "Loading…: 100%|██████████████████████████| 139/139 [00:06<00:00, 20.14it/s]\n",
            "Loading…: 100%|██████████████████████████| 139/139 [00:07<00:00, 17.70it/s]\n"
          ]
        },
        {
          "output_type": "stream",
          "name": "stdout",
          "text": [
            "Iteration: 88\n"
          ]
        },
        {
          "output_type": "stream",
          "name": "stderr",
          "text": [
            "Loading…: 100%|██████████████████████████| 139/139 [00:07<00:00, 17.75it/s]\n",
            "Loading…: 100%|██████████████████████████| 139/139 [00:09<00:00, 15.32it/s]\n",
            "Loading…: 100%|██████████████████████████| 139/139 [00:09<00:00, 14.24it/s]\n",
            "Loading…: 100%|██████████████████████████| 139/139 [00:07<00:00, 18.63it/s]\n",
            "Loading…: 100%|██████████████████████████| 139/139 [00:09<00:00, 15.29it/s]\n",
            "Loading…: 100%|██████████████████████████| 139/139 [00:09<00:00, 15.33it/s]\n",
            "Loading…:  83%|█████████████████████▋    | 116/139 [00:06<00:01, 18.07it/s]<ipython-input-6-8f7cd07375b2>:60: RuntimeWarning: divide by zero encountered in log\n",
            "  p_of_y_given_x = np.log(p_of_y * p_of_x_given_y)\n",
            "Loading…: 100%|██████████████████████████| 139/139 [00:07<00:00, 17.90it/s]\n",
            "Loading…: 100%|██████████████████████████| 139/139 [00:09<00:00, 14.44it/s]\n",
            "Loading…: 100%|██████████████████████████| 139/139 [00:09<00:00, 14.50it/s]\n",
            "Loading…: 100%|██████████████████████████| 139/139 [00:07<00:00, 18.98it/s]\n"
          ]
        },
        {
          "output_type": "stream",
          "name": "stdout",
          "text": [
            "Iteration: 89\n"
          ]
        },
        {
          "output_type": "stream",
          "name": "stderr",
          "text": [
            "Loading…: 100%|██████████████████████████| 139/139 [00:09<00:00, 14.43it/s]\n",
            "Loading…: 100%|██████████████████████████| 139/139 [00:09<00:00, 15.35it/s]\n",
            "Loading…: 100%|██████████████████████████| 139/139 [00:07<00:00, 17.73it/s]\n",
            "Loading…: 100%|██████████████████████████| 139/139 [00:09<00:00, 14.83it/s]\n",
            "Loading…: 100%|██████████████████████████| 139/139 [00:08<00:00, 15.46it/s]\n",
            "Loading…: 100%|██████████████████████████| 139/139 [00:07<00:00, 19.05it/s]\n",
            "Loading…: 100%|██████████████████████████| 139/139 [00:09<00:00, 14.42it/s]\n",
            "Loading…: 100%|██████████████████████████| 139/139 [00:09<00:00, 14.32it/s]\n",
            "Loading…: 100%|██████████████████████████| 139/139 [00:07<00:00, 18.30it/s]\n",
            "Loading…: 100%|██████████████████████████| 139/139 [00:09<00:00, 15.34it/s]\n"
          ]
        },
        {
          "output_type": "stream",
          "name": "stdout",
          "text": [
            "Iteration: 90\n"
          ]
        },
        {
          "output_type": "stream",
          "name": "stderr",
          "text": [
            "Loading…: 100%|██████████████████████████| 139/139 [00:09<00:00, 14.40it/s]\n",
            "Loading…: 100%|██████████████████████████| 139/139 [00:07<00:00, 19.38it/s]\n",
            "Loading…: 100%|██████████████████████████| 139/139 [00:09<00:00, 14.53it/s]\n",
            "Loading…: 100%|██████████████████████████| 139/139 [00:09<00:00, 14.88it/s]\n",
            "Loading…: 100%|██████████████████████████| 139/139 [00:07<00:00, 19.33it/s]\n",
            "Loading…: 100%|██████████████████████████| 139/139 [00:08<00:00, 15.54it/s]\n",
            "Loading…: 100%|██████████████████████████| 139/139 [00:09<00:00, 14.44it/s]\n",
            "Loading…: 100%|██████████████████████████| 139/139 [00:07<00:00, 17.90it/s]\n",
            "Loading…: 100%|██████████████████████████| 139/139 [00:09<00:00, 15.02it/s]\n",
            "Loading…: 100%|██████████████████████████| 139/139 [00:09<00:00, 15.24it/s]\n"
          ]
        },
        {
          "output_type": "stream",
          "name": "stdout",
          "text": [
            "Iteration: 91\n"
          ]
        },
        {
          "output_type": "stream",
          "name": "stderr",
          "text": [
            "Loading…: 100%|██████████████████████████| 139/139 [00:05<00:00, 23.25it/s]\n",
            "Loading…: 100%|██████████████████████████| 139/139 [00:07<00:00, 18.42it/s]\n",
            "Loading…: 100%|██████████████████████████| 139/139 [00:06<00:00, 22.91it/s]\n",
            "Loading…: 100%|██████████████████████████| 139/139 [00:07<00:00, 17.92it/s]\n",
            "Loading…: 100%|██████████████████████████| 139/139 [00:05<00:00, 23.81it/s]\n",
            "Loading…:  62%|████████████████▋          | 86/139 [00:04<00:04, 13.09it/s]<ipython-input-6-8f7cd07375b2>:60: RuntimeWarning: divide by zero encountered in log\n",
            "  p_of_y_given_x = np.log(p_of_y * p_of_x_given_y)\n",
            "Loading…: 100%|██████████████████████████| 139/139 [00:07<00:00, 17.91it/s]\n",
            "Loading…: 100%|██████████████████████████| 139/139 [00:06<00:00, 23.03it/s]\n",
            "Loading…: 100%|██████████████████████████| 139/139 [00:07<00:00, 17.56it/s]\n",
            "Loading…: 100%|██████████████████████████| 139/139 [00:05<00:00, 23.30it/s]\n",
            "Loading…: 100%|██████████████████████████| 139/139 [00:07<00:00, 18.04it/s]\n"
          ]
        },
        {
          "output_type": "stream",
          "name": "stdout",
          "text": [
            "Iteration: 92\n"
          ]
        },
        {
          "output_type": "stream",
          "name": "stderr",
          "text": [
            "Loading…: 100%|██████████████████████████| 139/139 [00:06<00:00, 22.90it/s]\n",
            "Loading…: 100%|██████████████████████████| 139/139 [00:07<00:00, 18.28it/s]\n",
            "Loading…: 100%|██████████████████████████| 139/139 [00:06<00:00, 22.87it/s]\n",
            "Loading…: 100%|██████████████████████████| 139/139 [00:07<00:00, 17.98it/s]\n",
            "Loading…: 100%|██████████████████████████| 139/139 [00:05<00:00, 24.41it/s]\n",
            "Loading…: 100%|██████████████████████████| 139/139 [00:07<00:00, 18.29it/s]\n",
            "Loading…: 100%|██████████████████████████| 139/139 [00:06<00:00, 22.99it/s]\n",
            "Loading…: 100%|██████████████████████████| 139/139 [00:07<00:00, 17.51it/s]\n",
            "Loading…: 100%|██████████████████████████| 139/139 [00:05<00:00, 23.47it/s]\n",
            "Loading…: 100%|██████████████████████████| 139/139 [00:07<00:00, 18.24it/s]\n"
          ]
        },
        {
          "output_type": "stream",
          "name": "stdout",
          "text": [
            "Iteration: 93\n"
          ]
        },
        {
          "output_type": "stream",
          "name": "stderr",
          "text": [
            "Loading…: 100%|██████████████████████████| 139/139 [00:05<00:00, 23.22it/s]\n",
            "Loading…: 100%|██████████████████████████| 139/139 [00:07<00:00, 18.35it/s]\n",
            "Loading…: 100%|██████████████████████████| 139/139 [00:06<00:00, 22.60it/s]\n",
            "Loading…: 100%|██████████████████████████| 139/139 [00:07<00:00, 17.85it/s]\n",
            "Loading…: 100%|██████████████████████████| 139/139 [00:05<00:00, 24.07it/s]\n",
            "Loading…: 100%|██████████████████████████| 139/139 [00:07<00:00, 18.13it/s]\n",
            "Loading…: 100%|██████████████████████████| 139/139 [00:06<00:00, 22.77it/s]\n",
            "Loading…: 100%|██████████████████████████| 139/139 [00:07<00:00, 17.55it/s]\n",
            "Loading…: 100%|██████████████████████████| 139/139 [00:05<00:00, 23.23it/s]\n",
            "Loading…: 100%|██████████████████████████| 139/139 [00:07<00:00, 18.07it/s]\n"
          ]
        },
        {
          "output_type": "stream",
          "name": "stdout",
          "text": [
            "Iteration: 94\n"
          ]
        },
        {
          "output_type": "stream",
          "name": "stderr",
          "text": [
            "Loading…: 100%|██████████████████████████| 139/139 [00:08<00:00, 15.98it/s]\n",
            "Loading…: 100%|██████████████████████████| 139/139 [00:08<00:00, 16.49it/s]\n",
            "Loading…: 100%|██████████████████████████| 139/139 [00:09<00:00, 13.99it/s]\n",
            "Loading…: 100%|██████████████████████████| 139/139 [00:08<00:00, 15.97it/s]\n",
            "Loading…: 100%|██████████████████████████| 139/139 [00:08<00:00, 16.99it/s]\n",
            "Loading…:  63%|████████████████▉          | 87/139 [00:06<00:06,  8.40it/s]<ipython-input-6-8f7cd07375b2>:60: RuntimeWarning: divide by zero encountered in log\n",
            "  p_of_y_given_x = np.log(p_of_y * p_of_x_given_y)\n",
            "Loading…: 100%|██████████████████████████| 139/139 [00:09<00:00, 14.70it/s]\n",
            "Loading…:   4%|█▏                          | 6/139 [00:00<00:05, 22.38it/s]<ipython-input-6-8f7cd07375b2>:60: RuntimeWarning: divide by zero encountered in log\n",
            "  p_of_y_given_x = np.log(p_of_y * p_of_x_given_y)\n",
            "Loading…: 100%|██████████████████████████| 139/139 [00:08<00:00, 15.70it/s]\n",
            "Loading…: 100%|██████████████████████████| 139/139 [00:08<00:00, 15.59it/s]\n",
            "Loading…: 100%|██████████████████████████| 139/139 [00:09<00:00, 14.29it/s]\n",
            "Loading…: 100%|██████████████████████████| 139/139 [00:08<00:00, 16.11it/s]\n"
          ]
        },
        {
          "output_type": "stream",
          "name": "stdout",
          "text": [
            "Iteration: 95\n"
          ]
        },
        {
          "output_type": "stream",
          "name": "stderr",
          "text": [
            "Loading…: 100%|██████████████████████████| 139/139 [00:08<00:00, 16.93it/s]\n",
            "Loading…: 100%|██████████████████████████| 139/139 [00:09<00:00, 14.84it/s]\n",
            "Loading…: 100%|██████████████████████████| 139/139 [00:09<00:00, 14.00it/s]\n",
            "Loading…: 100%|██████████████████████████| 139/139 [00:07<00:00, 17.81it/s]\n",
            "Loading…: 100%|██████████████████████████| 139/139 [00:09<00:00, 14.93it/s]\n",
            "Loading…: 100%|██████████████████████████| 139/139 [00:09<00:00, 15.29it/s]\n",
            "Loading…: 100%|██████████████████████████| 139/139 [00:08<00:00, 17.16it/s]\n",
            "Loading…: 100%|██████████████████████████| 139/139 [00:09<00:00, 14.01it/s]\n",
            "Loading…: 100%|██████████████████████████| 139/139 [00:09<00:00, 14.29it/s]\n",
            "Loading…: 100%|██████████████████████████| 139/139 [00:07<00:00, 18.28it/s]\n"
          ]
        },
        {
          "output_type": "stream",
          "name": "stdout",
          "text": [
            "Iteration: 96\n"
          ]
        },
        {
          "output_type": "stream",
          "name": "stderr",
          "text": [
            "Loading…: 100%|██████████████████████████| 139/139 [00:09<00:00, 14.10it/s]\n",
            "Loading…: 100%|██████████████████████████| 139/139 [00:09<00:00, 14.90it/s]\n",
            "Loading…: 100%|██████████████████████████| 139/139 [00:08<00:00, 17.16it/s]\n",
            "Loading…: 100%|██████████████████████████| 139/139 [00:09<00:00, 14.44it/s]\n",
            "Loading…: 100%|██████████████████████████| 139/139 [00:09<00:00, 14.93it/s]\n",
            "Loading…: 100%|██████████████████████████| 139/139 [00:07<00:00, 18.40it/s]\n",
            "Loading…: 100%|██████████████████████████| 139/139 [00:09<00:00, 14.18it/s]\n",
            "Loading…: 100%|██████████████████████████| 139/139 [00:09<00:00, 14.08it/s]\n",
            "Loading…: 100%|██████████████████████████| 139/139 [00:07<00:00, 17.42it/s]\n",
            "Loading…: 100%|██████████████████████████| 139/139 [00:09<00:00, 14.68it/s]\n"
          ]
        },
        {
          "output_type": "stream",
          "name": "stdout",
          "text": [
            "Iteration: 97\n"
          ]
        },
        {
          "output_type": "stream",
          "name": "stderr",
          "text": [
            "Loading…: 100%|██████████████████████████| 139/139 [00:11<00:00, 11.88it/s]\n",
            "Loading…: 100%|██████████████████████████| 139/139 [00:11<00:00, 12.54it/s]\n",
            "Loading…: 100%|██████████████████████████| 139/139 [00:11<00:00, 12.28it/s]\n",
            "Loading…: 100%|██████████████████████████| 139/139 [00:09<00:00, 14.76it/s]\n",
            "Loading…: 100%|██████████████████████████| 139/139 [00:10<00:00, 12.93it/s]\n",
            "Loading…:  63%|████████████████▉          | 87/139 [00:07<00:04, 11.61it/s]<ipython-input-6-8f7cd07375b2>:60: RuntimeWarning: divide by zero encountered in log\n",
            "  p_of_y_given_x = np.log(p_of_y * p_of_x_given_y)\n",
            "Loading…: 100%|██████████████████████████| 139/139 [00:10<00:00, 12.65it/s]\n",
            "Loading…:   4%|█▏                          | 6/139 [00:00<00:06, 19.65it/s]<ipython-input-6-8f7cd07375b2>:60: RuntimeWarning: divide by zero encountered in log\n",
            "  p_of_y_given_x = np.log(p_of_y * p_of_x_given_y)\n",
            "Loading…: 100%|██████████████████████████| 139/139 [00:11<00:00, 11.99it/s]\n",
            "Loading…: 100%|██████████████████████████| 139/139 [00:11<00:00, 11.84it/s]\n",
            "Loading…: 100%|██████████████████████████| 139/139 [00:10<00:00, 13.07it/s]\n",
            "Loading…: 100%|██████████████████████████| 139/139 [00:09<00:00, 14.59it/s]\n"
          ]
        },
        {
          "output_type": "stream",
          "name": "stdout",
          "text": [
            "Iteration: 98\n"
          ]
        },
        {
          "output_type": "stream",
          "name": "stderr",
          "text": [
            "Loading…: 100%|██████████████████████████| 139/139 [00:11<00:00, 12.00it/s]\n",
            "Loading…: 100%|██████████████████████████| 139/139 [00:10<00:00, 12.71it/s]\n",
            "Loading…: 100%|██████████████████████████| 139/139 [00:11<00:00, 11.87it/s]\n",
            "Loading…: 100%|██████████████████████████| 139/139 [00:11<00:00, 12.33it/s]\n",
            "Loading…: 100%|██████████████████████████| 139/139 [00:09<00:00, 14.23it/s]\n",
            "Loading…: 100%|██████████████████████████| 139/139 [00:09<00:00, 13.98it/s]\n",
            "Loading…: 100%|██████████████████████████| 139/139 [00:11<00:00, 11.93it/s]\n",
            "Loading…: 100%|██████████████████████████| 139/139 [00:11<00:00, 11.89it/s]\n",
            "Loading…: 100%|██████████████████████████| 139/139 [00:11<00:00, 12.23it/s]\n",
            "Loading…: 100%|██████████████████████████| 139/139 [00:10<00:00, 12.64it/s]\n"
          ]
        },
        {
          "output_type": "stream",
          "name": "stdout",
          "text": [
            "Iteration: 99\n"
          ]
        },
        {
          "output_type": "stream",
          "name": "stderr",
          "text": [
            "Loading…: 100%|██████████████████████████| 139/139 [00:10<00:00, 12.79it/s]\n",
            "Loading…: 100%|██████████████████████████| 139/139 [00:09<00:00, 15.00it/s]\n",
            "Loading…: 100%|██████████████████████████| 139/139 [00:11<00:00, 11.62it/s]\n",
            "Loading…: 100%|██████████████████████████| 139/139 [00:11<00:00, 12.32it/s]\n",
            "Loading…: 100%|██████████████████████████| 139/139 [00:10<00:00, 12.76it/s]\n",
            "Loading…: 100%|██████████████████████████| 139/139 [00:10<00:00, 12.64it/s]\n",
            "Loading…: 100%|██████████████████████████| 139/139 [00:10<00:00, 13.69it/s]\n",
            "Loading…: 100%|██████████████████████████| 139/139 [00:10<00:00, 12.72it/s]\n",
            "Loading…: 100%|██████████████████████████| 139/139 [00:11<00:00, 12.10it/s]\n",
            "Loading…: 100%|██████████████████████████| 139/139 [00:11<00:00, 12.51it/s]\n"
          ]
        },
        {
          "output_type": "stream",
          "name": "stdout",
          "text": [
            "Iteration: 100\n"
          ]
        },
        {
          "output_type": "stream",
          "name": "stderr",
          "text": [
            "Loading…: 100%|██████████████████████████| 139/139 [00:06<00:00, 20.30it/s]\n",
            "Loading…: 100%|██████████████████████████| 139/139 [00:06<00:00, 21.19it/s]\n",
            "Loading…: 100%|██████████████████████████| 139/139 [00:06<00:00, 20.65it/s]\n",
            "Loading…: 100%|██████████████████████████| 139/139 [00:06<00:00, 19.90it/s]\n",
            "Loading…: 100%|██████████████████████████| 139/139 [00:06<00:00, 22.42it/s]\n",
            "Loading…: 100%|██████████████████████████| 139/139 [00:07<00:00, 19.52it/s]\n",
            "Loading…:   4%|█▏                          | 6/139 [00:00<00:04, 27.43it/s]<ipython-input-6-8f7cd07375b2>:60: RuntimeWarning: divide by zero encountered in log\n",
            "  p_of_y_given_x = np.log(p_of_y * p_of_x_given_y)\n",
            "Loading…: 100%|██████████████████████████| 139/139 [00:06<00:00, 20.90it/s]\n",
            "Loading…: 100%|██████████████████████████| 139/139 [00:07<00:00, 19.11it/s]\n",
            "Loading…: 100%|██████████████████████████| 139/139 [00:06<00:00, 20.95it/s]\n",
            "Loading…: 100%|██████████████████████████| 139/139 [00:06<00:00, 20.07it/s]\n"
          ]
        },
        {
          "output_type": "stream",
          "name": "stdout",
          "text": [
            "Iteration: 101\n"
          ]
        },
        {
          "output_type": "stream",
          "name": "stderr",
          "text": [
            "Loading…: 100%|██████████████████████████| 139/139 [00:07<00:00, 19.64it/s]\n",
            "Loading…: 100%|██████████████████████████| 139/139 [00:06<00:00, 21.34it/s]\n",
            "Loading…: 100%|██████████████████████████| 139/139 [00:07<00:00, 19.33it/s]\n",
            "Loading…: 100%|██████████████████████████| 139/139 [00:06<00:00, 21.30it/s]\n",
            "Loading…: 100%|██████████████████████████| 139/139 [00:06<00:00, 21.05it/s]\n",
            "Loading…: 100%|██████████████████████████| 139/139 [00:06<00:00, 20.57it/s]\n",
            "Loading…: 100%|██████████████████████████| 139/139 [00:07<00:00, 19.74it/s]\n",
            "Loading…: 100%|██████████████████████████| 139/139 [00:06<00:00, 20.19it/s]\n",
            "Loading…: 100%|██████████████████████████| 139/139 [00:07<00:00, 19.81it/s]\n",
            "Loading…: 100%|██████████████████████████| 139/139 [00:06<00:00, 21.28it/s]\n"
          ]
        },
        {
          "output_type": "stream",
          "name": "stdout",
          "text": [
            "Iteration: 102\n"
          ]
        },
        {
          "output_type": "stream",
          "name": "stderr",
          "text": [
            "Loading…: 100%|██████████████████████████| 139/139 [00:07<00:00, 18.54it/s]\n",
            "Loading…: 100%|██████████████████████████| 139/139 [00:06<00:00, 22.83it/s]\n",
            "Loading…: 100%|██████████████████████████| 139/139 [00:07<00:00, 18.14it/s]\n",
            "Loading…: 100%|██████████████████████████| 139/139 [00:06<00:00, 22.53it/s]\n",
            "Loading…: 100%|██████████████████████████| 139/139 [00:11<00:00, 11.62it/s]\n",
            "Loading…: 100%|██████████████████████████| 139/139 [00:08<00:00, 16.40it/s]\n",
            "Loading…: 100%|██████████████████████████| 139/139 [00:06<00:00, 20.13it/s]\n",
            "Loading…: 100%|██████████████████████████| 139/139 [00:07<00:00, 19.26it/s]\n",
            "Loading…: 100%|██████████████████████████| 139/139 [00:06<00:00, 21.08it/s]\n",
            "Loading…: 100%|██████████████████████████| 139/139 [00:06<00:00, 20.16it/s]\n"
          ]
        },
        {
          "output_type": "stream",
          "name": "stdout",
          "text": [
            "Iteration: 103\n"
          ]
        },
        {
          "output_type": "stream",
          "name": "stderr",
          "text": [
            "Loading…: 100%|██████████████████████████| 139/139 [00:08<00:00, 16.86it/s]\n",
            "Loading…: 100%|██████████████████████████| 139/139 [00:09<00:00, 14.73it/s]\n",
            "Loading…: 100%|██████████████████████████| 139/139 [00:09<00:00, 14.01it/s]\n",
            "Loading…: 100%|██████████████████████████| 139/139 [00:07<00:00, 19.15it/s]\n",
            "Loading…: 100%|██████████████████████████| 139/139 [00:08<00:00, 15.77it/s]\n",
            "Loading…: 100%|██████████████████████████| 139/139 [00:07<00:00, 18.63it/s]\n",
            "Loading…:   4%|█▏                          | 6/139 [00:00<00:09, 13.52it/s]<ipython-input-6-8f7cd07375b2>:60: RuntimeWarning: divide by zero encountered in log\n",
            "  p_of_y_given_x = np.log(p_of_y * p_of_x_given_y)\n",
            "Loading…: 100%|██████████████████████████| 139/139 [00:09<00:00, 15.20it/s]\n",
            "Loading…: 100%|██████████████████████████| 139/139 [00:09<00:00, 14.66it/s]\n",
            "Loading…: 100%|██████████████████████████| 139/139 [00:07<00:00, 18.02it/s]\n",
            "Loading…: 100%|██████████████████████████| 139/139 [00:08<00:00, 16.42it/s]\n"
          ]
        },
        {
          "output_type": "stream",
          "name": "stdout",
          "text": [
            "Iteration: 104\n"
          ]
        },
        {
          "output_type": "stream",
          "name": "stderr",
          "text": [
            "Loading…: 100%|██████████████████████████| 139/139 [00:09<00:00, 14.84it/s]\n",
            "Loading…: 100%|██████████████████████████| 139/139 [00:07<00:00, 19.76it/s]\n",
            "Loading…: 100%|██████████████████████████| 139/139 [00:09<00:00, 14.71it/s]\n",
            "Loading…: 100%|██████████████████████████| 139/139 [00:09<00:00, 15.23it/s]\n",
            "Loading…: 100%|██████████████████████████| 139/139 [00:07<00:00, 19.81it/s]\n",
            "Loading…: 100%|██████████████████████████| 139/139 [00:08<00:00, 15.48it/s]\n",
            "Loading…: 100%|██████████████████████████| 139/139 [00:08<00:00, 16.37it/s]\n",
            "Loading…: 100%|██████████████████████████| 139/139 [00:08<00:00, 16.95it/s]\n",
            "Loading…: 100%|██████████████████████████| 139/139 [00:09<00:00, 13.99it/s]\n",
            "Loading…: 100%|██████████████████████████| 139/139 [00:07<00:00, 18.43it/s]\n"
          ]
        },
        {
          "output_type": "stream",
          "name": "stdout",
          "text": [
            "Iteration: 105\n"
          ]
        },
        {
          "output_type": "stream",
          "name": "stderr",
          "text": [
            "Loading…: 100%|██████████████████████████| 139/139 [00:08<00:00, 16.68it/s]\n",
            "Loading…: 100%|██████████████████████████| 139/139 [00:08<00:00, 15.52it/s]\n",
            "Loading…: 100%|██████████████████████████| 139/139 [00:07<00:00, 17.56it/s]\n",
            "Loading…: 100%|██████████████████████████| 139/139 [00:08<00:00, 16.06it/s]\n",
            "Loading…: 100%|██████████████████████████| 139/139 [00:08<00:00, 15.72it/s]\n",
            "Loading…: 100%|██████████████████████████| 139/139 [00:07<00:00, 19.71it/s]\n",
            "Loading…: 100%|██████████████████████████| 139/139 [00:09<00:00, 14.81it/s]\n",
            "Loading…: 100%|██████████████████████████| 139/139 [00:09<00:00, 14.93it/s]\n",
            "Loading…: 100%|██████████████████████████| 139/139 [00:07<00:00, 18.53it/s]\n",
            "Loading…: 100%|██████████████████████████| 139/139 [00:08<00:00, 15.47it/s]\n"
          ]
        },
        {
          "output_type": "stream",
          "name": "stdout",
          "text": [
            "Iteration: 106\n"
          ]
        },
        {
          "output_type": "stream",
          "name": "stderr",
          "text": [
            "Loading…: 100%|██████████████████████████| 139/139 [00:11<00:00, 11.96it/s]\n",
            "Loading…: 100%|██████████████████████████| 139/139 [00:09<00:00, 15.05it/s]\n",
            "Loading…: 100%|██████████████████████████| 139/139 [00:10<00:00, 13.80it/s]\n",
            "Loading…: 100%|██████████████████████████| 139/139 [00:10<00:00, 12.84it/s]\n",
            "Loading…: 100%|██████████████████████████| 139/139 [00:10<00:00, 13.44it/s]\n",
            "Loading…: 100%|██████████████████████████| 139/139 [00:10<00:00, 13.22it/s]\n",
            "Loading…:   4%|█▏                          | 6/139 [00:00<00:05, 22.46it/s]<ipython-input-6-8f7cd07375b2>:60: RuntimeWarning: divide by zero encountered in log\n",
            "  p_of_y_given_x = np.log(p_of_y * p_of_x_given_y)\n",
            "Loading…: 100%|██████████████████████████| 139/139 [00:09<00:00, 15.04it/s]\n",
            "Loading…: 100%|██████████████████████████| 139/139 [00:10<00:00, 12.83it/s]\n",
            "Loading…: 100%|██████████████████████████| 139/139 [00:11<00:00, 12.60it/s]\n",
            "Loading…: 100%|██████████████████████████| 139/139 [00:10<00:00, 13.20it/s]\n"
          ]
        },
        {
          "output_type": "stream",
          "name": "stdout",
          "text": [
            "Iteration: 107\n"
          ]
        },
        {
          "output_type": "stream",
          "name": "stderr",
          "text": [
            "Loading…: 100%|██████████████████████████| 139/139 [00:11<00:00, 12.38it/s]\n",
            "Loading…: 100%|██████████████████████████| 139/139 [00:08<00:00, 16.17it/s]\n",
            "Loading…: 100%|██████████████████████████| 139/139 [00:10<00:00, 12.65it/s]\n",
            "Loading…: 100%|██████████████████████████| 139/139 [00:10<00:00, 12.76it/s]\n",
            "Loading…: 100%|██████████████████████████| 139/139 [00:10<00:00, 13.18it/s]\n",
            "Loading…: 100%|██████████████████████████| 139/139 [00:10<00:00, 13.84it/s]\n",
            "Loading…: 100%|██████████████████████████| 139/139 [00:09<00:00, 14.89it/s]\n",
            "Loading…: 100%|██████████████████████████| 139/139 [00:11<00:00, 12.33it/s]\n",
            "Loading…: 100%|██████████████████████████| 139/139 [00:11<00:00, 12.53it/s]\n",
            "Loading…: 100%|██████████████████████████| 139/139 [00:10<00:00, 13.02it/s]\n"
          ]
        },
        {
          "output_type": "stream",
          "name": "stdout",
          "text": [
            "Iteration: 108\n"
          ]
        },
        {
          "output_type": "stream",
          "name": "stderr",
          "text": [
            "Loading…: 100%|██████████████████████████| 139/139 [00:11<00:00, 12.37it/s]\n",
            "Loading…: 100%|██████████████████████████| 139/139 [00:08<00:00, 16.11it/s]\n",
            "Loading…: 100%|██████████████████████████| 139/139 [00:11<00:00, 12.39it/s]\n",
            "Loading…: 100%|██████████████████████████| 139/139 [00:10<00:00, 12.83it/s]\n",
            "Loading…: 100%|██████████████████████████| 139/139 [00:10<00:00, 13.26it/s]\n",
            "Loading…: 100%|██████████████████████████| 139/139 [00:09<00:00, 14.43it/s]\n",
            "Loading…: 100%|██████████████████████████| 139/139 [00:09<00:00, 14.35it/s]\n",
            "Loading…: 100%|██████████████████████████| 139/139 [00:11<00:00, 12.36it/s]\n",
            "Loading…: 100%|██████████████████████████| 139/139 [00:11<00:00, 12.58it/s]\n",
            "Loading…: 100%|██████████████████████████| 139/139 [00:10<00:00, 13.17it/s]\n"
          ]
        },
        {
          "output_type": "stream",
          "name": "stdout",
          "text": [
            "Iteration: 109\n"
          ]
        },
        {
          "output_type": "stream",
          "name": "stderr",
          "text": [
            "Loading…: 100%|██████████████████████████| 139/139 [00:03<00:00, 45.04it/s]\n",
            "Loading…: 100%|██████████████████████████| 139/139 [00:02<00:00, 47.65it/s]\n",
            "Loading…: 100%|██████████████████████████| 139/139 [00:04<00:00, 27.88it/s]\n",
            "Loading…: 100%|██████████████████████████| 139/139 [00:02<00:00, 46.65it/s]\n",
            "Loading…: 100%|██████████████████████████| 139/139 [00:02<00:00, 48.66it/s]\n",
            "Loading…: 100%|██████████████████████████| 139/139 [00:02<00:00, 47.63it/s]\n",
            "Loading…: 100%|██████████████████████████| 139/139 [00:04<00:00, 27.83it/s]\n",
            "Loading…: 100%|██████████████████████████| 139/139 [00:03<00:00, 45.18it/s]\n",
            "Loading…: 100%|██████████████████████████| 139/139 [00:03<00:00, 46.07it/s]\n",
            "Loading…: 100%|██████████████████████████| 139/139 [00:02<00:00, 46.51it/s]\n"
          ]
        },
        {
          "output_type": "stream",
          "name": "stdout",
          "text": [
            "Iteration: 110\n"
          ]
        },
        {
          "output_type": "stream",
          "name": "stderr",
          "text": [
            "Loading…: 100%|██████████████████████████| 139/139 [00:04<00:00, 33.79it/s]\n",
            "Loading…: 100%|██████████████████████████| 139/139 [00:02<00:00, 48.42it/s]\n",
            "Loading…: 100%|██████████████████████████| 139/139 [00:03<00:00, 44.33it/s]\n",
            "Loading…: 100%|██████████████████████████| 139/139 [00:03<00:00, 35.12it/s]\n",
            "Loading…: 100%|██████████████████████████| 139/139 [00:03<00:00, 36.78it/s]\n",
            "Loading…: 100%|██████████████████████████| 139/139 [00:02<00:00, 46.44it/s]\n",
            "Loading…: 100%|██████████████████████████| 139/139 [00:03<00:00, 46.16it/s]\n",
            "Loading…: 100%|██████████████████████████| 139/139 [00:04<00:00, 32.33it/s]\n",
            "Loading…: 100%|██████████████████████████| 139/139 [00:03<00:00, 38.03it/s]\n",
            "Loading…: 100%|██████████████████████████| 139/139 [00:02<00:00, 46.63it/s]\n"
          ]
        },
        {
          "output_type": "stream",
          "name": "stdout",
          "text": [
            "Iteration: 111\n"
          ]
        },
        {
          "output_type": "stream",
          "name": "stderr",
          "text": [
            "Loading…: 100%|██████████████████████████| 139/139 [00:03<00:00, 45.41it/s]\n",
            "Loading…: 100%|██████████████████████████| 139/139 [00:04<00:00, 28.46it/s]\n",
            "Loading…: 100%|██████████████████████████| 139/139 [00:03<00:00, 44.74it/s]\n",
            "Loading…: 100%|██████████████████████████| 139/139 [00:03<00:00, 45.68it/s]\n",
            "Loading…: 100%|██████████████████████████| 139/139 [00:03<00:00, 45.81it/s]\n",
            "Loading…: 100%|██████████████████████████| 139/139 [00:04<00:00, 29.74it/s]\n",
            "Loading…: 100%|██████████████████████████| 139/139 [00:02<00:00, 46.35it/s]\n",
            "Loading…: 100%|██████████████████████████| 139/139 [00:03<00:00, 45.80it/s]\n",
            "Loading…: 100%|██████████████████████████| 139/139 [00:03<00:00, 43.87it/s]\n",
            "Loading…: 100%|██████████████████████████| 139/139 [00:04<00:00, 30.06it/s]\n"
          ]
        },
        {
          "output_type": "stream",
          "name": "stdout",
          "text": [
            "Iteration: 112\n"
          ]
        },
        {
          "output_type": "stream",
          "name": "stderr",
          "text": [
            "Loading…: 100%|██████████████████████████| 139/139 [00:04<00:00, 34.01it/s]\n",
            "Loading…: 100%|██████████████████████████| 139/139 [00:04<00:00, 30.58it/s]\n",
            "Loading…: 100%|██████████████████████████| 139/139 [00:05<00:00, 27.31it/s]\n",
            "Loading…: 100%|██████████████████████████| 139/139 [00:03<00:00, 35.54it/s]\n",
            "Loading…: 100%|██████████████████████████| 139/139 [00:04<00:00, 28.65it/s]\n",
            "Loading…: 100%|██████████████████████████| 139/139 [00:04<00:00, 31.90it/s]\n",
            "Loading…: 100%|██████████████████████████| 139/139 [00:04<00:00, 34.53it/s]\n",
            "Loading…: 100%|██████████████████████████| 139/139 [00:05<00:00, 24.69it/s]\n",
            "Loading…: 100%|██████████████████████████| 139/139 [00:04<00:00, 33.75it/s]\n",
            "Loading…: 100%|██████████████████████████| 139/139 [00:03<00:00, 35.59it/s]\n"
          ]
        },
        {
          "output_type": "stream",
          "name": "stdout",
          "text": [
            "Iteration: 113\n"
          ]
        },
        {
          "output_type": "stream",
          "name": "stderr",
          "text": [
            "Loading…: 100%|██████████████████████████| 139/139 [00:05<00:00, 23.53it/s]\n",
            "Loading…: 100%|██████████████████████████| 139/139 [00:03<00:00, 36.50it/s]\n",
            "Loading…: 100%|██████████████████████████| 139/139 [00:04<00:00, 33.10it/s]\n",
            "Loading…: 100%|██████████████████████████| 139/139 [00:05<00:00, 25.06it/s]\n",
            "Loading…: 100%|██████████████████████████| 139/139 [00:03<00:00, 36.75it/s]\n",
            "Loading…: 100%|██████████████████████████| 139/139 [00:04<00:00, 33.80it/s]\n",
            "Loading…: 100%|██████████████████████████| 139/139 [00:05<00:00, 25.24it/s]\n",
            "Loading…: 100%|██████████████████████████| 139/139 [00:04<00:00, 33.46it/s]\n",
            "Loading…: 100%|██████████████████████████| 139/139 [00:05<00:00, 27.35it/s]\n",
            "Loading…: 100%|██████████████████████████| 139/139 [00:04<00:00, 29.86it/s]\n"
          ]
        },
        {
          "output_type": "stream",
          "name": "stdout",
          "text": [
            "Iteration: 114\n"
          ]
        },
        {
          "output_type": "stream",
          "name": "stderr",
          "text": [
            "Loading…: 100%|██████████████████████████| 139/139 [00:04<00:00, 33.73it/s]\n",
            "Loading…: 100%|██████████████████████████| 139/139 [00:05<00:00, 24.45it/s]\n",
            "Loading…: 100%|██████████████████████████| 139/139 [00:04<00:00, 33.19it/s]\n",
            "Loading…: 100%|██████████████████████████| 139/139 [00:03<00:00, 35.43it/s]\n",
            "Loading…: 100%|██████████████████████████| 139/139 [00:05<00:00, 24.30it/s]\n",
            "Loading…: 100%|██████████████████████████| 139/139 [00:03<00:00, 36.26it/s]\n",
            "Loading…: 100%|██████████████████████████| 139/139 [00:03<00:00, 35.24it/s]\n",
            "Loading…: 100%|██████████████████████████| 139/139 [00:05<00:00, 23.24it/s]\n",
            "Loading…: 100%|██████████████████████████| 139/139 [00:03<00:00, 35.11it/s]\n",
            "Loading…: 100%|██████████████████████████| 139/139 [00:03<00:00, 35.35it/s]\n"
          ]
        },
        {
          "output_type": "stream",
          "name": "stdout",
          "text": [
            "Iteration: 115\n"
          ]
        },
        {
          "output_type": "stream",
          "name": "stderr",
          "text": [
            "Loading…: 100%|██████████████████████████| 139/139 [00:05<00:00, 27.04it/s]\n",
            "Loading…: 100%|██████████████████████████| 139/139 [00:04<00:00, 30.40it/s]\n",
            "Loading…: 100%|██████████████████████████| 139/139 [00:06<00:00, 20.15it/s]\n",
            "Loading…: 100%|██████████████████████████| 139/139 [00:04<00:00, 29.78it/s]\n",
            "Loading…: 100%|██████████████████████████| 139/139 [00:06<00:00, 21.67it/s]\n",
            "Loading…: 100%|██████████████████████████| 139/139 [00:04<00:00, 30.08it/s]\n",
            "Loading…: 100%|██████████████████████████| 139/139 [00:05<00:00, 23.29it/s]\n",
            "Loading…: 100%|██████████████████████████| 139/139 [00:05<00:00, 25.69it/s]\n",
            "Loading…: 100%|██████████████████████████| 139/139 [00:04<00:00, 29.26it/s]\n",
            "Loading…: 100%|██████████████████████████| 139/139 [00:06<00:00, 21.79it/s]\n"
          ]
        },
        {
          "output_type": "stream",
          "name": "stdout",
          "text": [
            "Iteration: 116\n"
          ]
        },
        {
          "output_type": "stream",
          "name": "stderr",
          "text": [
            "Loading…: 100%|██████████████████████████| 139/139 [00:04<00:00, 28.40it/s]\n",
            "Loading…: 100%|██████████████████████████| 139/139 [00:06<00:00, 21.39it/s]\n",
            "Loading…: 100%|██████████████████████████| 139/139 [00:05<00:00, 27.65it/s]\n",
            "Loading…: 100%|██████████████████████████| 139/139 [00:06<00:00, 21.01it/s]\n",
            "Loading…: 100%|██████████████████████████| 139/139 [00:04<00:00, 30.93it/s]\n",
            "Loading…: 100%|██████████████████████████| 139/139 [00:05<00:00, 26.34it/s]\n",
            "Loading…: 100%|██████████████████████████| 139/139 [00:05<00:00, 24.51it/s]\n",
            "Loading…: 100%|██████████████████████████| 139/139 [00:04<00:00, 28.51it/s]\n",
            "Loading…: 100%|██████████████████████████| 139/139 [00:06<00:00, 20.69it/s]\n",
            "Loading…: 100%|██████████████████████████| 139/139 [00:04<00:00, 29.77it/s]\n"
          ]
        },
        {
          "output_type": "stream",
          "name": "stdout",
          "text": [
            "Iteration: 117\n"
          ]
        },
        {
          "output_type": "stream",
          "name": "stderr",
          "text": [
            "Loading…: 100%|██████████████████████████| 139/139 [00:06<00:00, 20.42it/s]\n",
            "Loading…: 100%|██████████████████████████| 139/139 [00:04<00:00, 30.53it/s]\n",
            "Loading…: 100%|██████████████████████████| 139/139 [00:06<00:00, 20.01it/s]\n",
            "Loading…: 100%|██████████████████████████| 139/139 [00:04<00:00, 29.45it/s]\n",
            "Loading…: 100%|██████████████████████████| 139/139 [00:04<00:00, 28.41it/s]\n",
            "Loading…: 100%|██████████████████████████| 139/139 [00:05<00:00, 24.57it/s]\n",
            "Loading…: 100%|██████████████████████████| 139/139 [00:04<00:00, 28.49it/s]\n",
            "Loading…: 100%|██████████████████████████| 139/139 [00:06<00:00, 20.27it/s]\n",
            "Loading…: 100%|██████████████████████████| 139/139 [00:04<00:00, 29.05it/s]\n",
            "Loading…: 100%|██████████████████████████| 139/139 [00:06<00:00, 21.06it/s]\n"
          ]
        },
        {
          "output_type": "stream",
          "name": "stdout",
          "text": [
            "Iteration: 118\n"
          ]
        },
        {
          "output_type": "stream",
          "name": "stderr",
          "text": [
            "Loading…: 100%|██████████████████████████| 139/139 [00:03<00:00, 44.88it/s]\n",
            "Loading…: 100%|██████████████████████████| 139/139 [00:03<00:00, 46.20it/s]\n",
            "Loading…: 100%|██████████████████████████| 139/139 [00:04<00:00, 34.53it/s]\n",
            "Loading…: 100%|██████████████████████████| 139/139 [00:03<00:00, 35.44it/s]\n",
            "Loading…: 100%|██████████████████████████| 139/139 [00:02<00:00, 46.61it/s]\n",
            "Loading…: 100%|██████████████████████████| 139/139 [00:02<00:00, 46.57it/s]\n",
            "Loading…: 100%|██████████████████████████| 139/139 [00:04<00:00, 33.62it/s]\n",
            "Loading…: 100%|██████████████████████████| 139/139 [00:03<00:00, 35.57it/s]\n",
            "Loading…: 100%|██████████████████████████| 139/139 [00:03<00:00, 45.65it/s]\n",
            "Loading…: 100%|██████████████████████████| 139/139 [00:03<00:00, 45.99it/s]\n"
          ]
        },
        {
          "output_type": "stream",
          "name": "stdout",
          "text": [
            "Iteration: 119\n"
          ]
        },
        {
          "output_type": "stream",
          "name": "stderr",
          "text": [
            "Loading…: 100%|██████████████████████████| 139/139 [00:05<00:00, 27.38it/s]\n",
            "Loading…: 100%|██████████████████████████| 139/139 [00:02<00:00, 47.58it/s]\n",
            "Loading…: 100%|██████████████████████████| 139/139 [00:03<00:00, 44.05it/s]\n",
            "Loading…: 100%|██████████████████████████| 139/139 [00:03<00:00, 42.71it/s]\n",
            "Loading…: 100%|██████████████████████████| 139/139 [00:04<00:00, 29.96it/s]\n",
            "Loading…: 100%|██████████████████████████| 139/139 [00:03<00:00, 46.06it/s]\n",
            "Loading…: 100%|██████████████████████████| 139/139 [00:03<00:00, 44.90it/s]\n",
            "Loading…: 100%|██████████████████████████| 139/139 [00:03<00:00, 36.28it/s]\n",
            "Loading…: 100%|██████████████████████████| 139/139 [00:04<00:00, 33.68it/s]\n",
            "Loading…: 100%|██████████████████████████| 139/139 [00:02<00:00, 46.51it/s]\n"
          ]
        },
        {
          "output_type": "stream",
          "name": "stdout",
          "text": [
            "Iteration: 120\n"
          ]
        },
        {
          "output_type": "stream",
          "name": "stderr",
          "text": [
            "Loading…: 100%|██████████████████████████| 139/139 [00:03<00:00, 43.62it/s]\n",
            "Loading…: 100%|██████████████████████████| 139/139 [00:04<00:00, 28.41it/s]\n",
            "Loading…: 100%|██████████████████████████| 139/139 [00:03<00:00, 44.14it/s]\n",
            "Loading…: 100%|██████████████████████████| 139/139 [00:03<00:00, 44.80it/s]\n",
            "Loading…: 100%|██████████████████████████| 139/139 [00:02<00:00, 46.64it/s]\n",
            "Loading…: 100%|██████████████████████████| 139/139 [00:04<00:00, 28.46it/s]\n",
            "Loading…: 100%|██████████████████████████| 139/139 [00:03<00:00, 45.42it/s]\n",
            "Loading…: 100%|██████████████████████████| 139/139 [00:03<00:00, 45.26it/s]\n",
            "Loading…: 100%|██████████████████████████| 139/139 [00:03<00:00, 42.64it/s]\n",
            "Loading…: 100%|██████████████████████████| 139/139 [00:04<00:00, 29.88it/s]\n"
          ]
        },
        {
          "output_type": "stream",
          "name": "stdout",
          "text": [
            "Iteration: 121\n"
          ]
        },
        {
          "output_type": "stream",
          "name": "stderr",
          "text": [
            "Loading…: 100%|██████████████████████████| 139/139 [00:04<00:00, 33.73it/s]\n",
            "Loading…: 100%|██████████████████████████| 139/139 [00:04<00:00, 29.07it/s]\n",
            "Loading…: 100%|██████████████████████████| 139/139 [00:04<00:00, 28.33it/s]\n",
            "Loading…: 100%|██████████████████████████| 139/139 [00:03<00:00, 35.36it/s]\n",
            "Loading…: 100%|██████████████████████████| 139/139 [00:05<00:00, 26.63it/s]\n",
            "Loading…: 100%|██████████████████████████| 139/139 [00:04<00:00, 34.23it/s]\n",
            "Loading…: 100%|██████████████████████████| 139/139 [00:04<00:00, 33.98it/s]\n",
            "Loading…: 100%|██████████████████████████| 139/139 [00:06<00:00, 22.75it/s]\n",
            "Loading…: 100%|██████████████████████████| 139/139 [00:04<00:00, 33.58it/s]\n",
            "Loading…: 100%|██████████████████████████| 139/139 [00:03<00:00, 35.04it/s]\n"
          ]
        },
        {
          "output_type": "stream",
          "name": "stdout",
          "text": [
            "Iteration: 122\n"
          ]
        },
        {
          "output_type": "stream",
          "name": "stderr",
          "text": [
            "Loading…: 100%|██████████████████████████| 139/139 [00:05<00:00, 24.82it/s]\n",
            "Loading…: 100%|██████████████████████████| 139/139 [00:03<00:00, 35.93it/s]\n",
            "Loading…: 100%|██████████████████████████| 139/139 [00:05<00:00, 27.52it/s]\n",
            "Loading…: 100%|██████████████████████████| 139/139 [00:04<00:00, 29.50it/s]\n",
            "Loading…: 100%|██████████████████████████| 139/139 [00:03<00:00, 37.24it/s]\n",
            "Loading…: 100%|██████████████████████████| 139/139 [00:04<00:00, 27.88it/s]\n",
            "Loading…: 100%|██████████████████████████| 139/139 [00:04<00:00, 30.45it/s]\n",
            "Loading…: 100%|██████████████████████████| 139/139 [00:04<00:00, 33.90it/s]\n",
            "Loading…: 100%|██████████████████████████| 139/139 [00:05<00:00, 23.44it/s]\n",
            "Loading…: 100%|██████████████████████████| 139/139 [00:03<00:00, 35.32it/s]\n"
          ]
        },
        {
          "output_type": "stream",
          "name": "stdout",
          "text": [
            "Iteration: 123\n"
          ]
        },
        {
          "output_type": "stream",
          "name": "stderr",
          "text": [
            "Loading…: 100%|██████████████████████████| 139/139 [00:04<00:00, 32.74it/s]\n",
            "Loading…: 100%|██████████████████████████| 139/139 [00:05<00:00, 25.82it/s]\n",
            "Loading…: 100%|██████████████████████████| 139/139 [00:04<00:00, 33.32it/s]\n",
            "Loading…: 100%|██████████████████████████| 139/139 [00:04<00:00, 30.25it/s]\n",
            "Loading…: 100%|██████████████████████████| 139/139 [00:04<00:00, 28.53it/s]\n",
            "Loading…: 100%|██████████████████████████| 139/139 [00:03<00:00, 35.57it/s]\n",
            "Loading…: 100%|██████████████████████████| 139/139 [00:05<00:00, 27.78it/s]\n",
            "Loading…: 100%|██████████████████████████| 139/139 [00:04<00:00, 29.07it/s]\n",
            "Loading…: 100%|██████████████████████████| 139/139 [00:04<00:00, 34.67it/s]\n",
            "Loading…: 100%|██████████████████████████| 139/139 [00:05<00:00, 25.41it/s]\n"
          ]
        },
        {
          "output_type": "stream",
          "name": "stdout",
          "text": [
            "Iteration: 124\n"
          ]
        },
        {
          "output_type": "stream",
          "name": "stderr",
          "text": [
            "Loading…: 100%|██████████████████████████| 139/139 [00:04<00:00, 28.07it/s]\n",
            "Loading…: 100%|██████████████████████████| 139/139 [00:05<00:00, 23.84it/s]\n",
            "Loading…: 100%|██████████████████████████| 139/139 [00:05<00:00, 26.24it/s]\n",
            "Loading…: 100%|██████████████████████████| 139/139 [00:04<00:00, 29.02it/s]\n",
            "Loading…: 100%|██████████████████████████| 139/139 [00:06<00:00, 23.07it/s]\n",
            "Loading…: 100%|██████████████████████████| 139/139 [00:04<00:00, 29.98it/s]\n",
            "Loading…: 100%|██████████████████████████| 139/139 [00:06<00:00, 20.28it/s]\n",
            "Loading…: 100%|██████████████████████████| 139/139 [00:04<00:00, 27.88it/s]\n",
            "Loading…: 100%|██████████████████████████| 139/139 [00:06<00:00, 20.51it/s]\n",
            "Loading…: 100%|██████████████████████████| 139/139 [00:04<00:00, 28.95it/s]\n"
          ]
        },
        {
          "output_type": "stream",
          "name": "stdout",
          "text": [
            "Iteration: 125\n"
          ]
        },
        {
          "output_type": "stream",
          "name": "stderr",
          "text": [
            "Loading…: 100%|██████████████████████████| 139/139 [00:06<00:00, 20.31it/s]\n",
            "Loading…: 100%|██████████████████████████| 139/139 [00:04<00:00, 30.33it/s]\n",
            "Loading…: 100%|██████████████████████████| 139/139 [00:05<00:00, 25.29it/s]\n",
            "Loading…: 100%|██████████████████████████| 139/139 [00:05<00:00, 23.53it/s]\n",
            "Loading…: 100%|██████████████████████████| 139/139 [00:04<00:00, 30.50it/s]\n",
            "Loading…: 100%|██████████████████████████| 139/139 [00:06<00:00, 21.35it/s]\n",
            "Loading…: 100%|██████████████████████████| 139/139 [00:04<00:00, 28.38it/s]\n",
            "Loading…: 100%|██████████████████████████| 139/139 [00:06<00:00, 20.21it/s]\n",
            "Loading…: 100%|██████████████████████████| 139/139 [00:04<00:00, 28.34it/s]\n",
            "Loading…: 100%|██████████████████████████| 139/139 [00:05<00:00, 26.53it/s]\n"
          ]
        },
        {
          "output_type": "stream",
          "name": "stdout",
          "text": [
            "Iteration: 126\n"
          ]
        },
        {
          "output_type": "stream",
          "name": "stderr",
          "text": [
            "Loading…: 100%|██████████████████████████| 139/139 [00:05<00:00, 27.45it/s]\n",
            "Loading…: 100%|██████████████████████████| 139/139 [00:04<00:00, 28.21it/s]\n",
            "Loading…: 100%|██████████████████████████| 139/139 [00:06<00:00, 21.89it/s]\n",
            "Loading…: 100%|██████████████████████████| 139/139 [00:04<00:00, 28.76it/s]\n",
            "Loading…: 100%|██████████████████████████| 139/139 [00:06<00:00, 21.21it/s]\n",
            "Loading…: 100%|██████████████████████████| 139/139 [00:04<00:00, 29.92it/s]\n",
            "Loading…: 100%|██████████████████████████| 139/139 [00:06<00:00, 20.38it/s]\n",
            "Loading…: 100%|██████████████████████████| 139/139 [00:05<00:00, 27.77it/s]\n",
            "Loading…: 100%|██████████████████████████| 139/139 [00:05<00:00, 23.19it/s]\n",
            "Loading…: 100%|██████████████████████████| 139/139 [00:05<00:00, 27.16it/s]\n"
          ]
        },
        {
          "output_type": "stream",
          "name": "stdout",
          "text": [
            "Iteration: 127\n"
          ]
        },
        {
          "output_type": "stream",
          "name": "stderr",
          "text": [
            "Loading…: 100%|██████████████████████████| 139/139 [00:04<00:00, 33.83it/s]\n",
            "Loading…: 100%|██████████████████████████| 139/139 [00:05<00:00, 23.94it/s]\n",
            "Loading…: 100%|██████████████████████████| 139/139 [00:04<00:00, 32.46it/s]\n",
            "Loading…: 100%|██████████████████████████| 139/139 [00:04<00:00, 31.35it/s]\n",
            "Loading…: 100%|██████████████████████████| 139/139 [00:05<00:00, 25.82it/s]\n",
            "Loading…: 100%|██████████████████████████| 139/139 [00:03<00:00, 34.80it/s]\n",
            "Loading…: 100%|██████████████████████████| 139/139 [00:04<00:00, 30.49it/s]\n",
            "Loading…: 100%|██████████████████████████| 139/139 [00:05<00:00, 25.94it/s]\n",
            "Loading…: 100%|██████████████████████████| 139/139 [00:04<00:00, 33.88it/s]\n",
            "Loading…: 100%|██████████████████████████| 139/139 [00:04<00:00, 28.60it/s]\n"
          ]
        },
        {
          "output_type": "stream",
          "name": "stdout",
          "text": [
            "Iteration: 128\n"
          ]
        },
        {
          "output_type": "stream",
          "name": "stderr",
          "text": [
            "Loading…: 100%|██████████████████████████| 139/139 [00:04<00:00, 32.99it/s]\n",
            "Loading…: 100%|██████████████████████████| 139/139 [00:04<00:00, 34.47it/s]\n",
            "Loading…: 100%|██████████████████████████| 139/139 [00:06<00:00, 22.63it/s]\n",
            "Loading…: 100%|██████████████████████████| 139/139 [00:04<00:00, 34.70it/s]\n",
            "Loading…: 100%|██████████████████████████| 139/139 [00:03<00:00, 35.37it/s]\n",
            "Loading…: 100%|██████████████████████████| 139/139 [00:05<00:00, 23.61it/s]\n",
            "Loading…: 100%|██████████████████████████| 139/139 [00:04<00:00, 33.65it/s]\n",
            "Loading…: 100%|██████████████████████████| 139/139 [00:04<00:00, 33.05it/s]\n",
            "Loading…: 100%|██████████████████████████| 139/139 [00:06<00:00, 23.11it/s]\n",
            "Loading…: 100%|██████████████████████████| 139/139 [00:04<00:00, 34.08it/s]\n"
          ]
        },
        {
          "output_type": "stream",
          "name": "stdout",
          "text": [
            "Iteration: 129\n"
          ]
        },
        {
          "output_type": "stream",
          "name": "stderr",
          "text": [
            "Loading…: 100%|██████████████████████████| 139/139 [00:05<00:00, 26.60it/s]\n",
            "Loading…: 100%|██████████████████████████| 139/139 [00:04<00:00, 29.55it/s]\n",
            "Loading…: 100%|██████████████████████████| 139/139 [00:04<00:00, 32.70it/s]\n",
            "Loading…: 100%|██████████████████████████| 139/139 [00:05<00:00, 25.61it/s]\n",
            "Loading…: 100%|██████████████████████████| 139/139 [00:04<00:00, 31.46it/s]\n",
            "Loading…: 100%|██████████████████████████| 139/139 [00:04<00:00, 34.58it/s]\n",
            "Loading…: 100%|██████████████████████████| 139/139 [00:05<00:00, 24.12it/s]\n",
            "Loading…: 100%|██████████████████████████| 139/139 [00:04<00:00, 31.77it/s]\n",
            "Loading…: 100%|██████████████████████████| 139/139 [00:04<00:00, 33.99it/s]\n",
            "Loading…: 100%|██████████████████████████| 139/139 [00:05<00:00, 23.28it/s]\n"
          ]
        },
        {
          "output_type": "stream",
          "name": "stdout",
          "text": [
            "Iteration: 130\n"
          ]
        },
        {
          "output_type": "stream",
          "name": "stderr",
          "text": [
            "Loading…: 100%|██████████████████████████| 139/139 [00:05<00:00, 25.27it/s]\n",
            "Loading…: 100%|██████████████████████████| 139/139 [00:06<00:00, 19.94it/s]\n",
            "Loading…: 100%|██████████████████████████| 139/139 [00:05<00:00, 24.79it/s]\n",
            "Loading…: 100%|██████████████████████████| 139/139 [00:07<00:00, 19.29it/s]\n",
            "Loading…: 100%|██████████████████████████| 139/139 [00:05<00:00, 27.23it/s]\n",
            "Loading…: 100%|██████████████████████████| 139/139 [00:06<00:00, 21.64it/s]\n",
            "Loading…: 100%|██████████████████████████| 139/139 [00:05<00:00, 23.20it/s]\n",
            "Loading…: 100%|██████████████████████████| 139/139 [00:07<00:00, 18.19it/s]\n",
            "Loading…: 100%|██████████████████████████| 139/139 [00:14<00:00,  9.92it/s]\n",
            "Loading…: 100%|██████████████████████████| 139/139 [00:09<00:00, 14.01it/s]\n"
          ]
        },
        {
          "output_type": "stream",
          "name": "stdout",
          "text": [
            "Iteration: 131\n"
          ]
        },
        {
          "output_type": "stream",
          "name": "stderr",
          "text": [
            "Loading…: 100%|██████████████████████████| 139/139 [00:06<00:00, 21.46it/s]\n",
            "Loading…: 100%|██████████████████████████| 139/139 [00:05<00:00, 27.01it/s]\n",
            "Loading…: 100%|██████████████████████████| 139/139 [00:07<00:00, 18.52it/s]\n",
            "Loading…: 100%|██████████████████████████| 139/139 [00:05<00:00, 26.16it/s]\n",
            "Loading…: 100%|██████████████████████████| 139/139 [00:07<00:00, 19.82it/s]\n",
            "Loading…: 100%|██████████████████████████| 139/139 [00:05<00:00, 26.61it/s]\n",
            "Loading…: 100%|██████████████████████████| 139/139 [00:07<00:00, 19.07it/s]\n",
            "Loading…: 100%|██████████████████████████| 139/139 [00:05<00:00, 25.36it/s]\n",
            "Loading…: 100%|██████████████████████████| 139/139 [00:07<00:00, 19.20it/s]\n",
            "Loading…: 100%|██████████████████████████| 139/139 [00:05<00:00, 26.54it/s]\n"
          ]
        },
        {
          "output_type": "stream",
          "name": "stdout",
          "text": [
            "Iteration: 132\n"
          ]
        },
        {
          "output_type": "stream",
          "name": "stderr",
          "text": [
            "Loading…: 100%|██████████████████████████| 139/139 [00:07<00:00, 18.73it/s]\n",
            "Loading…: 100%|██████████████████████████| 139/139 [00:05<00:00, 27.29it/s]\n",
            "Loading…: 100%|██████████████████████████| 139/139 [00:07<00:00, 18.61it/s]\n",
            "Loading…: 100%|██████████████████████████| 139/139 [00:06<00:00, 20.47it/s]\n",
            "Loading…: 100%|██████████████████████████| 139/139 [00:07<00:00, 19.83it/s]\n",
            "Loading…: 100%|██████████████████████████| 139/139 [00:05<00:00, 26.83it/s]\n",
            "Loading…: 100%|██████████████████████████| 139/139 [00:06<00:00, 20.88it/s]\n",
            "Loading…: 100%|██████████████████████████| 139/139 [00:05<00:00, 23.34it/s]\n",
            "Loading…: 100%|██████████████████████████| 139/139 [00:06<00:00, 22.98it/s]\n",
            "Loading…: 100%|██████████████████████████| 139/139 [00:06<00:00, 22.11it/s]\n"
          ]
        },
        {
          "output_type": "stream",
          "name": "stdout",
          "text": [
            "Iteration: 133\n"
          ]
        },
        {
          "output_type": "stream",
          "name": "stderr",
          "text": [
            "Loading…: 100%|██████████████████████████| 139/139 [00:08<00:00, 16.24it/s]\n",
            "Loading…: 100%|██████████████████████████| 139/139 [00:06<00:00, 22.61it/s]\n",
            "Loading…: 100%|██████████████████████████| 139/139 [00:08<00:00, 15.93it/s]\n",
            "Loading…: 100%|██████████████████████████| 139/139 [00:06<00:00, 21.92it/s]\n",
            "Loading…: 100%|██████████████████████████| 139/139 [00:07<00:00, 17.41it/s]\n",
            "Loading…: 100%|██████████████████████████| 139/139 [00:06<00:00, 22.37it/s]\n",
            "Loading…: 100%|██████████████████████████| 139/139 [00:08<00:00, 16.98it/s]\n",
            "Loading…: 100%|██████████████████████████| 139/139 [00:08<00:00, 17.35it/s]\n",
            "Loading…: 100%|██████████████████████████| 139/139 [00:06<00:00, 21.19it/s]\n",
            "Loading…: 100%|██████████████████████████| 139/139 [00:08<00:00, 17.01it/s]\n"
          ]
        },
        {
          "output_type": "stream",
          "name": "stdout",
          "text": [
            "Iteration: 134\n"
          ]
        },
        {
          "output_type": "stream",
          "name": "stderr",
          "text": [
            "Loading…: 100%|██████████████████████████| 139/139 [00:06<00:00, 21.16it/s]\n",
            "Loading…: 100%|██████████████████████████| 139/139 [00:07<00:00, 17.43it/s]\n",
            "Loading…: 100%|██████████████████████████| 139/139 [00:07<00:00, 18.40it/s]\n",
            "Loading…: 100%|██████████████████████████| 139/139 [00:07<00:00, 19.75it/s]\n",
            "Loading…: 100%|██████████████████████████| 139/139 [00:07<00:00, 17.61it/s]\n",
            "Loading…: 100%|██████████████████████████| 139/139 [00:06<00:00, 22.62it/s]\n",
            "Loading…: 100%|██████████████████████████| 139/139 [00:08<00:00, 16.57it/s]\n",
            "Loading…: 100%|██████████████████████████| 139/139 [00:06<00:00, 21.16it/s]\n",
            "Loading…: 100%|██████████████████████████| 139/139 [00:08<00:00, 16.71it/s]\n",
            "Loading…: 100%|██████████████████████████| 139/139 [00:06<00:00, 21.83it/s]\n"
          ]
        },
        {
          "output_type": "stream",
          "name": "stdout",
          "text": [
            "Iteration: 135\n"
          ]
        },
        {
          "output_type": "stream",
          "name": "stderr",
          "text": [
            "Loading…: 100%|██████████████████████████| 139/139 [00:06<00:00, 20.27it/s]\n",
            "Loading…: 100%|██████████████████████████| 139/139 [00:07<00:00, 17.45it/s]\n",
            "Loading…: 100%|██████████████████████████| 139/139 [00:06<00:00, 20.50it/s]\n",
            "Loading…: 100%|██████████████████████████| 139/139 [00:08<00:00, 16.92it/s]\n",
            "Loading…: 100%|██████████████████████████| 139/139 [00:06<00:00, 22.87it/s]\n",
            "Loading…: 100%|██████████████████████████| 139/139 [00:08<00:00, 17.14it/s]\n",
            "Loading…: 100%|██████████████████████████| 139/139 [00:07<00:00, 19.10it/s]\n",
            "Loading…: 100%|██████████████████████████| 139/139 [00:07<00:00, 18.31it/s]\n",
            "Loading…: 100%|██████████████████████████| 139/139 [00:08<00:00, 16.56it/s]\n",
            "Loading…: 100%|██████████████████████████| 139/139 [00:06<00:00, 22.01it/s]\n"
          ]
        },
        {
          "output_type": "stream",
          "name": "stdout",
          "text": [
            "Iteration: 136\n"
          ]
        },
        {
          "output_type": "stream",
          "name": "stderr",
          "text": [
            "Loading…: 100%|██████████████████████████| 139/139 [00:06<00:00, 22.66it/s]\n",
            "Loading…: 100%|██████████████████████████| 139/139 [00:04<00:00, 34.59it/s]\n",
            "Loading…: 100%|██████████████████████████| 139/139 [00:04<00:00, 32.39it/s]\n",
            "Loading…: 100%|██████████████████████████| 139/139 [00:05<00:00, 23.22it/s]\n",
            "Loading…: 100%|██████████████████████████| 139/139 [00:03<00:00, 34.99it/s]\n",
            "Loading…: 100%|██████████████████████████| 139/139 [00:04<00:00, 34.45it/s]\n",
            "Loading…: 100%|██████████████████████████| 139/139 [00:06<00:00, 22.99it/s]\n",
            "Loading…: 100%|██████████████████████████| 139/139 [00:04<00:00, 32.88it/s]\n",
            "Loading…: 100%|██████████████████████████| 139/139 [00:04<00:00, 32.45it/s]\n",
            "Loading…: 100%|██████████████████████████| 139/139 [00:05<00:00, 24.54it/s]\n"
          ]
        },
        {
          "output_type": "stream",
          "name": "stdout",
          "text": [
            "Iteration: 137\n"
          ]
        },
        {
          "output_type": "stream",
          "name": "stderr",
          "text": [
            "Loading…: 100%|██████████████████████████| 139/139 [00:04<00:00, 33.15it/s]\n",
            "Loading…: 100%|██████████████████████████| 139/139 [00:05<00:00, 24.82it/s]\n",
            "Loading…: 100%|██████████████████████████| 139/139 [00:04<00:00, 30.72it/s]\n",
            "Loading…: 100%|██████████████████████████| 139/139 [00:04<00:00, 34.03it/s]\n",
            "Loading…: 100%|██████████████████████████| 139/139 [00:05<00:00, 23.49it/s]\n",
            "Loading…: 100%|██████████████████████████| 139/139 [00:04<00:00, 34.29it/s]\n",
            "Loading…: 100%|██████████████████████████| 139/139 [00:04<00:00, 33.35it/s]\n",
            "Loading…: 100%|██████████████████████████| 139/139 [00:06<00:00, 22.86it/s]\n",
            "Loading…: 100%|██████████████████████████| 139/139 [00:04<00:00, 33.39it/s]\n",
            "Loading…: 100%|██████████████████████████| 139/139 [00:04<00:00, 33.62it/s]\n"
          ]
        },
        {
          "output_type": "stream",
          "name": "stdout",
          "text": [
            "Iteration: 138\n"
          ]
        },
        {
          "output_type": "stream",
          "name": "stderr",
          "text": [
            "Loading…: 100%|██████████████████████████| 139/139 [00:05<00:00, 25.88it/s]\n",
            "Loading…: 100%|██████████████████████████| 139/139 [00:04<00:00, 34.38it/s]\n",
            "Loading…: 100%|██████████████████████████| 139/139 [00:05<00:00, 25.97it/s]\n",
            "Loading…: 100%|██████████████████████████| 139/139 [00:04<00:00, 29.61it/s]\n",
            "Loading…: 100%|██████████████████████████| 139/139 [00:04<00:00, 34.03it/s]\n",
            "Loading…: 100%|██████████████████████████| 139/139 [00:05<00:00, 25.33it/s]\n",
            "Loading…: 100%|██████████████████████████| 139/139 [00:04<00:00, 30.65it/s]\n",
            "Loading…: 100%|██████████████████████████| 139/139 [00:04<00:00, 33.00it/s]\n",
            "Loading…: 100%|██████████████████████████| 139/139 [00:06<00:00, 22.97it/s]\n",
            "Loading…: 100%|██████████████████████████| 139/139 [00:04<00:00, 33.97it/s]\n"
          ]
        },
        {
          "output_type": "stream",
          "name": "stdout",
          "text": [
            "Iteration: 139\n"
          ]
        },
        {
          "output_type": "stream",
          "name": "stderr",
          "text": [
            "Loading…: 100%|██████████████████████████| 139/139 [00:07<00:00, 19.43it/s]\n",
            "Loading…: 100%|██████████████████████████| 139/139 [00:05<00:00, 25.99it/s]\n",
            "Loading…: 100%|██████████████████████████| 139/139 [00:06<00:00, 21.00it/s]\n",
            "Loading…: 100%|██████████████████████████| 139/139 [00:06<00:00, 23.05it/s]\n",
            "Loading…: 100%|██████████████████████████| 139/139 [00:05<00:00, 26.54it/s]\n",
            "Loading…: 100%|██████████████████████████| 139/139 [00:06<00:00, 20.38it/s]\n",
            "Loading…: 100%|██████████████████████████| 139/139 [00:05<00:00, 25.25it/s]\n",
            "Loading…: 100%|██████████████████████████| 139/139 [00:07<00:00, 18.72it/s]\n",
            "Loading…: 100%|██████████████████████████| 139/139 [00:05<00:00, 25.61it/s]\n",
            "Loading…: 100%|██████████████████████████| 139/139 [00:07<00:00, 19.26it/s]\n"
          ]
        },
        {
          "output_type": "stream",
          "name": "stdout",
          "text": [
            "Iteration: 140\n"
          ]
        },
        {
          "output_type": "stream",
          "name": "stderr",
          "text": [
            "Loading…: 100%|██████████████████████████| 139/139 [00:05<00:00, 24.89it/s]\n",
            "Loading…: 100%|██████████████████████████| 139/139 [00:07<00:00, 19.73it/s]\n",
            "Loading…: 100%|██████████████████████████| 139/139 [00:05<00:00, 24.50it/s]\n",
            "Loading…: 100%|██████████████████████████| 139/139 [00:07<00:00, 19.14it/s]\n",
            "Loading…: 100%|██████████████████████████| 139/139 [00:05<00:00, 26.84it/s]\n",
            "Loading…: 100%|██████████████████████████| 139/139 [00:07<00:00, 19.38it/s]\n",
            "Loading…: 100%|██████████████████████████| 139/139 [00:05<00:00, 25.46it/s]\n",
            "Loading…: 100%|██████████████████████████| 139/139 [00:07<00:00, 18.73it/s]\n",
            "Loading…: 100%|██████████████████████████| 139/139 [00:05<00:00, 25.51it/s]\n",
            "Loading…: 100%|██████████████████████████| 139/139 [00:06<00:00, 20.76it/s]\n"
          ]
        },
        {
          "output_type": "stream",
          "name": "stdout",
          "text": [
            "Iteration: 141\n"
          ]
        },
        {
          "output_type": "stream",
          "name": "stderr",
          "text": [
            "Loading…: 100%|██████████████████████████| 139/139 [00:05<00:00, 24.88it/s]\n",
            "Loading…: 100%|██████████████████████████| 139/139 [00:06<00:00, 19.96it/s]\n",
            "Loading…: 100%|██████████████████████████| 139/139 [00:05<00:00, 24.45it/s]\n",
            "Loading…: 100%|██████████████████████████| 139/139 [00:06<00:00, 20.79it/s]\n",
            "Loading…: 100%|██████████████████████████| 139/139 [00:05<00:00, 24.85it/s]\n",
            "Loading…: 100%|██████████████████████████| 139/139 [00:05<00:00, 24.66it/s]\n",
            "Loading…: 100%|██████████████████████████| 139/139 [00:06<00:00, 20.26it/s]\n",
            "Loading…: 100%|██████████████████████████| 139/139 [00:05<00:00, 24.90it/s]\n",
            "Loading…: 100%|██████████████████████████| 139/139 [00:07<00:00, 19.39it/s]\n",
            "Loading…: 100%|██████████████████████████| 139/139 [00:05<00:00, 25.92it/s]\n"
          ]
        },
        {
          "output_type": "stream",
          "name": "stdout",
          "text": [
            "Iteration: 142\n"
          ]
        },
        {
          "output_type": "stream",
          "name": "stderr",
          "text": [
            "Loading…: 100%|██████████████████████████| 139/139 [00:07<00:00, 18.09it/s]\n",
            "Loading…: 100%|██████████████████████████| 139/139 [00:08<00:00, 17.16it/s]\n",
            "Loading…: 100%|██████████████████████████| 139/139 [00:06<00:00, 20.32it/s]\n",
            "Loading…: 100%|██████████████████████████| 139/139 [00:08<00:00, 16.70it/s]\n",
            "Loading…: 100%|██████████████████████████| 139/139 [00:06<00:00, 22.50it/s]\n",
            "Loading…: 100%|██████████████████████████| 139/139 [00:08<00:00, 17.17it/s]\n",
            "Loading…: 100%|██████████████████████████| 139/139 [00:06<00:00, 19.93it/s]\n",
            "Loading…: 100%|██████████████████████████| 139/139 [00:07<00:00, 17.96it/s]\n",
            "Loading…: 100%|██████████████████████████| 139/139 [00:08<00:00, 16.52it/s]\n",
            "Loading…: 100%|██████████████████████████| 139/139 [00:06<00:00, 21.91it/s]\n"
          ]
        },
        {
          "output_type": "stream",
          "name": "stdout",
          "text": [
            "Iteration: 143\n"
          ]
        },
        {
          "output_type": "stream",
          "name": "stderr",
          "text": [
            "Loading…: 100%|██████████████████████████| 139/139 [00:08<00:00, 16.26it/s]\n",
            "Loading…: 100%|██████████████████████████| 139/139 [00:06<00:00, 22.03it/s]\n",
            "Loading…: 100%|██████████████████████████| 139/139 [00:08<00:00, 16.90it/s]\n",
            "Loading…: 100%|██████████████████████████| 139/139 [00:08<00:00, 16.75it/s]\n",
            "Loading…: 100%|██████████████████████████| 139/139 [00:06<00:00, 22.49it/s]\n",
            "Loading…: 100%|██████████████████████████| 139/139 [00:08<00:00, 17.11it/s]\n",
            "Loading…: 100%|██████████████████████████| 139/139 [00:06<00:00, 21.08it/s]\n",
            "Loading…: 100%|██████████████████████████| 139/139 [00:08<00:00, 16.32it/s]\n",
            "Loading…: 100%|██████████████████████████| 139/139 [00:06<00:00, 20.19it/s]\n",
            "Loading…: 100%|██████████████████████████| 139/139 [00:07<00:00, 18.63it/s]\n"
          ]
        },
        {
          "output_type": "stream",
          "name": "stdout",
          "text": [
            "Iteration: 144\n"
          ]
        },
        {
          "output_type": "stream",
          "name": "stderr",
          "text": [
            "Loading…: 100%|██████████████████████████| 139/139 [00:08<00:00, 16.17it/s]\n",
            "Loading…: 100%|██████████████████████████| 139/139 [00:06<00:00, 22.53it/s]\n",
            "Loading…: 100%|██████████████████████████| 139/139 [00:08<00:00, 15.84it/s]\n",
            "Loading…: 100%|██████████████████████████| 139/139 [00:06<00:00, 21.39it/s]\n",
            "Loading…: 100%|██████████████████████████| 139/139 [00:07<00:00, 18.62it/s]\n",
            "Loading…: 100%|██████████████████████████| 139/139 [00:07<00:00, 18.91it/s]\n",
            "Loading…: 100%|██████████████████████████| 139/139 [00:06<00:00, 20.07it/s]\n",
            "Loading…: 100%|██████████████████████████| 139/139 [00:08<00:00, 16.11it/s]\n",
            "Loading…: 100%|██████████████████████████| 139/139 [00:06<00:00, 21.50it/s]\n",
            "Loading…: 100%|██████████████████████████| 139/139 [00:08<00:00, 16.90it/s]\n"
          ]
        },
        {
          "output_type": "stream",
          "name": "stdout",
          "text": [
            "Iteration: 145\n"
          ]
        },
        {
          "output_type": "stream",
          "name": "stderr",
          "text": [
            "Loading…: 100%|██████████████████████████| 139/139 [00:05<00:00, 26.62it/s]\n",
            "Loading…: 100%|██████████████████████████| 139/139 [00:06<00:00, 20.14it/s]\n",
            "Loading…: 100%|██████████████████████████| 139/139 [00:05<00:00, 26.27it/s]\n",
            "Loading…: 100%|██████████████████████████| 139/139 [00:07<00:00, 19.74it/s]\n",
            "Loading…: 100%|██████████████████████████| 139/139 [00:05<00:00, 27.59it/s]\n",
            "Loading…: 100%|██████████████████████████| 139/139 [00:05<00:00, 23.51it/s]\n",
            "Loading…: 100%|██████████████████████████| 139/139 [00:06<00:00, 22.72it/s]\n",
            "Loading…: 100%|██████████████████████████| 139/139 [00:05<00:00, 26.73it/s]\n",
            "Loading…: 100%|██████████████████████████| 139/139 [00:07<00:00, 19.49it/s]\n",
            "Loading…: 100%|██████████████████████████| 139/139 [00:05<00:00, 27.06it/s]\n"
          ]
        },
        {
          "output_type": "stream",
          "name": "stdout",
          "text": [
            "Iteration: 146\n"
          ]
        },
        {
          "output_type": "stream",
          "name": "stderr",
          "text": [
            "Loading…: 100%|██████████████████████████| 139/139 [00:07<00:00, 19.55it/s]\n",
            "Loading…: 100%|██████████████████████████| 139/139 [00:05<00:00, 27.74it/s]\n",
            "Loading…: 100%|██████████████████████████| 139/139 [00:07<00:00, 18.89it/s]\n",
            "Loading…: 100%|██████████████████████████| 139/139 [00:05<00:00, 27.00it/s]\n",
            "Loading…: 100%|██████████████████████████| 139/139 [00:06<00:00, 22.85it/s]\n",
            "Loading…: 100%|██████████████████████████| 139/139 [00:05<00:00, 23.78it/s]\n",
            "Loading…: 100%|██████████████████████████| 139/139 [00:05<00:00, 26.35it/s]\n",
            "Loading…: 100%|██████████████████████████| 139/139 [00:07<00:00, 19.44it/s]\n",
            "Loading…: 100%|██████████████████████████| 139/139 [00:05<00:00, 26.54it/s]\n",
            "Loading…: 100%|██████████████████████████| 139/139 [00:07<00:00, 19.49it/s]\n"
          ]
        },
        {
          "output_type": "stream",
          "name": "stdout",
          "text": [
            "Iteration: 147\n"
          ]
        },
        {
          "output_type": "stream",
          "name": "stderr",
          "text": [
            "Loading…: 100%|██████████████████████████| 139/139 [00:05<00:00, 26.15it/s]\n",
            "Loading…: 100%|██████████████████████████| 139/139 [00:06<00:00, 20.05it/s]\n",
            "Loading…: 100%|██████████████████████████| 139/139 [00:05<00:00, 26.21it/s]\n",
            "Loading…: 100%|██████████████████████████| 139/139 [00:06<00:00, 22.15it/s]\n",
            "Loading…: 100%|██████████████████████████| 139/139 [00:05<00:00, 24.81it/s]\n",
            "Loading…: 100%|██████████████████████████| 139/139 [00:05<00:00, 27.71it/s]\n",
            "Loading…: 100%|██████████████████████████| 139/139 [00:07<00:00, 19.51it/s]\n",
            "Loading…: 100%|██████████████████████████| 139/139 [00:05<00:00, 26.65it/s]\n",
            "Loading…: 100%|██████████████████████████| 139/139 [00:07<00:00, 19.67it/s]\n",
            "Loading…: 100%|██████████████████████████| 139/139 [00:05<00:00, 27.17it/s]\n"
          ]
        },
        {
          "output_type": "stream",
          "name": "stdout",
          "text": [
            "Iteration: 148\n"
          ]
        },
        {
          "output_type": "stream",
          "name": "stderr",
          "text": [
            "Loading…: 100%|██████████████████████████| 139/139 [00:08<00:00, 15.91it/s]\n",
            "Loading…: 100%|██████████████████████████| 139/139 [00:06<00:00, 21.58it/s]\n",
            "Loading…: 100%|██████████████████████████| 139/139 [00:08<00:00, 15.64it/s]\n",
            "Loading…: 100%|██████████████████████████| 139/139 [00:07<00:00, 18.10it/s]\n",
            "Loading…: 100%|██████████████████████████| 139/139 [00:06<00:00, 20.18it/s]\n",
            "Loading…: 100%|██████████████████████████| 139/139 [00:08<00:00, 16.71it/s]\n",
            "Loading…: 100%|██████████████████████████| 139/139 [00:06<00:00, 20.57it/s]\n",
            "Loading…: 100%|██████████████████████████| 139/139 [00:08<00:00, 16.00it/s]\n",
            "Loading…: 100%|██████████████████████████| 139/139 [00:06<00:00, 20.76it/s]\n",
            "Loading…: 100%|██████████████████████████| 139/139 [00:08<00:00, 16.46it/s]\n"
          ]
        },
        {
          "output_type": "stream",
          "name": "stdout",
          "text": [
            "Iteration: 149\n"
          ]
        },
        {
          "output_type": "stream",
          "name": "stderr",
          "text": [
            "Loading…: 100%|██████████████████████████| 139/139 [00:08<00:00, 15.79it/s]\n",
            "Loading…: 100%|██████████████████████████| 139/139 [00:06<00:00, 20.73it/s]\n",
            "Loading…: 100%|██████████████████████████| 139/139 [00:08<00:00, 15.62it/s]\n",
            "Loading…: 100%|██████████████████████████| 139/139 [00:06<00:00, 20.82it/s]\n",
            "Loading…: 100%|██████████████████████████| 139/139 [00:08<00:00, 16.65it/s]\n",
            "Loading…: 100%|██████████████████████████| 139/139 [00:07<00:00, 19.14it/s]\n",
            "Loading…: 100%|██████████████████████████| 139/139 [00:07<00:00, 17.82it/s]\n",
            "Loading…: 100%|██████████████████████████| 139/139 [00:08<00:00, 15.80it/s]\n",
            "Loading…: 100%|██████████████████████████| 139/139 [00:06<00:00, 20.42it/s]\n",
            "Loading…: 100%|██████████████████████████| 139/139 [00:08<00:00, 16.26it/s]\n"
          ]
        },
        {
          "output_type": "stream",
          "name": "stdout",
          "text": [
            "Iteration: 150\n"
          ]
        },
        {
          "output_type": "stream",
          "name": "stderr",
          "text": [
            "Loading…: 100%|██████████████████████████| 139/139 [00:07<00:00, 17.54it/s]\n",
            "Loading…: 100%|██████████████████████████| 139/139 [00:07<00:00, 19.80it/s]\n",
            "Loading…: 100%|██████████████████████████| 139/139 [00:08<00:00, 15.73it/s]\n",
            "Loading…: 100%|██████████████████████████| 139/139 [00:06<00:00, 21.03it/s]\n",
            "Loading…: 100%|██████████████████████████| 139/139 [00:08<00:00, 16.76it/s]\n",
            "Loading…: 100%|██████████████████████████| 139/139 [00:06<00:00, 21.36it/s]\n",
            "Loading…: 100%|██████████████████████████| 139/139 [00:08<00:00, 16.06it/s]\n",
            "Loading…: 100%|██████████████████████████| 139/139 [00:07<00:00, 18.19it/s]\n",
            "Loading…: 100%|██████████████████████████| 139/139 [00:07<00:00, 18.59it/s]\n",
            "Loading…: 100%|██████████████████████████| 139/139 [00:08<00:00, 16.45it/s]\n"
          ]
        },
        {
          "output_type": "stream",
          "name": "stdout",
          "text": [
            "Iteration: 151\n"
          ]
        },
        {
          "output_type": "stream",
          "name": "stderr",
          "text": [
            "Loading…: 100%|██████████████████████████| 139/139 [00:08<00:00, 16.00it/s]\n",
            "Loading…: 100%|██████████████████████████| 139/139 [00:08<00:00, 15.82it/s]\n",
            "Loading…: 100%|██████████████████████████| 139/139 [00:10<00:00, 13.39it/s]\n",
            "Loading…: 100%|██████████████████████████| 139/139 [00:09<00:00, 14.66it/s]\n",
            "Loading…: 100%|██████████████████████████| 139/139 [00:07<00:00, 18.05it/s]\n",
            "Loading…: 100%|██████████████████████████| 139/139 [00:09<00:00, 14.38it/s]\n",
            "Loading…: 100%|██████████████████████████| 139/139 [00:10<00:00, 13.75it/s]\n",
            "Loading…: 100%|██████████████████████████| 139/139 [00:08<00:00, 16.62it/s]\n",
            "Loading…: 100%|██████████████████████████| 139/139 [00:09<00:00, 13.90it/s]\n",
            "Loading…: 100%|██████████████████████████| 139/139 [00:09<00:00, 14.26it/s]\n"
          ]
        },
        {
          "output_type": "stream",
          "name": "stdout",
          "text": [
            "Iteration: 152\n"
          ]
        },
        {
          "output_type": "stream",
          "name": "stderr",
          "text": [
            "Loading…: 100%|██████████████████████████| 139/139 [00:09<00:00, 14.00it/s]\n",
            "Loading…: 100%|██████████████████████████| 139/139 [00:07<00:00, 18.34it/s]\n",
            "Loading…: 100%|██████████████████████████| 139/139 [00:10<00:00, 13.19it/s]\n",
            "Loading…: 100%|██████████████████████████| 139/139 [00:09<00:00, 14.09it/s]\n",
            "Loading…: 100%|██████████████████████████| 139/139 [00:07<00:00, 18.19it/s]\n",
            "Loading…: 100%|██████████████████████████| 139/139 [00:09<00:00, 14.46it/s]\n",
            "Loading…: 100%|██████████████████████████| 139/139 [00:10<00:00, 13.76it/s]\n",
            "Loading…: 100%|██████████████████████████| 139/139 [00:08<00:00, 16.03it/s]\n",
            "Loading…: 100%|██████████████████████████| 139/139 [00:09<00:00, 14.86it/s]\n",
            "Loading…: 100%|██████████████████████████| 139/139 [00:09<00:00, 14.09it/s]\n"
          ]
        },
        {
          "output_type": "stream",
          "name": "stdout",
          "text": [
            "Iteration: 153\n"
          ]
        },
        {
          "output_type": "stream",
          "name": "stderr",
          "text": [
            "Loading…: 100%|██████████████████████████| 139/139 [00:10<00:00, 13.72it/s]\n",
            "Loading…: 100%|██████████████████████████| 139/139 [00:07<00:00, 18.05it/s]\n",
            "Loading…: 100%|██████████████████████████| 139/139 [00:10<00:00, 13.35it/s]\n",
            "Loading…: 100%|██████████████████████████| 139/139 [00:09<00:00, 14.00it/s]\n",
            "Loading…: 100%|██████████████████████████| 139/139 [00:07<00:00, 17.63it/s]\n",
            "Loading…: 100%|██████████████████████████| 139/139 [00:09<00:00, 15.35it/s]\n",
            "Loading…: 100%|██████████████████████████| 139/139 [00:10<00:00, 13.80it/s]\n",
            "Loading…: 100%|██████████████████████████| 139/139 [00:09<00:00, 14.39it/s]\n",
            "Loading…: 100%|██████████████████████████| 139/139 [00:08<00:00, 16.91it/s]\n",
            "Loading…: 100%|██████████████████████████| 139/139 [00:09<00:00, 14.13it/s]\n"
          ]
        },
        {
          "output_type": "stream",
          "name": "stdout",
          "text": [
            "Iteration: 154\n"
          ]
        },
        {
          "output_type": "stream",
          "name": "stderr",
          "text": [
            "Loading…: 100%|██████████████████████████| 139/139 [00:06<00:00, 22.47it/s]\n",
            "Loading…: 100%|██████████████████████████| 139/139 [00:06<00:00, 22.78it/s]\n",
            "Loading…: 100%|██████████████████████████| 139/139 [00:05<00:00, 25.39it/s]\n",
            "Loading…: 100%|██████████████████████████| 139/139 [00:07<00:00, 19.45it/s]\n",
            "Loading…: 100%|██████████████████████████| 139/139 [00:05<00:00, 27.56it/s]\n",
            "Loading…: 100%|██████████████████████████| 139/139 [00:06<00:00, 19.94it/s]\n",
            "Loading…: 100%|██████████████████████████| 139/139 [00:05<00:00, 26.30it/s]\n",
            "Loading…: 100%|██████████████████████████| 139/139 [00:06<00:00, 20.22it/s]\n",
            "Loading…: 100%|██████████████████████████| 139/139 [00:05<00:00, 25.10it/s]\n",
            "Loading…: 100%|██████████████████████████| 139/139 [00:05<00:00, 25.15it/s]\n"
          ]
        },
        {
          "output_type": "stream",
          "name": "stdout",
          "text": [
            "Iteration: 155\n"
          ]
        },
        {
          "output_type": "stream",
          "name": "stderr",
          "text": [
            "Loading…: 100%|██████████████████████████| 139/139 [00:05<00:00, 24.43it/s]\n",
            "Loading…: 100%|██████████████████████████| 139/139 [00:05<00:00, 25.70it/s]\n",
            "Loading…: 100%|██████████████████████████| 139/139 [00:06<00:00, 20.01it/s]\n",
            "Loading…: 100%|██████████████████████████| 139/139 [00:05<00:00, 26.43it/s]\n",
            "Loading…: 100%|██████████████████████████| 139/139 [00:07<00:00, 19.79it/s]\n",
            "Loading…: 100%|██████████████████████████| 139/139 [00:05<00:00, 26.82it/s]\n",
            "Loading…: 100%|██████████████████████████| 139/139 [00:07<00:00, 19.17it/s]\n",
            "Loading…: 100%|██████████████████████████| 139/139 [00:05<00:00, 25.96it/s]\n",
            "Loading…: 100%|██████████████████████████| 139/139 [00:06<00:00, 21.48it/s]\n",
            "Loading…: 100%|██████████████████████████| 139/139 [00:05<00:00, 23.86it/s]\n"
          ]
        },
        {
          "output_type": "stream",
          "name": "stdout",
          "text": [
            "Iteration: 156\n"
          ]
        },
        {
          "output_type": "stream",
          "name": "stderr",
          "text": [
            "Loading…: 100%|██████████████████████████| 139/139 [00:06<00:00, 22.00it/s]\n",
            "Loading…: 100%|██████████████████████████| 139/139 [00:06<00:00, 23.16it/s]\n",
            "Loading…: 100%|██████████████████████████| 139/139 [00:05<00:00, 25.33it/s]\n",
            "Loading…: 100%|██████████████████████████| 139/139 [00:07<00:00, 19.60it/s]\n",
            "Loading…: 100%|██████████████████████████| 139/139 [00:05<00:00, 27.11it/s]\n",
            "Loading…: 100%|██████████████████████████| 139/139 [00:07<00:00, 19.76it/s]\n",
            "Loading…: 100%|██████████████████████████| 139/139 [00:05<00:00, 25.95it/s]\n",
            "Loading…: 100%|██████████████████████████| 139/139 [00:07<00:00, 19.60it/s]\n",
            "Loading…: 100%|██████████████████████████| 139/139 [00:05<00:00, 25.91it/s]\n",
            "Loading…: 100%|██████████████████████████| 139/139 [00:05<00:00, 24.35it/s]\n"
          ]
        },
        {
          "output_type": "stream",
          "name": "stdout",
          "text": [
            "Iteration: 157\n"
          ]
        },
        {
          "output_type": "stream",
          "name": "stderr",
          "text": [
            "Loading…: 100%|██████████████████████████| 139/139 [00:07<00:00, 19.65it/s]\n",
            "Loading…: 100%|██████████████████████████| 139/139 [00:08<00:00, 16.47it/s]\n",
            "Loading…: 100%|██████████████████████████| 139/139 [00:07<00:00, 19.56it/s]\n",
            "Loading…: 100%|██████████████████████████| 139/139 [00:08<00:00, 16.18it/s]\n",
            "Loading…: 100%|██████████████████████████| 139/139 [00:07<00:00, 19.34it/s]\n",
            "Loading…: 100%|██████████████████████████| 139/139 [00:07<00:00, 18.50it/s]\n",
            "Loading…: 100%|██████████████████████████| 139/139 [00:08<00:00, 15.82it/s]\n",
            "Loading…: 100%|██████████████████████████| 139/139 [00:06<00:00, 20.06it/s]\n",
            "Loading…: 100%|██████████████████████████| 139/139 [00:08<00:00, 15.97it/s]\n",
            "Loading…: 100%|██████████████████████████| 139/139 [00:06<00:00, 20.84it/s]\n"
          ]
        },
        {
          "output_type": "stream",
          "name": "stdout",
          "text": [
            "Iteration: 158\n"
          ]
        },
        {
          "output_type": "stream",
          "name": "stderr",
          "text": [
            "Loading…: 100%|██████████████████████████| 139/139 [00:07<00:00, 17.85it/s]\n",
            "Loading…: 100%|██████████████████████████| 139/139 [00:08<00:00, 16.40it/s]\n",
            "Loading…: 100%|██████████████████████████| 139/139 [00:07<00:00, 19.57it/s]\n",
            "Loading…: 100%|██████████████████████████| 139/139 [00:08<00:00, 16.27it/s]\n",
            "Loading…: 100%|██████████████████████████| 139/139 [00:06<00:00, 21.02it/s]\n",
            "Loading…: 100%|██████████████████████████| 139/139 [00:08<00:00, 16.54it/s]\n",
            "Loading…: 100%|██████████████████████████| 139/139 [00:08<00:00, 16.73it/s]\n",
            "Loading…: 100%|██████████████████████████| 139/139 [00:07<00:00, 19.40it/s]\n",
            "Loading…: 100%|██████████████████████████| 139/139 [00:08<00:00, 16.08it/s]\n",
            "Loading…: 100%|██████████████████████████| 139/139 [00:06<00:00, 20.89it/s]\n"
          ]
        },
        {
          "output_type": "stream",
          "name": "stdout",
          "text": [
            "Iteration: 159\n"
          ]
        },
        {
          "output_type": "stream",
          "name": "stderr",
          "text": [
            "Loading…: 100%|██████████████████████████| 139/139 [00:08<00:00, 16.12it/s]\n",
            "Loading…: 100%|██████████████████████████| 139/139 [00:08<00:00, 17.30it/s]\n",
            "Loading…: 100%|██████████████████████████| 139/139 [00:07<00:00, 19.42it/s]\n",
            "Loading…: 100%|██████████████████████████| 139/139 [00:08<00:00, 16.20it/s]\n",
            "Loading…: 100%|██████████████████████████| 139/139 [00:06<00:00, 21.61it/s]\n",
            "Loading…: 100%|██████████████████████████| 139/139 [00:08<00:00, 16.46it/s]\n",
            "Loading…: 100%|██████████████████████████| 139/139 [00:07<00:00, 19.43it/s]\n",
            "Loading…: 100%|██████████████████████████| 139/139 [00:08<00:00, 16.62it/s]\n",
            "Loading…: 100%|██████████████████████████| 139/139 [00:08<00:00, 16.04it/s]\n",
            "Loading…: 100%|██████████████████████████| 139/139 [00:06<00:00, 20.89it/s]\n"
          ]
        },
        {
          "output_type": "stream",
          "name": "stdout",
          "text": [
            "Iteration: 160\n"
          ]
        },
        {
          "output_type": "stream",
          "name": "stderr",
          "text": [
            "Loading…: 100%|██████████████████████████| 139/139 [00:10<00:00, 13.45it/s]\n",
            "Loading…: 100%|██████████████████████████| 139/139 [00:09<00:00, 14.27it/s]\n",
            "Loading…: 100%|██████████████████████████| 139/139 [00:09<00:00, 15.33it/s]\n",
            "Loading…: 100%|██████████████████████████| 139/139 [00:09<00:00, 15.27it/s]\n",
            "Loading…: 100%|██████████████████████████| 139/139 [00:09<00:00, 14.35it/s]\n",
            "Loading…: 100%|██████████████████████████| 139/139 [00:08<00:00, 15.58it/s]\n",
            "Loading…: 100%|██████████████████████████| 139/139 [00:08<00:00, 15.85it/s]\n",
            "Loading…: 100%|██████████████████████████| 139/139 [00:10<00:00, 13.36it/s]\n",
            "Loading…: 100%|██████████████████████████| 139/139 [00:10<00:00, 13.70it/s]\n",
            "Loading…: 100%|██████████████████████████| 139/139 [00:07<00:00, 17.48it/s]\n"
          ]
        },
        {
          "output_type": "stream",
          "name": "stdout",
          "text": [
            "Iteration: 161\n"
          ]
        },
        {
          "output_type": "stream",
          "name": "stderr",
          "text": [
            "Loading…: 100%|██████████████████████████| 139/139 [00:08<00:00, 15.51it/s]\n",
            "Loading…: 100%|██████████████████████████| 139/139 [00:09<00:00, 14.28it/s]\n",
            "Loading…: 100%|██████████████████████████| 139/139 [00:10<00:00, 13.10it/s]\n",
            "Loading…: 100%|██████████████████████████| 139/139 [00:08<00:00, 17.04it/s]\n",
            "Loading…: 100%|██████████████████████████| 139/139 [00:09<00:00, 14.65it/s]\n",
            "Loading…: 100%|██████████████████████████| 139/139 [00:09<00:00, 14.36it/s]\n",
            "Loading…: 100%|██████████████████████████| 139/139 [00:09<00:00, 15.42it/s]\n",
            "Loading…: 100%|██████████████████████████| 139/139 [00:09<00:00, 15.05it/s]\n",
            "Loading…: 100%|██████████████████████████| 139/139 [00:10<00:00, 13.11it/s]\n",
            "Loading…: 100%|██████████████████████████| 139/139 [00:10<00:00, 13.11it/s]\n"
          ]
        },
        {
          "output_type": "stream",
          "name": "stdout",
          "text": [
            "Iteration: 162\n"
          ]
        },
        {
          "output_type": "stream",
          "name": "stderr",
          "text": [
            "Loading…: 100%|██████████████████████████| 139/139 [00:09<00:00, 14.33it/s]\n",
            "Loading…: 100%|██████████████████████████| 139/139 [00:08<00:00, 17.17it/s]\n",
            "Loading…: 100%|██████████████████████████| 139/139 [00:10<00:00, 13.12it/s]\n",
            "Loading…: 100%|██████████████████████████| 139/139 [00:10<00:00, 13.86it/s]\n",
            "Loading…: 100%|██████████████████████████| 139/139 [00:07<00:00, 17.69it/s]\n",
            "Loading…: 100%|██████████████████████████| 139/139 [00:09<00:00, 14.03it/s]\n",
            "Loading…: 100%|██████████████████████████| 139/139 [00:10<00:00, 13.55it/s]\n",
            "Loading…: 100%|██████████████████████████| 139/139 [00:09<00:00, 14.65it/s]\n",
            "Loading…: 100%|██████████████████████████| 139/139 [00:08<00:00, 16.04it/s]\n",
            "Loading…: 100%|██████████████████████████| 139/139 [00:09<00:00, 14.10it/s]\n"
          ]
        }
      ]
    },
    {
      "cell_type": "code",
      "source": [
        "error"
      ],
      "metadata": {
        "colab": {
          "base_uri": "https://localhost:8080/"
        },
        "id": "4y0Fw64_FLk2",
        "outputId": "5628cf74-82c0-4287-fefc-d5bfc7954fdc"
      },
      "execution_count": 10,
      "outputs": [
        {
          "output_type": "execute_result",
          "data": {
            "text/plain": [
              "[0.3697841726618705,\n",
              " 0.3762589928057555,\n",
              " 0.3899280575539569,\n",
              " 0.3762589928057555,\n",
              " 0.3776978417266187,\n",
              " 0.3920863309352518,\n",
              " 0.38057553956834533,\n",
              " 0.39280575539568346,\n",
              " 0.4057553956834532,\n",
              " 0.36618705035971216,\n",
              " 0.37194244604316545,\n",
              " 0.3733812949640288,\n",
              " 0.37266187050359717,\n",
              " 0.37410071942446044,\n",
              " 0.3884892086330935,\n",
              " 0.38201438848920866,\n",
              " 0.3942446043165468,\n",
              " 0.4014388489208633,\n",
              " 0.36978417266187047,\n",
              " 0.3769784172661871,\n",
              " 0.3892086330935252,\n",
              " 0.36546762589928067,\n",
              " 0.3705035971223022,\n",
              " 0.3906474820143885,\n",
              " 0.37338129496402883,\n",
              " 0.38705035971223023,\n",
              " 0.4043165467625899,\n",
              " 0.36187050359712225,\n",
              " 0.36906474820143886,\n",
              " 0.38057553956834533,\n",
              " 0.36834532374100715,\n",
              " 0.37338129496402883,\n",
              " 0.3906474820143885,\n",
              " 0.36834532374100715,\n",
              " 0.3798561151079137,\n",
              " 0.3956834532374101,\n",
              " 0.36978417266187047,\n",
              " 0.37769784172661874,\n",
              " 0.38920863309352516,\n",
              " 0.356115107913669,\n",
              " 0.3748201438848921,\n",
              " 0.39424460431654673,\n",
              " 0.3654676258992806,\n",
              " 0.38633093525179857,\n",
              " 0.4057553956834533,\n",
              " 0.35683453237410073,\n",
              " 0.3640287769784173,\n",
              " 0.3841726618705036,\n",
              " 0.3669064748201438,\n",
              " 0.3762589928057555,\n",
              " 0.38561151079136696,\n",
              " 0.37266187050359706,\n",
              " 0.3841726618705036,\n",
              " 0.40215827338129495,\n",
              " 0.39928057553956836,\n",
              " 0.40647482014388486,\n",
              " 0.41654676258992807,\n",
              " 0.4071942446043165,\n",
              " 0.4115107913669064,\n",
              " 0.418705035971223,\n",
              " 0.4107913669064748,\n",
              " 0.4230215827338129,\n",
              " 0.42949640287769786,\n",
              " 0.39064748201438854,\n",
              " 0.39640287769784177,\n",
              " 0.3992805755395684,\n",
              " 0.4,\n",
              " 0.40503597122302165,\n",
              " 0.4136690647482014,\n",
              " 0.4071942446043165,\n",
              " 0.4158273381294964,\n",
              " 0.4244604316546763,\n",
              " 0.3942446043165468,\n",
              " 0.4028776978417266,\n",
              " 0.40359712230215833,\n",
              " 0.3971223021582734,\n",
              " 0.40503597122302154,\n",
              " 0.41942446043165466,\n",
              " 0.4028776978417266,\n",
              " 0.41726618705035967,\n",
              " 0.4316546762589928,\n",
              " 0.3899280575539569,\n",
              " 0.39208633093525186,\n",
              " 0.4,\n",
              " 0.3935251798561151,\n",
              " 0.3956834532374101,\n",
              " 0.4057553956834532,\n",
              " 0.40215827338129495,\n",
              " 0.41223021582733815,\n",
              " 0.42517985611510795,\n",
              " 0.3956834532374101,\n",
              " 0.40503597122302154,\n",
              " 0.41007194244604317,\n",
              " 0.3971223021582734,\n",
              " 0.41079136690647483,\n",
              " 0.41726618705035967,\n",
              " 0.40647482014388486,\n",
              " 0.42230215827338136,\n",
              " 0.4316546762589928,\n",
              " 0.3884892086330936,\n",
              " 0.4,\n",
              " 0.4071942446043165,\n",
              " 0.38489208633093536,\n",
              " 0.3935251798561151,\n",
              " 0.41079136690647483,\n",
              " 0.40071942446043163,\n",
              " 0.41654676258992807,\n",
              " 0.4309352517985611,\n",
              " 0.3661870503597123,\n",
              " 0.3784172661870504,\n",
              " 0.38848920863309355,\n",
              " 0.37194244604316545,\n",
              " 0.37482014388489215,\n",
              " 0.39496402877697834,\n",
              " 0.38561151079136696,\n",
              " 0.3906474820143885,\n",
              " 0.4057553956834532,\n",
              " 0.3654676258992805,\n",
              " 0.37338129496402883,\n",
              " 0.37482014388489215,\n",
              " 0.36762589928057554,\n",
              " 0.3755395683453238,\n",
              " 0.3906474820143885,\n",
              " 0.37553956834532376,\n",
              " 0.3884892086330935,\n",
              " 0.3971223021582734,\n",
              " 0.3719424460431654,\n",
              " 0.3762589928057554,\n",
              " 0.3820143884892086,\n",
              " 0.36546762589928056,\n",
              " 0.3762589928057555,\n",
              " 0.39208633093525186,\n",
              " 0.3762589928057554,\n",
              " 0.3856115107913669,\n",
              " 0.4043165467625899,\n",
              " 0.36187050359712236,\n",
              " 0.3611510791366907,\n",
              " 0.37913669064748196,\n",
              " 0.36618705035971216,\n",
              " 0.3726618705035972,\n",
              " 0.3856115107913669,\n",
              " 0.3697841726618706,\n",
              " 0.38057553956834533,\n",
              " 0.3992805755395684,\n",
              " 0.36978417266187047,\n",
              " 0.3776978417266187,\n",
              " 0.38705035971223023,\n",
              " 0.358273381294964,\n",
              " 0.37194244604316556,\n",
              " 0.3841726618705036,\n",
              " 0.3705035971223022,\n",
              " 0.38057553956834533,\n",
              " 0.3985611510791367,\n",
              " 0.35611510791366907,\n",
              " 0.3575539568345324,\n",
              " 0.38129496402877694,\n",
              " 0.3683453237410072,\n",
              " 0.37482014388489215,\n",
              " 0.3913669064748201,\n",
              " 0.3697841726618705,\n",
              " 0.381294964028777,\n",
              " 0.40215827338129495]"
            ]
          },
          "metadata": {},
          "execution_count": 10
        }
      ]
    },
    {
      "cell_type": "code",
      "source": [
        "import pickle\n",
        "\n",
        "with open('error.pkl', 'wb') as file:\n",
        "  pickle.dump(error, file)\n",
        "\n",
        "with open('infos.pkl', 'wb') as file:\n",
        "  pickle.dump(infos, file)"
      ],
      "metadata": {
        "id": "UDUQ_Jq-GrTH"
      },
      "execution_count": 11,
      "outputs": []
    },
    {
      "cell_type": "code",
      "source": [
        "min(error)"
      ],
      "metadata": {
        "colab": {
          "base_uri": "https://localhost:8080/"
        },
        "id": "dTuqgoq_KUZr",
        "outputId": "7f6d4f0a-e8a2-4213-c915-3589cb0964ed"
      },
      "execution_count": 12,
      "outputs": [
        {
          "output_type": "execute_result",
          "data": {
            "text/plain": [
              "0.356115107913669"
            ]
          },
          "metadata": {},
          "execution_count": 12
        }
      ]
    },
    {
      "cell_type": "code",
      "source": [
        "np.argmin(error)"
      ],
      "metadata": {
        "colab": {
          "base_uri": "https://localhost:8080/"
        },
        "id": "cuXIkFSXEskQ",
        "outputId": "f4fe1703-883d-4285-9455-c82cb129b8af"
      },
      "execution_count": 13,
      "outputs": [
        {
          "output_type": "execute_result",
          "data": {
            "text/plain": [
              "39"
            ]
          },
          "metadata": {},
          "execution_count": 13
        }
      ]
    },
    {
      "cell_type": "code",
      "source": [
        "error[np.argmin(error)]"
      ],
      "metadata": {
        "colab": {
          "base_uri": "https://localhost:8080/"
        },
        "id": "39ln9Op7PLqC",
        "outputId": "6d7e9455-caca-455f-9db9-a099c1c2a65c"
      },
      "execution_count": 14,
      "outputs": [
        {
          "output_type": "execute_result",
          "data": {
            "text/plain": [
              "0.356115107913669"
            ]
          },
          "metadata": {},
          "execution_count": 14
        }
      ]
    },
    {
      "cell_type": "code",
      "source": [
        "hps[np.argmin(error)]"
      ],
      "metadata": {
        "colab": {
          "base_uri": "https://localhost:8080/"
        },
        "id": "fW-0XMLVFCrc",
        "outputId": "5fc33eb1-7c87-4ae7-890a-2bbde7d4b86c"
      },
      "execution_count": 20,
      "outputs": [
        {
          "output_type": "execute_result",
          "data": {
            "text/plain": [
              "(['étaient',\n",
              "  'troisième',\n",
              "  'ton',\n",
              "  'cette',\n",
              "  'dont',\n",
              "  'certains',\n",
              "  'toutes',\n",
              "  'debout',\n",
              "  'malgre',\n",
              "  'onzième',\n",
              "  'laisser',\n",
              "  'celui',\n",
              "  'troisièmement',\n",
              "  'n’',\n",
              "  'auront',\n",
              "  'lequel',\n",
              "  'seules',\n",
              "  'suis',\n",
              "  'parle',\n",
              "  \"c'\",\n",
              "  'lui-même',\n",
              "  'â',\n",
              "  'ouvert',\n",
              "  'quelque',\n",
              "  'dix-neuf',\n",
              "  'neanmoins',\n",
              "  'possible',\n",
              "  'voila',\n",
              "  'hormis',\n",
              "  'également',\n",
              "  'apres',\n",
              "  'elle-même',\n",
              "  'néanmoins',\n",
              "  'devant',\n",
              "  'dans',\n",
              "  'suivante',\n",
              "  'vu',\n",
              "  'retour',\n",
              "  'tente',\n",
              "  'faisaient',\n",
              "  'ouverte',\n",
              "  'vers',\n",
              "  'merci',\n",
              "  'celles-ci',\n",
              "  'parce',\n",
              "  'm’',\n",
              "  'certain',\n",
              "  'être',\n",
              "  'specifiques',\n",
              "  'permet',\n",
              "  'assez',\n",
              "  'gens',\n",
              "  'semble',\n",
              "  'longtemps',\n",
              "  'c’',\n",
              "  'exactement',\n",
              "  'de',\n",
              "  'parler',\n",
              "  'memes',\n",
              "  'telles',\n",
              "  'unes',\n",
              "  'mais',\n",
              "  'soi',\n",
              "  'semblaient',\n",
              "  'cinq',\n",
              "  'selon',\n",
              "  'même',\n",
              "  'déja',\n",
              "  'car',\n",
              "  'bat',\n",
              "  'celle-là',\n",
              "  'celles-la',\n",
              "  'revoici',\n",
              "  'va',\n",
              "  'nouveau',\n",
              "  'tel',\n",
              "  'ne',\n",
              "  'seront',\n",
              "  'déjà',\n",
              "  'vos',\n",
              "  'suivantes',\n",
              "  'devers',\n",
              "  'revoila',\n",
              "  'directe',\n",
              "  'maintenant',\n",
              "  'semblent',\n",
              "  'afin',\n",
              "  'diverse',\n",
              "  'suit',\n",
              "  'relative',\n",
              "  'aura',\n",
              "  'avons',\n",
              "  'ceci',\n",
              "  'differente',\n",
              "  'quand',\n",
              "  'cependant',\n",
              "  'est',\n",
              "  'quant-à-soi',\n",
              "  'vôtres',\n",
              "  'elle-meme',\n",
              "  'quinze',\n",
              "  'effet',\n",
              "  'restent',\n",
              "  'antérieur',\n",
              "  'antérieures',\n",
              "  'hé',\n",
              "  'certaine',\n",
              "  'autrement',\n",
              "  'precisement',\n",
              "  'té',\n",
              "  'moi-même',\n",
              "  'hi',\n",
              "  'suivant',\n",
              "  'sous',\n",
              "  'restant',\n",
              "  'possibles',\n",
              "  'procedant',\n",
              "  'siens',\n",
              "  'dire',\n",
              "  'étais',\n",
              "  'auxquelles',\n",
              "  'deuxième',\n",
              "  'le',\n",
              "  'dessus',\n",
              "  'mienne',\n",
              "  'avec',\n",
              "  'anterieure',\n",
              "  'as',\n",
              "  'prealable',\n",
              "  'tenant',\n",
              "  'ceux-ci',\n",
              "  'dit',\n",
              "  'dessous',\n",
              "  'douzième',\n",
              "  'or',\n",
              "  'désormais',\n",
              "  'plutot',\n",
              "  'suivre',\n",
              "  'son',\n",
              "  'nous',\n",
              "  \"quelqu'un\",\n",
              "  'tes',\n",
              "  'fait',\n",
              "  'anterieures',\n",
              "  'avais',\n",
              "  'huit',\n",
              "  'soi-même',\n",
              "  'sien',\n",
              "  'était',\n",
              "  'celui-là',\n",
              "  'vingt',\n",
              "  'ouverts',\n",
              "  'quels',\n",
              "  'seule',\n",
              "  'dedans',\n",
              "  'suffit',\n",
              "  'sienne',\n",
              "  'differentes',\n",
              "  'parfois',\n",
              "  'juste',\n",
              "  'et',\n",
              "  \"t'\",\n",
              "  'douze',\n",
              "  'excepté',\n",
              "  'moins',\n",
              "  'tienne',\n",
              "  'quelconque',\n",
              "  'quel',\n",
              "  'peux',\n",
              "  'ho',\n",
              "  'etant',\n",
              "  'ni',\n",
              "  'différente',\n",
              "  'vé',\n",
              "  'toi-meme',\n",
              "  'quatre',\n",
              "  'puisque',\n",
              "  'auxquels',\n",
              "  'premièrement',\n",
              "  'bas',\n",
              "  'notamment',\n",
              "  'ainsi',\n",
              "  'allaient',\n",
              "  'ô',\n",
              "  'la',\n",
              "  'ah',\n",
              "  \"m'\",\n",
              "  'moindres',\n",
              "  'hem',\n",
              "  'parlent',\n",
              "  'tenir',\n",
              "  'ma',\n",
              "  'ils',\n",
              "  'par',\n",
              "  'desormais',\n",
              "  'celle',\n",
              "  'sans',\n",
              "  \"qu'\",\n",
              "  'importe',\n",
              "  'des',\n",
              "  'lui',\n",
              "  'jusqu',\n",
              "  'les',\n",
              "  'hui',\n",
              "  'etait',\n",
              "  'sept',\n",
              "  'desquels',\n",
              "  'sauf',\n",
              "  'pres',\n",
              "  'derrière',\n",
              "  'moi-meme',\n",
              "  'allons',\n",
              "  'attendu',\n",
              "  'pourrait',\n",
              "  'tien',\n",
              "  'hou',\n",
              "  'différents',\n",
              "  'vous',\n",
              "  'chacune',\n",
              "  'soixante',\n",
              "  'chacun',\n",
              "  'envers',\n",
              "  'etc',\n",
              "  'différent',\n",
              "  'egalement',\n",
              "  'tout',\n",
              "  'reste',\n",
              "  \"l'\",\n",
              "  'donc',\n",
              "  'cela',\n",
              "  'soit',\n",
              "  'rend',\n",
              "  'meme',\n",
              "  'quarante',\n",
              "  'je',\n",
              "  'auraient',\n",
              "  'autre',\n",
              "  'tu',\n",
              "  'comment',\n",
              "  'leur',\n",
              "  'lorsque',\n",
              "  'ès',\n",
              "  'serait',\n",
              "  'nombreuses',\n",
              "  'ou',\n",
              "  'quelle',\n",
              "  'toi',\n",
              "  'quiconque',\n",
              "  'ayant',\n",
              "  'eux',\n",
              "  'etre',\n",
              "  'tend',\n",
              "  'avaient',\n",
              "  'doit',\n",
              "  'lesquelles',\n",
              "  'dits',\n",
              "  'na',\n",
              "  'facon',\n",
              "  'plus',\n",
              "  'aupres',\n",
              "  'certes',\n",
              "  't’',\n",
              "  \"d'\",\n",
              "  'avoir',\n",
              "  'vous-mêmes',\n",
              "  'nombreux',\n",
              "  'toi-même',\n",
              "  'elles',\n",
              "  'où',\n",
              "  'o',\n",
              "  'pendant',\n",
              "  'votres',\n",
              "  'certaines',\n",
              "  'sera',\n",
              "  'entre',\n",
              "  'etaient',\n",
              "  'j’',\n",
              "  'te',\n",
              "  'huitième',\n",
              "  'souvent',\n",
              "  'nos',\n",
              "  'ceux-là',\n",
              "  'tous',\n",
              "  'different',\n",
              "  'houp',\n",
              "  'cinquantième',\n",
              "  'spécifique',\n",
              "  'quatre-vingt',\n",
              "  'proche',\n",
              "  'relativement',\n",
              "  'autres',\n",
              "  'seul',\n",
              "  'comme',\n",
              "  'quant',\n",
              "  'sent',\n",
              "  'que',\n",
              "  'cinquantaine',\n",
              "  'hep',\n",
              "  'sont',\n",
              "  'moi',\n",
              "  'pour',\n",
              "  'qui',\n",
              "  'delà',\n",
              "  'lès',\n",
              "  'celles-là',\n",
              "  'laquelle',\n",
              "  'dès',\n",
              "  'nul',\n",
              "  'puis',\n",
              "  'quelques',\n",
              "  'ce',\n",
              "  'lesquels',\n",
              "  'touchant',\n",
              "  'desquelles',\n",
              "  'revoilà',\n",
              "  'i',\n",
              "  'aurait',\n",
              "  'on',\n",
              "  'd’',\n",
              "  'après',\n",
              "  'aux',\n",
              "  'mille',\n",
              "  'ta',\n",
              "  'près',\n",
              "  'ceux',\n",
              "  'trente',\n",
              "  'elles-memes',\n",
              "  'ces',\n",
              "  'parmi',\n",
              "  'tant',\n",
              "  'tiens',\n",
              "  'votre',\n",
              "  'doivent',\n",
              "  'differents',\n",
              "  'là',\n",
              "  'y',\n",
              "  'sait',\n",
              "  'abord',\n",
              "  'il',\n",
              "  \"n'\",\n",
              "  'plutôt',\n",
              "  'cinquante',\n",
              "  'à',\n",
              "  'dehors',\n",
              "  'peu',\n",
              "  'si',\n",
              "  'hue',\n",
              "  'neuvième',\n",
              "  'antérieure',\n",
              "  'devra',\n",
              "  'concernant',\n",
              "  'dixième',\n",
              "  'celle-la',\n",
              "  'da',\n",
              "  'peuvent',\n",
              "  'seraient',\n",
              "  'semblable',\n",
              "  'suffisante',\n",
              "  'tels',\n",
              "  'deux',\n",
              "  'dite',\n",
              "  'nôtres',\n",
              "  'un',\n",
              "  'eu',\n",
              "  'toute',\n",
              "  'voici',\n",
              "  'avait',\n",
              "  'compris',\n",
              "  'autrui',\n",
              "  'siennes',\n",
              "  's’',\n",
              "  'tiennes',\n",
              "  'quatrièmement',\n",
              "  'treize',\n",
              "  'specifique',\n",
              "  'derriere',\n",
              "  'fais',\n",
              "  'vais',\n",
              "  'me',\n",
              "  'pourrais',\n",
              "  'etais',\n",
              "  'au',\n",
              "  'diverses',\n",
              "  'es',\n",
              "  'seuls',\n",
              "  'dix-huit',\n",
              "  'chez',\n",
              "  'notre',\n",
              "  'celle-ci',\n",
              "  \"s'\",\n",
              "  'toujours',\n",
              "  'ouste',\n",
              "  'premier',\n",
              "  'stop',\n",
              "  'encore',\n",
              "  'divers',\n",
              "  'seulement',\n",
              "  'quatorze',\n",
              "  'eh',\n",
              "  'partant',\n",
              "  'miens',\n",
              "  'alors',\n",
              "  'aussi',\n",
              "  'ci',\n",
              "  'très',\n",
              "  'précisement',\n",
              "  'du',\n",
              "  'ouias',\n",
              "  'pu',\n",
              "  'combien',\n",
              "  'lui-meme',\n",
              "  'elle',\n",
              "  'feront',\n",
              "  'ont',\n",
              "  'vas',\n",
              "  'suivants',\n",
              "  'ha',\n",
              "  'ai',\n",
              "  'sinon',\n",
              "  'chaque',\n",
              "  'faisant',\n",
              "  'durant',\n",
              "  'façon',\n",
              "  'se',\n",
              "  'outre',\n",
              "  'celles',\n",
              "  'seize',\n",
              "  'malgré',\n",
              "  'spécifiques',\n",
              "  'lors',\n",
              "  'uns',\n",
              "  'sa',\n",
              "  'ça',\n",
              "  'tres',\n",
              "  'quoi',\n",
              "  'pourquoi',\n",
              "  'leurs',\n",
              "  'deuxièmement',\n",
              "  'mêmes',\n",
              "  'basee',\n",
              "  'l’',\n",
              "  'font',\n",
              "  'duquel',\n",
              "  'peut',\n",
              "  'hors',\n",
              "  'directement',\n",
              "  'soi-meme',\n",
              "  'mon',\n",
              "  'voilà',\n",
              "  'auquel',\n",
              "  'avant',\n",
              "  'miennes',\n",
              "  'elles-mêmes',\n",
              "  'pense',\n",
              "  'a',\n",
              "  'dix-sept',\n",
              "  'cent',\n",
              "  'en',\n",
              "  'maint',\n",
              "  'celui-la',\n",
              "  'personne',\n",
              "  'qu’',\n",
              "  'telle',\n",
              "  'environ',\n",
              "  'suffisant',\n",
              "  'une',\n",
              "  'pas',\n",
              "  'ait',\n",
              "  'nous-mêmes',\n",
              "  'deja',\n",
              "  'surtout',\n",
              "  'sur',\n",
              "  'jusque',\n",
              "  'nôtre',\n",
              "  \"j'\",\n",
              "  'onze',\n",
              "  'anterieur',\n",
              "  'pouvait',\n",
              "  'cet',\n",
              "  'via',\n",
              "  'vôtre',\n",
              "  'mes',\n",
              "  'quoique',\n",
              "  'préalable',\n",
              "  'depuis',\n",
              "  'enfin',\n",
              "  'mien',\n",
              "  'aie',\n",
              "  'quatrième',\n",
              "  'six',\n",
              "  'dix',\n",
              "  'rendre',\n",
              "  'trois',\n",
              "  'septième',\n",
              "  'eux-mêmes',\n",
              "  'cinquième',\n",
              "  'plusieurs',\n",
              "  'différentes',\n",
              "  'vont',\n",
              "  'sixième',\n",
              "  'première',\n",
              "  'quelles',\n",
              "  'dejà',\n",
              "  'étant',\n",
              "  'ses',\n",
              "  'celui-ci',\n",
              "  'tellement',\n",
              "  'quite',\n",
              "  'mostly',\n",
              "  'much',\n",
              "  \"'ll\",\n",
              "  'whither',\n",
              "  'fifteen',\n",
              "  'top',\n",
              "  \"'s\",\n",
              "  'was',\n",
              "  'than',\n",
              "  'thru',\n",
              "  'moreover',\n",
              "  'one',\n",
              "  'empty',\n",
              "  'us',\n",
              "  'done',\n",
              "  'seems',\n",
              "  'your',\n",
              "  'almost',\n",
              "  'did',\n",
              "  're',\n",
              "  'amount',\n",
              "  'against',\n",
              "  'else',\n",
              "  'last',\n",
              "  'eight',\n",
              "  'beforehand',\n",
              "  'whoever',\n",
              "  'yourselves',\n",
              "  'down',\n",
              "  '’d',\n",
              "  'amongst',\n",
              "  'itself',\n",
              "  'out',\n",
              "  'ourselves',\n",
              "  'while',\n",
              "  'but',\n",
              "  'should',\n",
              "  'bottom',\n",
              "  '‘m',\n",
              "  'there',\n",
              "  'which',\n",
              "  'with',\n",
              "  'doing',\n",
              "  'many',\n",
              "  'their',\n",
              "  'very',\n",
              "  'above',\n",
              "  'everything',\n",
              "  'wherein',\n",
              "  'ever',\n",
              "  'hers',\n",
              "  'nine',\n",
              "  'meanwhile',\n",
              "  'really',\n",
              "  'within',\n",
              "  '’ve',\n",
              "  'before',\n",
              "  'upon',\n",
              "  '‘d',\n",
              "  'various',\n",
              "  'it',\n",
              "  'being',\n",
              "  'give',\n",
              "  'toward',\n",
              "  'every',\n",
              "  'has',\n",
              "  'who',\n",
              "  'serious',\n",
              "  'therefore',\n",
              "  'its',\n",
              "  'does',\n",
              "  'for',\n",
              "  'whenever',\n",
              "  'forty',\n",
              "  'among',\n",
              "  \"'re\",\n",
              "  'his',\n",
              "  'whom',\n",
              "  'together',\n",
              "  'by',\n",
              "  'whole',\n",
              "  'say',\n",
              "  'under',\n",
              "  'towards',\n",
              "  'as',\n",
              "  'either',\n",
              "  'often',\n",
              "  'seeming',\n",
              "  'using',\n",
              "  'yet',\n",
              "  '’re',\n",
              "  'between',\n",
              "  'sometimes',\n",
              "  'seem',\n",
              "  'or',\n",
              "  'due',\n",
              "  'himself',\n",
              "  '‘re',\n",
              "  'next',\n",
              "  \"'m\",\n",
              "  'take',\n",
              "  'latterly',\n",
              "  'off',\n",
              "  'see',\n",
              "  'so',\n",
              "  'somehow',\n",
              "  'thus',\n",
              "  'here',\n",
              "  'go',\n",
              "  'front',\n",
              "  'own',\n",
              "  'name',\n",
              "  'regarding',\n",
              "  'put',\n",
              "  'no',\n",
              "  'first',\n",
              "  'onto',\n",
              "  'each',\n",
              "  'you',\n",
              "  'yourself',\n",
              "  'became',\n",
              "  'alone',\n",
              "  'anyhow',\n",
              "  'without',\n",
              "  'again',\n",
              "  'therein',\n",
              "  'full',\n",
              "  'must',\n",
              "  'third',\n",
              "  'afterwards',\n",
              "  'always',\n",
              "  'several',\n",
              "  'both',\n",
              "  'few',\n",
              "  'if',\n",
              "  'still',\n",
              "  'fifty',\n",
              "  'noone',\n",
              "  'up',\n",
              "  'during',\n",
              "  'will',\n",
              "  'otherwise',\n",
              "  'mine',\n",
              "  'would',\n",
              "  'whatever',\n",
              "  'anyway',\n",
              "  'them',\n",
              "  'whether',\n",
              "  'unless',\n",
              "  'whence',\n",
              "  'be',\n",
              "  '’m',\n",
              "  'nor',\n",
              "  'further',\n",
              "  'ours',\n",
              "  'latter',\n",
              "  'this',\n",
              "  'whereby',\n",
              "  'along',\n",
              "  'her',\n",
              "  'nobody',\n",
              "  'four',\n",
              "  'thereafter',\n",
              "  \"n't\",\n",
              "  'hence',\n",
              "  'more',\n",
              "  'neither',\n",
              "  'behind',\n",
              "  'formerly',\n",
              "  'never',\n",
              "  '‘s',\n",
              "  'yours',\n",
              "  'just',\n",
              "  'where',\n",
              "  'ten',\n",
              "  'could',\n",
              "  'our',\n",
              "  'namely',\n",
              "  'of',\n",
              "  'becoming',\n",
              "  'been',\n",
              "  'whose',\n",
              "  '’s',\n",
              "  'beyond',\n",
              "  'at',\n",
              "  'nevertheless',\n",
              "  '‘ll',\n",
              "  'since',\n",
              "  \"'ve\",\n",
              "  'had',\n",
              "  'hundred',\n",
              "  'perhaps',\n",
              "  'were',\n",
              "  'i',\n",
              "  'used',\n",
              "  'on',\n",
              "  'others',\n",
              "  'although',\n",
              "  'enough',\n",
              "  'anyone',\n",
              "  'into',\n",
              "  'ca',\n",
              "  'hereupon',\n",
              "  'these',\n",
              "  'thereby',\n",
              "  'well',\n",
              "  'former',\n",
              "  'five',\n",
              "  'most',\n",
              "  'n’t',\n",
              "  'besides',\n",
              "  'becomes',\n",
              "  '‘ve',\n",
              "  'move',\n",
              "  'elsewhere',\n",
              "  'rather',\n",
              "  'get',\n",
              "  'hereby',\n",
              "  'somewhere',\n",
              "  'now',\n",
              "  'cannot',\n",
              "  'someone',\n",
              "  'and',\n",
              "  'over',\n",
              "  '’ll',\n",
              "  'herein',\n",
              "  'only',\n",
              "  'however',\n",
              "  'less',\n",
              "  'we',\n",
              "  'made',\n",
              "  'other',\n",
              "  'when',\n",
              "  'everywhere',\n",
              "  'any',\n",
              "  'everyone',\n",
              "  'am',\n",
              "  'n‘t',\n",
              "  'about',\n",
              "  'sixty',\n",
              "  'me',\n",
              "  'can',\n",
              "  'those',\n",
              "  'indeed',\n",
              "  'hereafter',\n",
              "  'how',\n",
              "  'per',\n",
              "  'below',\n",
              "  'around',\n",
              "  'nothing',\n",
              "  'he',\n",
              "  'the',\n",
              "  'across',\n",
              "  'after',\n",
              "  'are',\n",
              "  'back',\n",
              "  'they',\n",
              "  'three',\n",
              "  'another',\n",
              "  'nowhere',\n",
              "  'also',\n",
              "  'such',\n",
              "  'show',\n",
              "  'through',\n",
              "  'whereupon',\n",
              "  'what',\n",
              "  'throughout',\n",
              "  'to',\n",
              "  'themselves',\n",
              "  'not',\n",
              "  'wherever',\n",
              "  'whereafter',\n",
              "  'twelve',\n",
              "  'then',\n",
              "  'except',\n",
              "  'least',\n",
              "  'some',\n",
              "  \"'d\",\n",
              "  'please',\n",
              "  'herself',\n",
              "  'have',\n",
              "  'eleven',\n",
              "  'might',\n",
              "  'something',\n",
              "  'from',\n",
              "  'may',\n",
              "  'in',\n",
              "  'sometime',\n",
              "  'too',\n",
              "  'two',\n",
              "  'call',\n",
              "  'keep',\n",
              "  'because',\n",
              "  'side',\n",
              "  'anywhere',\n",
              "  'whereas',\n",
              "  'become',\n",
              "  'once',\n",
              "  'a',\n",
              "  'though',\n",
              "  'beside',\n",
              "  'twenty',\n",
              "  'part',\n",
              "  'she',\n",
              "  'do',\n",
              "  'already',\n",
              "  'that',\n",
              "  'is',\n",
              "  'via',\n",
              "  'my',\n",
              "  'none',\n",
              "  'an',\n",
              "  'even',\n",
              "  'same',\n",
              "  'seemed',\n",
              "  'six',\n",
              "  'make',\n",
              "  'anything',\n",
              "  'him',\n",
              "  'why',\n",
              "  'until',\n",
              "  'all',\n",
              "  'thereupon',\n",
              "  'myself',\n",
              "  'thence'],\n",
              " 5000,\n",
              " True,\n",
              " (1, 2),\n",
              " 1)"
            ]
          },
          "metadata": {},
          "execution_count": 20
        }
      ]
    },
    {
      "cell_type": "code",
      "source": [
        "len(hps[np.argmin(error)][0])"
      ],
      "metadata": {
        "colab": {
          "base_uri": "https://localhost:8080/"
        },
        "id": "dpEOvWVRDOPH",
        "outputId": "b8559c4e-ed8d-4c40-bc96-a94af76ef36c"
      },
      "execution_count": 19,
      "outputs": [
        {
          "output_type": "execute_result",
          "data": {
            "text/plain": [
              "833"
            ]
          },
          "metadata": {},
          "execution_count": 19
        }
      ]
    },
    {
      "cell_type": "code",
      "source": [
        "len()"
      ],
      "metadata": {
        "id": "SNfRLczXFrZ7"
      },
      "execution_count": null,
      "outputs": []
    },
    {
      "cell_type": "code",
      "source": [
        "# With Processing\n",
        "\n",
        "hps = list(product(stop_words_list, max_feats_list, is_lemmatize, ng_list, alphas))\n",
        "\n",
        "stop_words, max_feat, is_lem, ng, alpha = hps[np.argmin(error)]\n",
        "\n",
        "if is_lem:\n",
        "  processed_training_data = preprocess(lemmatized_training_data_swapped, stop_words = stop_words)\n",
        "else:\n",
        "  processed_training_data = preprocess(training_data_swapped, stop_words = stop_words)\n",
        "\n",
        "test_split = 0.2\n",
        "\n",
        "(training_data_split, testing_data_split, training_labels_split, testing_labels_split) = train_test_split(processed_training_data, training_labels, test_size = test_split, random_state=seed)\n",
        "\n",
        "model = NB(max_features = max_feat, ngram_range = ng, alpha = alpha)\n",
        "model.fit(training_data_split, training_labels_split)\n",
        "predictions = model.predict(testing_data_split)\n",
        "accuracy_score(testing_labels_split, predictions)"
      ],
      "metadata": {
        "colab": {
          "base_uri": "https://localhost:8080/"
        },
        "id": "cCnc40U9NLVP",
        "outputId": "e10a9e2f-30c5-4ec8-fca4-508bcf6ce95b"
      },
      "execution_count": 25,
      "outputs": [
        {
          "output_type": "stream",
          "name": "stderr",
          "text": [
            "Loading…: 100%|██████████████████████████| 280/280 [00:20<00:00, 13.69it/s]\n"
          ]
        },
        {
          "output_type": "execute_result",
          "data": {
            "text/plain": [
              "0.5892857142857143"
            ]
          },
          "metadata": {},
          "execution_count": 25
        }
      ]
    },
    {
      "cell_type": "code",
      "source": [
        "sorted(model.word_count.items(), key = lambda x: x[1], reverse=True)"
      ],
      "metadata": {
        "colab": {
          "base_uri": "https://localhost:8080/"
        },
        "id": "rFE1mxm1_lJ9",
        "outputId": "a739acfd-757a-4daf-d575-284eff41fb19"
      },
      "execution_count": 13,
      "outputs": [
        {
          "output_type": "execute_result",
          "data": {
            "text/plain": [
              "[('time', 177),\n",
              " ('year', 169),\n",
              " ('place', 135),\n",
              " ('london', 113),\n",
              " ('way', 104),\n",
              " ('find', 97),\n",
              " ('live', 96),\n",
              " ('come', 94),\n",
              " ('try', 94),\n",
              " ('day', 91),\n",
              " ('city', 86),\n",
              " ('feel', 79),\n",
              " ('new', 78),\n",
              " ('best', 72),\n",
              " ('bad', 71),\n",
              " ('help', 71),\n",
              " ('old', 71),\n",
              " ('great', 70),\n",
              " ('bit', 67),\n",
              " ('pay', 67),\n",
              " ('friend', 65),\n",
              " ('faire', 64),\n",
              " ('area', 63),\n",
              " ('home', 62),\n",
              " ('life', 62),\n",
              " ('walk', 62),\n",
              " ('big', 61),\n",
              " ('pari', 61),\n",
              " ('right', 61),\n",
              " ('start', 61),\n",
              " ('house', 59),\n",
              " ('long', 59),\n",
              " ('paris', 59),\n",
              " ('sure', 59),\n",
              " ('job', 58),\n",
              " ('point', 58),\n",
              " ('experience', 57),\n",
              " ('train', 57),\n",
              " ('ago', 56),\n",
              " ('question', 56),\n",
              " ('love', 55),\n",
              " ('bien', 54),\n",
              " ('end', 54),\n",
              " ('let', 53),\n",
              " ('money', 53),\n",
              " ('probably', 53),\n",
              " ('street', 52),\n",
              " ('ask', 50),\n",
              " ('guy', 50),\n",
              " ('montreal', 50),\n",
              " ('actually', 49),\n",
              " ('line', 49),\n",
              " ('maybe', 49),\n",
              " ('month', 49),\n",
              " ('change', 48),\n",
              " ('little', 48),\n",
              " ('living', 48),\n",
              " ('metro', 48),\n",
              " ('week', 48),\n",
              " ('family', 47),\n",
              " ('non', 47),\n",
              " ('small', 47),\n",
              " ('price', 46),\n",
              " ('close', 45),\n",
              " ('fuck', 45),\n",
              " ('public', 45),\n",
              " ('away', 43),\n",
              " ('buy', 43),\n",
              " ('rent', 43),\n",
              " ('transport', 43),\n",
              " ('cost', 42),\n",
              " ('service', 42),\n",
              " ('ville', 42),\n",
              " ('far', 41),\n",
              " ('leave', 41),\n",
              " ('mean', 41),\n",
              " ('nice', 41),\n",
              " ('visit', 41),\n",
              " ('food', 40),\n",
              " ('free', 40),\n",
              " ('happen', 40),\n",
              " ('high', 40),\n",
              " ('park', 40),\n",
              " ('country', 39),\n",
              " ('expensive', 39),\n",
              " ('melbourne', 39),\n",
              " ('night', 39),\n",
              " ('post', 39),\n",
              " ('sound', 39),\n",
              " ('hour', 38),\n",
              " ('left', 38),\n",
              " ('police', 38),\n",
              " ('com', 37),\n",
              " ('drive', 37),\n",
              " ('idea', 37),\n",
              " ('person', 37),\n",
              " ('pretty', 37),\n",
              " ('restaurant', 37),\n",
              " ('worth', 37),\n",
              " ('issue', 36),\n",
              " ('local', 36),\n",
              " ('problem', 36),\n",
              " ('reason', 36),\n",
              " ('station', 36),\n",
              " ('stuff', 36),\n",
              " ('bus', 35),\n",
              " ('couple', 35),\n",
              " ('shop', 35),\n",
              " ('situation', 35),\n",
              " ('talk', 35),\n",
              " ('thought', 35),\n",
              " ('able', 34),\n",
              " ('french', 34),\n",
              " ('kid', 34),\n",
              " ('sorry', 34),\n",
              " ('bar', 33),\n",
              " ('door', 33),\n",
              " ('especially', 33),\n",
              " ('france', 33),\n",
              " ('hard', 33),\n",
              " ('wait', 33),\n",
              " ('beaucoup', 32),\n",
              " ('easy', 32),\n",
              " ('enjoy', 32),\n",
              " ('fine', 32),\n",
              " ('fun', 32),\n",
              " ('near', 32),\n",
              " ('open', 32),\n",
              " ('run', 32),\n",
              " ('world', 32),\n",
              " ('bon', 31),\n",
              " ('petit', 31),\n",
              " ('quebec', 31),\n",
              " ('usually', 31),\n",
              " ('age', 30),\n",
              " ('company', 30),\n",
              " ('face', 30),\n",
              " ('group', 30),\n",
              " ('hand', 30),\n",
              " ('market', 30),\n",
              " ('moment', 30),\n",
              " ('sell', 30),\n",
              " ('social', 30),\n",
              " ('temps', 30),\n",
              " ('expect', 29),\n",
              " ('foi', 29),\n",
              " ('fr', 29),\n",
              " ('grand', 29),\n",
              " ('hope', 29),\n",
              " ('instead', 29),\n",
              " ('option', 29),\n",
              " ('outside', 29),\n",
              " ('found', 28),\n",
              " ('head', 28),\n",
              " ('kind', 28),\n",
              " ('prix', 28),\n",
              " ('remember', 28),\n",
              " ('road', 28),\n",
              " ('tell', 28),\n",
              " ('understand', 28),\n",
              " ('voir', 28),\n",
              " ('vraiment', 28),\n",
              " ('aller', 27),\n",
              " ('book', 27),\n",
              " ('care', 27),\n",
              " ('contact', 27),\n",
              " ('honestly', 27),\n",
              " ('monde', 27),\n",
              " ('shit', 27),\n",
              " ('young', 27),\n",
              " ('advice', 26),\n",
              " ('cause', 26),\n",
              " ('check', 26),\n",
              " ('consider', 26),\n",
              " ('control', 26),\n",
              " ('eat', 26),\n",
              " ('faut', 26),\n",
              " ('follow', 26),\n",
              " ('important', 26),\n",
              " ('learn', 26),\n",
              " ('location', 26),\n",
              " ('rien', 26),\n",
              " ('space', 26),\n",
              " ('support', 26),\n",
              " ('turn', 26),\n",
              " ('woman', 26),\n",
              " ('base', 25),\n",
              " ('case', 25),\n",
              " ('cheap', 25),\n",
              " ('cher', 25),\n",
              " ('edit', 25),\n",
              " ('housing', 25),\n",
              " ('later', 25),\n",
              " ('low', 25),\n",
              " ('single', 25),\n",
              " ('trop', 25),\n",
              " ('article', 24),\n",
              " ('business', 24),\n",
              " ('coffee', 24),\n",
              " ('definitely', 24),\n",
              " ('include', 24),\n",
              " ('play', 24),\n",
              " ('real', 24),\n",
              " ('recommend', 24),\n",
              " ('term', 24),\n",
              " ('watch', 24),\n",
              " ('yes', 24),\n",
              " ('allow', 23),\n",
              " ('building', 23),\n",
              " ('chose', 23),\n",
              " ('club', 23),\n",
              " ('contre', 23),\n",
              " ('date', 23),\n",
              " ('interest', 23),\n",
              " ('jamais', 23),\n",
              " ('jour', 23),\n",
              " ('mind', 23),\n",
              " ('minute', 23),\n",
              " ('offer', 23),\n",
              " ('parent', 23),\n",
              " ('pick', 23),\n",
              " ('rue', 23),\n",
              " ('school', 23),\n",
              " ('set', 23),\n",
              " ('similar', 23),\n",
              " ('speak', 23),\n",
              " ('system', 23),\n",
              " ('trouve', 23),\n",
              " ('absolutely', 22),\n",
              " ('afford', 22),\n",
              " ('arrive', 22),\n",
              " ('break', 22),\n",
              " ('central', 22),\n",
              " ('centre', 22),\n",
              " ('child', 22),\n",
              " ('community', 22),\n",
              " ('ete', 22),\n",
              " ('game', 22),\n",
              " ('general', 22),\n",
              " ('quartier', 22),\n",
              " ('soon', 22),\n",
              " ('store', 22),\n",
              " ('super', 22),\n",
              " ('travel', 22),\n",
              " ('unfortunately', 22),\n",
              " ('weekend', 22),\n",
              " ('wrong', 22),\n",
              " ('compare', 21),\n",
              " ('concern', 21),\n",
              " ('coup', 21),\n",
              " ('english', 21),\n",
              " ('likely', 21),\n",
              " ('lol', 21),\n",
              " ('mal', 21),\n",
              " ('mention', 21),\n",
              " ('morning', 21),\n",
              " ('partner', 21),\n",
              " ('passe', 21),\n",
              " ('saw', 21),\n",
              " ('sort', 21),\n",
              " ('spend', 21),\n",
              " ('state', 21),\n",
              " ('bike', 20),\n",
              " ('class', 20),\n",
              " ('google', 20),\n",
              " ('image', 20),\n",
              " ('message', 20),\n",
              " ('plein', 20),\n",
              " ('saint', 20),\n",
              " ('share', 20),\n",
              " ('short', 20),\n",
              " ('site', 20),\n",
              " ('south', 20),\n",
              " ('spot', 20),\n",
              " ('suggest', 20),\n",
              " ('town', 20),\n",
              " ('tube', 20),\n",
              " ('action', 19),\n",
              " ('busy', 19),\n",
              " ('depend', 19),\n",
              " ('drink', 19),\n",
              " ('drop', 19),\n",
              " ('east', 19),\n",
              " ('extra', 19),\n",
              " ('force', 19),\n",
              " ('hear', 19),\n",
              " ('law', 19),\n",
              " ('list', 19),\n",
              " ('lose', 19),\n",
              " ('luck', 19),\n",
              " ('meal', 19),\n",
              " ('meet', 19),\n",
              " ('miss', 19),\n",
              " ('opinion', 19),\n",
              " ('paid', 19),\n",
              " ('population', 19),\n",
              " ('probleme', 19),\n",
              " ('pull', 19),\n",
              " ('rest', 19),\n",
              " ('second', 19),\n",
              " ('security', 19),\n",
              " ('sport', 19),\n",
              " ('st', 19),\n",
              " ('stay', 19),\n",
              " ('type', 19),\n",
              " ('website', 19),\n",
              " ('worry', 19),\n",
              " ('yeah', 19),\n",
              " ('ailleurs', 18),\n",
              " ('air', 18),\n",
              " ('answer', 18),\n",
              " ('avoid', 18),\n",
              " ('believe', 18),\n",
              " ('bonne', 18),\n",
              " ('bought', 18),\n",
              " ('buying', 18),\n",
              " ('cut', 18),\n",
              " ('event', 18),\n",
              " ('flat', 18),\n",
              " ('francais', 18),\n",
              " ('genre', 18),\n",
              " ('half', 18),\n",
              " ('history', 18),\n",
              " ('impossible', 18),\n",
              " ('information', 18),\n",
              " ('inside', 18),\n",
              " ('million', 18),\n",
              " ('oh', 18),\n",
              " ('op', 18),\n",
              " ('pub', 18),\n",
              " ('quebecois', 18),\n",
              " ('read', 18),\n",
              " ('recently', 18),\n",
              " ('room', 18),\n",
              " ('salary', 18),\n",
              " ('semaine', 18),\n",
              " ('stand', 18),\n",
              " ('thanks', 18),\n",
              " ('traffic', 18),\n",
              " ('uk', 18),\n",
              " ('velo', 18),\n",
              " ('add', 17),\n",
              " ('bag', 17),\n",
              " ('cool', 17),\n",
              " ('course', 17),\n",
              " ('cross', 17),\n",
              " ('currently', 17),\n",
              " ('decide', 17),\n",
              " ('euro', 17),\n",
              " ('fact', 17),\n",
              " ('hit', 17),\n",
              " ('large', 17),\n",
              " ('late', 17),\n",
              " ('marche', 17),\n",
              " ('men', 17),\n",
              " ('middle', 17),\n",
              " ('notice', 17),\n",
              " ('order', 17),\n",
              " ('parking', 17),\n",
              " ('photo', 17),\n",
              " ('reddit', 17),\n",
              " ('route', 17),\n",
              " ('save', 17),\n",
              " ('source', 17),\n",
              " ('steal', 17),\n",
              " ('surprised', 17),\n",
              " ('today', 17),\n",
              " ('told', 17),\n",
              " ('trip', 17),\n",
              " ('view', 17),\n",
              " ('voiture', 17),\n",
              " ('wonder', 17),\n",
              " ('apartment', 16),\n",
              " ('appreciate', 16),\n",
              " ('attention', 16),\n",
              " ('bank', 16),\n",
              " ('basically', 16),\n",
              " ('block', 16),\n",
              " ('cafe', 16),\n",
              " ('chance', 16),\n",
              " ('charge', 16),\n",
              " ('cheaper', 16),\n",
              " ('continue', 16),\n",
              " ('demande', 16),\n",
              " ('driver', 16),\n",
              " ('example', 16),\n",
              " ('friendly', 16),\n",
              " ('ground', 16),\n",
              " ('ici', 16),\n",
              " ('level', 16),\n",
              " ('longer', 16),\n",
              " ('main', 16),\n",
              " ('map', 16),\n",
              " ('office', 16),\n",
              " ('ok', 16),\n",
              " ('online', 16),\n",
              " ('owner', 16),\n",
              " ('past', 16),\n",
              " ('plan', 16),\n",
              " ('plenty', 16),\n",
              " ('rare', 16),\n",
              " ('rule', 16),\n",
              " ('safe', 16),\n",
              " ('sais', 16),\n",
              " ('step', 16),\n",
              " ('suggestion', 16),\n",
              " ('tour', 16),\n",
              " ('zone', 16),\n",
              " ('account', 15),\n",
              " ('activity', 15),\n",
              " ('advance', 15),\n",
              " ('agree', 15),\n",
              " ('anymore', 15),\n",
              " ('aucun', 15),\n",
              " ('automatically', 15),\n",
              " ('budget', 15),\n",
              " ('cas', 15),\n",
              " ('cate', 15),\n",
              " ('choose', 15),\n",
              " ('code', 15),\n",
              " ('coin', 15),\n",
              " ('complain', 15),\n",
              " ('cover', 15),\n",
              " ('deal', 15),\n",
              " ('difference', 15),\n",
              " ('earn', 15),\n",
              " ('feed', 15),\n",
              " ('girl', 15),\n",
              " ('happy', 15),\n",
              " ('imagine', 15),\n",
              " ('income', 15),\n",
              " ('join', 15),\n",
              " ('ligne', 15),\n",
              " ('lunch', 15),\n",
              " ('man', 15),\n",
              " ('pain', 15),\n",
              " ('perform', 15),\n",
              " ('phone', 15),\n",
              " ('porte', 15),\n",
              " ('power', 15),\n",
              " ('prendre', 15),\n",
              " ('property', 15),\n",
              " ('provide', 15),\n",
              " ('reach', 15),\n",
              " ('sense', 15),\n",
              " ('study', 15),\n",
              " ('ticket', 15),\n",
              " ('tip', 15),\n",
              " ('veux', 15),\n",
              " ('water', 15),\n",
              " ('west', 15),\n",
              " ('amaze', 14),\n",
              " ('american', 14),\n",
              " ('annees', 14),\n",
              " ('bot', 14),\n",
              " ('common', 14),\n",
              " ('completely', 14),\n",
              " ('council', 14),\n",
              " ('court', 14),\n",
              " ('covid', 14),\n",
              " ('distance', 14),\n",
              " ('early', 14),\n",
              " ('fit', 14),\n",
              " ('green', 14),\n",
              " ('gym', 14),\n",
              " ('hold', 14),\n",
              " ('huge', 14),\n",
              " ('language', 14),\n",
              " ('matter', 14),\n",
              " ('mieux', 14),\n",
              " ('note', 14),\n",
              " ('obviously', 14),\n",
              " ('page', 14),\n",
              " ('passer', 14),\n",
              " ('private', 14),\n",
              " ('quiet', 14),\n",
              " ('search', 14),\n",
              " ('send', 14),\n",
              " ('simple', 14),\n",
              " ('sit', 14),\n",
              " ('specific', 14),\n",
              " ('speed', 14),\n",
              " ('student', 14),\n",
              " ('style', 14),\n",
              " ('subreddit', 14),\n",
              " ('suppose', 14),\n",
              " ('tourist', 14),\n",
              " ('ver', 14),\n",
              " ('victoria', 14),\n",
              " ('vie', 14),\n",
              " ('vrai', 14),\n",
              " ('weird', 14),\n",
              " ('wish', 14),\n",
              " ('acheter', 13),\n",
              " ('bring', 13),\n",
              " ('built', 13),\n",
              " ('canada', 13),\n",
              " ('catch', 13),\n",
              " ('client', 13),\n",
              " ('crime', 13),\n",
              " ('culture', 13),\n",
              " ('dog', 13),\n",
              " ('easily', 13),\n",
              " ('endroit', 13),\n",
              " ('europe', 13),\n",
              " ('exist', 13),\n",
              " ('explain', 13),\n",
              " ('fill', 13),\n",
              " ('future', 13),\n",
              " ('guess', 13),\n",
              " ('hate', 13),\n",
              " ('heard', 13),\n",
              " ('hey', 13),\n",
              " ('hotel', 13),\n",
              " ('info', 13),\n",
              " ('insurance', 13),\n",
              " ('kept', 13),\n",
              " ('kill', 13),\n",
              " ('lack', 13),\n",
              " ('limite', 13),\n",
              " ('logement', 13),\n",
              " ('manage', 13),\n",
              " ('min', 13),\n",
              " ('mortgage', 13),\n",
              " ('moyen', 13),\n",
              " ('normal', 13),\n",
              " ('number', 13),\n",
              " ('payer', 13),\n",
              " ('pris', 13),\n",
              " ('realise', 13),\n",
              " ('red', 13),\n",
              " ('relationship', 13),\n",
              " ('rer', 13),\n",
              " ('rude', 13),\n",
              " ('seat', 13),\n",
              " ('spending', 13),\n",
              " ('staff', 13),\n",
              " ('tower', 13),\n",
              " ('travail', 13),\n",
              " ('truc', 13),\n",
              " ('vote', 13),\n",
              " ('wear', 13),\n",
              " ('act', 12),\n",
              " ('ami', 12),\n",
              " ('appartement', 12),\n",
              " ('average', 12),\n",
              " ('body', 12),\n",
              " ('clearly', 12),\n",
              " ('commute', 12),\n",
              " ('compose', 12),\n",
              " ('cook', 12),\n",
              " ('cop', 12),\n",
              " ('current', 12),\n",
              " ('decent', 12),\n",
              " ('direct', 12),\n",
              " ('doctor', 12),\n",
              " ('enter', 12),\n",
              " ('exemple', 12),\n",
              " ('fancy', 12),\n",
              " ('film', 12),\n",
              " ('fix', 12),\n",
              " ('government', 12),\n",
              " ('health', 12),\n",
              " ('hire', 12),\n",
              " ('holiday', 12),\n",
              " ('hot', 12),\n",
              " ('illegal', 12),\n",
              " ('immediately', 12),\n",
              " ('involve', 12),\n",
              " ('landlord', 12),\n",
              " ('lane', 12),\n",
              " ('light', 12),\n",
              " ('load', 12),\n",
              " ('minimum', 12),\n",
              " ('moderator', 12),\n",
              " ('mother', 12),\n",
              " ('nouvelle', 12),\n",
              " ('okay', 12),\n",
              " ('org', 12),\n",
              " ('particularly', 12),\n",
              " ('party', 12),\n",
              " ('personally', 12),\n",
              " ('probablement', 12),\n",
              " ('push', 12),\n",
              " ('reminder', 12),\n",
              " ('replace', 12),\n",
              " ('return', 12),\n",
              " ('saving', 12),\n",
              " ('sign', 12),\n",
              " ('simply', 12),\n",
              " ('sor', 12),\n",
              " ('tax', 12),\n",
              " ('tram', 12),\n",
              " ('transfer', 12),\n",
              " ('value', 12),\n",
              " ('accept', 11),\n",
              " ('airport', 11),\n",
              " ('anti', 11),\n",
              " ('apply', 11),\n",
              " ('art', 11),\n",
              " ('asian', 11),\n",
              " ('assume', 11),\n",
              " ('autant', 11),\n",
              " ('bill', 11),\n",
              " ('bonus', 11),\n",
              " ('bottle', 11),\n",
              " ('bref', 11),\n",
              " ('camera', 11),\n",
              " ('card', 11),\n",
              " ('challenge', 11),\n",
              " ('claim', 11),\n",
              " ('cold', 11),\n",
              " ('commence', 11),\n",
              " ('conseille', 11),\n",
              " ('damage', 11),\n",
              " ('donner', 11),\n",
              " ('double', 11),\n",
              " ('downvote', 11),\n",
              " ('downvoting', 11),\n",
              " ('emergency', 11),\n",
              " ('fall', 11),\n",
              " ('focus', 11),\n",
              " ('gare', 11),\n",
              " ('gonna', 11),\n",
              " ('gros', 11),\n",
              " ('ignore', 11),\n",
              " ('increase', 11),\n",
              " ('lieu', 11),\n",
              " ('loin', 11),\n",
              " ('mate', 11),\n",
              " ('member', 11),\n",
              " ('met', 11),\n",
              " ('nord', 11),\n",
              " ('north', 11),\n",
              " ('opening', 11),\n",
              " ('parisian', 11),\n",
              " ('particulier', 11),\n",
              " ('path', 11),\n",
              " ('piece', 11),\n",
              " ('process', 11),\n",
              " ('professional', 11),\n",
              " ('quelqu', 11),\n",
              " ('quickly', 11),\n",
              " ('rate', 11),\n",
              " ('reasonable', 11),\n",
              " ('reduce', 11),\n",
              " ('remove', 11),\n",
              " ('rental', 11),\n",
              " ('report', 11),\n",
              " ('rich', 11),\n",
              " ('roll', 11),\n",
              " ('sens', 11),\n",
              " ('seriously', 11),\n",
              " ('strong', 11),\n",
              " ('summer', 11),\n",
              " ('thousand', 11),\n",
              " ('trouver', 11),\n",
              " ('upvote', 11),\n",
              " ('upvoting', 11),\n",
              " ('video', 11),\n",
              " ('vois', 11),\n",
              " ('vue', 11),\n",
              " ('wage', 11),\n",
              " ('window', 11),\n",
              " ('winter', 11),\n",
              " ('write', 11),\n",
              " ('access', 10),\n",
              " ('accessible', 10),\n",
              " ('actual', 10),\n",
              " ('approach', 10),\n",
              " ('argent', 10),\n",
              " ('australia', 10),\n",
              " ('australian', 10),\n",
              " ('bed', 10),\n",
              " ('behaviour', 10),\n",
              " ('besoin', 10),\n",
              " ('bet', 10),\n",
              " ('black', 10),\n",
              " ('bother', 10),\n",
              " ('breakfast', 10),\n",
              " ('canal', 10),\n",
              " ('chill', 10),\n",
              " ('crazy', 10),\n",
              " ('crowd', 10),\n",
              " ('devrait', 10),\n",
              " ('difficult', 10),\n",
              " ('dude', 10),\n",
              " ('estate', 10),\n",
              " ('eventually', 10),\n",
              " ('extremely', 10),\n",
              " ('eye', 10),\n",
              " ('fee', 10),\n",
              " ('figure', 10),\n",
              " ('foot', 10),\n",
              " ('generally', 10),\n",
              " ('grocery', 10),\n",
              " ('guard', 10),\n",
              " ('hang', 10),\n",
              " ('happens', 10),\n",
              " ('hello', 10),\n",
              " ('impression', 10),\n",
              " ('key', 10),\n",
              " ('knew', 10),\n",
              " ('legal', 10),\n",
              " ('lie', 10),\n",
              " ('link', 10),\n",
              " ('maison', 10),\n",
              " ('manque', 10),\n",
              " ('multiple', 10),\n",
              " ('music', 10),\n",
              " ('nearly', 10),\n",
              " ('niveau', 10),\n",
              " ('noise', 10),\n",
              " ('overall', 10),\n",
              " ('partout', 10),\n",
              " ('payment', 10),\n",
              " ('plutat', 10),\n",
              " ('proprietaire', 10),\n",
              " ('province', 10),\n",
              " ('quality', 10),\n",
              " ('realize', 10),\n",
              " ('regularly', 10),\n",
              " ('securite', 10),\n",
              " ('self', 10),\n",
              " ('shock', 10),\n",
              " ('society', 10),\n",
              " ('solution', 10),\n",
              " ('struggle', 10),\n",
              " ('sub', 10),\n",
              " ('sun', 10),\n",
              " ('sunday', 10),\n",
              " ('systeme', 10),\n",
              " ('telephone', 10),\n",
              " ('thats', 10),\n",
              " ('thread', 10),\n",
              " ('treat', 10),\n",
              " ('tv', 10),\n",
              " ('vite', 10),\n",
              " ('wife', 10),\n",
              " ('word', 10),\n",
              " ('accident', 9),\n",
              " ('agent', 9),\n",
              " ('aime', 9),\n",
              " ('annoy', 9),\n",
              " ('apparently', 9),\n",
              " ('arrondissement', 9),\n",
              " ('attempt', 9),\n",
              " ('attend', 9),\n",
              " ('available', 9),\n",
              " ('aware', 9),\n",
              " ('beat', 9),\n",
              " ('boat', 9),\n",
              " ('brand', 9),\n",
              " ('broke', 9),\n",
              " ('broken', 9),\n",
              " ('build', 9),\n",
              " ('cash', 9),\n",
              " ('center', 9),\n",
              " ('chat', 9),\n",
              " ('cheese', 9),\n",
              " ('choice', 9),\n",
              " ('clear', 9),\n",
              " ('co', 9),\n",
              " ('compte', 9),\n",
              " ('cote', 9),\n",
              " ('cour', 9),\n",
              " ('crois', 9),\n",
              " ('defense', 9),\n",
              " ('demand', 9),\n",
              " ('depends', 9),\n",
              " ('downtown', 9),\n",
              " ('droit', 9),\n",
              " ('effort', 9),\n",
              " ('egg', 9),\n",
              " ('enfant', 9),\n",
              " ('entire', 9),\n",
              " ('european', 9),\n",
              " ('ex', 9),\n",
              " ('existe', 9),\n",
              " ('exit', 9),\n",
              " ('fairly', 9),\n",
              " ('fan', 9),\n",
              " ('felt', 9),\n",
              " ('fire', 9),\n",
              " ('hell', 9),\n",
              " ('hopefully', 9),\n",
              " ('land', 9),\n",
              " ('lead', 9),\n",
              " ('machine', 9),\n",
              " ('mairie', 9),\n",
              " ('major', 9),\n",
              " ('meant', 9),\n",
              " ('mode', 9),\n",
              " ('mum', 9),\n",
              " ('museum', 9),\n",
              " ('nearby', 9),\n",
              " ('occasion', 9),\n",
              " ('officer', 9),\n",
              " ('oui', 9),\n",
              " ('parisien', 9),\n",
              " ('passport', 9),\n",
              " ('poor', 9),\n",
              " ('position', 9),\n",
              " ('present', 9),\n",
              " ('product', 9),\n",
              " ('protest', 9),\n",
              " ('rapport', 9),\n",
              " ('region', 9),\n",
              " ('regret', 9),\n",
              " ('respect', 9),\n",
              " ('review', 9),\n",
              " ('risk', 9),\n",
              " ('rush', 9),\n",
              " ('sad', 9),\n",
              " ('safety', 9),\n",
              " ('salaire', 9),\n",
              " ('scam', 9),\n",
              " ('settle', 9),\n",
              " ('size', 9),\n",
              " ('special', 9),\n",
              " ('spent', 9),\n",
              " ('square', 9),\n",
              " ('stationnement', 9),\n",
              " ('story', 9),\n",
              " ('straight', 9),\n",
              " ('suburb', 9),\n",
              " ('suspect', 9),\n",
              " ('taste', 9),\n",
              " ('taxi', 9),\n",
              " ('thank', 9),\n",
              " ('total', 9),\n",
              " ('touch', 9),\n",
              " ('trust', 9),\n",
              " ('uber', 9),\n",
              " ('underground', 9),\n",
              " ('veut', 9),\n",
              " ('vic', 9),\n",
              " ('war', 9),\n",
              " ('weather', 9),\n",
              " ('welcome', 9),\n",
              " ('york', 9),\n",
              " ('abuse', 8),\n",
              " ('afternoon', 8),\n",
              " ('app', 8),\n",
              " ('banlieue', 8),\n",
              " ('beau', 8),\n",
              " ('beer', 8),\n",
              " ('boy', 8),\n",
              " ('brain', 8),\n",
              " ('bunch', 8),\n",
              " ('capital', 8),\n",
              " ('chicken', 8),\n",
              " ('clothes', 8),\n",
              " ('comfortable', 8),\n",
              " ('comprends', 8),\n",
              " ('connect', 8),\n",
              " ('conversation', 8),\n",
              " ('create', 8),\n",
              " ('credit', 8),\n",
              " ('cycliste', 8),\n",
              " ('daily', 8),\n",
              " ('decade', 8),\n",
              " ('decision', 8),\n",
              " ('delivery', 8),\n",
              " ('despite', 8),\n",
              " ('detail', 8),\n",
              " ('dinner', 8),\n",
              " ('dollar', 8),\n",
              " ('equipment', 8),\n",
              " ('exact', 8),\n",
              " ('fail', 8),\n",
              " ('fast', 8),\n",
              " ('fight', 8),\n",
              " ('floor', 8),\n",
              " ('fly', 8),\n",
              " ('fond', 8),\n",
              " ('fresh', 8),\n",
              " ('friday', 8),\n",
              " ('fruit', 8),\n",
              " ('funny', 8),\n",
              " ('grosse', 8),\n",
              " ('hair', 8),\n",
              " ('heure', 8),\n",
              " ('hole', 8),\n",
              " ('idee', 8),\n",
              " ('ie', 8),\n",
              " ('im', 8),\n",
              " ('immigration', 8),\n",
              " ('immobilier', 8),\n",
              " ('improve', 8),\n",
              " ('indicate', 8),\n",
              " ('industry', 8),\n",
              " ('intersection', 8),\n",
              " ('item', 8),\n",
              " ('journee', 8),\n",
              " ('lady', 8),\n",
              " ('laisse', 8),\n",
              " ('lieux', 8),\n",
              " ('listen', 8),\n",
              " ('literally', 8),\n",
              " ('loyer', 8),\n",
              " ('mainly', 8),\n",
              " ('male', 8),\n",
              " ('march', 8),\n",
              " ('massive', 8),\n",
              " ('medium', 8),\n",
              " ('meilleur', 8),\n",
              " ('mental', 8),\n",
              " ('mettre', 8),\n",
              " ('minor', 8),\n",
              " ('model', 8),\n",
              " ('movie', 8),\n",
              " ('nature', 8),\n",
              " ('neighbour', 8),\n",
              " ('news', 8),\n",
              " ('nyc', 8),\n",
              " ('package', 8),\n",
              " ('perfect', 8),\n",
              " ('pizza', 8),\n",
              " ('planning', 8),\n",
              " ('plupart', 8),\n",
              " ('political', 8),\n",
              " ('popular', 8),\n",
              " ('pouvoir', 8),\n",
              " ('pre', 8),\n",
              " ('premiere', 8),\n",
              " ('prend', 8),\n",
              " ('pro', 8),\n",
              " ('project', 8),\n",
              " ('projet', 8),\n",
              " ('proprio', 8),\n",
              " ('quick', 8),\n",
              " ('ratp', 8),\n",
              " ('reference', 8),\n",
              " ('refuse', 8),\n",
              " ('regard', 8),\n",
              " ('repayment', 8),\n",
              " ('reseau', 8),\n",
              " ('resident', 8),\n",
              " ('ride', 8),\n",
              " ('rise', 8),\n",
              " ('sandwich', 8),\n",
              " ('scar', 8),\n",
              " ('seek', 8),\n",
              " ('shopping', 8),\n",
              " ('specifically', 8),\n",
              " ('stick', 8),\n",
              " ('stress', 8),\n",
              " ('sud', 8),\n",
              " ('suddenly', 8),\n",
              " ('sujet', 8),\n",
              " ('supermarket', 8),\n",
              " ('sweet', 8),\n",
              " ('text', 8),\n",
              " ('throw', 8),\n",
              " ('tire', 8),\n",
              " ('transportation', 8),\n",
              " ('travaille', 8),\n",
              " ('useful', 8),\n",
              " ('vecu', 8),\n",
              " ('whilst', 8),\n",
              " ('white', 8),\n",
              " ('anglais', 7),\n",
              " ('architecture', 7),\n",
              " ('aside', 7),\n",
              " ('asshole', 7),\n",
              " ('attack', 7),\n",
              " ('aucune', 7),\n",
              " ('auto', 7),\n",
              " ('automobiliste', 7),\n",
              " ('baby', 7),\n",
              " ('basic', 7),\n",
              " ('benefit', 7),\n",
              " ('bread', 7),\n",
              " ('bridge', 7),\n",
              " ('ch', 7),\n",
              " ('clean', 7),\n",
              " ('combine', 7),\n",
              " ('commentaire', 7),\n",
              " ('commun', 7),\n",
              " ('complete', 7),\n",
              " ('completement', 7),\n",
              " ('connais', 7),\n",
              " ('constantly', 7),\n",
              " ('construction', 7),\n",
              " ('coote', 7),\n",
              " ('corner', 7),\n",
              " ('criminal', 7),\n",
              " ('croissant', 7),\n",
              " ('dance', 7),\n",
              " ('degree', 7),\n",
              " ('donne', 7),\n",
              " ('doubt', 7),\n",
              " ('dress', 7),\n",
              " ('drug', 7),\n",
              " ('ensuite', 7),\n",
              " ('espace', 7),\n",
              " ('essayer', 7),\n",
              " ('everyday', 7),\n",
              " ('fair', 7),\n",
              " ...]"
            ]
          },
          "metadata": {},
          "execution_count": 13
        }
      ]
    },
    {
      "cell_type": "code",
      "source": [
        "# With Processing\n",
        "\n",
        "spacy_stopwords_list = list(fr_stop) + list(en_stop)\n",
        "nltk_stopwords_list = stopwords.words('english') + stopwords.words('french')\n",
        "other_stop_words = ['http', 'https', 'www']\n",
        "stop_words = list(set().union(spacy_stopwords_list, nltk_stopwords_list, other_stop_words))\n",
        "\n",
        "processed_training_data = preprocess(training_data, stop_words = stop_words)\n",
        "\n",
        "test_split = 0.1\n",
        "\n",
        "(training_data_split, testing_data_split, training_labels_split, testing_labels_split) = train_test_split(processed_training_data, training_labels, test_size = int(len(processed_training_data)*test_split), random_state=seed)\n",
        "\n",
        "model = NB()\n",
        "model.fit(training_data_split, training_labels_split)\n",
        "mean_error, info = k_fold_validation(training_data_split, training_labels_split, model = model)\n",
        "predictions = model.predict(testing_data_split)\n",
        "print(1-mean_error)\n",
        "accuracy_score(testing_labels_split, predictions)"
      ],
      "metadata": {
        "colab": {
          "base_uri": "https://localhost:8080/"
        },
        "id": "q1Okh7RSdckn",
        "outputId": "bbc95f8d-6fb8-4020-fd18-ffebb367871a"
      },
      "execution_count": null,
      "outputs": [
        {
          "output_type": "stream",
          "name": "stdout",
          "text": [
            "(1, 1)\n"
          ]
        },
        {
          "output_type": "stream",
          "name": "stderr",
          "text": [
            "Loading…: 100%|██████████████████████████| 126/126 [00:02<00:00, 42.02it/s]\n"
          ]
        },
        {
          "output_type": "stream",
          "name": "stdout",
          "text": [
            "(1, 1)\n"
          ]
        },
        {
          "output_type": "stream",
          "name": "stderr",
          "text": [
            "Loading…: 100%|██████████████████████████| 126/126 [00:02<00:00, 44.37it/s]\n"
          ]
        },
        {
          "output_type": "stream",
          "name": "stdout",
          "text": [
            "(1, 1)\n"
          ]
        },
        {
          "output_type": "stream",
          "name": "stderr",
          "text": [
            "Loading…: 100%|██████████████████████████| 126/126 [00:03<00:00, 37.88it/s]\n"
          ]
        },
        {
          "output_type": "stream",
          "name": "stdout",
          "text": [
            "(1, 1)\n"
          ]
        },
        {
          "output_type": "stream",
          "name": "stderr",
          "text": [
            "Loading…: 100%|██████████████████████████| 126/126 [00:03<00:00, 35.02it/s]\n"
          ]
        },
        {
          "output_type": "stream",
          "name": "stdout",
          "text": [
            "(1, 1)\n"
          ]
        },
        {
          "output_type": "stream",
          "name": "stderr",
          "text": [
            "Loading…: 100%|██████████████████████████| 126/126 [00:02<00:00, 45.51it/s]\n"
          ]
        },
        {
          "output_type": "stream",
          "name": "stdout",
          "text": [
            "(1, 1)\n"
          ]
        },
        {
          "output_type": "stream",
          "name": "stderr",
          "text": [
            "Loading…: 100%|██████████████████████████| 126/126 [00:02<00:00, 47.59it/s]\n"
          ]
        },
        {
          "output_type": "stream",
          "name": "stdout",
          "text": [
            "(1, 1)\n"
          ]
        },
        {
          "output_type": "stream",
          "name": "stderr",
          "text": [
            "Loading…: 100%|██████████████████████████| 126/126 [00:02<00:00, 45.05it/s]\n"
          ]
        },
        {
          "output_type": "stream",
          "name": "stdout",
          "text": [
            "(1, 1)\n"
          ]
        },
        {
          "output_type": "stream",
          "name": "stderr",
          "text": [
            "Loading…: 100%|██████████████████████████| 126/126 [00:04<00:00, 28.29it/s]\n"
          ]
        },
        {
          "output_type": "stream",
          "name": "stdout",
          "text": [
            "(1, 1)\n"
          ]
        },
        {
          "output_type": "stream",
          "name": "stderr",
          "text": [
            "Loading…: 100%|██████████████████████████| 126/126 [00:02<00:00, 45.99it/s]\n"
          ]
        },
        {
          "output_type": "stream",
          "name": "stdout",
          "text": [
            "(1, 1)\n"
          ]
        },
        {
          "output_type": "stream",
          "name": "stderr",
          "text": [
            "Loading…: 100%|██████████████████████████| 126/126 [00:02<00:00, 45.93it/s]\n",
            "Loading…: 100%|██████████████████████████| 139/139 [00:03<00:00, 43.98it/s]"
          ]
        },
        {
          "output_type": "stream",
          "name": "stdout",
          "text": [
            "0.6158730158730159\n"
          ]
        },
        {
          "output_type": "stream",
          "name": "stderr",
          "text": [
            "\n"
          ]
        },
        {
          "output_type": "execute_result",
          "data": {
            "text/plain": [
              "0.6690647482014388"
            ]
          },
          "metadata": {},
          "execution_count": 20
        }
      ]
    },
    {
      "cell_type": "markdown",
      "metadata": {
        "id": "Giz98mOOps5d"
      },
      "source": [
        "# Actual Test Case"
      ]
    },
    {
      "cell_type": "code",
      "source": [
        "test_df   = pd.read_csv(path + 'test.csv', encoding = \"ISO-8859-1\")\n",
        "test_data = test_df['body'].apply(lambda x: x.lower().replace('_', ' ')).to_numpy()\n",
        "\n",
        "stop_words, max_feat, _, _ = hps[220]\n",
        "\n",
        "processed_training_data = preprocess(lemmatized_training_data, stop_words = stop_words)\n",
        "processed_test_data     = preprocess(test_data    , stop_words = stop_words, is_lemmatize = True)\n",
        "\n",
        "model = NB(max_features = max_feat, ngram_range = (1,1))\n",
        "model.fit(processed_training_data, training_labels)\n",
        "predictions = model.predict(processed_test_data)\n",
        "\n",
        "pd.DataFrame({'Subreddit':predictions}).reset_index().rename(columns={\"index\": \"Id\"}).to_csv('results.csv', index=False)"
      ],
      "metadata": {
        "colab": {
          "base_uri": "https://localhost:8080/"
        },
        "id": "N6WOSt8cIGjd",
        "outputId": "958c81cf-bfdf-4057-8057-1d63fe67e19c"
      },
      "execution_count": null,
      "outputs": [
        {
          "output_type": "stream",
          "name": "stderr",
          "text": [
            "Loading…: 100%|██████████████████████████| 600/600 [00:17<00:00, 33.66it/s]\n"
          ]
        }
      ]
    },
    {
      "cell_type": "code",
      "execution_count": null,
      "metadata": {
        "id": "YHux80f5QvTq"
      },
      "outputs": [],
      "source": [
        "pd.DataFrame({'Subreddit':predictions}).reset_index().rename(columns={\"index\": \"Id\"}).to_csv('results.csv', index=False)"
      ]
    },
    {
      "cell_type": "code",
      "source": [],
      "metadata": {
        "id": "KUhkDzgIHCuJ"
      },
      "execution_count": null,
      "outputs": []
    }
  ],
  "metadata": {
    "colab": {
      "provenance": []
    },
    "kernelspec": {
      "display_name": "Python 3",
      "name": "python3"
    },
    "language_info": {
      "codemirror_mode": {
        "name": "ipython",
        "version": 3
      },
      "file_extension": ".py",
      "mimetype": "text/x-python",
      "name": "python",
      "nbconvert_exporter": "python",
      "pygments_lexer": "ipython3",
      "version": "3.10.5"
    }
  },
  "nbformat": 4,
  "nbformat_minor": 0
}