{
  "cells": [
    {
      "cell_type": "markdown",
      "metadata": {
        "id": "awAAMg5wSCL8"
      },
      "source": [
        "# Setup"
      ]
    },
    {
      "cell_type": "code",
      "execution_count": 22,
      "metadata": {
        "colab": {
          "base_uri": "https://localhost:8080/"
        },
        "id": "otC0i9nsOwL2",
        "outputId": "21d130d3-7d58-44eb-9de4-d6497539b395"
      },
      "outputs": [
        {
          "ename": "ModuleNotFoundError",
          "evalue": "No module named 'google.colab'",
          "output_type": "error",
          "traceback": [
            "\u001b[1;31m---------------------------------------------------------------------------\u001b[0m",
            "\u001b[1;31mModuleNotFoundError\u001b[0m                       Traceback (most recent call last)",
            "Cell \u001b[1;32mIn[22], line 1\u001b[0m\n\u001b[1;32m----> 1\u001b[0m \u001b[38;5;28;01mfrom\u001b[39;00m \u001b[38;5;21;01mgoogle\u001b[39;00m\u001b[38;5;21;01m.\u001b[39;00m\u001b[38;5;21;01mcolab\u001b[39;00m \u001b[38;5;28;01mimport\u001b[39;00m drive\n\u001b[0;32m      2\u001b[0m drive\u001b[38;5;241m.\u001b[39mmount(\u001b[38;5;124m'\u001b[39m\u001b[38;5;124m/content/drive\u001b[39m\u001b[38;5;124m'\u001b[39m)\n",
            "\u001b[1;31mModuleNotFoundError\u001b[0m: No module named 'google.colab'"
          ]
        }
      ],
      "source": [
        "from google.colab import drive\n",
        "drive.mount('/content/drive')"
      ]
    },
    {
      "cell_type": "code",
      "execution_count": 3,
      "metadata": {
        "colab": {
          "base_uri": "https://localhost:8080/"
        },
        "id": "AVHrOlrVeb0y",
        "outputId": "f7951e7d-bd74-4a09-a8bf-2b45bf893d00"
      },
      "outputs": [
        {
          "name": "stderr",
          "output_type": "stream",
          "text": [
            "[nltk_data] Downloading package stopwords to\n",
            "[nltk_data]     C:\\Users\\samue\\AppData\\Roaming\\nltk_data...\n",
            "[nltk_data]   Package stopwords is already up-to-date!\n",
            "[nltk_data] Downloading package punkt to\n",
            "[nltk_data]     C:\\Users\\samue\\AppData\\Roaming\\nltk_data...\n",
            "[nltk_data]   Package punkt is already up-to-date!\n",
            "[nltk_data] Downloading package wordnet to\n",
            "[nltk_data]     C:\\Users\\samue\\AppData\\Roaming\\nltk_data...\n",
            "[nltk_data]   Package wordnet is already up-to-date!\n",
            "[nltk_data] Downloading package averaged_perceptron_tagger to\n",
            "[nltk_data]     C:\\Users\\samue\\AppData\\Roaming\\nltk_data...\n",
            "[nltk_data]   Package averaged_perceptron_tagger is already up-to-\n",
            "[nltk_data]       date!\n"
          ]
        },
        {
          "name": "stdout",
          "output_type": "stream",
          "text": [
            "Collecting git+https://github.com/ClaudeCoulombe/FrenchLefffLemmatizer.git\n",
            "  Cloning https://github.com/ClaudeCoulombe/FrenchLefffLemmatizer.git to c:\\users\\samue\\appdata\\local\\temp\\pip-req-build-jk1q7k0q\n",
            "  Resolved https://github.com/ClaudeCoulombe/FrenchLefffLemmatizer.git to commit bc0ebd0135a6cc78f48ddf184069b4c0b9c017d8\n",
            "  Installing build dependencies: started\n",
            "  Installing build dependencies: finished with status 'done'\n",
            "  Getting requirements to build wheel: started\n",
            "  Getting requirements to build wheel: finished with status 'done'\n",
            "  Installing backend dependencies: started\n",
            "  Installing backend dependencies: finished with status 'done'\n",
            "  Preparing metadata (pyproject.toml): started\n",
            "  Preparing metadata (pyproject.toml): finished with status 'done'\n"
          ]
        },
        {
          "name": "stderr",
          "output_type": "stream",
          "text": [
            "  Running command git clone --filter=blob:none --quiet https://github.com/ClaudeCoulombe/FrenchLefffLemmatizer.git 'C:\\Users\\samue\\AppData\\Local\\Temp\\pip-req-build-jk1q7k0q'\n"
          ]
        },
        {
          "name": "stdout",
          "output_type": "stream",
          "text": [
            "Requirement already satisfied: langdetect in c:\\users\\samue\\appdata\\local\\programs\\python\\python310\\lib\\site-packages (1.0.9)\n",
            "Requirement already satisfied: six in c:\\users\\samue\\appdata\\local\\programs\\python\\python310\\lib\\site-packages (from langdetect) (1.16.0)\n",
            "Requirement already satisfied: tqdm in c:\\users\\samue\\appdata\\local\\programs\\python\\python310\\lib\\site-packages (4.66.1)\n",
            "Requirement already satisfied: colorama in c:\\users\\samue\\appdata\\local\\programs\\python\\python310\\lib\\site-packages (from tqdm) (0.4.6)\n"
          ]
        }
      ],
      "source": [
        "from sklearn.feature_extraction.text import CountVectorizer\n",
        "from sklearn.feature_extraction import text\n",
        "from sklearn.model_selection import train_test_split, KFold\n",
        "from sklearn.metrics import accuracy_score, confusion_matrix, ConfusionMatrixDisplay\n",
        "import numpy as np\n",
        "import pandas as pd\n",
        "import matplotlib.pyplot as plt\n",
        "import seaborn as sns\n",
        "import scipy\n",
        "import time\n",
        "import nltk\n",
        "from nltk.corpus import stopwords\n",
        "# from nltk.stem import French\n",
        "nltk.download('stopwords')\n",
        "nltk.download('punkt')\n",
        "nltk.download('wordnet')\n",
        "nltk.download('averaged_perceptron_tagger')\n",
        "from nltk import word_tokenize\n",
        "from nltk.stem import WordNetLemmatizer\n",
        "from spacy.lang.fr.stop_words import STOP_WORDS as fr_stop\n",
        "from spacy.lang.en.stop_words import STOP_WORDS as en_stop\n",
        "\n",
        "from french_lefff_lemmatizer.french_lefff_lemmatizer import FrenchLefffLemmatizer # package for french lemmatization\n",
        "from nltk.tokenize.treebank import TreebankWordDetokenizer\n",
        "import random\n",
        "import re\n",
        "\n",
        "from nltk.corpus import wordnet\n",
        "from langdetect import detect\n",
        "\n",
        "from tqdm import tqdm\n",
        "# from english_dictionary.scripts.read_pickle import get_dict\n",
        "from english_words import get_english_words_set\n",
        "\n",
        "seed = 10\n",
        "random.seed(seed)\n",
        "np.random.seed(seed)"
      ]
    },
    {
      "cell_type": "markdown",
      "metadata": {
        "id": "LEKGk_qnSGsc"
      },
      "source": [
        "## Get Data"
      ]
    },
    {
      "cell_type": "code",
      "execution_count": 4,
      "metadata": {
        "id": "ZzV4brs6SAN3"
      },
      "outputs": [],
      "source": [
        "#path = '/content/drive/MyDrive/Olympus in the Sky/McGill/2024 - Winter/ECSE 551/Data/'\n",
        "path = 'Data/'\n",
        "df = pd.read_csv(path + 'train.csv', encoding = \"ISO-8859-15\")\n",
        "df = df.sample(frac=1, random_state=1).reset_index(drop = True)\n",
        "df = df[~df['body'].str.contains('\\?'*10)]\n",
        "\n",
        "training_data = df['body'].apply(lambda x: x.lower().replace('_', ' ')).to_numpy()\n",
        "training_labels = df['subreddit'].to_numpy()"
      ]
    },
    {
      "cell_type": "markdown",
      "metadata": {
        "id": "jmqvpiUNIPqw"
      },
      "source": [
        "## Preprocessing"
      ]
    },
    {
      "cell_type": "code",
      "execution_count": 77,
      "metadata": {
        "id": "06PcDk3Dz-Iz"
      },
      "outputs": [],
      "source": [
        "def get_wordnet_pos(word):\n",
        "  \"\"\"Map POS tag to first character lemmatize() accepts\"\"\"\n",
        "  tag = nltk.pos_tag([word])[0][1][0].upper()\n",
        "  tag_dict = {\"J\": wordnet.ADJ,\n",
        "              \"N\": wordnet.NOUN,\n",
        "              \"V\": wordnet.VERB,\n",
        "              \"R\": wordnet.ADV}\n",
        "  return tag_dict.get(tag, wordnet.NOUN)\n",
        "\n",
        "def remove_stop_words(arr_of_words, stop_words):\n",
        "  return [word for word in arr_of_words if word not in stop_words]\n",
        "\n",
        "\n",
        "def remove_invalid_words(text, valid_words):\n",
        "    return [word for word in text if word in valid_words]\n",
        "\n",
        "def lemmatize(arr_of_words):\n",
        "  lang = detect(' '.join(arr_of_words))\n",
        "  if lang == 'fr':\n",
        "      # arr_of_words.append('french')\n",
        "      lemmatizer = FrenchLefffLemmatizer()\n",
        "      \n",
        "  else:\n",
        "      # arr_of_words.append('english')\n",
        "      lemmatizer = WordNetLemmatizer()\n",
        "\n",
        "  return [lemmatizer.lemmatize(word) for word in arr_of_words]\n",
        "\n",
        "def preprocess(sentences, regex_pattern = r\"(?u)\\b[a-z][a-z]+\\b\", stop_words = None, is_lemmatize = False):\n",
        "  new_sentence_list = []\n",
        "  pattern = regex_pattern\n",
        "\n",
        "  for iter, sentence in enumerate(sentences):\n",
        "\n",
        "      words = list(set(re.findall(pattern, sentence)))\n",
        "      if stop_words:\n",
        "        words = remove_stop_words(words, stop_words)\n",
        "\n",
        "      if is_lemmatize:\n",
        "        words = lemmatize(words)\n",
        "\n",
        "      # if validate_words: \n",
        "      #    words = remove_invalid_words(words, validate_words)\n",
        "\n",
        "      new_sentence_list.append(' '.join(words))\n",
        "\n",
        "  return np.array(new_sentence_list)"
      ]
    },
    {
      "cell_type": "markdown",
      "metadata": {},
      "source": [
        "pre-processing without rege"
      ]
    },
    {
      "cell_type": "code",
      "execution_count": 224,
      "metadata": {},
      "outputs": [],
      "source": [
        "# import string\n",
        "\n",
        "# def equalize(labels, invalids):\n",
        "#     good_labels = []\n",
        "#     for index, label in enumerate(labels): \n",
        "#          if index not in invalids:\n",
        "#                 good_labels.append(label)\n",
        "#     return np.array(good_labels)\n",
        "\n",
        "# def preprocess(sentences, labels, stop_words, validate_words):\n",
        "#   new_sentence_list = []\n",
        "#   invalid_indices = []\n",
        "#   for enum, sentence in enumerate(sentences):\n",
        "#     # remove punctuation\n",
        "#     # punctuated = \"\".join([w.lower() for w in sentence if w not in string.punctuation])\n",
        "\n",
        "#     # remove numbers \n",
        "#     sentence_no_num = ''.join(w.lower() for w in sentence if not w.isdigit())\n",
        "#     # no_nums = ''.joing([w for w in punctuated if not w.isalpha])\n",
        "\n",
        "#     # tokenize the sentence \n",
        "#     tokenized_sentence = nltk.tokenize.word_tokenize(sentence_no_num)\n",
        "\n",
        "#     # remove stop words\n",
        "#     valid_sentence = [w.lower() for w in tokenized_sentence if w not in stop_words]\n",
        "\n",
        "#     full_valid_sentence = [w.lower() for w in valid_sentence if w in validate_words]\n",
        "#     # cleaned_sentence = [w for w in valid_sentence if w in validate_words]\n",
        "#     # print(enum, valid_sentence)\n",
        "\n",
        "#     # lemmatize the sentence\n",
        "#     # print(full_valid_sentence)\n",
        "#     # print(i)\n",
        "#     if full_valid_sentence: \n",
        "#       lemmatized_setence  = lemmatize(full_valid_sentence)\n",
        "#       new_sentence_list.append(' '.join(lemmatized_setence))\n",
        "#     # valid_sentences = ' '.join([w.lower() for w in sentence if w not in validate_words])\n",
        "#     else: \n",
        "#       invalid_indices.append(enum)\n",
        "#       # if validate_words: \n",
        "#       #    words = remove_invalid_words(words, validate_words)\n",
        "\n",
        "#     # new_sentence_list.append(' '.join(lemmatized_setence))\n",
        "#   processed_labels = equalize(labels, invalid_indices)\n",
        "\n",
        "#   return np.array(new_sentence_list), processed_labels"
      ]
    },
    {
      "cell_type": "markdown",
      "metadata": {},
      "source": [
        "# Support Vector Machine"
      ]
    },
    {
      "cell_type": "code",
      "execution_count": 84,
      "metadata": {},
      "outputs": [
        {
          "name": "stdout",
          "output_type": "stream",
          "text": [
            "['London' 'London' 'Paris']\n",
            "Accuracy: 0.6666666666666666\n"
          ]
        }
      ],
      "source": [
        "from sklearn.feature_extraction.text import TfidfVectorizer\n",
        "# from sklearn.linear_model import SGDClassifier\n",
        "# from sklearn.pipeline import Pipeline\n",
        "from sklearn.metrics import accuracy_score\n",
        "from sklearn import svm \n",
        "\n",
        "class SVM(): \n",
        "    def __init__(self, max_features = 15000, token_pattern = r\"(?u)\\b[a-z][a-z]+\\b\", min_df = 1, max_df = 1.0, ngram_range = (1,1), degree = 3, kernel = 'linear', sublinear_tf = False, tol = 1e-3, weights = None):\n",
        "        spacy_stopwords_list = list(fr_stop) + list(en_stop)\n",
        "        nltk_stopwords_list = stopwords.words('english') + stopwords.words('french')\n",
        "        other_stop_words = ['http', 'https', 'www']\n",
        "        stop_words = list(set().union(spacy_stopwords_list, nltk_stopwords_list, other_stop_words))\n",
        "        self.pattern = token_pattern\n",
        "        self.ngram_range = ngram_range\n",
        "        self.degree = degree\n",
        "        self.kernel = kernel\n",
        "        self.sublinear_tf = sublinear_tf\n",
        "        self.tol = tol\n",
        "        self.weights = weights\n",
        "        self.vectorizer = TfidfVectorizer(max_features = max_features, lowercase=True, token_pattern= token_pattern, min_df = min_df, max_df = max_df, ngram_range = ngram_range, sublinear_tf=sublinear_tf)\n",
        "        # self.vectorizer = CountVectorizer(binary = True, max_features = max_features, token_pattern=token_pattern, lowercase=True, strip_accents='unicode', min_df = min_df, max_df = max_df, ngram_range = ngram_range)\n",
        "        self.svm_class = svm.SVC(C=1,kernel=kernel, random_state=seed, degree=degree, tol=tol, class_weight=weights)\n",
        "\n",
        "    def train(self, x_data_train, x_data_labels):\n",
        "        assert len(x_data_train)  == len(x_data_labels)\n",
        "        # assert type(x_data_train) == type(x_data_labels) == np.ndarray\n",
        "        # fit the \n",
        "        vectors_train_idf = self.vectorizer.fit_transform(x_data_train)\n",
        "        self.svm_class.fit(vectors_train_idf, x_data_labels)\n",
        "    \n",
        "    def predict(self, x_data_test): \n",
        "        tfidf_test = self.vectorizer.transform(x_data_test)\n",
        "        x_data_pred = self.svm_class.predict(tfidf_test)\n",
        "        return x_data_pred\n",
        "\n",
        "\n",
        "X_train = [\n",
        "    \"On est bien d?accord que la question pos‚e ne contenait pas le mot SUV, mais bien les diff‚rents adjectifs, lourds,  encombrant, polluants. Sans ®ÿetÿ¯. Les voitures/camionettes (?), encombrantes ou  polluantes des pauvres (ou pas) seront bien tax‚es comme les 4x4?\",\n",
        "    \"You can thank the state governments soft approach on drugs and the injecting rooms for the proliferation of junkies all over the city. To save a few lives of junkies that add zero to society, they've destroyed the city for the rest of us. Let's not pretend that heroin users and ice users are mutually exclusive groups.\",\n",
        "    \"I?m not comparing them because I?m not clued up enough on either situation but I would love to understand how we are all so angry about what?s going on in Gaza but we all basically ignored the genocide in sudan? Is it because Sudan was a civil war and Gaza is attacked by a different state?\",\n",
        "    \"My group is mid to late 30s. We match our agendas and commit. We're pretty open about how we feel (tiredness, money, other commitments) but mainly we make an effort to show up because we enjoy hanging around each other. As an introvert i found friends who don't drain my energy so that also helps.\",\n",
        "    \"I was ready to be disappointed tbh (last years were misses for me) but I?m pleasantly surprised on this one! Arlo Parks, L‚onie Gray, Ren‚e Rapp (loved her on Broadway), Labrinth, T-Pain, Hozier, Jungle (great music fest vibes), Still Woozy, Raye?this is gonna be fun! Unsure if it?s 395$ fun though ??\"]\n",
        "\n",
        "y_train = [\"Paris\", \"Melbourne\", \"London\", \"London\", \"Montreal\"]  # 1 for positive sentiment, 0 for negative sentiment\n",
        "\n",
        "model = SVM()\n",
        "model.train(X_train, y_train)\n",
        "\n",
        "X_test = [\n",
        "    \"Dosa Pointe - If you can get it ! Often sells out and quickly Restaurant Canada Best - absolutely incredible, don't believe me look up the reviews Halal 786 - even just the plain Biryani rice is delicious beyond so many other things on the menu, have it weekly\",  \n",
        "    \"# Upvote/Downvote reminder Like this image or appreciate it being posted? Upvote it and show it some love! Don't like it? Just downvote and move on. *Upvoting or downvoting images it the best way to control what you see on your feed and what gets to the top of the subreddit* *I am a bot, and this action was performed automatically. Please [contact the moderators of this subreddit](/message/compose/?to=/r/london) if you have any questions or concerns.*\",\n",
        "    \"Les jardins du chateau de versailles. C'est pas une nature sauvage, mais vu la dimension des jardins, tu peux te retrouver dans des endroits o— aucun touriste n'osera s'aventurer. 15 minutes de train + 10 minutes de marche depuis la gare montparnasse. Id‚alement, avec un v‚lo...\"]\n",
        "\n",
        "Y_test = [\"Montreal\", \"London\", \"Paris\"]\n",
        "\n",
        "\n",
        "y_pred = model.predict(X_test)\n",
        "print(y_pred)\n",
        "\n",
        "print(\"Accuracy:\",accuracy_score(Y_test, y_pred))\n",
        "\n",
        "\n",
        "        "
      ]
    },
    {
      "cell_type": "markdown",
      "metadata": {},
      "source": [
        "K fold for SVM: "
      ]
    },
    {
      "cell_type": "code",
      "execution_count": 7,
      "metadata": {},
      "outputs": [],
      "source": [
        "def k_fold_validation(x_train_data, y_train_data, K = 10, max_features = 3000, degree = 3, kernel = 'linear', sublinear_tf = False, tol = 1e-3):\n",
        "  assert type(x_train_data) == np.ndarray and type(y_train_data) == np.ndarray\n",
        "\n",
        "  len_of_data  = len(x_train_data) - len(x_train_data) % K\n",
        "  data_x       = x_train_data[:len_of_data]\n",
        "  data_y       = y_train_data[:len_of_data]\n",
        "  size_of_fold = len(x_train_data[:len_of_data]) // K\n",
        "  validation_error = 0\n",
        "  labels = [\"Paris\", \"London\", \"Melbourne\", \"Montreal\"]\n",
        "\n",
        "\n",
        "  error    = []\n",
        "  pred     = []\n",
        "  timings  = []\n",
        "  cm = np.zeros((len(labels), len(labels)))\n",
        "  cm_s = []\n",
        "  # no_preds = []\n",
        "\n",
        "  # naive_bayes = NB()\n",
        "\n",
        "  for i in range(K):\n",
        "\n",
        "    support_vector = SVM(degree=degree, kernel=kernel, max_features=max_features, sublinear_tf=sublinear_tf, tol=tol)\n",
        "\n",
        "    if i != K-1:\n",
        "      validation_fold_x = data_x[i*size_of_fold:(i+1)*size_of_fold]\n",
        "      validation_fold_y = data_y[i*size_of_fold:(i+1)*size_of_fold]\n",
        "\n",
        "      training_folds_x  = np.concatenate((data_x[:i*size_of_fold], data_x[(i+1)*size_of_fold:]))\n",
        "      training_folds_y  = np.concatenate((data_y[:i*size_of_fold], data_y[(i+1)*size_of_fold:]))\n",
        "\n",
        "    else:\n",
        "      validation_fold_x = data_x[i*size_of_fold:]\n",
        "      validation_fold_y = data_y[i*size_of_fold:]\n",
        "\n",
        "      training_folds_x  = data_x[:i*size_of_fold]\n",
        "      training_folds_y  = data_y[:i*size_of_fold]\n",
        "\n",
        "    start_time = time.time()\n",
        "    support_vector.train(training_folds_x, training_folds_y)\n",
        "    end_time = time.time()\n",
        "\n",
        "    timings.append(end_time - start_time)\n",
        "\n",
        "    pred_valid = support_vector.predict(validation_fold_x)\n",
        "    confusion = confusion_matrix(validation_fold_y, pred_valid)\n",
        "    cm = np.add(cm, confusion)\n",
        "    # no_pred = naive_bayes.no_pred\n",
        "    # pred_train = naive_bayes.predict(training_folds_x)\n",
        "\n",
        "    fold_error = {}\n",
        "    fold_error['validation'] = 1 - accuracy_score(pred_valid, validation_fold_y)\n",
        "    validation_error        += 1 - accuracy_score(pred_valid, validation_fold_y)\n",
        "    # fold_error['train']      = 1 - accuracy_score(pred_train, training_folds_y)\n",
        "\n",
        "    model_pred = {}\n",
        "    model_pred['validation'] = (pred_valid, validation_fold_y)\n",
        "    # model_pred['train']      = (pred_train, training_folds_y )\n",
        "\n",
        "    error.append(fold_error)\n",
        "    pred.append(model_pred)\n",
        "    cm_s.append(confusion)\n",
        "    # no_preds.append(no_pred)\n",
        "\n",
        "  info = {'error': error, 'pred': pred, 'time': timings, 'confusion_matrices':cm_s, 'average confusion matrix': cm/K}\n",
        "\n",
        "  return validation_error/K, info"
      ]
    },
    {
      "cell_type": "code",
      "execution_count": 41,
      "metadata": {},
      "outputs": [
        {
          "name": "stdout",
          "output_type": "stream",
          "text": [
            "['Melbourne' 'Paris' 'Paris' 'Montreal' 'Melbourne' 'Melbourne' 'London'\n",
            " 'London' 'Melbourne' 'Melbourne' 'London' 'Melbourne' 'Montreal'\n",
            " 'Melbourne' 'Paris' 'Montreal' 'Melbourne' 'Melbourne' 'London'\n",
            " 'Montreal' 'Montreal' 'Montreal' 'Montreal' 'London' 'Melbourne'\n",
            " 'Montreal' 'London' 'Montreal' 'Melbourne' 'Montreal' 'Melbourne'\n",
            " 'Montreal' 'Melbourne' 'London' 'Melbourne' 'Paris' 'Melbourne' 'Paris'\n",
            " 'Paris' 'Melbourne' 'Paris' 'Paris' 'Melbourne' 'Melbourne' 'Melbourne'\n",
            " 'Montreal' 'Melbourne' 'London' 'Melbourne' 'Melbourne' 'London'\n",
            " 'Melbourne' 'Melbourne' 'Melbourne' 'Melbourne' 'Paris' 'London' 'London'\n",
            " 'Melbourne' 'Melbourne' 'Melbourne' 'London' 'Paris' 'Montreal'\n",
            " 'Melbourne' 'Montreal' 'Montreal' 'London' 'London' 'Melbourne'\n",
            " 'Melbourne' 'Montreal' 'Paris' 'Melbourne' 'Montreal' 'Melbourne'\n",
            " 'London' 'Melbourne' 'Melbourne' 'Paris' 'Melbourne' 'Paris' 'Melbourne'\n",
            " 'Montreal' 'Paris' 'Melbourne' 'Melbourne' 'Melbourne' 'Montreal' 'Paris'\n",
            " 'Melbourne' 'London' 'Montreal' 'Paris' 'Montreal' 'Paris' 'Montreal'\n",
            " 'Montreal' 'Melbourne' 'London' 'Montreal' 'Paris' 'Melbourne' 'London'\n",
            " 'Montreal' 'Melbourne' 'Melbourne' 'Melbourne' 'Montreal' 'Paris'\n",
            " 'Melbourne' 'Montreal' 'Paris' 'Melbourne' 'Montreal' 'Melbourne'\n",
            " 'Melbourne' 'London' 'Melbourne' 'London' 'Melbourne' 'Melbourne' 'Paris'\n",
            " 'London' 'Montreal' 'Montreal' 'Melbourne' 'Paris' 'Montreal' 'Melbourne'\n",
            " 'Paris' 'Melbourne' 'Paris' 'Melbourne' 'London' 'Montreal' 'Melbourne'\n",
            " 'Paris' 'London']\n",
            "Accuracy: 0.6834532374100719\n"
          ]
        }
      ],
      "source": [
        "# No preprocessing\n",
        "\n",
        "test_split = 0.1\n",
        "\n",
        "(training_data_split, testing_data_split, training_labels_split, testing_labels_split) = train_test_split(training_data, training_labels,  test_size = int(len(training_data)*test_split), random_state=seed)\n",
        "\n",
        "model = SVM()\n",
        "model.train(training_data_split, training_labels_split)\n",
        "pred = model.predict(testing_data_split)\n",
        "print(pred)\n",
        "print(\"Accuracy:\",accuracy_score(testing_labels_split, pred))\n",
        "\n",
        "\n",
        "# mean_error, info = k_fold_validation(training_data_split, training_labels_split)\n",
        "# print('Mean Error: {}'.format(mean_error))"
      ]
    },
    {
      "cell_type": "markdown",
      "metadata": {},
      "source": [
        "SVM Experiments"
      ]
    },
    {
      "cell_type": "code",
      "execution_count": 9,
      "metadata": {},
      "outputs": [
        {
          "name": "stderr",
          "output_type": "stream",
          "text": [
            "[nltk_data] Downloading package words to\n",
            "[nltk_data]     C:\\Users\\samue\\AppData\\Roaming\\nltk_data...\n",
            "[nltk_data]   Package words is already up-to-date!\n"
          ]
        }
      ],
      "source": [
        "df = pd.read_csv(path + 'dictionnaire.txt', encoding= \"ISO-8859-15\")\n",
        "mots = df.iloc[:,0].to_list()\n",
        "nltk.download('words')\n",
        "english_words = nltk.corpus.words.words()\n",
        "\n",
        "english_words.extend(mots)\n",
        "\n",
        "test_split = 0.1\n",
        "\n",
        "spacy_stopwords_list = list(fr_stop) + list(en_stop)\n",
        "nltk_stopwords_list = stopwords.words('english') + stopwords.words('french')\n",
        "other_stop_words = ['http', 'https', 'www']\n",
        "stop_words = list(set().union(spacy_stopwords_list, nltk_stopwords_list, other_stop_words))\n",
        "\n",
        "# df = pd.DataFrame(english_words)\n",
        "# df.to_csv('dictionnary.csv')\n",
        "\n"
      ]
    },
    {
      "cell_type": "code",
      "execution_count": 79,
      "metadata": {},
      "outputs": [],
      "source": [
        "# No preprocessing using countVectorizer \n",
        "test_split = 0.2\n",
        "processed_training_data = preprocess(sentences=training_data,stop_words=stop_words, is_lemmatize=True)\n",
        "(training_data_split, testing_data_split, training_labels_split, testing_labels_split) = train_test_split(processed_training_data, training_labels, test_size = int(len(training_data)*test_split), random_state=seed)\n"
      ]
    },
    {
      "cell_type": "code",
      "execution_count": 80,
      "metadata": {},
      "outputs": [],
      "source": [
        "test_df = pd.read_csv(path + 'test.csv', encoding = \"ISO-8859-1\")\n",
        "test_data = test_df['body'].to_numpy()\n",
        "processed_test_data = preprocess(sentences=test_data,stop_words=stop_words, is_lemmatize=True)\n",
        "\n",
        "# model = SVM()\n"
      ]
    },
    {
      "cell_type": "code",
      "execution_count": 81,
      "metadata": {},
      "outputs": [
        {
          "name": "stdout",
          "output_type": "stream",
          "text": [
            "['London' 'Montreal' 'Melbourne' 'London' 'London' 'London' 'London'\n",
            " 'Paris' 'London' 'Montreal' 'London' 'Montreal' 'Montreal' 'Paris'\n",
            " 'Melbourne' 'Montreal' 'Montreal' 'Paris' 'Montreal' 'Montreal'\n",
            " 'Montreal' 'Montreal' 'Paris' 'Melbourne' 'Melbourne' 'Melbourne'\n",
            " 'Melbourne' 'London' 'Montreal' 'Paris' 'Montreal' 'Paris' 'Melbourne'\n",
            " 'London' 'Melbourne' 'Melbourne' 'Melbourne' 'Montreal' 'Montreal'\n",
            " 'Melbourne' 'Melbourne' 'Melbourne' 'Melbourne' 'London' 'Montreal'\n",
            " 'Montreal' 'London' 'Paris' 'Paris' 'Melbourne' 'Melbourne' 'Melbourne'\n",
            " 'Montreal' 'Melbourne' 'Melbourne' 'Melbourne' 'Paris' 'Melbourne'\n",
            " 'London' 'Montreal' 'Montreal' 'Melbourne' 'London' 'Paris' 'Melbourne'\n",
            " 'Melbourne' 'London' 'Melbourne' 'London' 'Melbourne' 'Melbourne' 'Paris'\n",
            " 'Melbourne' 'Melbourne' 'London' 'Paris' 'Paris' 'Paris' 'Paris' 'Paris'\n",
            " 'Paris' 'London' 'London' 'Paris' 'Montreal' 'Paris' 'Montreal' 'Paris'\n",
            " 'Montreal' 'Melbourne' 'Montreal' 'Paris' 'Melbourne' 'Melbourne'\n",
            " 'Montreal' 'London' 'Melbourne' 'London' 'Melbourne' 'Paris' 'Paris'\n",
            " 'Melbourne' 'Montreal' 'Melbourne' 'Melbourne' 'London' 'Melbourne'\n",
            " 'Melbourne' 'London' 'Montreal' 'Montreal' 'Paris' 'Melbourne' 'Paris'\n",
            " 'Melbourne' 'Melbourne' 'Melbourne' 'Melbourne' 'Montreal' 'Montreal'\n",
            " 'Paris' 'Montreal' 'Melbourne' 'Melbourne' 'Melbourne' 'Paris' 'Montreal'\n",
            " 'Melbourne' 'Melbourne' 'Montreal' 'Melbourne' 'Montreal' 'Montreal'\n",
            " 'London' 'Paris' 'London' 'London' 'Paris' 'Paris' 'Montreal' 'Paris'\n",
            " 'London' 'London' 'London' 'London' 'London' 'Paris' 'London' 'Paris'\n",
            " 'Melbourne' 'Melbourne' 'Montreal' 'Melbourne' 'Montreal' 'Melbourne'\n",
            " 'Montreal' 'Melbourne' 'Montreal' 'Montreal' 'Paris' 'Melbourne' 'Paris'\n",
            " 'Montreal' 'London' 'Paris' 'Montreal' 'Melbourne' 'London' 'Melbourne'\n",
            " 'Melbourne' 'Melbourne' 'Paris' 'London' 'Montreal' 'Paris' 'Paris'\n",
            " 'Melbourne' 'Melbourne' 'London' 'London' 'Melbourne' 'London'\n",
            " 'Melbourne' 'Melbourne' 'Melbourne' 'Paris' 'Melbourne' 'Melbourne'\n",
            " 'London' 'Paris' 'Paris' 'Melbourne' 'London' 'London' 'Melbourne'\n",
            " 'London' 'Paris' 'Melbourne' 'London' 'Melbourne' 'Montreal' 'London'\n",
            " 'Montreal' 'Paris' 'Montreal' 'Paris' 'London' 'Montreal' 'London'\n",
            " 'Melbourne' 'London' 'Paris' 'Melbourne' 'Melbourne' 'Paris' 'London'\n",
            " 'London' 'Melbourne' 'London' 'Melbourne' 'Paris' 'Montreal' 'Melbourne'\n",
            " 'London' 'Melbourne' 'Paris' 'Paris' 'Melbourne' 'London' 'Melbourne'\n",
            " 'Paris' 'London' 'Melbourne' 'London' 'Montreal' 'London' 'Montreal'\n",
            " 'London' 'London' 'Paris' 'Melbourne' 'Melbourne' 'Montreal' 'Melbourne'\n",
            " 'Paris' 'London' 'London' 'Melbourne' 'London' 'Melbourne' 'London'\n",
            " 'Paris' 'Melbourne' 'Melbourne' 'Montreal' 'Paris' 'London' 'Melbourne'\n",
            " 'Montreal' 'London' 'Paris' 'Montreal' 'Melbourne' 'Montreal' 'London'\n",
            " 'Melbourne' 'London' 'Melbourne' 'London' 'Montreal' 'Melbourne' 'London'\n",
            " 'Montreal' 'London' 'Paris' 'Montreal' 'Melbourne' 'London' 'Melbourne'\n",
            " 'Melbourne' 'Melbourne' 'Paris' 'Melbourne' 'Melbourne' 'Melbourne'\n",
            " 'Montreal' 'Melbourne' 'Montreal' 'London' 'London' 'Montreal'\n",
            " 'Melbourne' 'Paris' 'Melbourne' 'Montreal' 'Melbourne' 'Paris'\n",
            " 'Melbourne' 'Montreal' 'Montreal' 'London' 'Paris' 'Montreal' 'Paris'\n",
            " 'Paris' 'London' 'Melbourne' 'London' 'Montreal' 'Montreal' 'Melbourne'\n",
            " 'Montreal' 'Melbourne' 'Montreal' 'Montreal' 'Melbourne' 'London' 'Paris'\n",
            " 'Melbourne' 'London' 'Melbourne' 'London' 'London' 'Montreal' 'Paris'\n",
            " 'Paris' 'London' 'London' 'London' 'Melbourne' 'Montreal' 'London'\n",
            " 'London' 'Melbourne' 'Montreal' 'Melbourne' 'Melbourne' 'Melbourne'\n",
            " 'Melbourne' 'London' 'Melbourne' 'Montreal' 'Montreal' 'London'\n",
            " 'Melbourne' 'Montreal' 'Melbourne' 'Paris' 'London' 'Melbourne'\n",
            " 'Montreal' 'Melbourne' 'London' 'Melbourne' 'Melbourne' 'London' 'London'\n",
            " 'Montreal' 'Montreal' 'Montreal' 'London' 'Melbourne' 'Montreal'\n",
            " 'Melbourne' 'London' 'Melbourne' 'Melbourne' 'Montreal' 'Paris'\n",
            " 'Melbourne' 'Montreal' 'London' 'London' 'London' 'Melbourne' 'Melbourne'\n",
            " 'Melbourne' 'Melbourne' 'Melbourne' 'Melbourne' 'Melbourne' 'London'\n",
            " 'London' 'Melbourne' 'Paris' 'Montreal' 'Montreal' 'Melbourne' 'Montreal'\n",
            " 'Montreal' 'Melbourne' 'Montreal' 'Melbourne' 'Melbourne' 'Paris'\n",
            " 'Melbourne' 'Montreal' 'Montreal' 'Montreal' 'London' 'Melbourne' 'Paris'\n",
            " 'Montreal' 'London' 'Melbourne' 'London' 'London' 'Melbourne' 'Melbourne'\n",
            " 'Paris' 'Melbourne' 'Montreal' 'Melbourne' 'Melbourne' 'Montreal'\n",
            " 'Melbourne' 'Montreal' 'London' 'Melbourne' 'London' 'Paris' 'Melbourne'\n",
            " 'Montreal' 'Melbourne' 'Melbourne' 'Melbourne' 'Montreal' 'Montreal'\n",
            " 'Montreal' 'London' 'Montreal' 'Melbourne' 'Montreal' 'Montreal'\n",
            " 'Montreal' 'Melbourne' 'Montreal' 'Melbourne' 'Melbourne' 'Paris'\n",
            " 'London' 'Melbourne' 'Montreal' 'Paris' 'Montreal' 'London' 'Melbourne'\n",
            " 'London' 'Melbourne' 'Paris' 'Montreal' 'Melbourne' 'Paris' 'London'\n",
            " 'Melbourne' 'Paris' 'London' 'Montreal' 'Melbourne' 'London' 'London'\n",
            " 'Montreal' 'Paris' 'London' 'London' 'Montreal' 'Melbourne' 'Paris'\n",
            " 'Melbourne' 'Montreal' 'Melbourne' 'Melbourne' 'Paris' 'Melbourne'\n",
            " 'Paris' 'London' 'Paris' 'Montreal' 'Melbourne' 'Montreal' 'Paris'\n",
            " 'Paris' 'London' 'Melbourne' 'Paris' 'Montreal' 'London' 'Melbourne'\n",
            " 'Montreal' 'Melbourne' 'Montreal' 'Melbourne' 'London' 'Paris'\n",
            " 'Melbourne' 'Montreal' 'Montreal' 'London' 'Paris' 'Melbourne' 'Paris'\n",
            " 'Melbourne' 'Melbourne' 'Melbourne' 'Paris' 'London' 'Melbourne' 'London'\n",
            " 'Montreal' 'London' 'Montreal' 'Paris' 'Melbourne' 'Montreal' 'Montreal'\n",
            " 'Paris' 'London' 'Melbourne' 'Paris' 'Paris' 'Paris' 'Melbourne'\n",
            " 'Melbourne' 'London' 'Melbourne' 'Paris' 'Melbourne' 'London' 'Montreal'\n",
            " 'London' 'London' 'Paris' 'London' 'Paris' 'Melbourne' 'Melbourne'\n",
            " 'Montreal' 'Paris' 'Melbourne' 'London' 'London' 'Melbourne' 'Paris'\n",
            " 'Melbourne' 'London' 'Montreal' 'Paris' 'London' 'London' 'Paris'\n",
            " 'London' 'Montreal' 'London' 'Montreal' 'Melbourne' 'Montreal'\n",
            " 'Melbourne' 'Melbourne' 'Montreal' 'Paris' 'Melbourne' 'Montreal'\n",
            " 'London' 'London' 'Paris' 'London' 'Melbourne' 'London' 'Montreal'\n",
            " 'Melbourne' 'Montreal' 'Melbourne' 'Paris' 'Melbourne' 'Montreal'\n",
            " 'London' 'Paris' 'Montreal' 'Melbourne' 'Melbourne' 'Melbourne' 'London'\n",
            " 'London' 'Paris' 'Montreal' 'Melbourne' 'Paris' 'Melbourne' 'London'\n",
            " 'London' 'London' 'Montreal' 'Montreal' 'Melbourne' 'London' 'Paris'\n",
            " 'Melbourne' 'Montreal' 'Melbourne' 'Melbourne']\n"
          ]
        },
        {
          "ename": "ValueError",
          "evalue": "Found input variables with inconsistent numbers of samples: [279, 600]",
          "output_type": "error",
          "traceback": [
            "\u001b[1;31m---------------------------------------------------------------------------\u001b[0m",
            "\u001b[1;31mValueError\u001b[0m                                Traceback (most recent call last)",
            "Cell \u001b[1;32mIn[81], line 5\u001b[0m\n\u001b[0;32m      3\u001b[0m pred \u001b[38;5;241m=\u001b[39m model\u001b[38;5;241m.\u001b[39mpredict(processed_test_data)\n\u001b[0;32m      4\u001b[0m \u001b[38;5;28mprint\u001b[39m(pred)\n\u001b[1;32m----> 5\u001b[0m \u001b[38;5;28mprint\u001b[39m(\u001b[38;5;124m\"\u001b[39m\u001b[38;5;124mAccuracy:\u001b[39m\u001b[38;5;124m\"\u001b[39m,\u001b[43maccuracy_score\u001b[49m\u001b[43m(\u001b[49m\u001b[43mtesting_labels_split\u001b[49m\u001b[43m,\u001b[49m\u001b[43m \u001b[49m\u001b[43mpred\u001b[49m\u001b[43m)\u001b[49m)\n",
            "File \u001b[1;32mc:\\Users\\samue\\AppData\\Local\\Programs\\Python\\Python310\\lib\\site-packages\\sklearn\\utils\\_param_validation.py:213\u001b[0m, in \u001b[0;36mvalidate_params.<locals>.decorator.<locals>.wrapper\u001b[1;34m(*args, **kwargs)\u001b[0m\n\u001b[0;32m    207\u001b[0m \u001b[38;5;28;01mtry\u001b[39;00m:\n\u001b[0;32m    208\u001b[0m     \u001b[38;5;28;01mwith\u001b[39;00m config_context(\n\u001b[0;32m    209\u001b[0m         skip_parameter_validation\u001b[38;5;241m=\u001b[39m(\n\u001b[0;32m    210\u001b[0m             prefer_skip_nested_validation \u001b[38;5;129;01mor\u001b[39;00m global_skip_validation\n\u001b[0;32m    211\u001b[0m         )\n\u001b[0;32m    212\u001b[0m     ):\n\u001b[1;32m--> 213\u001b[0m         \u001b[38;5;28;01mreturn\u001b[39;00m func(\u001b[38;5;241m*\u001b[39margs, \u001b[38;5;241m*\u001b[39m\u001b[38;5;241m*\u001b[39mkwargs)\n\u001b[0;32m    214\u001b[0m \u001b[38;5;28;01mexcept\u001b[39;00m InvalidParameterError \u001b[38;5;28;01mas\u001b[39;00m e:\n\u001b[0;32m    215\u001b[0m     \u001b[38;5;66;03m# When the function is just a wrapper around an estimator, we allow\u001b[39;00m\n\u001b[0;32m    216\u001b[0m     \u001b[38;5;66;03m# the function to delegate validation to the estimator, but we replace\u001b[39;00m\n\u001b[0;32m    217\u001b[0m     \u001b[38;5;66;03m# the name of the estimator by the name of the function in the error\u001b[39;00m\n\u001b[0;32m    218\u001b[0m     \u001b[38;5;66;03m# message to avoid confusion.\u001b[39;00m\n\u001b[0;32m    219\u001b[0m     msg \u001b[38;5;241m=\u001b[39m re\u001b[38;5;241m.\u001b[39msub(\n\u001b[0;32m    220\u001b[0m         \u001b[38;5;124mr\u001b[39m\u001b[38;5;124m\"\u001b[39m\u001b[38;5;124mparameter of \u001b[39m\u001b[38;5;124m\\\u001b[39m\u001b[38;5;124mw+ must be\u001b[39m\u001b[38;5;124m\"\u001b[39m,\n\u001b[0;32m    221\u001b[0m         \u001b[38;5;124mf\u001b[39m\u001b[38;5;124m\"\u001b[39m\u001b[38;5;124mparameter of \u001b[39m\u001b[38;5;132;01m{\u001b[39;00mfunc\u001b[38;5;241m.\u001b[39m\u001b[38;5;18m__qualname__\u001b[39m\u001b[38;5;132;01m}\u001b[39;00m\u001b[38;5;124m must be\u001b[39m\u001b[38;5;124m\"\u001b[39m,\n\u001b[0;32m    222\u001b[0m         \u001b[38;5;28mstr\u001b[39m(e),\n\u001b[0;32m    223\u001b[0m     )\n",
            "File \u001b[1;32mc:\\Users\\samue\\AppData\\Local\\Programs\\Python\\Python310\\lib\\site-packages\\sklearn\\metrics\\_classification.py:213\u001b[0m, in \u001b[0;36maccuracy_score\u001b[1;34m(y_true, y_pred, normalize, sample_weight)\u001b[0m\n\u001b[0;32m    147\u001b[0m \u001b[38;5;250m\u001b[39m\u001b[38;5;124;03m\"\"\"Accuracy classification score.\u001b[39;00m\n\u001b[0;32m    148\u001b[0m \n\u001b[0;32m    149\u001b[0m \u001b[38;5;124;03mIn multilabel classification, this function computes subset accuracy:\u001b[39;00m\n\u001b[1;32m   (...)\u001b[0m\n\u001b[0;32m    209\u001b[0m \u001b[38;5;124;03m0.5\u001b[39;00m\n\u001b[0;32m    210\u001b[0m \u001b[38;5;124;03m\"\"\"\u001b[39;00m\n\u001b[0;32m    212\u001b[0m \u001b[38;5;66;03m# Compute accuracy for each possible representation\u001b[39;00m\n\u001b[1;32m--> 213\u001b[0m y_type, y_true, y_pred \u001b[38;5;241m=\u001b[39m \u001b[43m_check_targets\u001b[49m\u001b[43m(\u001b[49m\u001b[43my_true\u001b[49m\u001b[43m,\u001b[49m\u001b[43m \u001b[49m\u001b[43my_pred\u001b[49m\u001b[43m)\u001b[49m\n\u001b[0;32m    214\u001b[0m check_consistent_length(y_true, y_pred, sample_weight)\n\u001b[0;32m    215\u001b[0m \u001b[38;5;28;01mif\u001b[39;00m y_type\u001b[38;5;241m.\u001b[39mstartswith(\u001b[38;5;124m\"\u001b[39m\u001b[38;5;124mmultilabel\u001b[39m\u001b[38;5;124m\"\u001b[39m):\n",
            "File \u001b[1;32mc:\\Users\\samue\\AppData\\Local\\Programs\\Python\\Python310\\lib\\site-packages\\sklearn\\metrics\\_classification.py:85\u001b[0m, in \u001b[0;36m_check_targets\u001b[1;34m(y_true, y_pred)\u001b[0m\n\u001b[0;32m     58\u001b[0m \u001b[38;5;28;01mdef\u001b[39;00m \u001b[38;5;21m_check_targets\u001b[39m(y_true, y_pred):\n\u001b[0;32m     59\u001b[0m \u001b[38;5;250m    \u001b[39m\u001b[38;5;124;03m\"\"\"Check that y_true and y_pred belong to the same classification task.\u001b[39;00m\n\u001b[0;32m     60\u001b[0m \n\u001b[0;32m     61\u001b[0m \u001b[38;5;124;03m    This converts multiclass or binary types to a common shape, and raises a\u001b[39;00m\n\u001b[1;32m   (...)\u001b[0m\n\u001b[0;32m     83\u001b[0m \u001b[38;5;124;03m    y_pred : array or indicator matrix\u001b[39;00m\n\u001b[0;32m     84\u001b[0m \u001b[38;5;124;03m    \"\"\"\u001b[39;00m\n\u001b[1;32m---> 85\u001b[0m     \u001b[43mcheck_consistent_length\u001b[49m\u001b[43m(\u001b[49m\u001b[43my_true\u001b[49m\u001b[43m,\u001b[49m\u001b[43m \u001b[49m\u001b[43my_pred\u001b[49m\u001b[43m)\u001b[49m\n\u001b[0;32m     86\u001b[0m     type_true \u001b[38;5;241m=\u001b[39m type_of_target(y_true, input_name\u001b[38;5;241m=\u001b[39m\u001b[38;5;124m\"\u001b[39m\u001b[38;5;124my_true\u001b[39m\u001b[38;5;124m\"\u001b[39m)\n\u001b[0;32m     87\u001b[0m     type_pred \u001b[38;5;241m=\u001b[39m type_of_target(y_pred, input_name\u001b[38;5;241m=\u001b[39m\u001b[38;5;124m\"\u001b[39m\u001b[38;5;124my_pred\u001b[39m\u001b[38;5;124m\"\u001b[39m)\n",
            "File \u001b[1;32mc:\\Users\\samue\\AppData\\Local\\Programs\\Python\\Python310\\lib\\site-packages\\sklearn\\utils\\validation.py:457\u001b[0m, in \u001b[0;36mcheck_consistent_length\u001b[1;34m(*arrays)\u001b[0m\n\u001b[0;32m    455\u001b[0m uniques \u001b[38;5;241m=\u001b[39m np\u001b[38;5;241m.\u001b[39munique(lengths)\n\u001b[0;32m    456\u001b[0m \u001b[38;5;28;01mif\u001b[39;00m \u001b[38;5;28mlen\u001b[39m(uniques) \u001b[38;5;241m>\u001b[39m \u001b[38;5;241m1\u001b[39m:\n\u001b[1;32m--> 457\u001b[0m     \u001b[38;5;28;01mraise\u001b[39;00m \u001b[38;5;167;01mValueError\u001b[39;00m(\n\u001b[0;32m    458\u001b[0m         \u001b[38;5;124m\"\u001b[39m\u001b[38;5;124mFound input variables with inconsistent numbers of samples: \u001b[39m\u001b[38;5;132;01m%r\u001b[39;00m\u001b[38;5;124m\"\u001b[39m\n\u001b[0;32m    459\u001b[0m         \u001b[38;5;241m%\u001b[39m [\u001b[38;5;28mint\u001b[39m(l) \u001b[38;5;28;01mfor\u001b[39;00m l \u001b[38;5;129;01min\u001b[39;00m lengths]\n\u001b[0;32m    460\u001b[0m     )\n",
            "\u001b[1;31mValueError\u001b[0m: Found input variables with inconsistent numbers of samples: [279, 600]"
          ]
        }
      ],
      "source": [
        "model = SVM()\n",
        "model.train(training_data_split, training_labels_split)\n",
        "pred = model.predict(processed_test_data)\n",
        "print(pred)\n",
        "print(\"Accuracy:\",accuracy_score(testing_labels_split, pred))"
      ]
    },
    {
      "cell_type": "code",
      "execution_count": 285,
      "metadata": {},
      "outputs": [
        {
          "name": "stdout",
          "output_type": "stream",
          "text": [
            "['Melbourne' 'Paris' 'Paris' 'Montreal' 'Melbourne' 'Melbourne'\n",
            " 'Melbourne' 'London' 'Melbourne' 'Melbourne' 'Melbourne' 'London'\n",
            " 'Montreal' 'Melbourne' 'Paris' 'Montreal' 'London' 'Melbourne' 'London'\n",
            " 'Montreal' 'Montreal' 'Paris' 'Melbourne' 'London' 'Melbourne' 'Montreal'\n",
            " 'London' 'Melbourne' 'Melbourne' 'Montreal' 'Paris' 'Montreal'\n",
            " 'Melbourne' 'London' 'Montreal' 'Paris' 'Melbourne' 'Paris' 'Paris'\n",
            " 'Melbourne' 'Montreal' 'Paris' 'Melbourne' 'Melbourne' 'Montreal'\n",
            " 'Montreal' 'Melbourne' 'London' 'Montreal' 'Montreal' 'Montreal'\n",
            " 'Melbourne' 'Montreal' 'Melbourne' 'Melbourne' 'Paris' 'London' 'London'\n",
            " 'Melbourne' 'Melbourne' 'Melbourne' 'Montreal' 'London' 'Montreal'\n",
            " 'Melbourne' 'Montreal' 'Montreal' 'Montreal' 'London' 'Melbourne'\n",
            " 'Melbourne' 'Paris' 'Paris' 'Melbourne' 'Montreal' 'Montreal' 'London'\n",
            " 'Melbourne' 'Melbourne' 'Paris' 'Montreal' 'Paris' 'Melbourne' 'Montreal'\n",
            " 'Paris' 'London' 'Melbourne' 'Melbourne' 'London' 'Paris' 'Melbourne'\n",
            " 'London' 'Montreal' 'Paris' 'Montreal' 'Paris' 'Melbourne' 'Montreal'\n",
            " 'Paris' 'London' 'Paris' 'Paris' 'Melbourne' 'Montreal' 'Montreal'\n",
            " 'Montreal' 'Melbourne' 'London' 'Montreal' 'Paris' 'Montreal' 'Montreal'\n",
            " 'Melbourne' 'Melbourne' 'Montreal' 'Melbourne' 'Melbourne' 'London'\n",
            " 'Melbourne' 'London' 'Melbourne' 'London' 'Montreal' 'London' 'Montreal'\n",
            " 'Montreal' 'Melbourne' 'Paris' 'Montreal' 'London' 'Paris' 'Paris'\n",
            " 'Paris' 'Melbourne' 'London' 'Montreal' 'Melbourne' 'Paris' 'Melbourne']\n",
            "Accuracy: 0.697841726618705\n"
          ]
        }
      ],
      "source": [
        "model = SVM(max_features=3000, degree=2, kernel='poly')\n",
        "model.train(training_data_split, training_labels_split)\n",
        "pred = model.predict(processed_test_data)\n",
        "print(pred)\n",
        "print(\"Accuracy:\",accuracy_score(testing_labels_split, pred))"
      ]
    },
    {
      "cell_type": "markdown",
      "metadata": {},
      "source": [
        "K fold experiment"
      ]
    },
    {
      "cell_type": "code",
      "execution_count": 82,
      "metadata": {},
      "outputs": [
        {
          "name": "stdout",
          "output_type": "stream",
          "text": [
            "best Hps: (10000, 'poly', 0.01, 1)\n"
          ]
        },
        {
          "data": {
            "image/png": "[encoded data removed]",
            "text/plain": [
              "<Figure size 640x480 with 2 Axes>"
            ]
          },
          "metadata": {},
          "output_type": "display_data"
        }
      ],
      "source": [
        "test_df = pd.read_csv(path + 'test.csv', encoding = \"ISO-8859-1\")\n",
        "test_data = test_df['body'].to_numpy()\n",
        "\n",
        "max_feature_list = [3000, 5000, 9000, 10000, 12000, 15000]\n",
        "kernel_type = ['linear', 'poly', 'sigmoid']\n",
        "degrees = [1, 2, 3]\n",
        "tol = [1e-2, 1e-3, 1e-4, 1e-5]\n",
        "\n",
        "labels = [\"Paris\", \"London\", \"Melbourne\", \"Montreal\"]\n",
        "\n",
        "hps = []\n",
        "for features in max_feature_list:\n",
        "    for kernel in kernel_type:\n",
        "        for tolerance in tol:\n",
        "            for degree in degrees:\n",
        "                hps.append((features, kernel, tolerance, degree))\n",
        "\n",
        "errors = []\n",
        "infos = []\n",
        "for features, kernel, tolerance, degree in hps:\n",
        "    mean_error, info = k_fold_validation(training_data_split, training_labels_split, max_features = features, degree = degree, kernel = kernel, tol=tolerance)\n",
        "    errors.append((mean_error, features, kernel, tolerance, degree))\n",
        "    infos.append(info)\n",
        "\n",
        "min = 1\n",
        "index = -1\n",
        "\n",
        "for i, error in enumerate(errors):\n",
        "    if error[0] is not None and error[0] < min:\n",
        "        index = i\n",
        "        min = error[0]\n",
        "\n",
        "if index != -1: \n",
        "    features, kernel, tolerance, degree = hps[index]\n",
        "\n",
        "    model = SVM(max_features=features, kernel=kernel, degree=degree, tol=tolerance)\n",
        "\n",
        "    model.train(processed_training_data, training_labels)\n",
        "\n",
        "    pred = model.predict(test_data)\n",
        "    prediction = model.predict(processed_test_data)\n",
        "    # print(errors[index][0])\n",
        "    print('best Hps: {}'.format(hps[index]))\n",
        "    pd.DataFrame({'Subreddit':pred}).reset_index().rename(columns={\"index\": \"Id\"}).to_csv(path + 'hp_optimization/' + 'results_SVM_p_0.2.csv', index=False)\n",
        "    pd.DataFrame({'Subreddit':prediction}).reset_index().rename(columns={\"index\": \"Id\"}).to_csv(path + 'hp_optimization/' + 'results_SVM_processed_p_0.2.csv', index=False)\n",
        "    disp = ConfusionMatrixDisplay(confusion_matrix=infos[index]['average confusion matrix'], display_labels=labels)\n",
        "    disp.plot()\n",
        "    plt.show()\n",
        "    # plt.savefig(path + 'hp_optimization/' + 'SVM_' + str(hps[index][0])+ '_' + hps[index][1] + '_' + str(hps[index][2]) + '_' + str(hps[index][3]) + 'confusion matrix.png')\n",
        "else: \n",
        "    print(\"No hyperparameters were viable\")\n",
        "\n",
        "\n",
        "df = pd.DataFrame(errors)\n",
        "df2 = pd.DataFrame(infos)\n",
        "\n",
        "df.to_csv(path + 'hp_optimization/' + 'Mean errors_p_0.2.csv')\n",
        "df2.to_csv(path + 'hp_optimization/' + 'infos_p_0.2.csv')"
      ]
    },
    {
      "cell_type": "code",
      "execution_count": 60,
      "metadata": {},
      "outputs": [],
      "source": [
        "from sklearn.metrics import classification_report"
      ]
    },
    {
      "cell_type": "code",
      "execution_count": 83,
      "metadata": {},
      "outputs": [
        {
          "name": "stdout",
          "output_type": "stream",
          "text": [
            "Accuracy: 0.6810035842293907\n"
          ]
        },
        {
          "data": {
            "image/png": "[encoded data removed]",
            "text/plain": [
              "<Figure size 640x480 with 2 Axes>"
            ]
          },
          "metadata": {},
          "output_type": "display_data"
        }
      ],
      "source": [
        "model2 = SVM(max_features=10000, degree=1, kernel='poly', tol=0.01, sublinear_tf=False, weights = None)\n",
        "model2.train(training_data_split, training_labels_split)\n",
        "pred = model2.predict(testing_data_split)\n",
        "print(\"Accuracy:\",accuracy_score(testing_labels_split, pred))\n",
        "cm = confusion_matrix(testing_labels_split, pred)\n",
        "df = pd.DataFrame.from_dict(classification_report(testing_labels_split, pred,output_dict=True))\n",
        "df.to_csv(\"Classification Metrics SVMp.csv\")\n",
        "disp = ConfusionMatrixDisplay(confusion_matrix=cm, display_labels=labels)\n",
        "disp.plot()\n",
        "plt.show()\n"
      ]
    },
    {
      "cell_type": "code",
      "execution_count": null,
      "metadata": {},
      "outputs": [],
      "source": [
        "num_weights = "
      ]
    },
    {
      "cell_type": "code",
      "execution_count": 70,
      "metadata": {},
      "outputs": [
        {
          "name": "stdout",
          "output_type": "stream",
          "text": [
            "Accuracy: 0.6559139784946236\n"
          ]
        },
        {
          "data": {
            "image/png": "[encoded data removed]",
            "text/plain": [
              "<Figure size 640x480 with 2 Axes>"
            ]
          },
          "metadata": {},
          "output_type": "display_data"
        }
      ],
      "source": [
        "from sklearn.linear_model import LogisticRegression\n",
        "# processed_training_data = preprocess(training_data, stop_words = stop_words)\n",
        "\n",
        "model = LogisticRegression()\n",
        "\n",
        "vectorizer = TfidfVectorizer(token_pattern = r\"(?u)\\b[a-z][a-z]+\\b\", max_df = 0.5, max_features = 4000, min_df= 1)\n",
        "\n",
        "model.fit(vectorizer.fit_transform(training_data_split), training_labels_split)\n",
        "\n",
        "pred = model.predict(vectorizer.transform(testing_data_split))\n",
        "\n",
        "print(\"Accuracy:\",accuracy_score(testing_labels_split, pred))\n",
        "\n",
        "cm = confusion_matrix(testing_labels_split, pred)\n",
        "df = pd.DataFrame.from_dict(classification_report(testing_labels_split, pred,output_dict=True))\n",
        "df.to_csv(\"Classification Metrics LR.csv\")\n",
        "disp = ConfusionMatrixDisplay(confusion_matrix=cm, display_labels=labels)\n",
        "disp.plot()\n",
        "plt.show()"
      ]
    },
    {
      "cell_type": "code",
      "execution_count": 76,
      "metadata": {},
      "outputs": [
        {
          "name": "stdout",
          "output_type": "stream",
          "text": [
            "Mean Error: 0.29821428571428565\n",
            "Accuracy: 0.6881720430107527\n"
          ]
        },
        {
          "data": {
            "image/png": "[encoded data removed]",
            "text/plain": [
              "<Figure size 640x480 with 2 Axes>"
            ]
          },
          "metadata": {},
          "output_type": "display_data"
        },
        {
          "name": "stdout",
          "output_type": "stream",
          "text": [
            "info: [[19.9  5.4  1.8  0.3]\n",
            " [ 3.3 22.9  1.5  0.5]\n",
            " [ 3.1  5.1 16.3  3.6]\n",
            " [ 1.9  3.1  3.8 19.5]]\n"
          ]
        }
      ],
      "source": [
        "# model = SVM(max_features=5000, kernel='linear', degree=1, sublinear_tf=True)\n",
        "labels = [\"Paris\", \"London\", \"Melbourne\", \"Montreal\"]\n",
        "mean_error, info = k_fold_validation(training_data_split, training_labels_split, max_features = 10000, degree = 1, kernel = 'linear', sublinear_tf = True, tol=1e-5)\n",
        "print('Mean Error: {}'.format(mean_error))\n",
        "disp = ConfusionMatrixDisplay(confusion_matrix=info['average confusion matrix'], display_labels=labels)\n",
        "model = SVM(max_features = 10000, degree = 1, kernel = 'linear', sublinear_tf = True, tol=1e-5)\n",
        "model.train(training_data_split, training_labels_split)\n",
        "pred = model.predict(testing_data_split)\n",
        "print(\"Accuracy:\",accuracy_score(testing_labels_split, pred))\n",
        "disp.plot()\n",
        "plt.show()\n",
        "print('info: {}'.format(info['average confusion matrix']))\n",
        "\n",
        "# model.train(processed_training_data, training_labels)\n",
        "# prediction = model.predict(processed_test_data)\n",
        "\n",
        "# pd.DataFrame({'Subreddit':prediction}).reset_index().rename(columns={\"index\": \"Id\"}).to_csv(path + 'hp_optimization/' + 'results_SVM_processed.csv', index=False)\n"
      ]
    },
    {
      "cell_type": "code",
      "execution_count": 143,
      "metadata": {},
      "outputs": [
        {
          "name": "stderr",
          "output_type": "stream",
          "text": [
            "[nltk_data] Downloading package words to\n",
            "[nltk_data]     C:\\Users\\Admin\\AppData\\Roaming\\nltk_data...\n",
            "[nltk_data]   Package words is already up-to-date!\n"
          ]
        }
      ],
      "source": [
        "df = pd.read_csv(path + 'dictionnaire.txt', encoding= \"ISO-8859-15\")\n",
        "mots = df.iloc[:,0].to_list()\n",
        "nltk.download('words')\n",
        "english_words = nltk.corpus.words.words()\n",
        "\n",
        "english_words.extend(mots)\n",
        "\n",
        "test_split = 0.2\n",
        "\n",
        "spacy_stopwords_list = list(fr_stop) + list(en_stop)\n",
        "nltk_stopwords_list = stopwords.words('english') + stopwords.words('french')\n",
        "other_stop_words = ['http', 'https', 'www']\n",
        "stop_words = list(set().union(spacy_stopwords_list, nltk_stopwords_list, other_stop_words))\n",
        "\n",
        "# df = pd.DataFrame(english_words)\n",
        "# df.to_csv('dictionnary.csv')\n",
        "\n"
      ]
    },
    {
      "cell_type": "code",
      "execution_count": 185,
      "metadata": {},
      "outputs": [
        {
          "name": "stdout",
          "output_type": "stream",
          "text": [
            "['London' 'London' 'London']\n",
            "Accuracy: 0.3333333333333333\n"
          ]
        }
      ],
      "source": [
        "# WithPreprocessing \n",
        "\n",
        "\n",
        "# mots = set(line.strip() for line in open(path + 'dictionnaire.txt', encoding= \"ISO-8859-15\"))\n",
        "model = SVM()\n",
        "\n",
        "X_train = [\n",
        "    \"On est bien d?accord que la question pos‚e ne contenait pas le mot SUV, mais bien les diff‚rents adjectifs, lourds,  encombrant, polluants. Sans ®ÿetÿ¯. Les voitures/camionettes (?), encombrantes ou  polluantes des pauvres (ou pas) seront bien tax‚es comme les 4x4?\",\n",
        "    \"You can thank the state governments soft approach on drugs and the injecting rooms for the proliferation of junkies all over the city. To save a few lives of junkies that add zero to society, they've destroyed the city for the rest of us. Let's not pretend that heroin users and ice users are mutually exclusive groups.\",\n",
        "    \"I?m not comparing them because I?m not clued up enough on either situation but I would love to understand how we are all so angry about what?s going on in Gaza but we all basically ignored the genocide in sudan? Is it because Sudan was a civil war and Gaza is attacked by a different state?\",\n",
        "    \"My group is mid to late 30s. We match our agendas and commit. We're pretty open about how we feel (tiredness, money, other commitments) but mainly we make an effort to show up because we enjoy hanging around each other. As an introvert i found friends who don't drain my energy so that also helps.\",\n",
        "    \"bghkndofu ?????????????????????????????????????????????????????????????????????????????????\",\n",
        "    \"bghkndofu ?????????????????????????????????????????????????????????????????????????????????\",\n",
        "    \"I was ready to be disappointed tbh (last years were misses for me) but I?m pleasantly surprised on this one! Arlo Parks, L‚onie Gray, Ren‚e Rapp (loved her on Broadway), Labrinth, T-Pain, Hozier, Jungle (great music fest vibes), Still Woozy, Raye?this is gonna be fun! Unsure if it?s 395$ fun though ??\"]\n",
        "\n",
        "X_labels = np.array([\"Paris\", \"Melbourne\", \"London\", \"London\", \"Montreal\", \"Paris\", \"Montreal\"])\n",
        "\n",
        "processed_training_data, processed_labels = preprocess(X_train, X_labels, stop_words, validate_words=english_words)\n",
        "\n",
        "X_test = [\n",
        "    \"Dosa Pointe - If you can get it ! Often sells out and quickly Restaurant Canada Best - absolutely incredible, don't believe me look up the reviews Halal 786 - even just the plain Biryani rice is delicious beyond so many other things on the menu, have it weekly\",  \n",
        "    \"# Upvote/Downvote reminder Like this image or appreciate it being posted? Upvote it and show it some love! Don't like it? Just downvote and move on. *Upvoting or downvoting images it the best way to control what you see on your feed and what gets to the top of the subreddit* *I am a bot, and this action was performed automatically. Please [contact the moderators of this subreddit](/message/compose/?to=/r/london) if you have any questions or concerns.*\",\n",
        "    \"Les jardins du chateau de versailles. C'est pas une nature sauvage, mais vu la dimension des jardins, tu peux te retrouver dans des endroits o— aucun touriste n'osera s'aventurer. 15 minutes de train + 10 minutes de marche depuis la gare montparnasse. Id‚alement, avec un v‚lo...\"]\n",
        "\n",
        "Y_test = [\"Montreal\", \"London\", \"Paris\"]\n",
        "\n",
        "model.train(processed_training_data, processed_labels)\n",
        "\n",
        "y_pred = model.predict(X_test)\n",
        "print(y_pred)\n",
        "\n",
        "print(\"Accuracy:\",accuracy_score(Y_test, y_pred))\n",
        "\n",
        "# print(processed_training_data)\n",
        "# print(processed_labels)\n",
        "# print(procedd_training_labels)\n",
        "\n",
        "# # df = pd.DataFrame(processed_training_data)\n",
        "\n",
        "# # df.to_csv(\"Processed Test.csv\")\n",
        "\n",
        "# (training_data_split, testing_data_split, training_labels_split, testing_labels_split) = train_test_split(processed_training_data, training_labels,  test_size = int(len(training_data)*test_split), random_state=seed)\n",
        "# # print(training_data_split)\n",
        "# # model = SVM()\n",
        "# model.train(training_data_split, training_labels_split)\n",
        "# pred = model.predict(testing_data_split)\n",
        "# # # print(pred)\n",
        "# print(\"Accuracy:\",accuracy_score(testing_labels_split, pred))\n"
      ]
    },
    {
      "cell_type": "code",
      "execution_count": 197,
      "metadata": {},
      "outputs": [],
      "source": [
        "\n",
        "processed_training_data, processed_training_labels = preprocess(training_data, training_labels, stop_words, validate_words=english_words)\n",
        "\n",
        "(training_data_split, testing_data_split, training_labels_split, testing_labels_split) = train_test_split(processed_training_data, processed_training_labels, test_size = int(len(training_data)*test_split), random_state=seed)\n",
        "\n",
        "# model.train(training_data_split, training_labels_split)\n",
        "\n",
        "# pred = model.predict(testing_data_split)\n",
        "\n",
        "# print(\"Accuracy:\",accuracy_score(testing_labels_split, pred))\n",
        "\n"
      ]
    },
    {
      "cell_type": "code",
      "execution_count": 202,
      "metadata": {},
      "outputs": [
        {
          "name": "stdout",
          "output_type": "stream",
          "text": [
            "Accuracy: 0.5899280575539568\n"
          ]
        }
      ],
      "source": [
        "model = SVM()\n",
        "model.train(training_data_split, training_labels_split)\n",
        "pred = model.predict(testing_data_split)\n",
        "print(\"Accuracy:\",accuracy_score(testing_labels_split, pred))\n",
        "\n",
        "# print(training_data_split)\n",
        "# print(training_labels_split)\n",
        "# dict = {\"Prediction\": pred, \"True\": testing_labels_split}\n",
        "\n",
        "# df = pd.DataFrame(dict)\n",
        "\n",
        "# df.to_csv(\"Output_comp.csv\")\n",
        "\n"
      ]
    },
    {
      "cell_type": "code",
      "execution_count": 93,
      "metadata": {},
      "outputs": [],
      "source": [
        "test_df = pd.read_csv(path + 'test.csv', encoding = \"ISO-8859-1\")\n",
        "test_data = test_df['body'].to_numpy()\n",
        "\n",
        "prediction = model.predict(test_data)\n",
        "\n",
        "# processed_test_data = lemmatize_and_remove_stop_words(test_data)\n",
        "\n",
        "# predictions = model.predict(processed_test_data)"
      ]
    },
    {
      "cell_type": "code",
      "execution_count": 54,
      "metadata": {},
      "outputs": [],
      "source": [
        "prediction = model.predict(processed_test)\n",
        "pd.DataFrame({'Subreddit':prediction}).reset_index().rename(columns={\"index\": \"Id\"}).to_csv('results_SVM.csv', index=False)"
      ]
    },
    {
      "cell_type": "code",
      "execution_count": 72,
      "metadata": {},
      "outputs": [
        {
          "name": "stdout",
          "output_type": "stream",
          "text": [
            "Mean Error: 0.3064748201438849\n"
          ]
        }
      ],
      "source": [
        "num_words = [3000, 5000, 7000, 9000, 11000, 13000]\n",
        "n_grams = []\n",
        "mean_error, info = k_fold_validation(processed_training_data, training_labels)\n",
        "print('Mean Error: {}'.format(mean_error))"
      ]
    },
    {
      "cell_type": "markdown",
      "metadata": {},
      "source": [
        "# Random Forest"
      ]
    },
    {
      "cell_type": "markdown",
      "metadata": {
        "id": "fE3SbVUlPho5"
      },
      "source": [
        "# NB and K-Fold"
      ]
    },
    {
      "cell_type": "code",
      "execution_count": null,
      "metadata": {
        "id": "qX4Psl8CSNg9"
      },
      "outputs": [],
      "source": [
        "# to find P(Y=k), just do test_labels.where(k)/len(test_labels)\n",
        "# vectos_train will contain all the information I need to create the counting for each word\n",
        "# use the get_feature_names to create a dictionary to map to all counts\n",
        "# this dictionary would be contained in another dict that has the labels as keys\n",
        "# to find P(xj,k), find the indices where test_labels = (k), then find"
      ]
    },
    {
      "cell_type": "code",
      "execution_count": 6,
      "metadata": {
        "id": "1SOK9cAT17fm"
      },
      "outputs": [],
      "source": [
        "def get_wordnet_pos(word):\n",
        "    \"\"\"Map POS tag to first character lemmatize() accepts\"\"\"\n",
        "    tag = nltk.pos_tag([word])[0][1][0].upper()\n",
        "    tag_dict = {\"J\": wordnet.ADJ,\n",
        "                \"N\": wordnet.NOUN,\n",
        "                \"V\": wordnet.VERB,\n",
        "                \"R\": wordnet.ADV}\n",
        "    return tag_dict.get(tag, wordnet.NOUN)\n",
        "\n",
        "class LemmaTokenizer:\n",
        "     def __init__(self, pattern):\n",
        "       self.pattern = pattern\n",
        "     def __call__(self, doc):\n",
        "       doc = doc.lower().replace('_', ' ')\n",
        "       doc_words = list(set(re.findall(self.pattern, doc)))\n",
        "       lang = detect(' '.join(doc_words))\n",
        "       if lang == 'en':\n",
        "           lemmatizer = WordNetLemmatizer()\n",
        "       else:\n",
        "           lemmatizer = FrenchLefffLemmatizer()\n",
        "       return [lemmatizer.lemmatize(word,pos =get_wordnet_pos(word)) for word in doc_words]"
      ]
    },
    {
      "cell_type": "code",
      "execution_count": 7,
      "metadata": {
        "id": "tJypvj7ZnfWY"
      },
      "outputs": [],
      "source": [
        "class NB():\n",
        "  def __init__(self, max_features = 3000, token_pattern = r\"(?u)\\b[a-z][a-z]+\\b\", min_df = 1, max_df = 1.0, ngram_range = (1,1)):\n",
        "    spacy_stopwords_list = list(fr_stop) + list(en_stop)\n",
        "    nltk_stopwords_list = stopwords.words('english') + stopwords.words('french')\n",
        "    self.pattern = token_pattern\n",
        "    self.ngram_range = ngram_range\n",
        "    self.vectorizer = CountVectorizer(binary = True, max_features = max_features, token_pattern = self.pattern, min_df = min_df, max_df = max_df, ngram_range = ngram_range)\n",
        "    self.no_pred = []\n",
        "\n",
        "  # currently train_corpus expects a np array containing a list of strings, not array of words, nxm\n",
        "  # test_label is an nx1 array\n",
        "  def train(self, train_corpus, test_labels):\n",
        "    assert len(train_corpus)  == len(test_labels)\n",
        "    assert type(train_corpus) == type(test_labels) == np.ndarray\n",
        "\n",
        "    vectors_train       = self.vectorizer.fit_transform(train_corpus).todense()\n",
        "    self.analyzer       = self.vectorizer.build_analyzer()\n",
        "    self.word_list      = self.vectorizer.get_feature_names_out()\n",
        "    self.num_samples    = len(test_labels)\n",
        "    self.word_count     = dict(zip(self.word_list, np.array(vectors_train.sum(axis=0))[0]))\n",
        "\n",
        "    unique, counts   = np.unique(test_labels, return_counts=True)\n",
        "    self.label_count = dict(zip(unique, counts))\n",
        "    self.labels      = unique\n",
        "\n",
        "    self.word_count_given_label = {}\n",
        "    for label in self.labels:\n",
        "      indices = np.where(test_labels == label)[0]\n",
        "      tot_word_count = np.array(vectors_train[indices].sum(axis=0))[0]\n",
        "      self.word_count_given_label[label] = {self.word_list[i] : tot_word_count[i] for i in range(len(tot_word_count))}\n",
        "      # print(label, self.word_count_given_label[label])\n",
        "\n",
        "  # Assuming test_corpus is 2-d array where each test sample is a string\n",
        "  def predict(self, test_corpus):\n",
        "\n",
        "    predictions = []\n",
        "    for corpus in tqdm(test_corpus, desc=\"Loading…\", ascii=False, ncols=75):\n",
        "\n",
        "      best_label = ''\n",
        "      best_prob  = -np.inf\n",
        "\n",
        "      corpus_words = self.analyzer(corpus)\n",
        "\n",
        "      for label in self.labels:\n",
        "        p_of_y = self.label_count[label]/self.num_samples\n",
        "\n",
        "        p_of_x_given_y = 1\n",
        "\n",
        "        for word in self.word_list:\n",
        "          if word in corpus_words:\n",
        "            xj = 1\n",
        "          else:\n",
        "            xj = 0\n",
        "\n",
        "          theta_xj_k      = (self.word_count_given_label[label][word] + 1) / (self.label_count[label] + len(self.labels))\n",
        "          p_of_x_given_y *= (theta_xj_k**(xj) * (1-theta_xj_k)**(1-xj))\n",
        "          # print(label, word, p_of_x_given_y, theta_xj_k, (theta_xj_k**(xj) * (1-theta_xj_k)**(1-xj)))\n",
        "\n",
        "        unseen_words = [new_word for new_word in corpus_words if new_word not in self.word_list]\n",
        "        for word in unseen_words:\n",
        "          # p_of_x_given_y *= 1/(self.label_count[label] + len(self.labels))\n",
        "          p_of_x_given_y *= 1/(len(self.labels)) # When there are a large number of unseen words, the p_of_x_given_y basically becomes 0\n",
        "        # print(len(unseen_words), len(corpus_words))\n",
        "\n",
        "        p_of_y_given_x = np.log(p_of_y * p_of_x_given_y)\n",
        "        # print(p_of_y, p_of_x_given_y)\n",
        "        # print(label, p_of_y_given_x)\n",
        "\n",
        "        # print(p_of_y_given_x, best_prob)\n",
        "        if p_of_y_given_x > best_prob:\n",
        "          best_prob = p_of_y_given_x\n",
        "          best_label = label\n",
        "\n",
        "      if p_of_x_given_y == 0:\n",
        "        self.no_pred.append(corpus)\n",
        "      #   best_label = random.choice(self.labels)\n",
        "\n",
        "      predictions.append(best_label)\n",
        "\n",
        "    return predictions"
      ]
    },
    {
      "cell_type": "code",
      "execution_count": 8,
      "metadata": {
        "id": "tb85vAgDPPdC"
      },
      "outputs": [],
      "source": [
        "def k_fold_validation(x_train_data, y_train_data, K = 10):\n",
        "  assert type(x_train_data) == np.ndarray and type(y_train_data) == np.ndarray\n",
        "\n",
        "  len_of_data  = len(x_train_data) - len(x_train_data) % K\n",
        "  data_x       = x_train_data[:len_of_data]\n",
        "  data_y       = y_train_data[:len_of_data]\n",
        "  size_of_fold = len(x_train_data[:len_of_data]) // K\n",
        "  validation_error = 0\n",
        "\n",
        "  error    = []\n",
        "  pred     = []\n",
        "  timings  = []\n",
        "  no_preds = []\n",
        "\n",
        "  naive_bayes = NB()\n",
        "\n",
        "  for i in range(K):\n",
        "\n",
        "    naive_bayes = NB()\n",
        "\n",
        "    if i != K-1:\n",
        "      validation_fold_x = data_x[i*size_of_fold:(i+1)*size_of_fold]\n",
        "      validation_fold_y = data_y[i*size_of_fold:(i+1)*size_of_fold]\n",
        "\n",
        "      training_folds_x  = np.concatenate((data_x[:i*size_of_fold], data_x[(i+1)*size_of_fold:]))\n",
        "      training_folds_y  = np.concatenate((data_y[:i*size_of_fold], data_y[(i+1)*size_of_fold:]))\n",
        "\n",
        "    else:\n",
        "      validation_fold_x = data_x[i*size_of_fold:]\n",
        "      validation_fold_y = data_y[i*size_of_fold:]\n",
        "\n",
        "      training_folds_x  = data_x[:i*size_of_fold]\n",
        "      training_folds_y  = data_y[:i*size_of_fold]\n",
        "\n",
        "    start_time = time.time()\n",
        "    naive_bayes.train(training_folds_x, training_folds_y)\n",
        "    end_time = time.time()\n",
        "\n",
        "    timings.append(end_time - start_time)\n",
        "\n",
        "    pred_valid = naive_bayes.predict(validation_fold_x)\n",
        "    no_pred = naive_bayes.no_pred\n",
        "    # pred_train = naive_bayes.predict(training_folds_x)\n",
        "\n",
        "    fold_error = {}\n",
        "    fold_error['validation'] = 1 - accuracy_score(pred_valid, validation_fold_y)\n",
        "    validation_error        += 1 - accuracy_score(pred_valid, validation_fold_y)\n",
        "    # fold_error['train']      = 1 - accuracy_score(pred_train, training_folds_y)\n",
        "\n",
        "    model_pred = {}\n",
        "    model_pred['validation'] = (pred_valid, validation_fold_y)\n",
        "    # model_pred['train']      = (pred_train, training_folds_y )\n",
        "\n",
        "    error.append(fold_error)\n",
        "    pred.append(model_pred)\n",
        "    no_preds.append(no_pred)\n",
        "\n",
        "  info = {'error': error, 'pred': pred, 'time': timings, 'no_preds' : no_preds}\n",
        "\n",
        "  return validation_error/K, info"
      ]
    },
    {
      "cell_type": "markdown",
      "metadata": {
        "id": "7xBVjFXWpw7p"
      },
      "source": [
        "# Simple test cases for NB"
      ]
    },
    {
      "cell_type": "code",
      "execution_count": 9,
      "metadata": {
        "colab": {
          "base_uri": "https://localhost:8080/"
        },
        "id": "qo7BKNgek7NV",
        "outputId": "187b8e04-9372-4bb1-ce65-5fe296f3d41d"
      },
      "outputs": [
        {
          "name": "stderr",
          "output_type": "stream",
          "text": [
            "Loading…: 100%|█████████████████████████████| 1/1 [00:00<00:00, 499.32it/s]\n"
          ]
        },
        {
          "data": {
            "text/plain": [
              "['1']"
            ]
          },
          "execution_count": 9,
          "metadata": {},
          "output_type": "execute_result"
        }
      ],
      "source": [
        "train_corpus = [\n",
        "    'This is the first document.',\n",
        "    'This document is the second document.',\n",
        "    'And this is the third one.',\n",
        "     'Is this the first document?',]\n",
        "test_labels = np.array(['1', '2', '3', '4'])\n",
        "train_corpus = np.array(train_corpus)\n",
        "test_corpus = ['harro first pink haha']\n",
        "model = NB()\n",
        "model.train(train_corpus, test_labels)\n",
        "model.predict(test_corpus)"
      ]
    },
    {
      "cell_type": "code",
      "execution_count": 10,
      "metadata": {
        "colab": {
          "base_uri": "https://localhost:8080/"
        },
        "id": "_jmTZkw2lgUe",
        "outputId": "e170bad5-c51b-4471-86cc-dab6122f8e7b"
      },
      "outputs": [
        {
          "name": "stderr",
          "output_type": "stream",
          "text": [
            "Loading…: 100%|████████████████████████████| 3/3 [00:00<00:00, 2986.69it/s]"
          ]
        },
        {
          "name": "stdout",
          "output_type": "stream",
          "text": [
            "[0, 1, 0]\n"
          ]
        },
        {
          "name": "stderr",
          "output_type": "stream",
          "text": [
            "\n"
          ]
        }
      ],
      "source": [
        "# Training data\n",
        "X_train = np.array([\n",
        "    \"I love this movie\",\n",
        "    \"This movie is great\",\n",
        "    \"A movie like this is great\",\n",
        "    \"I hate this movie\",\n",
        "    \"This movie is terrible\"])\n",
        "\n",
        "# Corresponding labels\n",
        "y_train = np.array([1, 1, 1, 0, 0])  # 1 for positive sentiment, 0 for negative sentiment\n",
        "\n",
        "model = NB()\n",
        "model.train(X_train, y_train)\n",
        "X_test = [\n",
        "    \"I love this movie terrible\", # Example of both class being viable but the second being chosen due to label eval order in NB\n",
        "    \"I hate this great movie\",\n",
        "    \"This movie is terrible\"]\n",
        "\n",
        "print(model.predict(X_test))"
      ]
    },
    {
      "cell_type": "markdown",
      "metadata": {
        "id": "PlHr32RYp0Fn"
      },
      "source": [
        "# K-fold for NB"
      ]
    },
    {
      "cell_type": "code",
      "execution_count": null,
      "metadata": {
        "id": "eTGtkcsZM7FP"
      },
      "outputs": [],
      "source": [
        "# TODO: No predictions given, divide by zero warnings might be the cause (Solved?)\n",
        "# TODO: Test changing the prob caluclation to be a sum of logs"
      ]
    },
    {
      "cell_type": "code",
      "execution_count": null,
      "metadata": {
        "colab": {
          "base_uri": "https://localhost:8080/"
        },
        "id": "mVQVLywgFjE1",
        "outputId": "0472baa4-b494-45d2-cd8d-49f53b121b01"
      },
      "outputs": [],
      "source": [
        "# No preprocessing\n",
        "test_split = 0.1\n",
        "\n",
        "(training_data_split, testing_data_split, training_labels_split, testing_labels_split) = train_test_split(training_data, training_labels,  test_size = int(len(training_data)*test_split), random_state=seed)\n",
        "\n",
        "model = NB()\n",
        "model.train(training_data_split, training_labels_split)\n",
        "pred = model.predict(testing_data_split)\n",
        "print((pred == testing_labels_split).sum()/len(testing_labels_split))\n",
        "print()\n",
        "print(model.no_pred)\n",
        "\n",
        "mean_error, info = k_fold_validation(training_data_split, training_labels_split)\n",
        "print('Mean Error: {}'.format(mean_error))"
      ]
    },
    {
      "cell_type": "code",
      "execution_count": null,
      "metadata": {
        "colab": {
          "base_uri": "https://localhost:8080/"
        },
        "id": "PbhToUzaVp1x",
        "outputId": "e53254e4-d795-4cf0-b6b6-1d9d794fab74"
      },
      "outputs": [],
      "source": [
        "# With Processing\n",
        "spacy_stopwords_list = list(fr_stop) + list(en_stop)\n",
        "nltk_stopwords_list = stopwords.words('english') + stopwords.words('french')\n",
        "other_stop_words = ['http', 'https', 'www']\n",
        "stop_words = list(set().union(spacy_stopwords_list, nltk_stopwords_list, other_stop_words))\n",
        "\n",
        "processed_training_data = preprocess(training_data, regex_pattern = r\"(?u)\\b[a-z][a-z]+\\b\", stop_words = stop_words, is_lemmatize = False)\n",
        "\n",
        "test_split = 0.1\n",
        "\n",
        "(training_data_split, testing_data_split, training_labels_split, testing_labels_split) = train_test_split(processed_training_data, training_labels,  test_size = int(len(processed_training_data)*test_split), random_state=seed)\n",
        "\n",
        "model = NB()\n",
        "model.train(training_data_split, training_labels_split)\n",
        "pred = model.predict(testing_data_split)\n",
        "print((pred == testing_labels_split).sum()/len(testing_labels_split))\n",
        "\n",
        "mean_error, info = k_fold_validation(training_data_split, training_labels_split)\n",
        "print()\n",
        "print('Mean Error: {}'.format(mean_error))\n",
        "print()\n",
        "print('\\nModel Misses: {}'.format(model.no_pred))"
      ]
    },
    {
      "cell_type": "code",
      "execution_count": null,
      "metadata": {
        "colab": {
          "base_uri": "https://localhost:8080/"
        },
        "id": "i1udosiGb4te",
        "outputId": "00b35923-6c15-405a-ab09-8001c647e98d"
      },
      "outputs": [],
      "source": [
        "# With Processing\n",
        "# lemmatized_data = preprocess(training_data, regex_pattern = r\"(?u)\\b[a-z][a-z]+\\b\", stop_words = None, is_lemmatize = True)\n",
        "spacy_stopwords_list = list(fr_stop) + list(en_stop)\n",
        "nltk_stopwords_list = stopwords.words('english') + stopwords.words('french')\n",
        "other_stop_words = ['http', 'https', 'www']\n",
        "stop_words = list(set().union(spacy_stopwords_list, nltk_stopwords_list, other_stop_words))\n",
        "\n",
        "processed_training_data = preprocess(lemmatized_data, regex_pattern = r\"(?u)\\b[a-z][a-z]+\\b\", stop_words = stop_words, is_lemmatize = False)\n",
        "\n",
        "test_split = 0.1\n",
        "\n",
        "(training_data_split, testing_data_split, training_labels_split, testing_labels_split) = train_test_split(processed_training_data, training_labels,  test_size = int(len(processed_training_data)*test_split), random_state=seed)\n",
        "\n",
        "model = NB()\n",
        "model.train(training_data_split, training_labels_split)\n",
        "pred = model.predict(testing_data_split)\n",
        "print((pred == testing_labels_split).sum()/len(testing_labels_split))\n",
        "\n",
        "mean_error, info = k_fold_validation(training_data_split, training_labels_split)\n",
        "print()\n",
        "print('Mean Error: {}'.format(mean_error))\n",
        "print()\n",
        "print('\\nModel Misses: {}'.format(model.no_pred))"
      ]
    },
    {
      "cell_type": "code",
      "execution_count": null,
      "metadata": {
        "colab": {
          "base_uri": "https://localhost:8080/"
        },
        "id": "zR9JJ-fMkF0O",
        "outputId": "08a49ee5-8741-423f-baca-66dcc98ad979"
      },
      "outputs": [],
      "source": [
        "sorted(model.word_count.items(), key=lambda item: item[1], reverse = True)[:-1]"
      ]
    },
    {
      "cell_type": "markdown",
      "metadata": {
        "id": "eqQEA-SVi8nW"
      },
      "source": [
        "# Experimentation"
      ]
    },
    {
      "cell_type": "markdown",
      "metadata": {},
      "source": [
        "## Aydin Exploration"
      ]
    },
    {
      "cell_type": "code",
      "execution_count": 123,
      "metadata": {},
      "outputs": [],
      "source": [
        "# Imports\n",
        "from sklearn.linear_model import LogisticRegression, SGDClassifier\n",
        "from sklearn.feature_extraction.text import TfidfVectorizer\n",
        "from sklearn.model_selection import train_test_split, GridSearchCV\n",
        "from sklearn.pipeline import Pipeline\n",
        "from sklearn import svm\n",
        "from langdetect import detect, DetectorFactory"
      ]
    },
    {
      "cell_type": "markdown",
      "metadata": {},
      "source": [
        "### Data prep"
      ]
    },
    {
      "cell_type": "code",
      "execution_count": 140,
      "metadata": {},
      "outputs": [],
      "source": [
        "# set to true to split dataset into english and french\n",
        "split_en_fr = True\n",
        "\n",
        "DetectorFactory.seed = 0\n",
        "language = np.empty(np.shape(training_data), dtype=np.dtype(\"U2\"))\n",
        "if split_en_fr:\n",
        "    for i,sample in enumerate(training_data):\n",
        "        language[i] = detect(sample)\n",
        "training_data_en = np.delete(training_data, language == \"fr\")\n",
        "training_labels_en = np.delete(training_labels, language == \"fr\")\n",
        "training_data_fr = np.delete(training_data, language == \"en\")\n",
        "training_labels_fr = np.delete(training_labels, language == \"en\")"
      ]
    },
    {
      "cell_type": "code",
      "execution_count": 170,
      "metadata": {},
      "outputs": [],
      "source": [
        "# Define data. Set to True to use actual dataset False for custom data\n",
        "# Set use_fr_en to True to partition the data into en and fr sample \n",
        "use_fr_en = False\n",
        "use_en = False\n",
        "use_Dataset = True\n",
        "if use_Dataset:\n",
        "    if use_fr_en:\n",
        "        if use_en:\n",
        "            X_train, X_val, Y_train, Y_val = train_test_split(training_data_en, training_labels_en, test_size=0.2, random_state=seed)\n",
        "        else:\n",
        "            X_train, X_val, Y_train, Y_val = train_test_split(training_data_fr, training_labels_fr, test_size=0.2, random_state=seed)\n",
        "    else:\n",
        "        X_train, X_val, Y_train, Y_val = train_test_split(training_data, training_labels, test_size=0.2, random_state=seed)\n",
        "else:\n",
        "    X_train = [\n",
        "        \"I love this movie\",\n",
        "        \"This movie is great\",\n",
        "        \"A movie like this is great\",\n",
        "        \"I hate this movie\",\n",
        "        \"This movie is terrible\",\n",
        "    ]\n",
        "\n",
        "    Y_train = [1, 1, 1, 0, 0]  # 1 for positive sentiment, 0 for negative sentiment\n",
        "\n",
        "    X_val = [\n",
        "        \"I love this movie terrible\",  # Example of both class being viable but the second being chosen due to label eval order in NB\n",
        "        \"I hate this great movie\",\n",
        "        \"This movie is terrible\",\n",
        "    ]\n",
        "\n",
        "    Y_val = [1, 1, 0]"
      ]
    },
    {
      "cell_type": "code",
      "execution_count": 6,
      "metadata": {},
      "outputs": [],
      "source": [
        "# Define Stopwords\n",
        "spacy_stopwords_list = list(fr_stop) + list(en_stop)\n",
        "nltk_stopwords_list = stopwords.words(\"english\") + stopwords.words(\"french\")\n",
        "other_stop_words = [\"http\", \"https\", \"www\"]\n",
        "stop_words = list(\n",
        "    set().union(spacy_stopwords_list, nltk_stopwords_list, other_stop_words)\n",
        ")"
      ]
    },
    {
      "cell_type": "markdown",
      "metadata": {
        "id": "xZDeBZcBjApY"
      },
      "source": [
        "### Logistic Regression"
      ]
    },
    {
      "cell_type": "code",
      "execution_count": 158,
      "metadata": {},
      "outputs": [],
      "source": [
        "# make pipeline\n",
        "pipe = Pipeline(\n",
        "    [(\"Vectorizer\", TfidfVectorizer(\n",
        "        stop_words=stop_words,\n",
        "        token_pattern=r\"(?u)\\b[a-z][a-z]+\\b\",\n",
        "        ngram_range=(1, 1),\n",
        "        max_df=0.1,\n",
        "        min_df=1,\n",
        "        max_features=10000,\n",
        "    )),\n",
        "    (\"Classifier\", LogisticRegression(C=3, random_state=0, solver=\"lbfgs\"))\n",
        "    ]\n",
        ")"
      ]
    },
    {
      "cell_type": "code",
      "execution_count": 159,
      "metadata": {},
      "outputs": [
        {
          "name": "stderr",
          "output_type": "stream",
          "text": [
            "c:\\Users\\Xylos\\AppData\\Local\\Programs\\Python\\Python311\\Lib\\site-packages\\sklearn\\model_selection\\_split.py:737: UserWarning: The least populated class in y has only 1 members, which is less than n_splits=5.\n",
            "  warnings.warn(\n",
            "c:\\Users\\Xylos\\AppData\\Local\\Programs\\Python\\Python311\\Lib\\site-packages\\sklearn\\feature_extraction\\text.py:408: UserWarning: Your stop_words may be inconsistent with your preprocessing. Tokenizing the stop words generated tokens ['neuf', 'quelqu'] not in stop_words.\n",
            "  warnings.warn(\n",
            "c:\\Users\\Xylos\\AppData\\Local\\Programs\\Python\\Python311\\Lib\\site-packages\\sklearn\\feature_extraction\\text.py:408: UserWarning: Your stop_words may be inconsistent with your preprocessing. Tokenizing the stop words generated tokens ['neuf', 'quelqu'] not in stop_words.\n",
            "  warnings.warn(\n",
            "c:\\Users\\Xylos\\AppData\\Local\\Programs\\Python\\Python311\\Lib\\site-packages\\sklearn\\feature_extraction\\text.py:408: UserWarning: Your stop_words may be inconsistent with your preprocessing. Tokenizing the stop words generated tokens ['neuf', 'quelqu'] not in stop_words.\n",
            "  warnings.warn(\n",
            "c:\\Users\\Xylos\\AppData\\Local\\Programs\\Python\\Python311\\Lib\\site-packages\\sklearn\\feature_extraction\\text.py:408: UserWarning: Your stop_words may be inconsistent with your preprocessing. Tokenizing the stop words generated tokens ['neuf', 'quelqu'] not in stop_words.\n",
            "  warnings.warn(\n",
            "c:\\Users\\Xylos\\AppData\\Local\\Programs\\Python\\Python311\\Lib\\site-packages\\sklearn\\feature_extraction\\text.py:408: UserWarning: Your stop_words may be inconsistent with your preprocessing. Tokenizing the stop words generated tokens ['neuf', 'quelqu'] not in stop_words.\n",
            "  warnings.warn(\n",
            "c:\\Users\\Xylos\\AppData\\Local\\Programs\\Python\\Python311\\Lib\\site-packages\\sklearn\\feature_extraction\\text.py:408: UserWarning: Your stop_words may be inconsistent with your preprocessing. Tokenizing the stop words generated tokens ['neuf', 'quelqu'] not in stop_words.\n",
            "  warnings.warn(\n"
          ]
        },
        {
          "data": {
            "text/html": [
              "<style>#sk-container-id-48 {color: black;}#sk-container-id-48 pre{padding: 0;}#sk-container-id-48 div.sk-toggleable {background-color: white;}#sk-container-id-48 label.sk-toggleable__label {cursor: pointer;display: block;width: 100%;margin-bottom: 0;padding: 0.3em;box-sizing: border-box;text-align: center;}#sk-container-id-48 label.sk-toggleable__label-arrow:before {content: \"▸\";float: left;margin-right: 0.25em;color: #696969;}#sk-container-id-48 label.sk-toggleable__label-arrow:hover:before {color: black;}#sk-container-id-48 div.sk-estimator:hover label.sk-toggleable__label-arrow:before {color: black;}#sk-container-id-48 div.sk-toggleable__content {max-height: 0;max-width: 0;overflow: hidden;text-align: left;background-color: #f0f8ff;}#sk-container-id-48 div.sk-toggleable__content pre {margin: 0.2em;color: black;border-radius: 0.25em;background-color: #f0f8ff;}#sk-container-id-48 input.sk-toggleable__control:checked~div.sk-toggleable__content {max-height: 200px;max-width: 100%;overflow: auto;}#sk-container-id-48 input.sk-toggleable__control:checked~label.sk-toggleable__label-arrow:before {content: \"▾\";}#sk-container-id-48 div.sk-estimator input.sk-toggleable__control:checked~label.sk-toggleable__label {background-color: #d4ebff;}#sk-container-id-48 div.sk-label input.sk-toggleable__control:checked~label.sk-toggleable__label {background-color: #d4ebff;}#sk-container-id-48 input.sk-hidden--visually {border: 0;clip: rect(1px 1px 1px 1px);clip: rect(1px, 1px, 1px, 1px);height: 1px;margin: -1px;overflow: hidden;padding: 0;position: absolute;width: 1px;}#sk-container-id-48 div.sk-estimator {font-family: monospace;background-color: #f0f8ff;border: 1px dotted black;border-radius: 0.25em;box-sizing: border-box;margin-bottom: 0.5em;}#sk-container-id-48 div.sk-estimator:hover {background-color: #d4ebff;}#sk-container-id-48 div.sk-parallel-item::after {content: \"\";width: 100%;border-bottom: 1px solid gray;flex-grow: 1;}#sk-container-id-48 div.sk-label:hover label.sk-toggleable__label {background-color: #d4ebff;}#sk-container-id-48 div.sk-serial::before {content: \"\";position: absolute;border-left: 1px solid gray;box-sizing: border-box;top: 0;bottom: 0;left: 50%;z-index: 0;}#sk-container-id-48 div.sk-serial {display: flex;flex-direction: column;align-items: center;background-color: white;padding-right: 0.2em;padding-left: 0.2em;position: relative;}#sk-container-id-48 div.sk-item {position: relative;z-index: 1;}#sk-container-id-48 div.sk-parallel {display: flex;align-items: stretch;justify-content: center;background-color: white;position: relative;}#sk-container-id-48 div.sk-item::before, #sk-container-id-48 div.sk-parallel-item::before {content: \"\";position: absolute;border-left: 1px solid gray;box-sizing: border-box;top: 0;bottom: 0;left: 50%;z-index: -1;}#sk-container-id-48 div.sk-parallel-item {display: flex;flex-direction: column;z-index: 1;position: relative;background-color: white;}#sk-container-id-48 div.sk-parallel-item:first-child::after {align-self: flex-end;width: 50%;}#sk-container-id-48 div.sk-parallel-item:last-child::after {align-self: flex-start;width: 50%;}#sk-container-id-48 div.sk-parallel-item:only-child::after {width: 0;}#sk-container-id-48 div.sk-dashed-wrapped {border: 1px dashed gray;margin: 0 0.4em 0.5em 0.4em;box-sizing: border-box;padding-bottom: 0.4em;background-color: white;}#sk-container-id-48 div.sk-label label {font-family: monospace;font-weight: bold;display: inline-block;line-height: 1.2em;}#sk-container-id-48 div.sk-label-container {text-align: center;}#sk-container-id-48 div.sk-container {/* jupyter's `normalize.less` sets `[hidden] { display: none; }` but bootstrap.min.css set `[hidden] { display: none !important; }` so we also need the `!important` here to be able to override the default hidden behavior on the sphinx rendered scikit-learn.org. See: https://github.com/scikit-learn/scikit-learn/issues/21755 */display: inline-block !important;position: relative;}#sk-container-id-48 div.sk-text-repr-fallback {display: none;}</style><div id=\"sk-container-id-48\" class=\"sk-top-container\"><div class=\"sk-text-repr-fallback\"><pre>GridSearchCV(estimator=Pipeline(steps=[(&#x27;Vectorizer&#x27;,\n",
              "                                        TfidfVectorizer(max_df=0.1,\n",
              "                                                        max_features=10000,\n",
              "                                                        stop_words=[&#x27;ainsi&#x27;,\n",
              "                                                                    &#x27;egalement&#x27;,\n",
              "                                                                    &quot;&#x27;re&quot;,\n",
              "                                                                    &quot;you&#x27;ve&quot;,\n",
              "                                                                    &#x27;serai&#x27;,\n",
              "                                                                    &#x27;empty&#x27;,\n",
              "                                                                    &#x27;eurent&#x27;,\n",
              "                                                                    &#x27;again&#x27;,\n",
              "                                                                    &#x27;around&#x27;,\n",
              "                                                                    &#x27;dit&#x27;,\n",
              "                                                                    &#x27;pense&#x27;,\n",
              "                                                                    &#x27;toujours&#x27;,\n",
              "                                                                    &#x27;its&#x27;,\n",
              "                                                                    &#x27;certain&#x27;,\n",
              "                                                                    &#x27;avons&#x27;,\n",
              "                                                                    &#x27;often&#x27;,\n",
              "                                                                    &#x27;else&#x27;,\n",
              "                                                                    &#x27;then&#x27;,\n",
              "                                                                    &#x27;hereby&#x27;,\n",
              "                                                                    &#x27;quatrième&#x27;,\n",
              "                                                                    &#x27;within&#x27;,\n",
              "                                                                    &#x27;antérieure&#x27;,\n",
              "                                                                    &#x27;yourself&#x27;,\n",
              "                                                                    &#x27;http&#x27;,\n",
              "                                                                    &#x27;suivantes&#x27;,\n",
              "                                                                    &#x27;’s&#x27;,\n",
              "                                                                    &#x27;with&#x27;,\n",
              "                                                                    &#x27;side&#x27;,\n",
              "                                                                    &#x27;was&#x27;,\n",
              "                                                                    &#x27;theirs&#x27;, ...],\n",
              "                                                        token_pattern=&#x27;(?u)\\\\b[a-z][a-z]+\\\\b&#x27;)),\n",
              "                                       (&#x27;Classifier&#x27;,\n",
              "                                        LogisticRegression(C=3,\n",
              "                                                           random_state=0))]),\n",
              "             param_grid={})</pre><b>In a Jupyter environment, please rerun this cell to show the HTML representation or trust the notebook. <br />On GitHub, the HTML representation is unable to render, please try loading this page with nbviewer.org.</b></div><div class=\"sk-container\" hidden><div class=\"sk-item sk-dashed-wrapped\"><div class=\"sk-label-container\"><div class=\"sk-label sk-toggleable\"><input class=\"sk-toggleable__control sk-hidden--visually\" id=\"sk-estimator-id-189\" type=\"checkbox\" ><label for=\"sk-estimator-id-189\" class=\"sk-toggleable__label sk-toggleable__label-arrow\">GridSearchCV</label><div class=\"sk-toggleable__content\"><pre>GridSearchCV(estimator=Pipeline(steps=[(&#x27;Vectorizer&#x27;,\n",
              "                                        TfidfVectorizer(max_df=0.1,\n",
              "                                                        max_features=10000,\n",
              "                                                        stop_words=[&#x27;ainsi&#x27;,\n",
              "                                                                    &#x27;egalement&#x27;,\n",
              "                                                                    &quot;&#x27;re&quot;,\n",
              "                                                                    &quot;you&#x27;ve&quot;,\n",
              "                                                                    &#x27;serai&#x27;,\n",
              "                                                                    &#x27;empty&#x27;,\n",
              "                                                                    &#x27;eurent&#x27;,\n",
              "                                                                    &#x27;again&#x27;,\n",
              "                                                                    &#x27;around&#x27;,\n",
              "                                                                    &#x27;dit&#x27;,\n",
              "                                                                    &#x27;pense&#x27;,\n",
              "                                                                    &#x27;toujours&#x27;,\n",
              "                                                                    &#x27;its&#x27;,\n",
              "                                                                    &#x27;certain&#x27;,\n",
              "                                                                    &#x27;avons&#x27;,\n",
              "                                                                    &#x27;often&#x27;,\n",
              "                                                                    &#x27;else&#x27;,\n",
              "                                                                    &#x27;then&#x27;,\n",
              "                                                                    &#x27;hereby&#x27;,\n",
              "                                                                    &#x27;quatrième&#x27;,\n",
              "                                                                    &#x27;within&#x27;,\n",
              "                                                                    &#x27;antérieure&#x27;,\n",
              "                                                                    &#x27;yourself&#x27;,\n",
              "                                                                    &#x27;http&#x27;,\n",
              "                                                                    &#x27;suivantes&#x27;,\n",
              "                                                                    &#x27;’s&#x27;,\n",
              "                                                                    &#x27;with&#x27;,\n",
              "                                                                    &#x27;side&#x27;,\n",
              "                                                                    &#x27;was&#x27;,\n",
              "                                                                    &#x27;theirs&#x27;, ...],\n",
              "                                                        token_pattern=&#x27;(?u)\\\\b[a-z][a-z]+\\\\b&#x27;)),\n",
              "                                       (&#x27;Classifier&#x27;,\n",
              "                                        LogisticRegression(C=3,\n",
              "                                                           random_state=0))]),\n",
              "             param_grid={})</pre></div></div></div><div class=\"sk-parallel\"><div class=\"sk-parallel-item\"><div class=\"sk-item\"><div class=\"sk-label-container\"><div class=\"sk-label sk-toggleable\"><input class=\"sk-toggleable__control sk-hidden--visually\" id=\"sk-estimator-id-190\" type=\"checkbox\" ><label for=\"sk-estimator-id-190\" class=\"sk-toggleable__label sk-toggleable__label-arrow\">estimator: Pipeline</label><div class=\"sk-toggleable__content\"><pre>Pipeline(steps=[(&#x27;Vectorizer&#x27;,\n",
              "                 TfidfVectorizer(max_df=0.1, max_features=10000,\n",
              "                                 stop_words=[&#x27;ainsi&#x27;, &#x27;egalement&#x27;, &quot;&#x27;re&quot;,\n",
              "                                             &quot;you&#x27;ve&quot;, &#x27;serai&#x27;, &#x27;empty&#x27;,\n",
              "                                             &#x27;eurent&#x27;, &#x27;again&#x27;, &#x27;around&#x27;, &#x27;dit&#x27;,\n",
              "                                             &#x27;pense&#x27;, &#x27;toujours&#x27;, &#x27;its&#x27;,\n",
              "                                             &#x27;certain&#x27;, &#x27;avons&#x27;, &#x27;often&#x27;,\n",
              "                                             &#x27;else&#x27;, &#x27;then&#x27;, &#x27;hereby&#x27;,\n",
              "                                             &#x27;quatrième&#x27;, &#x27;within&#x27;,\n",
              "                                             &#x27;antérieure&#x27;, &#x27;yourself&#x27;, &#x27;http&#x27;,\n",
              "                                             &#x27;suivantes&#x27;, &#x27;’s&#x27;, &#x27;with&#x27;, &#x27;side&#x27;,\n",
              "                                             &#x27;was&#x27;, &#x27;theirs&#x27;, ...],\n",
              "                                 token_pattern=&#x27;(?u)\\\\b[a-z][a-z]+\\\\b&#x27;)),\n",
              "                (&#x27;Classifier&#x27;, LogisticRegression(C=3, random_state=0))])</pre></div></div></div><div class=\"sk-serial\"><div class=\"sk-item\"><div class=\"sk-serial\"><div class=\"sk-item\"><div class=\"sk-estimator sk-toggleable\"><input class=\"sk-toggleable__control sk-hidden--visually\" id=\"sk-estimator-id-191\" type=\"checkbox\" ><label for=\"sk-estimator-id-191\" class=\"sk-toggleable__label sk-toggleable__label-arrow\">TfidfVectorizer</label><div class=\"sk-toggleable__content\"><pre>TfidfVectorizer(max_df=0.1, max_features=10000,\n",
              "                stop_words=[&#x27;ainsi&#x27;, &#x27;egalement&#x27;, &quot;&#x27;re&quot;, &quot;you&#x27;ve&quot;, &#x27;serai&#x27;,\n",
              "                            &#x27;empty&#x27;, &#x27;eurent&#x27;, &#x27;again&#x27;, &#x27;around&#x27;, &#x27;dit&#x27;,\n",
              "                            &#x27;pense&#x27;, &#x27;toujours&#x27;, &#x27;its&#x27;, &#x27;certain&#x27;, &#x27;avons&#x27;,\n",
              "                            &#x27;often&#x27;, &#x27;else&#x27;, &#x27;then&#x27;, &#x27;hereby&#x27;, &#x27;quatrième&#x27;,\n",
              "                            &#x27;within&#x27;, &#x27;antérieure&#x27;, &#x27;yourself&#x27;, &#x27;http&#x27;,\n",
              "                            &#x27;suivantes&#x27;, &#x27;’s&#x27;, &#x27;with&#x27;, &#x27;side&#x27;, &#x27;was&#x27;, &#x27;theirs&#x27;, ...],\n",
              "                token_pattern=&#x27;(?u)\\\\b[a-z][a-z]+\\\\b&#x27;)</pre></div></div></div><div class=\"sk-item\"><div class=\"sk-estimator sk-toggleable\"><input class=\"sk-toggleable__control sk-hidden--visually\" id=\"sk-estimator-id-192\" type=\"checkbox\" ><label for=\"sk-estimator-id-192\" class=\"sk-toggleable__label sk-toggleable__label-arrow\">LogisticRegression</label><div class=\"sk-toggleable__content\"><pre>LogisticRegression(C=3, random_state=0)</pre></div></div></div></div></div></div></div></div></div></div></div></div>"
            ],
            "text/plain": [
              "GridSearchCV(estimator=Pipeline(steps=[('Vectorizer',\n",
              "                                        TfidfVectorizer(max_df=0.1,\n",
              "                                                        max_features=10000,\n",
              "                                                        stop_words=['ainsi',\n",
              "                                                                    'egalement',\n",
              "                                                                    \"'re\",\n",
              "                                                                    \"you've\",\n",
              "                                                                    'serai',\n",
              "                                                                    'empty',\n",
              "                                                                    'eurent',\n",
              "                                                                    'again',\n",
              "                                                                    'around',\n",
              "                                                                    'dit',\n",
              "                                                                    'pense',\n",
              "                                                                    'toujours',\n",
              "                                                                    'its',\n",
              "                                                                    'certain',\n",
              "                                                                    'avons',\n",
              "                                                                    'often',\n",
              "                                                                    'else',\n",
              "                                                                    'then',\n",
              "                                                                    'hereby',\n",
              "                                                                    'quatrième',\n",
              "                                                                    'within',\n",
              "                                                                    'antérieure',\n",
              "                                                                    'yourself',\n",
              "                                                                    'http',\n",
              "                                                                    'suivantes',\n",
              "                                                                    '’s',\n",
              "                                                                    'with',\n",
              "                                                                    'side',\n",
              "                                                                    'was',\n",
              "                                                                    'theirs', ...],\n",
              "                                                        token_pattern='(?u)\\\\b[a-z][a-z]+\\\\b')),\n",
              "                                       ('Classifier',\n",
              "                                        LogisticRegression(C=3,\n",
              "                                                           random_state=0))]),\n",
              "             param_grid={})"
            ]
          },
          "execution_count": 159,
          "metadata": {},
          "output_type": "execute_result"
        }
      ],
      "source": [
        "# set hyperparams to search\n",
        "\n",
        "# best params from large search (took ~15 minutes)\n",
        "# {\n",
        "#     \"Classifier__C\": 3,\n",
        "#     \"Vectorizer__max_df\": 0.1,\n",
        "#     \"Vectorizer__max_features\": 10000,\n",
        "#     \"Vectorizer__min_df\": 1,\n",
        "#     \"Vectorizer__ngram_range\": (1, 1),\n",
        "# }\n",
        "\n",
        "# \"lbfgs\", \"liblinear\", \"newton-cg\" are all good\n",
        "\n",
        "# 69% accuracy\n",
        "\n",
        "parameters = {\n",
        "    # \"Vectorizer__ngram_range\": ((1,1), (1,2), (1,3), (1,4)),\n",
        "    # \"Vectorizer__max_df\": (0.1, 1.0),\n",
        "    # \"Vectorizer__min_df\": (1, 2, 10),\n",
        "    # \"Vectorizer__max_features\": (3000, 5000, 7000, 10000),\n",
        "    # \"Classifier__C\": (1, 3, 5, 10),\n",
        "    # \"Classifier__solver\": (\"lbfgs\", \"liblinear\", \"newton-cg\", \"sag\")\n",
        "}\n",
        "\n",
        "# search params with gridsearch\n",
        "gs = GridSearchCV(pipe, parameters)\n",
        "gs.fit(X_train, Y_train)"
      ]
    },
    {
      "cell_type": "code",
      "execution_count": 160,
      "metadata": {},
      "outputs": [
        {
          "name": "stdout",
          "output_type": "stream",
          "text": [
            "0.7123287671232876\n",
            "{}\n",
            "[0.77785844]\n"
          ]
        }
      ],
      "source": [
        "# Show best score and params\n",
        "print(gs.score(X_val, Y_val))\n",
        "print(gs.best_params_)\n",
        "print(gs.cv_results_[\"mean_test_score\"])"
      ]
    },
    {
      "cell_type": "markdown",
      "metadata": {},
      "source": [
        "### Linear SVM"
      ]
    },
    {
      "cell_type": "code",
      "execution_count": 171,
      "metadata": {},
      "outputs": [],
      "source": [
        "# make pipeline\n",
        "pipe = Pipeline(\n",
        "    [(\"Vectorizer\",TfidfVectorizer(\n",
        "        stop_words=stop_words,\n",
        "        token_pattern=r\"(?u)\\b[a-z][a-z]+\\b\",\n",
        "        ngram_range=(1, 2),\n",
        "        max_df=0.1,\n",
        "        min_df=1,\n",
        "        max_features=10000,\n",
        "    )),\n",
        "    (\"Classifier\", svm.LinearSVC(dual=True, C=3, random_state=0)),]\n",
        ")"
      ]
    },
    {
      "cell_type": "code",
      "execution_count": 172,
      "metadata": {},
      "outputs": [
        {
          "name": "stderr",
          "output_type": "stream",
          "text": [
            "c:\\Users\\Xylos\\AppData\\Local\\Programs\\Python\\Python311\\Lib\\site-packages\\sklearn\\feature_extraction\\text.py:408: UserWarning: Your stop_words may be inconsistent with your preprocessing. Tokenizing the stop words generated tokens ['neuf', 'quelqu'] not in stop_words.\n",
            "  warnings.warn(\n",
            "c:\\Users\\Xylos\\AppData\\Local\\Programs\\Python\\Python311\\Lib\\site-packages\\sklearn\\feature_extraction\\text.py:408: UserWarning: Your stop_words may be inconsistent with your preprocessing. Tokenizing the stop words generated tokens ['neuf', 'quelqu'] not in stop_words.\n",
            "  warnings.warn(\n",
            "c:\\Users\\Xylos\\AppData\\Local\\Programs\\Python\\Python311\\Lib\\site-packages\\sklearn\\feature_extraction\\text.py:408: UserWarning: Your stop_words may be inconsistent with your preprocessing. Tokenizing the stop words generated tokens ['neuf', 'quelqu'] not in stop_words.\n",
            "  warnings.warn(\n",
            "c:\\Users\\Xylos\\AppData\\Local\\Programs\\Python\\Python311\\Lib\\site-packages\\sklearn\\feature_extraction\\text.py:408: UserWarning: Your stop_words may be inconsistent with your preprocessing. Tokenizing the stop words generated tokens ['neuf', 'quelqu'] not in stop_words.\n",
            "  warnings.warn(\n",
            "c:\\Users\\Xylos\\AppData\\Local\\Programs\\Python\\Python311\\Lib\\site-packages\\sklearn\\feature_extraction\\text.py:408: UserWarning: Your stop_words may be inconsistent with your preprocessing. Tokenizing the stop words generated tokens ['neuf', 'quelqu'] not in stop_words.\n",
            "  warnings.warn(\n",
            "c:\\Users\\Xylos\\AppData\\Local\\Programs\\Python\\Python311\\Lib\\site-packages\\sklearn\\feature_extraction\\text.py:408: UserWarning: Your stop_words may be inconsistent with your preprocessing. Tokenizing the stop words generated tokens ['neuf', 'quelqu'] not in stop_words.\n",
            "  warnings.warn(\n"
          ]
        },
        {
          "data": {
            "text/html": [
              "<style>#sk-container-id-52 {color: black;}#sk-container-id-52 pre{padding: 0;}#sk-container-id-52 div.sk-toggleable {background-color: white;}#sk-container-id-52 label.sk-toggleable__label {cursor: pointer;display: block;width: 100%;margin-bottom: 0;padding: 0.3em;box-sizing: border-box;text-align: center;}#sk-container-id-52 label.sk-toggleable__label-arrow:before {content: \"▸\";float: left;margin-right: 0.25em;color: #696969;}#sk-container-id-52 label.sk-toggleable__label-arrow:hover:before {color: black;}#sk-container-id-52 div.sk-estimator:hover label.sk-toggleable__label-arrow:before {color: black;}#sk-container-id-52 div.sk-toggleable__content {max-height: 0;max-width: 0;overflow: hidden;text-align: left;background-color: #f0f8ff;}#sk-container-id-52 div.sk-toggleable__content pre {margin: 0.2em;color: black;border-radius: 0.25em;background-color: #f0f8ff;}#sk-container-id-52 input.sk-toggleable__control:checked~div.sk-toggleable__content {max-height: 200px;max-width: 100%;overflow: auto;}#sk-container-id-52 input.sk-toggleable__control:checked~label.sk-toggleable__label-arrow:before {content: \"▾\";}#sk-container-id-52 div.sk-estimator input.sk-toggleable__control:checked~label.sk-toggleable__label {background-color: #d4ebff;}#sk-container-id-52 div.sk-label input.sk-toggleable__control:checked~label.sk-toggleable__label {background-color: #d4ebff;}#sk-container-id-52 input.sk-hidden--visually {border: 0;clip: rect(1px 1px 1px 1px);clip: rect(1px, 1px, 1px, 1px);height: 1px;margin: -1px;overflow: hidden;padding: 0;position: absolute;width: 1px;}#sk-container-id-52 div.sk-estimator {font-family: monospace;background-color: #f0f8ff;border: 1px dotted black;border-radius: 0.25em;box-sizing: border-box;margin-bottom: 0.5em;}#sk-container-id-52 div.sk-estimator:hover {background-color: #d4ebff;}#sk-container-id-52 div.sk-parallel-item::after {content: \"\";width: 100%;border-bottom: 1px solid gray;flex-grow: 1;}#sk-container-id-52 div.sk-label:hover label.sk-toggleable__label {background-color: #d4ebff;}#sk-container-id-52 div.sk-serial::before {content: \"\";position: absolute;border-left: 1px solid gray;box-sizing: border-box;top: 0;bottom: 0;left: 50%;z-index: 0;}#sk-container-id-52 div.sk-serial {display: flex;flex-direction: column;align-items: center;background-color: white;padding-right: 0.2em;padding-left: 0.2em;position: relative;}#sk-container-id-52 div.sk-item {position: relative;z-index: 1;}#sk-container-id-52 div.sk-parallel {display: flex;align-items: stretch;justify-content: center;background-color: white;position: relative;}#sk-container-id-52 div.sk-item::before, #sk-container-id-52 div.sk-parallel-item::before {content: \"\";position: absolute;border-left: 1px solid gray;box-sizing: border-box;top: 0;bottom: 0;left: 50%;z-index: -1;}#sk-container-id-52 div.sk-parallel-item {display: flex;flex-direction: column;z-index: 1;position: relative;background-color: white;}#sk-container-id-52 div.sk-parallel-item:first-child::after {align-self: flex-end;width: 50%;}#sk-container-id-52 div.sk-parallel-item:last-child::after {align-self: flex-start;width: 50%;}#sk-container-id-52 div.sk-parallel-item:only-child::after {width: 0;}#sk-container-id-52 div.sk-dashed-wrapped {border: 1px dashed gray;margin: 0 0.4em 0.5em 0.4em;box-sizing: border-box;padding-bottom: 0.4em;background-color: white;}#sk-container-id-52 div.sk-label label {font-family: monospace;font-weight: bold;display: inline-block;line-height: 1.2em;}#sk-container-id-52 div.sk-label-container {text-align: center;}#sk-container-id-52 div.sk-container {/* jupyter's `normalize.less` sets `[hidden] { display: none; }` but bootstrap.min.css set `[hidden] { display: none !important; }` so we also need the `!important` here to be able to override the default hidden behavior on the sphinx rendered scikit-learn.org. See: https://github.com/scikit-learn/scikit-learn/issues/21755 */display: inline-block !important;position: relative;}#sk-container-id-52 div.sk-text-repr-fallback {display: none;}</style><div id=\"sk-container-id-52\" class=\"sk-top-container\"><div class=\"sk-text-repr-fallback\"><pre>GridSearchCV(estimator=Pipeline(steps=[(&#x27;Vectorizer&#x27;,\n",
              "                                        TfidfVectorizer(max_df=0.1,\n",
              "                                                        max_features=10000,\n",
              "                                                        ngram_range=(1, 2),\n",
              "                                                        stop_words=[&#x27;ainsi&#x27;,\n",
              "                                                                    &#x27;egalement&#x27;,\n",
              "                                                                    &quot;&#x27;re&quot;,\n",
              "                                                                    &quot;you&#x27;ve&quot;,\n",
              "                                                                    &#x27;serai&#x27;,\n",
              "                                                                    &#x27;empty&#x27;,\n",
              "                                                                    &#x27;eurent&#x27;,\n",
              "                                                                    &#x27;again&#x27;,\n",
              "                                                                    &#x27;around&#x27;,\n",
              "                                                                    &#x27;dit&#x27;,\n",
              "                                                                    &#x27;pense&#x27;,\n",
              "                                                                    &#x27;toujours&#x27;,\n",
              "                                                                    &#x27;its&#x27;,\n",
              "                                                                    &#x27;certain&#x27;,\n",
              "                                                                    &#x27;avons&#x27;,\n",
              "                                                                    &#x27;often&#x27;,\n",
              "                                                                    &#x27;else&#x27;,\n",
              "                                                                    &#x27;then&#x27;,\n",
              "                                                                    &#x27;hereby&#x27;,\n",
              "                                                                    &#x27;quatrième&#x27;,\n",
              "                                                                    &#x27;within&#x27;,\n",
              "                                                                    &#x27;antérieure&#x27;,\n",
              "                                                                    &#x27;yourself&#x27;,\n",
              "                                                                    &#x27;http&#x27;,\n",
              "                                                                    &#x27;suivantes&#x27;,\n",
              "                                                                    &#x27;’s&#x27;,\n",
              "                                                                    &#x27;with&#x27;,\n",
              "                                                                    &#x27;side&#x27;,\n",
              "                                                                    &#x27;was&#x27;,\n",
              "                                                                    &#x27;theirs&#x27;, ...],\n",
              "                                                        token_pattern=&#x27;(?u)\\\\b[a-z][a-z]+\\\\b&#x27;)),\n",
              "                                       (&#x27;Classifier&#x27;,\n",
              "                                        LinearSVC(C=3, dual=True,\n",
              "                                                  random_state=0))]),\n",
              "             param_grid={})</pre><b>In a Jupyter environment, please rerun this cell to show the HTML representation or trust the notebook. <br />On GitHub, the HTML representation is unable to render, please try loading this page with nbviewer.org.</b></div><div class=\"sk-container\" hidden><div class=\"sk-item sk-dashed-wrapped\"><div class=\"sk-label-container\"><div class=\"sk-label sk-toggleable\"><input class=\"sk-toggleable__control sk-hidden--visually\" id=\"sk-estimator-id-205\" type=\"checkbox\" ><label for=\"sk-estimator-id-205\" class=\"sk-toggleable__label sk-toggleable__label-arrow\">GridSearchCV</label><div class=\"sk-toggleable__content\"><pre>GridSearchCV(estimator=Pipeline(steps=[(&#x27;Vectorizer&#x27;,\n",
              "                                        TfidfVectorizer(max_df=0.1,\n",
              "                                                        max_features=10000,\n",
              "                                                        ngram_range=(1, 2),\n",
              "                                                        stop_words=[&#x27;ainsi&#x27;,\n",
              "                                                                    &#x27;egalement&#x27;,\n",
              "                                                                    &quot;&#x27;re&quot;,\n",
              "                                                                    &quot;you&#x27;ve&quot;,\n",
              "                                                                    &#x27;serai&#x27;,\n",
              "                                                                    &#x27;empty&#x27;,\n",
              "                                                                    &#x27;eurent&#x27;,\n",
              "                                                                    &#x27;again&#x27;,\n",
              "                                                                    &#x27;around&#x27;,\n",
              "                                                                    &#x27;dit&#x27;,\n",
              "                                                                    &#x27;pense&#x27;,\n",
              "                                                                    &#x27;toujours&#x27;,\n",
              "                                                                    &#x27;its&#x27;,\n",
              "                                                                    &#x27;certain&#x27;,\n",
              "                                                                    &#x27;avons&#x27;,\n",
              "                                                                    &#x27;often&#x27;,\n",
              "                                                                    &#x27;else&#x27;,\n",
              "                                                                    &#x27;then&#x27;,\n",
              "                                                                    &#x27;hereby&#x27;,\n",
              "                                                                    &#x27;quatrième&#x27;,\n",
              "                                                                    &#x27;within&#x27;,\n",
              "                                                                    &#x27;antérieure&#x27;,\n",
              "                                                                    &#x27;yourself&#x27;,\n",
              "                                                                    &#x27;http&#x27;,\n",
              "                                                                    &#x27;suivantes&#x27;,\n",
              "                                                                    &#x27;’s&#x27;,\n",
              "                                                                    &#x27;with&#x27;,\n",
              "                                                                    &#x27;side&#x27;,\n",
              "                                                                    &#x27;was&#x27;,\n",
              "                                                                    &#x27;theirs&#x27;, ...],\n",
              "                                                        token_pattern=&#x27;(?u)\\\\b[a-z][a-z]+\\\\b&#x27;)),\n",
              "                                       (&#x27;Classifier&#x27;,\n",
              "                                        LinearSVC(C=3, dual=True,\n",
              "                                                  random_state=0))]),\n",
              "             param_grid={})</pre></div></div></div><div class=\"sk-parallel\"><div class=\"sk-parallel-item\"><div class=\"sk-item\"><div class=\"sk-label-container\"><div class=\"sk-label sk-toggleable\"><input class=\"sk-toggleable__control sk-hidden--visually\" id=\"sk-estimator-id-206\" type=\"checkbox\" ><label for=\"sk-estimator-id-206\" class=\"sk-toggleable__label sk-toggleable__label-arrow\">estimator: Pipeline</label><div class=\"sk-toggleable__content\"><pre>Pipeline(steps=[(&#x27;Vectorizer&#x27;,\n",
              "                 TfidfVectorizer(max_df=0.1, max_features=10000,\n",
              "                                 ngram_range=(1, 2),\n",
              "                                 stop_words=[&#x27;ainsi&#x27;, &#x27;egalement&#x27;, &quot;&#x27;re&quot;,\n",
              "                                             &quot;you&#x27;ve&quot;, &#x27;serai&#x27;, &#x27;empty&#x27;,\n",
              "                                             &#x27;eurent&#x27;, &#x27;again&#x27;, &#x27;around&#x27;, &#x27;dit&#x27;,\n",
              "                                             &#x27;pense&#x27;, &#x27;toujours&#x27;, &#x27;its&#x27;,\n",
              "                                             &#x27;certain&#x27;, &#x27;avons&#x27;, &#x27;often&#x27;,\n",
              "                                             &#x27;else&#x27;, &#x27;then&#x27;, &#x27;hereby&#x27;,\n",
              "                                             &#x27;quatrième&#x27;, &#x27;within&#x27;,\n",
              "                                             &#x27;antérieure&#x27;, &#x27;yourself&#x27;, &#x27;http&#x27;,\n",
              "                                             &#x27;suivantes&#x27;, &#x27;’s&#x27;, &#x27;with&#x27;, &#x27;side&#x27;,\n",
              "                                             &#x27;was&#x27;, &#x27;theirs&#x27;, ...],\n",
              "                                 token_pattern=&#x27;(?u)\\\\b[a-z][a-z]+\\\\b&#x27;)),\n",
              "                (&#x27;Classifier&#x27;, LinearSVC(C=3, dual=True, random_state=0))])</pre></div></div></div><div class=\"sk-serial\"><div class=\"sk-item\"><div class=\"sk-serial\"><div class=\"sk-item\"><div class=\"sk-estimator sk-toggleable\"><input class=\"sk-toggleable__control sk-hidden--visually\" id=\"sk-estimator-id-207\" type=\"checkbox\" ><label for=\"sk-estimator-id-207\" class=\"sk-toggleable__label sk-toggleable__label-arrow\">TfidfVectorizer</label><div class=\"sk-toggleable__content\"><pre>TfidfVectorizer(max_df=0.1, max_features=10000, ngram_range=(1, 2),\n",
              "                stop_words=[&#x27;ainsi&#x27;, &#x27;egalement&#x27;, &quot;&#x27;re&quot;, &quot;you&#x27;ve&quot;, &#x27;serai&#x27;,\n",
              "                            &#x27;empty&#x27;, &#x27;eurent&#x27;, &#x27;again&#x27;, &#x27;around&#x27;, &#x27;dit&#x27;,\n",
              "                            &#x27;pense&#x27;, &#x27;toujours&#x27;, &#x27;its&#x27;, &#x27;certain&#x27;, &#x27;avons&#x27;,\n",
              "                            &#x27;often&#x27;, &#x27;else&#x27;, &#x27;then&#x27;, &#x27;hereby&#x27;, &#x27;quatrième&#x27;,\n",
              "                            &#x27;within&#x27;, &#x27;antérieure&#x27;, &#x27;yourself&#x27;, &#x27;http&#x27;,\n",
              "                            &#x27;suivantes&#x27;, &#x27;’s&#x27;, &#x27;with&#x27;, &#x27;side&#x27;, &#x27;was&#x27;, &#x27;theirs&#x27;, ...],\n",
              "                token_pattern=&#x27;(?u)\\\\b[a-z][a-z]+\\\\b&#x27;)</pre></div></div></div><div class=\"sk-item\"><div class=\"sk-estimator sk-toggleable\"><input class=\"sk-toggleable__control sk-hidden--visually\" id=\"sk-estimator-id-208\" type=\"checkbox\" ><label for=\"sk-estimator-id-208\" class=\"sk-toggleable__label sk-toggleable__label-arrow\">LinearSVC</label><div class=\"sk-toggleable__content\"><pre>LinearSVC(C=3, dual=True, random_state=0)</pre></div></div></div></div></div></div></div></div></div></div></div></div>"
            ],
            "text/plain": [
              "GridSearchCV(estimator=Pipeline(steps=[('Vectorizer',\n",
              "                                        TfidfVectorizer(max_df=0.1,\n",
              "                                                        max_features=10000,\n",
              "                                                        ngram_range=(1, 2),\n",
              "                                                        stop_words=['ainsi',\n",
              "                                                                    'egalement',\n",
              "                                                                    \"'re\",\n",
              "                                                                    \"you've\",\n",
              "                                                                    'serai',\n",
              "                                                                    'empty',\n",
              "                                                                    'eurent',\n",
              "                                                                    'again',\n",
              "                                                                    'around',\n",
              "                                                                    'dit',\n",
              "                                                                    'pense',\n",
              "                                                                    'toujours',\n",
              "                                                                    'its',\n",
              "                                                                    'certain',\n",
              "                                                                    'avons',\n",
              "                                                                    'often',\n",
              "                                                                    'else',\n",
              "                                                                    'then',\n",
              "                                                                    'hereby',\n",
              "                                                                    'quatrième',\n",
              "                                                                    'within',\n",
              "                                                                    'antérieure',\n",
              "                                                                    'yourself',\n",
              "                                                                    'http',\n",
              "                                                                    'suivantes',\n",
              "                                                                    '’s',\n",
              "                                                                    'with',\n",
              "                                                                    'side',\n",
              "                                                                    'was',\n",
              "                                                                    'theirs', ...],\n",
              "                                                        token_pattern='(?u)\\\\b[a-z][a-z]+\\\\b')),\n",
              "                                       ('Classifier',\n",
              "                                        LinearSVC(C=3, dual=True,\n",
              "                                                  random_state=0))]),\n",
              "             param_grid={})"
            ]
          },
          "execution_count": 172,
          "metadata": {},
          "output_type": "execute_result"
        }
      ],
      "source": [
        "# best params from small multi param searches\n",
        "# {\n",
        "#     \"Vectorizer__ngram_range\": (1, 2),\n",
        "#     \"Vectorizer__max_df\": 0.1,\n",
        "#     \"Vectorizer__min_df\": 1,\n",
        "#     \"Vectorizer_max_features\": 10000,\n",
        "#     \"Classifier_dual\": True,\n",
        "#     \"Classifier__C\": 3,\n",
        "#     \"Classifier_tol\": 1e-4,\n",
        "# }\n",
        "\n",
        "# 70% accuracy\n",
        "\n",
        "parameters = {\n",
        "    # \"Vectorizer__ngram_range\": ((1,1), (1,2), (1,3), (1,4)),\n",
        "    # \"Vectorizer__max_df\": (0.1, 0.2, 0.9, 1.0),\n",
        "    # \"Vectorizer__min_df\": (1, 2, 5, 10),\n",
        "    # \"Vectorizer__max_features\": (3000, 5000, 7000, 9000, 10000, 20000),\n",
        "    # \"Classifier__dual\": (True, False),\n",
        "    # \"Classifier__C\": (0.4, 0.5, 0.6, 1, 3, 5),\n",
        "    # \"Classifier__tol\": (1e-3, 1e-4, 1e-5),\n",
        "}\n",
        "\n",
        "# search params with gridsearch\n",
        "gs = GridSearchCV(pipe, parameters)\n",
        "gs.fit(X_train, Y_train)"
      ]
    },
    {
      "cell_type": "code",
      "execution_count": 173,
      "metadata": {},
      "outputs": [
        {
          "name": "stdout",
          "output_type": "stream",
          "text": [
            "0.7035714285714286\n",
            "{}\n",
            "[0.70594971]\n"
          ]
        }
      ],
      "source": [
        "# Show best score and params\n",
        "print(gs.score(X_val, Y_val))\n",
        "print(gs.best_params_)\n",
        "print(gs.cv_results_[\"mean_test_score\"])"
      ]
    },
    {
      "cell_type": "markdown",
      "metadata": {},
      "source": [
        "### SVC"
      ]
    },
    {
      "cell_type": "code",
      "execution_count": 164,
      "metadata": {},
      "outputs": [],
      "source": [
        "# make pipeline\n",
        "pipe = Pipeline(\n",
        "    [(\"Vectorizer\",TfidfVectorizer(\n",
        "        stop_words=stop_words,\n",
        "        token_pattern=r\"(?u)\\b[a-z][a-z]+\\b\",\n",
        "        ngram_range=(1, 2),\n",
        "        max_df=0.1,\n",
        "        min_df=1,\n",
        "        max_features=20000,\n",
        "    )),\n",
        "    (\"Classifier\", svm.SVC(C=3, kernel=\"sigmoid\", tol=1e-3, decision_function_shape=\"ovr\", random_state=0))]\n",
        ")"
      ]
    },
    {
      "cell_type": "code",
      "execution_count": 165,
      "metadata": {},
      "outputs": [
        {
          "name": "stderr",
          "output_type": "stream",
          "text": [
            "c:\\Users\\Xylos\\AppData\\Local\\Programs\\Python\\Python311\\Lib\\site-packages\\sklearn\\model_selection\\_split.py:737: UserWarning: The least populated class in y has only 1 members, which is less than n_splits=5.\n",
            "  warnings.warn(\n",
            "c:\\Users\\Xylos\\AppData\\Local\\Programs\\Python\\Python311\\Lib\\site-packages\\sklearn\\feature_extraction\\text.py:408: UserWarning: Your stop_words may be inconsistent with your preprocessing. Tokenizing the stop words generated tokens ['neuf', 'quelqu'] not in stop_words.\n",
            "  warnings.warn(\n",
            "c:\\Users\\Xylos\\AppData\\Local\\Programs\\Python\\Python311\\Lib\\site-packages\\sklearn\\feature_extraction\\text.py:408: UserWarning: Your stop_words may be inconsistent with your preprocessing. Tokenizing the stop words generated tokens ['neuf', 'quelqu'] not in stop_words.\n",
            "  warnings.warn(\n",
            "c:\\Users\\Xylos\\AppData\\Local\\Programs\\Python\\Python311\\Lib\\site-packages\\sklearn\\feature_extraction\\text.py:408: UserWarning: Your stop_words may be inconsistent with your preprocessing. Tokenizing the stop words generated tokens ['neuf', 'quelqu'] not in stop_words.\n",
            "  warnings.warn(\n",
            "c:\\Users\\Xylos\\AppData\\Local\\Programs\\Python\\Python311\\Lib\\site-packages\\sklearn\\feature_extraction\\text.py:408: UserWarning: Your stop_words may be inconsistent with your preprocessing. Tokenizing the stop words generated tokens ['neuf', 'quelqu'] not in stop_words.\n",
            "  warnings.warn(\n",
            "c:\\Users\\Xylos\\AppData\\Local\\Programs\\Python\\Python311\\Lib\\site-packages\\sklearn\\feature_extraction\\text.py:408: UserWarning: Your stop_words may be inconsistent with your preprocessing. Tokenizing the stop words generated tokens ['neuf', 'quelqu'] not in stop_words.\n",
            "  warnings.warn(\n",
            "c:\\Users\\Xylos\\AppData\\Local\\Programs\\Python\\Python311\\Lib\\site-packages\\sklearn\\feature_extraction\\text.py:408: UserWarning: Your stop_words may be inconsistent with your preprocessing. Tokenizing the stop words generated tokens ['neuf', 'quelqu'] not in stop_words.\n",
            "  warnings.warn(\n"
          ]
        },
        {
          "data": {
            "text/html": [
              "<style>#sk-container-id-50 {color: black;}#sk-container-id-50 pre{padding: 0;}#sk-container-id-50 div.sk-toggleable {background-color: white;}#sk-container-id-50 label.sk-toggleable__label {cursor: pointer;display: block;width: 100%;margin-bottom: 0;padding: 0.3em;box-sizing: border-box;text-align: center;}#sk-container-id-50 label.sk-toggleable__label-arrow:before {content: \"▸\";float: left;margin-right: 0.25em;color: #696969;}#sk-container-id-50 label.sk-toggleable__label-arrow:hover:before {color: black;}#sk-container-id-50 div.sk-estimator:hover label.sk-toggleable__label-arrow:before {color: black;}#sk-container-id-50 div.sk-toggleable__content {max-height: 0;max-width: 0;overflow: hidden;text-align: left;background-color: #f0f8ff;}#sk-container-id-50 div.sk-toggleable__content pre {margin: 0.2em;color: black;border-radius: 0.25em;background-color: #f0f8ff;}#sk-container-id-50 input.sk-toggleable__control:checked~div.sk-toggleable__content {max-height: 200px;max-width: 100%;overflow: auto;}#sk-container-id-50 input.sk-toggleable__control:checked~label.sk-toggleable__label-arrow:before {content: \"▾\";}#sk-container-id-50 div.sk-estimator input.sk-toggleable__control:checked~label.sk-toggleable__label {background-color: #d4ebff;}#sk-container-id-50 div.sk-label input.sk-toggleable__control:checked~label.sk-toggleable__label {background-color: #d4ebff;}#sk-container-id-50 input.sk-hidden--visually {border: 0;clip: rect(1px 1px 1px 1px);clip: rect(1px, 1px, 1px, 1px);height: 1px;margin: -1px;overflow: hidden;padding: 0;position: absolute;width: 1px;}#sk-container-id-50 div.sk-estimator {font-family: monospace;background-color: #f0f8ff;border: 1px dotted black;border-radius: 0.25em;box-sizing: border-box;margin-bottom: 0.5em;}#sk-container-id-50 div.sk-estimator:hover {background-color: #d4ebff;}#sk-container-id-50 div.sk-parallel-item::after {content: \"\";width: 100%;border-bottom: 1px solid gray;flex-grow: 1;}#sk-container-id-50 div.sk-label:hover label.sk-toggleable__label {background-color: #d4ebff;}#sk-container-id-50 div.sk-serial::before {content: \"\";position: absolute;border-left: 1px solid gray;box-sizing: border-box;top: 0;bottom: 0;left: 50%;z-index: 0;}#sk-container-id-50 div.sk-serial {display: flex;flex-direction: column;align-items: center;background-color: white;padding-right: 0.2em;padding-left: 0.2em;position: relative;}#sk-container-id-50 div.sk-item {position: relative;z-index: 1;}#sk-container-id-50 div.sk-parallel {display: flex;align-items: stretch;justify-content: center;background-color: white;position: relative;}#sk-container-id-50 div.sk-item::before, #sk-container-id-50 div.sk-parallel-item::before {content: \"\";position: absolute;border-left: 1px solid gray;box-sizing: border-box;top: 0;bottom: 0;left: 50%;z-index: -1;}#sk-container-id-50 div.sk-parallel-item {display: flex;flex-direction: column;z-index: 1;position: relative;background-color: white;}#sk-container-id-50 div.sk-parallel-item:first-child::after {align-self: flex-end;width: 50%;}#sk-container-id-50 div.sk-parallel-item:last-child::after {align-self: flex-start;width: 50%;}#sk-container-id-50 div.sk-parallel-item:only-child::after {width: 0;}#sk-container-id-50 div.sk-dashed-wrapped {border: 1px dashed gray;margin: 0 0.4em 0.5em 0.4em;box-sizing: border-box;padding-bottom: 0.4em;background-color: white;}#sk-container-id-50 div.sk-label label {font-family: monospace;font-weight: bold;display: inline-block;line-height: 1.2em;}#sk-container-id-50 div.sk-label-container {text-align: center;}#sk-container-id-50 div.sk-container {/* jupyter's `normalize.less` sets `[hidden] { display: none; }` but bootstrap.min.css set `[hidden] { display: none !important; }` so we also need the `!important` here to be able to override the default hidden behavior on the sphinx rendered scikit-learn.org. See: https://github.com/scikit-learn/scikit-learn/issues/21755 */display: inline-block !important;position: relative;}#sk-container-id-50 div.sk-text-repr-fallback {display: none;}</style><div id=\"sk-container-id-50\" class=\"sk-top-container\"><div class=\"sk-text-repr-fallback\"><pre>GridSearchCV(estimator=Pipeline(steps=[(&#x27;Vectorizer&#x27;,\n",
              "                                        TfidfVectorizer(max_df=0.1,\n",
              "                                                        max_features=20000,\n",
              "                                                        ngram_range=(1, 2),\n",
              "                                                        stop_words=[&#x27;ainsi&#x27;,\n",
              "                                                                    &#x27;egalement&#x27;,\n",
              "                                                                    &quot;&#x27;re&quot;,\n",
              "                                                                    &quot;you&#x27;ve&quot;,\n",
              "                                                                    &#x27;serai&#x27;,\n",
              "                                                                    &#x27;empty&#x27;,\n",
              "                                                                    &#x27;eurent&#x27;,\n",
              "                                                                    &#x27;again&#x27;,\n",
              "                                                                    &#x27;around&#x27;,\n",
              "                                                                    &#x27;dit&#x27;,\n",
              "                                                                    &#x27;pense&#x27;,\n",
              "                                                                    &#x27;toujours&#x27;,\n",
              "                                                                    &#x27;its&#x27;,\n",
              "                                                                    &#x27;certain&#x27;,\n",
              "                                                                    &#x27;avons&#x27;,\n",
              "                                                                    &#x27;often&#x27;,\n",
              "                                                                    &#x27;else&#x27;,\n",
              "                                                                    &#x27;then&#x27;,\n",
              "                                                                    &#x27;hereby&#x27;,\n",
              "                                                                    &#x27;quatrième&#x27;,\n",
              "                                                                    &#x27;within&#x27;,\n",
              "                                                                    &#x27;antérieure&#x27;,\n",
              "                                                                    &#x27;yourself&#x27;,\n",
              "                                                                    &#x27;http&#x27;,\n",
              "                                                                    &#x27;suivantes&#x27;,\n",
              "                                                                    &#x27;’s&#x27;,\n",
              "                                                                    &#x27;with&#x27;,\n",
              "                                                                    &#x27;side&#x27;,\n",
              "                                                                    &#x27;was&#x27;,\n",
              "                                                                    &#x27;theirs&#x27;, ...],\n",
              "                                                        token_pattern=&#x27;(?u)\\\\b[a-z][a-z]+\\\\b&#x27;)),\n",
              "                                       (&#x27;Classifier&#x27;,\n",
              "                                        SVC(C=3, kernel=&#x27;sigmoid&#x27;,\n",
              "                                            random_state=0))]),\n",
              "             param_grid={})</pre><b>In a Jupyter environment, please rerun this cell to show the HTML representation or trust the notebook. <br />On GitHub, the HTML representation is unable to render, please try loading this page with nbviewer.org.</b></div><div class=\"sk-container\" hidden><div class=\"sk-item sk-dashed-wrapped\"><div class=\"sk-label-container\"><div class=\"sk-label sk-toggleable\"><input class=\"sk-toggleable__control sk-hidden--visually\" id=\"sk-estimator-id-197\" type=\"checkbox\" ><label for=\"sk-estimator-id-197\" class=\"sk-toggleable__label sk-toggleable__label-arrow\">GridSearchCV</label><div class=\"sk-toggleable__content\"><pre>GridSearchCV(estimator=Pipeline(steps=[(&#x27;Vectorizer&#x27;,\n",
              "                                        TfidfVectorizer(max_df=0.1,\n",
              "                                                        max_features=20000,\n",
              "                                                        ngram_range=(1, 2),\n",
              "                                                        stop_words=[&#x27;ainsi&#x27;,\n",
              "                                                                    &#x27;egalement&#x27;,\n",
              "                                                                    &quot;&#x27;re&quot;,\n",
              "                                                                    &quot;you&#x27;ve&quot;,\n",
              "                                                                    &#x27;serai&#x27;,\n",
              "                                                                    &#x27;empty&#x27;,\n",
              "                                                                    &#x27;eurent&#x27;,\n",
              "                                                                    &#x27;again&#x27;,\n",
              "                                                                    &#x27;around&#x27;,\n",
              "                                                                    &#x27;dit&#x27;,\n",
              "                                                                    &#x27;pense&#x27;,\n",
              "                                                                    &#x27;toujours&#x27;,\n",
              "                                                                    &#x27;its&#x27;,\n",
              "                                                                    &#x27;certain&#x27;,\n",
              "                                                                    &#x27;avons&#x27;,\n",
              "                                                                    &#x27;often&#x27;,\n",
              "                                                                    &#x27;else&#x27;,\n",
              "                                                                    &#x27;then&#x27;,\n",
              "                                                                    &#x27;hereby&#x27;,\n",
              "                                                                    &#x27;quatrième&#x27;,\n",
              "                                                                    &#x27;within&#x27;,\n",
              "                                                                    &#x27;antérieure&#x27;,\n",
              "                                                                    &#x27;yourself&#x27;,\n",
              "                                                                    &#x27;http&#x27;,\n",
              "                                                                    &#x27;suivantes&#x27;,\n",
              "                                                                    &#x27;’s&#x27;,\n",
              "                                                                    &#x27;with&#x27;,\n",
              "                                                                    &#x27;side&#x27;,\n",
              "                                                                    &#x27;was&#x27;,\n",
              "                                                                    &#x27;theirs&#x27;, ...],\n",
              "                                                        token_pattern=&#x27;(?u)\\\\b[a-z][a-z]+\\\\b&#x27;)),\n",
              "                                       (&#x27;Classifier&#x27;,\n",
              "                                        SVC(C=3, kernel=&#x27;sigmoid&#x27;,\n",
              "                                            random_state=0))]),\n",
              "             param_grid={})</pre></div></div></div><div class=\"sk-parallel\"><div class=\"sk-parallel-item\"><div class=\"sk-item\"><div class=\"sk-label-container\"><div class=\"sk-label sk-toggleable\"><input class=\"sk-toggleable__control sk-hidden--visually\" id=\"sk-estimator-id-198\" type=\"checkbox\" ><label for=\"sk-estimator-id-198\" class=\"sk-toggleable__label sk-toggleable__label-arrow\">estimator: Pipeline</label><div class=\"sk-toggleable__content\"><pre>Pipeline(steps=[(&#x27;Vectorizer&#x27;,\n",
              "                 TfidfVectorizer(max_df=0.1, max_features=20000,\n",
              "                                 ngram_range=(1, 2),\n",
              "                                 stop_words=[&#x27;ainsi&#x27;, &#x27;egalement&#x27;, &quot;&#x27;re&quot;,\n",
              "                                             &quot;you&#x27;ve&quot;, &#x27;serai&#x27;, &#x27;empty&#x27;,\n",
              "                                             &#x27;eurent&#x27;, &#x27;again&#x27;, &#x27;around&#x27;, &#x27;dit&#x27;,\n",
              "                                             &#x27;pense&#x27;, &#x27;toujours&#x27;, &#x27;its&#x27;,\n",
              "                                             &#x27;certain&#x27;, &#x27;avons&#x27;, &#x27;often&#x27;,\n",
              "                                             &#x27;else&#x27;, &#x27;then&#x27;, &#x27;hereby&#x27;,\n",
              "                                             &#x27;quatrième&#x27;, &#x27;within&#x27;,\n",
              "                                             &#x27;antérieure&#x27;, &#x27;yourself&#x27;, &#x27;http&#x27;,\n",
              "                                             &#x27;suivantes&#x27;, &#x27;’s&#x27;, &#x27;with&#x27;, &#x27;side&#x27;,\n",
              "                                             &#x27;was&#x27;, &#x27;theirs&#x27;, ...],\n",
              "                                 token_pattern=&#x27;(?u)\\\\b[a-z][a-z]+\\\\b&#x27;)),\n",
              "                (&#x27;Classifier&#x27;, SVC(C=3, kernel=&#x27;sigmoid&#x27;, random_state=0))])</pre></div></div></div><div class=\"sk-serial\"><div class=\"sk-item\"><div class=\"sk-serial\"><div class=\"sk-item\"><div class=\"sk-estimator sk-toggleable\"><input class=\"sk-toggleable__control sk-hidden--visually\" id=\"sk-estimator-id-199\" type=\"checkbox\" ><label for=\"sk-estimator-id-199\" class=\"sk-toggleable__label sk-toggleable__label-arrow\">TfidfVectorizer</label><div class=\"sk-toggleable__content\"><pre>TfidfVectorizer(max_df=0.1, max_features=20000, ngram_range=(1, 2),\n",
              "                stop_words=[&#x27;ainsi&#x27;, &#x27;egalement&#x27;, &quot;&#x27;re&quot;, &quot;you&#x27;ve&quot;, &#x27;serai&#x27;,\n",
              "                            &#x27;empty&#x27;, &#x27;eurent&#x27;, &#x27;again&#x27;, &#x27;around&#x27;, &#x27;dit&#x27;,\n",
              "                            &#x27;pense&#x27;, &#x27;toujours&#x27;, &#x27;its&#x27;, &#x27;certain&#x27;, &#x27;avons&#x27;,\n",
              "                            &#x27;often&#x27;, &#x27;else&#x27;, &#x27;then&#x27;, &#x27;hereby&#x27;, &#x27;quatrième&#x27;,\n",
              "                            &#x27;within&#x27;, &#x27;antérieure&#x27;, &#x27;yourself&#x27;, &#x27;http&#x27;,\n",
              "                            &#x27;suivantes&#x27;, &#x27;’s&#x27;, &#x27;with&#x27;, &#x27;side&#x27;, &#x27;was&#x27;, &#x27;theirs&#x27;, ...],\n",
              "                token_pattern=&#x27;(?u)\\\\b[a-z][a-z]+\\\\b&#x27;)</pre></div></div></div><div class=\"sk-item\"><div class=\"sk-estimator sk-toggleable\"><input class=\"sk-toggleable__control sk-hidden--visually\" id=\"sk-estimator-id-200\" type=\"checkbox\" ><label for=\"sk-estimator-id-200\" class=\"sk-toggleable__label sk-toggleable__label-arrow\">SVC</label><div class=\"sk-toggleable__content\"><pre>SVC(C=3, kernel=&#x27;sigmoid&#x27;, random_state=0)</pre></div></div></div></div></div></div></div></div></div></div></div></div>"
            ],
            "text/plain": [
              "GridSearchCV(estimator=Pipeline(steps=[('Vectorizer',\n",
              "                                        TfidfVectorizer(max_df=0.1,\n",
              "                                                        max_features=20000,\n",
              "                                                        ngram_range=(1, 2),\n",
              "                                                        stop_words=['ainsi',\n",
              "                                                                    'egalement',\n",
              "                                                                    \"'re\",\n",
              "                                                                    \"you've\",\n",
              "                                                                    'serai',\n",
              "                                                                    'empty',\n",
              "                                                                    'eurent',\n",
              "                                                                    'again',\n",
              "                                                                    'around',\n",
              "                                                                    'dit',\n",
              "                                                                    'pense',\n",
              "                                                                    'toujours',\n",
              "                                                                    'its',\n",
              "                                                                    'certain',\n",
              "                                                                    'avons',\n",
              "                                                                    'often',\n",
              "                                                                    'else',\n",
              "                                                                    'then',\n",
              "                                                                    'hereby',\n",
              "                                                                    'quatrième',\n",
              "                                                                    'within',\n",
              "                                                                    'antérieure',\n",
              "                                                                    'yourself',\n",
              "                                                                    'http',\n",
              "                                                                    'suivantes',\n",
              "                                                                    '’s',\n",
              "                                                                    'with',\n",
              "                                                                    'side',\n",
              "                                                                    'was',\n",
              "                                                                    'theirs', ...],\n",
              "                                                        token_pattern='(?u)\\\\b[a-z][a-z]+\\\\b')),\n",
              "                                       ('Classifier',\n",
              "                                        SVC(C=3, kernel='sigmoid',\n",
              "                                            random_state=0))]),\n",
              "             param_grid={})"
            ]
          },
          "execution_count": 165,
          "metadata": {},
          "output_type": "execute_result"
        }
      ],
      "source": [
        "# {\n",
        "#     \"Vectorizer__ngram_range\": (1, 2),\n",
        "#     \"Vectorizer__max_df\": 0.1,\n",
        "#     \"Vectorizer__min_df\": 1,\n",
        "#     \"Vectorizer__max_features\": 20000,\n",
        "#     \"Classifier__C\": 3,\n",
        "#     \"Classifier__kernel\": \"sigmoid\",\n",
        "# }\n",
        "\n",
        "# 69% accuracy\n",
        "\n",
        "parameters = {\n",
        "    # \"Vectorizer__ngram_range\": ((1,1), (1,2)),\n",
        "    # \"Vectorizer__max_df\": (0.1, 1.0),\n",
        "    # \"Vectorizer__min_df\": (1, 2),\n",
        "    # \"Vectorizer__max_features\": (5000, 10000, 20000),\n",
        "    # \"Classifier__C\": (0.5, 1, 3, 5),\n",
        "    # \"Classifier__kernel\": (\"poly\", \"rbf\", \"sigmoid\"),\n",
        "    # \"Classifier__degree\": (2, 3, 4, 5, 6, 7),\n",
        "    # \"Classifier__tol\": (1e-2, 1e-3, 1e-4, 1e-5),\n",
        "    # \"Classifier__decision_function_shape\": (\"ovr\", \"ovo\"),\n",
        "}\n",
        "\n",
        "# search params with gridsearch\n",
        "gs = GridSearchCV(pipe, parameters)\n",
        "gs.fit(X_train, Y_train)"
      ]
    },
    {
      "cell_type": "code",
      "execution_count": 166,
      "metadata": {},
      "outputs": [
        {
          "name": "stdout",
          "output_type": "stream",
          "text": [
            "0.684931506849315\n",
            "{}\n",
            "[0.80562613]\n"
          ]
        }
      ],
      "source": [
        "# Show best score and params\n",
        "print(gs.score(X_val, Y_val))\n",
        "print(gs.best_params_)\n",
        "print(gs.cv_results_[\"mean_test_score\"])"
      ]
    },
    {
      "cell_type": "markdown",
      "metadata": {},
      "source": [
        "### SGD"
      ]
    },
    {
      "cell_type": "code",
      "execution_count": 167,
      "metadata": {},
      "outputs": [],
      "source": [
        "# make pipeline\n",
        "pipe = Pipeline([\n",
        "    (\"Vectorizer\",TfidfVectorizer(\n",
        "        stop_words=stop_words,\n",
        "        token_pattern=r\"(?u)\\b[a-z][a-z]+\\b\",\n",
        "        ngram_range=(1, 2),\n",
        "        max_df=0.2,\n",
        "        min_df=1,\n",
        "        max_features=20000,\n",
        "    )),\n",
        "    (\"Classifier\",SGDClassifier(\n",
        "        loss=\"huber\",\n",
        "        alpha=0.00001,\n",
        "        tol=1e-3,\n",
        "        random_state=0,\n",
        "    ))]\n",
        ")"
      ]
    },
    {
      "cell_type": "code",
      "execution_count": 168,
      "metadata": {},
      "outputs": [
        {
          "name": "stderr",
          "output_type": "stream",
          "text": [
            "c:\\Users\\Xylos\\AppData\\Local\\Programs\\Python\\Python311\\Lib\\site-packages\\sklearn\\model_selection\\_split.py:737: UserWarning: The least populated class in y has only 1 members, which is less than n_splits=5.\n",
            "  warnings.warn(\n",
            "c:\\Users\\Xylos\\AppData\\Local\\Programs\\Python\\Python311\\Lib\\site-packages\\sklearn\\feature_extraction\\text.py:408: UserWarning: Your stop_words may be inconsistent with your preprocessing. Tokenizing the stop words generated tokens ['neuf', 'quelqu'] not in stop_words.\n",
            "  warnings.warn(\n",
            "c:\\Users\\Xylos\\AppData\\Local\\Programs\\Python\\Python311\\Lib\\site-packages\\sklearn\\feature_extraction\\text.py:408: UserWarning: Your stop_words may be inconsistent with your preprocessing. Tokenizing the stop words generated tokens ['neuf', 'quelqu'] not in stop_words.\n",
            "  warnings.warn(\n",
            "c:\\Users\\Xylos\\AppData\\Local\\Programs\\Python\\Python311\\Lib\\site-packages\\sklearn\\feature_extraction\\text.py:408: UserWarning: Your stop_words may be inconsistent with your preprocessing. Tokenizing the stop words generated tokens ['neuf', 'quelqu'] not in stop_words.\n",
            "  warnings.warn(\n",
            "c:\\Users\\Xylos\\AppData\\Local\\Programs\\Python\\Python311\\Lib\\site-packages\\sklearn\\feature_extraction\\text.py:408: UserWarning: Your stop_words may be inconsistent with your preprocessing. Tokenizing the stop words generated tokens ['neuf', 'quelqu'] not in stop_words.\n",
            "  warnings.warn(\n",
            "c:\\Users\\Xylos\\AppData\\Local\\Programs\\Python\\Python311\\Lib\\site-packages\\sklearn\\feature_extraction\\text.py:408: UserWarning: Your stop_words may be inconsistent with your preprocessing. Tokenizing the stop words generated tokens ['neuf', 'quelqu'] not in stop_words.\n",
            "  warnings.warn(\n",
            "c:\\Users\\Xylos\\AppData\\Local\\Programs\\Python\\Python311\\Lib\\site-packages\\sklearn\\feature_extraction\\text.py:408: UserWarning: Your stop_words may be inconsistent with your preprocessing. Tokenizing the stop words generated tokens ['neuf', 'quelqu'] not in stop_words.\n",
            "  warnings.warn(\n"
          ]
        },
        {
          "data": {
            "text/html": [
              "<style>#sk-container-id-51 {color: black;}#sk-container-id-51 pre{padding: 0;}#sk-container-id-51 div.sk-toggleable {background-color: white;}#sk-container-id-51 label.sk-toggleable__label {cursor: pointer;display: block;width: 100%;margin-bottom: 0;padding: 0.3em;box-sizing: border-box;text-align: center;}#sk-container-id-51 label.sk-toggleable__label-arrow:before {content: \"▸\";float: left;margin-right: 0.25em;color: #696969;}#sk-container-id-51 label.sk-toggleable__label-arrow:hover:before {color: black;}#sk-container-id-51 div.sk-estimator:hover label.sk-toggleable__label-arrow:before {color: black;}#sk-container-id-51 div.sk-toggleable__content {max-height: 0;max-width: 0;overflow: hidden;text-align: left;background-color: #f0f8ff;}#sk-container-id-51 div.sk-toggleable__content pre {margin: 0.2em;color: black;border-radius: 0.25em;background-color: #f0f8ff;}#sk-container-id-51 input.sk-toggleable__control:checked~div.sk-toggleable__content {max-height: 200px;max-width: 100%;overflow: auto;}#sk-container-id-51 input.sk-toggleable__control:checked~label.sk-toggleable__label-arrow:before {content: \"▾\";}#sk-container-id-51 div.sk-estimator input.sk-toggleable__control:checked~label.sk-toggleable__label {background-color: #d4ebff;}#sk-container-id-51 div.sk-label input.sk-toggleable__control:checked~label.sk-toggleable__label {background-color: #d4ebff;}#sk-container-id-51 input.sk-hidden--visually {border: 0;clip: rect(1px 1px 1px 1px);clip: rect(1px, 1px, 1px, 1px);height: 1px;margin: -1px;overflow: hidden;padding: 0;position: absolute;width: 1px;}#sk-container-id-51 div.sk-estimator {font-family: monospace;background-color: #f0f8ff;border: 1px dotted black;border-radius: 0.25em;box-sizing: border-box;margin-bottom: 0.5em;}#sk-container-id-51 div.sk-estimator:hover {background-color: #d4ebff;}#sk-container-id-51 div.sk-parallel-item::after {content: \"\";width: 100%;border-bottom: 1px solid gray;flex-grow: 1;}#sk-container-id-51 div.sk-label:hover label.sk-toggleable__label {background-color: #d4ebff;}#sk-container-id-51 div.sk-serial::before {content: \"\";position: absolute;border-left: 1px solid gray;box-sizing: border-box;top: 0;bottom: 0;left: 50%;z-index: 0;}#sk-container-id-51 div.sk-serial {display: flex;flex-direction: column;align-items: center;background-color: white;padding-right: 0.2em;padding-left: 0.2em;position: relative;}#sk-container-id-51 div.sk-item {position: relative;z-index: 1;}#sk-container-id-51 div.sk-parallel {display: flex;align-items: stretch;justify-content: center;background-color: white;position: relative;}#sk-container-id-51 div.sk-item::before, #sk-container-id-51 div.sk-parallel-item::before {content: \"\";position: absolute;border-left: 1px solid gray;box-sizing: border-box;top: 0;bottom: 0;left: 50%;z-index: -1;}#sk-container-id-51 div.sk-parallel-item {display: flex;flex-direction: column;z-index: 1;position: relative;background-color: white;}#sk-container-id-51 div.sk-parallel-item:first-child::after {align-self: flex-end;width: 50%;}#sk-container-id-51 div.sk-parallel-item:last-child::after {align-self: flex-start;width: 50%;}#sk-container-id-51 div.sk-parallel-item:only-child::after {width: 0;}#sk-container-id-51 div.sk-dashed-wrapped {border: 1px dashed gray;margin: 0 0.4em 0.5em 0.4em;box-sizing: border-box;padding-bottom: 0.4em;background-color: white;}#sk-container-id-51 div.sk-label label {font-family: monospace;font-weight: bold;display: inline-block;line-height: 1.2em;}#sk-container-id-51 div.sk-label-container {text-align: center;}#sk-container-id-51 div.sk-container {/* jupyter's `normalize.less` sets `[hidden] { display: none; }` but bootstrap.min.css set `[hidden] { display: none !important; }` so we also need the `!important` here to be able to override the default hidden behavior on the sphinx rendered scikit-learn.org. See: https://github.com/scikit-learn/scikit-learn/issues/21755 */display: inline-block !important;position: relative;}#sk-container-id-51 div.sk-text-repr-fallback {display: none;}</style><div id=\"sk-container-id-51\" class=\"sk-top-container\"><div class=\"sk-text-repr-fallback\"><pre>GridSearchCV(estimator=Pipeline(steps=[(&#x27;Vectorizer&#x27;,\n",
              "                                        TfidfVectorizer(max_df=0.2,\n",
              "                                                        max_features=20000,\n",
              "                                                        ngram_range=(1, 2),\n",
              "                                                        stop_words=[&#x27;ainsi&#x27;,\n",
              "                                                                    &#x27;egalement&#x27;,\n",
              "                                                                    &quot;&#x27;re&quot;,\n",
              "                                                                    &quot;you&#x27;ve&quot;,\n",
              "                                                                    &#x27;serai&#x27;,\n",
              "                                                                    &#x27;empty&#x27;,\n",
              "                                                                    &#x27;eurent&#x27;,\n",
              "                                                                    &#x27;again&#x27;,\n",
              "                                                                    &#x27;around&#x27;,\n",
              "                                                                    &#x27;dit&#x27;,\n",
              "                                                                    &#x27;pense&#x27;,\n",
              "                                                                    &#x27;toujours&#x27;,\n",
              "                                                                    &#x27;its&#x27;,\n",
              "                                                                    &#x27;certain&#x27;,\n",
              "                                                                    &#x27;avons&#x27;,\n",
              "                                                                    &#x27;often&#x27;,\n",
              "                                                                    &#x27;else&#x27;,\n",
              "                                                                    &#x27;then&#x27;,\n",
              "                                                                    &#x27;hereby&#x27;,\n",
              "                                                                    &#x27;quatrième&#x27;,\n",
              "                                                                    &#x27;within&#x27;,\n",
              "                                                                    &#x27;antérieure&#x27;,\n",
              "                                                                    &#x27;yourself&#x27;,\n",
              "                                                                    &#x27;http&#x27;,\n",
              "                                                                    &#x27;suivantes&#x27;,\n",
              "                                                                    &#x27;’s&#x27;,\n",
              "                                                                    &#x27;with&#x27;,\n",
              "                                                                    &#x27;side&#x27;,\n",
              "                                                                    &#x27;was&#x27;,\n",
              "                                                                    &#x27;theirs&#x27;, ...],\n",
              "                                                        token_pattern=&#x27;(?u)\\\\b[a-z][a-z]+\\\\b&#x27;)),\n",
              "                                       (&#x27;Classifier&#x27;,\n",
              "                                        SGDClassifier(alpha=1e-05, loss=&#x27;huber&#x27;,\n",
              "                                                      random_state=0))]),\n",
              "             param_grid={})</pre><b>In a Jupyter environment, please rerun this cell to show the HTML representation or trust the notebook. <br />On GitHub, the HTML representation is unable to render, please try loading this page with nbviewer.org.</b></div><div class=\"sk-container\" hidden><div class=\"sk-item sk-dashed-wrapped\"><div class=\"sk-label-container\"><div class=\"sk-label sk-toggleable\"><input class=\"sk-toggleable__control sk-hidden--visually\" id=\"sk-estimator-id-201\" type=\"checkbox\" ><label for=\"sk-estimator-id-201\" class=\"sk-toggleable__label sk-toggleable__label-arrow\">GridSearchCV</label><div class=\"sk-toggleable__content\"><pre>GridSearchCV(estimator=Pipeline(steps=[(&#x27;Vectorizer&#x27;,\n",
              "                                        TfidfVectorizer(max_df=0.2,\n",
              "                                                        max_features=20000,\n",
              "                                                        ngram_range=(1, 2),\n",
              "                                                        stop_words=[&#x27;ainsi&#x27;,\n",
              "                                                                    &#x27;egalement&#x27;,\n",
              "                                                                    &quot;&#x27;re&quot;,\n",
              "                                                                    &quot;you&#x27;ve&quot;,\n",
              "                                                                    &#x27;serai&#x27;,\n",
              "                                                                    &#x27;empty&#x27;,\n",
              "                                                                    &#x27;eurent&#x27;,\n",
              "                                                                    &#x27;again&#x27;,\n",
              "                                                                    &#x27;around&#x27;,\n",
              "                                                                    &#x27;dit&#x27;,\n",
              "                                                                    &#x27;pense&#x27;,\n",
              "                                                                    &#x27;toujours&#x27;,\n",
              "                                                                    &#x27;its&#x27;,\n",
              "                                                                    &#x27;certain&#x27;,\n",
              "                                                                    &#x27;avons&#x27;,\n",
              "                                                                    &#x27;often&#x27;,\n",
              "                                                                    &#x27;else&#x27;,\n",
              "                                                                    &#x27;then&#x27;,\n",
              "                                                                    &#x27;hereby&#x27;,\n",
              "                                                                    &#x27;quatrième&#x27;,\n",
              "                                                                    &#x27;within&#x27;,\n",
              "                                                                    &#x27;antérieure&#x27;,\n",
              "                                                                    &#x27;yourself&#x27;,\n",
              "                                                                    &#x27;http&#x27;,\n",
              "                                                                    &#x27;suivantes&#x27;,\n",
              "                                                                    &#x27;’s&#x27;,\n",
              "                                                                    &#x27;with&#x27;,\n",
              "                                                                    &#x27;side&#x27;,\n",
              "                                                                    &#x27;was&#x27;,\n",
              "                                                                    &#x27;theirs&#x27;, ...],\n",
              "                                                        token_pattern=&#x27;(?u)\\\\b[a-z][a-z]+\\\\b&#x27;)),\n",
              "                                       (&#x27;Classifier&#x27;,\n",
              "                                        SGDClassifier(alpha=1e-05, loss=&#x27;huber&#x27;,\n",
              "                                                      random_state=0))]),\n",
              "             param_grid={})</pre></div></div></div><div class=\"sk-parallel\"><div class=\"sk-parallel-item\"><div class=\"sk-item\"><div class=\"sk-label-container\"><div class=\"sk-label sk-toggleable\"><input class=\"sk-toggleable__control sk-hidden--visually\" id=\"sk-estimator-id-202\" type=\"checkbox\" ><label for=\"sk-estimator-id-202\" class=\"sk-toggleable__label sk-toggleable__label-arrow\">estimator: Pipeline</label><div class=\"sk-toggleable__content\"><pre>Pipeline(steps=[(&#x27;Vectorizer&#x27;,\n",
              "                 TfidfVectorizer(max_df=0.2, max_features=20000,\n",
              "                                 ngram_range=(1, 2),\n",
              "                                 stop_words=[&#x27;ainsi&#x27;, &#x27;egalement&#x27;, &quot;&#x27;re&quot;,\n",
              "                                             &quot;you&#x27;ve&quot;, &#x27;serai&#x27;, &#x27;empty&#x27;,\n",
              "                                             &#x27;eurent&#x27;, &#x27;again&#x27;, &#x27;around&#x27;, &#x27;dit&#x27;,\n",
              "                                             &#x27;pense&#x27;, &#x27;toujours&#x27;, &#x27;its&#x27;,\n",
              "                                             &#x27;certain&#x27;, &#x27;avons&#x27;, &#x27;often&#x27;,\n",
              "                                             &#x27;else&#x27;, &#x27;then&#x27;, &#x27;hereby&#x27;,\n",
              "                                             &#x27;quatrième&#x27;, &#x27;within&#x27;,\n",
              "                                             &#x27;antérieure&#x27;, &#x27;yourself&#x27;, &#x27;http&#x27;,\n",
              "                                             &#x27;suivantes&#x27;, &#x27;’s&#x27;, &#x27;with&#x27;, &#x27;side&#x27;,\n",
              "                                             &#x27;was&#x27;, &#x27;theirs&#x27;, ...],\n",
              "                                 token_pattern=&#x27;(?u)\\\\b[a-z][a-z]+\\\\b&#x27;)),\n",
              "                (&#x27;Classifier&#x27;,\n",
              "                 SGDClassifier(alpha=1e-05, loss=&#x27;huber&#x27;, random_state=0))])</pre></div></div></div><div class=\"sk-serial\"><div class=\"sk-item\"><div class=\"sk-serial\"><div class=\"sk-item\"><div class=\"sk-estimator sk-toggleable\"><input class=\"sk-toggleable__control sk-hidden--visually\" id=\"sk-estimator-id-203\" type=\"checkbox\" ><label for=\"sk-estimator-id-203\" class=\"sk-toggleable__label sk-toggleable__label-arrow\">TfidfVectorizer</label><div class=\"sk-toggleable__content\"><pre>TfidfVectorizer(max_df=0.2, max_features=20000, ngram_range=(1, 2),\n",
              "                stop_words=[&#x27;ainsi&#x27;, &#x27;egalement&#x27;, &quot;&#x27;re&quot;, &quot;you&#x27;ve&quot;, &#x27;serai&#x27;,\n",
              "                            &#x27;empty&#x27;, &#x27;eurent&#x27;, &#x27;again&#x27;, &#x27;around&#x27;, &#x27;dit&#x27;,\n",
              "                            &#x27;pense&#x27;, &#x27;toujours&#x27;, &#x27;its&#x27;, &#x27;certain&#x27;, &#x27;avons&#x27;,\n",
              "                            &#x27;often&#x27;, &#x27;else&#x27;, &#x27;then&#x27;, &#x27;hereby&#x27;, &#x27;quatrième&#x27;,\n",
              "                            &#x27;within&#x27;, &#x27;antérieure&#x27;, &#x27;yourself&#x27;, &#x27;http&#x27;,\n",
              "                            &#x27;suivantes&#x27;, &#x27;’s&#x27;, &#x27;with&#x27;, &#x27;side&#x27;, &#x27;was&#x27;, &#x27;theirs&#x27;, ...],\n",
              "                token_pattern=&#x27;(?u)\\\\b[a-z][a-z]+\\\\b&#x27;)</pre></div></div></div><div class=\"sk-item\"><div class=\"sk-estimator sk-toggleable\"><input class=\"sk-toggleable__control sk-hidden--visually\" id=\"sk-estimator-id-204\" type=\"checkbox\" ><label for=\"sk-estimator-id-204\" class=\"sk-toggleable__label sk-toggleable__label-arrow\">SGDClassifier</label><div class=\"sk-toggleable__content\"><pre>SGDClassifier(alpha=1e-05, loss=&#x27;huber&#x27;, random_state=0)</pre></div></div></div></div></div></div></div></div></div></div></div></div>"
            ],
            "text/plain": [
              "GridSearchCV(estimator=Pipeline(steps=[('Vectorizer',\n",
              "                                        TfidfVectorizer(max_df=0.2,\n",
              "                                                        max_features=20000,\n",
              "                                                        ngram_range=(1, 2),\n",
              "                                                        stop_words=['ainsi',\n",
              "                                                                    'egalement',\n",
              "                                                                    \"'re\",\n",
              "                                                                    \"you've\",\n",
              "                                                                    'serai',\n",
              "                                                                    'empty',\n",
              "                                                                    'eurent',\n",
              "                                                                    'again',\n",
              "                                                                    'around',\n",
              "                                                                    'dit',\n",
              "                                                                    'pense',\n",
              "                                                                    'toujours',\n",
              "                                                                    'its',\n",
              "                                                                    'certain',\n",
              "                                                                    'avons',\n",
              "                                                                    'often',\n",
              "                                                                    'else',\n",
              "                                                                    'then',\n",
              "                                                                    'hereby',\n",
              "                                                                    'quatrième',\n",
              "                                                                    'within',\n",
              "                                                                    'antérieure',\n",
              "                                                                    'yourself',\n",
              "                                                                    'http',\n",
              "                                                                    'suivantes',\n",
              "                                                                    '’s',\n",
              "                                                                    'with',\n",
              "                                                                    'side',\n",
              "                                                                    'was',\n",
              "                                                                    'theirs', ...],\n",
              "                                                        token_pattern='(?u)\\\\b[a-z][a-z]+\\\\b')),\n",
              "                                       ('Classifier',\n",
              "                                        SGDClassifier(alpha=1e-05, loss='huber',\n",
              "                                                      random_state=0))]),\n",
              "             param_grid={})"
            ]
          },
          "execution_count": 168,
          "metadata": {},
          "output_type": "execute_result"
        }
      ],
      "source": [
        "{\n",
        "    \"Vectorizer__ngram_range\": (1, 2),\n",
        "    \"Vectorizer__max_df\": 0.2,\n",
        "    \"Vectorizer__min_df\": 1,\n",
        "    \"Vectorizer__max_features\": 20000,\n",
        "    \"Classifier__loss\": \"huber\",\n",
        "    \"Classifier__alpha\": 0.00001,\n",
        "    \"Classifier__tol\": 1e-3,\n",
        "}\n",
        "\n",
        "# 70% accuracy\n",
        "\n",
        "parameters = {\n",
        "    # \"Vectorizer__ngram_range\": ((1, 1), (1, 2)),\n",
        "    # \"Vectorizer__max_df\": (0.1, 0.2, 0.3),\n",
        "    # \"Vectorizer__min_df\": (1, 2),\n",
        "    # \"Vectorizer__max_features\": (5000, 10000, 20000),\n",
        "    # \"Classifier__loss\": (\"hinge\", \"log_loss\", \"modified_huber\", \"squared_hinge\", \"perceptron\", \"squared_error\", \"huber\"),\n",
        "    # \"Classifier__alpha\": (1e-7, 1e-6, 0.00001, 0.0001, 0.001, 0.01, 0.1),\n",
        "    # \"Classifier__tol\": (1e-2, 1e-3, 1e-4, 1e-5),\n",
        "}\n",
        "\n",
        "# search params with gridsearch\n",
        "gs = GridSearchCV(pipe, parameters)\n",
        "gs.fit(X_train, Y_train)"
      ]
    },
    {
      "cell_type": "code",
      "execution_count": 169,
      "metadata": {},
      "outputs": [
        {
          "name": "stdout",
          "output_type": "stream",
          "text": [
            "0.7397260273972602\n",
            "{}\n",
            "[0.78136721]\n"
          ]
        }
      ],
      "source": [
        "# Show best score and params\n",
        "print(gs.score(X_val, Y_val))\n",
        "print(gs.best_params_)\n",
        "print(gs.cv_results_[\"mean_test_score\"])"
      ]
    },
    {
      "cell_type": "markdown",
      "metadata": {},
      "source": [
        "### Plot results (broken)"
      ]
    },
    {
      "cell_type": "code",
      "execution_count": 34,
      "metadata": {},
      "outputs": [],
      "source": [
        "# Imports\n",
        "import matplotlib.pyplot as plt\n",
        "import numpy as np"
      ]
    },
    {
      "cell_type": "code",
      "execution_count": null,
      "metadata": {},
      "outputs": [],
      "source": [
        "# Extract results to plot into (n,m)\n",
        "# n is number of parameters searched plus accuracy in last index\n",
        "# m is size of all combinations of parameters ie p1*p2*p3...=m\n",
        "\n",
        "# DOESNTWORK!! needs tweaking for the ngram tuple and only works for 2 params\n",
        "debug=False\n",
        "\n",
        "results = np.empty((len(parameters) + 1, len(gs.cv_results_[\"mean_test_score\"])))\n",
        "for i,param in enumerate(list(gs.cv_results_.keys())[4 : 4 + len(parameters)]):\n",
        "    if debug:\n",
        "        print(param)\n",
        "        print(gs.cv_results_[param])\n",
        "    results[i] = gs.cv_results_[param]\n",
        "if debug:\n",
        "    print(\"mean_test_score\")\n",
        "    print(gs.cv_results_[\"mean_test_score\"])\n",
        "results[len(parameters)] = gs.cv_results_[\"mean_test_score\"]"
      ]
    },
    {
      "cell_type": "code",
      "execution_count": 137,
      "metadata": {},
      "outputs": [],
      "source": [
        "line_num=len(list(parameters.items())[0][1])\n",
        "slice_size=len(list(parameters.items())[1][1])"
      ]
    },
    {
      "cell_type": "code",
      "execution_count": 146,
      "metadata": {},
      "outputs": [
        {
          "data": {
            "image/png": "[encoded data removed]",
            "text/plain": [
              "<Figure size 640x480 with 1 Axes>"
            ]
          },
          "metadata": {},
          "output_type": "display_data"
        }
      ],
      "source": [
        "for i in range(line_num):\n",
        "    plt.plot(results[1, i * slice_size : i * slice_size + slice_size], results[2, i * slice_size : i * slice_size + slice_size], label=list(parameters.items())[0][0]+\" \"+str(results[0,i*slice_size]))\n",
        "plt.legend()\n",
        "plt.xlabel(list(parameters.items())[1][0])\n",
        "plt.ylabel(\"mean_test_score\")\n",
        "plt.show()"
      ]
    },
    {
      "cell_type": "markdown",
      "metadata": {},
      "source": [
        "### Actual Test"
      ]
    },
    {
      "cell_type": "code",
      "execution_count": 174,
      "metadata": {},
      "outputs": [],
      "source": [
        "# Get test data\n",
        "path = \"Data/\"\n",
        "test_df = pd.read_csv(path + \"test.csv\", encoding=\"ISO-8859-1\")\n",
        "test_data = test_df[\"body\"].apply(lambda x: x.lower().replace(\"_\", \" \")).to_numpy()"
      ]
    },
    {
      "cell_type": "code",
      "execution_count": 175,
      "metadata": {},
      "outputs": [
        {
          "name": "stderr",
          "output_type": "stream",
          "text": [
            "c:\\Users\\Xylos\\AppData\\Local\\Programs\\Python\\Python311\\Lib\\site-packages\\sklearn\\feature_extraction\\text.py:408: UserWarning: Your stop_words may be inconsistent with your preprocessing. Tokenizing the stop words generated tokens ['neuf', 'quelqu'] not in stop_words.\n",
            "  warnings.warn(\n"
          ]
        }
      ],
      "source": [
        "# predict test labels\n",
        "test_labels=pipe.fit(training_data, training_labels).predict(test_data)"
      ]
    },
    {
      "cell_type": "code",
      "execution_count": 180,
      "metadata": {},
      "outputs": [],
      "source": [
        "result=pd.DataFrame(test_labels)\n",
        "result.to_csv(\"Data/submission.csv\")"
      ]
    },
    {
      "cell_type": "markdown",
      "metadata": {
        "id": "blCjGI-AjD3L"
      },
      "source": [
        "## Stop Words"
      ]
    },
    {
      "cell_type": "markdown",
      "metadata": {
        "id": "VVwJiulmjHAM"
      },
      "source": [
        "## Lemmatization"
      ]
    },
    {
      "cell_type": "markdown",
      "metadata": {
        "id": "I4-78HfOjnED"
      },
      "source": [
        "## Max Features"
      ]
    },
    {
      "cell_type": "markdown",
      "metadata": {
        "id": "Giz98mOOps5d"
      },
      "source": [
        "# Actual Test Case"
      ]
    },
    {
      "cell_type": "code",
      "execution_count": null,
      "metadata": {
        "id": "W85aadzmO69b"
      },
      "outputs": [],
      "source": [
        "model = NB()\n",
        "model.train(processed_comment_data, labels)\n",
        "\n",
        "test_df = pd.read_csv(path + 'test.csv', encoding = \"ISO-8859-1\")\n",
        "test_data = test_df['body'].to_numpy()\n",
        "processed_test_data = lemmatize_and_remove_stop_words(test_data)\n",
        "\n",
        "predictions = model.predict(processed_test_data)"
      ]
    },
    {
      "cell_type": "code",
      "execution_count": null,
      "metadata": {
        "id": "YHux80f5QvTq"
      },
      "outputs": [],
      "source": [
        "pd.DataFrame({'Subreddit':predictions}).reset_index().rename(columns={\"index\": \"Id\"}).to_csv('results.csv', index=False)"
      ]
    }
  ],
  "metadata": {
    "colab": {
      "provenance": []
    },
    "kernelspec": {
      "display_name": "Python 3",
      "name": "python3"
    },
    "language_info": {
      "codemirror_mode": {
        "name": "ipython",
        "version": 3
      },
      "file_extension": ".py",
      "mimetype": "text/x-python",
      "name": "python",
      "nbconvert_exporter": "python",
      "pygments_lexer": "ipython3",
      "version": "3.10.5"
    }
  },
  "nbformat": 4,
  "nbformat_minor": 0
}
