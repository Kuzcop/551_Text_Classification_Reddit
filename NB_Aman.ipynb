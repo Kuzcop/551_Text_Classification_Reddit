{
  "cells": [
    {
      "cell_type": "markdown",
      "source": [
        "# Setup"
      ],
      "metadata": {
        "id": "awAAMg5wSCL8"
      }
    },
    {
      "cell_type": "code",
      "execution_count": 1,
      "metadata": {
        "colab": {
          "base_uri": "https://localhost:8080/"
        },
        "id": "otC0i9nsOwL2",
        "outputId": "c7c96622-628f-429d-db04-fab19b8135e9"
      },
      "outputs": [
        {
          "output_type": "stream",
          "name": "stdout",
          "text": [
            "Mounted at /content/drive\n"
          ]
        }
      ],
      "source": [
        "from google.colab import drive\n",
        "drive.mount('/content/drive')"
      ]
    },
    {
      "cell_type": "code",
      "execution_count": 2,
      "metadata": {
        "colab": {
          "base_uri": "https://localhost:8080/"
        },
        "id": "AVHrOlrVeb0y",
        "outputId": "8d32465d-2e47-4770-9da5-bc6f986115c8"
      },
      "outputs": [
        {
          "output_type": "stream",
          "name": "stderr",
          "text": [
            "[nltk_data] Downloading package stopwords to /root/nltk_data...\n",
            "[nltk_data]   Unzipping corpora/stopwords.zip.\n",
            "[nltk_data] Downloading package punkt to /root/nltk_data...\n",
            "[nltk_data]   Unzipping tokenizers/punkt.zip.\n",
            "[nltk_data] Downloading package wordnet to /root/nltk_data...\n",
            "[nltk_data] Downloading package averaged_perceptron_tagger to\n",
            "[nltk_data]     /root/nltk_data...\n",
            "[nltk_data]   Unzipping taggers/averaged_perceptron_tagger.zip.\n"
          ]
        },
        {
          "output_type": "stream",
          "name": "stdout",
          "text": [
            "Collecting git+https://github.com/ClaudeCoulombe/FrenchLefffLemmatizer.git\n",
            "  Cloning https://github.com/ClaudeCoulombe/FrenchLefffLemmatizer.git to /tmp/pip-req-build-osbb85po\n",
            "  Running command git clone --filter=blob:none --quiet https://github.com/ClaudeCoulombe/FrenchLefffLemmatizer.git /tmp/pip-req-build-osbb85po\n",
            "  Resolved https://github.com/ClaudeCoulombe/FrenchLefffLemmatizer.git to commit bc0ebd0135a6cc78f48ddf184069b4c0b9c017d8\n",
            "  Preparing metadata (setup.py) ... \u001b[?25l\u001b[?25hdone\n",
            "Building wheels for collected packages: FrenchLefffLemmatizer\n",
            "  Building wheel for FrenchLefffLemmatizer (setup.py) ... \u001b[?25l\u001b[?25hdone\n",
            "  Created wheel for FrenchLefffLemmatizer: filename=FrenchLefffLemmatizer-0.3-py3-none-any.whl size=3533513 sha256=f020f57b3e61695d920d3060a46848bf5df468e059c280be9d652a5b34a89fe6\n",
            "  Stored in directory: /tmp/pip-ephem-wheel-cache-stbenepn/wheels/99/54/81/553bffdc8e0781c925f9a26606894935adb29b56175a9a358b\n",
            "Successfully built FrenchLefffLemmatizer\n",
            "Installing collected packages: FrenchLefffLemmatizer\n",
            "Successfully installed FrenchLefffLemmatizer-0.3\n",
            "Collecting langdetect\n",
            "  Downloading langdetect-1.0.9.tar.gz (981 kB)\n",
            "\u001b[2K     \u001b[90m━━━━━━━━━━━━━━━━━━━━━━━━━━━━━━━━━━━━━━━━\u001b[0m \u001b[32m981.5/981.5 kB\u001b[0m \u001b[31m7.7 MB/s\u001b[0m eta \u001b[36m0:00:00\u001b[0m\n",
            "\u001b[?25h  Preparing metadata (setup.py) ... \u001b[?25l\u001b[?25hdone\n",
            "Requirement already satisfied: six in /usr/local/lib/python3.10/dist-packages (from langdetect) (1.16.0)\n",
            "Building wheels for collected packages: langdetect\n",
            "  Building wheel for langdetect (setup.py) ... \u001b[?25l\u001b[?25hdone\n",
            "  Created wheel for langdetect: filename=langdetect-1.0.9-py3-none-any.whl size=993227 sha256=0e3db6b06220419e6436b3d529b69c6ab450d83779539462102c76b8fe267031\n",
            "  Stored in directory: /root/.cache/pip/wheels/95/03/7d/59ea870c70ce4e5a370638b5462a7711ab78fba2f655d05106\n",
            "Successfully built langdetect\n",
            "Installing collected packages: langdetect\n",
            "Successfully installed langdetect-1.0.9\n",
            "Requirement already satisfied: tqdm in /usr/local/lib/python3.10/dist-packages (4.66.2)\n"
          ]
        }
      ],
      "source": [
        "from sklearn.feature_extraction.text import CountVectorizer\n",
        "from sklearn.feature_extraction import text\n",
        "from sklearn.model_selection import train_test_split, KFold\n",
        "from sklearn.metrics import accuracy_score, confusion_matrix, ConfusionMatrixDisplay\n",
        "import numpy as np\n",
        "import pandas as pd\n",
        "import matplotlib.pyplot as plt\n",
        "import seaborn as sns\n",
        "import scipy\n",
        "import time\n",
        "import nltk\n",
        "from nltk.corpus import stopwords\n",
        "# from nltk.stem import French\n",
        "nltk.download('stopwords')\n",
        "nltk.download('punkt')\n",
        "nltk.download('wordnet')\n",
        "nltk.download('averaged_perceptron_tagger')\n",
        "from nltk import word_tokenize\n",
        "from nltk.stem import WordNetLemmatizer\n",
        "from spacy.lang.fr.stop_words import STOP_WORDS as fr_stop\n",
        "from spacy.lang.en.stop_words import STOP_WORDS as en_stop\n",
        "!pip install git+https://github.com/ClaudeCoulombe/FrenchLefffLemmatizer.git\n",
        "from french_lefff_lemmatizer.french_lefff_lemmatizer import FrenchLefffLemmatizer # package for french lemmatization\n",
        "from nltk.tokenize.treebank import TreebankWordDetokenizer\n",
        "import random\n",
        "import re\n",
        "!pip install langdetect\n",
        "from nltk.corpus import wordnet\n",
        "from langdetect import detect\n",
        "!pip install tqdm\n",
        "from tqdm import tqdm\n",
        "from itertools import product\n",
        "\n",
        "\n",
        "seed = 10\n",
        "random.seed(seed)\n",
        "np.random.seed(seed)"
      ]
    },
    {
      "cell_type": "markdown",
      "source": [
        "## Get Data"
      ],
      "metadata": {
        "id": "LEKGk_qnSGsc"
      }
    },
    {
      "cell_type": "code",
      "source": [
        "path = '/content/drive/MyDrive/Olympus in the Sky/McGill/2024 - Winter/ECSE 551/Data/'\n",
        "df = pd.read_csv(path + 'train.csv', encoding = \"ISO-8859-1\")\n",
        "df = df.sample(frac=1, random_state=1).reset_index(drop = True)\n",
        "df = df[~df['body'].str.contains('\\?'*10)]\n",
        "\n",
        "training_data = df['body'].apply(lambda x: x.lower().replace('_', ' ')).to_numpy()\n",
        "training_labels = df['subreddit'].to_numpy()\n",
        "\n",
        "lemmatized_training_data = pd.read_csv(path + 'lemmatized.csv')['Body'].to_numpy()"
      ],
      "metadata": {
        "id": "ZzV4brs6SAN3"
      },
      "execution_count": 54,
      "outputs": []
    },
    {
      "cell_type": "code",
      "source": [
        "lemmatized_training_data[0]"
      ],
      "metadata": {
        "colab": {
          "base_uri": "https://localhost:8080/",
          "height": 53
        },
        "id": "a103RN0Dp-zo",
        "outputId": "437979b4-d145-4a47-bdc6-b558ac6bdccd"
      },
      "execution_count": 55,
      "outputs": [
        {
          "output_type": "execute_result",
          "data": {
            "text/plain": [
              "'operational so set delay point just donor about do be and time will year can their churn coal whole up they keep herring the switch another by nuclear have be red decade to it renewables something'"
            ],
            "application/vnd.google.colaboratory.intrinsic+json": {
              "type": "string"
            }
          },
          "metadata": {},
          "execution_count": 55
        }
      ]
    },
    {
      "cell_type": "code",
      "source": [
        "training_data[0]"
      ],
      "metadata": {
        "colab": {
          "base_uri": "https://localhost:8080/",
          "height": 53
        },
        "id": "QoAOK01VqAk2",
        "outputId": "90646694-f26f-4513-cd1f-540c53c6b18b"
      },
      "execution_count": 56,
      "outputs": [
        {
          "output_type": "execute_result",
          "data": {
            "text/plain": [
              "'just another red herring. they had 10 years to do something about it. the whole point is to delay switch to renewables so their donors can keep churning coal. by the time nuclear is set up and operational it will be decades.ÿ'"
            ],
            "application/vnd.google.colaboratory.intrinsic+json": {
              "type": "string"
            }
          },
          "metadata": {},
          "execution_count": 56
        }
      ]
    },
    {
      "cell_type": "markdown",
      "source": [
        "## Preprocessing"
      ],
      "metadata": {
        "id": "jmqvpiUNIPqw"
      }
    },
    {
      "cell_type": "code",
      "source": [
        "def get_wordnet_pos(word):\n",
        "  \"\"\"Map POS tag to first character lemmatize() accepts\"\"\"\n",
        "  tag = nltk.pos_tag([word])[0][1][0].upper()\n",
        "  tag_dict = {\"J\": wordnet.ADJ,\n",
        "              \"N\": wordnet.NOUN,\n",
        "              \"V\": wordnet.VERB,\n",
        "              \"R\": wordnet.ADV}\n",
        "  return tag_dict.get(tag, wordnet.NOUN)\n",
        "\n",
        "def remove_stop_words(arr_of_words, stop_words):\n",
        "  return [word for word in arr_of_words if word not in stop_words]\n",
        "\n",
        "def lemmatize(arr_of_words):\n",
        "  lang = detect(' '.join(arr_of_words))\n",
        "  if lang == 'en':\n",
        "      lemmatizer = WordNetLemmatizer()\n",
        "  else:\n",
        "      lemmatizer = FrenchLefffLemmatizer()\n",
        "\n",
        "  return [lemmatizer.lemmatize(word, pos = get_wordnet_pos(word)) for word in arr_of_words]\n",
        "\n",
        "def preprocess(sentences, regex_pattern = r\"(?u)\\b[a-z][a-z]+\\b\", stop_words = None, is_lemmatize = False):\n",
        "  new_sentence_list = []\n",
        "  pattern = regex_pattern\n",
        "\n",
        "  for iter, sentence in enumerate(sentences):\n",
        "\n",
        "      words = list(set(re.findall(pattern, sentence)))\n",
        "      if stop_words:\n",
        "        words = remove_stop_words(words, stop_words)\n",
        "\n",
        "      if is_lemmatize:\n",
        "        words = lemmatize(words)\n",
        "\n",
        "      new_sentence_list.append(' '.join(words))\n",
        "\n",
        "  return np.array(new_sentence_list)"
      ],
      "metadata": {
        "id": "06PcDk3Dz-Iz"
      },
      "execution_count": 4,
      "outputs": []
    },
    {
      "cell_type": "markdown",
      "source": [
        "# NB and K-Fold"
      ],
      "metadata": {
        "id": "fE3SbVUlPho5"
      }
    },
    {
      "cell_type": "code",
      "source": [
        "# to find P(Y=k), just do test_labels.where(k)/len(test_labels)\n",
        "# vectos_train will contain all the information I need to create the counting for each word\n",
        "# use the get_feature_names to create a dictionary to map to all counts\n",
        "# this dictionary would be contained in another dict that has the labels as keys\n",
        "# to find P(xj,k), find the indices where test_labels = (k), then find"
      ],
      "metadata": {
        "id": "qX4Psl8CSNg9"
      },
      "execution_count": null,
      "outputs": []
    },
    {
      "cell_type": "code",
      "source": [
        "def get_wordnet_pos(word):\n",
        "    \"\"\"Map POS tag to first character lemmatize() accepts\"\"\"\n",
        "    tag = nltk.pos_tag([word])[0][1][0].upper()\n",
        "    tag_dict = {\"J\": wordnet.ADJ,\n",
        "                \"N\": wordnet.NOUN,\n",
        "                \"V\": wordnet.VERB,\n",
        "                \"R\": wordnet.ADV}\n",
        "    return tag_dict.get(tag, wordnet.NOUN)\n",
        "\n",
        "class LemmaTokenizer:\n",
        "     def __init__(self, pattern):\n",
        "       self.pattern = pattern\n",
        "     def __call__(self, doc):\n",
        "       doc = doc.lower().replace('_', ' ')\n",
        "       doc_words = list(set(re.findall(self.pattern, doc)))\n",
        "       lang = detect(' '.join(doc_words))\n",
        "       if lang == 'fr':\n",
        "           lemmatizer = FrenchLefffLemmatizer()\n",
        "       else:\n",
        "           lemmatizer = WordNetLemmatizer()\n",
        "       return [lemmatizer.lemmatize(word,pos =get_wordnet_pos(word)) for word in doc_words]"
      ],
      "metadata": {
        "id": "1SOK9cAT17fm"
      },
      "execution_count": null,
      "outputs": []
    },
    {
      "cell_type": "code",
      "execution_count": 5,
      "metadata": {
        "id": "tJypvj7ZnfWY"
      },
      "outputs": [],
      "source": [
        "class NB():\n",
        "  def __init__(self, max_features = 3000, token_pattern = r\"(?u)\\b[a-z][a-z]+\\b\", min_df = 1, max_df = 1.0, ngram_range = (1,1), alpha = 1):\n",
        "    spacy_stopwords_list = list(fr_stop) + list(en_stop)\n",
        "    nltk_stopwords_list = stopwords.words('english') + stopwords.words('french')\n",
        "    self.pattern = token_pattern\n",
        "    self.ngram_range = ngram_range\n",
        "    self.alpha = alpha\n",
        "    self.vectorizer = CountVectorizer(binary = True, max_features = max_features, token_pattern = self.pattern, min_df = min_df, max_df = max_df, ngram_range = ngram_range)\n",
        "    self.no_pred = []\n",
        "\n",
        "  # currently train_corpus expects a np array containing a list of strings, not array of words, nxm\n",
        "  # test_label is an nx1 array\n",
        "  def fit(self, train_corpus, test_labels):\n",
        "    assert len(train_corpus)  == len(test_labels)\n",
        "    assert type(train_corpus) == type(test_labels) == np.ndarray\n",
        "\n",
        "    vectors_train       = self.vectorizer.fit_transform(train_corpus).todense()\n",
        "    self.analyzer       = self.vectorizer.build_analyzer()\n",
        "    self.word_list      = self.vectorizer.get_feature_names_out()\n",
        "    self.num_samples    = len(test_labels)\n",
        "    self.word_count     = dict(zip(self.word_list, np.array(vectors_train.sum(axis=0))[0]))\n",
        "\n",
        "    unique, counts   = np.unique(test_labels, return_counts=True)\n",
        "    self.label_count = dict(zip(unique, counts))\n",
        "    self.labels      = unique\n",
        "\n",
        "    self.word_count_given_label = {}\n",
        "    for label in self.labels:\n",
        "      indices = np.where(test_labels == label)[0]\n",
        "      tot_word_count = np.array(vectors_train[indices].sum(axis=0))[0]\n",
        "      self.word_count_given_label[label] = {self.word_list[i] : tot_word_count[i] for i in range(len(tot_word_count))}\n",
        "      # print(label, self.word_count_given_label[label])\n",
        "\n",
        "  # Assuming test_corpus is 2-d array where each test sample is a string\n",
        "  def predict(self, test_corpus):\n",
        "\n",
        "    predictions = []\n",
        "    for corpus in tqdm(test_corpus, desc=\"Loading…\", ascii=False, ncols=75):\n",
        "\n",
        "      best_label = ''\n",
        "      best_prob  = -np.inf\n",
        "\n",
        "      corpus_words = self.analyzer(corpus)\n",
        "\n",
        "      for label in self.labels:\n",
        "        p_of_y = self.label_count[label]/self.num_samples\n",
        "\n",
        "        p_of_x_given_y = 1\n",
        "\n",
        "        for word in self.word_list:\n",
        "          if word in corpus_words:\n",
        "            xj = 1\n",
        "          else:\n",
        "            xj = 0\n",
        "\n",
        "          theta_xj_k      = (self.word_count_given_label[label][word] + self.alpha) / (self.label_count[label] + self.alpha*len(self.labels))\n",
        "          p_of_x_given_y *= (theta_xj_k**(xj) * (1-theta_xj_k)**(1-xj))\n",
        "          # print(label, word, p_of_x_given_y, theta_xj_k, (theta_xj_k**(xj) * (1-theta_xj_k)**(1-xj)))\n",
        "\n",
        "        p_of_y_given_x = np.log(p_of_y * p_of_x_given_y)\n",
        "        # print(p_of_y, p_of_x_given_y)\n",
        "        # print(label, p_of_y_given_x)\n",
        "\n",
        "        # print(p_of_y_given_x, best_prob)\n",
        "        if p_of_y_given_x > best_prob:\n",
        "          best_prob = p_of_y_given_x\n",
        "          best_label = label\n",
        "\n",
        "      if p_of_x_given_y == 0:\n",
        "        self.no_pred.append(corpus)\n",
        "      #   best_label = random.choice(self.labels)\n",
        "\n",
        "      predictions.append(best_label)\n",
        "\n",
        "    return predictions"
      ]
    },
    {
      "cell_type": "code",
      "execution_count": 6,
      "metadata": {
        "id": "tb85vAgDPPdC"
      },
      "outputs": [],
      "source": [
        "def k_fold_validation(x_train_data, y_train_data, model = NB(), K = 10):\n",
        "  assert type(x_train_data) == np.ndarray and type(y_train_data) == np.ndarray\n",
        "\n",
        "  len_of_data  = len(x_train_data) - len(x_train_data) % K\n",
        "  data_x       = x_train_data[:len_of_data]\n",
        "  data_y       = y_train_data[:len_of_data]\n",
        "  size_of_fold = len(x_train_data[:len_of_data]) // K\n",
        "  validation_error = 0\n",
        "\n",
        "  error    = []\n",
        "  pred     = []\n",
        "  timings  = []\n",
        "  no_preds = []\n",
        "\n",
        "  for i in range(K):\n",
        "\n",
        "    naive_bayes = model\n",
        "\n",
        "    if i != K-1:\n",
        "      validation_fold_x = data_x[i*size_of_fold:(i+1)*size_of_fold]\n",
        "      validation_fold_y = data_y[i*size_of_fold:(i+1)*size_of_fold]\n",
        "\n",
        "      training_folds_x  = np.concatenate((data_x[:i*size_of_fold], data_x[(i+1)*size_of_fold:]))\n",
        "      training_folds_y  = np.concatenate((data_y[:i*size_of_fold], data_y[(i+1)*size_of_fold:]))\n",
        "\n",
        "    else:\n",
        "      validation_fold_x = data_x[i*size_of_fold:]\n",
        "      validation_fold_y = data_y[i*size_of_fold:]\n",
        "\n",
        "      training_folds_x  = data_x[:i*size_of_fold]\n",
        "      training_folds_y  = data_y[:i*size_of_fold]\n",
        "\n",
        "    start_time = time.time()\n",
        "    naive_bayes.fit(training_folds_x, training_folds_y)\n",
        "    end_time = time.time()\n",
        "\n",
        "    timings.append(end_time - start_time)\n",
        "\n",
        "    pred_valid = naive_bayes.predict(validation_fold_x)\n",
        "    no_pred = naive_bayes.no_pred\n",
        "    # pred_train = naive_bayes.predict(training_folds_x)\n",
        "\n",
        "    fold_error = {}\n",
        "    fold_error['validation'] = 1 - accuracy_score(pred_valid, validation_fold_y)\n",
        "    validation_error        += 1 - accuracy_score(pred_valid, validation_fold_y)\n",
        "    # fold_error['train']      = 1 - accuracy_score(pred_train, training_folds_y)\n",
        "\n",
        "    model_pred = {}\n",
        "    model_pred['validation'] = (pred_valid, validation_fold_y)\n",
        "    # model_pred['train']      = (pred_train, training_folds_y )\n",
        "\n",
        "    error.append(fold_error)\n",
        "    pred.append(model_pred)\n",
        "    no_preds.append(no_pred)\n",
        "\n",
        "  info = {'error': error, 'pred': pred, 'time': timings, 'no_preds' : no_preds}\n",
        "\n",
        "  return validation_error/K, info"
      ]
    },
    {
      "cell_type": "markdown",
      "metadata": {
        "id": "7xBVjFXWpw7p"
      },
      "source": [
        "# Simple test cases for NB"
      ]
    },
    {
      "cell_type": "code",
      "execution_count": 11,
      "metadata": {
        "colab": {
          "base_uri": "https://localhost:8080/"
        },
        "id": "qo7BKNgek7NV",
        "outputId": "e2223df8-92b1-436a-a53e-fbb6d009b16c"
      },
      "outputs": [
        {
          "output_type": "stream",
          "name": "stderr",
          "text": [
            "Loading…: 100%|████████████████████████████| 1/1 [00:00<00:00, 1451.82it/s]\n"
          ]
        },
        {
          "output_type": "execute_result",
          "data": {
            "text/plain": [
              "['1']"
            ]
          },
          "metadata": {},
          "execution_count": 11
        }
      ],
      "source": [
        "train_corpus = [\n",
        "    'This is the first document.',\n",
        "    'This document is the second document.',\n",
        "    'And this is the third one.',\n",
        "     'Is this the first document?',]\n",
        "test_labels = np.array(['1', '2', '3', '4'])\n",
        "train_corpus = np.array(train_corpus)\n",
        "test_corpus = ['harro first pink haha']\n",
        "model = NB()\n",
        "model.fit(train_corpus, test_labels)\n",
        "model.predict(test_corpus)"
      ]
    },
    {
      "cell_type": "code",
      "execution_count": 12,
      "metadata": {
        "colab": {
          "base_uri": "https://localhost:8080/"
        },
        "id": "_jmTZkw2lgUe",
        "outputId": "3a9d9ee9-a9d8-4aa6-f200-bc0a89c09b4b"
      },
      "outputs": [
        {
          "output_type": "stream",
          "name": "stderr",
          "text": [
            "Loading…: 100%|████████████████████████████| 3/3 [00:00<00:00, 3534.53it/s]"
          ]
        },
        {
          "output_type": "stream",
          "name": "stdout",
          "text": [
            "\n",
            "[0, 1, 0]\n"
          ]
        },
        {
          "output_type": "stream",
          "name": "stderr",
          "text": [
            "\n"
          ]
        }
      ],
      "source": [
        "# Training data\n",
        "X_train = np.array([\n",
        "    \"I love this movie\",\n",
        "    \"This movie is great\",\n",
        "    \"A movie like this is great\",\n",
        "    \"I hate this movie\",\n",
        "    \"This movie is terrible\"])\n",
        "\n",
        "# Corresponding labels\n",
        "y_train = np.array([1, 1, 1, 0, 0])  # 1 for positive sentiment, 0 for negative sentiment\n",
        "\n",
        "model = NB()\n",
        "model.fit(X_train, y_train)\n",
        "X_test = [\n",
        "    \"I love this movie terrible\", # Example of both class being viable but the second being chosen due to label eval order in NB\n",
        "    \"I hate this great movie\",\n",
        "    \"This movie is terrible\"]\n",
        "\n",
        "res = model.predict(X_test)\n",
        "print()\n",
        "print(res)"
      ]
    },
    {
      "cell_type": "markdown",
      "source": [
        "? Integrate Langdetect into features ?"
      ],
      "metadata": {
        "id": "3-lTY1rZJsfM"
      }
    },
    {
      "cell_type": "markdown",
      "metadata": {
        "id": "PlHr32RYp0Fn"
      },
      "source": [
        "# K-fold for NB"
      ]
    },
    {
      "cell_type": "code",
      "execution_count": null,
      "metadata": {
        "id": "eTGtkcsZM7FP"
      },
      "outputs": [],
      "source": [
        "# TODO: No predictions given, divide by zero warnings might be the cause (Solved?)\n",
        "# TODO: Test changing the prob caluclation to be a sum of logs"
      ]
    },
    {
      "cell_type": "code",
      "execution_count": 13,
      "metadata": {
        "colab": {
          "base_uri": "https://localhost:8080/"
        },
        "id": "mVQVLywgFjE1",
        "outputId": "8c0b7e22-20f1-4e0a-be8a-97c0d56e21d0"
      },
      "outputs": [
        {
          "output_type": "stream",
          "name": "stderr",
          "text": [
            "Loading…: 100%|██████████████████████████| 139/139 [00:04<00:00, 32.13it/s]\n"
          ]
        },
        {
          "output_type": "stream",
          "name": "stdout",
          "text": [
            "0.5755395683453237\n",
            "\n",
            "\n",
            "Model Misses: []\n"
          ]
        },
        {
          "output_type": "stream",
          "name": "stderr",
          "text": [
            "Loading…: 100%|██████████████████████████| 126/126 [00:04<00:00, 26.30it/s]\n",
            "Loading…:  42%|███████████▎               | 53/126 [00:03<00:04, 14.79it/s]<ipython-input-9-004da2581a19>:60: RuntimeWarning: divide by zero encountered in log\n",
            "  p_of_y_given_x = np.log(p_of_y * p_of_x_given_y)\n",
            "Loading…: 100%|██████████████████████████| 126/126 [00:06<00:00, 20.07it/s]\n",
            "Loading…:  94%|████████████████████████▌ | 119/126 [00:03<00:00, 32.62it/s]<ipython-input-9-004da2581a19>:60: RuntimeWarning: divide by zero encountered in log\n",
            "  p_of_y_given_x = np.log(p_of_y * p_of_x_given_y)\n",
            "Loading…: 100%|██████████████████████████| 126/126 [00:03<00:00, 32.18it/s]\n",
            "Loading…: 100%|██████████████████████████| 126/126 [00:03<00:00, 32.11it/s]\n",
            "Loading…:  11%|███                        | 14/126 [00:00<00:06, 18.59it/s]<ipython-input-9-004da2581a19>:60: RuntimeWarning: divide by zero encountered in log\n",
            "  p_of_y_given_x = np.log(p_of_y * p_of_x_given_y)\n",
            "Loading…: 100%|██████████████████████████| 126/126 [00:05<00:00, 21.73it/s]\n",
            "Loading…: 100%|██████████████████████████| 126/126 [00:03<00:00, 35.82it/s]\n",
            "Loading…:  14%|███▊                       | 18/126 [00:00<00:02, 37.86it/s]<ipython-input-9-004da2581a19>:60: RuntimeWarning: divide by zero encountered in log\n",
            "  p_of_y_given_x = np.log(p_of_y * p_of_x_given_y)\n",
            "Loading…: 100%|██████████████████████████| 126/126 [00:03<00:00, 32.90it/s]\n",
            "Loading…:  56%|███████████████            | 70/126 [00:04<00:03, 15.58it/s]<ipython-input-9-004da2581a19>:60: RuntimeWarning: divide by zero encountered in log\n",
            "  p_of_y_given_x = np.log(p_of_y * p_of_x_given_y)\n",
            "Loading…: 100%|██████████████████████████| 126/126 [00:06<00:00, 20.29it/s]\n",
            "Loading…: 100%|██████████████████████████| 126/126 [00:04<00:00, 29.39it/s]\n",
            "Loading…:   7%|██                          | 9/126 [00:00<00:03, 32.95it/s]<ipython-input-9-004da2581a19>:60: RuntimeWarning: divide by zero encountered in log\n",
            "  p_of_y_given_x = np.log(p_of_y * p_of_x_given_y)\n",
            "Loading…: 100%|██████████████████████████| 126/126 [00:06<00:00, 20.86it/s]"
          ]
        },
        {
          "output_type": "stream",
          "name": "stdout",
          "text": [
            "\n",
            "Mean Error: 0.44603174603174606\n",
            "\n",
            "\n",
            "Model Misses: []\n"
          ]
        },
        {
          "output_type": "stream",
          "name": "stderr",
          "text": [
            "\n"
          ]
        }
      ],
      "source": [
        "# No preprocessing\n",
        "test_split = 0.1\n",
        "\n",
        "(training_data_split, testing_data_split, training_labels_split, testing_labels_split) = train_test_split(training_data, training_labels,  test_size = int(len(training_data)*test_split), random_state=seed)\n",
        "\n",
        "model = NB()\n",
        "model.fit(training_data_split, training_labels_split)\n",
        "pred = model.predict(testing_data_split)\n",
        "print((pred == testing_labels_split).sum()/len(testing_labels_split))\n",
        "print()\n",
        "print('\\nModel Misses: {}'.format(model.no_pred))\n",
        "\n",
        "mean_error, info = k_fold_validation(training_data_split, training_labels_split)\n",
        "print()\n",
        "print('Mean Error: {}'.format(mean_error))\n",
        "print()\n",
        "print('\\nModel Misses: {}'.format(model.no_pred))"
      ]
    },
    {
      "cell_type": "code",
      "source": [
        "# With Processing\n",
        "spacy_stopwords_list = list(fr_stop) + list(en_stop)\n",
        "nltk_stopwords_list = stopwords.words('english') + stopwords.words('french')\n",
        "other_stop_words = ['http', 'https', 'www']\n",
        "stop_words = list(set().union(spacy_stopwords_list, nltk_stopwords_list, other_stop_words))\n",
        "\n",
        "processed_training_data = preprocess(training_data, stop_words = stop_words, is_lemmatize = False)\n",
        "\n",
        "test_split = 0.1\n",
        "\n",
        "(training_data_split, testing_data_split, training_labels_split, testing_labels_split) = train_test_split(processed_training_data, training_labels,  test_size = int(len(processed_training_data)*test_split), random_state=seed)\n",
        "\n",
        "model = NB()\n",
        "model.fit(training_data_split, training_labels_split)\n",
        "pred = model.predict(testing_data_split)\n",
        "print((pred == testing_labels_split).sum()/len(testing_labels_split))\n",
        "\n",
        "mean_error, info = k_fold_validation(training_data_split, training_labels_split)\n",
        "print()\n",
        "print('Mean Error: {}'.format(mean_error))\n",
        "print()\n",
        "print('\\nModel Misses: {}'.format(model.no_pred))"
      ],
      "metadata": {
        "colab": {
          "base_uri": "https://localhost:8080/"
        },
        "id": "PbhToUzaVp1x",
        "outputId": "4db67450-2650-4187-e06e-7aaaeb306d3f"
      },
      "execution_count": null,
      "outputs": [
        {
          "output_type": "stream",
          "name": "stderr",
          "text": [
            "Loading…: 100%|██████████████████████████| 139/139 [00:04<00:00, 28.65it/s]\n"
          ]
        },
        {
          "output_type": "stream",
          "name": "stdout",
          "text": [
            "0.6762589928057554\n"
          ]
        },
        {
          "output_type": "stream",
          "name": "stderr",
          "text": [
            "Loading…: 100%|██████████████████████████| 126/126 [00:02<00:00, 47.40it/s]\n",
            "Loading…: 100%|██████████████████████████| 126/126 [00:02<00:00, 43.77it/s]\n",
            "Loading…: 100%|██████████████████████████| 126/126 [00:02<00:00, 46.61it/s]\n",
            "Loading…: 100%|██████████████████████████| 126/126 [00:03<00:00, 33.05it/s]\n",
            "Loading…: 100%|██████████████████████████| 126/126 [00:03<00:00, 40.11it/s]\n",
            "Loading…: 100%|██████████████████████████| 126/126 [00:02<00:00, 47.24it/s]\n",
            "Loading…: 100%|██████████████████████████| 126/126 [00:02<00:00, 45.66it/s]\n",
            "Loading…: 100%|██████████████████████████| 126/126 [00:03<00:00, 37.31it/s]\n",
            "Loading…: 100%|██████████████████████████| 126/126 [00:03<00:00, 32.63it/s]\n",
            "Loading…: 100%|██████████████████████████| 126/126 [00:02<00:00, 45.71it/s]"
          ]
        },
        {
          "output_type": "stream",
          "name": "stdout",
          "text": [
            "\n",
            "Mean Error: 0.3841269841269841\n",
            "\n",
            "\n",
            "Model Misses: []\n"
          ]
        },
        {
          "output_type": "stream",
          "name": "stderr",
          "text": [
            "\n"
          ]
        }
      ]
    },
    {
      "cell_type": "code",
      "source": [
        "spacy_stopwords_list = list(fr_stop) + list(en_stop)\n",
        "nltk_stopwords_list = stopwords.words('english') + stopwords.words('french')\n",
        "other_stop_words = ['http', 'https', 'www']\n",
        "stop_words = list(set().union(spacy_stopwords_list, nltk_stopwords_list, other_stop_words))\n",
        "print(len(list(set().union(spacy_stopwords_list, nltk_stopwords_list, other_stop_words))))\n",
        "print(len(list(set().union(spacy_stopwords_list))))\n",
        "print(len(list(set().union(nltk_stopwords_list))))"
      ],
      "metadata": {
        "colab": {
          "base_uri": "https://localhost:8080/"
        },
        "id": "7QELtHbx8MZR",
        "outputId": "41ee3639-e98c-4d99-bdf4-7c4091f2d823"
      },
      "execution_count": 8,
      "outputs": [
        {
          "output_type": "stream",
          "name": "stdout",
          "text": [
            "949\n",
            "825\n",
            "327\n"
          ]
        }
      ]
    },
    {
      "cell_type": "code",
      "source": [
        "# With Processing\n",
        "# lemmatized_data = preprocess(training_data, regex_pattern = r\"(?u)\\b[a-z][a-z]+\\b\", stop_words = None, is_lemmatize = True)\n",
        "spacy_stopwords_list = list(fr_stop) + list(en_stop)\n",
        "nltk_stopwords_list = stopwords.words('english') + stopwords.words('french')\n",
        "other_stop_words = ['http', 'https', 'www']\n",
        "stop_words = list(set().union(spacy_stopwords_list, nltk_stopwords_list, other_stop_words))\n",
        "\n",
        "processed_training_data = preprocess(lemmatized_training_data, regex_pattern = r\"(?u)\\b[a-z][a-z]+\\b\", stop_words = stop_words)\n",
        "\n",
        "test_split = 0.1\n",
        "\n",
        "(training_data_split, testing_data_split, training_labels_split, testing_labels_split) = train_test_split(processed_training_data, training_labels,  test_size = int(len(processed_training_data)*test_split), random_state=seed)\n",
        "\n",
        "model = NB()\n",
        "model.fit(training_data_split, training_labels_split)\n",
        "pred = model.predict(testing_data_split)\n",
        "print((pred == testing_labels_split).sum()/len(testing_labels_split))\n",
        "\n",
        "mean_error, info = k_fold_validation(training_data_split, training_labels_split)\n",
        "print()\n",
        "print('Mean Error: {}'.format(mean_error))\n",
        "print()\n",
        "print('\\nModel Misses: {}'.format(model.no_pred))"
      ],
      "metadata": {
        "colab": {
          "base_uri": "https://localhost:8080/"
        },
        "id": "i1udosiGb4te",
        "outputId": "6c06287d-1314-48fb-bbbb-0380552ce980"
      },
      "execution_count": null,
      "outputs": [
        {
          "output_type": "stream",
          "name": "stderr",
          "text": [
            "Loading…: 100%|██████████████████████████| 139/139 [00:04<00:00, 33.47it/s]\n"
          ]
        },
        {
          "output_type": "stream",
          "name": "stdout",
          "text": [
            "0.6546762589928058\n"
          ]
        },
        {
          "output_type": "stream",
          "name": "stderr",
          "text": [
            "Loading…: 100%|██████████████████████████| 126/126 [00:04<00:00, 31.01it/s]\n",
            "Loading…: 100%|██████████████████████████| 126/126 [00:03<00:00, 41.47it/s]\n",
            "Loading…: 100%|██████████████████████████| 126/126 [00:02<00:00, 47.82it/s]\n",
            "Loading…: 100%|██████████████████████████| 126/126 [00:02<00:00, 49.75it/s]\n",
            "Loading…: 100%|██████████████████████████| 126/126 [00:03<00:00, 36.50it/s]\n",
            "Loading…: 100%|██████████████████████████| 126/126 [00:03<00:00, 35.53it/s]\n",
            "Loading…: 100%|██████████████████████████| 126/126 [00:02<00:00, 46.85it/s]\n",
            "Loading…: 100%|██████████████████████████| 126/126 [00:02<00:00, 46.84it/s]\n",
            "Loading…: 100%|██████████████████████████| 126/126 [00:02<00:00, 45.87it/s]\n",
            "Loading…: 100%|██████████████████████████| 126/126 [00:04<00:00, 28.60it/s]"
          ]
        },
        {
          "output_type": "stream",
          "name": "stdout",
          "text": [
            "\n",
            "Mean Error: 0.38253968253968246\n",
            "\n",
            "\n",
            "Model Misses: []\n"
          ]
        },
        {
          "output_type": "stream",
          "name": "stderr",
          "text": [
            "\n"
          ]
        }
      ]
    },
    {
      "cell_type": "code",
      "source": [
        "lemmatized_training_data[0]"
      ],
      "metadata": {
        "colab": {
          "base_uri": "https://localhost:8080/",
          "height": 53
        },
        "id": "qqWqmkZIpufC",
        "outputId": "a5d35c31-2c29-43b5-9a2b-d21f73fc2de0"
      },
      "execution_count": 52,
      "outputs": [
        {
          "output_type": "execute_result",
          "data": {
            "text/plain": [
              "'operational so set delay point just donor about do be and time will year can their churn coal whole up they keep herring the switch another by nuclear have be red decade to it renewables something'"
            ],
            "application/vnd.google.colaboratory.intrinsic+json": {
              "type": "string"
            }
          },
          "metadata": {},
          "execution_count": 52
        }
      ]
    },
    {
      "cell_type": "code",
      "source": [
        "training_data[0]"
      ],
      "metadata": {
        "colab": {
          "base_uri": "https://localhost:8080/",
          "height": 53
        },
        "id": "9jm5Sw-opxVM",
        "outputId": "a20ba691-0888-4a97-b21c-87fdb1d6093f"
      },
      "execution_count": 53,
      "outputs": [
        {
          "output_type": "execute_result",
          "data": {
            "text/plain": [
              "'just another red herring. they had 10 years to do something about it. the whole point is to delay switch to renewables so their donors can keep churning coal. by the time nuclear is set up and operational it will be decades.ÿ'"
            ],
            "application/vnd.google.colaboratory.intrinsic+json": {
              "type": "string"
            }
          },
          "metadata": {},
          "execution_count": 53
        }
      ]
    },
    {
      "cell_type": "code",
      "source": [
        "from sklearn.naive_bayes import MultinomialNB\n",
        "\n",
        "spacy_stopwords_list = list(fr_stop) + list(en_stop)\n",
        "nltk_stopwords_list = stopwords.words('english') + stopwords.words('french')\n",
        "other_stop_words = ['http', 'https', 'www']\n",
        "stop_words = list(set().union(spacy_stopwords_list, nltk_stopwords_list, other_stop_words))\n",
        "\n",
        "# processed_training_data = preprocess(lemmatized_training_data, regex_pattern = r\"(?u)\\b[a-z][a-z]+\\b\", stop_words = stop_words)\n",
        "processed_training_data = preprocess(training_data, regex_pattern = r\"(?u)\\b[a-z][a-z]+\\b\", stop_words = stop_words)\n",
        "\n",
        "test_split = 0.1\n",
        "\n",
        "(training_data_split, testing_data_split, training_labels_split, testing_labels_split) = train_test_split(processed_training_data, training_labels,  test_size = int(len(processed_training_data)*test_split), random_state=seed)\n",
        "\n",
        "for mf in [500, 1000, 2000, 3000, 4000, 5000]:\n",
        "  for ng in [(1,1), (1,2), (1,3), (1,5)]:\n",
        "    vectorizer = CountVectorizer(binary=True, max_features = mf, token_pattern = r\"(?u)\\b[a-z][a-z]+\\b\", ngram_range=ng)\n",
        "    x_train = np.array(vectorizer.fit_transform(training_data_split).todense())\n",
        "    x_test  = np.array(vectorizer.transform(testing_data_split).todense())\n",
        "\n",
        "\n",
        "    clf = MultinomialNB()\n",
        "    clf.fit(x_train, training_labels_split)\n",
        "    print(mf, ng)\n",
        "    print(clf.score(x_test, testing_labels_split))"
      ],
      "metadata": {
        "colab": {
          "base_uri": "https://localhost:8080/"
        },
        "id": "ncNqQPb7Et1G",
        "outputId": "614a2217-cf2c-4263-989b-948ae8ec6ce3"
      },
      "execution_count": null,
      "outputs": [
        {
          "output_type": "stream",
          "name": "stdout",
          "text": [
            "500 (1, 1)\n",
            "0.5899280575539568\n",
            "500 (1, 2)\n",
            "0.5899280575539568\n",
            "500 (1, 3)\n",
            "0.5899280575539568\n",
            "500 (1, 5)\n",
            "0.5827338129496403\n",
            "1000 (1, 1)\n",
            "0.6330935251798561\n",
            "1000 (1, 2)\n",
            "0.6258992805755396\n",
            "1000 (1, 3)\n",
            "0.6258992805755396\n",
            "1000 (1, 5)\n",
            "0.6115107913669064\n",
            "2000 (1, 1)\n",
            "0.6690647482014388\n",
            "2000 (1, 2)\n",
            "0.6402877697841727\n",
            "2000 (1, 3)\n",
            "0.6258992805755396\n",
            "2000 (1, 5)\n",
            "0.6330935251798561\n",
            "3000 (1, 1)\n",
            "0.6690647482014388\n",
            "3000 (1, 2)\n",
            "0.6402877697841727\n",
            "3000 (1, 3)\n",
            "0.6474820143884892\n",
            "3000 (1, 5)\n",
            "0.6115107913669064\n",
            "4000 (1, 1)\n",
            "0.6618705035971223\n",
            "4000 (1, 2)\n",
            "0.6546762589928058\n",
            "4000 (1, 3)\n",
            "0.6474820143884892\n",
            "4000 (1, 5)\n",
            "0.6402877697841727\n",
            "5000 (1, 1)\n",
            "0.6546762589928058\n",
            "5000 (1, 2)\n",
            "0.6834532374100719\n",
            "5000 (1, 3)\n",
            "0.6834532374100719\n",
            "5000 (1, 5)\n",
            "0.6402877697841727\n"
          ]
        }
      ]
    },
    {
      "cell_type": "code",
      "source": [
        "from sklearn.linear_model import LogisticRegression\n",
        "from sklearn.naive_bayes import MultinomialNB\n",
        "from sklearn.pipeline import Pipeline\n",
        "from sklearn.model_selection import cross_val_score, KFold, GridSearchCV\n",
        "from sklearn.feature_extraction.text import TfidfVectorizer\n",
        "\n",
        "spacy_stopwords_list = list(fr_stop) + list(en_stop)\n",
        "nltk_stopwords_list = stopwords.words('english') + stopwords.words('french')\n",
        "other_stop_words = ['http', 'https', 'www']\n",
        "stop_words = list(set().union(spacy_stopwords_list, nltk_stopwords_list, other_stop_words))\n",
        "\n",
        "processed_training_data = preprocess(lemmatized_training_data, stop_words = stop_words)\n",
        "# processed_training_data = preprocess(training_data, stop_words = stop_words)\n",
        "\n",
        "model = LogisticRegression()\n",
        "# k_fold = KFold(n_splits=10, shuffle=True, random_state=seed)  # Define number of folds (k) and random state\n",
        "\n",
        "pipeline = Pipeline([\n",
        "    ('vectorizer', None),\n",
        "    ('model', model)\n",
        "])\n",
        "\n",
        "# Define the parameter grid with conditional hyperparameters for both vectorizers\n",
        "param_grid = [\n",
        "    {\n",
        "        'vectorizer': [TfidfVectorizer(token_pattern = r\"(?u)\\b[a-z][a-z]+\\b\")],\n",
        "        'vectorizer__max_features': [3000, 4000, 5000],\n",
        "        'vectorizer__max_df': [0.5, 1.0],  # Example TfidfVectorizer hyperparameter\n",
        "        'vectorizer__min_df': [1, 2],          # Example TfidfVectorizer hyperparameter\n",
        "        'vectorizer__ngram_range': [(1,1), (1,2), (1,3)],\n",
        "        'model__C': [0.1, 1, 10],\n",
        "    },\n",
        "    {\n",
        "        'vectorizer': [CountVectorizer(token_pattern = r\"(?u)\\b[a-z][a-z]+\\b\")],\n",
        "        'vectorizer__max_features': [3000, 4000, 5000],\n",
        "        'vectorizer__ngram_range': [(1,1), (1,2), (1,3)],\n",
        "        'vectorizer__binary': [True, False],\n",
        "        'vectorizer__max_df': [0.5, 1.0],\n",
        "        'vectorizer__min_df': [1, 2],\n",
        "        'model__C': [0.1, 1, 10],\n",
        "    }\n",
        "]\n",
        "\n",
        "grid_search = GridSearchCV(estimator=pipeline, param_grid=param_grid, cv=5, scoring='accuracy')\n",
        "grid_search.fit(processed_training_data, training_labels)\n",
        "\n",
        "# Get the best parameters and best score\n",
        "print(\"Best Parameters:\", grid_search.best_params_)\n",
        "print(\"Best Score:\", grid_search.best_score_)\n"
      ],
      "metadata": {
        "id": "jPORx40j1mdE"
      },
      "execution_count": null,
      "outputs": []
    },
    {
      "cell_type": "code",
      "source": [
        "print(\"Best Parameters:\", grid_search.best_params_)\n",
        "print(\"Best Score:\", grid_search.best_score_)"
      ],
      "metadata": {
        "colab": {
          "base_uri": "https://localhost:8080/"
        },
        "id": "IyYuopawIUT3",
        "outputId": "03879fe1-9fcb-49df-b74f-6b740a04b259"
      },
      "execution_count": 38,
      "outputs": [
        {
          "output_type": "stream",
          "name": "stdout",
          "text": [
            "Best Parameters: {'model__C': 10, 'vectorizer': TfidfVectorizer(max_df=0.5, max_features=4000,\n",
            "                token_pattern='(?u)\\\\b[a-z][a-z]+\\\\b'), 'vectorizer__max_df': 0.5, 'vectorizer__max_features': 4000, 'vectorizer__min_df': 1, 'vectorizer__ngram_range': (1, 1)}\n",
            "Best Score: 0.6961776753712238\n"
          ]
        }
      ]
    },
    {
      "cell_type": "code",
      "source": [
        "from sklearn.linear_model import LogisticRegression\n",
        "from sklearn.naive_bayes import MultinomialNB\n",
        "from sklearn.pipeline import Pipeline\n",
        "from sklearn.model_selection import cross_val_score, KFold, GridSearchCV\n",
        "from sklearn.feature_extraction.text import TfidfVectorizer\n",
        "\n",
        "spacy_stopwords_list = list(fr_stop) + list(en_stop)\n",
        "nltk_stopwords_list = stopwords.words('english') + stopwords.words('french')\n",
        "other_stop_words = ['http', 'https', 'www']\n",
        "stop_words = list(set().union(spacy_stopwords_list, nltk_stopwords_list, other_stop_words))\n",
        "\n",
        "processed_training_data_1 = preprocess(lemmatized_training_data, stop_words = stop_words)\n",
        "processed_training_data_2 = preprocess(training_data, stop_words = stop_words)\n",
        "\n",
        "pipeline = Pipeline([\n",
        "    ('vectorizer', TfidfVectorizer(token_pattern = r\"(?u)\\b[a-z][a-z]+\\b\", max_df = 0.5, max_features = 4000, min_df= 1)),\n",
        "    ('model', LogisticRegression(random_state = seed, max_iter = 1000))\n",
        "])\n",
        "\n",
        "param_grid = [\n",
        "\n",
        "    {\n",
        "        'model__C': [1e-3, 1e-1, 1, 10, 1e2],\n",
        "        'model__solver' : ['lbfgs', 'liblinear', 'newton-cg', 'newton-cholesky', 'sag', 'saga']\n",
        "    }\n",
        "]\n",
        "\n",
        "for x_train in (processed_training_data_1, processed_training_data_2):\n",
        "  grid_search = GridSearchCV(estimator=pipeline, param_grid=param_grid, cv=5, scoring='accuracy')\n",
        "  grid_search.fit(x_train, training_labels)\n",
        "\n",
        "  # Get the best parameters and best score\n",
        "  print(\"Best Parameters:\", grid_search.best_params_)\n",
        "  print(\"Best Score:\", grid_search.best_score_)\n"
      ],
      "metadata": {
        "colab": {
          "base_uri": "https://localhost:8080/"
        },
        "id": "hFtpvwqGKap1",
        "outputId": "28505fbf-a008-4830-8561-02cf5708801b"
      },
      "execution_count": 41,
      "outputs": [
        {
          "output_type": "stream",
          "name": "stdout",
          "text": [
            "Best Parameters: {'model__C': 10, 'model__solver': 'lbfgs'}\n",
            "Best Score: 0.6961776753712238\n",
            "Best Parameters: {'model__C': 10, 'model__solver': 'liblinear'}\n",
            "Best Score: 0.6890527393753201\n"
          ]
        }
      ]
    },
    {
      "cell_type": "code",
      "source": [
        "processed_training_data = preprocess(lemmatized_training_data, stop_words = stop_words)\n",
        "(training_data_split, testing_data_split, training_labels_split, testing_labels_split) = train_test_split(processed_training_data, training_labels, test_size = int(len(processed_training_data)*0.1), random_state=seed)\n",
        "vct = TfidfVectorizer(token_pattern = r\"(?u)\\b[a-z][a-z]+\\b\", max_df = 0.5, max_features = 4000, min_df= 1)\n",
        "training_data_split = vct.fit_transform(training_data_split)\n",
        "testing_data_split = vct.transform(testing_data_split)\n",
        "\n",
        "temp = LogisticRegression(random_state = seed, max_iter = 1000, C = 10)\n",
        "temp.fit(training_data_split, training_labels_split)\n",
        "y_pred =temp.predict(testing_data_split)\n",
        "accuracy_score(y_pred, testing_labels_split)"
      ],
      "metadata": {
        "colab": {
          "base_uri": "https://localhost:8080/"
        },
        "id": "60LFVBIib4pW",
        "outputId": "be8071b2-bc7a-4fc1-c83c-8db64c9499ce"
      },
      "execution_count": 50,
      "outputs": [
        {
          "output_type": "execute_result",
          "data": {
            "text/plain": [
              "0.6834532374100719"
            ]
          },
          "metadata": {},
          "execution_count": 50
        }
      ]
    },
    {
      "cell_type": "code",
      "source": [
        "test_df   = pd.read_csv(path + 'test.csv', encoding = \"ISO-8859-1\")\n",
        "test_data = test_df['body'].apply(lambda x: x.lower().replace('_', ' ')).to_numpy()\n",
        "\n",
        "spacy_stopwords_list = list(fr_stop) + list(en_stop)\n",
        "nltk_stopwords_list = stopwords.words('english') + stopwords.words('french')\n",
        "other_stop_words = ['http', 'https', 'www']\n",
        "stop_words = list(set().union(spacy_stopwords_list, nltk_stopwords_list, other_stop_words))\n",
        "\n",
        "processed_training_data = preprocess(lemmatized_training_data, stop_words = stop_words)\n",
        "processed_test_data     = preprocess(test_data    , stop_words = None, is_lemmatize = True)\n",
        "processed_test_data     = preprocess(processed_test_data, stop_words = stop_words)\n",
        "\n",
        "vct = TfidfVectorizer(token_pattern = r\"(?u)\\b[a-z][a-z]+\\b\", max_df = 0.5, max_features = 4000, min_df= 1)\n",
        "\n",
        "best_model = grid_search.best_estimator_\n",
        "y_pred = best_model.predict(processed_test_data)\n",
        "\n",
        "pd.DataFrame({'Subreddit':y_pred}).reset_index().rename(columns={\"index\": \"Id\"}).to_csv('results.csv', index=False)"
      ],
      "metadata": {
        "id": "qcyF6j0PeV_P"
      },
      "execution_count": 51,
      "outputs": []
    },
    {
      "cell_type": "markdown",
      "source": [
        "# Experimentation"
      ],
      "metadata": {
        "id": "eqQEA-SVi8nW"
      }
    },
    {
      "cell_type": "code",
      "source": [
        "# Set Hps\n",
        "spacy_stopwords_list = list(fr_stop) + list(en_stop)\n",
        "nltk_stopwords_list = stopwords.words('english') + stopwords.words('french')\n",
        "other_stop_words = ['http', 'https', 'www']\n",
        "stop_words = list(set().union(spacy_stopwords_list, nltk_stopwords_list, other_stop_words))\n",
        "\n",
        "stop_words_list = [spacy_stopwords_list, nltk_stopwords_list, other_stop_words, stop_words]\n",
        "max_feats_list  = [500, 1000, 2000, 3000, 4000, 5000]\n",
        "is_lemmatize    = [True, False]\n",
        "ng_list         = [(1,1), (1,2), (1,3), (1,4), (1,5)]\n",
        "\n",
        "hps = list(product(stop_words_list, max_feats_list, is_lemmatize, ng_list))\n",
        "\n",
        "test_split = 0.1\n",
        "\n",
        "error = []\n",
        "infos  = []\n",
        "\n",
        "count = 1\n",
        "# Evaluate\n",
        "for stp_wd, max_feat, is_lem, ngram in hps:\n",
        "  print('Iteration: {}'.format(count))\n",
        "  if is_lem:\n",
        "    processed_training_data = preprocess(lemmatized_training_data, stop_words = stp_wd)\n",
        "  else:\n",
        "    processed_training_data = preprocess(training_data, stop_words = stp_wd)\n",
        "\n",
        "  (training_data_split, testing_data_split, training_labels_split, testing_labels_split) = train_test_split(processed_training_data, training_labels, test_size = int(len(processed_training_data)*test_split), random_state=seed)\n",
        "\n",
        "  model = NB(max_features = max_feat, ngram_range = ngram)\n",
        "\n",
        "  mean_error, info = k_fold_validation(training_data_split, training_labels_split, model = model)\n",
        "  error.append(mean_error)\n",
        "  infos.append(info)\n",
        "  count += 1\n",
        "  # print()\n",
        "  # print('Mean Error: {}'.format(mean_error))\n",
        "  # print()\n",
        "  # print('\\nModel Misses: {}'.format(model.no_pred))\n",
        "\n"
      ],
      "metadata": {
        "colab": {
          "base_uri": "https://localhost:8080/"
        },
        "id": "ul9lLemtKN-G",
        "outputId": "eaa05273-2258-42a8-a113-5df9325f62da"
      },
      "execution_count": null,
      "outputs": [
        {
          "output_type": "stream",
          "name": "stdout",
          "text": [
            "Iteration: 1\n"
          ]
        },
        {
          "output_type": "stream",
          "name": "stderr",
          "text": [
            "Loading…: 100%|█████████████████████████| 126/126 [00:00<00:00, 295.37it/s]\n",
            "Loading…: 100%|█████████████████████████| 126/126 [00:00<00:00, 279.93it/s]\n",
            "Loading…: 100%|█████████████████████████| 126/126 [00:00<00:00, 292.93it/s]\n",
            "Loading…: 100%|█████████████████████████| 126/126 [00:00<00:00, 313.32it/s]\n",
            "Loading…: 100%|█████████████████████████| 126/126 [00:00<00:00, 284.55it/s]\n",
            "Loading…: 100%|█████████████████████████| 126/126 [00:00<00:00, 304.08it/s]\n",
            "Loading…: 100%|█████████████████████████| 126/126 [00:00<00:00, 148.07it/s]\n",
            "Loading…: 100%|█████████████████████████| 126/126 [00:01<00:00, 104.32it/s]\n",
            "Loading…: 100%|█████████████████████████| 126/126 [00:01<00:00, 116.57it/s]\n",
            "Loading…: 100%|█████████████████████████| 126/126 [00:00<00:00, 152.06it/s]\n"
          ]
        },
        {
          "output_type": "stream",
          "name": "stdout",
          "text": [
            "Iteration: 2\n"
          ]
        },
        {
          "output_type": "stream",
          "name": "stderr",
          "text": [
            "Loading…: 100%|█████████████████████████| 126/126 [00:00<00:00, 126.95it/s]\n",
            "Loading…: 100%|█████████████████████████| 126/126 [00:01<00:00, 116.31it/s]\n",
            "Loading…: 100%|█████████████████████████| 126/126 [00:00<00:00, 231.25it/s]\n",
            "Loading…: 100%|█████████████████████████| 126/126 [00:00<00:00, 244.61it/s]\n",
            "Loading…: 100%|█████████████████████████| 126/126 [00:00<00:00, 237.82it/s]\n",
            "Loading…: 100%|█████████████████████████| 126/126 [00:00<00:00, 232.58it/s]\n",
            "Loading…: 100%|█████████████████████████| 126/126 [00:00<00:00, 220.58it/s]\n",
            "Loading…: 100%|█████████████████████████| 126/126 [00:00<00:00, 231.71it/s]\n",
            "Loading…: 100%|█████████████████████████| 126/126 [00:00<00:00, 225.38it/s]\n",
            "Loading…: 100%|█████████████████████████| 126/126 [00:00<00:00, 225.16it/s]\n"
          ]
        },
        {
          "output_type": "stream",
          "name": "stdout",
          "text": [
            "Iteration: 3\n"
          ]
        },
        {
          "output_type": "stream",
          "name": "stderr",
          "text": [
            "Loading…: 100%|█████████████████████████| 126/126 [00:00<00:00, 197.82it/s]\n",
            "Loading…: 100%|█████████████████████████| 126/126 [00:00<00:00, 180.76it/s]\n",
            "Loading…: 100%|█████████████████████████| 126/126 [00:00<00:00, 188.55it/s]\n",
            "Loading…: 100%|█████████████████████████| 126/126 [00:01<00:00, 106.50it/s]\n",
            "Loading…: 100%|██████████████████████████| 126/126 [00:01<00:00, 97.73it/s]\n",
            "Loading…: 100%|█████████████████████████| 126/126 [00:00<00:00, 205.39it/s]\n",
            "Loading…: 100%|█████████████████████████| 126/126 [00:00<00:00, 187.10it/s]\n",
            "Loading…: 100%|█████████████████████████| 126/126 [00:00<00:00, 189.09it/s]\n",
            "Loading…: 100%|█████████████████████████| 126/126 [00:00<00:00, 189.12it/s]\n",
            "Loading…: 100%|█████████████████████████| 126/126 [00:00<00:00, 192.65it/s]\n"
          ]
        },
        {
          "output_type": "stream",
          "name": "stdout",
          "text": [
            "Iteration: 4\n"
          ]
        },
        {
          "output_type": "stream",
          "name": "stderr",
          "text": [
            "Loading…: 100%|█████████████████████████| 126/126 [00:00<00:00, 182.29it/s]\n",
            "Loading…: 100%|█████████████████████████| 126/126 [00:00<00:00, 151.80it/s]\n",
            "Loading…: 100%|█████████████████████████| 126/126 [00:00<00:00, 166.17it/s]\n",
            "Loading…: 100%|██████████████████████████| 126/126 [00:01<00:00, 93.55it/s]\n",
            "Loading…: 100%|█████████████████████████| 126/126 [00:01<00:00, 113.39it/s]\n",
            "Loading…: 100%|█████████████████████████| 126/126 [00:00<00:00, 172.48it/s]\n",
            "Loading…: 100%|█████████████████████████| 126/126 [00:00<00:00, 154.69it/s]\n",
            "Loading…: 100%|█████████████████████████| 126/126 [00:00<00:00, 160.48it/s]\n",
            "Loading…: 100%|█████████████████████████| 126/126 [00:00<00:00, 161.07it/s]\n",
            "Loading…: 100%|█████████████████████████| 126/126 [00:00<00:00, 161.20it/s]\n"
          ]
        },
        {
          "output_type": "stream",
          "name": "stdout",
          "text": [
            "Iteration: 5\n"
          ]
        },
        {
          "output_type": "stream",
          "name": "stderr",
          "text": [
            "Loading…: 100%|█████████████████████████| 126/126 [00:00<00:00, 155.28it/s]\n",
            "Loading…: 100%|██████████████████████████| 126/126 [00:01<00:00, 78.32it/s]\n",
            "Loading…: 100%|██████████████████████████| 126/126 [00:01<00:00, 91.39it/s]\n",
            "Loading…: 100%|█████████████████████████| 126/126 [00:00<00:00, 163.42it/s]\n",
            "Loading…: 100%|█████████████████████████| 126/126 [00:00<00:00, 150.03it/s]\n",
            "Loading…: 100%|█████████████████████████| 126/126 [00:00<00:00, 147.07it/s]\n",
            "Loading…: 100%|█████████████████████████| 126/126 [00:00<00:00, 145.97it/s]\n",
            "Loading…: 100%|█████████████████████████| 126/126 [00:00<00:00, 140.47it/s]\n",
            "Loading…: 100%|█████████████████████████| 126/126 [00:00<00:00, 146.26it/s]\n",
            "Loading…: 100%|██████████████████████████| 126/126 [00:01<00:00, 83.52it/s]\n"
          ]
        },
        {
          "output_type": "stream",
          "name": "stdout",
          "text": [
            "Iteration: 6\n"
          ]
        },
        {
          "output_type": "stream",
          "name": "stderr",
          "text": [
            "Loading…: 100%|█████████████████████████| 126/126 [00:00<00:00, 203.86it/s]\n",
            "Loading…: 100%|█████████████████████████| 126/126 [00:00<00:00, 274.60it/s]\n",
            "Loading…: 100%|█████████████████████████| 126/126 [00:00<00:00, 287.31it/s]\n",
            "Loading…: 100%|█████████████████████████| 126/126 [00:00<00:00, 284.04it/s]\n",
            "Loading…: 100%|█████████████████████████| 126/126 [00:00<00:00, 293.17it/s]\n",
            "Loading…: 100%|█████████████████████████| 126/126 [00:00<00:00, 294.58it/s]\n",
            "Loading…: 100%|█████████████████████████| 126/126 [00:00<00:00, 288.14it/s]\n",
            "Loading…: 100%|█████████████████████████| 126/126 [00:00<00:00, 266.91it/s]\n",
            "Loading…: 100%|█████████████████████████| 126/126 [00:00<00:00, 280.45it/s]\n",
            "Loading…: 100%|█████████████████████████| 126/126 [00:00<00:00, 284.62it/s]\n"
          ]
        },
        {
          "output_type": "stream",
          "name": "stdout",
          "text": [
            "Iteration: 7\n"
          ]
        },
        {
          "output_type": "stream",
          "name": "stderr",
          "text": [
            "Loading…: 100%|█████████████████████████| 126/126 [00:00<00:00, 241.43it/s]\n",
            "Loading…: 100%|█████████████████████████| 126/126 [00:00<00:00, 212.95it/s]\n",
            "Loading…: 100%|█████████████████████████| 126/126 [00:00<00:00, 226.17it/s]\n",
            "Loading…: 100%|█████████████████████████| 126/126 [00:00<00:00, 243.23it/s]\n",
            "Loading…: 100%|█████████████████████████| 126/126 [00:00<00:00, 226.79it/s]\n",
            "Loading…: 100%|█████████████████████████| 126/126 [00:01<00:00, 123.19it/s]\n",
            "Loading…: 100%|█████████████████████████| 126/126 [00:01<00:00, 116.47it/s]\n",
            "Loading…: 100%|█████████████████████████| 126/126 [00:00<00:00, 139.86it/s]\n",
            "Loading…: 100%|█████████████████████████| 126/126 [00:00<00:00, 212.37it/s]\n",
            "Loading…: 100%|█████████████████████████| 126/126 [00:00<00:00, 217.91it/s]\n"
          ]
        },
        {
          "output_type": "stream",
          "name": "stdout",
          "text": [
            "Iteration: 8\n"
          ]
        },
        {
          "output_type": "stream",
          "name": "stderr",
          "text": [
            "Loading…: 100%|█████████████████████████| 126/126 [00:00<00:00, 194.25it/s]\n",
            "Loading…: 100%|█████████████████████████| 126/126 [00:00<00:00, 172.01it/s]\n",
            "Loading…: 100%|█████████████████████████| 126/126 [00:00<00:00, 186.19it/s]\n",
            "Loading…: 100%|█████████████████████████| 126/126 [00:00<00:00, 192.69it/s]\n",
            "Loading…: 100%|█████████████████████████| 126/126 [00:00<00:00, 183.10it/s]\n",
            "Loading…: 100%|█████████████████████████| 126/126 [00:00<00:00, 197.11it/s]\n",
            "Loading…: 100%|█████████████████████████| 126/126 [00:00<00:00, 141.18it/s]\n",
            "Loading…: 100%|██████████████████████████| 126/126 [00:01<00:00, 95.41it/s]\n",
            "Loading…: 100%|█████████████████████████| 126/126 [00:00<00:00, 130.84it/s]\n",
            "Loading…: 100%|█████████████████████████| 126/126 [00:00<00:00, 183.51it/s]\n"
          ]
        },
        {
          "output_type": "stream",
          "name": "stdout",
          "text": [
            "Iteration: 9\n"
          ]
        },
        {
          "output_type": "stream",
          "name": "stderr",
          "text": [
            "Loading…: 100%|█████████████████████████| 126/126 [00:00<00:00, 172.81it/s]\n",
            "Loading…: 100%|█████████████████████████| 126/126 [00:00<00:00, 146.36it/s]\n",
            "Loading…: 100%|█████████████████████████| 126/126 [00:00<00:00, 163.70it/s]\n",
            "Loading…: 100%|█████████████████████████| 126/126 [00:00<00:00, 178.07it/s]\n",
            "Loading…: 100%|█████████████████████████| 126/126 [00:00<00:00, 165.12it/s]\n",
            "Loading…: 100%|█████████████████████████| 126/126 [00:01<00:00, 108.20it/s]\n",
            "Loading…: 100%|██████████████████████████| 126/126 [00:01<00:00, 81.66it/s]\n",
            "Loading…: 100%|█████████████████████████| 126/126 [00:00<00:00, 153.90it/s]\n",
            "Loading…: 100%|█████████████████████████| 126/126 [00:00<00:00, 150.74it/s]\n",
            "Loading…: 100%|█████████████████████████| 126/126 [00:00<00:00, 155.18it/s]\n"
          ]
        },
        {
          "output_type": "stream",
          "name": "stdout",
          "text": [
            "Iteration: 10\n"
          ]
        },
        {
          "output_type": "stream",
          "name": "stderr",
          "text": [
            "Loading…: 100%|█████████████████████████| 126/126 [00:00<00:00, 158.35it/s]\n",
            "Loading…: 100%|█████████████████████████| 126/126 [00:00<00:00, 132.18it/s]\n",
            "Loading…: 100%|█████████████████████████| 126/126 [00:00<00:00, 147.65it/s]\n",
            "Loading…: 100%|██████████████████████████| 126/126 [00:01<00:00, 80.97it/s]\n",
            "Loading…: 100%|█████████████████████████| 126/126 [00:01<00:00, 119.11it/s]\n",
            "Loading…: 100%|█████████████████████████| 126/126 [00:00<00:00, 147.47it/s]\n",
            "Loading…: 100%|█████████████████████████| 126/126 [00:00<00:00, 134.77it/s]\n",
            "Loading…: 100%|██████████████████████████| 126/126 [00:01<00:00, 73.61it/s]\n",
            "Loading…: 100%|██████████████████████████| 126/126 [00:01<00:00, 93.20it/s]\n",
            "Loading…: 100%|█████████████████████████| 126/126 [00:01<00:00, 116.27it/s]\n"
          ]
        },
        {
          "output_type": "stream",
          "name": "stdout",
          "text": [
            "Iteration: 11\n"
          ]
        },
        {
          "output_type": "stream",
          "name": "stderr",
          "text": [
            "Loading…: 100%|██████████████████████████| 126/126 [00:01<00:00, 80.93it/s]\n",
            "Loading…: 100%|█████████████████████████| 126/126 [00:00<00:00, 137.38it/s]\n",
            "Loading…: 100%|█████████████████████████| 126/126 [00:00<00:00, 144.55it/s]\n",
            "Loading…: 100%|█████████████████████████| 126/126 [00:00<00:00, 149.61it/s]\n",
            "Loading…: 100%|█████████████████████████| 126/126 [00:00<00:00, 144.77it/s]\n",
            "Loading…: 100%|█████████████████████████| 126/126 [00:00<00:00, 143.75it/s]\n",
            "Loading…: 100%|█████████████████████████| 126/126 [00:00<00:00, 140.95it/s]\n",
            "Loading…: 100%|█████████████████████████| 126/126 [00:00<00:00, 142.69it/s]\n",
            "Loading…: 100%|█████████████████████████| 126/126 [00:00<00:00, 142.52it/s]\n",
            "Loading…: 100%|█████████████████████████| 126/126 [00:00<00:00, 144.95it/s]\n"
          ]
        },
        {
          "output_type": "stream",
          "name": "stdout",
          "text": [
            "Iteration: 12\n"
          ]
        },
        {
          "output_type": "stream",
          "name": "stderr",
          "text": [
            "Loading…: 100%|██████████████████████████| 126/126 [00:01<00:00, 65.10it/s]\n",
            "Loading…: 100%|██████████████████████████| 126/126 [00:01<00:00, 66.61it/s]\n",
            "Loading…: 100%|█████████████████████████| 126/126 [00:01<00:00, 114.96it/s]\n",
            "Loading…: 100%|█████████████████████████| 126/126 [00:01<00:00, 120.95it/s]\n",
            "Loading…: 100%|█████████████████████████| 126/126 [00:01<00:00, 110.31it/s]\n",
            "Loading…: 100%|█████████████████████████| 126/126 [00:01<00:00, 113.47it/s]\n",
            "Loading…: 100%|█████████████████████████| 126/126 [00:01<00:00, 107.38it/s]\n",
            "Loading…: 100%|█████████████████████████| 126/126 [00:01<00:00, 107.71it/s]\n",
            "Loading…: 100%|█████████████████████████| 126/126 [00:01<00:00, 106.88it/s]\n",
            "Loading…: 100%|██████████████████████████| 126/126 [00:02<00:00, 59.48it/s]\n"
          ]
        },
        {
          "output_type": "stream",
          "name": "stdout",
          "text": [
            "Iteration: 13\n"
          ]
        },
        {
          "output_type": "stream",
          "name": "stderr",
          "text": [
            "Loading…: 100%|█████████████████████████| 126/126 [00:01<00:00, 101.78it/s]\n",
            "Loading…: 100%|██████████████████████████| 126/126 [00:01<00:00, 89.82it/s]\n",
            "Loading…: 100%|██████████████████████████| 126/126 [00:01<00:00, 95.53it/s]\n",
            "Loading…: 100%|█████████████████████████| 126/126 [00:01<00:00, 100.78it/s]\n",
            "Loading…: 100%|██████████████████████████| 126/126 [00:01<00:00, 95.17it/s]\n",
            "Loading…: 100%|██████████████████████████| 126/126 [00:01<00:00, 99.03it/s]\n",
            "Loading…: 100%|██████████████████████████| 126/126 [00:02<00:00, 47.31it/s]\n",
            "Loading…: 100%|██████████████████████████| 126/126 [00:01<00:00, 91.28it/s]\n",
            "Loading…: 100%|██████████████████████████| 126/126 [00:01<00:00, 92.75it/s]\n",
            "Loading…: 100%|██████████████████████████| 126/126 [00:01<00:00, 93.75it/s]\n"
          ]
        },
        {
          "output_type": "stream",
          "name": "stdout",
          "text": [
            "Iteration: 14\n"
          ]
        },
        {
          "output_type": "stream",
          "name": "stderr",
          "text": [
            "Loading…: 100%|██████████████████████████| 126/126 [00:01<00:00, 88.54it/s]\n",
            "Loading…: 100%|██████████████████████████| 126/126 [00:01<00:00, 76.53it/s]\n",
            "Loading…: 100%|██████████████████████████| 126/126 [00:02<00:00, 44.25it/s]\n",
            "Loading…: 100%|██████████████████████████| 126/126 [00:01<00:00, 89.70it/s]\n",
            "Loading…: 100%|██████████████████████████| 126/126 [00:01<00:00, 82.97it/s]\n",
            "Loading…: 100%|██████████████████████████| 126/126 [00:01<00:00, 87.12it/s]\n",
            "Loading…: 100%|██████████████████████████| 126/126 [00:01<00:00, 80.30it/s]\n",
            "Loading…: 100%|██████████████████████████| 126/126 [00:01<00:00, 79.87it/s]\n",
            "Loading…: 100%|██████████████████████████| 126/126 [00:02<00:00, 43.21it/s]\n",
            "Loading…: 100%|██████████████████████████| 126/126 [00:01<00:00, 81.63it/s]\n"
          ]
        },
        {
          "output_type": "stream",
          "name": "stdout",
          "text": [
            "Iteration: 15\n"
          ]
        },
        {
          "output_type": "stream",
          "name": "stderr",
          "text": [
            "Loading…: 100%|██████████████████████████| 126/126 [00:01<00:00, 77.76it/s]\n",
            "Loading…: 100%|██████████████████████████| 126/126 [00:01<00:00, 68.42it/s]\n",
            "Loading…: 100%|██████████████████████████| 126/126 [00:01<00:00, 68.03it/s]\n",
            "Loading…: 100%|██████████████████████████| 126/126 [00:02<00:00, 46.65it/s]\n",
            "Loading…: 100%|██████████████████████████| 126/126 [00:01<00:00, 72.93it/s]\n",
            "Loading…: 100%|██████████████████████████| 126/126 [00:01<00:00, 74.97it/s]\n",
            "Loading…: 100%|██████████████████████████| 126/126 [00:01<00:00, 67.90it/s]\n",
            "Loading…: 100%|██████████████████████████| 126/126 [00:01<00:00, 63.43it/s]\n",
            "Loading…: 100%|██████████████████████████| 126/126 [00:02<00:00, 43.52it/s]\n",
            "Loading…: 100%|██████████████████████████| 126/126 [00:01<00:00, 72.25it/s]\n"
          ]
        },
        {
          "output_type": "stream",
          "name": "stdout",
          "text": [
            "Iteration: 16\n"
          ]
        },
        {
          "output_type": "stream",
          "name": "stderr",
          "text": [
            "Loading…: 100%|█████████████████████████| 126/126 [00:00<00:00, 146.90it/s]\n",
            "Loading…: 100%|█████████████████████████| 126/126 [00:00<00:00, 136.76it/s]\n",
            "Loading…: 100%|█████████████████████████| 126/126 [00:00<00:00, 134.05it/s]\n",
            "Loading…: 100%|█████████████████████████| 126/126 [00:00<00:00, 144.78it/s]\n",
            "Loading…: 100%|█████████████████████████| 126/126 [00:00<00:00, 142.18it/s]\n",
            "Loading…: 100%|█████████████████████████| 126/126 [00:00<00:00, 139.66it/s]\n",
            "Loading…: 100%|██████████████████████████| 126/126 [00:01<00:00, 73.55it/s]\n",
            "Loading…: 100%|██████████████████████████| 126/126 [00:01<00:00, 71.77it/s]\n",
            "Loading…: 100%|█████████████████████████| 126/126 [00:00<00:00, 139.92it/s]\n",
            "Loading…: 100%|█████████████████████████| 126/126 [00:00<00:00, 127.47it/s]\n"
          ]
        },
        {
          "output_type": "stream",
          "name": "stdout",
          "text": [
            "Iteration: 17\n"
          ]
        },
        {
          "output_type": "stream",
          "name": "stderr",
          "text": [
            "Loading…: 100%|██████████████████████████| 126/126 [00:01<00:00, 72.10it/s]\n",
            "Loading…: 100%|█████████████████████████| 126/126 [00:01<00:00, 103.95it/s]\n",
            "Loading…: 100%|█████████████████████████| 126/126 [00:01<00:00, 112.39it/s]\n",
            "Loading…: 100%|█████████████████████████| 126/126 [00:01<00:00, 101.88it/s]\n",
            "Loading…: 100%|██████████████████████████| 126/126 [00:02<00:00, 59.44it/s]\n",
            "Loading…: 100%|██████████████████████████| 126/126 [00:01<00:00, 93.93it/s]\n",
            "Loading…: 100%|█████████████████████████| 126/126 [00:01<00:00, 106.00it/s]\n",
            "Loading…: 100%|█████████████████████████| 126/126 [00:01<00:00, 106.76it/s]\n",
            "Loading…: 100%|█████████████████████████| 126/126 [00:01<00:00, 107.50it/s]\n",
            "Loading…: 100%|█████████████████████████| 126/126 [00:01<00:00, 112.17it/s]\n"
          ]
        },
        {
          "output_type": "stream",
          "name": "stdout",
          "text": [
            "Iteration: 18\n"
          ]
        },
        {
          "output_type": "stream",
          "name": "stderr",
          "text": [
            "Loading…: 100%|██████████████████████████| 126/126 [00:01<00:00, 99.70it/s]\n",
            "Loading…: 100%|██████████████████████████| 126/126 [00:02<00:00, 53.43it/s]\n",
            "Loading…: 100%|██████████████████████████| 126/126 [00:01<00:00, 66.79it/s]\n",
            "Loading…: 100%|██████████████████████████| 126/126 [00:01<00:00, 98.54it/s]\n",
            "Loading…: 100%|██████████████████████████| 126/126 [00:01<00:00, 94.19it/s]\n",
            "Loading…: 100%|██████████████████████████| 126/126 [00:01<00:00, 95.30it/s]\n",
            "Loading…: 100%|██████████████████████████| 126/126 [00:01<00:00, 88.72it/s]\n",
            "Loading…: 100%|██████████████████████████| 126/126 [00:01<00:00, 91.55it/s]\n",
            "Loading…: 100%|██████████████████████████| 126/126 [00:02<00:00, 50.35it/s]\n",
            "Loading…: 100%|██████████████████████████| 126/126 [00:01<00:00, 74.85it/s]\n"
          ]
        },
        {
          "output_type": "stream",
          "name": "stdout",
          "text": [
            "Iteration: 19\n"
          ]
        },
        {
          "output_type": "stream",
          "name": "stderr",
          "text": [
            "Loading…: 100%|██████████████████████████| 126/126 [00:01<00:00, 85.53it/s]\n",
            "Loading…: 100%|██████████████████████████| 126/126 [00:01<00:00, 74.74it/s]\n",
            "Loading…: 100%|██████████████████████████| 126/126 [00:01<00:00, 82.13it/s]\n",
            "Loading…: 100%|██████████████████████████| 126/126 [00:01<00:00, 73.44it/s]\n",
            "Loading…: 100%|██████████████████████████| 126/126 [00:02<00:00, 48.71it/s]\n",
            "Loading…: 100%|██████████████████████████| 126/126 [00:01<00:00, 85.13it/s]\n",
            "Loading…: 100%|██████████████████████████| 126/126 [00:01<00:00, 78.22it/s]\n",
            "Loading…: 100%|██████████████████████████| 126/126 [00:01<00:00, 77.80it/s]\n",
            "Loading…: 100%|██████████████████████████| 126/126 [00:01<00:00, 77.56it/s]\n",
            "Loading…: 100%|██████████████████████████| 126/126 [00:02<00:00, 50.16it/s]\n"
          ]
        },
        {
          "output_type": "stream",
          "name": "stdout",
          "text": [
            "Iteration: 20\n"
          ]
        },
        {
          "output_type": "stream",
          "name": "stderr",
          "text": [
            "Loading…: 100%|██████████████████████████| 126/126 [00:01<00:00, 78.38it/s]\n",
            "Loading…: 100%|██████████████████████████| 126/126 [00:01<00:00, 65.09it/s]\n",
            "Loading…: 100%|██████████████████████████| 126/126 [00:01<00:00, 72.10it/s]\n",
            "Loading…:   7%|██                          | 9/126 [00:00<00:01, 86.75it/s]<ipython-input-22-35bcd1737ba8>:60: RuntimeWarning: divide by zero encountered in log\n",
            "  p_of_y_given_x = np.log(p_of_y * p_of_x_given_y)\n",
            "Loading…: 100%|██████████████████████████| 126/126 [00:01<00:00, 77.66it/s]\n",
            "Loading…:  56%|███████████████            | 70/126 [00:01<00:01, 38.49it/s]<ipython-input-22-35bcd1737ba8>:60: RuntimeWarning: divide by zero encountered in log\n",
            "  p_of_y_given_x = np.log(p_of_y * p_of_x_given_y)\n",
            "Loading…: 100%|██████████████████████████| 126/126 [00:03<00:00, 38.71it/s]\n",
            "Loading…:  74%|███████████████████▉       | 93/126 [00:01<00:00, 80.96it/s]<ipython-input-22-35bcd1737ba8>:60: RuntimeWarning: divide by zero encountered in log\n",
            "  p_of_y_given_x = np.log(p_of_y * p_of_x_given_y)\n",
            "Loading…: 100%|██████████████████████████| 126/126 [00:01<00:00, 73.51it/s]\n",
            "Loading…:  69%|██████████████████▋        | 87/126 [00:01<00:00, 70.16it/s]<ipython-input-22-35bcd1737ba8>:60: RuntimeWarning: divide by zero encountered in log\n",
            "  p_of_y_given_x = np.log(p_of_y * p_of_x_given_y)\n",
            "Loading…: 100%|██████████████████████████| 126/126 [00:01<00:00, 69.56it/s]\n",
            "Loading…:  94%|████████████████████████▎ | 118/126 [00:01<00:00, 70.75it/s]<ipython-input-22-35bcd1737ba8>:60: RuntimeWarning: divide by zero encountered in log\n",
            "  p_of_y_given_x = np.log(p_of_y * p_of_x_given_y)\n",
            "Loading…: 100%|██████████████████████████| 126/126 [00:01<00:00, 69.76it/s]\n",
            "Loading…:  85%|██████████████████████    | 107/126 [00:01<00:00, 63.77it/s]<ipython-input-22-35bcd1737ba8>:60: RuntimeWarning: divide by zero encountered in log\n",
            "  p_of_y_given_x = np.log(p_of_y * p_of_x_given_y)\n",
            "Loading…: 100%|██████████████████████████| 126/126 [00:02<00:00, 62.28it/s]\n",
            "Loading…: 100%|██████████████████████████| 126/126 [00:02<00:00, 44.04it/s]\n"
          ]
        },
        {
          "output_type": "stream",
          "name": "stdout",
          "text": [
            "Iteration: 21\n"
          ]
        },
        {
          "output_type": "stream",
          "name": "stderr",
          "text": [
            "Loading…: 100%|██████████████████████████| 126/126 [00:01<00:00, 74.03it/s]\n",
            "Loading…: 100%|██████████████████████████| 126/126 [00:01<00:00, 69.28it/s]\n",
            "Loading…: 100%|██████████████████████████| 126/126 [00:01<00:00, 71.07it/s]\n",
            "Loading…: 100%|██████████████████████████| 126/126 [00:01<00:00, 72.93it/s]\n",
            "Loading…: 100%|██████████████████████████| 126/126 [00:02<00:00, 45.84it/s]\n",
            "Loading…: 100%|██████████████████████████| 126/126 [00:02<00:00, 49.79it/s]\n",
            "Loading…: 100%|██████████████████████████| 126/126 [00:01<00:00, 69.54it/s]\n",
            "Loading…: 100%|██████████████████████████| 126/126 [00:01<00:00, 70.07it/s]\n",
            "Loading…: 100%|██████████████████████████| 126/126 [00:01<00:00, 69.84it/s]\n",
            "Loading…: 100%|██████████████████████████| 126/126 [00:01<00:00, 72.39it/s]\n"
          ]
        },
        {
          "output_type": "stream",
          "name": "stdout",
          "text": [
            "Iteration: 22\n"
          ]
        },
        {
          "output_type": "stream",
          "name": "stderr",
          "text": [
            "Loading…: 100%|██████████████████████████| 126/126 [00:03<00:00, 34.55it/s]\n",
            "Loading…: 100%|██████████████████████████| 126/126 [00:04<00:00, 30.41it/s]\n",
            "Loading…: 100%|██████████████████████████| 126/126 [00:02<00:00, 56.22it/s]\n",
            "Loading…: 100%|██████████████████████████| 126/126 [00:02<00:00, 59.27it/s]\n",
            "Loading…: 100%|██████████████████████████| 126/126 [00:03<00:00, 41.87it/s]\n",
            "Loading…: 100%|██████████████████████████| 126/126 [00:03<00:00, 41.92it/s]\n",
            "Loading…: 100%|██████████████████████████| 126/126 [00:02<00:00, 53.56it/s]\n",
            "Loading…: 100%|██████████████████████████| 126/126 [00:02<00:00, 54.64it/s]\n",
            "Loading…: 100%|██████████████████████████| 126/126 [00:02<00:00, 55.11it/s]\n",
            "Loading…: 100%|██████████████████████████| 126/126 [00:03<00:00, 36.30it/s]\n"
          ]
        },
        {
          "output_type": "stream",
          "name": "stdout",
          "text": [
            "Iteration: 23\n"
          ]
        },
        {
          "output_type": "stream",
          "name": "stderr",
          "text": [
            "Loading…: 100%|██████████████████████████| 126/126 [00:02<00:00, 49.42it/s]\n",
            "Loading…: 100%|██████████████████████████| 126/126 [00:02<00:00, 44.22it/s]\n",
            "Loading…: 100%|██████████████████████████| 126/126 [00:02<00:00, 47.58it/s]\n",
            "Loading…: 100%|██████████████████████████| 126/126 [00:04<00:00, 29.53it/s]\n",
            "Loading…: 100%|██████████████████████████| 126/126 [00:02<00:00, 46.21it/s]\n",
            "Loading…: 100%|██████████████████████████| 126/126 [00:02<00:00, 48.75it/s]\n",
            "Loading…: 100%|██████████████████████████| 126/126 [00:02<00:00, 45.48it/s]\n",
            "Loading…: 100%|██████████████████████████| 126/126 [00:04<00:00, 27.75it/s]\n",
            "Loading…: 100%|██████████████████████████| 126/126 [00:02<00:00, 45.35it/s]\n",
            "Loading…: 100%|██████████████████████████| 126/126 [00:02<00:00, 46.95it/s]\n"
          ]
        },
        {
          "output_type": "stream",
          "name": "stdout",
          "text": [
            "Iteration: 24\n"
          ]
        },
        {
          "output_type": "stream",
          "name": "stderr",
          "text": [
            "Loading…: 100%|██████████████████████████| 126/126 [00:03<00:00, 32.36it/s]\n",
            "Loading…: 100%|██████████████████████████| 126/126 [00:03<00:00, 35.14it/s]\n",
            "Loading…: 100%|██████████████████████████| 126/126 [00:03<00:00, 41.84it/s]\n",
            "Loading…: 100%|██████████████████████████| 126/126 [00:02<00:00, 44.38it/s]\n",
            "Loading…: 100%|██████████████████████████| 126/126 [00:04<00:00, 28.01it/s]\n",
            "Loading…: 100%|██████████████████████████| 126/126 [00:03<00:00, 41.32it/s]\n",
            "Loading…: 100%|██████████████████████████| 126/126 [00:03<00:00, 38.53it/s]\n",
            "Loading…: 100%|██████████████████████████| 126/126 [00:04<00:00, 25.45it/s]\n",
            "Loading…: 100%|██████████████████████████| 126/126 [00:03<00:00, 39.53it/s]\n",
            "Loading…: 100%|██████████████████████████| 126/126 [00:03<00:00, 40.76it/s]\n"
          ]
        },
        {
          "output_type": "stream",
          "name": "stdout",
          "text": [
            "Iteration: 25\n"
          ]
        },
        {
          "output_type": "stream",
          "name": "stderr",
          "text": [
            "Loading…: 100%|██████████████████████████| 126/126 [00:04<00:00, 25.20it/s]\n",
            "Loading…: 100%|██████████████████████████| 126/126 [00:03<00:00, 33.53it/s]\n",
            "Loading…: 100%|██████████████████████████| 126/126 [00:04<00:00, 31.18it/s]\n",
            "Loading…: 100%|██████████████████████████| 126/126 [00:05<00:00, 23.15it/s]\n",
            "Loading…: 100%|██████████████████████████| 126/126 [00:03<00:00, 36.30it/s]\n",
            "Loading…: 100%|██████████████████████████| 126/126 [00:03<00:00, 37.49it/s]\n",
            "Loading…: 100%|██████████████████████████| 126/126 [00:05<00:00, 23.15it/s]\n",
            "Loading…: 100%|██████████████████████████| 126/126 [00:03<00:00, 34.63it/s]\n",
            "Loading…: 100%|██████████████████████████| 126/126 [00:03<00:00, 31.98it/s]\n",
            "Loading…: 100%|██████████████████████████| 126/126 [00:04<00:00, 28.41it/s]\n"
          ]
        },
        {
          "output_type": "stream",
          "name": "stdout",
          "text": [
            "Iteration: 26\n"
          ]
        },
        {
          "output_type": "stream",
          "name": "stderr",
          "text": [
            "Loading…: 100%|██████████████████████████| 126/126 [00:01<00:00, 72.76it/s]\n",
            "Loading…: 100%|██████████████████████████| 126/126 [00:01<00:00, 68.14it/s]\n",
            "Loading…: 100%|██████████████████████████| 126/126 [00:01<00:00, 69.80it/s]\n",
            "Loading…: 100%|██████████████████████████| 126/126 [00:02<00:00, 49.76it/s]\n",
            "Loading…: 100%|██████████████████████████| 126/126 [00:02<00:00, 47.73it/s]\n",
            "Loading…: 100%|██████████████████████████| 126/126 [00:01<00:00, 71.51it/s]\n",
            "Loading…: 100%|██████████████████████████| 126/126 [00:01<00:00, 68.53it/s]\n",
            "Loading…: 100%|██████████████████████████| 126/126 [00:01<00:00, 70.33it/s]\n",
            "Loading…: 100%|██████████████████████████| 126/126 [00:01<00:00, 69.29it/s]\n",
            "Loading…: 100%|██████████████████████████| 126/126 [00:02<00:00, 60.55it/s]\n"
          ]
        },
        {
          "output_type": "stream",
          "name": "stdout",
          "text": [
            "Iteration: 27\n"
          ]
        },
        {
          "output_type": "stream",
          "name": "stderr",
          "text": [
            "Loading…: 100%|██████████████████████████| 126/126 [00:02<00:00, 48.29it/s]\n",
            "Loading…: 100%|██████████████████████████| 126/126 [00:02<00:00, 51.03it/s]\n",
            "Loading…: 100%|██████████████████████████| 126/126 [00:02<00:00, 54.73it/s]\n",
            "Loading…: 100%|██████████████████████████| 126/126 [00:02<00:00, 57.30it/s]\n",
            "Loading…: 100%|██████████████████████████| 126/126 [00:04<00:00, 31.43it/s]\n",
            "Loading…: 100%|██████████████████████████| 126/126 [00:02<00:00, 56.04it/s]\n",
            "Loading…: 100%|██████████████████████████| 126/126 [00:02<00:00, 52.88it/s]\n",
            "Loading…: 100%|██████████████████████████| 126/126 [00:02<00:00, 52.97it/s]\n",
            "Loading…: 100%|██████████████████████████| 126/126 [00:02<00:00, 46.48it/s]\n",
            "Loading…: 100%|██████████████████████████| 126/126 [00:03<00:00, 36.17it/s]\n"
          ]
        },
        {
          "output_type": "stream",
          "name": "stdout",
          "text": [
            "Iteration: 28\n"
          ]
        },
        {
          "output_type": "stream",
          "name": "stderr",
          "text": [
            "Loading…: 100%|██████████████████████████| 126/126 [00:02<00:00, 48.55it/s]\n",
            "Loading…: 100%|██████████████████████████| 126/126 [00:02<00:00, 43.20it/s]\n",
            "Loading…: 100%|██████████████████████████| 126/126 [00:03<00:00, 32.50it/s]\n",
            "Loading…: 100%|██████████████████████████| 126/126 [00:02<00:00, 44.99it/s]\n",
            "Loading…: 100%|██████████████████████████| 126/126 [00:02<00:00, 45.79it/s]\n",
            "Loading…: 100%|██████████████████████████| 126/126 [00:02<00:00, 47.65it/s]\n",
            "Loading…: 100%|██████████████████████████| 126/126 [00:04<00:00, 28.47it/s]\n",
            "Loading…: 100%|██████████████████████████| 126/126 [00:04<00:00, 28.94it/s]\n",
            "Loading…: 100%|██████████████████████████| 126/126 [00:02<00:00, 42.43it/s]\n",
            "Loading…: 100%|██████████████████████████| 126/126 [00:03<00:00, 32.51it/s]\n"
          ]
        },
        {
          "output_type": "stream",
          "name": "stdout",
          "text": [
            "Iteration: 29\n"
          ]
        },
        {
          "output_type": "stream",
          "name": "stderr",
          "text": [
            "Loading…: 100%|██████████████████████████| 126/126 [00:02<00:00, 42.20it/s]\n",
            "Loading…: 100%|██████████████████████████| 126/126 [00:03<00:00, 37.10it/s]\n",
            "Loading…: 100%|██████████████████████████| 126/126 [00:04<00:00, 28.84it/s]\n",
            "Loading…: 100%|██████████████████████████| 126/126 [00:02<00:00, 42.37it/s]\n",
            "Loading…: 100%|██████████████████████████| 126/126 [00:03<00:00, 39.42it/s]\n",
            "Loading…: 100%|██████████████████████████| 126/126 [00:03<00:00, 38.07it/s]\n",
            "Loading…: 100%|██████████████████████████| 126/126 [00:04<00:00, 29.00it/s]\n",
            "Loading…: 100%|██████████████████████████| 126/126 [00:03<00:00, 38.02it/s]\n",
            "Loading…: 100%|██████████████████████████| 126/126 [00:03<00:00, 37.87it/s]\n",
            "Loading…: 100%|██████████████████████████| 126/126 [00:04<00:00, 27.80it/s]\n"
          ]
        },
        {
          "output_type": "stream",
          "name": "stdout",
          "text": [
            "Iteration: 30\n"
          ]
        },
        {
          "output_type": "stream",
          "name": "stderr",
          "text": [
            "Loading…: 100%|██████████████████████████| 126/126 [00:03<00:00, 38.03it/s]\n",
            "Loading…:  10%|██▊                        | 13/126 [00:00<00:02, 38.51it/s]<ipython-input-22-35bcd1737ba8>:60: RuntimeWarning: divide by zero encountered in log\n",
            "  p_of_y_given_x = np.log(p_of_y * p_of_x_given_y)\n",
            "Loading…: 100%|██████████████████████████| 126/126 [00:04<00:00, 25.59it/s]\n",
            "Loading…: 100%|██████████████████████████| 126/126 [00:03<00:00, 34.84it/s]\n",
            "Loading…:  12%|███▏                       | 15/126 [00:00<00:02, 43.01it/s]<ipython-input-22-35bcd1737ba8>:60: RuntimeWarning: divide by zero encountered in log\n",
            "  p_of_y_given_x = np.log(p_of_y * p_of_x_given_y)\n",
            "Loading…: 100%|██████████████████████████| 126/126 [00:03<00:00, 38.78it/s]\n",
            "Loading…:  56%|███████████████            | 70/126 [00:01<00:01, 37.83it/s]<ipython-input-22-35bcd1737ba8>:60: RuntimeWarning: divide by zero encountered in log\n",
            "  p_of_y_given_x = np.log(p_of_y * p_of_x_given_y)\n",
            "Loading…: 100%|██████████████████████████| 126/126 [00:04<00:00, 25.44it/s]\n",
            "Loading…:  77%|████████████████████▊      | 97/126 [00:02<00:00, 40.34it/s]<ipython-input-22-35bcd1737ba8>:60: RuntimeWarning: divide by zero encountered in log\n",
            "  p_of_y_given_x = np.log(p_of_y * p_of_x_given_y)\n",
            "Loading…: 100%|██████████████████████████| 126/126 [00:03<00:00, 37.27it/s]\n",
            "Loading…:  72%|███████████████████▌       | 91/126 [00:02<00:01, 30.46it/s]<ipython-input-22-35bcd1737ba8>:60: RuntimeWarning: divide by zero encountered in log\n",
            "  p_of_y_given_x = np.log(p_of_y * p_of_x_given_y)\n",
            "Loading…: 100%|██████████████████████████| 126/126 [00:03<00:00, 33.75it/s]\n",
            "Loading…:  97%|█████████████████████████▏| 122/126 [00:05<00:00, 28.67it/s]<ipython-input-22-35bcd1737ba8>:60: RuntimeWarning: divide by zero encountered in log\n",
            "  p_of_y_given_x = np.log(p_of_y * p_of_x_given_y)\n",
            "Loading…: 100%|██████████████████████████| 126/126 [00:05<00:00, 22.73it/s]\n",
            "Loading…:  86%|██████████████████████▎   | 108/126 [00:03<00:00, 35.19it/s]<ipython-input-22-35bcd1737ba8>:60: RuntimeWarning: divide by zero encountered in log\n",
            "  p_of_y_given_x = np.log(p_of_y * p_of_x_given_y)\n",
            "Loading…: 100%|██████████████████████████| 126/126 [00:03<00:00, 33.68it/s]\n",
            "Loading…: 100%|██████████████████████████| 126/126 [00:03<00:00, 35.54it/s]\n"
          ]
        },
        {
          "output_type": "stream",
          "name": "stdout",
          "text": [
            "Iteration: 31\n"
          ]
        },
        {
          "output_type": "stream",
          "name": "stderr",
          "text": [
            "Loading…: 100%|██████████████████████████| 126/126 [00:04<00:00, 30.68it/s]\n",
            "Loading…: 100%|██████████████████████████| 126/126 [00:02<00:00, 46.11it/s]\n",
            "Loading…: 100%|██████████████████████████| 126/126 [00:02<00:00, 47.00it/s]\n",
            "Loading…: 100%|██████████████████████████| 126/126 [00:02<00:00, 47.52it/s]\n",
            "Loading…: 100%|██████████████████████████| 126/126 [00:05<00:00, 23.13it/s]\n",
            "Loading…: 100%|██████████████████████████| 126/126 [00:03<00:00, 38.87it/s]\n",
            "Loading…: 100%|██████████████████████████| 126/126 [00:02<00:00, 46.51it/s]\n",
            "Loading…: 100%|██████████████████████████| 126/126 [00:02<00:00, 46.66it/s]\n",
            "Loading…: 100%|██████████████████████████| 126/126 [00:03<00:00, 40.66it/s]\n",
            "Loading…: 100%|██████████████████████████| 126/126 [00:03<00:00, 31.99it/s]\n"
          ]
        },
        {
          "output_type": "stream",
          "name": "stdout",
          "text": [
            "Iteration: 32\n"
          ]
        },
        {
          "output_type": "stream",
          "name": "stderr",
          "text": [
            "Loading…: 100%|██████████████████████████| 126/126 [00:03<00:00, 37.86it/s]\n",
            "Loading…: 100%|██████████████████████████| 126/126 [00:03<00:00, 34.78it/s]\n",
            "Loading…: 100%|██████████████████████████| 126/126 [00:05<00:00, 24.57it/s]\n",
            "Loading…: 100%|██████████████████████████| 126/126 [00:03<00:00, 38.14it/s]\n",
            "Loading…: 100%|██████████████████████████| 126/126 [00:03<00:00, 36.52it/s]\n",
            "Loading…: 100%|██████████████████████████| 126/126 [00:04<00:00, 25.22it/s]\n",
            "Loading…: 100%|██████████████████████████| 126/126 [00:03<00:00, 35.29it/s]\n",
            "Loading…: 100%|██████████████████████████| 126/126 [00:03<00:00, 35.82it/s]\n",
            "Loading…: 100%|██████████████████████████| 126/126 [00:04<00:00, 26.22it/s]\n",
            "Loading…: 100%|██████████████████████████| 126/126 [00:03<00:00, 33.71it/s]\n"
          ]
        },
        {
          "output_type": "stream",
          "name": "stdout",
          "text": [
            "Iteration: 33\n"
          ]
        },
        {
          "output_type": "stream",
          "name": "stderr",
          "text": [
            "Loading…: 100%|██████████████████████████| 126/126 [00:03<00:00, 32.35it/s]\n",
            "Loading…: 100%|██████████████████████████| 126/126 [00:06<00:00, 20.94it/s]\n",
            "Loading…: 100%|██████████████████████████| 126/126 [00:04<00:00, 31.20it/s]\n",
            "Loading…: 100%|██████████████████████████| 126/126 [00:03<00:00, 33.21it/s]\n",
            "Loading…: 100%|██████████████████████████| 126/126 [00:05<00:00, 21.63it/s]\n",
            "Loading…: 100%|██████████████████████████| 126/126 [00:04<00:00, 31.30it/s]\n",
            "Loading…: 100%|██████████████████████████| 126/126 [00:05<00:00, 24.10it/s]\n",
            "Loading…: 100%|██████████████████████████| 126/126 [00:04<00:00, 26.73it/s]\n",
            "Loading…: 100%|██████████████████████████| 126/126 [00:04<00:00, 29.52it/s]\n",
            "Loading…: 100%|██████████████████████████| 126/126 [00:05<00:00, 21.75it/s]\n"
          ]
        },
        {
          "output_type": "stream",
          "name": "stdout",
          "text": [
            "Iteration: 34\n"
          ]
        },
        {
          "output_type": "stream",
          "name": "stderr",
          "text": [
            "Loading…: 100%|██████████████████████████| 126/126 [00:06<00:00, 20.83it/s]\n",
            "Loading…: 100%|██████████████████████████| 126/126 [00:06<00:00, 18.49it/s]\n",
            "Loading…: 100%|██████████████████████████| 126/126 [00:04<00:00, 27.28it/s]\n",
            "Loading…: 100%|██████████████████████████| 126/126 [00:06<00:00, 20.71it/s]\n",
            "Loading…: 100%|██████████████████████████| 126/126 [00:04<00:00, 26.61it/s]\n",
            "Loading…: 100%|██████████████████████████| 126/126 [00:05<00:00, 23.97it/s]\n",
            "Loading…: 100%|██████████████████████████| 126/126 [00:05<00:00, 22.12it/s]\n",
            "Loading…: 100%|██████████████████████████| 126/126 [00:04<00:00, 25.67it/s]\n",
            "Loading…: 100%|██████████████████████████| 126/126 [00:06<00:00, 19.22it/s]\n",
            "Loading…: 100%|██████████████████████████| 126/126 [00:04<00:00, 26.45it/s]\n"
          ]
        },
        {
          "output_type": "stream",
          "name": "stdout",
          "text": [
            "Iteration: 35\n"
          ]
        },
        {
          "output_type": "stream",
          "name": "stderr",
          "text": [
            "Loading…: 100%|██████████████████████████| 126/126 [00:06<00:00, 18.89it/s]\n",
            "Loading…: 100%|██████████████████████████| 126/126 [00:05<00:00, 21.73it/s]\n",
            "Loading…: 100%|██████████████████████████| 126/126 [00:06<00:00, 18.14it/s]\n",
            "Loading…: 100%|██████████████████████████| 126/126 [00:04<00:00, 26.11it/s]\n",
            "Loading…: 100%|██████████████████████████| 126/126 [00:07<00:00, 17.88it/s]\n",
            "Loading…: 100%|██████████████████████████| 126/126 [00:05<00:00, 24.65it/s]\n",
            "Loading…: 100%|██████████████████████████| 126/126 [00:07<00:00, 17.34it/s]\n",
            "Loading…: 100%|██████████████████████████| 126/126 [00:05<00:00, 22.97it/s]\n",
            "Loading…: 100%|██████████████████████████| 126/126 [00:09<00:00, 13.85it/s]\n",
            "Loading…: 100%|██████████████████████████| 126/126 [00:05<00:00, 23.73it/s]\n"
          ]
        },
        {
          "output_type": "stream",
          "name": "stdout",
          "text": [
            "Iteration: 36\n"
          ]
        },
        {
          "output_type": "stream",
          "name": "stderr",
          "text": [
            "Loading…: 100%|██████████████████████████| 126/126 [00:04<00:00, 29.08it/s]\n",
            "Loading…: 100%|██████████████████████████| 126/126 [00:02<00:00, 43.81it/s]\n",
            "Loading…: 100%|██████████████████████████| 126/126 [00:02<00:00, 46.46it/s]\n",
            "Loading…: 100%|██████████████████████████| 126/126 [00:02<00:00, 47.47it/s]\n",
            "Loading…: 100%|██████████████████████████| 126/126 [00:03<00:00, 31.95it/s]\n",
            "Loading…: 100%|██████████████████████████| 126/126 [00:03<00:00, 40.29it/s]\n",
            "Loading…: 100%|██████████████████████████| 126/126 [00:02<00:00, 45.03it/s]\n",
            "Loading…: 100%|██████████████████████████| 126/126 [00:02<00:00, 44.41it/s]\n",
            "Loading…: 100%|██████████████████████████| 126/126 [00:03<00:00, 35.08it/s]\n",
            "Loading…: 100%|██████████████████████████| 126/126 [00:03<00:00, 34.45it/s]\n"
          ]
        },
        {
          "output_type": "stream",
          "name": "stdout",
          "text": [
            "Iteration: 37\n"
          ]
        },
        {
          "output_type": "stream",
          "name": "stderr",
          "text": [
            "Loading…: 100%|██████████████████████████| 126/126 [00:03<00:00, 37.16it/s]\n",
            "Loading…: 100%|██████████████████████████| 126/126 [00:03<00:00, 31.60it/s]\n",
            "Loading…: 100%|██████████████████████████| 126/126 [00:04<00:00, 26.40it/s]\n",
            "Loading…: 100%|██████████████████████████| 126/126 [00:03<00:00, 36.43it/s]\n",
            "Loading…: 100%|██████████████████████████| 126/126 [00:03<00:00, 35.33it/s]\n",
            "Loading…: 100%|██████████████████████████| 126/126 [00:05<00:00, 24.30it/s]\n",
            "Loading…: 100%|██████████████████████████| 126/126 [00:03<00:00, 34.48it/s]\n",
            "Loading…: 100%|██████████████████████████| 126/126 [00:03<00:00, 33.96it/s]\n",
            "Loading…: 100%|██████████████████████████| 126/126 [00:05<00:00, 23.59it/s]\n",
            "Loading…: 100%|██████████████████████████| 126/126 [00:03<00:00, 35.58it/s]\n"
          ]
        },
        {
          "output_type": "stream",
          "name": "stdout",
          "text": [
            "Iteration: 38\n"
          ]
        },
        {
          "output_type": "stream",
          "name": "stderr",
          "text": [
            "Loading…: 100%|██████████████████████████| 126/126 [00:04<00:00, 29.78it/s]\n",
            "Loading…: 100%|██████████████████████████| 126/126 [00:05<00:00, 21.94it/s]\n",
            "Loading…: 100%|██████████████████████████| 126/126 [00:04<00:00, 30.32it/s]\n",
            "Loading…: 100%|██████████████████████████| 126/126 [00:05<00:00, 21.68it/s]\n",
            "Loading…: 100%|██████████████████████████| 126/126 [00:05<00:00, 22.53it/s]\n",
            "Loading…: 100%|██████████████████████████| 126/126 [00:04<00:00, 26.40it/s]\n",
            "Loading…: 100%|██████████████████████████| 126/126 [00:05<00:00, 25.08it/s]\n",
            "Loading…: 100%|██████████████████████████| 126/126 [00:04<00:00, 29.16it/s]\n",
            "Loading…: 100%|██████████████████████████| 126/126 [00:06<00:00, 20.83it/s]\n",
            "Loading…: 100%|██████████████████████████| 126/126 [00:04<00:00, 29.57it/s]\n"
          ]
        },
        {
          "output_type": "stream",
          "name": "stdout",
          "text": [
            "Iteration: 39\n"
          ]
        },
        {
          "output_type": "stream",
          "name": "stderr",
          "text": [
            "Loading…: 100%|██████████████████████████| 126/126 [00:06<00:00, 20.64it/s]\n",
            "Loading…: 100%|██████████████████████████| 126/126 [00:05<00:00, 23.96it/s]\n",
            "Loading…: 100%|██████████████████████████| 126/126 [00:05<00:00, 23.28it/s]\n",
            "Loading…: 100%|██████████████████████████| 126/126 [00:04<00:00, 25.34it/s]\n",
            "Loading…: 100%|██████████████████████████| 126/126 [00:04<00:00, 26.37it/s]\n",
            "Loading…: 100%|██████████████████████████| 126/126 [00:06<00:00, 19.91it/s]\n",
            "Loading…: 100%|██████████████████████████| 126/126 [00:05<00:00, 24.75it/s]\n",
            "Loading…: 100%|██████████████████████████| 126/126 [00:06<00:00, 18.72it/s]\n",
            "Loading…: 100%|██████████████████████████| 126/126 [00:05<00:00, 24.94it/s]\n",
            "Loading…: 100%|██████████████████████████| 126/126 [00:06<00:00, 19.11it/s]\n"
          ]
        },
        {
          "output_type": "stream",
          "name": "stdout",
          "text": [
            "Iteration: 40\n"
          ]
        },
        {
          "output_type": "stream",
          "name": "stderr",
          "text": [
            "Loading…: 100%|██████████████████████████| 126/126 [00:05<00:00, 24.75it/s]\n",
            "Loading…:  12%|███▏                       | 15/126 [00:00<00:04, 23.39it/s]<ipython-input-22-35bcd1737ba8>:60: RuntimeWarning: divide by zero encountered in log\n",
            "  p_of_y_given_x = np.log(p_of_y * p_of_x_given_y)\n",
            "Loading…: 100%|██████████████████████████| 126/126 [00:07<00:00, 16.41it/s]\n",
            "Loading…: 100%|██████████████████████████| 126/126 [00:06<00:00, 20.16it/s]\n",
            "Loading…:  11%|███                        | 14/126 [00:01<00:08, 13.31it/s]<ipython-input-22-35bcd1737ba8>:60: RuntimeWarning: divide by zero encountered in log\n",
            "  p_of_y_given_x = np.log(p_of_y * p_of_x_given_y)\n",
            "Loading…: 100%|██████████████████████████| 126/126 [00:07<00:00, 17.84it/s]\n",
            "Loading…:  56%|███████████████            | 70/126 [00:02<00:02, 23.62it/s]<ipython-input-22-35bcd1737ba8>:60: RuntimeWarning: divide by zero encountered in log\n",
            "  p_of_y_given_x = np.log(p_of_y * p_of_x_given_y)\n",
            "Loading…: 100%|██████████████████████████| 126/126 [00:05<00:00, 23.00it/s]\n",
            "Loading…:  80%|████████████████████▊     | 101/126 [00:05<00:00, 27.11it/s]<ipython-input-22-35bcd1737ba8>:60: RuntimeWarning: divide by zero encountered in log\n",
            "  p_of_y_given_x = np.log(p_of_y * p_of_x_given_y)\n",
            "Loading…: 100%|██████████████████████████| 126/126 [00:06<00:00, 18.17it/s]\n",
            "Loading…:  72%|███████████████████▌       | 91/126 [00:04<00:01, 18.90it/s]<ipython-input-22-35bcd1737ba8>:60: RuntimeWarning: divide by zero encountered in log\n",
            "  p_of_y_given_x = np.log(p_of_y * p_of_x_given_y)\n",
            "Loading…: 100%|██████████████████████████| 126/126 [00:05<00:00, 21.79it/s]\n",
            "Loading…:  97%|█████████████████████████▏| 122/126 [00:07<00:00, 23.45it/s]<ipython-input-22-35bcd1737ba8>:60: RuntimeWarning: divide by zero encountered in log\n",
            "  p_of_y_given_x = np.log(p_of_y * p_of_x_given_y)\n",
            "Loading…: 100%|██████████████████████████| 126/126 [00:07<00:00, 17.45it/s]\n",
            "Loading…:  85%|██████████████████████    | 107/126 [00:04<00:00, 23.39it/s]<ipython-input-22-35bcd1737ba8>:60: RuntimeWarning: divide by zero encountered in log\n",
            "  p_of_y_given_x = np.log(p_of_y * p_of_x_given_y)\n",
            "Loading…: 100%|██████████████████████████| 126/126 [00:05<00:00, 21.34it/s]\n",
            "Loading…: 100%|██████████████████████████| 126/126 [00:06<00:00, 19.41it/s]\n"
          ]
        },
        {
          "output_type": "stream",
          "name": "stdout",
          "text": [
            "Iteration: 41\n"
          ]
        },
        {
          "output_type": "stream",
          "name": "stderr",
          "text": [
            "Loading…: 100%|██████████████████████████| 126/126 [00:03<00:00, 35.78it/s]\n",
            "Loading…: 100%|██████████████████████████| 126/126 [00:05<00:00, 23.06it/s]\n",
            "Loading…: 100%|██████████████████████████| 126/126 [00:03<00:00, 35.23it/s]\n",
            "Loading…: 100%|██████████████████████████| 126/126 [00:03<00:00, 36.31it/s]\n",
            "Loading…: 100%|██████████████████████████| 126/126 [00:05<00:00, 24.23it/s]\n",
            "Loading…: 100%|██████████████████████████| 126/126 [00:03<00:00, 34.89it/s]\n",
            "Loading…: 100%|██████████████████████████| 126/126 [00:03<00:00, 34.09it/s]\n",
            "Loading…: 100%|██████████████████████████| 126/126 [00:04<00:00, 26.62it/s]\n",
            "Loading…: 100%|██████████████████████████| 126/126 [00:04<00:00, 29.11it/s]\n",
            "Loading…: 100%|██████████████████████████| 126/126 [00:03<00:00, 34.33it/s]\n"
          ]
        },
        {
          "output_type": "stream",
          "name": "stdout",
          "text": [
            "Iteration: 42\n"
          ]
        },
        {
          "output_type": "stream",
          "name": "stderr",
          "text": [
            "Loading…: 100%|██████████████████████████| 126/126 [00:06<00:00, 20.51it/s]\n",
            "Loading…: 100%|██████████████████████████| 126/126 [00:04<00:00, 25.28it/s]\n",
            "Loading…: 100%|██████████████████████████| 126/126 [00:04<00:00, 25.70it/s]\n",
            "Loading…: 100%|██████████████████████████| 126/126 [00:07<00:00, 17.25it/s]\n",
            "Loading…: 100%|██████████████████████████| 126/126 [00:04<00:00, 27.36it/s]\n",
            "Loading…: 100%|██████████████████████████| 126/126 [00:06<00:00, 20.36it/s]\n",
            "Loading…: 100%|██████████████████████████| 126/126 [00:04<00:00, 26.14it/s]\n",
            "Loading…: 100%|██████████████████████████| 126/126 [00:06<00:00, 20.49it/s]\n",
            "Loading…: 100%|██████████████████████████| 126/126 [00:04<00:00, 26.00it/s]\n",
            "Loading…: 100%|██████████████████████████| 126/126 [00:04<00:00, 27.20it/s]\n"
          ]
        },
        {
          "output_type": "stream",
          "name": "stdout",
          "text": [
            "Iteration: 43\n"
          ]
        },
        {
          "output_type": "stream",
          "name": "stderr",
          "text": [
            "Loading…: 100%|██████████████████████████| 126/126 [00:06<00:00, 20.43it/s]\n",
            "Loading…: 100%|██████████████████████████| 126/126 [00:06<00:00, 20.43it/s]\n",
            "Loading…: 100%|██████████████████████████| 126/126 [00:06<00:00, 19.38it/s]\n",
            "Loading…: 100%|██████████████████████████| 126/126 [00:05<00:00, 24.48it/s]\n",
            "Loading…: 100%|██████████████████████████| 126/126 [00:07<00:00, 17.97it/s]\n",
            "Loading…: 100%|██████████████████████████| 126/126 [00:05<00:00, 23.90it/s]\n",
            "Loading…: 100%|██████████████████████████| 126/126 [00:07<00:00, 17.10it/s]\n",
            "Loading…: 100%|██████████████████████████| 126/126 [00:05<00:00, 22.24it/s]\n",
            "Loading…: 100%|██████████████████████████| 126/126 [00:07<00:00, 17.18it/s]\n",
            "Loading…: 100%|██████████████████████████| 126/126 [00:05<00:00, 22.84it/s]\n"
          ]
        },
        {
          "output_type": "stream",
          "name": "stdout",
          "text": [
            "Iteration: 44\n"
          ]
        },
        {
          "output_type": "stream",
          "name": "stderr",
          "text": [
            "Loading…: 100%|██████████████████████████| 126/126 [00:07<00:00, 17.90it/s]\n",
            "Loading…: 100%|██████████████████████████| 126/126 [00:10<00:00, 12.27it/s]\n",
            "Loading…: 100%|██████████████████████████| 126/126 [00:06<00:00, 20.18it/s]\n",
            "Loading…: 100%|██████████████████████████| 126/126 [00:07<00:00, 16.73it/s]\n",
            "Loading…: 100%|██████████████████████████| 126/126 [00:06<00:00, 20.34it/s]\n",
            "Loading…: 100%|██████████████████████████| 126/126 [00:07<00:00, 16.34it/s]\n",
            "Loading…: 100%|██████████████████████████| 126/126 [00:07<00:00, 16.73it/s]\n",
            "Loading…: 100%|██████████████████████████| 126/126 [00:06<00:00, 18.59it/s]\n",
            "Loading…: 100%|██████████████████████████| 126/126 [00:08<00:00, 15.32it/s]\n",
            "Loading…: 100%|██████████████████████████| 126/126 [00:06<00:00, 20.08it/s]\n"
          ]
        },
        {
          "output_type": "stream",
          "name": "stdout",
          "text": [
            "Iteration: 45\n"
          ]
        },
        {
          "output_type": "stream",
          "name": "stderr",
          "text": [
            "Loading…: 100%|██████████████████████████| 126/126 [00:08<00:00, 15.29it/s]\n",
            "Loading…: 100%|██████████████████████████| 126/126 [00:09<00:00, 13.47it/s]\n",
            "Loading…: 100%|██████████████████████████| 126/126 [00:07<00:00, 17.80it/s]\n",
            "Loading…: 100%|██████████████████████████| 126/126 [00:08<00:00, 15.32it/s]\n",
            "Loading…: 100%|██████████████████████████| 126/126 [00:08<00:00, 15.28it/s]\n",
            "Loading…: 100%|██████████████████████████| 126/126 [00:08<00:00, 14.90it/s]\n",
            "Loading…: 100%|██████████████████████████| 126/126 [00:09<00:00, 13.68it/s]\n",
            "Loading…: 100%|██████████████████████████| 126/126 [00:09<00:00, 13.76it/s]\n",
            "Loading…: 100%|██████████████████████████| 126/126 [00:07<00:00, 17.17it/s]\n",
            "Loading…: 100%|██████████████████████████| 126/126 [00:08<00:00, 14.18it/s]\n"
          ]
        },
        {
          "output_type": "stream",
          "name": "stdout",
          "text": [
            "Iteration: 46\n"
          ]
        },
        {
          "output_type": "stream",
          "name": "stderr",
          "text": [
            "Loading…: 100%|██████████████████████████| 126/126 [00:03<00:00, 35.20it/s]\n",
            "Loading…: 100%|██████████████████████████| 126/126 [00:05<00:00, 22.72it/s]\n",
            "Loading…: 100%|██████████████████████████| 126/126 [00:03<00:00, 34.00it/s]\n",
            "Loading…: 100%|██████████████████████████| 126/126 [00:03<00:00, 35.09it/s]\n",
            "Loading…: 100%|██████████████████████████| 126/126 [00:05<00:00, 23.46it/s]\n",
            "Loading…: 100%|██████████████████████████| 126/126 [00:03<00:00, 34.72it/s]\n",
            "Loading…: 100%|██████████████████████████| 126/126 [00:03<00:00, 33.20it/s]\n",
            "Loading…: 100%|██████████████████████████| 126/126 [00:05<00:00, 23.92it/s]\n",
            "Loading…: 100%|██████████████████████████| 126/126 [00:03<00:00, 32.22it/s]\n",
            "Loading…: 100%|██████████████████████████| 126/126 [00:03<00:00, 33.95it/s]\n"
          ]
        },
        {
          "output_type": "stream",
          "name": "stdout",
          "text": [
            "Iteration: 47\n"
          ]
        },
        {
          "output_type": "stream",
          "name": "stderr",
          "text": [
            "Loading…: 100%|██████████████████████████| 126/126 [00:06<00:00, 20.47it/s]\n",
            "Loading…: 100%|██████████████████████████| 126/126 [00:04<00:00, 25.20it/s]\n",
            "Loading…: 100%|██████████████████████████| 126/126 [00:05<00:00, 21.77it/s]\n",
            "Loading…: 100%|██████████████████████████| 126/126 [00:04<00:00, 25.86it/s]\n",
            "Loading…: 100%|██████████████████████████| 126/126 [00:06<00:00, 18.35it/s]\n",
            "Loading…: 100%|██████████████████████████| 126/126 [00:05<00:00, 22.99it/s]\n",
            "Loading…: 100%|██████████████████████████| 126/126 [00:04<00:00, 25.81it/s]\n",
            "Loading…: 100%|██████████████████████████| 126/126 [00:06<00:00, 19.28it/s]\n",
            "Loading…: 100%|██████████████████████████| 126/126 [00:04<00:00, 25.74it/s]\n",
            "Loading…: 100%|██████████████████████████| 126/126 [00:06<00:00, 19.32it/s]\n"
          ]
        },
        {
          "output_type": "stream",
          "name": "stdout",
          "text": [
            "Iteration: 48\n"
          ]
        },
        {
          "output_type": "stream",
          "name": "stderr",
          "text": [
            "Loading…: 100%|██████████████████████████| 126/126 [00:05<00:00, 23.34it/s]\n",
            "Loading…: 100%|██████████████████████████| 126/126 [00:07<00:00, 16.36it/s]\n",
            "Loading…: 100%|██████████████████████████| 126/126 [00:05<00:00, 22.40it/s]\n",
            "Loading…: 100%|██████████████████████████| 126/126 [00:07<00:00, 17.85it/s]\n",
            "Loading…: 100%|██████████████████████████| 126/126 [00:05<00:00, 22.43it/s]\n",
            "Loading…: 100%|██████████████████████████| 126/126 [00:07<00:00, 17.77it/s]\n",
            "Loading…: 100%|██████████████████████████| 126/126 [00:05<00:00, 21.83it/s]\n",
            "Loading…: 100%|██████████████████████████| 126/126 [00:07<00:00, 16.68it/s]\n",
            "Loading…: 100%|██████████████████████████| 126/126 [00:05<00:00, 21.63it/s]\n",
            "Loading…: 100%|██████████████████████████| 126/126 [00:07<00:00, 17.15it/s]\n"
          ]
        },
        {
          "output_type": "stream",
          "name": "stdout",
          "text": [
            "Iteration: 49\n"
          ]
        },
        {
          "output_type": "stream",
          "name": "stderr",
          "text": [
            "Loading…: 100%|██████████████████████████| 126/126 [00:06<00:00, 20.86it/s]\n",
            "Loading…: 100%|██████████████████████████| 126/126 [00:10<00:00, 11.83it/s]\n",
            "Loading…: 100%|██████████████████████████| 126/126 [00:07<00:00, 17.95it/s]\n",
            "Loading…: 100%|██████████████████████████| 126/126 [00:06<00:00, 19.41it/s]\n",
            "Loading…: 100%|██████████████████████████| 126/126 [00:08<00:00, 15.49it/s]\n",
            "Loading…: 100%|██████████████████████████| 126/126 [00:06<00:00, 20.36it/s]\n",
            "Loading…: 100%|██████████████████████████| 126/126 [00:08<00:00, 14.94it/s]\n",
            "Loading…: 100%|██████████████████████████| 126/126 [00:06<00:00, 18.76it/s]\n",
            "Loading…: 100%|██████████████████████████| 126/126 [00:08<00:00, 14.94it/s]\n",
            "Loading…: 100%|██████████████████████████| 126/126 [00:08<00:00, 15.27it/s]\n"
          ]
        },
        {
          "output_type": "stream",
          "name": "stdout",
          "text": [
            "Iteration: 50\n"
          ]
        },
        {
          "output_type": "stream",
          "name": "stderr",
          "text": [
            "Loading…: 100%|██████████████████████████| 126/126 [00:06<00:00, 18.41it/s]\n",
            "Loading…:  11%|███                        | 14/126 [00:00<00:07, 15.64it/s]<ipython-input-22-35bcd1737ba8>:60: RuntimeWarning: divide by zero encountered in log\n",
            "  p_of_y_given_x = np.log(p_of_y * p_of_x_given_y)\n",
            "Loading…: 100%|██████████████████████████| 126/126 [00:09<00:00, 13.07it/s]\n",
            "Loading…: 100%|██████████████████████████| 126/126 [00:08<00:00, 14.23it/s]\n",
            "Loading…:  11%|███                        | 14/126 [00:00<00:05, 20.77it/s]<ipython-input-22-35bcd1737ba8>:60: RuntimeWarning: divide by zero encountered in log\n",
            "  p_of_y_given_x = np.log(p_of_y * p_of_x_given_y)\n",
            "Loading…: 100%|██████████████████████████| 126/126 [00:06<00:00, 18.91it/s]\n",
            "Loading…:  56%|███████████████            | 70/126 [00:06<00:05,  9.34it/s]<ipython-input-22-35bcd1737ba8>:60: RuntimeWarning: divide by zero encountered in log\n",
            "  p_of_y_given_x = np.log(p_of_y * p_of_x_given_y)\n",
            "Loading…: 100%|██████████████████████████| 126/126 [00:10<00:00, 11.78it/s]\n",
            "Loading…:  79%|████████████████████▋     | 100/126 [00:07<00:01, 14.63it/s]<ipython-input-22-35bcd1737ba8>:60: RuntimeWarning: divide by zero encountered in log\n",
            "  p_of_y_given_x = np.log(p_of_y * p_of_x_given_y)\n",
            "Loading…: 100%|██████████████████████████| 126/126 [00:08<00:00, 14.54it/s]\n",
            "Loading…:  75%|████████████████████▏      | 94/126 [00:05<00:01, 17.26it/s]<ipython-input-22-35bcd1737ba8>:60: RuntimeWarning: divide by zero encountered in log\n",
            "  p_of_y_given_x = np.log(p_of_y * p_of_x_given_y)\n",
            "Loading…: 100%|██████████████████████████| 126/126 [00:07<00:00, 16.56it/s]\n",
            "Loading…:  98%|█████████████████████████▍| 123/126 [00:08<00:00, 15.97it/s]<ipython-input-22-35bcd1737ba8>:60: RuntimeWarning: divide by zero encountered in log\n",
            "  p_of_y_given_x = np.log(p_of_y * p_of_x_given_y)\n",
            "Loading…: 100%|██████████████████████████| 126/126 [00:08<00:00, 14.28it/s]\n",
            "Loading…:  85%|██████████████████████    | 107/126 [00:08<00:01, 18.04it/s]<ipython-input-22-35bcd1737ba8>:60: RuntimeWarning: divide by zero encountered in log\n",
            "  p_of_y_given_x = np.log(p_of_y * p_of_x_given_y)\n",
            "Loading…: 100%|██████████████████████████| 126/126 [00:09<00:00, 13.46it/s]\n",
            "Loading…: 100%|██████████████████████████| 126/126 [00:07<00:00, 15.77it/s]\n"
          ]
        },
        {
          "output_type": "stream",
          "name": "stdout",
          "text": [
            "Iteration: 51\n"
          ]
        },
        {
          "output_type": "stream",
          "name": "stderr",
          "text": [
            "Loading…: 100%|██████████████████████████| 126/126 [00:04<00:00, 26.94it/s]\n",
            "Loading…: 100%|██████████████████████████| 126/126 [00:04<00:00, 26.53it/s]\n",
            "Loading…: 100%|██████████████████████████| 126/126 [00:06<00:00, 19.93it/s]\n",
            "Loading…: 100%|██████████████████████████| 126/126 [00:04<00:00, 28.11it/s]\n",
            "Loading…: 100%|██████████████████████████| 126/126 [00:05<00:00, 22.90it/s]\n",
            "Loading…: 100%|██████████████████████████| 126/126 [00:05<00:00, 24.30it/s]\n",
            "Loading…: 100%|██████████████████████████| 126/126 [00:04<00:00, 26.82it/s]\n",
            "Loading…: 100%|██████████████████████████| 126/126 [00:06<00:00, 19.86it/s]\n",
            "Loading…: 100%|██████████████████████████| 126/126 [00:04<00:00, 26.68it/s]\n",
            "Loading…: 100%|██████████████████████████| 126/126 [00:05<00:00, 23.87it/s]\n"
          ]
        },
        {
          "output_type": "stream",
          "name": "stdout",
          "text": [
            "Iteration: 52\n"
          ]
        },
        {
          "output_type": "stream",
          "name": "stderr",
          "text": [
            "Loading…: 100%|██████████████████████████| 126/126 [00:06<00:00, 20.00it/s]\n",
            "Loading…: 100%|██████████████████████████| 126/126 [00:08<00:00, 14.72it/s]\n",
            "Loading…: 100%|██████████████████████████| 126/126 [00:05<00:00, 21.70it/s]\n",
            "Loading…: 100%|██████████████████████████| 126/126 [00:07<00:00, 17.56it/s]\n",
            "Loading…: 100%|██████████████████████████| 126/126 [00:05<00:00, 21.74it/s]\n",
            "Loading…: 100%|██████████████████████████| 126/126 [00:07<00:00, 17.21it/s]\n",
            "Loading…: 100%|██████████████████████████| 126/126 [00:06<00:00, 20.88it/s]\n",
            "Loading…: 100%|██████████████████████████| 126/126 [00:07<00:00, 16.44it/s]\n",
            "Loading…: 100%|██████████████████████████| 126/126 [00:06<00:00, 20.94it/s]\n",
            "Loading…: 100%|██████████████████████████| 126/126 [00:07<00:00, 16.93it/s]\n"
          ]
        },
        {
          "output_type": "stream",
          "name": "stdout",
          "text": [
            "Iteration: 53\n"
          ]
        },
        {
          "output_type": "stream",
          "name": "stderr",
          "text": [
            "Loading…: 100%|██████████████████████████| 126/126 [00:06<00:00, 19.22it/s]\n",
            "Loading…: 100%|██████████████████████████| 126/126 [00:08<00:00, 14.60it/s]\n",
            "Loading…: 100%|██████████████████████████| 126/126 [00:08<00:00, 14.82it/s]\n",
            "Loading…: 100%|██████████████████████████| 126/126 [00:06<00:00, 19.89it/s]\n",
            "Loading…: 100%|██████████████████████████| 126/126 [00:08<00:00, 14.73it/s]\n",
            "Loading…: 100%|██████████████████████████| 126/126 [00:06<00:00, 18.91it/s]\n",
            "Loading…: 100%|██████████████████████████| 126/126 [00:10<00:00, 12.36it/s]\n",
            "Loading…: 100%|██████████████████████████| 126/126 [00:08<00:00, 14.57it/s]\n",
            "Loading…: 100%|██████████████████████████| 126/126 [00:07<00:00, 17.82it/s]\n",
            "Loading…: 100%|██████████████████████████| 126/126 [00:08<00:00, 14.44it/s]\n"
          ]
        },
        {
          "output_type": "stream",
          "name": "stdout",
          "text": [
            "Iteration: 54\n"
          ]
        },
        {
          "output_type": "stream",
          "name": "stderr",
          "text": [
            "Loading…: 100%|██████████████████████████| 126/126 [00:08<00:00, 14.32it/s]\n",
            "Loading…: 100%|██████████████████████████| 126/126 [00:08<00:00, 14.87it/s]\n",
            "Loading…: 100%|██████████████████████████| 126/126 [00:09<00:00, 13.34it/s]\n",
            "Loading…: 100%|██████████████████████████| 126/126 [00:08<00:00, 14.09it/s]\n",
            "Loading…: 100%|██████████████████████████| 126/126 [00:07<00:00, 16.04it/s]\n",
            "Loading…: 100%|██████████████████████████| 126/126 [00:09<00:00, 13.65it/s]\n",
            "Loading…: 100%|██████████████████████████| 126/126 [00:09<00:00, 12.83it/s]\n",
            "Loading…: 100%|██████████████████████████| 126/126 [00:08<00:00, 14.77it/s]\n",
            "Loading…: 100%|██████████████████████████| 126/126 [00:10<00:00, 11.73it/s]\n",
            "Loading…: 100%|██████████████████████████| 126/126 [00:09<00:00, 13.15it/s]\n"
          ]
        },
        {
          "output_type": "stream",
          "name": "stdout",
          "text": [
            "Iteration: 55\n"
          ]
        },
        {
          "output_type": "stream",
          "name": "stderr",
          "text": [
            "Loading…: 100%|██████████████████████████| 126/126 [00:09<00:00, 12.68it/s]\n",
            "Loading…: 100%|██████████████████████████| 126/126 [00:11<00:00, 11.23it/s]\n",
            "Loading…: 100%|██████████████████████████| 126/126 [00:08<00:00, 14.36it/s]\n",
            "Loading…: 100%|██████████████████████████| 126/126 [00:09<00:00, 13.84it/s]\n",
            "Loading…: 100%|██████████████████████████| 126/126 [00:10<00:00, 12.09it/s]\n",
            "Loading…: 100%|██████████████████████████| 126/126 [00:10<00:00, 12.29it/s]\n",
            "Loading…: 100%|██████████████████████████| 126/126 [00:10<00:00, 12.34it/s]\n",
            "Loading…: 100%|██████████████████████████| 126/126 [00:09<00:00, 13.67it/s]\n",
            "Loading…: 100%|██████████████████████████| 126/126 [00:12<00:00,  9.91it/s]\n",
            "Loading…: 100%|██████████████████████████| 126/126 [00:10<00:00, 11.92it/s]\n"
          ]
        },
        {
          "output_type": "stream",
          "name": "stdout",
          "text": [
            "Iteration: 56\n"
          ]
        },
        {
          "output_type": "stream",
          "name": "stderr",
          "text": [
            "Loading…: 100%|██████████████████████████| 126/126 [00:05<00:00, 21.53it/s]\n",
            "Loading…: 100%|██████████████████████████| 126/126 [00:05<00:00, 24.76it/s]\n",
            "Loading…: 100%|██████████████████████████| 126/126 [00:04<00:00, 27.03it/s]\n",
            "Loading…: 100%|██████████████████████████| 126/126 [00:06<00:00, 20.41it/s]\n",
            "Loading…: 100%|██████████████████████████| 126/126 [00:04<00:00, 26.83it/s]\n",
            "Loading…: 100%|██████████████████████████| 126/126 [00:05<00:00, 21.62it/s]\n",
            "Loading…: 100%|██████████████████████████| 126/126 [00:05<00:00, 24.89it/s]\n",
            "Loading…: 100%|██████████████████████████| 126/126 [00:04<00:00, 25.82it/s]\n",
            "Loading…: 100%|██████████████████████████| 126/126 [00:06<00:00, 19.65it/s]\n",
            "Loading…: 100%|██████████████████████████| 126/126 [00:04<00:00, 26.70it/s]\n"
          ]
        },
        {
          "output_type": "stream",
          "name": "stdout",
          "text": [
            "Iteration: 57\n"
          ]
        },
        {
          "output_type": "stream",
          "name": "stderr",
          "text": [
            "Loading…: 100%|██████████████████████████| 126/126 [00:07<00:00, 17.25it/s]\n",
            "Loading…: 100%|██████████████████████████| 126/126 [00:06<00:00, 20.22it/s]\n",
            "Loading…: 100%|██████████████████████████| 126/126 [00:07<00:00, 16.73it/s]\n",
            "Loading…: 100%|██████████████████████████| 126/126 [00:05<00:00, 22.25it/s]\n",
            "Loading…: 100%|██████████████████████████| 126/126 [00:07<00:00, 16.67it/s]\n",
            "Loading…: 100%|██████████████████████████| 126/126 [00:06<00:00, 20.75it/s]\n",
            "Loading…: 100%|██████████████████████████| 126/126 [00:08<00:00, 14.20it/s]\n",
            "Loading…: 100%|██████████████████████████| 126/126 [00:06<00:00, 20.80it/s]\n",
            "Loading…: 100%|██████████████████████████| 126/126 [00:07<00:00, 16.21it/s]\n",
            "Loading…: 100%|██████████████████████████| 126/126 [00:06<00:00, 20.61it/s]\n"
          ]
        },
        {
          "output_type": "stream",
          "name": "stdout",
          "text": [
            "Iteration: 58\n"
          ]
        },
        {
          "output_type": "stream",
          "name": "stderr",
          "text": [
            "Loading…: 100%|██████████████████████████| 126/126 [00:06<00:00, 18.27it/s]\n",
            "Loading…: 100%|██████████████████████████| 126/126 [00:09<00:00, 13.71it/s]\n",
            "Loading…: 100%|██████████████████████████| 126/126 [00:06<00:00, 18.27it/s]\n",
            "Loading…: 100%|██████████████████████████| 126/126 [00:08<00:00, 15.26it/s]\n",
            "Loading…: 100%|██████████████████████████| 126/126 [00:08<00:00, 15.14it/s]\n",
            "Loading…: 100%|██████████████████████████| 126/126 [00:06<00:00, 18.77it/s]\n",
            "Loading…: 100%|██████████████████████████| 126/126 [00:08<00:00, 14.10it/s]\n",
            "Loading…: 100%|██████████████████████████| 126/126 [00:07<00:00, 17.08it/s]\n",
            "Loading…: 100%|██████████████████████████| 126/126 [00:08<00:00, 14.94it/s]\n",
            "Loading…: 100%|██████████████████████████| 126/126 [00:10<00:00, 12.34it/s]\n"
          ]
        },
        {
          "output_type": "stream",
          "name": "stdout",
          "text": [
            "Iteration: 59\n"
          ]
        },
        {
          "output_type": "stream",
          "name": "stderr",
          "text": [
            "Loading…: 100%|██████████████████████████| 126/126 [00:08<00:00, 15.26it/s]\n",
            "Loading…: 100%|██████████████████████████| 126/126 [00:09<00:00, 13.79it/s]\n",
            "Loading…: 100%|██████████████████████████| 126/126 [00:09<00:00, 13.09it/s]\n",
            "Loading…: 100%|██████████████████████████| 126/126 [00:09<00:00, 13.47it/s]\n",
            "Loading…: 100%|██████████████████████████| 126/126 [00:08<00:00, 15.57it/s]\n",
            "Loading…: 100%|██████████████████████████| 126/126 [00:09<00:00, 13.25it/s]\n",
            "Loading…: 100%|██████████████████████████| 126/126 [00:10<00:00, 12.16it/s]\n",
            "Loading…: 100%|██████████████████████████| 126/126 [00:10<00:00, 12.46it/s]\n",
            "Loading…: 100%|██████████████████████████| 126/126 [00:08<00:00, 14.89it/s]\n",
            "Loading…: 100%|██████████████████████████| 126/126 [00:10<00:00, 12.56it/s]\n"
          ]
        },
        {
          "output_type": "stream",
          "name": "stdout",
          "text": [
            "Iteration: 60\n"
          ]
        },
        {
          "output_type": "stream",
          "name": "stderr",
          "text": [
            "Loading…: 100%|██████████████████████████| 126/126 [00:11<00:00, 10.52it/s]\n",
            "Loading…:  12%|███▏                       | 15/126 [00:01<00:08, 13.44it/s]<ipython-input-22-35bcd1737ba8>:60: RuntimeWarning: divide by zero encountered in log\n",
            "  p_of_y_given_x = np.log(p_of_y * p_of_x_given_y)\n",
            "Loading…: 100%|██████████████████████████| 126/126 [00:11<00:00, 10.92it/s]\n",
            "Loading…: 100%|██████████████████████████| 126/126 [00:10<00:00, 11.86it/s]\n",
            "Loading…:  11%|███                        | 14/126 [00:00<00:06, 17.23it/s]<ipython-input-22-35bcd1737ba8>:60: RuntimeWarning: divide by zero encountered in log\n",
            "  p_of_y_given_x = np.log(p_of_y * p_of_x_given_y)\n",
            "Loading…: 100%|██████████████████████████| 126/126 [00:08<00:00, 14.45it/s]\n",
            "Loading…:  55%|██████████████▊            | 69/126 [00:05<00:04, 14.03it/s]<ipython-input-22-35bcd1737ba8>:60: RuntimeWarning: divide by zero encountered in log\n",
            "  p_of_y_given_x = np.log(p_of_y * p_of_x_given_y)\n",
            "Loading…: 100%|██████████████████████████| 126/126 [00:10<00:00, 12.52it/s]\n",
            "Loading…:  80%|████████████████████▊     | 101/126 [00:09<00:01, 14.74it/s]<ipython-input-22-35bcd1737ba8>:60: RuntimeWarning: divide by zero encountered in log\n",
            "  p_of_y_given_x = np.log(p_of_y * p_of_x_given_y)\n",
            "Loading…: 100%|██████████████████████████| 126/126 [00:10<00:00, 11.82it/s]\n",
            "Loading…:  73%|███████████████████▋       | 92/126 [00:08<00:02, 11.51it/s]<ipython-input-22-35bcd1737ba8>:60: RuntimeWarning: divide by zero encountered in log\n",
            "  p_of_y_given_x = np.log(p_of_y * p_of_x_given_y)\n",
            "Loading…: 100%|██████████████████████████| 126/126 [00:11<00:00, 11.11it/s]\n",
            "Loading…:  98%|█████████████████████████▍| 123/126 [00:11<00:00, 12.51it/s]<ipython-input-22-35bcd1737ba8>:60: RuntimeWarning: divide by zero encountered in log\n",
            "  p_of_y_given_x = np.log(p_of_y * p_of_x_given_y)\n",
            "Loading…: 100%|██████████████████████████| 126/126 [00:11<00:00, 11.20it/s]\n",
            "Loading…:  86%|██████████████████████▎   | 108/126 [00:09<00:02,  8.48it/s]<ipython-input-22-35bcd1737ba8>:60: RuntimeWarning: divide by zero encountered in log\n",
            "  p_of_y_given_x = np.log(p_of_y * p_of_x_given_y)\n",
            "Loading…: 100%|██████████████████████████| 126/126 [00:11<00:00, 11.22it/s]\n",
            "Loading…: 100%|██████████████████████████| 126/126 [00:09<00:00, 13.04it/s]\n"
          ]
        },
        {
          "output_type": "stream",
          "name": "stdout",
          "text": [
            "Iteration: 61\n"
          ]
        },
        {
          "output_type": "stream",
          "name": "stderr",
          "text": [
            "Loading…: 100%|█████████████████████████| 126/126 [00:00<00:00, 147.54it/s]\n",
            "Loading…: 100%|█████████████████████████| 126/126 [00:00<00:00, 139.15it/s]\n",
            "Loading…: 100%|█████████████████████████| 126/126 [00:00<00:00, 220.14it/s]\n",
            "Loading…: 100%|█████████████████████████| 126/126 [00:00<00:00, 278.72it/s]\n",
            "Loading…: 100%|█████████████████████████| 126/126 [00:00<00:00, 274.87it/s]\n",
            "Loading…: 100%|█████████████████████████| 126/126 [00:00<00:00, 161.78it/s]\n",
            "Loading…: 100%|█████████████████████████| 126/126 [00:00<00:00, 139.68it/s]\n",
            "Loading…: 100%|█████████████████████████| 126/126 [00:00<00:00, 143.31it/s]\n",
            "Loading…: 100%|█████████████████████████| 126/126 [00:00<00:00, 141.34it/s]\n",
            "Loading…: 100%|█████████████████████████| 126/126 [00:00<00:00, 258.06it/s]\n"
          ]
        },
        {
          "output_type": "stream",
          "name": "stdout",
          "text": [
            "Iteration: 62\n"
          ]
        },
        {
          "output_type": "stream",
          "name": "stderr",
          "text": [
            "Loading…: 100%|█████████████████████████| 126/126 [00:00<00:00, 211.78it/s]\n",
            "Loading…: 100%|█████████████████████████| 126/126 [00:00<00:00, 190.78it/s]\n",
            "Loading…: 100%|█████████████████████████| 126/126 [00:00<00:00, 211.38it/s]\n",
            "Loading…: 100%|█████████████████████████| 126/126 [00:00<00:00, 232.80it/s]\n",
            "Loading…: 100%|█████████████████████████| 126/126 [00:01<00:00, 112.63it/s]\n",
            "Loading…: 100%|█████████████████████████| 126/126 [00:01<00:00, 115.82it/s]\n",
            "Loading…: 100%|█████████████████████████| 126/126 [00:00<00:00, 133.57it/s]\n",
            "Loading…: 100%|█████████████████████████| 126/126 [00:00<00:00, 206.12it/s]\n",
            "Loading…: 100%|█████████████████████████| 126/126 [00:00<00:00, 209.73it/s]\n",
            "Loading…: 100%|█████████████████████████| 126/126 [00:00<00:00, 205.94it/s]\n"
          ]
        },
        {
          "output_type": "stream",
          "name": "stdout",
          "text": [
            "Iteration: 63\n"
          ]
        },
        {
          "output_type": "stream",
          "name": "stderr",
          "text": [
            "Loading…: 100%|█████████████████████████| 126/126 [00:00<00:00, 183.01it/s]\n",
            "Loading…: 100%|█████████████████████████| 126/126 [00:00<00:00, 159.77it/s]\n",
            "Loading…: 100%|█████████████████████████| 126/126 [00:00<00:00, 170.81it/s]\n",
            "Loading…: 100%|█████████████████████████| 126/126 [00:00<00:00, 185.07it/s]\n",
            "Loading…: 100%|█████████████████████████| 126/126 [00:00<00:00, 169.47it/s]\n",
            "Loading…: 100%|█████████████████████████| 126/126 [00:00<00:00, 143.61it/s]\n",
            "Loading…: 100%|██████████████████████████| 126/126 [00:01<00:00, 89.95it/s]\n",
            "Loading…: 100%|█████████████████████████| 126/126 [00:01<00:00, 122.30it/s]\n",
            "Loading…: 100%|█████████████████████████| 126/126 [00:00<00:00, 168.86it/s]\n",
            "Loading…: 100%|█████████████████████████| 126/126 [00:00<00:00, 169.68it/s]\n"
          ]
        },
        {
          "output_type": "stream",
          "name": "stdout",
          "text": [
            "Iteration: 64\n"
          ]
        },
        {
          "output_type": "stream",
          "name": "stderr",
          "text": [
            "Loading…: 100%|█████████████████████████| 126/126 [00:00<00:00, 158.33it/s]\n",
            "Loading…: 100%|█████████████████████████| 126/126 [00:00<00:00, 137.22it/s]\n",
            "Loading…: 100%|█████████████████████████| 126/126 [00:00<00:00, 153.29it/s]\n",
            "Loading…: 100%|█████████████████████████| 126/126 [00:00<00:00, 159.61it/s]\n",
            "Loading…: 100%|█████████████████████████| 126/126 [00:01<00:00, 109.91it/s]\n",
            "Loading…: 100%|██████████████████████████| 126/126 [00:01<00:00, 82.00it/s]\n",
            "Loading…: 100%|█████████████████████████| 126/126 [00:00<00:00, 145.34it/s]\n",
            "Loading…: 100%|█████████████████████████| 126/126 [00:00<00:00, 145.65it/s]\n",
            "Loading…: 100%|█████████████████████████| 126/126 [00:00<00:00, 145.97it/s]\n",
            "Loading…: 100%|█████████████████████████| 126/126 [00:00<00:00, 148.63it/s]\n"
          ]
        },
        {
          "output_type": "stream",
          "name": "stdout",
          "text": [
            "Iteration: 65\n"
          ]
        },
        {
          "output_type": "stream",
          "name": "stderr",
          "text": [
            "Loading…: 100%|█████████████████████████| 126/126 [00:00<00:00, 140.46it/s]\n",
            "Loading…: 100%|█████████████████████████| 126/126 [00:01<00:00, 122.28it/s]\n",
            "Loading…: 100%|██████████████████████████| 126/126 [00:01<00:00, 69.21it/s]\n",
            "Loading…: 100%|█████████████████████████| 126/126 [00:01<00:00, 120.09it/s]\n",
            "Loading…: 100%|█████████████████████████| 126/126 [00:00<00:00, 131.82it/s]\n",
            "Loading…: 100%|█████████████████████████| 126/126 [00:00<00:00, 136.05it/s]\n",
            "Loading…: 100%|█████████████████████████| 126/126 [00:00<00:00, 127.85it/s]\n",
            "Loading…: 100%|█████████████████████████| 126/126 [00:00<00:00, 128.98it/s]\n",
            "Loading…: 100%|█████████████████████████| 126/126 [00:00<00:00, 126.77it/s]\n",
            "Loading…: 100%|██████████████████████████| 126/126 [00:01<00:00, 69.59it/s]\n"
          ]
        },
        {
          "output_type": "stream",
          "name": "stdout",
          "text": [
            "Iteration: 66\n"
          ]
        },
        {
          "output_type": "stream",
          "name": "stderr",
          "text": [
            "Loading…: 100%|█████████████████████████| 126/126 [00:00<00:00, 162.38it/s]\n",
            "Loading…: 100%|█████████████████████████| 126/126 [00:00<00:00, 257.86it/s]\n",
            "Loading…: 100%|█████████████████████████| 126/126 [00:00<00:00, 278.12it/s]\n",
            "Loading…: 100%|█████████████████████████| 126/126 [00:00<00:00, 281.36it/s]\n",
            "Loading…: 100%|█████████████████████████| 126/126 [00:00<00:00, 282.11it/s]\n",
            "Loading…: 100%|█████████████████████████| 126/126 [00:00<00:00, 271.57it/s]\n",
            "Loading…: 100%|█████████████████████████| 126/126 [00:00<00:00, 273.30it/s]\n",
            "Loading…: 100%|█████████████████████████| 126/126 [00:00<00:00, 268.73it/s]\n",
            "Loading…: 100%|█████████████████████████| 126/126 [00:00<00:00, 269.06it/s]\n",
            "Loading…: 100%|█████████████████████████| 126/126 [00:00<00:00, 275.44it/s]\n"
          ]
        },
        {
          "output_type": "stream",
          "name": "stdout",
          "text": [
            "Iteration: 67\n"
          ]
        },
        {
          "output_type": "stream",
          "name": "stderr",
          "text": [
            "Loading…: 100%|█████████████████████████| 126/126 [00:00<00:00, 220.10it/s]\n",
            "Loading…: 100%|█████████████████████████| 126/126 [00:00<00:00, 202.10it/s]\n",
            "Loading…: 100%|█████████████████████████| 126/126 [00:00<00:00, 206.33it/s]\n",
            "Loading…: 100%|█████████████████████████| 126/126 [00:00<00:00, 215.18it/s]\n",
            "Loading…: 100%|█████████████████████████| 126/126 [00:00<00:00, 202.40it/s]\n",
            "Loading…: 100%|█████████████████████████| 126/126 [00:01<00:00, 116.28it/s]\n",
            "Loading…: 100%|█████████████████████████| 126/126 [00:01<00:00, 103.43it/s]\n",
            "Loading…: 100%|█████████████████████████| 126/126 [00:00<00:00, 154.06it/s]\n",
            "Loading…: 100%|█████████████████████████| 126/126 [00:00<00:00, 194.90it/s]\n",
            "Loading…: 100%|█████████████████████████| 126/126 [00:00<00:00, 202.53it/s]\n"
          ]
        },
        {
          "output_type": "stream",
          "name": "stdout",
          "text": [
            "Iteration: 68\n"
          ]
        },
        {
          "output_type": "stream",
          "name": "stderr",
          "text": [
            "Loading…: 100%|█████████████████████████| 126/126 [00:00<00:00, 178.75it/s]\n",
            "Loading…: 100%|█████████████████████████| 126/126 [00:00<00:00, 161.86it/s]\n",
            "Loading…: 100%|█████████████████████████| 126/126 [00:00<00:00, 175.33it/s]\n",
            "Loading…: 100%|█████████████████████████| 126/126 [00:00<00:00, 183.52it/s]\n",
            "Loading…: 100%|█████████████████████████| 126/126 [00:00<00:00, 174.32it/s]\n",
            "Loading…: 100%|█████████████████████████| 126/126 [00:00<00:00, 180.58it/s]\n",
            "Loading…: 100%|██████████████████████████| 126/126 [00:01<00:00, 85.41it/s]\n",
            "Loading…: 100%|██████████████████████████| 126/126 [00:01<00:00, 98.02it/s]\n",
            "Loading…: 100%|█████████████████████████| 126/126 [00:00<00:00, 162.36it/s]\n",
            "Loading…: 100%|█████████████████████████| 126/126 [00:00<00:00, 164.66it/s]\n"
          ]
        },
        {
          "output_type": "stream",
          "name": "stdout",
          "text": [
            "Iteration: 69\n"
          ]
        },
        {
          "output_type": "stream",
          "name": "stderr",
          "text": [
            "Loading…: 100%|█████████████████████████| 126/126 [00:00<00:00, 156.11it/s]\n",
            "Loading…: 100%|█████████████████████████| 126/126 [00:00<00:00, 134.23it/s]\n",
            "Loading…: 100%|█████████████████████████| 126/126 [00:00<00:00, 145.27it/s]\n",
            "Loading…: 100%|█████████████████████████| 126/126 [00:00<00:00, 159.65it/s]\n",
            "Loading…: 100%|██████████████████████████| 126/126 [00:01<00:00, 98.77it/s]\n",
            "Loading…: 100%|██████████████████████████| 126/126 [00:01<00:00, 81.11it/s]\n",
            "Loading…: 100%|█████████████████████████| 126/126 [00:00<00:00, 139.65it/s]\n",
            "Loading…: 100%|█████████████████████████| 126/126 [00:00<00:00, 139.13it/s]\n",
            "Loading…: 100%|█████████████████████████| 126/126 [00:00<00:00, 136.50it/s]\n",
            "Loading…: 100%|██████████████████████████| 126/126 [00:01<00:00, 91.56it/s]\n"
          ]
        },
        {
          "output_type": "stream",
          "name": "stdout",
          "text": [
            "Iteration: 70\n"
          ]
        },
        {
          "output_type": "stream",
          "name": "stderr",
          "text": [
            "Loading…: 100%|█████████████████████████| 126/126 [00:01<00:00, 115.44it/s]\n",
            "Loading…: 100%|██████████████████████████| 126/126 [00:02<00:00, 61.74it/s]\n",
            "Loading…: 100%|█████████████████████████| 126/126 [00:00<00:00, 131.25it/s]\n",
            "Loading…: 100%|█████████████████████████| 126/126 [00:00<00:00, 140.12it/s]\n",
            "Loading…: 100%|█████████████████████████| 126/126 [00:00<00:00, 129.35it/s]\n",
            "Loading…: 100%|█████████████████████████| 126/126 [00:00<00:00, 132.25it/s]\n",
            "Loading…: 100%|█████████████████████████| 126/126 [00:01<00:00, 122.23it/s]\n",
            "Loading…: 100%|██████████████████████████| 126/126 [00:01<00:00, 97.92it/s]\n",
            "Loading…: 100%|██████████████████████████| 126/126 [00:01<00:00, 68.99it/s]\n",
            "Loading…: 100%|█████████████████████████| 126/126 [00:00<00:00, 126.73it/s]\n"
          ]
        },
        {
          "output_type": "stream",
          "name": "stdout",
          "text": [
            "Iteration: 71\n"
          ]
        },
        {
          "output_type": "stream",
          "name": "stderr",
          "text": [
            "Loading…: 100%|█████████████████████████| 126/126 [00:00<00:00, 141.54it/s]\n",
            "Loading…: 100%|█████████████████████████| 126/126 [00:00<00:00, 134.23it/s]\n",
            "Loading…: 100%|█████████████████████████| 126/126 [00:00<00:00, 134.46it/s]\n",
            "Loading…: 100%|█████████████████████████| 126/126 [00:00<00:00, 135.93it/s]\n",
            "Loading…: 100%|█████████████████████████| 126/126 [00:00<00:00, 132.89it/s]\n",
            "Loading…: 100%|█████████████████████████| 126/126 [00:00<00:00, 137.89it/s]\n",
            "Loading…: 100%|█████████████████████████| 126/126 [00:00<00:00, 134.26it/s]\n",
            "Loading…: 100%|██████████████████████████| 126/126 [00:01<00:00, 97.67it/s]\n",
            "Loading…: 100%|██████████████████████████| 126/126 [00:01<00:00, 72.58it/s]\n",
            "Loading…: 100%|██████████████████████████| 126/126 [00:01<00:00, 87.09it/s]\n"
          ]
        },
        {
          "output_type": "stream",
          "name": "stdout",
          "text": [
            "Iteration: 72\n"
          ]
        },
        {
          "output_type": "stream",
          "name": "stderr",
          "text": [
            "Loading…: 100%|█████████████████████████| 126/126 [00:01<00:00, 110.99it/s]\n",
            "Loading…: 100%|██████████████████████████| 126/126 [00:01<00:00, 98.36it/s]\n",
            "Loading…: 100%|█████████████████████████| 126/126 [00:01<00:00, 106.68it/s]\n",
            "Loading…: 100%|█████████████████████████| 126/126 [00:01<00:00, 111.09it/s]\n",
            "Loading…: 100%|█████████████████████████| 126/126 [00:01<00:00, 105.19it/s]\n",
            "Loading…: 100%|█████████████████████████| 126/126 [00:01<00:00, 107.05it/s]\n",
            "Loading…: 100%|██████████████████████████| 126/126 [00:01<00:00, 63.33it/s]\n",
            "Loading…: 100%|██████████████████████████| 126/126 [00:02<00:00, 60.82it/s]\n",
            "Loading…: 100%|█████████████████████████| 126/126 [00:01<00:00, 100.76it/s]\n",
            "Loading…: 100%|█████████████████████████| 126/126 [00:01<00:00, 103.50it/s]\n"
          ]
        },
        {
          "output_type": "stream",
          "name": "stdout",
          "text": [
            "Iteration: 73\n"
          ]
        },
        {
          "output_type": "stream",
          "name": "stderr",
          "text": [
            "Loading…: 100%|██████████████████████████| 126/126 [00:01<00:00, 91.62it/s]\n",
            "Loading…: 100%|██████████████████████████| 126/126 [00:01<00:00, 79.36it/s]\n",
            "Loading…: 100%|██████████████████████████| 126/126 [00:01<00:00, 82.13it/s]\n",
            "Loading…: 100%|██████████████████████████| 126/126 [00:02<00:00, 51.07it/s]\n",
            "Loading…: 100%|██████████████████████████| 126/126 [00:01<00:00, 69.35it/s]\n",
            "Loading…: 100%|██████████████████████████| 126/126 [00:01<00:00, 88.80it/s]\n",
            "Loading…: 100%|██████████████████████████| 126/126 [00:01<00:00, 83.13it/s]\n",
            "Loading…: 100%|██████████████████████████| 126/126 [00:01<00:00, 82.89it/s]\n",
            "Loading…: 100%|██████████████████████████| 126/126 [00:01<00:00, 83.25it/s]\n",
            "Loading…: 100%|██████████████████████████| 126/126 [00:02<00:00, 58.83it/s]\n"
          ]
        },
        {
          "output_type": "stream",
          "name": "stdout",
          "text": [
            "Iteration: 74\n"
          ]
        },
        {
          "output_type": "stream",
          "name": "stderr",
          "text": [
            "Loading…: 100%|██████████████████████████| 126/126 [00:01<00:00, 68.72it/s]\n",
            "Loading…: 100%|██████████████████████████| 126/126 [00:01<00:00, 68.44it/s]\n",
            "Loading…: 100%|██████████████████████████| 126/126 [00:01<00:00, 74.95it/s]\n",
            "Loading…: 100%|██████████████████████████| 126/126 [00:01<00:00, 80.17it/s]\n",
            "Loading…: 100%|██████████████████████████| 126/126 [00:02<00:00, 58.92it/s]\n",
            "Loading…: 100%|██████████████████████████| 126/126 [00:02<00:00, 50.12it/s]\n",
            "Loading…: 100%|██████████████████████████| 126/126 [00:01<00:00, 70.16it/s]\n",
            "Loading…: 100%|██████████████████████████| 126/126 [00:01<00:00, 71.79it/s]\n",
            "Loading…: 100%|██████████████████████████| 126/126 [00:01<00:00, 71.66it/s]\n",
            "Loading…: 100%|██████████████████████████| 126/126 [00:01<00:00, 65.89it/s]\n"
          ]
        },
        {
          "output_type": "stream",
          "name": "stdout",
          "text": [
            "Iteration: 75\n"
          ]
        },
        {
          "output_type": "stream",
          "name": "stderr",
          "text": [
            "Loading…: 100%|██████████████████████████| 126/126 [00:02<00:00, 53.16it/s]\n",
            "Loading…: 100%|██████████████████████████| 126/126 [00:02<00:00, 60.93it/s]\n",
            "Loading…: 100%|██████████████████████████| 126/126 [00:01<00:00, 65.90it/s]\n",
            "Loading…: 100%|██████████████████████████| 126/126 [00:02<00:00, 54.10it/s]\n",
            "Loading…: 100%|██████████████████████████| 126/126 [00:04<00:00, 30.46it/s]\n",
            "Loading…: 100%|██████████████████████████| 126/126 [00:01<00:00, 69.69it/s]\n",
            "Loading…:  70%|██████████████████▊        | 88/126 [00:01<00:00, 63.42it/s]<ipython-input-22-35bcd1737ba8>:60: RuntimeWarning: divide by zero encountered in log\n",
            "  p_of_y_given_x = np.log(p_of_y * p_of_x_given_y)\n",
            "Loading…: 100%|██████████████████████████| 126/126 [00:02<00:00, 62.30it/s]\n",
            "Loading…:  95%|████████████████████████▊ | 120/126 [00:01<00:00, 63.11it/s]<ipython-input-22-35bcd1737ba8>:60: RuntimeWarning: divide by zero encountered in log\n",
            "  p_of_y_given_x = np.log(p_of_y * p_of_x_given_y)\n",
            "Loading…: 100%|██████████████████████████| 126/126 [00:02<00:00, 62.94it/s]\n",
            "Loading…:  84%|█████████████████████▊    | 106/126 [00:02<00:00, 36.27it/s]<ipython-input-22-35bcd1737ba8>:60: RuntimeWarning: divide by zero encountered in log\n",
            "  p_of_y_given_x = np.log(p_of_y * p_of_x_given_y)\n",
            "Loading…: 100%|██████████████████████████| 126/126 [00:02<00:00, 44.61it/s]\n",
            "Loading…: 100%|██████████████████████████| 126/126 [00:02<00:00, 55.20it/s]\n"
          ]
        },
        {
          "output_type": "stream",
          "name": "stdout",
          "text": [
            "Iteration: 76\n"
          ]
        },
        {
          "output_type": "stream",
          "name": "stderr",
          "text": [
            "Loading…: 100%|█████████████████████████| 126/126 [00:00<00:00, 137.75it/s]\n",
            "Loading…: 100%|█████████████████████████| 126/126 [00:00<00:00, 130.63it/s]\n",
            "Loading…: 100%|█████████████████████████| 126/126 [00:00<00:00, 138.07it/s]\n",
            "Loading…: 100%|█████████████████████████| 126/126 [00:00<00:00, 141.08it/s]\n",
            "Loading…: 100%|█████████████████████████| 126/126 [00:00<00:00, 134.40it/s]\n",
            "Loading…: 100%|█████████████████████████| 126/126 [00:00<00:00, 138.85it/s]\n",
            "Loading…: 100%|█████████████████████████| 126/126 [00:00<00:00, 133.60it/s]\n",
            "Loading…: 100%|█████████████████████████| 126/126 [00:01<00:00, 103.28it/s]\n",
            "Loading…: 100%|██████████████████████████| 126/126 [00:01<00:00, 72.15it/s]\n",
            "Loading…: 100%|██████████████████████████| 126/126 [00:01<00:00, 79.53it/s]\n"
          ]
        },
        {
          "output_type": "stream",
          "name": "stdout",
          "text": [
            "Iteration: 77\n"
          ]
        },
        {
          "output_type": "stream",
          "name": "stderr",
          "text": [
            "Loading…: 100%|█████████████████████████| 126/126 [00:01<00:00, 105.85it/s]\n",
            "Loading…: 100%|██████████████████████████| 126/126 [00:01<00:00, 97.89it/s]\n",
            "Loading…: 100%|█████████████████████████| 126/126 [00:01<00:00, 103.62it/s]\n",
            "Loading…: 100%|█████████████████████████| 126/126 [00:01<00:00, 109.83it/s]\n",
            "Loading…: 100%|█████████████████████████| 126/126 [00:01<00:00, 103.93it/s]\n",
            "Loading…: 100%|█████████████████████████| 126/126 [00:01<00:00, 105.59it/s]\n",
            "Loading…: 100%|██████████████████████████| 126/126 [00:02<00:00, 56.60it/s]\n",
            "Loading…: 100%|██████████████████████████| 126/126 [00:01<00:00, 67.75it/s]\n",
            "Loading…: 100%|██████████████████████████| 126/126 [00:01<00:00, 99.33it/s]\n",
            "Loading…: 100%|█████████████████████████| 126/126 [00:01<00:00, 101.95it/s]\n"
          ]
        },
        {
          "output_type": "stream",
          "name": "stdout",
          "text": [
            "Iteration: 78\n"
          ]
        },
        {
          "output_type": "stream",
          "name": "stderr",
          "text": [
            "Loading…: 100%|██████████████████████████| 126/126 [00:01<00:00, 91.48it/s]\n",
            "Loading…: 100%|██████████████████████████| 126/126 [00:01<00:00, 79.67it/s]\n",
            "Loading…: 100%|██████████████████████████| 126/126 [00:01<00:00, 87.13it/s]\n",
            "Loading…: 100%|██████████████████████████| 126/126 [00:02<00:00, 47.71it/s]\n",
            "Loading…: 100%|██████████████████████████| 126/126 [00:01<00:00, 86.36it/s]\n",
            "Loading…: 100%|██████████████████████████| 126/126 [00:01<00:00, 88.67it/s]\n",
            "Loading…: 100%|██████████████████████████| 126/126 [00:01<00:00, 80.42it/s]\n",
            "Loading…: 100%|██████████████████████████| 126/126 [00:01<00:00, 83.10it/s]\n",
            "Loading…: 100%|██████████████████████████| 126/126 [00:01<00:00, 81.55it/s]\n",
            "Loading…: 100%|██████████████████████████| 126/126 [00:02<00:00, 45.20it/s]\n"
          ]
        },
        {
          "output_type": "stream",
          "name": "stdout",
          "text": [
            "Iteration: 79\n"
          ]
        },
        {
          "output_type": "stream",
          "name": "stderr",
          "text": [
            "Loading…: 100%|██████████████████████████| 126/126 [00:01<00:00, 77.55it/s]\n",
            "Loading…: 100%|██████████████████████████| 126/126 [00:01<00:00, 67.98it/s]\n",
            "Loading…: 100%|██████████████████████████| 126/126 [00:01<00:00, 73.29it/s]\n",
            "Loading…: 100%|██████████████████████████| 126/126 [00:01<00:00, 79.57it/s]\n",
            "Loading…: 100%|██████████████████████████| 126/126 [00:03<00:00, 41.81it/s]\n",
            "Loading…: 100%|██████████████████████████| 126/126 [00:01<00:00, 75.79it/s]\n",
            "Loading…: 100%|██████████████████████████| 126/126 [00:01<00:00, 69.62it/s]\n",
            "Loading…: 100%|██████████████████████████| 126/126 [00:01<00:00, 69.74it/s]\n",
            "Loading…: 100%|██████████████████████████| 126/126 [00:01<00:00, 68.34it/s]\n",
            "Loading…: 100%|██████████████████████████| 126/126 [00:03<00:00, 40.32it/s]\n"
          ]
        },
        {
          "output_type": "stream",
          "name": "stdout",
          "text": [
            "Iteration: 80\n"
          ]
        },
        {
          "output_type": "stream",
          "name": "stderr",
          "text": [
            "Loading…: 100%|██████████████████████████| 126/126 [00:01<00:00, 68.63it/s]\n",
            "Loading…: 100%|██████████████████████████| 126/126 [00:02<00:00, 58.20it/s]\n",
            "Loading…: 100%|██████████████████████████| 126/126 [00:01<00:00, 64.62it/s]\n",
            "Loading…: 100%|██████████████████████████| 126/126 [00:03<00:00, 36.73it/s]\n",
            "Loading…: 100%|██████████████████████████| 126/126 [00:03<00:00, 41.86it/s]\n",
            "Loading…:  80%|████████████████████▊     | 101/126 [00:01<00:00, 73.52it/s]<ipython-input-22-35bcd1737ba8>:60: RuntimeWarning: divide by zero encountered in log\n",
            "  p_of_y_given_x = np.log(p_of_y * p_of_x_given_y)\n",
            "Loading…: 100%|██████████████████████████| 126/126 [00:01<00:00, 68.12it/s]\n",
            "Loading…:  71%|███████████████████▎       | 90/126 [00:01<00:00, 56.47it/s]<ipython-input-22-35bcd1737ba8>:60: RuntimeWarning: divide by zero encountered in log\n",
            "  p_of_y_given_x = np.log(p_of_y * p_of_x_given_y)\n",
            "Loading…: 100%|██████████████████████████| 126/126 [00:02<00:00, 60.97it/s]\n",
            "Loading…:  95%|████████████████████████▊ | 120/126 [00:01<00:00, 62.48it/s]<ipython-input-22-35bcd1737ba8>:60: RuntimeWarning: divide by zero encountered in log\n",
            "  p_of_y_given_x = np.log(p_of_y * p_of_x_given_y)\n",
            "Loading…: 100%|██████████████████████████| 126/126 [00:02<00:00, 61.65it/s]\n",
            "Loading…:  83%|█████████████████████▋    | 105/126 [00:03<00:00, 32.43it/s]<ipython-input-22-35bcd1737ba8>:60: RuntimeWarning: divide by zero encountered in log\n",
            "  p_of_y_given_x = np.log(p_of_y * p_of_x_given_y)\n",
            "Loading…: 100%|██████████████████████████| 126/126 [00:03<00:00, 33.64it/s]\n",
            "Loading…: 100%|██████████████████████████| 126/126 [00:01<00:00, 63.59it/s]\n"
          ]
        },
        {
          "output_type": "stream",
          "name": "stdout",
          "text": [
            "Iteration: 81\n"
          ]
        },
        {
          "output_type": "stream",
          "name": "stderr",
          "text": [
            "Loading…: 100%|██████████████████████████| 126/126 [00:01<00:00, 69.68it/s]\n",
            "Loading…: 100%|██████████████████████████| 126/126 [00:01<00:00, 63.91it/s]\n",
            "Loading…: 100%|██████████████████████████| 126/126 [00:01<00:00, 67.41it/s]\n",
            "Loading…: 100%|██████████████████████████| 126/126 [00:02<00:00, 44.87it/s]\n",
            "Loading…: 100%|██████████████████████████| 126/126 [00:02<00:00, 49.70it/s]\n",
            "Loading…: 100%|██████████████████████████| 126/126 [00:01<00:00, 68.98it/s]\n",
            "Loading…: 100%|██████████████████████████| 126/126 [00:01<00:00, 67.76it/s]\n",
            "Loading…: 100%|██████████████████████████| 126/126 [00:01<00:00, 66.05it/s]\n",
            "Loading…: 100%|██████████████████████████| 126/126 [00:01<00:00, 65.50it/s]\n",
            "Loading…: 100%|██████████████████████████| 126/126 [00:02<00:00, 43.83it/s]\n"
          ]
        },
        {
          "output_type": "stream",
          "name": "stdout",
          "text": [
            "Iteration: 82\n"
          ]
        },
        {
          "output_type": "stream",
          "name": "stderr",
          "text": [
            "Loading…: 100%|██████████████████████████| 126/126 [00:02<00:00, 47.84it/s]\n",
            "Loading…: 100%|██████████████████████████| 126/126 [00:02<00:00, 49.03it/s]\n",
            "Loading…: 100%|██████████████████████████| 126/126 [00:02<00:00, 51.64it/s]\n",
            "Loading…: 100%|██████████████████████████| 126/126 [00:02<00:00, 51.51it/s]\n",
            "Loading…: 100%|██████████████████████████| 126/126 [00:03<00:00, 32.28it/s]\n",
            "Loading…: 100%|██████████████████████████| 126/126 [00:02<00:00, 52.62it/s]\n",
            "Loading…: 100%|██████████████████████████| 126/126 [00:02<00:00, 50.03it/s]\n",
            "Loading…: 100%|██████████████████████████| 126/126 [00:02<00:00, 50.62it/s]\n",
            "Loading…: 100%|██████████████████████████| 126/126 [00:04<00:00, 31.37it/s]\n",
            "Loading…: 100%|██████████████████████████| 126/126 [00:02<00:00, 47.66it/s]\n"
          ]
        },
        {
          "output_type": "stream",
          "name": "stdout",
          "text": [
            "Iteration: 83\n"
          ]
        },
        {
          "output_type": "stream",
          "name": "stderr",
          "text": [
            "Loading…: 100%|██████████████████████████| 126/126 [00:02<00:00, 45.03it/s]\n",
            "Loading…: 100%|██████████████████████████| 126/126 [00:03<00:00, 39.81it/s]\n",
            "Loading…: 100%|██████████████████████████| 126/126 [00:04<00:00, 26.30it/s]\n",
            "Loading…: 100%|██████████████████████████| 126/126 [00:02<00:00, 45.87it/s]\n",
            "Loading…: 100%|██████████████████████████| 126/126 [00:02<00:00, 42.19it/s]\n",
            "Loading…: 100%|██████████████████████████| 126/126 [00:03<00:00, 35.33it/s]\n",
            "Loading…: 100%|██████████████████████████| 126/126 [00:03<00:00, 32.34it/s]\n",
            "Loading…: 100%|██████████████████████████| 126/126 [00:03<00:00, 40.90it/s]\n",
            "Loading…: 100%|██████████████████████████| 126/126 [00:03<00:00, 35.69it/s]\n",
            "Loading…: 100%|██████████████████████████| 126/126 [00:06<00:00, 20.85it/s]\n"
          ]
        },
        {
          "output_type": "stream",
          "name": "stdout",
          "text": [
            "Iteration: 84\n"
          ]
        },
        {
          "output_type": "stream",
          "name": "stderr",
          "text": [
            "Loading…: 100%|██████████████████████████| 126/126 [00:03<00:00, 36.77it/s]\n",
            "Loading…: 100%|██████████████████████████| 126/126 [00:03<00:00, 31.86it/s]\n",
            "Loading…: 100%|██████████████████████████| 126/126 [00:06<00:00, 20.45it/s]\n",
            "Loading…: 100%|██████████████████████████| 126/126 [00:03<00:00, 33.92it/s]\n",
            "Loading…: 100%|██████████████████████████| 126/126 [00:04<00:00, 30.11it/s]\n",
            "Loading…: 100%|██████████████████████████| 126/126 [00:04<00:00, 28.54it/s]\n",
            "Loading…: 100%|██████████████████████████| 126/126 [00:04<00:00, 31.38it/s]\n",
            "Loading…: 100%|██████████████████████████| 126/126 [00:05<00:00, 22.56it/s]\n",
            "Loading…: 100%|██████████████████████████| 126/126 [00:03<00:00, 33.57it/s]\n",
            "Loading…: 100%|██████████████████████████| 126/126 [00:03<00:00, 34.49it/s]\n"
          ]
        },
        {
          "output_type": "stream",
          "name": "stdout",
          "text": [
            "Iteration: 85\n"
          ]
        },
        {
          "output_type": "stream",
          "name": "stderr",
          "text": [
            "Loading…: 100%|██████████████████████████| 126/126 [00:05<00:00, 22.30it/s]\n",
            "Loading…:  12%|███▏                       | 15/126 [00:00<00:03, 31.89it/s]<ipython-input-22-35bcd1737ba8>:60: RuntimeWarning: divide by zero encountered in log\n",
            "  p_of_y_given_x = np.log(p_of_y * p_of_x_given_y)\n",
            "Loading…: 100%|██████████████████████████| 126/126 [00:04<00:00, 28.78it/s]\n",
            "Loading…: 100%|██████████████████████████| 126/126 [00:05<00:00, 23.78it/s]\n",
            "Loading…:  11%|███                        | 14/126 [00:00<00:02, 39.30it/s]<ipython-input-22-35bcd1737ba8>:60: RuntimeWarning: divide by zero encountered in log\n",
            "  p_of_y_given_x = np.log(p_of_y * p_of_x_given_y)\n",
            "Loading…: 100%|██████████████████████████| 126/126 [00:03<00:00, 33.73it/s]\n",
            "Loading…:  53%|██████████████▎            | 67/126 [00:02<00:01, 32.88it/s]<ipython-input-22-35bcd1737ba8>:60: RuntimeWarning: divide by zero encountered in log\n",
            "  p_of_y_given_x = np.log(p_of_y * p_of_x_given_y)\n",
            "Loading…: 100%|██████████████████████████| 126/126 [00:04<00:00, 31.11it/s]\n",
            "Loading…:  79%|████████████████████▋     | 100/126 [00:04<00:00, 32.98it/s]<ipython-input-22-35bcd1737ba8>:60: RuntimeWarning: divide by zero encountered in log\n",
            "  p_of_y_given_x = np.log(p_of_y * p_of_x_given_y)\n",
            "Loading…: 100%|██████████████████████████| 126/126 [00:05<00:00, 21.97it/s]\n",
            "Loading…:  72%|███████████████████▌       | 91/126 [00:03<00:01, 26.22it/s]<ipython-input-22-35bcd1737ba8>:60: RuntimeWarning: divide by zero encountered in log\n",
            "  p_of_y_given_x = np.log(p_of_y * p_of_x_given_y)\n",
            "Loading…: 100%|██████████████████████████| 126/126 [00:04<00:00, 28.35it/s]\n",
            "Loading…:  98%|█████████████████████████▍| 123/126 [00:05<00:00, 15.29it/s]<ipython-input-22-35bcd1737ba8>:60: RuntimeWarning: divide by zero encountered in log\n",
            "  p_of_y_given_x = np.log(p_of_y * p_of_x_given_y)\n",
            "Loading…: 100%|██████████████████████████| 126/126 [00:05<00:00, 22.60it/s]\n",
            "Loading…:  86%|██████████████████████▎   | 108/126 [00:03<00:00, 31.41it/s]<ipython-input-22-35bcd1737ba8>:60: RuntimeWarning: divide by zero encountered in log\n",
            "  p_of_y_given_x = np.log(p_of_y * p_of_x_given_y)\n",
            "Loading…: 100%|██████████████████████████| 126/126 [00:04<00:00, 29.92it/s]\n",
            "Loading…: 100%|██████████████████████████| 126/126 [00:06<00:00, 18.09it/s]\n"
          ]
        },
        {
          "output_type": "stream",
          "name": "stdout",
          "text": [
            "Iteration: 86\n"
          ]
        },
        {
          "output_type": "stream",
          "name": "stderr",
          "text": [
            "Loading…: 100%|██████████████████████████| 126/126 [00:02<00:00, 49.74it/s]\n",
            "Loading…: 100%|██████████████████████████| 126/126 [00:02<00:00, 61.27it/s]\n",
            "Loading…: 100%|██████████████████████████| 126/126 [00:02<00:00, 62.64it/s]\n",
            "Loading…: 100%|██████████████████████████| 126/126 [00:01<00:00, 69.00it/s]\n",
            "Loading…: 100%|██████████████████████████| 126/126 [00:01<00:00, 67.24it/s]\n",
            "Loading…: 100%|██████████████████████████| 126/126 [00:03<00:00, 41.16it/s]\n",
            "Loading…: 100%|██████████████████████████| 126/126 [00:02<00:00, 50.44it/s]\n",
            "Loading…: 100%|██████████████████████████| 126/126 [00:01<00:00, 65.10it/s]\n",
            "Loading…: 100%|██████████████████████████| 126/126 [00:01<00:00, 63.78it/s]\n",
            "Loading…: 100%|██████████████████████████| 126/126 [00:01<00:00, 64.09it/s]\n"
          ]
        },
        {
          "output_type": "stream",
          "name": "stdout",
          "text": [
            "Iteration: 87\n"
          ]
        },
        {
          "output_type": "stream",
          "name": "stderr",
          "text": [
            "Loading…: 100%|██████████████████████████| 126/126 [00:03<00:00, 39.66it/s]\n",
            "Loading…: 100%|██████████████████████████| 126/126 [00:03<00:00, 35.49it/s]\n",
            "Loading…: 100%|██████████████████████████| 126/126 [00:02<00:00, 50.64it/s]\n",
            "Loading…: 100%|██████████████████████████| 126/126 [00:02<00:00, 53.81it/s]\n",
            "Loading…: 100%|██████████████████████████| 126/126 [00:02<00:00, 50.61it/s]\n",
            "Loading…: 100%|██████████████████████████| 126/126 [00:04<00:00, 31.10it/s]\n",
            "Loading…: 100%|██████████████████████████| 126/126 [00:02<00:00, 48.51it/s]\n",
            "Loading…: 100%|██████████████████████████| 126/126 [00:02<00:00, 48.83it/s]\n",
            "Loading…: 100%|██████████████████████████| 126/126 [00:02<00:00, 47.57it/s]\n",
            "Loading…: 100%|██████████████████████████| 126/126 [00:04<00:00, 29.53it/s]\n"
          ]
        },
        {
          "output_type": "stream",
          "name": "stdout",
          "text": [
            "Iteration: 88\n"
          ]
        },
        {
          "output_type": "stream",
          "name": "stderr",
          "text": [
            "Loading…: 100%|██████████████████████████| 126/126 [00:02<00:00, 44.01it/s]\n",
            "Loading…: 100%|██████████████████████████| 126/126 [00:03<00:00, 38.94it/s]\n",
            "Loading…: 100%|██████████████████████████| 126/126 [00:03<00:00, 33.36it/s]\n",
            "Loading…: 100%|██████████████████████████| 126/126 [00:03<00:00, 35.64it/s]\n",
            "Loading…: 100%|██████████████████████████| 126/126 [00:03<00:00, 41.92it/s]\n",
            "Loading…: 100%|██████████████████████████| 126/126 [00:02<00:00, 43.12it/s]\n",
            "Loading…: 100%|██████████████████████████| 126/126 [00:04<00:00, 25.29it/s]\n",
            "Loading…: 100%|██████████████████████████| 126/126 [00:03<00:00, 40.33it/s]\n",
            "Loading…: 100%|██████████████████████████| 126/126 [00:03<00:00, 40.42it/s]\n",
            "Loading…: 100%|██████████████████████████| 126/126 [00:04<00:00, 31.44it/s]\n"
          ]
        },
        {
          "output_type": "stream",
          "name": "stdout",
          "text": [
            "Iteration: 89\n"
          ]
        },
        {
          "output_type": "stream",
          "name": "stderr",
          "text": [
            "Loading…: 100%|██████████████████████████| 126/126 [00:03<00:00, 37.71it/s]\n",
            "Loading…: 100%|██████████████████████████| 126/126 [00:03<00:00, 32.83it/s]\n",
            "Loading…: 100%|██████████████████████████| 126/126 [00:06<00:00, 18.04it/s]\n",
            "Loading…: 100%|██████████████████████████| 126/126 [00:03<00:00, 38.47it/s]\n",
            "Loading…: 100%|██████████████████████████| 126/126 [00:03<00:00, 36.28it/s]\n",
            "Loading…: 100%|██████████████████████████| 126/126 [00:05<00:00, 24.65it/s]\n",
            "Loading…: 100%|██████████████████████████| 126/126 [00:03<00:00, 34.04it/s]\n",
            "Loading…: 100%|██████████████████████████| 126/126 [00:03<00:00, 34.64it/s]\n",
            "Loading…: 100%|██████████████████████████| 126/126 [00:05<00:00, 23.04it/s]\n",
            "Loading…: 100%|██████████████████████████| 126/126 [00:03<00:00, 34.90it/s]\n"
          ]
        },
        {
          "output_type": "stream",
          "name": "stdout",
          "text": [
            "Iteration: 90\n"
          ]
        },
        {
          "output_type": "stream",
          "name": "stderr",
          "text": [
            "Loading…: 100%|██████████████████████████| 126/126 [00:03<00:00, 33.53it/s]\n",
            "Loading…:  11%|███                        | 14/126 [00:00<00:06, 16.53it/s]<ipython-input-22-35bcd1737ba8>:60: RuntimeWarning: divide by zero encountered in log\n",
            "  p_of_y_given_x = np.log(p_of_y * p_of_x_given_y)\n",
            "Loading…: 100%|██████████████████████████| 126/126 [00:05<00:00, 23.18it/s]\n",
            "Loading…: 100%|██████████████████████████| 126/126 [00:03<00:00, 32.12it/s]\n",
            "Loading…:  11%|███                        | 14/126 [00:00<00:02, 40.13it/s]<ipython-input-22-35bcd1737ba8>:60: RuntimeWarning: divide by zero encountered in log\n",
            "  p_of_y_given_x = np.log(p_of_y * p_of_x_given_y)\n",
            "Loading…: 100%|██████████████████████████| 126/126 [00:05<00:00, 23.10it/s]\n",
            "Loading…:  54%|██████████████▌            | 68/126 [00:02<00:01, 32.71it/s]<ipython-input-22-35bcd1737ba8>:60: RuntimeWarning: divide by zero encountered in log\n",
            "  p_of_y_given_x = np.log(p_of_y * p_of_x_given_y)\n",
            "Loading…: 100%|██████████████████████████| 126/126 [00:03<00:00, 31.50it/s]\n",
            "Loading…:  80%|████████████████████▊     | 101/126 [00:03<00:00, 36.75it/s]<ipython-input-22-35bcd1737ba8>:60: RuntimeWarning: divide by zero encountered in log\n",
            "  p_of_y_given_x = np.log(p_of_y * p_of_x_given_y)\n",
            "Loading…: 100%|██████████████████████████| 126/126 [00:03<00:00, 32.83it/s]\n",
            "Loading…:  73%|███████████████████▋       | 92/126 [00:04<00:01, 28.17it/s]<ipython-input-22-35bcd1737ba8>:60: RuntimeWarning: divide by zero encountered in log\n",
            "  p_of_y_given_x = np.log(p_of_y * p_of_x_given_y)\n",
            "Loading…: 100%|██████████████████████████| 126/126 [00:05<00:00, 23.06it/s]\n",
            "Loading…:  95%|████████████████████████▊ | 120/126 [00:03<00:00, 32.45it/s]<ipython-input-22-35bcd1737ba8>:60: RuntimeWarning: divide by zero encountered in log\n",
            "  p_of_y_given_x = np.log(p_of_y * p_of_x_given_y)\n",
            "Loading…: 100%|██████████████████████████| 126/126 [00:04<00:00, 30.38it/s]\n",
            "Loading…:  85%|██████████████████████    | 107/126 [00:05<00:00, 21.70it/s]<ipython-input-22-35bcd1737ba8>:60: RuntimeWarning: divide by zero encountered in log\n",
            "  p_of_y_given_x = np.log(p_of_y * p_of_x_given_y)\n",
            "Loading…: 100%|██████████████████████████| 126/126 [00:05<00:00, 21.27it/s]\n",
            "Loading…: 100%|██████████████████████████| 126/126 [00:04<00:00, 30.97it/s]\n"
          ]
        },
        {
          "output_type": "stream",
          "name": "stdout",
          "text": [
            "Iteration: 91\n"
          ]
        },
        {
          "output_type": "stream",
          "name": "stderr",
          "text": [
            "Loading…: 100%|██████████████████████████| 126/126 [00:02<00:00, 44.80it/s]\n",
            "Loading…: 100%|██████████████████████████| 126/126 [00:04<00:00, 27.02it/s]\n",
            "Loading…: 100%|██████████████████████████| 126/126 [00:02<00:00, 44.36it/s]\n",
            "Loading…: 100%|██████████████████████████| 126/126 [00:02<00:00, 42.91it/s]\n",
            "Loading…: 100%|██████████████████████████| 126/126 [00:03<00:00, 33.03it/s]\n",
            "Loading…: 100%|██████████████████████████| 126/126 [00:05<00:00, 23.03it/s]\n",
            "Loading…: 100%|██████████████████████████| 126/126 [00:02<00:00, 43.03it/s]\n",
            "Loading…: 100%|██████████████████████████| 126/126 [00:02<00:00, 43.42it/s]\n",
            "Loading…: 100%|██████████████████████████| 126/126 [00:02<00:00, 42.24it/s]\n",
            "Loading…: 100%|██████████████████████████| 126/126 [00:04<00:00, 27.24it/s]\n"
          ]
        },
        {
          "output_type": "stream",
          "name": "stdout",
          "text": [
            "Iteration: 92\n"
          ]
        },
        {
          "output_type": "stream",
          "name": "stderr",
          "text": [
            "Loading…: 100%|██████████████████████████| 126/126 [00:03<00:00, 35.08it/s]\n",
            "Loading…: 100%|██████████████████████████| 126/126 [00:03<00:00, 31.76it/s]\n",
            "Loading…: 100%|██████████████████████████| 126/126 [00:05<00:00, 23.17it/s]\n",
            "Loading…: 100%|██████████████████████████| 126/126 [00:03<00:00, 36.14it/s]\n",
            "Loading…: 100%|██████████████████████████| 126/126 [00:03<00:00, 33.99it/s]\n",
            "Loading…: 100%|██████████████████████████| 126/126 [00:05<00:00, 23.29it/s]\n",
            "Loading…: 100%|██████████████████████████| 126/126 [00:03<00:00, 32.52it/s]\n",
            "Loading…: 100%|██████████████████████████| 126/126 [00:03<00:00, 32.69it/s]\n",
            "Loading…: 100%|██████████████████████████| 126/126 [00:05<00:00, 22.69it/s]\n",
            "Loading…: 100%|██████████████████████████| 126/126 [00:03<00:00, 33.84it/s]\n"
          ]
        },
        {
          "output_type": "stream",
          "name": "stdout",
          "text": [
            "Iteration: 93\n"
          ]
        },
        {
          "output_type": "stream",
          "name": "stderr",
          "text": [
            "Loading…: 100%|██████████████████████████| 126/126 [00:04<00:00, 29.41it/s]\n",
            "Loading…: 100%|██████████████████████████| 126/126 [00:06<00:00, 19.77it/s]\n",
            "Loading…: 100%|██████████████████████████| 126/126 [00:04<00:00, 28.11it/s]\n",
            "Loading…: 100%|██████████████████████████| 126/126 [00:05<00:00, 21.17it/s]\n",
            "Loading…: 100%|██████████████████████████| 126/126 [00:04<00:00, 28.41it/s]\n",
            "Loading…: 100%|██████████████████████████| 126/126 [00:04<00:00, 28.75it/s]\n",
            "Loading…: 100%|██████████████████████████| 126/126 [00:06<00:00, 20.76it/s]\n",
            "Loading…: 100%|██████████████████████████| 126/126 [00:04<00:00, 25.92it/s]\n",
            "Loading…: 100%|██████████████████████████| 126/126 [00:07<00:00, 16.65it/s]\n",
            "Loading…: 100%|██████████████████████████| 126/126 [00:04<00:00, 27.83it/s]\n"
          ]
        },
        {
          "output_type": "stream",
          "name": "stdout",
          "text": [
            "Iteration: 94\n"
          ]
        },
        {
          "output_type": "stream",
          "name": "stderr",
          "text": [
            "Loading…: 100%|██████████████████████████| 126/126 [00:06<00:00, 18.76it/s]\n",
            "Loading…: 100%|██████████████████████████| 126/126 [00:05<00:00, 22.17it/s]\n",
            "Loading…: 100%|██████████████████████████| 126/126 [00:06<00:00, 18.12it/s]\n",
            "Loading…: 100%|██████████████████████████| 126/126 [00:04<00:00, 26.01it/s]\n",
            "Loading…: 100%|██████████████████████████| 126/126 [00:06<00:00, 18.26it/s]\n",
            "Loading…: 100%|██████████████████████████| 126/126 [00:05<00:00, 24.47it/s]\n",
            "Loading…: 100%|██████████████████████████| 126/126 [00:07<00:00, 17.58it/s]\n",
            "Loading…: 100%|██████████████████████████| 126/126 [00:05<00:00, 22.99it/s]\n",
            "Loading…: 100%|██████████████████████████| 126/126 [00:07<00:00, 17.64it/s]\n",
            "Loading…: 100%|██████████████████████████| 126/126 [00:05<00:00, 23.67it/s]\n"
          ]
        },
        {
          "output_type": "stream",
          "name": "stdout",
          "text": [
            "Iteration: 95\n"
          ]
        },
        {
          "output_type": "stream",
          "name": "stderr",
          "text": [
            "Loading…: 100%|██████████████████████████| 126/126 [00:07<00:00, 17.40it/s]\n",
            "Loading…:  11%|███                        | 14/126 [00:00<00:05, 21.28it/s]<ipython-input-22-35bcd1737ba8>:60: RuntimeWarning: divide by zero encountered in log\n",
            "  p_of_y_given_x = np.log(p_of_y * p_of_x_given_y)\n",
            "Loading…: 100%|██████████████████████████| 126/126 [00:06<00:00, 19.76it/s]\n",
            "Loading…: 100%|██████████████████████████| 126/126 [00:07<00:00, 17.08it/s]\n",
            "Loading…:  12%|███▏                       | 15/126 [00:00<00:03, 28.17it/s]<ipython-input-22-35bcd1737ba8>:60: RuntimeWarning: divide by zero encountered in log\n",
            "  p_of_y_given_x = np.log(p_of_y * p_of_x_given_y)\n",
            "Loading…: 100%|██████████████████████████| 126/126 [00:05<00:00, 21.94it/s]\n",
            "Loading…:  56%|███████████████            | 70/126 [00:05<00:02, 21.43it/s]<ipython-input-22-35bcd1737ba8>:60: RuntimeWarning: divide by zero encountered in log\n",
            "  p_of_y_given_x = np.log(p_of_y * p_of_x_given_y)\n",
            "Loading…: 100%|██████████████████████████| 126/126 [00:08<00:00, 15.72it/s]\n",
            "Loading…:  80%|████████████████████▊     | 101/126 [00:04<00:00, 25.44it/s]<ipython-input-22-35bcd1737ba8>:60: RuntimeWarning: divide by zero encountered in log\n",
            "  p_of_y_given_x = np.log(p_of_y * p_of_x_given_y)\n",
            "Loading…: 100%|██████████████████████████| 126/126 [00:05<00:00, 23.05it/s]\n",
            "Loading…:  74%|███████████████████▉       | 93/126 [00:05<00:01, 21.15it/s]<ipython-input-22-35bcd1737ba8>:60: RuntimeWarning: divide by zero encountered in log\n",
            "  p_of_y_given_x = np.log(p_of_y * p_of_x_given_y)\n",
            "Loading…: 100%|██████████████████████████| 126/126 [00:07<00:00, 16.88it/s]\n",
            "Loading…:  97%|█████████████████████████▏| 122/126 [00:06<00:00, 12.38it/s]<ipython-input-22-35bcd1737ba8>:60: RuntimeWarning: divide by zero encountered in log\n",
            "  p_of_y_given_x = np.log(p_of_y * p_of_x_given_y)\n",
            "Loading…: 100%|██████████████████████████| 126/126 [00:06<00:00, 18.52it/s]\n",
            "Loading…:  85%|██████████████████████    | 107/126 [00:05<00:00, 23.25it/s]<ipython-input-22-35bcd1737ba8>:60: RuntimeWarning: divide by zero encountered in log\n",
            "  p_of_y_given_x = np.log(p_of_y * p_of_x_given_y)\n",
            "Loading…: 100%|██████████████████████████| 126/126 [00:06<00:00, 20.70it/s]\n",
            "Loading…: 100%|██████████████████████████| 126/126 [00:07<00:00, 16.60it/s]\n"
          ]
        },
        {
          "output_type": "stream",
          "name": "stdout",
          "text": [
            "Iteration: 96\n"
          ]
        },
        {
          "output_type": "stream",
          "name": "stderr",
          "text": [
            "Loading…: 100%|██████████████████████████| 126/126 [00:02<00:00, 48.24it/s]\n",
            "Loading…: 100%|██████████████████████████| 126/126 [00:02<00:00, 44.62it/s]\n",
            "Loading…: 100%|██████████████████████████| 126/126 [00:02<00:00, 47.33it/s]\n",
            "Loading…: 100%|██████████████████████████| 126/126 [00:04<00:00, 30.68it/s]\n",
            "Loading…: 100%|██████████████████████████| 126/126 [00:02<00:00, 43.70it/s]\n",
            "Loading…: 100%|██████████████████████████| 126/126 [00:02<00:00, 47.38it/s]\n",
            "Loading…: 100%|██████████████████████████| 126/126 [00:02<00:00, 45.39it/s]\n",
            "Loading…: 100%|██████████████████████████| 126/126 [00:03<00:00, 33.59it/s]\n",
            "Loading…: 100%|██████████████████████████| 126/126 [00:03<00:00, 36.74it/s]\n",
            "Loading…: 100%|██████████████████████████| 126/126 [00:02<00:00, 46.59it/s]\n"
          ]
        },
        {
          "output_type": "stream",
          "name": "stdout",
          "text": [
            "Iteration: 97\n"
          ]
        },
        {
          "output_type": "stream",
          "name": "stderr",
          "text": [
            "Loading…: 100%|██████████████████████████| 126/126 [00:03<00:00, 36.78it/s]\n",
            "Loading…: 100%|██████████████████████████| 126/126 [00:05<00:00, 22.52it/s]\n",
            "Loading…: 100%|██████████████████████████| 126/126 [00:03<00:00, 35.07it/s]\n",
            "Loading…: 100%|██████████████████████████| 126/126 [00:03<00:00, 37.00it/s]\n",
            "Loading…: 100%|██████████████████████████| 126/126 [00:05<00:00, 23.82it/s]\n",
            "Loading…: 100%|██████████████████████████| 126/126 [00:03<00:00, 35.78it/s]\n",
            "Loading…: 100%|██████████████████████████| 126/126 [00:03<00:00, 32.33it/s]\n",
            "Loading…: 100%|██████████████████████████| 126/126 [00:06<00:00, 18.34it/s]\n",
            "Loading…: 100%|██████████████████████████| 126/126 [00:03<00:00, 33.72it/s]\n",
            "Loading…: 100%|██████████████████████████| 126/126 [00:03<00:00, 34.20it/s]\n"
          ]
        },
        {
          "output_type": "stream",
          "name": "stdout",
          "text": [
            "Iteration: 98\n"
          ]
        },
        {
          "output_type": "stream",
          "name": "stderr",
          "text": [
            "Loading…: 100%|██████████████████████████| 126/126 [00:05<00:00, 21.36it/s]\n",
            "Loading…: 100%|██████████████████████████| 126/126 [00:04<00:00, 25.80it/s]\n",
            "Loading…: 100%|██████████████████████████| 126/126 [00:05<00:00, 21.88it/s]\n",
            "Loading…: 100%|██████████████████████████| 126/126 [00:04<00:00, 30.93it/s]\n",
            "Loading…: 100%|██████████████████████████| 126/126 [00:04<00:00, 28.99it/s]\n",
            "Loading…: 100%|██████████████████████████| 126/126 [00:05<00:00, 21.06it/s]\n",
            "Loading…: 100%|██████████████████████████| 126/126 [00:04<00:00, 27.26it/s]\n",
            "Loading…: 100%|██████████████████████████| 126/126 [00:06<00:00, 20.55it/s]\n",
            "Loading…: 100%|██████████████████████████| 126/126 [00:04<00:00, 27.77it/s]\n",
            "Loading…: 100%|██████████████████████████| 126/126 [00:04<00:00, 28.20it/s]\n"
          ]
        },
        {
          "output_type": "stream",
          "name": "stdout",
          "text": [
            "Iteration: 99\n"
          ]
        },
        {
          "output_type": "stream",
          "name": "stderr",
          "text": [
            "Loading…: 100%|██████████████████████████| 126/126 [00:05<00:00, 21.42it/s]\n",
            "Loading…: 100%|██████████████████████████| 126/126 [00:05<00:00, 22.78it/s]\n",
            "Loading…: 100%|██████████████████████████| 126/126 [00:06<00:00, 19.49it/s]\n",
            "Loading…: 100%|██████████████████████████| 126/126 [00:04<00:00, 26.66it/s]\n",
            "Loading…: 100%|██████████████████████████| 126/126 [00:06<00:00, 18.34it/s]\n",
            "Loading…: 100%|██████████████████████████| 126/126 [00:04<00:00, 25.75it/s]\n",
            "Loading…: 100%|██████████████████████████| 126/126 [00:08<00:00, 14.11it/s]\n",
            "Loading…: 100%|██████████████████████████| 126/126 [00:05<00:00, 23.59it/s]\n",
            "Loading…: 100%|██████████████████████████| 126/126 [00:07<00:00, 17.51it/s]\n",
            "Loading…: 100%|██████████████████████████| 126/126 [00:05<00:00, 24.20it/s]\n"
          ]
        },
        {
          "output_type": "stream",
          "name": "stdout",
          "text": [
            "Iteration: 100\n"
          ]
        },
        {
          "output_type": "stream",
          "name": "stderr",
          "text": [
            "Loading…: 100%|██████████████████████████| 126/126 [00:07<00:00, 17.43it/s]\n",
            "Loading…:  11%|███                        | 14/126 [00:00<00:05, 21.25it/s]<ipython-input-22-35bcd1737ba8>:60: RuntimeWarning: divide by zero encountered in log\n",
            "  p_of_y_given_x = np.log(p_of_y * p_of_x_given_y)\n",
            "Loading…: 100%|██████████████████████████| 126/126 [00:06<00:00, 19.74it/s]\n",
            "Loading…: 100%|██████████████████████████| 126/126 [00:07<00:00, 17.42it/s]\n",
            "Loading…:  12%|███▏                       | 15/126 [00:00<00:04, 27.06it/s]<ipython-input-22-35bcd1737ba8>:60: RuntimeWarning: divide by zero encountered in log\n",
            "  p_of_y_given_x = np.log(p_of_y * p_of_x_given_y)\n",
            "Loading…: 100%|██████████████████████████| 126/126 [00:05<00:00, 21.62it/s]\n",
            "Loading…:  55%|██████████████▊            | 69/126 [00:03<00:02, 22.37it/s]<ipython-input-22-35bcd1737ba8>:60: RuntimeWarning: divide by zero encountered in log\n",
            "  p_of_y_given_x = np.log(p_of_y * p_of_x_given_y)\n",
            "Loading…: 100%|██████████████████████████| 126/126 [00:06<00:00, 19.91it/s]\n",
            "Loading…:  79%|████████████████████▋     | 100/126 [00:04<00:01, 14.55it/s]<ipython-input-22-35bcd1737ba8>:60: RuntimeWarning: divide by zero encountered in log\n",
            "  p_of_y_given_x = np.log(p_of_y * p_of_x_given_y)\n",
            "Loading…: 100%|██████████████████████████| 126/126 [00:06<00:00, 18.14it/s]\n",
            "Loading…:  73%|███████████████████▋       | 92/126 [00:04<00:01, 19.01it/s]<ipython-input-22-35bcd1737ba8>:60: RuntimeWarning: divide by zero encountered in log\n",
            "  p_of_y_given_x = np.log(p_of_y * p_of_x_given_y)\n",
            "Loading…: 100%|██████████████████████████| 126/126 [00:06<00:00, 20.18it/s]\n",
            "Loading…:  96%|████████████████████████▉ | 121/126 [00:07<00:00, 21.35it/s]<ipython-input-22-35bcd1737ba8>:60: RuntimeWarning: divide by zero encountered in log\n",
            "  p_of_y_given_x = np.log(p_of_y * p_of_x_given_y)\n",
            "Loading…: 100%|██████████████████████████| 126/126 [00:07<00:00, 16.20it/s]\n",
            "Loading…:  85%|██████████████████████    | 107/126 [00:05<00:00, 22.51it/s]<ipython-input-22-35bcd1737ba8>:60: RuntimeWarning: divide by zero encountered in log\n",
            "  p_of_y_given_x = np.log(p_of_y * p_of_x_given_y)\n",
            "Loading…: 100%|██████████████████████████| 126/126 [00:06<00:00, 20.85it/s]\n",
            "Loading…: 100%|██████████████████████████| 126/126 [00:07<00:00, 16.46it/s]\n"
          ]
        },
        {
          "output_type": "stream",
          "name": "stdout",
          "text": [
            "Iteration: 101\n"
          ]
        },
        {
          "output_type": "stream",
          "name": "stderr",
          "text": [
            "Loading…: 100%|██████████████████████████| 126/126 [00:03<00:00, 36.13it/s]\n",
            "Loading…: 100%|██████████████████████████| 126/126 [00:06<00:00, 19.32it/s]\n",
            "Loading…: 100%|██████████████████████████| 126/126 [00:04<00:00, 29.24it/s]\n",
            "Loading…: 100%|██████████████████████████| 126/126 [00:03<00:00, 36.94it/s]\n",
            "Loading…: 100%|██████████████████████████| 126/126 [00:03<00:00, 34.60it/s]\n",
            "Loading…: 100%|██████████████████████████| 126/126 [00:05<00:00, 24.49it/s]\n",
            "Loading…: 100%|██████████████████████████| 126/126 [00:03<00:00, 33.38it/s]\n",
            "Loading…: 100%|██████████████████████████| 126/126 [00:03<00:00, 32.92it/s]\n",
            "Loading…: 100%|██████████████████████████| 126/126 [00:05<00:00, 22.98it/s]\n",
            "Loading…: 100%|██████████████████████████| 126/126 [00:03<00:00, 34.20it/s]\n"
          ]
        },
        {
          "output_type": "stream",
          "name": "stdout",
          "text": [
            "Iteration: 102\n"
          ]
        },
        {
          "output_type": "stream",
          "name": "stderr",
          "text": [
            "Loading…: 100%|██████████████████████████| 126/126 [00:05<00:00, 24.66it/s]\n",
            "Loading…: 100%|██████████████████████████| 126/126 [00:06<00:00, 20.51it/s]\n",
            "Loading…:  96%|████████████████████████▉ | 121/126 [00:04<00:00, 26.87it/s]<ipython-input-22-35bcd1737ba8>:60: RuntimeWarning: divide by zero encountered in log\n",
            "  p_of_y_given_x = np.log(p_of_y * p_of_x_given_y)\n",
            "Loading…: 100%|██████████████████████████| 126/126 [00:04<00:00, 25.97it/s]\n",
            "Loading…: 100%|██████████████████████████| 126/126 [00:06<00:00, 19.92it/s]\n",
            "Loading…: 100%|██████████████████████████| 126/126 [00:04<00:00, 26.35it/s]\n",
            "Loading…: 100%|██████████████████████████| 126/126 [00:06<00:00, 20.39it/s]\n",
            "Loading…:  13%|███▍                       | 16/126 [00:00<00:03, 28.11it/s]<ipython-input-22-35bcd1737ba8>:60: RuntimeWarning: divide by zero encountered in log\n",
            "  p_of_y_given_x = np.log(p_of_y * p_of_x_given_y)\n",
            "Loading…: 100%|██████████████████████████| 126/126 [00:04<00:00, 25.56it/s]\n",
            "Loading…: 100%|██████████████████████████| 126/126 [00:05<00:00, 25.00it/s]\n",
            "Loading…: 100%|██████████████████████████| 126/126 [00:06<00:00, 20.04it/s]\n",
            "Loading…: 100%|██████████████████████████| 126/126 [00:04<00:00, 25.63it/s]\n"
          ]
        },
        {
          "output_type": "stream",
          "name": "stdout",
          "text": [
            "Iteration: 103\n"
          ]
        },
        {
          "output_type": "stream",
          "name": "stderr",
          "text": [
            "Loading…: 100%|██████████████████████████| 126/126 [00:07<00:00, 17.46it/s]\n",
            "Loading…: 100%|██████████████████████████| 126/126 [00:08<00:00, 15.12it/s]\n",
            "Loading…:  95%|████████████████████████▊ | 120/126 [00:06<00:00, 22.62it/s]<ipython-input-22-35bcd1737ba8>:60: RuntimeWarning: divide by zero encountered in log\n",
            "  p_of_y_given_x = np.log(p_of_y * p_of_x_given_y)\n",
            "Loading…: 100%|██████████████████████████| 126/126 [00:06<00:00, 18.83it/s]\n",
            "Loading…: 100%|██████████████████████████| 126/126 [00:05<00:00, 22.29it/s]\n",
            "Loading…: 100%|██████████████████████████| 126/126 [00:06<00:00, 18.72it/s]\n",
            "Loading…: 100%|██████████████████████████| 126/126 [00:05<00:00, 21.07it/s]\n",
            "Loading…:  14%|███▊                       | 18/126 [00:01<00:08, 13.00it/s]<ipython-input-22-35bcd1737ba8>:60: RuntimeWarning: divide by zero encountered in log\n",
            "  p_of_y_given_x = np.log(p_of_y * p_of_x_given_y)\n",
            "Loading…: 100%|██████████████████████████| 126/126 [00:07<00:00, 17.94it/s]\n",
            "Loading…: 100%|██████████████████████████| 126/126 [00:07<00:00, 17.95it/s]\n",
            "Loading…: 100%|██████████████████████████| 126/126 [00:06<00:00, 20.28it/s]\n",
            "Loading…: 100%|██████████████████████████| 126/126 [00:07<00:00, 16.92it/s]\n"
          ]
        },
        {
          "output_type": "stream",
          "name": "stdout",
          "text": [
            "Iteration: 104\n"
          ]
        },
        {
          "output_type": "stream",
          "name": "stderr",
          "text": [
            "Loading…: 100%|██████████████████████████| 126/126 [00:06<00:00, 19.99it/s]\n",
            "Loading…: 100%|██████████████████████████| 126/126 [00:08<00:00, 14.05it/s]\n",
            "Loading…:  95%|████████████████████████▊ | 120/126 [00:06<00:00, 19.88it/s]<ipython-input-22-35bcd1737ba8>:60: RuntimeWarning: divide by zero encountered in log\n",
            "  p_of_y_given_x = np.log(p_of_y * p_of_x_given_y)\n",
            "Loading…: 100%|██████████████████████████| 126/126 [00:06<00:00, 18.45it/s]\n",
            "Loading…: 100%|██████████████████████████| 126/126 [00:07<00:00, 17.84it/s]\n",
            "Loading…: 100%|██████████████████████████| 126/126 [00:08<00:00, 14.96it/s]\n",
            "Loading…: 100%|██████████████████████████| 126/126 [00:06<00:00, 18.29it/s]\n",
            "Loading…:  14%|███▊                       | 18/126 [00:01<00:10, 10.28it/s]<ipython-input-22-35bcd1737ba8>:60: RuntimeWarning: divide by zero encountered in log\n",
            "  p_of_y_given_x = np.log(p_of_y * p_of_x_given_y)\n",
            "Loading…: 100%|██████████████████████████| 126/126 [00:09<00:00, 13.17it/s]\n",
            "Loading…: 100%|██████████████████████████| 126/126 [00:08<00:00, 14.88it/s]\n",
            "Loading…: 100%|██████████████████████████| 126/126 [00:07<00:00, 17.91it/s]\n",
            "Loading…: 100%|██████████████████████████| 126/126 [00:08<00:00, 14.57it/s]\n"
          ]
        },
        {
          "output_type": "stream",
          "name": "stdout",
          "text": [
            "Iteration: 105\n"
          ]
        },
        {
          "output_type": "stream",
          "name": "stderr",
          "text": [
            "Loading…: 100%|██████████████████████████| 126/126 [00:08<00:00, 14.68it/s]\n",
            "Loading…:  11%|███                        | 14/126 [00:00<00:07, 15.22it/s]<ipython-input-22-35bcd1737ba8>:60: RuntimeWarning: divide by zero encountered in log\n",
            "  p_of_y_given_x = np.log(p_of_y * p_of_x_given_y)\n",
            "Loading…: 100%|██████████████████████████| 126/126 [00:08<00:00, 14.74it/s]\n",
            "Loading…:  97%|█████████████████████████▏| 122/126 [00:09<00:00, 16.68it/s]<ipython-input-22-35bcd1737ba8>:60: RuntimeWarning: divide by zero encountered in log\n",
            "  p_of_y_given_x = np.log(p_of_y * p_of_x_given_y)\n",
            "Loading…: 100%|██████████████████████████| 126/126 [00:09<00:00, 13.29it/s]\n",
            "Loading…:  10%|██▊                        | 13/126 [00:00<00:05, 20.95it/s]<ipython-input-22-35bcd1737ba8>:60: RuntimeWarning: divide by zero encountered in log\n",
            "  p_of_y_given_x = np.log(p_of_y * p_of_x_given_y)\n",
            "Loading…: 100%|██████████████████████████| 126/126 [00:08<00:00, 14.12it/s]\n",
            "Loading…:  55%|██████████████▊            | 69/126 [00:04<00:03, 16.97it/s]<ipython-input-22-35bcd1737ba8>:60: RuntimeWarning: divide by zero encountered in log\n",
            "  p_of_y_given_x = np.log(p_of_y * p_of_x_given_y)\n",
            "Loading…: 100%|██████████████████████████| 126/126 [00:07<00:00, 16.34it/s]\n",
            "Loading…:  80%|████████████████████▊     | 101/126 [00:07<00:01, 18.43it/s]<ipython-input-22-35bcd1737ba8>:60: RuntimeWarning: divide by zero encountered in log\n",
            "  p_of_y_given_x = np.log(p_of_y * p_of_x_given_y)\n",
            "Loading…: 100%|██████████████████████████| 126/126 [00:08<00:00, 14.34it/s]\n",
            "Loading…:  14%|███▊                       | 18/126 [00:01<00:05, 18.65it/s]<ipython-input-22-35bcd1737ba8>:60: RuntimeWarning: divide by zero encountered in log\n",
            "  p_of_y_given_x = np.log(p_of_y * p_of_x_given_y)\n",
            "Loading…: 100%|██████████████████████████| 126/126 [00:09<00:00, 12.69it/s]\n",
            "Loading…:  97%|█████████████████████████▏| 122/126 [00:11<00:00, 14.61it/s]<ipython-input-22-35bcd1737ba8>:60: RuntimeWarning: divide by zero encountered in log\n",
            "  p_of_y_given_x = np.log(p_of_y * p_of_x_given_y)\n",
            "Loading…: 100%|██████████████████████████| 126/126 [00:11<00:00, 10.77it/s]\n",
            "Loading…:  86%|██████████████████████▎   | 108/126 [00:06<00:01, 17.93it/s]<ipython-input-22-35bcd1737ba8>:60: RuntimeWarning: divide by zero encountered in log\n",
            "  p_of_y_given_x = np.log(p_of_y * p_of_x_given_y)\n",
            "Loading…: 100%|██████████████████████████| 126/126 [00:07<00:00, 15.80it/s]\n",
            "Loading…: 100%|██████████████████████████| 126/126 [00:09<00:00, 13.88it/s]\n"
          ]
        },
        {
          "output_type": "stream",
          "name": "stdout",
          "text": [
            "Iteration: 106\n"
          ]
        },
        {
          "output_type": "stream",
          "name": "stderr",
          "text": [
            "Loading…: 100%|██████████████████████████| 126/126 [00:04<00:00, 28.02it/s]\n",
            "Loading…: 100%|██████████████████████████| 126/126 [00:04<00:00, 25.97it/s]\n",
            "Loading…: 100%|██████████████████████████| 126/126 [00:03<00:00, 33.98it/s]\n",
            "Loading…: 100%|██████████████████████████| 126/126 [00:03<00:00, 33.70it/s]\n",
            "Loading…: 100%|██████████████████████████| 126/126 [00:05<00:00, 24.20it/s]\n",
            "Loading…: 100%|██████████████████████████| 126/126 [00:03<00:00, 33.35it/s]\n",
            "Loading…: 100%|██████████████████████████| 126/126 [00:03<00:00, 31.96it/s]\n",
            "Loading…: 100%|██████████████████████████| 126/126 [00:05<00:00, 22.86it/s]\n",
            "Loading…: 100%|██████████████████████████| 126/126 [00:03<00:00, 32.20it/s]\n",
            "Loading…: 100%|██████████████████████████| 126/126 [00:03<00:00, 33.22it/s]\n"
          ]
        },
        {
          "output_type": "stream",
          "name": "stdout",
          "text": [
            "Iteration: 107\n"
          ]
        },
        {
          "output_type": "stream",
          "name": "stderr",
          "text": [
            "Loading…: 100%|██████████████████████████| 126/126 [00:05<00:00, 21.44it/s]\n",
            "Loading…: 100%|██████████████████████████| 126/126 [00:05<00:00, 24.07it/s]\n",
            "Loading…:  95%|████████████████████████▊ | 120/126 [00:06<00:00, 26.38it/s]<ipython-input-22-35bcd1737ba8>:60: RuntimeWarning: divide by zero encountered in log\n",
            "  p_of_y_given_x = np.log(p_of_y * p_of_x_given_y)\n",
            "Loading…: 100%|██████████████████████████| 126/126 [00:06<00:00, 19.00it/s]\n",
            "Loading…: 100%|██████████████████████████| 126/126 [00:04<00:00, 27.62it/s]\n",
            "Loading…: 100%|██████████████████████████| 126/126 [00:06<00:00, 19.84it/s]\n",
            "Loading…: 100%|██████████████████████████| 126/126 [00:04<00:00, 26.27it/s]\n",
            "Loading…:  15%|████                       | 19/126 [00:00<00:03, 27.61it/s]<ipython-input-22-35bcd1737ba8>:60: RuntimeWarning: divide by zero encountered in log\n",
            "  p_of_y_given_x = np.log(p_of_y * p_of_x_given_y)\n",
            "Loading…: 100%|██████████████████████████| 126/126 [00:08<00:00, 15.51it/s]\n",
            "Loading…: 100%|██████████████████████████| 126/126 [00:05<00:00, 23.78it/s]\n",
            "Loading…: 100%|██████████████████████████| 126/126 [00:05<00:00, 25.14it/s]\n",
            "Loading…: 100%|██████████████████████████| 126/126 [00:06<00:00, 19.43it/s]\n"
          ]
        },
        {
          "output_type": "stream",
          "name": "stdout",
          "text": [
            "Iteration: 108\n"
          ]
        },
        {
          "output_type": "stream",
          "name": "stderr",
          "text": [
            "Loading…: 100%|██████████████████████████| 126/126 [00:05<00:00, 22.50it/s]\n",
            "Loading…: 100%|██████████████████████████| 126/126 [00:08<00:00, 15.58it/s]\n",
            "Loading…:  97%|█████████████████████████▏| 122/126 [00:05<00:00, 13.18it/s]<ipython-input-22-35bcd1737ba8>:60: RuntimeWarning: divide by zero encountered in log\n",
            "  p_of_y_given_x = np.log(p_of_y * p_of_x_given_y)\n",
            "Loading…: 100%|██████████████████████████| 126/126 [00:06<00:00, 19.31it/s]\n",
            "Loading…: 100%|██████████████████████████| 126/126 [00:06<00:00, 20.67it/s]\n",
            "Loading…: 100%|██████████████████████████| 126/126 [00:06<00:00, 18.75it/s]\n",
            "Loading…: 100%|██████████████████████████| 126/126 [00:06<00:00, 20.26it/s]\n",
            "Loading…:  14%|███▊                       | 18/126 [00:00<00:04, 23.52it/s]<ipython-input-22-35bcd1737ba8>:60: RuntimeWarning: divide by zero encountered in log\n",
            "  p_of_y_given_x = np.log(p_of_y * p_of_x_given_y)\n",
            "Loading…: 100%|██████████████████████████| 126/126 [00:07<00:00, 16.50it/s]\n",
            "Loading…: 100%|██████████████████████████| 126/126 [00:06<00:00, 20.68it/s]\n",
            "Loading…: 100%|██████████████████████████| 126/126 [00:07<00:00, 16.06it/s]\n",
            "Loading…: 100%|██████████████████████████| 126/126 [00:06<00:00, 20.98it/s]\n"
          ]
        },
        {
          "output_type": "stream",
          "name": "stdout",
          "text": [
            "Iteration: 109\n"
          ]
        },
        {
          "output_type": "stream",
          "name": "stderr",
          "text": [
            "Loading…: 100%|██████████████████████████| 126/126 [00:08<00:00, 15.33it/s]\n",
            "Loading…: 100%|██████████████████████████| 126/126 [00:10<00:00, 11.56it/s]\n",
            "Loading…:  96%|████████████████████████▉ | 121/126 [00:06<00:00, 19.99it/s]<ipython-input-22-35bcd1737ba8>:60: RuntimeWarning: divide by zero encountered in log\n",
            "  p_of_y_given_x = np.log(p_of_y * p_of_x_given_y)\n",
            "Loading…: 100%|██████████████████████████| 126/126 [00:06<00:00, 18.59it/s]\n",
            "Loading…: 100%|██████████████████████████| 126/126 [00:08<00:00, 15.55it/s]\n",
            "Loading…: 100%|██████████████████████████| 126/126 [00:07<00:00, 16.92it/s]\n",
            "Loading…: 100%|██████████████████████████| 126/126 [00:07<00:00, 17.38it/s]\n",
            "Loading…:  15%|████                       | 19/126 [00:01<00:05, 20.58it/s]<ipython-input-22-35bcd1737ba8>:60: RuntimeWarning: divide by zero encountered in log\n",
            "  p_of_y_given_x = np.log(p_of_y * p_of_x_given_y)\n",
            "Loading…: 100%|██████████████████████████| 126/126 [00:09<00:00, 13.95it/s]\n",
            "Loading…: 100%|██████████████████████████| 126/126 [00:07<00:00, 17.64it/s]\n",
            "Loading…: 100%|██████████████████████████| 126/126 [00:08<00:00, 14.68it/s]\n",
            "Loading…: 100%|██████████████████████████| 126/126 [00:08<00:00, 14.31it/s]\n"
          ]
        },
        {
          "output_type": "stream",
          "name": "stdout",
          "text": [
            "Iteration: 110\n"
          ]
        },
        {
          "output_type": "stream",
          "name": "stderr",
          "text": [
            "Loading…: 100%|██████████████████████████| 126/126 [00:07<00:00, 17.12it/s]\n",
            "Loading…:  11%|███                        | 14/126 [00:01<00:13,  8.01it/s]<ipython-input-22-35bcd1737ba8>:60: RuntimeWarning: divide by zero encountered in log\n",
            "  p_of_y_given_x = np.log(p_of_y * p_of_x_given_y)\n",
            "Loading…: 100%|██████████████████████████| 126/126 [00:09<00:00, 12.71it/s]\n",
            "Loading…:  96%|████████████████████████▉ | 121/126 [00:09<00:00, 16.70it/s]<ipython-input-22-35bcd1737ba8>:60: RuntimeWarning: divide by zero encountered in log\n",
            "  p_of_y_given_x = np.log(p_of_y * p_of_x_given_y)\n",
            "Loading…: 100%|██████████████████████████| 126/126 [00:09<00:00, 13.19it/s]\n",
            "Loading…:  11%|███                        | 14/126 [00:00<00:05, 20.35it/s]<ipython-input-22-35bcd1737ba8>:60: RuntimeWarning: divide by zero encountered in log\n",
            "  p_of_y_given_x = np.log(p_of_y * p_of_x_given_y)\n",
            "Loading…: 100%|██████████████████████████| 126/126 [00:10<00:00, 11.78it/s]\n",
            "Loading…:  55%|██████████████▊            | 69/126 [00:04<00:03, 15.92it/s]<ipython-input-22-35bcd1737ba8>:60: RuntimeWarning: divide by zero encountered in log\n",
            "  p_of_y_given_x = np.log(p_of_y * p_of_x_given_y)\n",
            "Loading…: 100%|██████████████████████████| 126/126 [00:07<00:00, 16.26it/s]\n",
            "Loading…:  79%|████████████████████▋     | 100/126 [00:07<00:01, 18.18it/s]<ipython-input-22-35bcd1737ba8>:60: RuntimeWarning: divide by zero encountered in log\n",
            "  p_of_y_given_x = np.log(p_of_y * p_of_x_given_y)\n",
            "Loading…: 100%|██████████████████████████| 126/126 [00:08<00:00, 14.56it/s]\n",
            "Loading…:  15%|████                       | 19/126 [00:01<00:05, 19.13it/s]<ipython-input-22-35bcd1737ba8>:60: RuntimeWarning: divide by zero encountered in log\n",
            "  p_of_y_given_x = np.log(p_of_y * p_of_x_given_y)\n",
            "Loading…: 100%|██████████████████████████| 126/126 [00:10<00:00, 12.58it/s]\n",
            "Loading…:  98%|█████████████████████████▍| 123/126 [00:09<00:00,  8.60it/s]<ipython-input-22-35bcd1737ba8>:60: RuntimeWarning: divide by zero encountered in log\n",
            "  p_of_y_given_x = np.log(p_of_y * p_of_x_given_y)\n",
            "Loading…: 100%|██████████████████████████| 126/126 [00:09<00:00, 12.74it/s]\n",
            "Loading…:  85%|██████████████████████    | 107/126 [00:06<00:01, 17.38it/s]<ipython-input-22-35bcd1737ba8>:60: RuntimeWarning: divide by zero encountered in log\n",
            "  p_of_y_given_x = np.log(p_of_y * p_of_x_given_y)\n",
            "Loading…: 100%|██████████████████████████| 126/126 [00:08<00:00, 15.47it/s]\n",
            "Loading…: 100%|██████████████████████████| 126/126 [00:09<00:00, 13.07it/s]\n"
          ]
        },
        {
          "output_type": "stream",
          "name": "stdout",
          "text": [
            "Iteration: 111\n"
          ]
        },
        {
          "output_type": "stream",
          "name": "stderr",
          "text": [
            "Loading…: 100%|██████████████████████████| 126/126 [00:05<00:00, 23.87it/s]\n",
            "Loading…:  42%|███████████▎               | 53/126 [00:02<00:02, 25.65it/s]<ipython-input-22-35bcd1737ba8>:60: RuntimeWarning: divide by zero encountered in log\n",
            "  p_of_y_given_x = np.log(p_of_y * p_of_x_given_y)\n",
            "Loading…: 100%|██████████████████████████| 126/126 [00:05<00:00, 22.56it/s]\n",
            "Loading…: 100%|██████████████████████████| 126/126 [00:04<00:00, 26.82it/s]\n",
            "Loading…: 100%|██████████████████████████| 126/126 [00:06<00:00, 20.67it/s]\n",
            "Loading…:  10%|██▊                        | 13/126 [00:00<00:03, 28.91it/s]<ipython-input-22-35bcd1737ba8>:60: RuntimeWarning: divide by zero encountered in log\n",
            "  p_of_y_given_x = np.log(p_of_y * p_of_x_given_y)\n",
            "Loading…: 100%|██████████████████████████| 126/126 [00:04<00:00, 27.20it/s]\n",
            "Loading…: 100%|██████████████████████████| 126/126 [00:04<00:00, 25.46it/s]\n",
            "Loading…: 100%|██████████████████████████| 126/126 [00:05<00:00, 21.39it/s]\n",
            "Loading…: 100%|██████████████████████████| 126/126 [00:06<00:00, 19.05it/s]\n",
            "Loading…: 100%|██████████████████████████| 126/126 [00:06<00:00, 20.09it/s]\n",
            "Loading…: 100%|██████████████████████████| 126/126 [00:04<00:00, 26.95it/s]\n"
          ]
        },
        {
          "output_type": "stream",
          "name": "stdout",
          "text": [
            "Iteration: 112\n"
          ]
        },
        {
          "output_type": "stream",
          "name": "stderr",
          "text": [
            "Loading…: 100%|██████████████████████████| 126/126 [00:07<00:00, 16.92it/s]\n",
            "Loading…: 100%|██████████████████████████| 126/126 [00:06<00:00, 19.95it/s]\n",
            "Loading…:  95%|████████████████████████▊ | 120/126 [00:07<00:00, 21.14it/s]<ipython-input-22-35bcd1737ba8>:60: RuntimeWarning: divide by zero encountered in log\n",
            "  p_of_y_given_x = np.log(p_of_y * p_of_x_given_y)\n",
            "Loading…: 100%|██████████████████████████| 126/126 [00:07<00:00, 16.40it/s]\n",
            "Loading…: 100%|██████████████████████████| 126/126 [00:05<00:00, 22.57it/s]\n",
            "Loading…: 100%|██████████████████████████| 126/126 [00:07<00:00, 16.34it/s]\n",
            "Loading…: 100%|██████████████████████████| 126/126 [00:05<00:00, 21.57it/s]\n",
            "Loading…:  14%|███▊                       | 18/126 [00:01<00:07, 15.36it/s]<ipython-input-22-35bcd1737ba8>:60: RuntimeWarning: divide by zero encountered in log\n",
            "  p_of_y_given_x = np.log(p_of_y * p_of_x_given_y)\n",
            "Loading…: 100%|██████████████████████████| 126/126 [00:07<00:00, 15.84it/s]\n",
            "Loading…: 100%|██████████████████████████| 126/126 [00:06<00:00, 20.60it/s]\n",
            "Loading…: 100%|██████████████████████████| 126/126 [00:07<00:00, 16.41it/s]\n",
            "Loading…: 100%|██████████████████████████| 126/126 [00:06<00:00, 18.92it/s]\n"
          ]
        },
        {
          "output_type": "stream",
          "name": "stdout",
          "text": [
            "Iteration: 113\n"
          ]
        },
        {
          "output_type": "stream",
          "name": "stderr",
          "text": [
            "Loading…: 100%|██████████████████████████| 126/126 [00:07<00:00, 17.16it/s]\n",
            "Loading…: 100%|██████████████████████████| 126/126 [00:09<00:00, 13.22it/s]\n",
            "Loading…:  96%|████████████████████████▉ | 121/126 [00:09<00:00, 10.38it/s]<ipython-input-22-35bcd1737ba8>:60: RuntimeWarning: divide by zero encountered in log\n",
            "  p_of_y_given_x = np.log(p_of_y * p_of_x_given_y)\n",
            "Loading…: 100%|██████████████████████████| 126/126 [00:10<00:00, 11.78it/s]\n",
            "Loading…: 100%|██████████████████████████| 126/126 [00:06<00:00, 18.28it/s]\n",
            "Loading…: 100%|██████████████████████████| 126/126 [00:09<00:00, 13.95it/s]\n",
            "Loading…: 100%|██████████████████████████| 126/126 [00:07<00:00, 16.51it/s]\n",
            "Loading…:  15%|████                       | 19/126 [00:01<00:07, 15.09it/s]<ipython-input-22-35bcd1737ba8>:60: RuntimeWarning: divide by zero encountered in log\n",
            "  p_of_y_given_x = np.log(p_of_y * p_of_x_given_y)\n",
            "Loading…: 100%|██████████████████████████| 126/126 [00:08<00:00, 15.13it/s]\n",
            "Loading…: 100%|██████████████████████████| 126/126 [00:09<00:00, 13.50it/s]\n",
            "Loading…: 100%|██████████████████████████| 126/126 [00:08<00:00, 15.26it/s]\n",
            "Loading…: 100%|██████████████████████████| 126/126 [00:08<00:00, 15.75it/s]\n"
          ]
        },
        {
          "output_type": "stream",
          "name": "stdout",
          "text": [
            "Iteration: 114\n"
          ]
        },
        {
          "output_type": "stream",
          "name": "stderr",
          "text": [
            "Loading…: 100%|██████████████████████████| 126/126 [00:09<00:00, 12.87it/s]\n",
            "Loading…: 100%|██████████████████████████| 126/126 [00:10<00:00, 11.52it/s]\n",
            "Loading…:  97%|█████████████████████████▏| 122/126 [00:07<00:00, 15.34it/s]<ipython-input-22-35bcd1737ba8>:60: RuntimeWarning: divide by zero encountered in log\n",
            "  p_of_y_given_x = np.log(p_of_y * p_of_x_given_y)\n",
            "Loading…: 100%|██████████████████████████| 126/126 [00:08<00:00, 14.31it/s]\n",
            "Loading…: 100%|██████████████████████████| 126/126 [00:10<00:00, 12.09it/s]\n",
            "Loading…: 100%|██████████████████████████| 126/126 [00:10<00:00, 12.22it/s]\n",
            "Loading…: 100%|██████████████████████████| 126/126 [00:10<00:00, 12.51it/s]\n",
            "Loading…:  15%|████                       | 19/126 [00:01<00:06, 17.59it/s]<ipython-input-22-35bcd1737ba8>:60: RuntimeWarning: divide by zero encountered in log\n",
            "  p_of_y_given_x = np.log(p_of_y * p_of_x_given_y)\n",
            "Loading…: 100%|██████████████████████████| 126/126 [00:10<00:00, 11.78it/s]\n",
            "Loading…: 100%|██████████████████████████| 126/126 [00:08<00:00, 14.29it/s]\n",
            "Loading…: 100%|██████████████████████████| 126/126 [00:10<00:00, 12.18it/s]\n",
            "Loading…: 100%|██████████████████████████| 126/126 [00:10<00:00, 12.20it/s]\n"
          ]
        },
        {
          "output_type": "stream",
          "name": "stdout",
          "text": [
            "Iteration: 115\n"
          ]
        },
        {
          "output_type": "stream",
          "name": "stderr",
          "text": [
            "Loading…: 100%|██████████████████████████| 126/126 [00:10<00:00, 11.78it/s]\n",
            "Loading…:  12%|███▏                       | 15/126 [00:01<00:08, 13.48it/s]<ipython-input-22-35bcd1737ba8>:60: RuntimeWarning: divide by zero encountered in log\n",
            "  p_of_y_given_x = np.log(p_of_y * p_of_x_given_y)\n",
            "Loading…: 100%|██████████████████████████| 126/126 [00:12<00:00, 10.37it/s]\n",
            "Loading…:  97%|█████████████████████████▏| 122/126 [00:10<00:00,  7.33it/s]<ipython-input-22-35bcd1737ba8>:60: RuntimeWarning: divide by zero encountered in log\n",
            "  p_of_y_given_x = np.log(p_of_y * p_of_x_given_y)\n",
            "Loading…: 100%|██████████████████████████| 126/126 [00:11<00:00, 11.41it/s]\n",
            "Loading…:  11%|███                        | 14/126 [00:00<00:06, 17.61it/s]<ipython-input-22-35bcd1737ba8>:60: RuntimeWarning: divide by zero encountered in log\n",
            "  p_of_y_given_x = np.log(p_of_y * p_of_x_given_y)\n",
            "Loading…: 100%|██████████████████████████| 126/126 [00:11<00:00, 10.92it/s]\n",
            "Loading…:  55%|██████████████▊            | 69/126 [00:05<00:04, 13.24it/s]<ipython-input-22-35bcd1737ba8>:60: RuntimeWarning: divide by zero encountered in log\n",
            "  p_of_y_given_x = np.log(p_of_y * p_of_x_given_y)\n",
            "Loading…: 100%|██████████████████████████| 126/126 [00:09<00:00, 13.07it/s]\n",
            "Loading…:  80%|████████████████████▊     | 101/126 [00:09<00:01, 14.52it/s]<ipython-input-22-35bcd1737ba8>:60: RuntimeWarning: divide by zero encountered in log\n",
            "  p_of_y_given_x = np.log(p_of_y * p_of_x_given_y)\n",
            "Loading…: 100%|██████████████████████████| 126/126 [00:10<00:00, 11.68it/s]\n",
            "Loading…:  14%|███▊                       | 18/126 [00:01<00:07, 15.33it/s]<ipython-input-22-35bcd1737ba8>:60: RuntimeWarning: divide by zero encountered in log\n",
            "  p_of_y_given_x = np.log(p_of_y * p_of_x_given_y)\n",
            "Loading…: 100%|██████████████████████████| 126/126 [00:11<00:00, 10.52it/s]\n",
            "Loading…:  98%|█████████████████████████▍| 123/126 [00:11<00:00, 11.89it/s]<ipython-input-22-35bcd1737ba8>:60: RuntimeWarning: divide by zero encountered in log\n",
            "  p_of_y_given_x = np.log(p_of_y * p_of_x_given_y)\n",
            "Loading…: 100%|██████████████████████████| 126/126 [00:11<00:00, 10.75it/s]\n",
            "Loading…:  86%|██████████████████████▎   | 108/126 [00:10<00:01, 14.28it/s]<ipython-input-22-35bcd1737ba8>:60: RuntimeWarning: divide by zero encountered in log\n",
            "  p_of_y_given_x = np.log(p_of_y * p_of_x_given_y)\n",
            "Loading…: 100%|██████████████████████████| 126/126 [00:11<00:00, 10.68it/s]\n",
            "Loading…: 100%|██████████████████████████| 126/126 [00:11<00:00, 10.80it/s]\n"
          ]
        },
        {
          "output_type": "stream",
          "name": "stdout",
          "text": [
            "Iteration: 116\n"
          ]
        },
        {
          "output_type": "stream",
          "name": "stderr",
          "text": [
            "Loading…: 100%|██████████████████████████| 126/126 [00:04<00:00, 27.54it/s]\n",
            "Loading…:  42%|███████████▎               | 53/126 [00:02<00:02, 26.19it/s]<ipython-input-22-35bcd1737ba8>:60: RuntimeWarning: divide by zero encountered in log\n",
            "  p_of_y_given_x = np.log(p_of_y * p_of_x_given_y)\n",
            "Loading…: 100%|██████████████████████████| 126/126 [00:06<00:00, 18.97it/s]\n",
            "Loading…: 100%|██████████████████████████| 126/126 [00:04<00:00, 26.88it/s]\n",
            "Loading…: 100%|██████████████████████████| 126/126 [00:04<00:00, 27.56it/s]\n",
            "Loading…: 100%|██████████████████████████| 126/126 [00:07<00:00, 17.55it/s]\n",
            "Loading…: 100%|██████████████████████████| 126/126 [00:05<00:00, 23.22it/s]\n",
            "Loading…:  14%|███▊                       | 18/126 [00:00<00:05, 21.08it/s]<ipython-input-22-35bcd1737ba8>:60: RuntimeWarning: divide by zero encountered in log\n",
            "  p_of_y_given_x = np.log(p_of_y * p_of_x_given_y)\n",
            "Loading…: 100%|██████████████████████████| 126/126 [00:06<00:00, 18.89it/s]\n",
            "Loading…: 100%|██████████████████████████| 126/126 [00:05<00:00, 24.79it/s]\n",
            "Loading…: 100%|██████████████████████████| 126/126 [00:06<00:00, 18.98it/s]\n",
            "Loading…: 100%|██████████████████████████| 126/126 [00:04<00:00, 26.34it/s]\n"
          ]
        },
        {
          "output_type": "stream",
          "name": "stdout",
          "text": [
            "Iteration: 117\n"
          ]
        },
        {
          "output_type": "stream",
          "name": "stderr",
          "text": [
            "Loading…: 100%|██████████████████████████| 126/126 [00:07<00:00, 16.70it/s]\n",
            "Loading…: 100%|██████████████████████████| 126/126 [00:06<00:00, 18.80it/s]\n",
            "Loading…:  96%|████████████████████████▉ | 121/126 [00:07<00:00, 21.38it/s]<ipython-input-22-35bcd1737ba8>:60: RuntimeWarning: divide by zero encountered in log\n",
            "  p_of_y_given_x = np.log(p_of_y * p_of_x_given_y)\n",
            "Loading…: 100%|██████████████████████████| 126/126 [00:07<00:00, 16.12it/s]\n",
            "Loading…: 100%|██████████████████████████| 126/126 [00:05<00:00, 21.69it/s]\n",
            "Loading…: 100%|██████████████████████████| 126/126 [00:07<00:00, 16.10it/s]\n",
            "Loading…: 100%|██████████████████████████| 126/126 [00:06<00:00, 20.81it/s]\n",
            "Loading…:  13%|███▋                       | 17/126 [00:00<00:04, 21.95it/s]<ipython-input-22-35bcd1737ba8>:60: RuntimeWarning: divide by zero encountered in log\n",
            "  p_of_y_given_x = np.log(p_of_y * p_of_x_given_y)\n",
            "Loading…: 100%|██████████████████████████| 126/126 [00:08<00:00, 15.38it/s]\n",
            "Loading…: 100%|██████████████████████████| 126/126 [00:06<00:00, 19.76it/s]\n",
            "Loading…: 100%|██████████████████████████| 126/126 [00:08<00:00, 15.55it/s]\n",
            "Loading…: 100%|██████████████████████████| 126/126 [00:07<00:00, 17.76it/s]\n"
          ]
        },
        {
          "output_type": "stream",
          "name": "stdout",
          "text": [
            "Iteration: 118\n"
          ]
        },
        {
          "output_type": "stream",
          "name": "stderr",
          "text": [
            "Loading…: 100%|██████████████████████████| 126/126 [00:09<00:00, 13.88it/s]\n",
            "Loading…: 100%|██████████████████████████| 126/126 [00:09<00:00, 12.85it/s]\n",
            "Loading…:  96%|████████████████████████▉ | 121/126 [00:08<00:00, 14.39it/s]<ipython-input-22-35bcd1737ba8>:60: RuntimeWarning: divide by zero encountered in log\n",
            "  p_of_y_given_x = np.log(p_of_y * p_of_x_given_y)\n",
            "Loading…: 100%|██████████████████████████| 126/126 [00:09<00:00, 13.72it/s]\n",
            "Loading…: 100%|██████████████████████████| 126/126 [00:07<00:00, 17.73it/s]\n",
            "Loading…:  10%|██▊                        | 13/126 [00:00<00:06, 18.77it/s]<ipython-input-22-35bcd1737ba8>:60: RuntimeWarning: divide by zero encountered in log\n",
            "  p_of_y_given_x = np.log(p_of_y * p_of_x_given_y)\n",
            "Loading…: 100%|██████████████████████████| 126/126 [00:09<00:00, 13.44it/s]\n",
            "Loading…: 100%|██████████████████████████| 126/126 [00:09<00:00, 13.91it/s]\n",
            "Loading…:  15%|████                       | 19/126 [00:01<00:05, 18.44it/s]<ipython-input-22-35bcd1737ba8>:60: RuntimeWarning: divide by zero encountered in log\n",
            "  p_of_y_given_x = np.log(p_of_y * p_of_x_given_y)\n",
            "Loading…: 100%|██████████████████████████| 126/126 [00:08<00:00, 15.68it/s]\n",
            "Loading…: 100%|██████████████████████████| 126/126 [00:09<00:00, 13.08it/s]\n",
            "Loading…: 100%|██████████████████████████| 126/126 [00:09<00:00, 13.34it/s]\n",
            "Loading…: 100%|██████████████████████████| 126/126 [00:07<00:00, 16.54it/s]\n"
          ]
        },
        {
          "output_type": "stream",
          "name": "stdout",
          "text": [
            "Iteration: 119\n"
          ]
        },
        {
          "output_type": "stream",
          "name": "stderr",
          "text": [
            "Loading…: 100%|██████████████████████████| 126/126 [00:09<00:00, 12.85it/s]\n",
            "Loading…: 100%|██████████████████████████| 126/126 [00:13<00:00,  9.60it/s]\n",
            "Loading…:  96%|████████████████████████▉ | 121/126 [00:09<00:00, 15.43it/s]<ipython-input-22-35bcd1737ba8>:60: RuntimeWarning: divide by zero encountered in log\n",
            "  p_of_y_given_x = np.log(p_of_y * p_of_x_given_y)\n",
            "Loading…: 100%|██████████████████████████| 126/126 [00:10<00:00, 11.97it/s]\n",
            "Loading…: 100%|██████████████████████████| 126/126 [00:09<00:00, 12.70it/s]\n",
            "Loading…:  11%|███                        | 14/126 [00:00<00:07, 15.47it/s]<ipython-input-22-35bcd1737ba8>:60: RuntimeWarning: divide by zero encountered in log\n",
            "  p_of_y_given_x = np.log(p_of_y * p_of_x_given_y)\n",
            "Loading…: 100%|██████████████████████████| 126/126 [00:08<00:00, 14.10it/s]\n",
            "Loading…: 100%|██████████████████████████| 126/126 [00:09<00:00, 13.17it/s]\n",
            "Loading…:  15%|████                       | 19/126 [00:01<00:06, 17.18it/s]<ipython-input-22-35bcd1737ba8>:60: RuntimeWarning: divide by zero encountered in log\n",
            "  p_of_y_given_x = np.log(p_of_y * p_of_x_given_y)\n",
            "Loading…: 100%|██████████████████████████| 126/126 [00:10<00:00, 11.48it/s]\n",
            "Loading…: 100%|██████████████████████████| 126/126 [00:10<00:00, 11.59it/s]\n",
            "Loading…: 100%|██████████████████████████| 126/126 [00:10<00:00, 11.46it/s]\n",
            "Loading…: 100%|██████████████████████████| 126/126 [00:09<00:00, 13.66it/s]\n"
          ]
        },
        {
          "output_type": "stream",
          "name": "stdout",
          "text": [
            "Iteration: 120\n"
          ]
        },
        {
          "output_type": "stream",
          "name": "stderr",
          "text": [
            "Loading…: 100%|██████████████████████████| 126/126 [00:09<00:00, 12.79it/s]\n",
            "Loading…:  11%|███                        | 14/126 [00:01<00:17,  6.36it/s]<ipython-input-22-35bcd1737ba8>:60: RuntimeWarning: divide by zero encountered in log\n",
            "  p_of_y_given_x = np.log(p_of_y * p_of_x_given_y)\n",
            "Loading…: 100%|██████████████████████████| 126/126 [00:14<00:00,  8.63it/s]\n",
            "Loading…:  97%|█████████████████████████▏| 122/126 [00:10<00:00, 13.46it/s]<ipython-input-22-35bcd1737ba8>:60: RuntimeWarning: divide by zero encountered in log\n",
            "  p_of_y_given_x = np.log(p_of_y * p_of_x_given_y)\n",
            "Loading…: 100%|██████████████████████████| 126/126 [00:11<00:00, 11.38it/s]\n",
            "Loading…:  12%|███▏                       | 15/126 [00:01<00:10, 10.72it/s]<ipython-input-22-35bcd1737ba8>:60: RuntimeWarning: divide by zero encountered in log\n",
            "  p_of_y_given_x = np.log(p_of_y * p_of_x_given_y)\n",
            "Loading…: 100%|██████████████████████████| 126/126 [00:10<00:00, 11.60it/s]\n",
            "Loading…:  10%|██▊                        | 13/126 [00:00<00:07, 15.88it/s]<ipython-input-22-35bcd1737ba8>:60: RuntimeWarning: divide by zero encountered in log\n",
            "  p_of_y_given_x = np.log(p_of_y * p_of_x_given_y)\n",
            "Loading…: 100%|██████████████████████████| 126/126 [00:11<00:00, 10.82it/s]\n",
            "Loading…:  80%|████████████████████▊     | 101/126 [00:09<00:01, 14.16it/s]<ipython-input-22-35bcd1737ba8>:60: RuntimeWarning: divide by zero encountered in log\n",
            "  p_of_y_given_x = np.log(p_of_y * p_of_x_given_y)\n",
            "Loading…: 100%|██████████████████████████| 126/126 [00:11<00:00, 10.98it/s]\n",
            "Loading…:  14%|███▊                       | 18/126 [00:01<00:06, 15.53it/s]<ipython-input-22-35bcd1737ba8>:60: RuntimeWarning: divide by zero encountered in log\n",
            "  p_of_y_given_x = np.log(p_of_y * p_of_x_given_y)\n",
            "Loading…: 100%|██████████████████████████| 126/126 [00:12<00:00, 10.32it/s]\n",
            "Loading…:  98%|█████████████████████████▍| 123/126 [00:11<00:00, 10.99it/s]<ipython-input-22-35bcd1737ba8>:60: RuntimeWarning: divide by zero encountered in log\n",
            "  p_of_y_given_x = np.log(p_of_y * p_of_x_given_y)\n",
            "Loading…: 100%|██████████████████████████| 126/126 [00:12<00:00, 10.31it/s]\n",
            "Loading…:  86%|██████████████████████▎   | 108/126 [00:10<00:02,  7.84it/s]<ipython-input-22-35bcd1737ba8>:60: RuntimeWarning: divide by zero encountered in log\n",
            "  p_of_y_given_x = np.log(p_of_y * p_of_x_given_y)\n",
            "Loading…: 100%|██████████████████████████| 126/126 [00:12<00:00, 10.29it/s]\n",
            "Loading…: 100%|██████████████████████████| 126/126 [00:12<00:00, 10.16it/s]\n"
          ]
        },
        {
          "output_type": "stream",
          "name": "stdout",
          "text": [
            "Iteration: 121\n"
          ]
        },
        {
          "output_type": "stream",
          "name": "stderr",
          "text": [
            "Loading…: 100%|█████████████████████████| 126/126 [00:01<00:00, 105.56it/s]\n",
            "Loading…: 100%|█████████████████████████| 126/126 [00:00<00:00, 138.45it/s]\n",
            "Loading…: 100%|█████████████████████████| 126/126 [00:00<00:00, 239.94it/s]\n",
            "Loading…: 100%|█████████████████████████| 126/126 [00:00<00:00, 245.36it/s]\n",
            "Loading…: 100%|█████████████████████████| 126/126 [00:00<00:00, 237.80it/s]\n",
            "Loading…: 100%|█████████████████████████| 126/126 [00:00<00:00, 234.84it/s]\n",
            "Loading…: 100%|█████████████████████████| 126/126 [00:00<00:00, 227.22it/s]\n",
            "Loading…: 100%|█████████████████████████| 126/126 [00:00<00:00, 227.45it/s]\n",
            "Loading…: 100%|█████████████████████████| 126/126 [00:00<00:00, 234.31it/s]\n",
            "Loading…: 100%|█████████████████████████| 126/126 [00:00<00:00, 233.00it/s]\n"
          ]
        },
        {
          "output_type": "stream",
          "name": "stdout",
          "text": [
            "Iteration: 122\n"
          ]
        },
        {
          "output_type": "stream",
          "name": "stderr",
          "text": [
            "Loading…: 100%|█████████████████████████| 126/126 [00:00<00:00, 175.31it/s]\n",
            "Loading…: 100%|█████████████████████████| 126/126 [00:00<00:00, 161.68it/s]\n",
            "Loading…: 100%|█████████████████████████| 126/126 [00:00<00:00, 172.79it/s]\n",
            "Loading…: 100%|█████████████████████████| 126/126 [00:01<00:00, 122.47it/s]\n",
            "Loading…: 100%|██████████████████████████| 126/126 [00:01<00:00, 90.70it/s]\n",
            "Loading…: 100%|█████████████████████████| 126/126 [00:01<00:00, 121.27it/s]\n",
            "Loading…: 100%|█████████████████████████| 126/126 [00:00<00:00, 161.30it/s]\n",
            "Loading…: 100%|█████████████████████████| 126/126 [00:00<00:00, 171.45it/s]\n",
            "Loading…: 100%|█████████████████████████| 126/126 [00:00<00:00, 169.46it/s]\n",
            "Loading…: 100%|█████████████████████████| 126/126 [00:00<00:00, 170.83it/s]\n"
          ]
        },
        {
          "output_type": "stream",
          "name": "stdout",
          "text": [
            "Iteration: 123\n"
          ]
        },
        {
          "output_type": "stream",
          "name": "stderr",
          "text": [
            "Loading…: 100%|█████████████████████████| 126/126 [00:00<00:00, 141.25it/s]\n",
            "Loading…: 100%|█████████████████████████| 126/126 [00:00<00:00, 127.77it/s]\n",
            "Loading…: 100%|█████████████████████████| 126/126 [00:00<00:00, 136.37it/s]\n",
            "Loading…: 100%|██████████████████████████| 126/126 [00:01<00:00, 80.25it/s]\n",
            "Loading…: 100%|██████████████████████████| 126/126 [00:01<00:00, 79.51it/s]\n",
            "Loading…: 100%|█████████████████████████| 126/126 [00:00<00:00, 141.02it/s]\n",
            "Loading…: 100%|█████████████████████████| 126/126 [00:00<00:00, 132.36it/s]\n",
            "Loading…: 100%|█████████████████████████| 126/126 [00:00<00:00, 132.59it/s]\n",
            "Loading…: 100%|█████████████████████████| 126/126 [00:00<00:00, 133.24it/s]\n",
            "Loading…: 100%|█████████████████████████| 126/126 [00:00<00:00, 133.91it/s]\n"
          ]
        },
        {
          "output_type": "stream",
          "name": "stdout",
          "text": [
            "Iteration: 124\n"
          ]
        },
        {
          "output_type": "stream",
          "name": "stderr",
          "text": [
            "Loading…: 100%|█████████████████████████| 126/126 [00:01<00:00, 120.43it/s]\n",
            "Loading…: 100%|██████████████████████████| 126/126 [00:02<00:00, 56.59it/s]\n",
            "Loading…: 100%|█████████████████████████| 126/126 [00:01<00:00, 116.93it/s]\n",
            "Loading…: 100%|█████████████████████████| 126/126 [00:01<00:00, 124.32it/s]\n",
            "Loading…: 100%|█████████████████████████| 126/126 [00:01<00:00, 114.62it/s]\n",
            "Loading…: 100%|█████████████████████████| 126/126 [00:01<00:00, 115.69it/s]\n",
            "Loading…: 100%|█████████████████████████| 126/126 [00:01<00:00, 106.76it/s]\n",
            "Loading…: 100%|██████████████████████████| 126/126 [00:02<00:00, 59.07it/s]\n",
            "Loading…: 100%|█████████████████████████| 126/126 [00:01<00:00, 109.83it/s]\n",
            "Loading…: 100%|█████████████████████████| 126/126 [00:01<00:00, 110.62it/s]\n"
          ]
        },
        {
          "output_type": "stream",
          "name": "stdout",
          "text": [
            "Iteration: 125\n"
          ]
        },
        {
          "output_type": "stream",
          "name": "stderr",
          "text": [
            "Loading…: 100%|█████████████████████████| 126/126 [00:01<00:00, 104.67it/s]\n",
            "Loading…: 100%|██████████████████████████| 126/126 [00:01<00:00, 93.17it/s]\n",
            "Loading…: 100%|██████████████████████████| 126/126 [00:02<00:00, 54.24it/s]\n",
            "Loading…: 100%|█████████████████████████| 126/126 [00:01<00:00, 106.04it/s]\n",
            "Loading…: 100%|██████████████████████████| 126/126 [00:01<00:00, 98.60it/s]\n",
            "Loading…: 100%|█████████████████████████| 126/126 [00:01<00:00, 101.74it/s]\n",
            "Loading…: 100%|██████████████████████████| 126/126 [00:01<00:00, 91.83it/s]\n",
            "Loading…: 100%|██████████████████████████| 126/126 [00:02<00:00, 49.37it/s]\n",
            "Loading…: 100%|██████████████████████████| 126/126 [00:01<00:00, 94.27it/s]\n",
            "Loading…: 100%|██████████████████████████| 126/126 [00:01<00:00, 95.82it/s]\n"
          ]
        },
        {
          "output_type": "stream",
          "name": "stdout",
          "text": [
            "Iteration: 126\n"
          ]
        },
        {
          "output_type": "stream",
          "name": "stderr",
          "text": [
            "Loading…: 100%|█████████████████████████| 126/126 [00:00<00:00, 234.86it/s]\n",
            "Loading…: 100%|█████████████████████████| 126/126 [00:00<00:00, 218.14it/s]\n",
            "Loading…: 100%|█████████████████████████| 126/126 [00:00<00:00, 236.49it/s]\n",
            "Loading…: 100%|█████████████████████████| 126/126 [00:00<00:00, 257.04it/s]\n",
            "Loading…: 100%|█████████████████████████| 126/126 [00:00<00:00, 229.64it/s]\n",
            "Loading…: 100%|█████████████████████████| 126/126 [00:00<00:00, 230.44it/s]\n",
            "Loading…: 100%|█████████████████████████| 126/126 [00:00<00:00, 229.26it/s]\n",
            "Loading…: 100%|█████████████████████████| 126/126 [00:00<00:00, 225.25it/s]\n",
            "Loading…: 100%|█████████████████████████| 126/126 [00:00<00:00, 127.71it/s]\n",
            "Loading…: 100%|█████████████████████████| 126/126 [00:01<00:00, 122.92it/s]\n"
          ]
        },
        {
          "output_type": "stream",
          "name": "stdout",
          "text": [
            "Iteration: 127\n"
          ]
        },
        {
          "output_type": "stream",
          "name": "stderr",
          "text": [
            "Loading…: 100%|█████████████████████████| 126/126 [00:01<00:00, 107.02it/s]\n",
            "Loading…: 100%|█████████████████████████| 126/126 [00:00<00:00, 159.87it/s]\n",
            "Loading…: 100%|█████████████████████████| 126/126 [00:00<00:00, 168.95it/s]\n",
            "Loading…: 100%|█████████████████████████| 126/126 [00:00<00:00, 177.40it/s]\n",
            "Loading…: 100%|█████████████████████████| 126/126 [00:00<00:00, 168.90it/s]\n",
            "Loading…: 100%|█████████████████████████| 126/126 [00:00<00:00, 169.07it/s]\n",
            "Loading…: 100%|█████████████████████████| 126/126 [00:00<00:00, 159.92it/s]\n",
            "Loading…: 100%|█████████████████████████| 126/126 [00:00<00:00, 166.64it/s]\n",
            "Loading…: 100%|█████████████████████████| 126/126 [00:01<00:00, 104.47it/s]\n",
            "Loading…: 100%|██████████████████████████| 126/126 [00:01<00:00, 76.87it/s]\n"
          ]
        },
        {
          "output_type": "stream",
          "name": "stdout",
          "text": [
            "Iteration: 128\n"
          ]
        },
        {
          "output_type": "stream",
          "name": "stderr",
          "text": [
            "Loading…: 100%|██████████████████████████| 126/126 [00:01<00:00, 68.47it/s]\n",
            "Loading…: 100%|█████████████████████████| 126/126 [00:00<00:00, 127.86it/s]\n",
            "Loading…: 100%|█████████████████████████| 126/126 [00:00<00:00, 136.64it/s]\n",
            "Loading…: 100%|█████████████████████████| 126/126 [00:00<00:00, 144.69it/s]\n",
            "Loading…: 100%|█████████████████████████| 126/126 [00:00<00:00, 131.71it/s]\n",
            "Loading…: 100%|█████████████████████████| 126/126 [00:00<00:00, 138.46it/s]\n",
            "Loading…: 100%|█████████████████████████| 126/126 [00:00<00:00, 126.92it/s]\n",
            "Loading…: 100%|██████████████████████████| 126/126 [00:01<00:00, 79.16it/s]\n",
            "Loading…: 100%|██████████████████████████| 126/126 [00:01<00:00, 75.05it/s]\n",
            "Loading…: 100%|█████████████████████████| 126/126 [00:00<00:00, 133.72it/s]\n"
          ]
        },
        {
          "output_type": "stream",
          "name": "stdout",
          "text": [
            "Iteration: 129\n"
          ]
        },
        {
          "output_type": "stream",
          "name": "stderr",
          "text": [
            "Loading…: 100%|█████████████████████████| 126/126 [00:01<00:00, 116.59it/s]\n",
            "Loading…: 100%|█████████████████████████| 126/126 [00:01<00:00, 103.16it/s]\n",
            "Loading…: 100%|█████████████████████████| 126/126 [00:01<00:00, 112.11it/s]\n",
            "Loading…: 100%|█████████████████████████| 126/126 [00:01<00:00, 105.63it/s]\n",
            "Loading…: 100%|██████████████████████████| 126/126 [00:01<00:00, 63.71it/s]\n",
            "Loading…: 100%|█████████████████████████| 126/126 [00:01<00:00, 113.04it/s]\n",
            "Loading…: 100%|█████████████████████████| 126/126 [00:01<00:00, 105.04it/s]\n",
            "Loading…: 100%|█████████████████████████| 126/126 [00:01<00:00, 105.83it/s]\n",
            "Loading…: 100%|█████████████████████████| 126/126 [00:01<00:00, 102.89it/s]\n",
            "Loading…: 100%|██████████████████████████| 126/126 [00:02<00:00, 62.19it/s]\n"
          ]
        },
        {
          "output_type": "stream",
          "name": "stdout",
          "text": [
            "Iteration: 130\n"
          ]
        },
        {
          "output_type": "stream",
          "name": "stderr",
          "text": [
            "Loading…: 100%|██████████████████████████| 126/126 [00:01<00:00, 98.15it/s]\n",
            "Loading…: 100%|██████████████████████████| 126/126 [00:01<00:00, 89.77it/s]\n",
            "Loading…: 100%|██████████████████████████| 126/126 [00:01<00:00, 93.70it/s]\n",
            "Loading…: 100%|█████████████████████████| 126/126 [00:01<00:00, 102.65it/s]\n",
            "Loading…: 100%|██████████████████████████| 126/126 [00:02<00:00, 55.14it/s]\n",
            "Loading…: 100%|██████████████████████████| 126/126 [00:01<00:00, 98.43it/s]\n",
            "Loading…: 100%|██████████████████████████| 126/126 [00:01<00:00, 88.30it/s]\n",
            "Loading…: 100%|██████████████████████████| 126/126 [00:01<00:00, 90.80it/s]\n",
            "Loading…: 100%|██████████████████████████| 126/126 [00:02<00:00, 60.53it/s]\n",
            "Loading…: 100%|██████████████████████████| 126/126 [00:01<00:00, 92.28it/s]\n"
          ]
        },
        {
          "output_type": "stream",
          "name": "stdout",
          "text": [
            "Iteration: 131\n"
          ]
        },
        {
          "output_type": "stream",
          "name": "stderr",
          "text": [
            "Loading…: 100%|█████████████████████████| 126/126 [00:01<00:00, 117.22it/s]\n",
            "Loading…: 100%|█████████████████████████| 126/126 [00:01<00:00, 111.37it/s]\n",
            "Loading…: 100%|█████████████████████████| 126/126 [00:01<00:00, 117.38it/s]\n",
            "Loading…: 100%|█████████████████████████| 126/126 [00:01<00:00, 120.32it/s]\n",
            "Loading…: 100%|█████████████████████████| 126/126 [00:01<00:00, 115.75it/s]\n",
            "Loading…: 100%|█████████████████████████| 126/126 [00:01<00:00, 121.70it/s]\n",
            "Loading…: 100%|█████████████████████████| 126/126 [00:01<00:00, 114.41it/s]\n",
            "Loading…: 100%|██████████████████████████| 126/126 [00:01<00:00, 65.11it/s]\n",
            "Loading…: 100%|██████████████████████████| 126/126 [00:01<00:00, 63.99it/s]\n",
            "Loading…: 100%|█████████████████████████| 126/126 [00:01<00:00, 114.30it/s]\n"
          ]
        },
        {
          "output_type": "stream",
          "name": "stdout",
          "text": [
            "Iteration: 132\n"
          ]
        },
        {
          "output_type": "stream",
          "name": "stderr",
          "text": [
            "Loading…: 100%|██████████████████████████| 126/126 [00:01<00:00, 88.59it/s]\n",
            "Loading…: 100%|██████████████████████████| 126/126 [00:01<00:00, 79.31it/s]\n",
            "Loading…: 100%|██████████████████████████| 126/126 [00:01<00:00, 85.40it/s]\n",
            "Loading…: 100%|██████████████████████████| 126/126 [00:01<00:00, 87.01it/s]\n",
            "Loading…: 100%|██████████████████████████| 126/126 [00:01<00:00, 65.15it/s]\n",
            "Loading…: 100%|██████████████████████████| 126/126 [00:02<00:00, 47.59it/s]\n",
            "Loading…: 100%|██████████████████████████| 126/126 [00:01<00:00, 77.18it/s]\n",
            "Loading…: 100%|██████████████████████████| 126/126 [00:01<00:00, 79.90it/s]\n",
            "Loading…: 100%|██████████████████████████| 126/126 [00:01<00:00, 72.65it/s]\n",
            "Loading…: 100%|██████████████████████████| 126/126 [00:02<00:00, 43.13it/s]\n"
          ]
        },
        {
          "output_type": "stream",
          "name": "stdout",
          "text": [
            "Iteration: 133\n"
          ]
        },
        {
          "output_type": "stream",
          "name": "stderr",
          "text": [
            "Loading…: 100%|██████████████████████████| 126/126 [00:03<00:00, 36.74it/s]\n",
            "Loading…: 100%|██████████████████████████| 126/126 [00:02<00:00, 61.37it/s]\n",
            "Loading…: 100%|██████████████████████████| 126/126 [00:01<00:00, 66.40it/s]\n",
            "Loading…: 100%|██████████████████████████| 126/126 [00:01<00:00, 69.63it/s]\n",
            "Loading…: 100%|██████████████████████████| 126/126 [00:01<00:00, 63.29it/s]\n",
            "Loading…: 100%|██████████████████████████| 126/126 [00:03<00:00, 40.96it/s]\n",
            "Loading…: 100%|██████████████████████████| 126/126 [00:01<00:00, 63.43it/s]\n",
            "Loading…: 100%|██████████████████████████| 126/126 [00:01<00:00, 65.16it/s]\n",
            "Loading…: 100%|██████████████████████████| 126/126 [00:01<00:00, 64.04it/s]\n",
            "Loading…: 100%|██████████████████████████| 126/126 [00:02<00:00, 50.25it/s]\n"
          ]
        },
        {
          "output_type": "stream",
          "name": "stdout",
          "text": [
            "Iteration: 134\n"
          ]
        },
        {
          "output_type": "stream",
          "name": "stderr",
          "text": [
            "Loading…: 100%|██████████████████████████| 126/126 [00:02<00:00, 49.16it/s]\n",
            "Loading…: 100%|██████████████████████████| 126/126 [00:02<00:00, 52.49it/s]\n",
            "Loading…: 100%|██████████████████████████| 126/126 [00:02<00:00, 54.47it/s]\n",
            "Loading…: 100%|██████████████████████████| 126/126 [00:03<00:00, 39.73it/s]\n",
            "Loading…: 100%|██████████████████████████| 126/126 [00:02<00:00, 55.86it/s]\n",
            "Loading…: 100%|██████████████████████████| 126/126 [00:02<00:00, 56.88it/s]\n",
            "Loading…: 100%|██████████████████████████| 126/126 [00:02<00:00, 52.46it/s]\n",
            "Loading…: 100%|██████████████████████████| 126/126 [00:04<00:00, 31.32it/s]\n",
            "Loading…: 100%|██████████████████████████| 126/126 [00:02<00:00, 53.93it/s]\n",
            "Loading…: 100%|██████████████████████████| 126/126 [00:02<00:00, 54.54it/s]\n"
          ]
        },
        {
          "output_type": "stream",
          "name": "stdout",
          "text": [
            "Iteration: 135\n"
          ]
        },
        {
          "output_type": "stream",
          "name": "stderr",
          "text": [
            "Loading…: 100%|██████████████████████████| 126/126 [00:02<00:00, 50.41it/s]\n",
            "Loading…: 100%|██████████████████████████| 126/126 [00:03<00:00, 33.85it/s]\n",
            "Loading…: 100%|██████████████████████████| 126/126 [00:02<00:00, 46.90it/s]\n",
            "Loading…: 100%|██████████████████████████| 126/126 [00:02<00:00, 51.88it/s]\n",
            "Loading…: 100%|██████████████████████████| 126/126 [00:03<00:00, 31.89it/s]\n",
            "Loading…: 100%|██████████████████████████| 126/126 [00:02<00:00, 49.29it/s]\n",
            "Loading…: 100%|██████████████████████████| 126/126 [00:02<00:00, 43.74it/s]\n",
            "Loading…: 100%|██████████████████████████| 126/126 [00:04<00:00, 28.32it/s]\n",
            "Loading…: 100%|██████████████████████████| 126/126 [00:02<00:00, 43.79it/s]\n",
            "Loading…: 100%|██████████████████████████| 126/126 [00:03<00:00, 37.07it/s]\n"
          ]
        },
        {
          "output_type": "stream",
          "name": "stdout",
          "text": [
            "Iteration: 136\n"
          ]
        },
        {
          "output_type": "stream",
          "name": "stderr",
          "text": [
            "Loading…: 100%|██████████████████████████| 126/126 [00:01<00:00, 65.21it/s]\n",
            "Loading…: 100%|██████████████████████████| 126/126 [00:01<00:00, 67.56it/s]\n",
            "Loading…: 100%|█████████████████████████| 126/126 [00:01<00:00, 116.81it/s]\n",
            "Loading…: 100%|█████████████████████████| 126/126 [00:01<00:00, 121.19it/s]\n",
            "Loading…: 100%|█████████████████████████| 126/126 [00:01<00:00, 116.63it/s]\n",
            "Loading…: 100%|█████████████████████████| 126/126 [00:01<00:00, 118.28it/s]\n",
            "Loading…: 100%|█████████████████████████| 126/126 [00:01<00:00, 113.28it/s]\n",
            "Loading…: 100%|█████████████████████████| 126/126 [00:01<00:00, 112.63it/s]\n",
            "Loading…: 100%|█████████████████████████| 126/126 [00:01<00:00, 113.38it/s]\n",
            "Loading…: 100%|█████████████████████████| 126/126 [00:01<00:00, 116.38it/s]\n"
          ]
        },
        {
          "output_type": "stream",
          "name": "stdout",
          "text": [
            "Iteration: 137\n"
          ]
        },
        {
          "output_type": "stream",
          "name": "stderr",
          "text": [
            "Loading…: 100%|██████████████████████████| 126/126 [00:02<00:00, 46.17it/s]\n",
            "Loading…: 100%|██████████████████████████| 126/126 [00:01<00:00, 77.94it/s]\n",
            "Loading…: 100%|██████████████████████████| 126/126 [00:01<00:00, 82.23it/s]\n",
            "Loading…: 100%|██████████████████████████| 126/126 [00:01<00:00, 87.15it/s]\n",
            "Loading…: 100%|██████████████████████████| 126/126 [00:01<00:00, 81.73it/s]\n",
            "Loading…: 100%|██████████████████████████| 126/126 [00:01<00:00, 82.67it/s]\n",
            "Loading…: 100%|██████████████████████████| 126/126 [00:02<00:00, 49.42it/s]\n",
            "Loading…: 100%|██████████████████████████| 126/126 [00:02<00:00, 58.55it/s]\n",
            "Loading…: 100%|██████████████████████████| 126/126 [00:01<00:00, 79.88it/s]\n",
            "Loading…: 100%|██████████████████████████| 126/126 [00:01<00:00, 79.38it/s]\n"
          ]
        },
        {
          "output_type": "stream",
          "name": "stdout",
          "text": [
            "Iteration: 138\n"
          ]
        },
        {
          "output_type": "stream",
          "name": "stderr",
          "text": [
            "Loading…: 100%|██████████████████████████| 126/126 [00:01<00:00, 66.91it/s]\n",
            "Loading…: 100%|██████████████████████████| 126/126 [00:02<00:00, 58.88it/s]\n",
            "Loading…: 100%|██████████████████████████| 126/126 [00:03<00:00, 40.97it/s]\n",
            "Loading…: 100%|██████████████████████████| 126/126 [00:01<00:00, 69.71it/s]\n",
            "Loading…: 100%|██████████████████████████| 126/126 [00:01<00:00, 65.53it/s]\n",
            "Loading…: 100%|██████████████████████████| 126/126 [00:01<00:00, 65.61it/s]\n",
            "Loading…: 100%|██████████████████████████| 126/126 [00:02<00:00, 45.35it/s]\n",
            "Loading…: 100%|██████████████████████████| 126/126 [00:02<00:00, 49.57it/s]\n",
            "Loading…: 100%|██████████████████████████| 126/126 [00:01<00:00, 63.02it/s]\n",
            "Loading…: 100%|██████████████████████████| 126/126 [00:01<00:00, 63.60it/s]\n"
          ]
        },
        {
          "output_type": "stream",
          "name": "stdout",
          "text": [
            "Iteration: 139\n"
          ]
        },
        {
          "output_type": "stream",
          "name": "stderr",
          "text": [
            "Loading…: 100%|██████████████████████████| 126/126 [00:02<00:00, 57.39it/s]\n",
            "Loading…: 100%|██████████████████████████| 126/126 [00:03<00:00, 35.16it/s]\n",
            "Loading…: 100%|██████████████████████████| 126/126 [00:02<00:00, 53.86it/s]\n",
            "Loading…: 100%|██████████████████████████| 126/126 [00:02<00:00, 57.27it/s]\n",
            "Loading…: 100%|██████████████████████████| 126/126 [00:03<00:00, 39.54it/s]\n",
            "Loading…: 100%|██████████████████████████| 126/126 [00:02<00:00, 51.89it/s]\n",
            "Loading…: 100%|██████████████████████████| 126/126 [00:02<00:00, 50.49it/s]\n",
            "Loading…: 100%|██████████████████████████| 126/126 [00:02<00:00, 51.59it/s]\n",
            "Loading…: 100%|██████████████████████████| 126/126 [00:04<00:00, 29.58it/s]\n",
            "Loading…: 100%|██████████████████████████| 126/126 [00:04<00:00, 31.46it/s]\n"
          ]
        },
        {
          "output_type": "stream",
          "name": "stdout",
          "text": [
            "Iteration: 140\n"
          ]
        },
        {
          "output_type": "stream",
          "name": "stderr",
          "text": [
            "Loading…: 100%|██████████████████████████| 126/126 [00:02<00:00, 47.97it/s]\n",
            "Loading…: 100%|██████████████████████████| 126/126 [00:03<00:00, 31.78it/s]\n",
            "Loading…: 100%|██████████████████████████| 126/126 [00:02<00:00, 45.27it/s]\n",
            "Loading…: 100%|██████████████████████████| 126/126 [00:02<00:00, 47.31it/s]\n",
            "Loading…: 100%|██████████████████████████| 126/126 [00:03<00:00, 35.55it/s]\n",
            "Loading…: 100%|██████████████████████████| 126/126 [00:02<00:00, 47.70it/s]\n",
            "Loading…: 100%|██████████████████████████| 126/126 [00:03<00:00, 41.05it/s]\n",
            "Loading…: 100%|██████████████████████████| 126/126 [00:03<00:00, 35.94it/s]\n",
            "Loading…: 100%|██████████████████████████| 126/126 [00:02<00:00, 42.17it/s]\n",
            "Loading…: 100%|██████████████████████████| 126/126 [00:03<00:00, 36.53it/s]\n"
          ]
        },
        {
          "output_type": "stream",
          "name": "stdout",
          "text": [
            "Iteration: 141\n"
          ]
        },
        {
          "output_type": "stream",
          "name": "stderr",
          "text": [
            "Loading…: 100%|██████████████████████████| 126/126 [00:03<00:00, 39.43it/s]\n",
            "Loading…: 100%|██████████████████████████| 126/126 [00:02<00:00, 53.01it/s]\n",
            "Loading…: 100%|██████████████████████████| 126/126 [00:02<00:00, 57.66it/s]\n",
            "Loading…: 100%|██████████████████████████| 126/126 [00:02<00:00, 61.23it/s]\n",
            "Loading…:  11%|███                        | 14/126 [00:00<00:01, 65.26it/s]<ipython-input-22-35bcd1737ba8>:60: RuntimeWarning: divide by zero encountered in log\n",
            "  p_of_y_given_x = np.log(p_of_y * p_of_x_given_y)\n",
            "Loading…: 100%|██████████████████████████| 126/126 [00:02<00:00, 56.02it/s]\n",
            "Loading…: 100%|██████████████████████████| 126/126 [00:03<00:00, 33.74it/s]\n",
            "Loading…:  10%|██▊                        | 13/126 [00:00<00:01, 60.84it/s]<ipython-input-22-35bcd1737ba8>:60: RuntimeWarning: divide by zero encountered in log\n",
            "  p_of_y_given_x = np.log(p_of_y * p_of_x_given_y)\n",
            "Loading…: 100%|██████████████████████████| 126/126 [00:02<00:00, 56.78it/s]\n",
            "Loading…: 100%|██████████████████████████| 126/126 [00:02<00:00, 55.89it/s]\n",
            "Loading…: 100%|██████████████████████████| 126/126 [00:02<00:00, 57.08it/s]\n",
            "Loading…: 100%|██████████████████████████| 126/126 [00:02<00:00, 58.17it/s]\n"
          ]
        },
        {
          "output_type": "stream",
          "name": "stdout",
          "text": [
            "Iteration: 142\n"
          ]
        },
        {
          "output_type": "stream",
          "name": "stderr",
          "text": [
            "Loading…: 100%|██████████████████████████| 126/126 [00:04<00:00, 26.05it/s]\n",
            "Loading…: 100%|██████████████████████████| 126/126 [00:03<00:00, 39.28it/s]\n",
            "Loading…:  94%|████████████████████████▌ | 119/126 [00:02<00:00, 42.87it/s]<ipython-input-22-35bcd1737ba8>:60: RuntimeWarning: divide by zero encountered in log\n",
            "  p_of_y_given_x = np.log(p_of_y * p_of_x_given_y)\n",
            "Loading…: 100%|██████████████████████████| 126/126 [00:02<00:00, 42.52it/s]\n",
            "Loading…: 100%|██████████████████████████| 126/126 [00:03<00:00, 36.54it/s]\n",
            "Loading…:  11%|███                        | 14/126 [00:00<00:04, 23.31it/s]<ipython-input-22-35bcd1737ba8>:60: RuntimeWarning: divide by zero encountered in log\n",
            "  p_of_y_given_x = np.log(p_of_y * p_of_x_given_y)\n",
            "Loading…: 100%|██████████████████████████| 126/126 [00:03<00:00, 31.74it/s]\n",
            "Loading…: 100%|██████████████████████████| 126/126 [00:03<00:00, 41.23it/s]\n",
            "Loading…:  13%|███▋                       | 17/126 [00:00<00:02, 41.45it/s]<ipython-input-22-35bcd1737ba8>:60: RuntimeWarning: divide by zero encountered in log\n",
            "  p_of_y_given_x = np.log(p_of_y * p_of_x_given_y)\n",
            "Loading…: 100%|██████████████████████████| 126/126 [00:03<00:00, 38.12it/s]\n",
            "Loading…:  56%|███████████████            | 70/126 [00:02<00:02, 19.56it/s]<ipython-input-22-35bcd1737ba8>:60: RuntimeWarning: divide by zero encountered in log\n",
            "  p_of_y_given_x = np.log(p_of_y * p_of_x_given_y)\n",
            "Loading…: 100%|██████████████████████████| 126/126 [00:05<00:00, 23.52it/s]\n",
            "Loading…: 100%|██████████████████████████| 126/126 [00:04<00:00, 28.60it/s]\n",
            "Loading…: 100%|██████████████████████████| 126/126 [00:03<00:00, 40.59it/s]\n"
          ]
        },
        {
          "output_type": "stream",
          "name": "stdout",
          "text": [
            "Iteration: 143\n"
          ]
        },
        {
          "output_type": "stream",
          "name": "stderr",
          "text": [
            "Loading…: 100%|██████████████████████████| 126/126 [00:05<00:00, 22.85it/s]\n",
            "Loading…: 100%|██████████████████████████| 126/126 [00:04<00:00, 30.52it/s]\n",
            "Loading…:  96%|████████████████████████▉ | 121/126 [00:03<00:00, 21.11it/s]<ipython-input-22-35bcd1737ba8>:60: RuntimeWarning: divide by zero encountered in log\n",
            "  p_of_y_given_x = np.log(p_of_y * p_of_x_given_y)\n",
            "Loading…: 100%|██████████████████████████| 126/126 [00:04<00:00, 28.53it/s]\n",
            "Loading…:  11%|███                        | 14/126 [00:00<00:05, 21.68it/s]<ipython-input-22-35bcd1737ba8>:60: RuntimeWarning: divide by zero encountered in log\n",
            "  p_of_y_given_x = np.log(p_of_y * p_of_x_given_y)\n",
            "Loading…: 100%|██████████████████████████| 126/126 [00:04<00:00, 29.02it/s]\n",
            "Loading…:  10%|██▊                        | 13/126 [00:00<00:02, 38.86it/s]<ipython-input-22-35bcd1737ba8>:60: RuntimeWarning: divide by zero encountered in log\n",
            "  p_of_y_given_x = np.log(p_of_y * p_of_x_given_y)\n",
            "Loading…: 100%|██████████████████████████| 126/126 [00:03<00:00, 32.54it/s]\n",
            "Loading…:  79%|████████████████████▋     | 100/126 [00:03<00:01, 19.06it/s]<ipython-input-22-35bcd1737ba8>:60: RuntimeWarning: divide by zero encountered in log\n",
            "  p_of_y_given_x = np.log(p_of_y * p_of_x_given_y)\n",
            "Loading…: 100%|██████████████████████████| 126/126 [00:05<00:00, 24.25it/s]\n",
            "Loading…:  13%|███▍                       | 16/126 [00:00<00:03, 33.26it/s]<ipython-input-22-35bcd1737ba8>:60: RuntimeWarning: divide by zero encountered in log\n",
            "  p_of_y_given_x = np.log(p_of_y * p_of_x_given_y)\n",
            "Loading…: 100%|██████████████████████████| 126/126 [00:04<00:00, 30.78it/s]\n",
            "Loading…:  57%|███████████████▍           | 72/126 [00:02<00:01, 31.29it/s]<ipython-input-22-35bcd1737ba8>:60: RuntimeWarning: divide by zero encountered in log\n",
            "  p_of_y_given_x = np.log(p_of_y * p_of_x_given_y)\n",
            "Loading…: 100%|██████████████████████████| 126/126 [00:03<00:00, 31.64it/s]\n",
            "Loading…:  84%|█████████████████████▊    | 106/126 [00:05<00:00, 30.49it/s]<ipython-input-22-35bcd1737ba8>:60: RuntimeWarning: divide by zero encountered in log\n",
            "  p_of_y_given_x = np.log(p_of_y * p_of_x_given_y)\n",
            "Loading…: 100%|██████████████████████████| 126/126 [00:05<00:00, 21.63it/s]\n",
            "Loading…: 100%|██████████████████████████| 126/126 [00:03<00:00, 32.07it/s]\n"
          ]
        },
        {
          "output_type": "stream",
          "name": "stdout",
          "text": [
            "Iteration: 144\n"
          ]
        },
        {
          "output_type": "stream",
          "name": "stderr",
          "text": [
            "Loading…: 100%|██████████████████████████| 126/126 [00:05<00:00, 23.11it/s]\n",
            "Loading…:  12%|███▏                       | 15/126 [00:00<00:04, 26.97it/s]<ipython-input-22-35bcd1737ba8>:60: RuntimeWarning: divide by zero encountered in log\n",
            "  p_of_y_given_x = np.log(p_of_y * p_of_x_given_y)\n",
            "Loading…: 100%|██████████████████████████| 126/126 [00:04<00:00, 25.39it/s]\n",
            "Loading…:  97%|█████████████████████████▏| 122/126 [00:04<00:00, 18.88it/s]<ipython-input-22-35bcd1737ba8>:60: RuntimeWarning: divide by zero encountered in log\n",
            "  p_of_y_given_x = np.log(p_of_y * p_of_x_given_y)\n",
            "Loading…: 100%|██████████████████████████| 126/126 [00:05<00:00, 24.91it/s]\n",
            "Loading…:  12%|███▏                       | 15/126 [00:00<00:06, 17.88it/s]<ipython-input-22-35bcd1737ba8>:60: RuntimeWarning: divide by zero encountered in log\n",
            "  p_of_y_given_x = np.log(p_of_y * p_of_x_given_y)\n",
            "Loading…: 100%|██████████████████████████| 126/126 [00:04<00:00, 25.78it/s]\n",
            "Loading…:  11%|███                        | 14/126 [00:00<00:03, 28.17it/s]<ipython-input-22-35bcd1737ba8>:60: RuntimeWarning: divide by zero encountered in log\n",
            "  p_of_y_given_x = np.log(p_of_y * p_of_x_given_y)\n",
            "Loading…: 100%|██████████████████████████| 126/126 [00:04<00:00, 27.21it/s]\n",
            "Loading…:  79%|████████████████████▋     | 100/126 [00:05<00:00, 29.18it/s]<ipython-input-22-35bcd1737ba8>:60: RuntimeWarning: divide by zero encountered in log\n",
            "  p_of_y_given_x = np.log(p_of_y * p_of_x_given_y)\n",
            "Loading…: 100%|██████████████████████████| 126/126 [00:06<00:00, 19.94it/s]\n",
            "Loading…:  13%|███▍                       | 16/126 [00:00<00:03, 29.81it/s]<ipython-input-22-35bcd1737ba8>:60: RuntimeWarning: divide by zero encountered in log\n",
            "  p_of_y_given_x = np.log(p_of_y * p_of_x_given_y)\n",
            "Loading…: 100%|██████████████████████████| 126/126 [00:04<00:00, 26.10it/s]\n",
            "Loading…:  96%|████████████████████████▉ | 121/126 [00:08<00:00, 19.05it/s]<ipython-input-22-35bcd1737ba8>:60: RuntimeWarning: divide by zero encountered in log\n",
            "  p_of_y_given_x = np.log(p_of_y * p_of_x_given_y)\n",
            "Loading…: 100%|██████████████████████████| 126/126 [00:08<00:00, 14.90it/s]\n",
            "Loading…:  86%|██████████████████████▎   | 108/126 [00:04<00:00, 27.16it/s]<ipython-input-22-35bcd1737ba8>:60: RuntimeWarning: divide by zero encountered in log\n",
            "  p_of_y_given_x = np.log(p_of_y * p_of_x_given_y)\n",
            "Loading…: 100%|██████████████████████████| 126/126 [00:04<00:00, 26.46it/s]\n",
            "Loading…: 100%|██████████████████████████| 126/126 [00:06<00:00, 19.72it/s]\n"
          ]
        },
        {
          "output_type": "stream",
          "name": "stdout",
          "text": [
            "Iteration: 145\n"
          ]
        },
        {
          "output_type": "stream",
          "name": "stderr",
          "text": [
            "Loading…: 100%|██████████████████████████| 126/126 [00:05<00:00, 24.84it/s]\n",
            "Loading…:  11%|███                        | 14/126 [00:00<00:04, 23.37it/s]<ipython-input-22-35bcd1737ba8>:60: RuntimeWarning: divide by zero encountered in log\n",
            "  p_of_y_given_x = np.log(p_of_y * p_of_x_given_y)\n",
            "Loading…: 100%|██████████████████████████| 126/126 [00:07<00:00, 16.74it/s]\n",
            "Loading…:  95%|████████████████████████▊ | 120/126 [00:04<00:00, 24.27it/s]<ipython-input-22-35bcd1737ba8>:60: RuntimeWarning: divide by zero encountered in log\n",
            "  p_of_y_given_x = np.log(p_of_y * p_of_x_given_y)\n",
            "Loading…: 100%|██████████████████████████| 126/126 [00:05<00:00, 23.78it/s]\n",
            "Loading…:  12%|███▏                       | 15/126 [00:00<00:04, 27.50it/s]<ipython-input-22-35bcd1737ba8>:60: RuntimeWarning: divide by zero encountered in log\n",
            "  p_of_y_given_x = np.log(p_of_y * p_of_x_given_y)\n",
            "Loading…: 100%|██████████████████████████| 126/126 [00:06<00:00, 18.37it/s]\n",
            "Loading…:  11%|███                        | 14/126 [00:00<00:04, 25.55it/s]<ipython-input-22-35bcd1737ba8>:60: RuntimeWarning: divide by zero encountered in log\n",
            "  p_of_y_given_x = np.log(p_of_y * p_of_x_given_y)\n",
            "Loading…: 100%|██████████████████████████| 126/126 [00:05<00:00, 23.94it/s]\n",
            "Loading…:  80%|████████████████████▊     | 101/126 [00:06<00:01, 24.83it/s]<ipython-input-22-35bcd1737ba8>:60: RuntimeWarning: divide by zero encountered in log\n",
            "  p_of_y_given_x = np.log(p_of_y * p_of_x_given_y)\n",
            "Loading…: 100%|██████████████████████████| 126/126 [00:07<00:00, 17.98it/s]\n",
            "Loading…:  13%|███▍                       | 16/126 [00:00<00:04, 25.69it/s]<ipython-input-22-35bcd1737ba8>:60: RuntimeWarning: divide by zero encountered in log\n",
            "  p_of_y_given_x = np.log(p_of_y * p_of_x_given_y)\n",
            "Loading…: 100%|██████████████████████████| 126/126 [00:05<00:00, 22.03it/s]\n",
            "Loading…:  98%|█████████████████████████▍| 123/126 [00:06<00:00, 21.49it/s]<ipython-input-22-35bcd1737ba8>:60: RuntimeWarning: divide by zero encountered in log\n",
            "  p_of_y_given_x = np.log(p_of_y * p_of_x_given_y)\n",
            "Loading…: 100%|██████████████████████████| 126/126 [00:06<00:00, 18.04it/s]\n",
            "Loading…:  85%|██████████████████████    | 107/126 [00:04<00:00, 24.37it/s]<ipython-input-22-35bcd1737ba8>:60: RuntimeWarning: divide by zero encountered in log\n",
            "  p_of_y_given_x = np.log(p_of_y * p_of_x_given_y)\n",
            "Loading…: 100%|██████████████████████████| 126/126 [00:05<00:00, 21.37it/s]\n",
            "Loading…: 100%|██████████████████████████| 126/126 [00:05<00:00, 22.01it/s]\n"
          ]
        },
        {
          "output_type": "stream",
          "name": "stdout",
          "text": [
            "Iteration: 146\n"
          ]
        },
        {
          "output_type": "stream",
          "name": "stderr",
          "text": [
            "Loading…: 100%|██████████████████████████| 126/126 [00:02<00:00, 58.79it/s]\n",
            "Loading…: 100%|██████████████████████████| 126/126 [00:02<00:00, 55.37it/s]\n",
            "Loading…:  94%|████████████████████████▌ | 119/126 [00:03<00:00, 32.61it/s]<ipython-input-22-35bcd1737ba8>:60: RuntimeWarning: divide by zero encountered in log\n",
            "  p_of_y_given_x = np.log(p_of_y * p_of_x_given_y)\n",
            "Loading…: 100%|██████████████████████████| 126/126 [00:04<00:00, 31.35it/s]\n",
            "Loading…: 100%|██████████████████████████| 126/126 [00:02<00:00, 59.71it/s]\n",
            "Loading…:  11%|███                        | 14/126 [00:00<00:01, 62.00it/s]<ipython-input-22-35bcd1737ba8>:60: RuntimeWarning: divide by zero encountered in log\n",
            "  p_of_y_given_x = np.log(p_of_y * p_of_x_given_y)\n",
            "Loading…: 100%|██████████████████████████| 126/126 [00:02<00:00, 56.58it/s]\n",
            "Loading…: 100%|██████████████████████████| 126/126 [00:03<00:00, 32.27it/s]\n",
            "Loading…:  15%|████                       | 19/126 [00:00<00:01, 56.40it/s]<ipython-input-22-35bcd1737ba8>:60: RuntimeWarning: divide by zero encountered in log\n",
            "  p_of_y_given_x = np.log(p_of_y * p_of_x_given_y)\n",
            "Loading…: 100%|██████████████████████████| 126/126 [00:03<00:00, 38.57it/s]\n",
            "Loading…: 100%|██████████████████████████| 126/126 [00:02<00:00, 42.21it/s]\n",
            "Loading…: 100%|██████████████████████████| 126/126 [00:02<00:00, 56.55it/s]\n",
            "Loading…: 100%|██████████████████████████| 126/126 [00:02<00:00, 56.26it/s]\n"
          ]
        },
        {
          "output_type": "stream",
          "name": "stdout",
          "text": [
            "Iteration: 147\n"
          ]
        },
        {
          "output_type": "stream",
          "name": "stderr",
          "text": [
            "Loading…: 100%|██████████████████████████| 126/126 [00:03<00:00, 41.30it/s]\n",
            "Loading…: 100%|██████████████████████████| 126/126 [00:05<00:00, 24.73it/s]\n",
            "Loading…:  95%|████████████████████████▊ | 120/126 [00:02<00:00, 40.51it/s]<ipython-input-22-35bcd1737ba8>:60: RuntimeWarning: divide by zero encountered in log\n",
            "  p_of_y_given_x = np.log(p_of_y * p_of_x_given_y)\n",
            "Loading…: 100%|██████████████████████████| 126/126 [00:03<00:00, 40.06it/s]\n",
            "Loading…: 100%|██████████████████████████| 126/126 [00:02<00:00, 42.08it/s]\n",
            "Loading…:  11%|███                        | 14/126 [00:00<00:02, 41.90it/s]<ipython-input-22-35bcd1737ba8>:60: RuntimeWarning: divide by zero encountered in log\n",
            "  p_of_y_given_x = np.log(p_of_y * p_of_x_given_y)\n",
            "Loading…: 100%|██████████████████████████| 126/126 [00:04<00:00, 28.77it/s]\n",
            "Loading…: 100%|██████████████████████████| 126/126 [00:03<00:00, 37.42it/s]\n",
            "Loading…:  14%|███▊                       | 18/126 [00:00<00:02, 42.73it/s]<ipython-input-22-35bcd1737ba8>:60: RuntimeWarning: divide by zero encountered in log\n",
            "  p_of_y_given_x = np.log(p_of_y * p_of_x_given_y)\n",
            "Loading…: 100%|██████████████████████████| 126/126 [00:03<00:00, 37.48it/s]\n",
            "Loading…:  54%|██████████████▌            | 68/126 [00:01<00:01, 36.30it/s]<ipython-input-22-35bcd1737ba8>:60: RuntimeWarning: divide by zero encountered in log\n",
            "  p_of_y_given_x = np.log(p_of_y * p_of_x_given_y)\n",
            "Loading…: 100%|██████████████████████████| 126/126 [00:03<00:00, 37.76it/s]\n",
            "Loading…: 100%|██████████████████████████| 126/126 [00:04<00:00, 27.27it/s]\n",
            "Loading…: 100%|██████████████████████████| 126/126 [00:03<00:00, 40.13it/s]\n"
          ]
        },
        {
          "output_type": "stream",
          "name": "stdout",
          "text": [
            "Iteration: 148\n"
          ]
        },
        {
          "output_type": "stream",
          "name": "stderr",
          "text": [
            "Loading…: 100%|██████████████████████████| 126/126 [00:03<00:00, 32.46it/s]\n",
            "Loading…:  11%|███                        | 14/126 [00:00<00:06, 16.98it/s]<ipython-input-22-35bcd1737ba8>:60: RuntimeWarning: divide by zero encountered in log\n",
            "  p_of_y_given_x = np.log(p_of_y * p_of_x_given_y)\n",
            "Loading…: 100%|██████████████████████████| 126/126 [00:05<00:00, 21.96it/s]\n",
            "Loading…:  94%|████████████████████████▌ | 119/126 [00:03<00:00, 32.83it/s]<ipython-input-22-35bcd1737ba8>:60: RuntimeWarning: divide by zero encountered in log\n",
            "  p_of_y_given_x = np.log(p_of_y * p_of_x_given_y)\n",
            "Loading…: 100%|██████████████████████████| 126/126 [00:03<00:00, 32.15it/s]\n",
            "Loading…:  10%|██▊                        | 13/126 [00:00<00:02, 40.41it/s]<ipython-input-22-35bcd1737ba8>:60: RuntimeWarning: divide by zero encountered in log\n",
            "  p_of_y_given_x = np.log(p_of_y * p_of_x_given_y)\n",
            "Loading…: 100%|██████████████████████████| 126/126 [00:05<00:00, 24.63it/s]\n",
            "Loading…:  10%|██▊                        | 13/126 [00:00<00:02, 37.74it/s]<ipython-input-22-35bcd1737ba8>:60: RuntimeWarning: divide by zero encountered in log\n",
            "  p_of_y_given_x = np.log(p_of_y * p_of_x_given_y)\n",
            "Loading…: 100%|██████████████████████████| 126/126 [00:03<00:00, 31.84it/s]\n",
            "Loading…:  79%|█████████████████████▏     | 99/126 [00:03<00:00, 34.31it/s]<ipython-input-22-35bcd1737ba8>:60: RuntimeWarning: divide by zero encountered in log\n",
            "  p_of_y_given_x = np.log(p_of_y * p_of_x_given_y)\n",
            "Loading…: 100%|██████████████████████████| 126/126 [00:03<00:00, 32.44it/s]\n",
            "Loading…:  13%|███▍                       | 16/126 [00:00<00:03, 34.20it/s]<ipython-input-22-35bcd1737ba8>:60: RuntimeWarning: divide by zero encountered in log\n",
            "  p_of_y_given_x = np.log(p_of_y * p_of_x_given_y)\n",
            "Loading…: 100%|██████████████████████████| 126/126 [00:06<00:00, 20.76it/s]\n",
            "Loading…:  56%|███████████████            | 70/126 [00:02<00:01, 28.62it/s]<ipython-input-22-35bcd1737ba8>:60: RuntimeWarning: divide by zero encountered in log\n",
            "  p_of_y_given_x = np.log(p_of_y * p_of_x_given_y)\n",
            "Loading…: 100%|██████████████████████████| 126/126 [00:04<00:00, 30.64it/s]\n",
            "Loading…:  85%|██████████████████████    | 107/126 [00:03<00:00, 25.97it/s]<ipython-input-22-35bcd1737ba8>:60: RuntimeWarning: divide by zero encountered in log\n",
            "  p_of_y_given_x = np.log(p_of_y * p_of_x_given_y)\n",
            "Loading…: 100%|██████████████████████████| 126/126 [00:04<00:00, 26.49it/s]\n",
            "Loading…: 100%|██████████████████████████| 126/126 [00:06<00:00, 20.94it/s]\n"
          ]
        },
        {
          "output_type": "stream",
          "name": "stdout",
          "text": [
            "Iteration: 149\n"
          ]
        },
        {
          "output_type": "stream",
          "name": "stderr",
          "text": [
            "Loading…: 100%|██████████████████████████| 126/126 [00:05<00:00, 24.53it/s]\n",
            "Loading…:  11%|███                        | 14/126 [00:00<00:06, 17.97it/s]<ipython-input-22-35bcd1737ba8>:60: RuntimeWarning: divide by zero encountered in log\n",
            "  p_of_y_given_x = np.log(p_of_y * p_of_x_given_y)\n",
            "Loading…: 100%|██████████████████████████| 126/126 [00:05<00:00, 23.20it/s]\n",
            "Loading…:  95%|████████████████████████▊ | 120/126 [00:04<00:00, 22.36it/s]<ipython-input-22-35bcd1737ba8>:60: RuntimeWarning: divide by zero encountered in log\n",
            "  p_of_y_given_x = np.log(p_of_y * p_of_x_given_y)\n",
            "Loading…: 100%|██████████████████████████| 126/126 [00:05<00:00, 24.80it/s]\n",
            "Loading…:  11%|███                        | 14/126 [00:00<00:05, 19.14it/s]<ipython-input-22-35bcd1737ba8>:60: RuntimeWarning: divide by zero encountered in log\n",
            "  p_of_y_given_x = np.log(p_of_y * p_of_x_given_y)\n",
            "Loading…: 100%|██████████████████████████| 126/126 [00:05<00:00, 24.84it/s]\n",
            "Loading…:  11%|███                        | 14/126 [00:00<00:04, 27.56it/s]<ipython-input-22-35bcd1737ba8>:60: RuntimeWarning: divide by zero encountered in log\n",
            "  p_of_y_given_x = np.log(p_of_y * p_of_x_given_y)\n",
            "Loading…: 100%|██████████████████████████| 126/126 [00:04<00:00, 26.56it/s]\n",
            "Loading…:  80%|████████████████████▊     | 101/126 [00:05<00:00, 28.91it/s]<ipython-input-22-35bcd1737ba8>:60: RuntimeWarning: divide by zero encountered in log\n",
            "  p_of_y_given_x = np.log(p_of_y * p_of_x_given_y)\n",
            "Loading…: 100%|██████████████████████████| 126/126 [00:05<00:00, 21.10it/s]\n",
            "Loading…:  13%|███▍                       | 16/126 [00:00<00:03, 29.60it/s]<ipython-input-22-35bcd1737ba8>:60: RuntimeWarning: divide by zero encountered in log\n",
            "  p_of_y_given_x = np.log(p_of_y * p_of_x_given_y)\n",
            "Loading…: 100%|██████████████████████████| 126/126 [00:05<00:00, 25.06it/s]\n",
            "Loading…:  56%|███████████████▏           | 71/126 [00:04<00:02, 22.63it/s]<ipython-input-22-35bcd1737ba8>:60: RuntimeWarning: divide by zero encountered in log\n",
            "  p_of_y_given_x = np.log(p_of_y * p_of_x_given_y)\n",
            "Loading…: 100%|██████████████████████████| 126/126 [00:06<00:00, 19.02it/s]\n",
            "Loading…:  84%|█████████████████████▊    | 106/126 [00:04<00:00, 26.67it/s]<ipython-input-22-35bcd1737ba8>:60: RuntimeWarning: divide by zero encountered in log\n",
            "  p_of_y_given_x = np.log(p_of_y * p_of_x_given_y)\n",
            "Loading…: 100%|██████████████████████████| 126/126 [00:04<00:00, 25.60it/s]\n",
            "Loading…: 100%|██████████████████████████| 126/126 [00:06<00:00, 19.04it/s]\n"
          ]
        },
        {
          "output_type": "stream",
          "name": "stdout",
          "text": [
            "Iteration: 150\n"
          ]
        },
        {
          "output_type": "stream",
          "name": "stderr",
          "text": [
            "Loading…: 100%|██████████████████████████| 126/126 [00:05<00:00, 23.59it/s]\n",
            "Loading…:  11%|███                        | 14/126 [00:01<00:09, 11.52it/s]<ipython-input-22-35bcd1737ba8>:60: RuntimeWarning: divide by zero encountered in log\n",
            "  p_of_y_given_x = np.log(p_of_y * p_of_x_given_y)\n",
            "Loading…: 100%|██████████████████████████| 126/126 [00:07<00:00, 17.11it/s]\n",
            "Loading…:  96%|████████████████████████▉ | 121/126 [00:05<00:00, 13.20it/s]<ipython-input-22-35bcd1737ba8>:60: RuntimeWarning: divide by zero encountered in log\n",
            "  p_of_y_given_x = np.log(p_of_y * p_of_x_given_y)\n",
            "Loading…: 100%|██████████████████████████| 126/126 [00:06<00:00, 19.45it/s]\n",
            "Loading…:  12%|███▏                       | 15/126 [00:00<00:04, 27.04it/s]<ipython-input-22-35bcd1737ba8>:60: RuntimeWarning: divide by zero encountered in log\n",
            "  p_of_y_given_x = np.log(p_of_y * p_of_x_given_y)\n",
            "Loading…: 100%|██████████████████████████| 126/126 [00:05<00:00, 24.58it/s]\n",
            "Loading…:  10%|██▌                        | 12/126 [00:00<00:04, 26.54it/s]<ipython-input-22-35bcd1737ba8>:60: RuntimeWarning: divide by zero encountered in log\n",
            "  p_of_y_given_x = np.log(p_of_y * p_of_x_given_y)\n",
            "Loading…: 100%|██████████████████████████| 126/126 [00:07<00:00, 16.87it/s]\n",
            "Loading…:  80%|████████████████████▊     | 101/126 [00:04<00:00, 25.11it/s]<ipython-input-22-35bcd1737ba8>:60: RuntimeWarning: divide by zero encountered in log\n",
            "  p_of_y_given_x = np.log(p_of_y * p_of_x_given_y)\n",
            "Loading…: 100%|██████████████████████████| 126/126 [00:05<00:00, 21.90it/s]\n",
            "Loading…:  15%|████                       | 19/126 [00:00<00:04, 21.81it/s]<ipython-input-22-35bcd1737ba8>:60: RuntimeWarning: divide by zero encountered in log\n",
            "  p_of_y_given_x = np.log(p_of_y * p_of_x_given_y)\n",
            "Loading…: 100%|██████████████████████████| 126/126 [00:07<00:00, 16.35it/s]\n",
            "Loading…:  56%|███████████████▏           | 71/126 [00:03<00:02, 21.08it/s]<ipython-input-22-35bcd1737ba8>:60: RuntimeWarning: divide by zero encountered in log\n",
            "  p_of_y_given_x = np.log(p_of_y * p_of_x_given_y)\n",
            "Loading…: 100%|██████████████████████████| 126/126 [00:06<00:00, 20.97it/s]\n",
            "Loading…:  86%|██████████████████████▎   | 108/126 [00:05<00:00, 23.67it/s]<ipython-input-22-35bcd1737ba8>:60: RuntimeWarning: divide by zero encountered in log\n",
            "  p_of_y_given_x = np.log(p_of_y * p_of_x_given_y)\n",
            "Loading…: 100%|██████████████████████████| 126/126 [00:06<00:00, 20.27it/s]\n",
            "Loading…: 100%|██████████████████████████| 126/126 [00:07<00:00, 16.68it/s]\n"
          ]
        },
        {
          "output_type": "stream",
          "name": "stdout",
          "text": [
            "Iteration: 151\n"
          ]
        },
        {
          "output_type": "stream",
          "name": "stderr",
          "text": [
            "Loading…: 100%|██████████████████████████| 126/126 [00:03<00:00, 36.86it/s]\n",
            "Loading…:  40%|██████████▉                | 51/126 [00:01<00:01, 37.63it/s]<ipython-input-22-35bcd1737ba8>:60: RuntimeWarning: divide by zero encountered in log\n",
            "  p_of_y_given_x = np.log(p_of_y * p_of_x_given_y)\n",
            "Loading…: 100%|██████████████████████████| 126/126 [00:03<00:00, 36.80it/s]\n",
            "Loading…:  97%|█████████████████████████▏| 122/126 [00:03<00:00, 21.66it/s]<ipython-input-22-35bcd1737ba8>:60: RuntimeWarning: divide by zero encountered in log\n",
            "  p_of_y_given_x = np.log(p_of_y * p_of_x_given_y)\n",
            "Loading…: 100%|██████████████████████████| 126/126 [00:03<00:00, 32.35it/s]\n",
            "Loading…: 100%|██████████████████████████| 126/126 [00:04<00:00, 28.75it/s]\n",
            "Loading…:  10%|██▊                        | 13/126 [00:00<00:02, 42.86it/s]<ipython-input-22-35bcd1737ba8>:60: RuntimeWarning: divide by zero encountered in log\n",
            "  p_of_y_given_x = np.log(p_of_y * p_of_x_given_y)\n",
            "Loading…: 100%|██████████████████████████| 126/126 [00:03<00:00, 37.80it/s]\n",
            "Loading…: 100%|██████████████████████████| 126/126 [00:03<00:00, 37.99it/s]\n",
            "Loading…:  14%|███▊                       | 18/126 [00:00<00:02, 40.19it/s]<ipython-input-22-35bcd1737ba8>:60: RuntimeWarning: divide by zero encountered in log\n",
            "  p_of_y_given_x = np.log(p_of_y * p_of_x_given_y)\n",
            "Loading…: 100%|██████████████████████████| 126/126 [00:05<00:00, 24.28it/s]\n",
            "Loading…: 100%|██████████████████████████| 126/126 [00:03<00:00, 36.97it/s]\n",
            "Loading…: 100%|██████████████████████████| 126/126 [00:03<00:00, 37.16it/s]\n",
            "Loading…:   8%|██▏                        | 10/126 [00:00<00:02, 40.33it/s]<ipython-input-22-35bcd1737ba8>:60: RuntimeWarning: divide by zero encountered in log\n",
            "  p_of_y_given_x = np.log(p_of_y * p_of_x_given_y)\n",
            "Loading…: 100%|██████████████████████████| 126/126 [00:03<00:00, 33.90it/s]\n"
          ]
        },
        {
          "output_type": "stream",
          "name": "stdout",
          "text": [
            "Iteration: 152\n"
          ]
        },
        {
          "output_type": "stream",
          "name": "stderr",
          "text": [
            "Loading…: 100%|██████████████████████████| 126/126 [00:05<00:00, 22.71it/s]\n",
            "Loading…:  42%|███████████▎               | 53/126 [00:02<00:02, 25.76it/s]<ipython-input-22-35bcd1737ba8>:60: RuntimeWarning: divide by zero encountered in log\n",
            "  p_of_y_given_x = np.log(p_of_y * p_of_x_given_y)\n",
            "Loading…: 100%|██████████████████████████| 126/126 [00:04<00:00, 25.56it/s]\n",
            "Loading…:  72%|███████████████████▌       | 91/126 [00:04<00:02, 15.05it/s]<ipython-input-22-35bcd1737ba8>:60: RuntimeWarning: divide by zero encountered in log\n",
            "  p_of_y_given_x = np.log(p_of_y * p_of_x_given_y)\n",
            "Loading…: 100%|██████████████████████████| 126/126 [00:06<00:00, 19.70it/s]\n",
            "Loading…: 100%|██████████████████████████| 126/126 [00:04<00:00, 28.61it/s]\n",
            "Loading…:  10%|██▊                        | 13/126 [00:00<00:03, 28.68it/s]<ipython-input-22-35bcd1737ba8>:60: RuntimeWarning: divide by zero encountered in log\n",
            "  p_of_y_given_x = np.log(p_of_y * p_of_x_given_y)\n",
            "Loading…: 100%|██████████████████████████| 126/126 [00:06<00:00, 20.23it/s]\n",
            "Loading…: 100%|██████████████████████████| 126/126 [00:06<00:00, 20.25it/s]\n",
            "Loading…:  13%|███▍                       | 16/126 [00:00<00:03, 29.35it/s]<ipython-input-22-35bcd1737ba8>:60: RuntimeWarning: divide by zero encountered in log\n",
            "  p_of_y_given_x = np.log(p_of_y * p_of_x_given_y)\n",
            "Loading…: 100%|██████████████████████████| 126/126 [00:04<00:00, 25.94it/s]\n",
            "Loading…:  57%|███████████████▍           | 72/126 [00:03<00:03, 14.80it/s]<ipython-input-22-35bcd1737ba8>:60: RuntimeWarning: divide by zero encountered in log\n",
            "  p_of_y_given_x = np.log(p_of_y * p_of_x_given_y)\n",
            "Loading…: 100%|██████████████████████████| 126/126 [00:06<00:00, 19.21it/s]\n",
            "Loading…:  58%|███████████████▋           | 73/126 [00:02<00:01, 28.64it/s]<ipython-input-22-35bcd1737ba8>:60: RuntimeWarning: divide by zero encountered in log\n",
            "  p_of_y_given_x = np.log(p_of_y * p_of_x_given_y)\n",
            "Loading…: 100%|██████████████████████████| 126/126 [00:04<00:00, 26.30it/s]\n",
            "Loading…:   8%|██▏                        | 10/126 [00:00<00:04, 28.07it/s]<ipython-input-22-35bcd1737ba8>:60: RuntimeWarning: divide by zero encountered in log\n",
            "  p_of_y_given_x = np.log(p_of_y * p_of_x_given_y)\n",
            "Loading…: 100%|██████████████████████████| 126/126 [00:05<00:00, 21.53it/s]\n"
          ]
        },
        {
          "output_type": "stream",
          "name": "stdout",
          "text": [
            "Iteration: 153\n"
          ]
        },
        {
          "output_type": "stream",
          "name": "stderr",
          "text": [
            "Loading…: 100%|██████████████████████████| 126/126 [00:05<00:00, 21.98it/s]\n",
            "Loading…:  11%|███                        | 14/126 [00:00<00:05, 20.72it/s]<ipython-input-22-35bcd1737ba8>:60: RuntimeWarning: divide by zero encountered in log\n",
            "  p_of_y_given_x = np.log(p_of_y * p_of_x_given_y)\n",
            "Loading…: 100%|██████████████████████████| 126/126 [00:07<00:00, 15.78it/s]\n",
            "Loading…:  72%|███████████████████▌       | 91/126 [00:04<00:01, 20.85it/s]<ipython-input-22-35bcd1737ba8>:60: RuntimeWarning: divide by zero encountered in log\n",
            "  p_of_y_given_x = np.log(p_of_y * p_of_x_given_y)\n",
            "Loading…: 100%|██████████████████████████| 126/126 [00:05<00:00, 21.32it/s]\n",
            "Loading…:  12%|███▏                       | 15/126 [00:00<00:04, 25.85it/s]<ipython-input-22-35bcd1737ba8>:60: RuntimeWarning: divide by zero encountered in log\n",
            "  p_of_y_given_x = np.log(p_of_y * p_of_x_given_y)\n",
            "Loading…: 100%|██████████████████████████| 126/126 [00:07<00:00, 17.41it/s]\n",
            "Loading…:  10%|██▌                        | 12/126 [00:00<00:04, 24.60it/s]<ipython-input-22-35bcd1737ba8>:60: RuntimeWarning: divide by zero encountered in log\n",
            "  p_of_y_given_x = np.log(p_of_y * p_of_x_given_y)\n",
            "Loading…: 100%|██████████████████████████| 126/126 [00:05<00:00, 21.16it/s]\n",
            "Loading…:  79%|█████████████████████▏     | 99/126 [00:06<00:01, 18.23it/s]<ipython-input-22-35bcd1737ba8>:60: RuntimeWarning: divide by zero encountered in log\n",
            "  p_of_y_given_x = np.log(p_of_y * p_of_x_given_y)\n",
            "Loading…: 100%|██████████████████████████| 126/126 [00:07<00:00, 16.82it/s]\n",
            "Loading…:  14%|███▊                       | 18/126 [00:00<00:04, 23.88it/s]<ipython-input-22-35bcd1737ba8>:60: RuntimeWarning: divide by zero encountered in log\n",
            "  p_of_y_given_x = np.log(p_of_y * p_of_x_given_y)\n",
            "Loading…: 100%|██████████████████████████| 126/126 [00:06<00:00, 20.02it/s]\n",
            "Loading…:  56%|███████████████            | 70/126 [00:05<00:03, 15.35it/s]<ipython-input-22-35bcd1737ba8>:60: RuntimeWarning: divide by zero encountered in log\n",
            "  p_of_y_given_x = np.log(p_of_y * p_of_x_given_y)\n",
            "Loading…: 100%|██████████████████████████| 126/126 [00:07<00:00, 16.02it/s]\n",
            "Loading…:  59%|███████████████▊           | 74/126 [00:03<00:02, 22.21it/s]<ipython-input-22-35bcd1737ba8>:60: RuntimeWarning: divide by zero encountered in log\n",
            "  p_of_y_given_x = np.log(p_of_y * p_of_x_given_y)\n",
            "Loading…: 100%|██████████████████████████| 126/126 [00:06<00:00, 20.42it/s]\n",
            "Loading…:   8%|██▏                        | 10/126 [00:00<00:09, 12.46it/s]<ipython-input-22-35bcd1737ba8>:60: RuntimeWarning: divide by zero encountered in log\n",
            "  p_of_y_given_x = np.log(p_of_y * p_of_x_given_y)\n",
            "Loading…: 100%|██████████████████████████| 126/126 [00:08<00:00, 14.70it/s]\n"
          ]
        },
        {
          "output_type": "stream",
          "name": "stdout",
          "text": [
            "Iteration: 154\n"
          ]
        },
        {
          "output_type": "stream",
          "name": "stderr",
          "text": [
            "Loading…: 100%|██████████████████████████| 126/126 [00:08<00:00, 14.63it/s]\n",
            "Loading…:  12%|███▏                       | 15/126 [00:00<00:06, 17.25it/s]<ipython-input-22-35bcd1737ba8>:60: RuntimeWarning: divide by zero encountered in log\n",
            "  p_of_y_given_x = np.log(p_of_y * p_of_x_given_y)\n",
            "Loading…: 100%|██████████████████████████| 126/126 [00:07<00:00, 15.84it/s]\n",
            "Loading…:  71%|███████████████████        | 89/126 [00:05<00:02, 16.60it/s]<ipython-input-22-35bcd1737ba8>:60: RuntimeWarning: divide by zero encountered in log\n",
            "  p_of_y_given_x = np.log(p_of_y * p_of_x_given_y)\n",
            "Loading…: 100%|██████████████████████████| 126/126 [00:07<00:00, 15.97it/s]\n",
            "Loading…:  11%|███                        | 14/126 [00:00<00:04, 22.61it/s]<ipython-input-22-35bcd1737ba8>:60: RuntimeWarning: divide by zero encountered in log\n",
            "  p_of_y_given_x = np.log(p_of_y * p_of_x_given_y)\n",
            "Loading…: 100%|██████████████████████████| 126/126 [00:08<00:00, 15.04it/s]\n",
            "Loading…:  10%|██▌                        | 12/126 [00:00<00:05, 20.66it/s]<ipython-input-22-35bcd1737ba8>:60: RuntimeWarning: divide by zero encountered in log\n",
            "  p_of_y_given_x = np.log(p_of_y * p_of_x_given_y)\n",
            "Loading…: 100%|██████████████████████████| 126/126 [00:07<00:00, 17.44it/s]\n",
            "Loading…:  80%|████████████████████▊     | 101/126 [00:06<00:01, 19.29it/s]<ipython-input-22-35bcd1737ba8>:60: RuntimeWarning: divide by zero encountered in log\n",
            "  p_of_y_given_x = np.log(p_of_y * p_of_x_given_y)\n",
            "Loading…: 100%|██████████████████████████| 126/126 [00:08<00:00, 15.64it/s]\n",
            "Loading…:  15%|████                       | 19/126 [00:01<00:05, 20.47it/s]<ipython-input-22-35bcd1737ba8>:60: RuntimeWarning: divide by zero encountered in log\n",
            "  p_of_y_given_x = np.log(p_of_y * p_of_x_given_y)\n",
            "Loading…: 100%|██████████████████████████| 126/126 [00:09<00:00, 13.12it/s]\n",
            "Loading…:  56%|███████████████            | 70/126 [00:04<00:03, 15.97it/s]<ipython-input-22-35bcd1737ba8>:60: RuntimeWarning: divide by zero encountered in log\n",
            "  p_of_y_given_x = np.log(p_of_y * p_of_x_given_y)\n",
            "Loading…: 100%|██████████████████████████| 126/126 [00:08<00:00, 15.71it/s]\n",
            "Loading…:  60%|████████████████           | 75/126 [00:04<00:02, 18.46it/s]<ipython-input-22-35bcd1737ba8>:60: RuntimeWarning: divide by zero encountered in log\n",
            "  p_of_y_given_x = np.log(p_of_y * p_of_x_given_y)\n",
            "Loading…: 100%|██████████████████████████| 126/126 [00:07<00:00, 15.81it/s]\n",
            "Loading…:   7%|██                          | 9/126 [00:00<00:06, 18.51it/s]<ipython-input-22-35bcd1737ba8>:60: RuntimeWarning: divide by zero encountered in log\n",
            "  p_of_y_given_x = np.log(p_of_y * p_of_x_given_y)\n",
            "Loading…: 100%|██████████████████████████| 126/126 [00:09<00:00, 13.99it/s]\n"
          ]
        },
        {
          "output_type": "stream",
          "name": "stdout",
          "text": [
            "Iteration: 155\n"
          ]
        },
        {
          "output_type": "stream",
          "name": "stderr",
          "text": [
            "Loading…: 100%|██████████████████████████| 126/126 [00:09<00:00, 12.91it/s]\n",
            "Loading…:  11%|███                        | 14/126 [00:01<00:08, 13.26it/s]<ipython-input-22-35bcd1737ba8>:60: RuntimeWarning: divide by zero encountered in log\n",
            "  p_of_y_given_x = np.log(p_of_y * p_of_x_given_y)\n",
            "Loading…: 100%|██████████████████████████| 126/126 [00:09<00:00, 13.27it/s]\n",
            "Loading…:  71%|███████████████████        | 89/126 [00:06<00:02, 13.57it/s]<ipython-input-22-35bcd1737ba8>:60: RuntimeWarning: divide by zero encountered in log\n",
            "  p_of_y_given_x = np.log(p_of_y * p_of_x_given_y)\n",
            "Loading…: 100%|██████████████████████████| 126/126 [00:08<00:00, 14.23it/s]\n",
            "Loading…:  10%|██▊                        | 13/126 [00:00<00:05, 20.54it/s]<ipython-input-22-35bcd1737ba8>:60: RuntimeWarning: divide by zero encountered in log\n",
            "  p_of_y_given_x = np.log(p_of_y * p_of_x_given_y)\n",
            "Loading…: 100%|██████████████████████████| 126/126 [00:09<00:00, 13.31it/s]\n",
            "Loading…:  10%|██▊                        | 13/126 [00:00<00:06, 18.25it/s]<ipython-input-22-35bcd1737ba8>:60: RuntimeWarning: divide by zero encountered in log\n",
            "  p_of_y_given_x = np.log(p_of_y * p_of_x_given_y)\n",
            "Loading…: 100%|██████████████████████████| 126/126 [00:09<00:00, 12.75it/s]\n",
            "Loading…:  80%|████████████████████▊     | 101/126 [00:06<00:01, 16.26it/s]<ipython-input-22-35bcd1737ba8>:60: RuntimeWarning: divide by zero encountered in log\n",
            "  p_of_y_given_x = np.log(p_of_y * p_of_x_given_y)\n",
            "Loading…: 100%|██████████████████████████| 126/126 [00:08<00:00, 14.02it/s]\n",
            "Loading…:  15%|████                       | 19/126 [00:01<00:05, 18.56it/s]<ipython-input-22-35bcd1737ba8>:60: RuntimeWarning: divide by zero encountered in log\n",
            "  p_of_y_given_x = np.log(p_of_y * p_of_x_given_y)\n",
            "Loading…: 100%|██████████████████████████| 126/126 [00:08<00:00, 14.60it/s]\n",
            "Loading…:  56%|███████████████▏           | 71/126 [00:06<00:03, 14.86it/s]<ipython-input-22-35bcd1737ba8>:60: RuntimeWarning: divide by zero encountered in log\n",
            "  p_of_y_given_x = np.log(p_of_y * p_of_x_given_y)\n",
            "Loading…: 100%|██████████████████████████| 126/126 [00:10<00:00, 12.58it/s]\n",
            "Loading…:  85%|██████████████████████    | 107/126 [00:08<00:01, 16.32it/s]<ipython-input-22-35bcd1737ba8>:60: RuntimeWarning: divide by zero encountered in log\n",
            "  p_of_y_given_x = np.log(p_of_y * p_of_x_given_y)\n",
            "Loading…: 100%|██████████████████████████| 126/126 [00:10<00:00, 12.28it/s]\n",
            "Loading…:   8%|██▏                        | 10/126 [00:00<00:07, 15.82it/s]<ipython-input-22-35bcd1737ba8>:60: RuntimeWarning: divide by zero encountered in log\n",
            "  p_of_y_given_x = np.log(p_of_y * p_of_x_given_y)\n",
            "Loading…: 100%|██████████████████████████| 126/126 [00:10<00:00, 12.42it/s]\n"
          ]
        },
        {
          "output_type": "stream",
          "name": "stdout",
          "text": [
            "Iteration: 156\n"
          ]
        },
        {
          "output_type": "stream",
          "name": "stderr",
          "text": [
            "Loading…: 100%|██████████████████████████| 126/126 [00:03<00:00, 37.80it/s]\n",
            "Loading…:  43%|███████████▌               | 54/126 [00:01<00:02, 35.31it/s]<ipython-input-22-35bcd1737ba8>:60: RuntimeWarning: divide by zero encountered in log\n",
            "  p_of_y_given_x = np.log(p_of_y * p_of_x_given_y)\n",
            "Loading…: 100%|██████████████████████████| 126/126 [00:04<00:00, 25.22it/s]\n",
            "Loading…:  94%|████████████████████████▌ | 119/126 [00:05<00:00, 37.31it/s]<ipython-input-22-35bcd1737ba8>:60: RuntimeWarning: divide by zero encountered in log\n",
            "  p_of_y_given_x = np.log(p_of_y * p_of_x_given_y)\n",
            "Loading…: 100%|██████████████████████████| 126/126 [00:05<00:00, 23.41it/s]\n",
            "Loading…: 100%|██████████████████████████| 126/126 [00:03<00:00, 39.30it/s]\n",
            "Loading…:  10%|██▊                        | 13/126 [00:00<00:02, 40.68it/s]<ipython-input-22-35bcd1737ba8>:60: RuntimeWarning: divide by zero encountered in log\n",
            "  p_of_y_given_x = np.log(p_of_y * p_of_x_given_y)\n",
            "Loading…: 100%|██████████████████████████| 126/126 [00:03<00:00, 36.94it/s]\n",
            "Loading…: 100%|██████████████████████████| 126/126 [00:04<00:00, 27.23it/s]\n",
            "Loading…:  13%|███▋                       | 17/126 [00:00<00:05, 21.74it/s]<ipython-input-22-35bcd1737ba8>:60: RuntimeWarning: divide by zero encountered in log\n",
            "  p_of_y_given_x = np.log(p_of_y * p_of_x_given_y)\n",
            "Loading…: 100%|██████████████████████████| 126/126 [00:04<00:00, 31.49it/s]\n",
            "Loading…: 100%|██████████████████████████| 126/126 [00:03<00:00, 36.31it/s]\n",
            "Loading…: 100%|██████████████████████████| 126/126 [00:03<00:00, 32.51it/s]\n",
            "Loading…:   7%|██                          | 9/126 [00:00<00:05, 20.81it/s]<ipython-input-22-35bcd1737ba8>:60: RuntimeWarning: divide by zero encountered in log\n",
            "  p_of_y_given_x = np.log(p_of_y * p_of_x_given_y)\n",
            "Loading…: 100%|██████████████████████████| 126/126 [00:04<00:00, 25.25it/s]\n"
          ]
        },
        {
          "output_type": "stream",
          "name": "stdout",
          "text": [
            "Iteration: 157\n"
          ]
        },
        {
          "output_type": "stream",
          "name": "stderr",
          "text": [
            "Loading…: 100%|██████████████████████████| 126/126 [00:04<00:00, 26.95it/s]\n",
            "Loading…:  41%|███████████▏               | 52/126 [00:02<00:02, 24.77it/s]<ipython-input-22-35bcd1737ba8>:60: RuntimeWarning: divide by zero encountered in log\n",
            "  p_of_y_given_x = np.log(p_of_y * p_of_x_given_y)\n",
            "Loading…: 100%|██████████████████████████| 126/126 [00:06<00:00, 18.02it/s]\n",
            "Loading…:  71%|███████████████████        | 89/126 [00:03<00:01, 24.85it/s]<ipython-input-22-35bcd1737ba8>:60: RuntimeWarning: divide by zero encountered in log\n",
            "  p_of_y_given_x = np.log(p_of_y * p_of_x_given_y)\n",
            "Loading…: 100%|██████████████████████████| 126/126 [00:04<00:00, 26.12it/s]\n",
            "Loading…: 100%|██████████████████████████| 126/126 [00:04<00:00, 25.25it/s]\n",
            "Loading…:  11%|███                        | 14/126 [00:00<00:07, 14.90it/s]<ipython-input-22-35bcd1737ba8>:60: RuntimeWarning: divide by zero encountered in log\n",
            "  p_of_y_given_x = np.log(p_of_y * p_of_x_given_y)\n",
            "Loading…: 100%|██████████████████████████| 126/126 [00:06<00:00, 20.69it/s]\n",
            "Loading…: 100%|██████████████████████████| 126/126 [00:04<00:00, 26.97it/s]\n",
            "Loading…:  13%|███▍                       | 16/126 [00:00<00:03, 28.48it/s]<ipython-input-22-35bcd1737ba8>:60: RuntimeWarning: divide by zero encountered in log\n",
            "  p_of_y_given_x = np.log(p_of_y * p_of_x_given_y)\n",
            "Loading…: 100%|██████████████████████████| 126/126 [00:06<00:00, 18.21it/s]\n",
            "Loading…:  56%|███████████████▏           | 71/126 [00:02<00:02, 22.88it/s]<ipython-input-22-35bcd1737ba8>:60: RuntimeWarning: divide by zero encountered in log\n",
            "  p_of_y_given_x = np.log(p_of_y * p_of_x_given_y)\n",
            "Loading…: 100%|██████████████████████████| 126/126 [00:05<00:00, 25.02it/s]\n",
            "Loading…:  60%|████████████████           | 75/126 [00:03<00:03, 16.73it/s]<ipython-input-22-35bcd1737ba8>:60: RuntimeWarning: divide by zero encountered in log\n",
            "  p_of_y_given_x = np.log(p_of_y * p_of_x_given_y)\n",
            "Loading…: 100%|██████████████████████████| 126/126 [00:06<00:00, 18.55it/s]\n",
            "Loading…:   6%|█▊                          | 8/126 [00:00<00:04, 26.44it/s]<ipython-input-22-35bcd1737ba8>:60: RuntimeWarning: divide by zero encountered in log\n",
            "  p_of_y_given_x = np.log(p_of_y * p_of_x_given_y)\n",
            "Loading…: 100%|██████████████████████████| 126/126 [00:05<00:00, 25.08it/s]\n"
          ]
        },
        {
          "output_type": "stream",
          "name": "stdout",
          "text": [
            "Iteration: 158\n"
          ]
        },
        {
          "output_type": "stream",
          "name": "stderr",
          "text": [
            "Loading…: 100%|██████████████████████████| 126/126 [00:07<00:00, 16.39it/s]\n",
            "Loading…:  11%|███                        | 14/126 [00:01<00:11, 10.16it/s]<ipython-input-22-35bcd1737ba8>:60: RuntimeWarning: divide by zero encountered in log\n",
            "  p_of_y_given_x = np.log(p_of_y * p_of_x_given_y)\n",
            "Loading…: 100%|██████████████████████████| 126/126 [00:08<00:00, 15.21it/s]\n",
            "Loading…:  71%|███████████████████▎       | 90/126 [00:05<00:01, 20.37it/s]<ipython-input-22-35bcd1737ba8>:60: RuntimeWarning: divide by zero encountered in log\n",
            "  p_of_y_given_x = np.log(p_of_y * p_of_x_given_y)\n",
            "Loading…: 100%|██████████████████████████| 126/126 [00:07<00:00, 16.02it/s]\n",
            "Loading…:  12%|███▏                       | 15/126 [00:00<00:04, 22.24it/s]<ipython-input-22-35bcd1737ba8>:60: RuntimeWarning: divide by zero encountered in log\n",
            "  p_of_y_given_x = np.log(p_of_y * p_of_x_given_y)\n",
            "Loading…: 100%|██████████████████████████| 126/126 [00:06<00:00, 20.88it/s]\n",
            "Loading…:  10%|██▊                        | 13/126 [00:01<00:08, 13.94it/s]<ipython-input-22-35bcd1737ba8>:60: RuntimeWarning: divide by zero encountered in log\n",
            "  p_of_y_given_x = np.log(p_of_y * p_of_x_given_y)\n",
            "Loading…: 100%|██████████████████████████| 126/126 [00:07<00:00, 17.78it/s]\n",
            "Loading…:  80%|████████████████████▊     | 101/126 [00:05<00:01, 13.01it/s]<ipython-input-22-35bcd1737ba8>:60: RuntimeWarning: divide by zero encountered in log\n",
            "  p_of_y_given_x = np.log(p_of_y * p_of_x_given_y)\n",
            "Loading…: 100%|██████████████████████████| 126/126 [00:07<00:00, 17.22it/s]\n",
            "Loading…:  14%|███▊                       | 18/126 [00:00<00:04, 24.30it/s]<ipython-input-22-35bcd1737ba8>:60: RuntimeWarning: divide by zero encountered in log\n",
            "  p_of_y_given_x = np.log(p_of_y * p_of_x_given_y)\n",
            "Loading…: 100%|██████████████████████████| 126/126 [00:06<00:00, 19.74it/s]\n",
            "Loading…:  57%|███████████████▍           | 72/126 [00:04<00:04, 12.67it/s]<ipython-input-22-35bcd1737ba8>:60: RuntimeWarning: divide by zero encountered in log\n",
            "  p_of_y_given_x = np.log(p_of_y * p_of_x_given_y)\n",
            "Loading…: 100%|██████████████████████████| 126/126 [00:07<00:00, 15.78it/s]\n",
            "Loading…:  84%|█████████████████████▊    | 106/126 [00:05<00:00, 21.16it/s]<ipython-input-22-35bcd1737ba8>:60: RuntimeWarning: divide by zero encountered in log\n",
            "  p_of_y_given_x = np.log(p_of_y * p_of_x_given_y)\n",
            "Loading…: 100%|██████████████████████████| 126/126 [00:06<00:00, 20.21it/s]\n",
            "Loading…:   7%|██                          | 9/126 [00:00<00:05, 21.88it/s]<ipython-input-22-35bcd1737ba8>:60: RuntimeWarning: divide by zero encountered in log\n",
            "  p_of_y_given_x = np.log(p_of_y * p_of_x_given_y)\n",
            "Loading…: 100%|██████████████████████████| 126/126 [00:07<00:00, 15.91it/s]\n"
          ]
        },
        {
          "output_type": "stream",
          "name": "stdout",
          "text": [
            "Iteration: 159\n"
          ]
        },
        {
          "output_type": "stream",
          "name": "stderr",
          "text": [
            "Loading…: 100%|██████████████████████████| 126/126 [00:07<00:00, 16.34it/s]\n",
            "Loading…:  12%|███▏                       | 15/126 [00:01<00:06, 16.08it/s]<ipython-input-22-35bcd1737ba8>:60: RuntimeWarning: divide by zero encountered in log\n",
            "  p_of_y_given_x = np.log(p_of_y * p_of_x_given_y)\n",
            "Loading…: 100%|██████████████████████████| 126/126 [00:07<00:00, 16.02it/s]\n",
            "Loading…:  71%|███████████████████        | 89/126 [00:06<00:02, 15.62it/s]<ipython-input-22-35bcd1737ba8>:60: RuntimeWarning: divide by zero encountered in log\n",
            "  p_of_y_given_x = np.log(p_of_y * p_of_x_given_y)\n",
            "Loading…: 100%|██████████████████████████| 126/126 [00:08<00:00, 14.09it/s]\n",
            "Loading…:  11%|███                        | 14/126 [00:00<00:05, 22.14it/s]<ipython-input-22-35bcd1737ba8>:60: RuntimeWarning: divide by zero encountered in log\n",
            "  p_of_y_given_x = np.log(p_of_y * p_of_x_given_y)\n",
            "Loading…: 100%|██████████████████████████| 126/126 [00:07<00:00, 15.76it/s]\n",
            "Loading…:  10%|██▊                        | 13/126 [00:01<00:10, 10.78it/s]<ipython-input-22-35bcd1737ba8>:60: RuntimeWarning: divide by zero encountered in log\n",
            "  p_of_y_given_x = np.log(p_of_y * p_of_x_given_y)\n",
            "Loading…: 100%|██████████████████████████| 126/126 [00:08<00:00, 15.37it/s]\n",
            "Loading…:  79%|████████████████████▋     | 100/126 [00:07<00:01, 18.39it/s]<ipython-input-22-35bcd1737ba8>:60: RuntimeWarning: divide by zero encountered in log\n",
            "  p_of_y_given_x = np.log(p_of_y * p_of_x_given_y)\n",
            "Loading…: 100%|██████████████████████████| 126/126 [00:08<00:00, 14.50it/s]\n",
            "Loading…:  15%|████                       | 19/126 [00:01<00:05, 20.89it/s]<ipython-input-22-35bcd1737ba8>:60: RuntimeWarning: divide by zero encountered in log\n",
            "  p_of_y_given_x = np.log(p_of_y * p_of_x_given_y)\n",
            "Loading…: 100%|██████████████████████████| 126/126 [00:08<00:00, 14.97it/s]\n",
            "Loading…:  56%|███████████████            | 70/126 [00:04<00:03, 15.61it/s]<ipython-input-22-35bcd1737ba8>:60: RuntimeWarning: divide by zero encountered in log\n",
            "  p_of_y_given_x = np.log(p_of_y * p_of_x_given_y)\n",
            "Loading…: 100%|██████████████████████████| 126/126 [00:07<00:00, 16.69it/s]\n",
            "Loading…:  86%|██████████████████████▎   | 108/126 [00:08<00:00, 18.26it/s]<ipython-input-22-35bcd1737ba8>:60: RuntimeWarning: divide by zero encountered in log\n",
            "  p_of_y_given_x = np.log(p_of_y * p_of_x_given_y)\n",
            "Loading…: 100%|██████████████████████████| 126/126 [00:09<00:00, 13.54it/s]\n",
            "Loading…:   8%|██▏                        | 10/126 [00:00<00:06, 18.01it/s]<ipython-input-22-35bcd1737ba8>:60: RuntimeWarning: divide by zero encountered in log\n",
            "  p_of_y_given_x = np.log(p_of_y * p_of_x_given_y)\n",
            "Loading…: 100%|██████████████████████████| 126/126 [00:08<00:00, 14.04it/s]\n"
          ]
        },
        {
          "output_type": "stream",
          "name": "stdout",
          "text": [
            "Iteration: 160\n"
          ]
        },
        {
          "output_type": "stream",
          "name": "stderr",
          "text": [
            "Loading…: 100%|██████████████████████████| 126/126 [00:07<00:00, 15.96it/s]\n",
            "Loading…:  11%|███                        | 14/126 [00:01<00:15,  7.38it/s]<ipython-input-22-35bcd1737ba8>:60: RuntimeWarning: divide by zero encountered in log\n",
            "  p_of_y_given_x = np.log(p_of_y * p_of_x_given_y)\n",
            "Loading…: 100%|██████████████████████████| 126/126 [00:10<00:00, 12.08it/s]\n",
            "Loading…:  71%|███████████████████▎       | 90/126 [00:07<00:02, 13.76it/s]<ipython-input-22-35bcd1737ba8>:60: RuntimeWarning: divide by zero encountered in log\n",
            "  p_of_y_given_x = np.log(p_of_y * p_of_x_given_y)\n",
            "Loading…: 100%|██████████████████████████| 126/126 [00:10<00:00, 12.47it/s]\n",
            "Loading…:  10%|██▊                        | 13/126 [00:00<00:05, 20.61it/s]<ipython-input-22-35bcd1737ba8>:60: RuntimeWarning: divide by zero encountered in log\n",
            "  p_of_y_given_x = np.log(p_of_y * p_of_x_given_y)\n",
            "Loading…: 100%|██████████████████████████| 126/126 [00:09<00:00, 13.35it/s]\n",
            "Loading…:  10%|██▊                        | 13/126 [00:00<00:05, 19.11it/s]<ipython-input-22-35bcd1737ba8>:60: RuntimeWarning: divide by zero encountered in log\n",
            "  p_of_y_given_x = np.log(p_of_y * p_of_x_given_y)\n",
            "Loading…: 100%|██████████████████████████| 126/126 [00:11<00:00, 10.60it/s]\n",
            "Loading…:  80%|████████████████████▊     | 101/126 [00:06<00:01, 16.06it/s]<ipython-input-22-35bcd1737ba8>:60: RuntimeWarning: divide by zero encountered in log\n",
            "  p_of_y_given_x = np.log(p_of_y * p_of_x_given_y)\n",
            "Loading…: 100%|██████████████████████████| 126/126 [00:08<00:00, 15.51it/s]\n",
            "Loading…:  15%|████                       | 19/126 [00:01<00:06, 15.63it/s]<ipython-input-22-35bcd1737ba8>:60: RuntimeWarning: divide by zero encountered in log\n",
            "  p_of_y_given_x = np.log(p_of_y * p_of_x_given_y)\n",
            "Loading…: 100%|██████████████████████████| 126/126 [00:09<00:00, 13.06it/s]\n",
            "Loading…:  56%|███████████████▏           | 71/126 [00:06<00:03, 14.64it/s]<ipython-input-22-35bcd1737ba8>:60: RuntimeWarning: divide by zero encountered in log\n",
            "  p_of_y_given_x = np.log(p_of_y * p_of_x_given_y)\n",
            "Loading…: 100%|██████████████████████████| 126/126 [00:10<00:00, 12.05it/s]\n",
            "Loading…:  85%|██████████████████████    | 107/126 [00:09<00:01, 16.08it/s]<ipython-input-22-35bcd1737ba8>:60: RuntimeWarning: divide by zero encountered in log\n",
            "  p_of_y_given_x = np.log(p_of_y * p_of_x_given_y)\n",
            "Loading…: 100%|██████████████████████████| 126/126 [00:10<00:00, 12.11it/s]\n",
            "Loading…:   8%|██▏                        | 10/126 [00:00<00:07, 15.70it/s]<ipython-input-22-35bcd1737ba8>:60: RuntimeWarning: divide by zero encountered in log\n",
            "  p_of_y_given_x = np.log(p_of_y * p_of_x_given_y)\n",
            "Loading…: 100%|██████████████████████████| 126/126 [00:10<00:00, 12.44it/s]\n"
          ]
        },
        {
          "output_type": "stream",
          "name": "stdout",
          "text": [
            "Iteration: 161\n"
          ]
        },
        {
          "output_type": "stream",
          "name": "stderr",
          "text": [
            "Loading…: 100%|██████████████████████████| 126/126 [00:04<00:00, 29.87it/s]\n",
            "Loading…:  42%|███████████▎               | 53/126 [00:01<00:02, 27.92it/s]<ipython-input-22-35bcd1737ba8>:60: RuntimeWarning: divide by zero encountered in log\n",
            "  p_of_y_given_x = np.log(p_of_y * p_of_x_given_y)\n",
            "Loading…: 100%|██████████████████████████| 126/126 [00:05<00:00, 24.91it/s]\n",
            "Loading…:  95%|████████████████████████▊ | 120/126 [00:05<00:00, 29.49it/s]<ipython-input-22-35bcd1737ba8>:60: RuntimeWarning: divide by zero encountered in log\n",
            "  p_of_y_given_x = np.log(p_of_y * p_of_x_given_y)\n",
            "Loading…: 100%|██████████████████████████| 126/126 [00:05<00:00, 22.81it/s]\n",
            "Loading…: 100%|██████████████████████████| 126/126 [00:04<00:00, 30.22it/s]\n",
            "Loading…:  10%|██▊                        | 13/126 [00:00<00:03, 30.77it/s]<ipython-input-22-35bcd1737ba8>:60: RuntimeWarning: divide by zero encountered in log\n",
            "  p_of_y_given_x = np.log(p_of_y * p_of_x_given_y)\n",
            "Loading…: 100%|██████████████████████████| 126/126 [00:05<00:00, 21.28it/s]\n",
            "Loading…:  10%|██▌                        | 12/126 [00:00<00:04, 23.08it/s]<ipython-input-22-35bcd1737ba8>:60: RuntimeWarning: divide by zero encountered in log\n",
            "  p_of_y_given_x = np.log(p_of_y * p_of_x_given_y)\n",
            "Loading…: 100%|██████████████████████████| 126/126 [00:04<00:00, 27.93it/s]\n",
            "Loading…:  13%|███▍                       | 16/126 [00:00<00:03, 29.87it/s]<ipython-input-22-35bcd1737ba8>:60: RuntimeWarning: divide by zero encountered in log\n",
            "  p_of_y_given_x = np.log(p_of_y * p_of_x_given_y)\n",
            "Loading…: 100%|██████████████████████████| 126/126 [00:04<00:00, 27.46it/s]\n",
            "Loading…:  47%|████████████▋              | 59/126 [00:03<00:05, 13.30it/s]<ipython-input-22-35bcd1737ba8>:60: RuntimeWarning: divide by zero encountered in log\n",
            "  p_of_y_given_x = np.log(p_of_y * p_of_x_given_y)\n",
            "Loading…: 100%|██████████████████████████| 126/126 [00:07<00:00, 16.64it/s]\n",
            "Loading…: 100%|██████████████████████████| 126/126 [00:04<00:00, 25.53it/s]\n",
            "Loading…:   7%|██                          | 9/126 [00:00<00:04, 26.06it/s]<ipython-input-22-35bcd1737ba8>:60: RuntimeWarning: divide by zero encountered in log\n",
            "  p_of_y_given_x = np.log(p_of_y * p_of_x_given_y)\n",
            "Loading…: 100%|██████████████████████████| 126/126 [00:06<00:00, 20.04it/s]\n"
          ]
        },
        {
          "output_type": "stream",
          "name": "stdout",
          "text": [
            "Iteration: 162\n"
          ]
        },
        {
          "output_type": "stream",
          "name": "stderr",
          "text": [
            "Loading…: 100%|██████████████████████████| 126/126 [00:05<00:00, 21.08it/s]\n",
            "Loading…:  41%|███████████▏               | 52/126 [00:02<00:03, 19.99it/s]<ipython-input-22-35bcd1737ba8>:60: RuntimeWarning: divide by zero encountered in log\n",
            "  p_of_y_given_x = np.log(p_of_y * p_of_x_given_y)\n",
            "Loading…: 100%|██████████████████████████| 126/126 [00:08<00:00, 15.22it/s]\n",
            "Loading…:  71%|███████████████████▎       | 90/126 [00:04<00:01, 20.55it/s]<ipython-input-22-35bcd1737ba8>:60: RuntimeWarning: divide by zero encountered in log\n",
            "  p_of_y_given_x = np.log(p_of_y * p_of_x_given_y)\n",
            "Loading…: 100%|██████████████████████████| 126/126 [00:06<00:00, 20.59it/s]\n",
            "Loading…:  27%|███████▎                   | 34/126 [00:01<00:04, 22.96it/s]<ipython-input-22-35bcd1737ba8>:60: RuntimeWarning: divide by zero encountered in log\n",
            "  p_of_y_given_x = np.log(p_of_y * p_of_x_given_y)\n",
            "Loading…: 100%|██████████████████████████| 126/126 [00:07<00:00, 16.73it/s]\n",
            "Loading…:  11%|███                        | 14/126 [00:00<00:05, 22.31it/s]<ipython-input-22-35bcd1737ba8>:60: RuntimeWarning: divide by zero encountered in log\n",
            "  p_of_y_given_x = np.log(p_of_y * p_of_x_given_y)\n",
            "Loading…: 100%|██████████████████████████| 126/126 [00:06<00:00, 20.53it/s]\n",
            "Loading…:  10%|██▌                        | 12/126 [00:00<00:05, 19.97it/s]<ipython-input-22-35bcd1737ba8>:60: RuntimeWarning: divide by zero encountered in log\n",
            "  p_of_y_given_x = np.log(p_of_y * p_of_x_given_y)\n",
            "Loading…: 100%|██████████████████████████| 126/126 [00:07<00:00, 16.30it/s]\n",
            "Loading…:  13%|███▋                       | 17/126 [00:00<00:04, 22.13it/s]<ipython-input-22-35bcd1737ba8>:60: RuntimeWarning: divide by zero encountered in log\n",
            "  p_of_y_given_x = np.log(p_of_y * p_of_x_given_y)\n",
            "Loading…: 100%|██████████████████████████| 126/126 [00:06<00:00, 19.57it/s]\n",
            "Loading…:  45%|████████████▏              | 57/126 [00:04<00:06, 10.77it/s]<ipython-input-22-35bcd1737ba8>:60: RuntimeWarning: divide by zero encountered in log\n",
            "  p_of_y_given_x = np.log(p_of_y * p_of_x_given_y)\n",
            "Loading…: 100%|██████████████████████████| 126/126 [00:08<00:00, 15.54it/s]\n",
            "Loading…:  59%|███████████████▊           | 74/126 [00:03<00:02, 21.21it/s]<ipython-input-22-35bcd1737ba8>:60: RuntimeWarning: divide by zero encountered in log\n",
            "  p_of_y_given_x = np.log(p_of_y * p_of_x_given_y)\n",
            "Loading…: 100%|██████████████████████████| 126/126 [00:06<00:00, 18.74it/s]\n",
            "Loading…:   8%|██▏                        | 10/126 [00:00<00:09, 11.85it/s]<ipython-input-22-35bcd1737ba8>:60: RuntimeWarning: divide by zero encountered in log\n",
            "  p_of_y_given_x = np.log(p_of_y * p_of_x_given_y)\n",
            "Loading…: 100%|██████████████████████████| 126/126 [00:07<00:00, 16.92it/s]\n"
          ]
        },
        {
          "output_type": "stream",
          "name": "stdout",
          "text": [
            "Iteration: 163\n"
          ]
        },
        {
          "output_type": "stream",
          "name": "stderr",
          "text": [
            "Loading…: 100%|██████████████████████████| 126/126 [00:09<00:00, 13.77it/s]\n",
            "Loading…:  11%|███                        | 14/126 [00:00<00:07, 15.63it/s]<ipython-input-22-35bcd1737ba8>:60: RuntimeWarning: divide by zero encountered in log\n",
            "  p_of_y_given_x = np.log(p_of_y * p_of_x_given_y)\n",
            "Loading…: 100%|██████████████████████████| 126/126 [00:09<00:00, 13.70it/s]\n",
            "Loading…:  71%|███████████████████        | 89/126 [00:07<00:02, 14.96it/s]<ipython-input-22-35bcd1737ba8>:60: RuntimeWarning: divide by zero encountered in log\n",
            "  p_of_y_given_x = np.log(p_of_y * p_of_x_given_y)\n",
            "Loading…: 100%|██████████████████████████| 126/126 [00:09<00:00, 13.03it/s]\n",
            "Loading…:  10%|██▊                        | 13/126 [00:00<00:05, 20.85it/s]<ipython-input-22-35bcd1737ba8>:60: RuntimeWarning: divide by zero encountered in log\n",
            "  p_of_y_given_x = np.log(p_of_y * p_of_x_given_y)\n",
            "Loading…: 100%|██████████████████████████| 126/126 [00:08<00:00, 14.06it/s]\n",
            "Loading…:  10%|██▊                        | 13/126 [00:00<00:06, 18.77it/s]<ipython-input-22-35bcd1737ba8>:60: RuntimeWarning: divide by zero encountered in log\n",
            "  p_of_y_given_x = np.log(p_of_y * p_of_x_given_y)\n",
            "Loading…: 100%|██████████████████████████| 126/126 [00:07<00:00, 16.09it/s]\n",
            "Loading…:  10%|██▌                        | 12/126 [00:01<00:13,  8.76it/s]<ipython-input-22-35bcd1737ba8>:60: RuntimeWarning: divide by zero encountered in log\n",
            "  p_of_y_given_x = np.log(p_of_y * p_of_x_given_y)\n",
            "Loading…: 100%|██████████████████████████| 126/126 [00:08<00:00, 14.43it/s]\n",
            "Loading…:  15%|████                       | 19/126 [00:01<00:05, 18.77it/s]<ipython-input-22-35bcd1737ba8>:60: RuntimeWarning: divide by zero encountered in log\n",
            "  p_of_y_given_x = np.log(p_of_y * p_of_x_given_y)\n",
            "Loading…: 100%|██████████████████████████| 126/126 [00:10<00:00, 12.58it/s]\n",
            "Loading…:  45%|████████████▏              | 57/126 [00:03<00:05, 13.57it/s]<ipython-input-22-35bcd1737ba8>:60: RuntimeWarning: divide by zero encountered in log\n",
            "  p_of_y_given_x = np.log(p_of_y * p_of_x_given_y)\n",
            "Loading…: 100%|██████████████████████████| 126/126 [00:09<00:00, 13.09it/s]\n",
            "Loading…:  60%|████████████████           | 75/126 [00:04<00:02, 17.15it/s]<ipython-input-22-35bcd1737ba8>:60: RuntimeWarning: divide by zero encountered in log\n",
            "  p_of_y_given_x = np.log(p_of_y * p_of_x_given_y)\n",
            "Loading…: 100%|██████████████████████████| 126/126 [00:08<00:00, 15.61it/s]\n",
            "Loading…:   7%|██                          | 9/126 [00:00<00:06, 16.98it/s]<ipython-input-22-35bcd1737ba8>:60: RuntimeWarning: divide by zero encountered in log\n",
            "  p_of_y_given_x = np.log(p_of_y * p_of_x_given_y)\n",
            "Loading…: 100%|██████████████████████████| 126/126 [00:09<00:00, 12.96it/s]\n"
          ]
        },
        {
          "output_type": "stream",
          "name": "stdout",
          "text": [
            "Iteration: 164\n"
          ]
        },
        {
          "output_type": "stream",
          "name": "stderr",
          "text": [
            "Loading…: 100%|██████████████████████████| 126/126 [00:10<00:00, 11.82it/s]\n",
            "Loading…:  12%|███▏                       | 15/126 [00:01<00:08, 13.03it/s]<ipython-input-22-35bcd1737ba8>:60: RuntimeWarning: divide by zero encountered in log\n",
            "  p_of_y_given_x = np.log(p_of_y * p_of_x_given_y)\n",
            "Loading…: 100%|██████████████████████████| 126/126 [00:11<00:00, 10.74it/s]\n",
            "Loading…:  72%|███████████████████▌       | 91/126 [00:08<00:04,  8.28it/s]<ipython-input-22-35bcd1737ba8>:60: RuntimeWarning: divide by zero encountered in log\n",
            "  p_of_y_given_x = np.log(p_of_y * p_of_x_given_y)\n",
            "Loading…: 100%|██████████████████████████| 126/126 [00:12<00:00,  9.74it/s]\n",
            "Loading…:  12%|███▏                       | 15/126 [00:00<00:06, 16.11it/s]<ipython-input-22-35bcd1737ba8>:60: RuntimeWarning: divide by zero encountered in log\n",
            "  p_of_y_given_x = np.log(p_of_y * p_of_x_given_y)\n",
            "Loading…: 100%|██████████████████████████| 126/126 [00:09<00:00, 13.37it/s]\n",
            "Loading…:  10%|██▊                        | 13/126 [00:00<00:07, 16.00it/s]<ipython-input-22-35bcd1737ba8>:60: RuntimeWarning: divide by zero encountered in log\n",
            "  p_of_y_given_x = np.log(p_of_y * p_of_x_given_y)\n",
            "Loading…: 100%|██████████████████████████| 126/126 [00:09<00:00, 13.47it/s]\n",
            "Loading…:  10%|██▌                        | 12/126 [00:01<00:16,  7.07it/s]<ipython-input-22-35bcd1737ba8>:60: RuntimeWarning: divide by zero encountered in log\n",
            "  p_of_y_given_x = np.log(p_of_y * p_of_x_given_y)\n",
            "Loading…: 100%|██████████████████████████| 126/126 [00:10<00:00, 11.61it/s]\n",
            "Loading…:  14%|███▊                       | 18/126 [00:01<00:06, 15.98it/s]<ipython-input-22-35bcd1737ba8>:60: RuntimeWarning: divide by zero encountered in log\n",
            "  p_of_y_given_x = np.log(p_of_y * p_of_x_given_y)\n",
            "Loading…: 100%|██████████████████████████| 126/126 [00:11<00:00, 10.72it/s]\n",
            "Loading…:  46%|████████████▍              | 58/126 [00:04<00:09,  7.28it/s]<ipython-input-22-35bcd1737ba8>:60: RuntimeWarning: divide by zero encountered in log\n",
            "  p_of_y_given_x = np.log(p_of_y * p_of_x_given_y)\n",
            "Loading…: 100%|██████████████████████████| 126/126 [00:11<00:00, 11.03it/s]\n",
            "Loading…:  60%|████████████████           | 75/126 [00:06<00:05,  9.07it/s]<ipython-input-22-35bcd1737ba8>:60: RuntimeWarning: divide by zero encountered in log\n",
            "  p_of_y_given_x = np.log(p_of_y * p_of_x_given_y)\n",
            "Loading…: 100%|██████████████████████████| 126/126 [00:11<00:00, 10.89it/s]\n",
            "Loading…:   8%|██▏                        | 10/126 [00:00<00:08, 14.08it/s]<ipython-input-22-35bcd1737ba8>:60: RuntimeWarning: divide by zero encountered in log\n",
            "  p_of_y_given_x = np.log(p_of_y * p_of_x_given_y)\n",
            "Loading…: 100%|██████████████████████████| 126/126 [00:11<00:00, 11.10it/s]\n"
          ]
        },
        {
          "output_type": "stream",
          "name": "stdout",
          "text": [
            "Iteration: 165\n"
          ]
        },
        {
          "output_type": "stream",
          "name": "stderr",
          "text": [
            "Loading…: 100%|██████████████████████████| 126/126 [00:13<00:00,  9.40it/s]\n",
            "Loading…:  11%|███                        | 14/126 [00:01<00:10, 10.73it/s]<ipython-input-22-35bcd1737ba8>:60: RuntimeWarning: divide by zero encountered in log\n",
            "  p_of_y_given_x = np.log(p_of_y * p_of_x_given_y)\n",
            "Loading…: 100%|██████████████████████████| 126/126 [00:13<00:00,  9.27it/s]\n",
            "Loading…:  72%|███████████████████▌       | 91/126 [00:08<00:05,  6.75it/s]<ipython-input-22-35bcd1737ba8>:60: RuntimeWarning: divide by zero encountered in log\n",
            "  p_of_y_given_x = np.log(p_of_y * p_of_x_given_y)\n",
            "Loading…: 100%|██████████████████████████| 126/126 [00:12<00:00,  9.92it/s]\n",
            "Loading…:  11%|███                        | 14/126 [00:00<00:07, 14.79it/s]<ipython-input-22-35bcd1737ba8>:60: RuntimeWarning: divide by zero encountered in log\n",
            "  p_of_y_given_x = np.log(p_of_y * p_of_x_given_y)\n",
            "Loading…: 100%|██████████████████████████| 126/126 [00:11<00:00, 10.64it/s]\n",
            "Loading…:  10%|██▊                        | 13/126 [00:01<00:07, 14.36it/s]<ipython-input-22-35bcd1737ba8>:60: RuntimeWarning: divide by zero encountered in log\n",
            "  p_of_y_given_x = np.log(p_of_y * p_of_x_given_y)\n",
            "Loading…: 100%|██████████████████████████| 126/126 [00:12<00:00,  9.87it/s]\n",
            "Loading…:  10%|██▌                        | 12/126 [00:01<00:09, 11.42it/s]<ipython-input-22-35bcd1737ba8>:60: RuntimeWarning: divide by zero encountered in log\n",
            "  p_of_y_given_x = np.log(p_of_y * p_of_x_given_y)\n",
            "Loading…: 100%|██████████████████████████| 126/126 [00:12<00:00,  9.91it/s]\n",
            "Loading…:  14%|███▊                       | 18/126 [00:01<00:07, 13.69it/s]<ipython-input-22-35bcd1737ba8>:60: RuntimeWarning: divide by zero encountered in log\n",
            "  p_of_y_given_x = np.log(p_of_y * p_of_x_given_y)\n",
            "Loading…: 100%|██████████████████████████| 126/126 [00:13<00:00,  9.16it/s]\n",
            "Loading…:  45%|████████████▏              | 57/126 [00:05<00:07,  8.79it/s]<ipython-input-22-35bcd1737ba8>:60: RuntimeWarning: divide by zero encountered in log\n",
            "  p_of_y_given_x = np.log(p_of_y * p_of_x_given_y)\n",
            "Loading…: 100%|██████████████████████████| 126/126 [00:13<00:00,  9.24it/s]\n",
            "Loading…:  60%|████████████████           | 75/126 [00:10<00:03, 12.80it/s]<ipython-input-22-35bcd1737ba8>:60: RuntimeWarning: divide by zero encountered in log\n",
            "  p_of_y_given_x = np.log(p_of_y * p_of_x_given_y)\n",
            "Loading…: 100%|██████████████████████████| 126/126 [00:14<00:00,  8.44it/s]\n",
            "Loading…:   8%|██▏                        | 10/126 [00:00<00:09, 11.99it/s]<ipython-input-22-35bcd1737ba8>:60: RuntimeWarning: divide by zero encountered in log\n",
            "  p_of_y_given_x = np.log(p_of_y * p_of_x_given_y)\n",
            "Loading…: 100%|██████████████████████████| 126/126 [00:12<00:00,  9.76it/s]\n"
          ]
        },
        {
          "output_type": "stream",
          "name": "stdout",
          "text": [
            "Iteration: 166\n"
          ]
        },
        {
          "output_type": "stream",
          "name": "stderr",
          "text": [
            "Loading…: 100%|██████████████████████████| 126/126 [00:04<00:00, 25.43it/s]\n",
            "Loading…:  41%|███████████▏               | 52/126 [00:02<00:03, 24.39it/s]<ipython-input-22-35bcd1737ba8>:60: RuntimeWarning: divide by zero encountered in log\n",
            "  p_of_y_given_x = np.log(p_of_y * p_of_x_given_y)\n",
            "Loading…: 100%|██████████████████████████| 126/126 [00:05<00:00, 21.85it/s]\n",
            "Loading…:  96%|████████████████████████▉ | 121/126 [00:04<00:00, 27.64it/s]<ipython-input-22-35bcd1737ba8>:60: RuntimeWarning: divide by zero encountered in log\n",
            "  p_of_y_given_x = np.log(p_of_y * p_of_x_given_y)\n",
            "Loading…: 100%|██████████████████████████| 126/126 [00:04<00:00, 27.62it/s]\n",
            "Loading…:  27%|███████▎                   | 34/126 [00:01<00:03, 30.57it/s]<ipython-input-22-35bcd1737ba8>:60: RuntimeWarning: divide by zero encountered in log\n",
            "  p_of_y_given_x = np.log(p_of_y * p_of_x_given_y)\n",
            "Loading…: 100%|██████████████████████████| 126/126 [00:06<00:00, 20.46it/s]\n",
            "Loading…:  11%|███                        | 14/126 [00:00<00:03, 30.24it/s]<ipython-input-22-35bcd1737ba8>:60: RuntimeWarning: divide by zero encountered in log\n",
            "  p_of_y_given_x = np.log(p_of_y * p_of_x_given_y)\n",
            "Loading…: 100%|██████████████████████████| 126/126 [00:04<00:00, 28.44it/s]\n",
            "Loading…: 100%|██████████████████████████| 126/126 [00:04<00:00, 29.12it/s]\n",
            "Loading…:  14%|███▊                       | 18/126 [00:00<00:04, 22.84it/s]<ipython-input-22-35bcd1737ba8>:60: RuntimeWarning: divide by zero encountered in log\n",
            "  p_of_y_given_x = np.log(p_of_y * p_of_x_given_y)\n",
            "Loading…: 100%|██████████████████████████| 126/126 [00:06<00:00, 19.28it/s]\n",
            "Loading…:  56%|███████████████            | 70/126 [00:02<00:02, 26.02it/s]<ipython-input-22-35bcd1737ba8>:60: RuntimeWarning: divide by zero encountered in log\n",
            "  p_of_y_given_x = np.log(p_of_y * p_of_x_given_y)\n",
            "Loading…: 100%|██████████████████████████| 126/126 [00:04<00:00, 27.50it/s]\n",
            "Loading…: 100%|██████████████████████████| 126/126 [00:05<00:00, 22.21it/s]\n",
            "Loading…:   8%|██▏                        | 10/126 [00:00<00:07, 15.55it/s]<ipython-input-22-35bcd1737ba8>:60: RuntimeWarning: divide by zero encountered in log\n",
            "  p_of_y_given_x = np.log(p_of_y * p_of_x_given_y)\n",
            "Loading…: 100%|██████████████████████████| 126/126 [00:05<00:00, 24.46it/s]\n"
          ]
        },
        {
          "output_type": "stream",
          "name": "stdout",
          "text": [
            "Iteration: 167\n"
          ]
        },
        {
          "output_type": "stream",
          "name": "stderr",
          "text": [
            "Loading…: 100%|██████████████████████████| 126/126 [00:06<00:00, 18.79it/s]\n",
            "Loading…:  42%|███████████▎               | 53/126 [00:03<00:04, 17.77it/s]<ipython-input-22-35bcd1737ba8>:60: RuntimeWarning: divide by zero encountered in log\n",
            "  p_of_y_given_x = np.log(p_of_y * p_of_x_given_y)\n",
            "Loading…: 100%|██████████████████████████| 126/126 [00:07<00:00, 16.35it/s]\n",
            "Loading…:  71%|███████████████████▎       | 90/126 [00:04<00:02, 13.40it/s]<ipython-input-22-35bcd1737ba8>:60: RuntimeWarning: divide by zero encountered in log\n",
            "  p_of_y_given_x = np.log(p_of_y * p_of_x_given_y)\n",
            "Loading…: 100%|██████████████████████████| 126/126 [00:08<00:00, 15.64it/s]\n",
            "Loading…:  27%|███████▎                   | 34/126 [00:02<00:07, 11.64it/s]<ipython-input-22-35bcd1737ba8>:60: RuntimeWarning: divide by zero encountered in log\n",
            "  p_of_y_given_x = np.log(p_of_y * p_of_x_given_y)\n",
            "Loading…: 100%|██████████████████████████| 126/126 [00:07<00:00, 16.02it/s]\n",
            "Loading…:  10%|██▌                        | 12/126 [00:00<00:05, 22.24it/s]<ipython-input-22-35bcd1737ba8>:60: RuntimeWarning: divide by zero encountered in log\n",
            "  p_of_y_given_x = np.log(p_of_y * p_of_x_given_y)\n",
            "Loading…: 100%|██████████████████████████| 126/126 [00:08<00:00, 15.54it/s]\n",
            "Loading…:  10%|██▌                        | 12/126 [00:00<00:05, 19.09it/s]<ipython-input-22-35bcd1737ba8>:60: RuntimeWarning: divide by zero encountered in log\n",
            "  p_of_y_given_x = np.log(p_of_y * p_of_x_given_y)\n",
            "Loading…: 100%|██████████████████████████| 126/126 [00:06<00:00, 20.54it/s]\n",
            "Loading…:  14%|███▊                       | 18/126 [00:01<00:08, 12.47it/s]<ipython-input-22-35bcd1737ba8>:60: RuntimeWarning: divide by zero encountered in log\n",
            "  p_of_y_given_x = np.log(p_of_y * p_of_x_given_y)\n",
            "Loading…: 100%|██████████████████████████| 126/126 [00:08<00:00, 15.07it/s]\n",
            "Loading…:  57%|███████████████▍           | 72/126 [00:03<00:02, 19.56it/s]<ipython-input-22-35bcd1737ba8>:60: RuntimeWarning: divide by zero encountered in log\n",
            "  p_of_y_given_x = np.log(p_of_y * p_of_x_given_y)\n",
            "Loading…: 100%|██████████████████████████| 126/126 [00:08<00:00, 15.60it/s]\n",
            "Loading…:  60%|████████████████           | 75/126 [00:03<00:02, 20.83it/s]<ipython-input-22-35bcd1737ba8>:60: RuntimeWarning: divide by zero encountered in log\n",
            "  p_of_y_given_x = np.log(p_of_y * p_of_x_given_y)\n",
            "Loading…: 100%|██████████████████████████| 126/126 [00:06<00:00, 18.97it/s]\n",
            "Loading…:   7%|██                          | 9/126 [00:00<00:05, 21.70it/s]<ipython-input-22-35bcd1737ba8>:60: RuntimeWarning: divide by zero encountered in log\n",
            "  p_of_y_given_x = np.log(p_of_y * p_of_x_given_y)\n",
            "Loading…: 100%|██████████████████████████| 126/126 [00:08<00:00, 15.39it/s]\n"
          ]
        },
        {
          "output_type": "stream",
          "name": "stdout",
          "text": [
            "Iteration: 168\n"
          ]
        },
        {
          "output_type": "stream",
          "name": "stderr",
          "text": [
            "Loading…: 100%|██████████████████████████| 126/126 [00:07<00:00, 16.29it/s]\n",
            "Loading…:  12%|███▏                       | 15/126 [00:01<00:13,  8.03it/s]<ipython-input-22-35bcd1737ba8>:60: RuntimeWarning: divide by zero encountered in log\n",
            "  p_of_y_given_x = np.log(p_of_y * p_of_x_given_y)\n",
            "Loading…: 100%|██████████████████████████| 126/126 [00:09<00:00, 12.71it/s]\n",
            "Loading…:  72%|███████████████████▌       | 91/126 [00:07<00:02, 15.40it/s]<ipython-input-22-35bcd1737ba8>:60: RuntimeWarning: divide by zero encountered in log\n",
            "  p_of_y_given_x = np.log(p_of_y * p_of_x_given_y)\n",
            "Loading…: 100%|██████████████████████████| 126/126 [00:09<00:00, 12.94it/s]\n",
            "Loading…:  11%|███                        | 14/126 [00:00<00:05, 19.31it/s]<ipython-input-22-35bcd1737ba8>:60: RuntimeWarning: divide by zero encountered in log\n",
            "  p_of_y_given_x = np.log(p_of_y * p_of_x_given_y)\n",
            "Loading…: 100%|██████████████████████████| 126/126 [00:09<00:00, 13.70it/s]\n",
            "Loading…:  10%|██▊                        | 13/126 [00:00<00:05, 18.95it/s]<ipython-input-22-35bcd1737ba8>:60: RuntimeWarning: divide by zero encountered in log\n",
            "  p_of_y_given_x = np.log(p_of_y * p_of_x_given_y)\n",
            "Loading…: 100%|██████████████████████████| 126/126 [00:08<00:00, 15.69it/s]\n",
            "Loading…:  80%|████████████████████▊     | 101/126 [00:10<00:01, 16.53it/s]<ipython-input-22-35bcd1737ba8>:60: RuntimeWarning: divide by zero encountered in log\n",
            "  p_of_y_given_x = np.log(p_of_y * p_of_x_given_y)\n",
            "Loading…: 100%|██████████████████████████| 126/126 [00:11<00:00, 10.75it/s]\n",
            "Loading…:  15%|████                       | 19/126 [00:01<00:06, 17.45it/s]<ipython-input-22-35bcd1737ba8>:60: RuntimeWarning: divide by zero encountered in log\n",
            "  p_of_y_given_x = np.log(p_of_y * p_of_x_given_y)\n",
            "Loading…: 100%|██████████████████████████| 126/126 [00:10<00:00, 12.09it/s]\n",
            "Loading…:  56%|███████████████            | 70/126 [00:04<00:03, 14.57it/s]<ipython-input-22-35bcd1737ba8>:60: RuntimeWarning: divide by zero encountered in log\n",
            "  p_of_y_given_x = np.log(p_of_y * p_of_x_given_y)\n",
            "Loading…: 100%|██████████████████████████| 126/126 [00:08<00:00, 14.97it/s]\n",
            "Loading…:  59%|███████████████▊           | 74/126 [00:05<00:03, 16.58it/s]<ipython-input-22-35bcd1737ba8>:60: RuntimeWarning: divide by zero encountered in log\n",
            "  p_of_y_given_x = np.log(p_of_y * p_of_x_given_y)\n",
            "Loading…: 100%|██████████████████████████| 126/126 [00:09<00:00, 13.30it/s]\n",
            "Loading…:   8%|██▏                        | 10/126 [00:00<00:07, 16.26it/s]<ipython-input-22-35bcd1737ba8>:60: RuntimeWarning: divide by zero encountered in log\n",
            "  p_of_y_given_x = np.log(p_of_y * p_of_x_given_y)\n",
            "Loading…: 100%|██████████████████████████| 126/126 [00:09<00:00, 12.71it/s]\n"
          ]
        },
        {
          "output_type": "stream",
          "name": "stdout",
          "text": [
            "Iteration: 169\n"
          ]
        },
        {
          "output_type": "stream",
          "name": "stderr",
          "text": [
            "Loading…: 100%|██████████████████████████| 126/126 [00:10<00:00, 11.55it/s]\n",
            "Loading…:  12%|███▏                       | 15/126 [00:01<00:08, 12.79it/s]<ipython-input-22-35bcd1737ba8>:60: RuntimeWarning: divide by zero encountered in log\n",
            "  p_of_y_given_x = np.log(p_of_y * p_of_x_given_y)\n",
            "Loading…: 100%|██████████████████████████| 126/126 [00:11<00:00, 10.55it/s]\n",
            "Loading…:  71%|███████████████████▎       | 90/126 [00:06<00:02, 12.52it/s]<ipython-input-22-35bcd1737ba8>:60: RuntimeWarning: divide by zero encountered in log\n",
            "  p_of_y_given_x = np.log(p_of_y * p_of_x_given_y)\n",
            "Loading…: 100%|██████████████████████████| 126/126 [00:10<00:00, 12.13it/s]\n",
            "Loading…:  11%|███                        | 14/126 [00:00<00:07, 15.72it/s]<ipython-input-22-35bcd1737ba8>:60: RuntimeWarning: divide by zero encountered in log\n",
            "  p_of_y_given_x = np.log(p_of_y * p_of_x_given_y)\n",
            "Loading…: 100%|██████████████████████████| 126/126 [00:08<00:00, 14.20it/s]\n",
            "Loading…:  11%|███                        | 14/126 [00:01<00:15,  7.33it/s]<ipython-input-22-35bcd1737ba8>:60: RuntimeWarning: divide by zero encountered in log\n",
            "  p_of_y_given_x = np.log(p_of_y * p_of_x_given_y)\n",
            "Loading…: 100%|██████████████████████████| 126/126 [00:13<00:00,  9.57it/s]\n",
            "Loading…:  80%|████████████████████▊     | 101/126 [00:09<00:01, 13.76it/s]<ipython-input-22-35bcd1737ba8>:60: RuntimeWarning: divide by zero encountered in log\n",
            "  p_of_y_given_x = np.log(p_of_y * p_of_x_given_y)\n",
            "Loading…: 100%|██████████████████████████| 126/126 [00:11<00:00, 11.37it/s]\n",
            "Loading…:  14%|███▊                       | 18/126 [00:01<00:07, 15.21it/s]<ipython-input-22-35bcd1737ba8>:60: RuntimeWarning: divide by zero encountered in log\n",
            "  p_of_y_given_x = np.log(p_of_y * p_of_x_given_y)\n",
            "Loading…: 100%|██████████████████████████| 126/126 [00:11<00:00, 10.57it/s]\n",
            "Loading…:  57%|███████████████▍           | 72/126 [00:07<00:04, 11.75it/s]<ipython-input-22-35bcd1737ba8>:60: RuntimeWarning: divide by zero encountered in log\n",
            "  p_of_y_given_x = np.log(p_of_y * p_of_x_given_y)\n",
            "Loading…: 100%|██████████████████████████| 126/126 [00:11<00:00, 10.72it/s]\n",
            "Loading…:  60%|████████████████           | 75/126 [00:07<00:06,  8.06it/s]<ipython-input-22-35bcd1737ba8>:60: RuntimeWarning: divide by zero encountered in log\n",
            "  p_of_y_given_x = np.log(p_of_y * p_of_x_given_y)\n",
            "Loading…: 100%|██████████████████████████| 126/126 [00:11<00:00, 10.79it/s]\n",
            "Loading…:   8%|██▏                        | 10/126 [00:00<00:08, 13.07it/s]<ipython-input-22-35bcd1737ba8>:60: RuntimeWarning: divide by zero encountered in log\n",
            "  p_of_y_given_x = np.log(p_of_y * p_of_x_given_y)\n",
            "Loading…: 100%|██████████████████████████| 126/126 [00:11<00:00, 10.98it/s]\n"
          ]
        },
        {
          "output_type": "stream",
          "name": "stdout",
          "text": [
            "Iteration: 170\n"
          ]
        },
        {
          "output_type": "stream",
          "name": "stderr",
          "text": [
            "Loading…: 100%|██████████████████████████| 126/126 [00:12<00:00, 10.20it/s]\n",
            "Loading…:  11%|███                        | 14/126 [00:01<00:10, 10.78it/s]<ipython-input-22-35bcd1737ba8>:60: RuntimeWarning: divide by zero encountered in log\n",
            "  p_of_y_given_x = np.log(p_of_y * p_of_x_given_y)\n",
            "Loading…: 100%|██████████████████████████| 126/126 [00:13<00:00,  9.29it/s]\n",
            "Loading…:  72%|███████████████████▌       | 91/126 [00:09<00:06,  5.40it/s]<ipython-input-22-35bcd1737ba8>:60: RuntimeWarning: divide by zero encountered in log\n",
            "  p_of_y_given_x = np.log(p_of_y * p_of_x_given_y)\n",
            "Loading…: 100%|██████████████████████████| 126/126 [00:14<00:00,  8.64it/s]\n",
            "Loading…:  11%|███                        | 14/126 [00:00<00:07, 14.91it/s]<ipython-input-22-35bcd1737ba8>:60: RuntimeWarning: divide by zero encountered in log\n",
            "  p_of_y_given_x = np.log(p_of_y * p_of_x_given_y)\n",
            "Loading…: 100%|██████████████████████████| 126/126 [00:12<00:00, 10.50it/s]\n",
            "Loading…:  10%|██▊                        | 13/126 [00:01<00:07, 14.49it/s]<ipython-input-22-35bcd1737ba8>:60: RuntimeWarning: divide by zero encountered in log\n",
            "  p_of_y_given_x = np.log(p_of_y * p_of_x_given_y)\n",
            "Loading…: 100%|██████████████████████████| 126/126 [00:12<00:00,  9.90it/s]\n",
            "Loading…:  80%|████████████████████▊     | 101/126 [00:10<00:03,  7.26it/s]<ipython-input-22-35bcd1737ba8>:60: RuntimeWarning: divide by zero encountered in log\n",
            "  p_of_y_given_x = np.log(p_of_y * p_of_x_given_y)\n",
            "Loading…: 100%|██████████████████████████| 126/126 [00:12<00:00, 10.10it/s]\n",
            "Loading…:  14%|███▊                       | 18/126 [00:01<00:07, 13.83it/s]<ipython-input-22-35bcd1737ba8>:60: RuntimeWarning: divide by zero encountered in log\n",
            "  p_of_y_given_x = np.log(p_of_y * p_of_x_given_y)\n",
            "Loading…: 100%|██████████████████████████| 126/126 [00:13<00:00,  9.33it/s]\n",
            "Loading…:  57%|███████████████▍           | 72/126 [00:06<00:07,  7.65it/s]<ipython-input-22-35bcd1737ba8>:60: RuntimeWarning: divide by zero encountered in log\n",
            "  p_of_y_given_x = np.log(p_of_y * p_of_x_given_y)\n",
            "Loading…: 100%|██████████████████████████| 126/126 [00:13<00:00,  9.54it/s]\n",
            "Loading…:  60%|████████████████           | 75/126 [00:07<00:07,  7.14it/s]<ipython-input-22-35bcd1737ba8>:60: RuntimeWarning: divide by zero encountered in log\n",
            "  p_of_y_given_x = np.log(p_of_y * p_of_x_given_y)\n",
            "Loading…: 100%|██████████████████████████| 126/126 [00:13<00:00,  9.55it/s]\n",
            "Loading…:   8%|██▏                        | 10/126 [00:00<00:10, 11.58it/s]<ipython-input-22-35bcd1737ba8>:60: RuntimeWarning: divide by zero encountered in log\n",
            "  p_of_y_given_x = np.log(p_of_y * p_of_x_given_y)\n",
            "Loading…: 100%|██████████████████████████| 126/126 [00:13<00:00,  9.65it/s]\n"
          ]
        },
        {
          "output_type": "stream",
          "name": "stdout",
          "text": [
            "Iteration: 171\n"
          ]
        },
        {
          "output_type": "stream",
          "name": "stderr",
          "text": [
            "Loading…: 100%|██████████████████████████| 126/126 [00:08<00:00, 15.05it/s]\n",
            "Loading…:  42%|███████████▎               | 53/126 [00:02<00:03, 22.53it/s]<ipython-input-22-35bcd1737ba8>:60: RuntimeWarning: divide by zero encountered in log\n",
            "  p_of_y_given_x = np.log(p_of_y * p_of_x_given_y)\n",
            "Loading…: 100%|██████████████████████████| 126/126 [00:05<00:00, 21.23it/s]\n",
            "Loading…:  97%|█████████████████████████▏| 122/126 [00:05<00:00, 12.52it/s]<ipython-input-22-35bcd1737ba8>:60: RuntimeWarning: divide by zero encountered in log\n",
            "  p_of_y_given_x = np.log(p_of_y * p_of_x_given_y)\n",
            "Loading…: 100%|██████████████████████████| 126/126 [00:06<00:00, 19.98it/s]\n",
            "Loading…:  26%|███████                    | 33/126 [00:02<00:04, 20.02it/s]<ipython-input-22-35bcd1737ba8>:60: RuntimeWarning: divide by zero encountered in log\n",
            "  p_of_y_given_x = np.log(p_of_y * p_of_x_given_y)\n",
            "Loading…: 100%|██████████████████████████| 126/126 [00:06<00:00, 20.82it/s]\n",
            "Loading…:  10%|██▌                        | 12/126 [00:00<00:04, 26.17it/s]<ipython-input-22-35bcd1737ba8>:60: RuntimeWarning: divide by zero encountered in log\n",
            "  p_of_y_given_x = np.log(p_of_y * p_of_x_given_y)\n",
            "Loading…: 100%|██████████████████████████| 126/126 [00:05<00:00, 23.09it/s]\n",
            "Loading…:  10%|██▌                        | 12/126 [00:00<00:08, 13.16it/s]<ipython-input-22-35bcd1737ba8>:60: RuntimeWarning: divide by zero encountered in log\n",
            "  p_of_y_given_x = np.log(p_of_y * p_of_x_given_y)\n",
            "Loading…: 100%|██████████████████████████| 126/126 [00:07<00:00, 17.97it/s]\n",
            "Loading…:  14%|███▊                       | 18/126 [00:00<00:04, 25.11it/s]<ipython-input-22-35bcd1737ba8>:60: RuntimeWarning: divide by zero encountered in log\n",
            "  p_of_y_given_x = np.log(p_of_y * p_of_x_given_y)\n",
            "Loading…: 100%|██████████████████████████| 126/126 [00:05<00:00, 22.29it/s]\n",
            "Loading…:  46%|████████████▍              | 58/126 [00:03<00:05, 11.41it/s]<ipython-input-22-35bcd1737ba8>:60: RuntimeWarning: divide by zero encountered in log\n",
            "  p_of_y_given_x = np.log(p_of_y * p_of_x_given_y)\n",
            "Loading…: 100%|██████████████████████████| 126/126 [00:07<00:00, 17.21it/s]\n",
            "Loading…: 100%|██████████████████████████| 126/126 [00:05<00:00, 22.33it/s]\n",
            "Loading…:   7%|██                          | 9/126 [00:00<00:04, 24.39it/s]<ipython-input-22-35bcd1737ba8>:60: RuntimeWarning: divide by zero encountered in log\n",
            "  p_of_y_given_x = np.log(p_of_y * p_of_x_given_y)\n",
            "Loading…: 100%|██████████████████████████| 126/126 [00:07<00:00, 17.40it/s]\n"
          ]
        },
        {
          "output_type": "stream",
          "name": "stdout",
          "text": [
            "Iteration: 172\n"
          ]
        },
        {
          "output_type": "stream",
          "name": "stderr",
          "text": [
            "Loading…: 100%|██████████████████████████| 126/126 [00:07<00:00, 16.52it/s]\n",
            "Loading…:  36%|█████████▋                 | 45/126 [00:04<00:04, 16.99it/s]<ipython-input-22-35bcd1737ba8>:60: RuntimeWarning: divide by zero encountered in log\n",
            "  p_of_y_given_x = np.log(p_of_y * p_of_x_given_y)\n",
            "Loading…: 100%|██████████████████████████| 126/126 [00:09<00:00, 13.26it/s]\n",
            "Loading…:  21%|█████▌                     | 26/126 [00:01<00:05, 17.02it/s]<ipython-input-22-35bcd1737ba8>:60: RuntimeWarning: divide by zero encountered in log\n",
            "  p_of_y_given_x = np.log(p_of_y * p_of_x_given_y)\n",
            "Loading…: 100%|██████████████████████████| 126/126 [00:09<00:00, 13.25it/s]\n",
            "Loading…:  26%|███████                    | 33/126 [00:01<00:05, 17.23it/s]<ipython-input-22-35bcd1737ba8>:60: RuntimeWarning: divide by zero encountered in log\n",
            "  p_of_y_given_x = np.log(p_of_y * p_of_x_given_y)\n",
            "Loading…: 100%|██████████████████████████| 126/126 [00:07<00:00, 16.71it/s]\n",
            "Loading…:  11%|███                        | 14/126 [00:01<00:11,  9.40it/s]<ipython-input-22-35bcd1737ba8>:60: RuntimeWarning: divide by zero encountered in log\n",
            "  p_of_y_given_x = np.log(p_of_y * p_of_x_given_y)\n",
            "Loading…: 100%|██████████████████████████| 126/126 [00:10<00:00, 11.71it/s]\n",
            "Loading…:  10%|██▌                        | 12/126 [00:00<00:07, 15.55it/s]<ipython-input-22-35bcd1737ba8>:60: RuntimeWarning: divide by zero encountered in log\n",
            "  p_of_y_given_x = np.log(p_of_y * p_of_x_given_y)\n",
            "Loading…: 100%|██████████████████████████| 126/126 [00:09<00:00, 13.28it/s]\n",
            "Loading…:  15%|████                       | 19/126 [00:01<00:05, 18.78it/s]<ipython-input-22-35bcd1737ba8>:60: RuntimeWarning: divide by zero encountered in log\n",
            "  p_of_y_given_x = np.log(p_of_y * p_of_x_given_y)\n",
            "Loading…: 100%|██████████████████████████| 126/126 [00:09<00:00, 12.83it/s]\n",
            "Loading…:  45%|████████████▏              | 57/126 [00:03<00:04, 13.81it/s]<ipython-input-22-35bcd1737ba8>:60: RuntimeWarning: divide by zero encountered in log\n",
            "  p_of_y_given_x = np.log(p_of_y * p_of_x_given_y)\n",
            "Loading…: 100%|██████████████████████████| 126/126 [00:08<00:00, 15.61it/s]\n",
            "Loading…:  50%|█████████████▌             | 63/126 [00:05<00:04, 13.67it/s]<ipython-input-22-35bcd1737ba8>:60: RuntimeWarning: divide by zero encountered in log\n",
            "  p_of_y_given_x = np.log(p_of_y * p_of_x_given_y)\n",
            "Loading…: 100%|██████████████████████████| 126/126 [00:09<00:00, 12.89it/s]\n",
            "Loading…:   8%|██▏                        | 10/126 [00:00<00:06, 16.78it/s]<ipython-input-22-35bcd1737ba8>:60: RuntimeWarning: divide by zero encountered in log\n",
            "  p_of_y_given_x = np.log(p_of_y * p_of_x_given_y)\n",
            "Loading…: 100%|██████████████████████████| 126/126 [00:09<00:00, 13.01it/s]\n"
          ]
        },
        {
          "output_type": "stream",
          "name": "stdout",
          "text": [
            "Iteration: 173\n"
          ]
        },
        {
          "output_type": "stream",
          "name": "stderr",
          "text": [
            "Loading…:  27%|███████▎                   | 34/126 [00:02<00:06, 13.19it/s]<ipython-input-22-35bcd1737ba8>:60: RuntimeWarning: divide by zero encountered in log\n",
            "  p_of_y_given_x = np.log(p_of_y * p_of_x_given_y)\n",
            "Loading…: 100%|██████████████████████████| 126/126 [00:10<00:00, 12.44it/s]\n",
            "Loading…:  11%|███                        | 14/126 [00:01<00:10, 10.38it/s]<ipython-input-22-35bcd1737ba8>:60: RuntimeWarning: divide by zero encountered in log\n",
            "  p_of_y_given_x = np.log(p_of_y * p_of_x_given_y)\n",
            "Loading…: 100%|██████████████████████████| 126/126 [00:10<00:00, 11.53it/s]\n",
            "Loading…:  20%|█████▎                     | 25/126 [00:03<00:11,  9.06it/s]<ipython-input-22-35bcd1737ba8>:60: RuntimeWarning: divide by zero encountered in log\n",
            "  p_of_y_given_x = np.log(p_of_y * p_of_x_given_y)\n",
            "Loading…: 100%|██████████████████████████| 126/126 [00:11<00:00, 11.38it/s]\n",
            "Loading…:  11%|███                        | 14/126 [00:00<00:06, 16.45it/s]<ipython-input-22-35bcd1737ba8>:60: RuntimeWarning: divide by zero encountered in log\n",
            "  p_of_y_given_x = np.log(p_of_y * p_of_x_given_y)\n",
            "Loading…: 100%|██████████████████████████| 126/126 [00:10<00:00, 11.68it/s]\n",
            "Loading…:  11%|███                        | 14/126 [00:01<00:08, 13.54it/s]<ipython-input-22-35bcd1737ba8>:60: RuntimeWarning: divide by zero encountered in log\n",
            "  p_of_y_given_x = np.log(p_of_y * p_of_x_given_y)\n",
            "Loading…: 100%|██████████████████████████| 126/126 [00:13<00:00,  9.43it/s]\n",
            "Loading…:  10%|██▌                        | 12/126 [00:00<00:08, 13.31it/s]<ipython-input-22-35bcd1737ba8>:60: RuntimeWarning: divide by zero encountered in log\n",
            "  p_of_y_given_x = np.log(p_of_y * p_of_x_given_y)\n",
            "Loading…: 100%|██████████████████████████| 126/126 [00:11<00:00, 11.11it/s]\n",
            "Loading…:  14%|███▊                       | 18/126 [00:01<00:07, 15.26it/s]<ipython-input-22-35bcd1737ba8>:60: RuntimeWarning: divide by zero encountered in log\n",
            "  p_of_y_given_x = np.log(p_of_y * p_of_x_given_y)\n",
            "Loading…: 100%|██████████████████████████| 126/126 [00:11<00:00, 10.51it/s]\n",
            "Loading…:  46%|████████████▍              | 58/126 [00:04<00:06, 11.13it/s]<ipython-input-22-35bcd1737ba8>:60: RuntimeWarning: divide by zero encountered in log\n",
            "  p_of_y_given_x = np.log(p_of_y * p_of_x_given_y)\n",
            "Loading…: 100%|██████████████████████████| 126/126 [00:11<00:00, 11.16it/s]\n",
            "Loading…:  51%|█████████████▋             | 64/126 [00:05<00:05, 11.94it/s]<ipython-input-22-35bcd1737ba8>:60: RuntimeWarning: divide by zero encountered in log\n",
            "  p_of_y_given_x = np.log(p_of_y * p_of_x_given_y)\n",
            "Loading…: 100%|██████████████████████████| 126/126 [00:10<00:00, 12.38it/s]\n",
            "Loading…:   8%|██▏                        | 10/126 [00:01<00:16,  7.16it/s]<ipython-input-22-35bcd1737ba8>:60: RuntimeWarning: divide by zero encountered in log\n",
            "  p_of_y_given_x = np.log(p_of_y * p_of_x_given_y)\n",
            "Loading…: 100%|██████████████████████████| 126/126 [00:11<00:00, 11.30it/s]\n"
          ]
        },
        {
          "output_type": "stream",
          "name": "stdout",
          "text": [
            "Iteration: 174\n"
          ]
        },
        {
          "output_type": "stream",
          "name": "stderr",
          "text": [
            "Loading…:  27%|███████▎                   | 34/126 [00:04<00:10,  8.99it/s]<ipython-input-22-35bcd1737ba8>:60: RuntimeWarning: divide by zero encountered in log\n",
            "  p_of_y_given_x = np.log(p_of_y * p_of_x_given_y)\n",
            "Loading…: 100%|██████████████████████████| 126/126 [00:12<00:00,  9.80it/s]\n",
            "Loading…:  12%|███▏                       | 15/126 [00:02<00:19,  5.67it/s]<ipython-input-22-35bcd1737ba8>:60: RuntimeWarning: divide by zero encountered in log\n",
            "  p_of_y_given_x = np.log(p_of_y * p_of_x_given_y)\n",
            "Loading…: 100%|██████████████████████████| 126/126 [00:14<00:00,  8.95it/s]\n",
            "Loading…:  20%|█████▎                     | 25/126 [00:03<00:11,  9.14it/s]<ipython-input-22-35bcd1737ba8>:60: RuntimeWarning: divide by zero encountered in log\n",
            "  p_of_y_given_x = np.log(p_of_y * p_of_x_given_y)\n",
            "Loading…: 100%|██████████████████████████| 126/126 [00:17<00:00,  7.40it/s]\n",
            "Loading…:  11%|███                        | 14/126 [00:01<00:08, 13.75it/s]<ipython-input-22-35bcd1737ba8>:60: RuntimeWarning: divide by zero encountered in log\n",
            "  p_of_y_given_x = np.log(p_of_y * p_of_x_given_y)\n",
            "Loading…: 100%|██████████████████████████| 126/126 [00:12<00:00, 10.07it/s]\n",
            "Loading…:  10%|██▊                        | 13/126 [00:01<00:08, 12.61it/s]<ipython-input-22-35bcd1737ba8>:60: RuntimeWarning: divide by zero encountered in log\n",
            "  p_of_y_given_x = np.log(p_of_y * p_of_x_given_y)\n",
            "Loading…: 100%|██████████████████████████| 126/126 [00:13<00:00,  9.46it/s]\n",
            "Loading…:  10%|██▌                        | 12/126 [00:01<00:10, 11.09it/s]<ipython-input-22-35bcd1737ba8>:60: RuntimeWarning: divide by zero encountered in log\n",
            "  p_of_y_given_x = np.log(p_of_y * p_of_x_given_y)\n",
            "Loading…: 100%|██████████████████████████| 126/126 [00:13<00:00,  9.66it/s]\n",
            "Loading…:  14%|███▊                       | 18/126 [00:01<00:08, 13.28it/s]<ipython-input-22-35bcd1737ba8>:60: RuntimeWarning: divide by zero encountered in log\n",
            "  p_of_y_given_x = np.log(p_of_y * p_of_x_given_y)\n",
            "Loading…: 100%|██████████████████████████| 126/126 [00:14<00:00,  8.90it/s]\n",
            "Loading…:  46%|████████████▍              | 58/126 [00:05<00:07,  9.35it/s]<ipython-input-22-35bcd1737ba8>:60: RuntimeWarning: divide by zero encountered in log\n",
            "  p_of_y_given_x = np.log(p_of_y * p_of_x_given_y)\n",
            "Loading…: 100%|██████████████████████████| 126/126 [00:13<00:00,  9.10it/s]\n",
            "Loading…:  51%|█████████████▋             | 64/126 [00:06<00:06,  9.66it/s]<ipython-input-22-35bcd1737ba8>:60: RuntimeWarning: divide by zero encountered in log\n",
            "  p_of_y_given_x = np.log(p_of_y * p_of_x_given_y)\n",
            "Loading…: 100%|██████████████████████████| 126/126 [00:13<00:00,  9.10it/s]\n",
            "Loading…:   8%|██▏                        | 10/126 [00:00<00:10, 11.05it/s]<ipython-input-22-35bcd1737ba8>:60: RuntimeWarning: divide by zero encountered in log\n",
            "  p_of_y_given_x = np.log(p_of_y * p_of_x_given_y)\n",
            "Loading…: 100%|██████████████████████████| 126/126 [00:15<00:00,  8.09it/s]\n"
          ]
        },
        {
          "output_type": "stream",
          "name": "stdout",
          "text": [
            "Iteration: 175\n"
          ]
        },
        {
          "output_type": "stream",
          "name": "stderr",
          "text": [
            "Loading…:  27%|███████▎                   | 34/126 [00:03<00:09,  9.88it/s]<ipython-input-22-35bcd1737ba8>:60: RuntimeWarning: divide by zero encountered in log\n",
            "  p_of_y_given_x = np.log(p_of_y * p_of_x_given_y)\n",
            "Loading…: 100%|██████████████████████████| 126/126 [00:14<00:00,  8.62it/s]\n",
            "Loading…:  11%|███                        | 14/126 [00:01<00:12,  8.96it/s]<ipython-input-22-35bcd1737ba8>:60: RuntimeWarning: divide by zero encountered in log\n",
            "  p_of_y_given_x = np.log(p_of_y * p_of_x_given_y)\n",
            "Loading…: 100%|██████████████████████████| 126/126 [00:16<00:00,  7.79it/s]\n",
            "Loading…:  20%|█████▎                     | 25/126 [00:03<00:10, 10.00it/s]<ipython-input-22-35bcd1737ba8>:60: RuntimeWarning: divide by zero encountered in log\n",
            "  p_of_y_given_x = np.log(p_of_y * p_of_x_given_y)\n",
            "Loading…: 100%|██████████████████████████| 126/126 [00:15<00:00,  7.93it/s]\n",
            "Loading…:  11%|███                        | 14/126 [00:01<00:09, 12.03it/s]<ipython-input-22-35bcd1737ba8>:60: RuntimeWarning: divide by zero encountered in log\n",
            "  p_of_y_given_x = np.log(p_of_y * p_of_x_given_y)\n",
            "Loading…: 100%|██████████████████████████| 126/126 [00:14<00:00,  8.92it/s]\n",
            "Loading…:  11%|███                        | 14/126 [00:01<00:11,  9.82it/s]<ipython-input-22-35bcd1737ba8>:60: RuntimeWarning: divide by zero encountered in log\n",
            "  p_of_y_given_x = np.log(p_of_y * p_of_x_given_y)\n",
            "Loading…: 100%|██████████████████████████| 126/126 [00:15<00:00,  8.30it/s]\n",
            "Loading…:  10%|██▌                        | 12/126 [00:01<00:12,  9.24it/s]<ipython-input-22-35bcd1737ba8>:60: RuntimeWarning: divide by zero encountered in log\n",
            "  p_of_y_given_x = np.log(p_of_y * p_of_x_given_y)\n",
            "Loading…: 100%|██████████████████████████| 126/126 [00:15<00:00,  8.25it/s]\n",
            "Loading…:  15%|████                       | 19/126 [00:03<00:16,  6.66it/s]<ipython-input-22-35bcd1737ba8>:60: RuntimeWarning: divide by zero encountered in log\n",
            "  p_of_y_given_x = np.log(p_of_y * p_of_x_given_y)\n",
            "Loading…: 100%|██████████████████████████| 126/126 [00:17<00:00,  7.06it/s]\n",
            "Loading…:  46%|████████████▍              | 58/126 [00:06<00:08,  7.86it/s]<ipython-input-22-35bcd1737ba8>:60: RuntimeWarning: divide by zero encountered in log\n",
            "  p_of_y_given_x = np.log(p_of_y * p_of_x_given_y)\n",
            "Loading…: 100%|██████████████████████████| 126/126 [00:15<00:00,  7.95it/s]\n",
            "Loading…:  51%|█████████████▋             | 64/126 [00:07<00:11,  5.18it/s]<ipython-input-22-35bcd1737ba8>:60: RuntimeWarning: divide by zero encountered in log\n",
            "  p_of_y_given_x = np.log(p_of_y * p_of_x_given_y)\n",
            "Loading…: 100%|██████████████████████████| 126/126 [00:15<00:00,  8.13it/s]\n",
            "Loading…:   8%|██▏                        | 10/126 [00:01<00:11,  9.97it/s]<ipython-input-22-35bcd1737ba8>:60: RuntimeWarning: divide by zero encountered in log\n",
            "  p_of_y_given_x = np.log(p_of_y * p_of_x_given_y)\n",
            "Loading…: 100%|██████████████████████████| 126/126 [00:15<00:00,  8.17it/s]\n"
          ]
        },
        {
          "output_type": "stream",
          "name": "stdout",
          "text": [
            "Iteration: 176\n"
          ]
        },
        {
          "output_type": "stream",
          "name": "stderr",
          "text": [
            "Loading…: 100%|██████████████████████████| 126/126 [00:07<00:00, 17.69it/s]\n",
            "Loading…:  42%|███████████▎               | 53/126 [00:02<00:03, 21.36it/s]<ipython-input-22-35bcd1737ba8>:60: RuntimeWarning: divide by zero encountered in log\n",
            "  p_of_y_given_x = np.log(p_of_y * p_of_x_given_y)\n",
            "Loading…: 100%|██████████████████████████| 126/126 [00:05<00:00, 22.00it/s]\n",
            "Loading…:  97%|█████████████████████████▏| 122/126 [00:06<00:00, 22.20it/s]<ipython-input-22-35bcd1737ba8>:60: RuntimeWarning: divide by zero encountered in log\n",
            "  p_of_y_given_x = np.log(p_of_y * p_of_x_given_y)\n",
            "Loading…: 100%|██████████████████████████| 126/126 [00:07<00:00, 17.33it/s]\n",
            "Loading…:  26%|███████                    | 33/126 [00:01<00:03, 23.88it/s]<ipython-input-22-35bcd1737ba8>:60: RuntimeWarning: divide by zero encountered in log\n",
            "  p_of_y_given_x = np.log(p_of_y * p_of_x_given_y)\n",
            "Loading…: 100%|██████████████████████████| 126/126 [00:05<00:00, 23.51it/s]\n",
            "Loading…:  10%|██▌                        | 12/126 [00:00<00:04, 24.75it/s]<ipython-input-22-35bcd1737ba8>:60: RuntimeWarning: divide by zero encountered in log\n",
            "  p_of_y_given_x = np.log(p_of_y * p_of_x_given_y)\n",
            "Loading…: 100%|██████████████████████████| 126/126 [00:07<00:00, 17.43it/s]\n",
            "Loading…:  10%|██▌                        | 12/126 [00:00<00:09, 12.59it/s]<ipython-input-22-35bcd1737ba8>:60: RuntimeWarning: divide by zero encountered in log\n",
            "  p_of_y_given_x = np.log(p_of_y * p_of_x_given_y)\n",
            "Loading…: 100%|██████████████████████████| 126/126 [00:07<00:00, 17.37it/s]\n",
            "Loading…:  14%|███▊                       | 18/126 [00:00<00:04, 23.56it/s]<ipython-input-22-35bcd1737ba8>:60: RuntimeWarning: divide by zero encountered in log\n",
            "  p_of_y_given_x = np.log(p_of_y * p_of_x_given_y)\n",
            "Loading…: 100%|██████████████████████████| 126/126 [00:07<00:00, 16.83it/s]\n",
            "Loading…:  47%|████████████▋              | 59/126 [00:02<00:03, 18.60it/s]<ipython-input-22-35bcd1737ba8>:60: RuntimeWarning: divide by zero encountered in log\n",
            "  p_of_y_given_x = np.log(p_of_y * p_of_x_given_y)\n",
            "Loading…: 100%|██████████████████████████| 126/126 [00:05<00:00, 22.11it/s]\n",
            "Loading…:  60%|████████████████           | 75/126 [00:04<00:03, 13.30it/s]<ipython-input-22-35bcd1737ba8>:60: RuntimeWarning: divide by zero encountered in log\n",
            "  p_of_y_given_x = np.log(p_of_y * p_of_x_given_y)\n",
            "Loading…: 100%|██████████████████████████| 126/126 [00:07<00:00, 16.99it/s]\n",
            "Loading…:   7%|██                          | 9/126 [00:00<00:05, 23.25it/s]<ipython-input-22-35bcd1737ba8>:60: RuntimeWarning: divide by zero encountered in log\n",
            "  p_of_y_given_x = np.log(p_of_y * p_of_x_given_y)\n",
            "Loading…: 100%|██████████████████████████| 126/126 [00:05<00:00, 22.43it/s]\n"
          ]
        },
        {
          "output_type": "stream",
          "name": "stdout",
          "text": [
            "Iteration: 177\n"
          ]
        },
        {
          "output_type": "stream",
          "name": "stderr",
          "text": [
            "Loading…:  27%|███████▎                   | 34/126 [00:02<00:05, 16.34it/s]<ipython-input-22-35bcd1737ba8>:60: RuntimeWarning: divide by zero encountered in log\n",
            "  p_of_y_given_x = np.log(p_of_y * p_of_x_given_y)\n",
            "Loading…: 100%|██████████████████████████| 126/126 [00:09<00:00, 13.37it/s]\n",
            "Loading…:  37%|█████████▊                 | 46/126 [00:02<00:04, 17.74it/s]<ipython-input-22-35bcd1737ba8>:60: RuntimeWarning: divide by zero encountered in log\n",
            "  p_of_y_given_x = np.log(p_of_y * p_of_x_given_y)\n",
            "Loading…: 100%|██████████████████████████| 126/126 [00:10<00:00, 12.59it/s]\n",
            "Loading…:  72%|███████████████████▌       | 91/126 [00:05<00:02, 16.26it/s]<ipython-input-22-35bcd1737ba8>:60: RuntimeWarning: divide by zero encountered in log\n",
            "  p_of_y_given_x = np.log(p_of_y * p_of_x_given_y)\n",
            "Loading…: 100%|██████████████████████████| 126/126 [00:07<00:00, 16.12it/s]\n",
            "Loading…:  26%|███████                    | 33/126 [00:02<00:08, 10.84it/s]<ipython-input-22-35bcd1737ba8>:60: RuntimeWarning: divide by zero encountered in log\n",
            "  p_of_y_given_x = np.log(p_of_y * p_of_x_given_y)\n",
            "Loading…: 100%|██████████████████████████| 126/126 [00:09<00:00, 13.73it/s]\n",
            "Loading…:  10%|██▊                        | 13/126 [00:00<00:06, 18.79it/s]<ipython-input-22-35bcd1737ba8>:60: RuntimeWarning: divide by zero encountered in log\n",
            "  p_of_y_given_x = np.log(p_of_y * p_of_x_given_y)\n",
            "Loading…: 100%|██████████████████████████| 126/126 [00:09<00:00, 13.48it/s]\n",
            "Loading…:  10%|██▌                        | 12/126 [00:00<00:06, 16.36it/s]<ipython-input-22-35bcd1737ba8>:60: RuntimeWarning: divide by zero encountered in log\n",
            "  p_of_y_given_x = np.log(p_of_y * p_of_x_given_y)\n",
            "Loading…: 100%|██████████████████████████| 126/126 [00:07<00:00, 16.44it/s]\n",
            "Loading…:  15%|████                       | 19/126 [00:01<00:05, 18.37it/s]<ipython-input-22-35bcd1737ba8>:60: RuntimeWarning: divide by zero encountered in log\n",
            "  p_of_y_given_x = np.log(p_of_y * p_of_x_given_y)\n",
            "Loading…: 100%|██████████████████████████| 126/126 [00:10<00:00, 12.52it/s]\n",
            "Loading…:  45%|████████████▏              | 57/126 [00:03<00:05, 12.94it/s]<ipython-input-22-35bcd1737ba8>:60: RuntimeWarning: divide by zero encountered in log\n",
            "  p_of_y_given_x = np.log(p_of_y * p_of_x_given_y)\n",
            "Loading…: 100%|██████████████████████████| 126/126 [00:11<00:00, 10.69it/s]\n",
            "Loading…:  51%|█████████████▋             | 64/126 [00:04<00:04, 15.13it/s]<ipython-input-22-35bcd1737ba8>:60: RuntimeWarning: divide by zero encountered in log\n",
            "  p_of_y_given_x = np.log(p_of_y * p_of_x_given_y)\n",
            "Loading…: 100%|██████████████████████████| 126/126 [00:08<00:00, 15.54it/s]\n",
            "Loading…:   8%|██▏                        | 10/126 [00:00<00:09, 11.82it/s]<ipython-input-22-35bcd1737ba8>:60: RuntimeWarning: divide by zero encountered in log\n",
            "  p_of_y_given_x = np.log(p_of_y * p_of_x_given_y)\n",
            "Loading…: 100%|██████████████████████████| 126/126 [00:09<00:00, 12.76it/s]\n"
          ]
        },
        {
          "output_type": "stream",
          "name": "stdout",
          "text": [
            "Iteration: 178\n"
          ]
        },
        {
          "output_type": "stream",
          "name": "stderr",
          "text": [
            "Loading…:  27%|███████▎                   | 34/126 [00:02<00:06, 13.19it/s]<ipython-input-22-35bcd1737ba8>:60: RuntimeWarning: divide by zero encountered in log\n",
            "  p_of_y_given_x = np.log(p_of_y * p_of_x_given_y)\n",
            "Loading…: 100%|██████████████████████████| 126/126 [00:11<00:00, 11.18it/s]\n",
            "Loading…:  12%|███▏                       | 15/126 [00:01<00:08, 12.52it/s]<ipython-input-22-35bcd1737ba8>:60: RuntimeWarning: divide by zero encountered in log\n",
            "  p_of_y_given_x = np.log(p_of_y * p_of_x_given_y)\n",
            "Loading…: 100%|██████████████████████████| 126/126 [00:12<00:00, 10.22it/s]\n",
            "Loading…:  21%|█████▌                     | 26/126 [00:01<00:07, 13.81it/s]<ipython-input-22-35bcd1737ba8>:60: RuntimeWarning: divide by zero encountered in log\n",
            "  p_of_y_given_x = np.log(p_of_y * p_of_x_given_y)\n",
            "Loading…: 100%|██████████████████████████| 126/126 [00:11<00:00, 10.56it/s]\n",
            "Loading…:  11%|███                        | 14/126 [00:00<00:07, 14.96it/s]<ipython-input-22-35bcd1737ba8>:60: RuntimeWarning: divide by zero encountered in log\n",
            "  p_of_y_given_x = np.log(p_of_y * p_of_x_given_y)\n",
            "Loading…: 100%|██████████████████████████| 126/126 [00:10<00:00, 11.94it/s]\n",
            "Loading…:  11%|███                        | 14/126 [00:01<00:08, 13.14it/s]<ipython-input-22-35bcd1737ba8>:60: RuntimeWarning: divide by zero encountered in log\n",
            "  p_of_y_given_x = np.log(p_of_y * p_of_x_given_y)\n",
            "Loading…: 100%|██████████████████████████| 126/126 [00:09<00:00, 12.76it/s]\n",
            "Loading…:  10%|██▊                        | 13/126 [00:01<00:15,  7.13it/s]<ipython-input-22-35bcd1737ba8>:60: RuntimeWarning: divide by zero encountered in log\n",
            "  p_of_y_given_x = np.log(p_of_y * p_of_x_given_y)\n",
            "Loading…: 100%|██████████████████████████| 126/126 [00:10<00:00, 11.53it/s]\n",
            "Loading…:  14%|███▊                       | 18/126 [00:01<00:10,  9.93it/s]<ipython-input-22-35bcd1737ba8>:60: RuntimeWarning: divide by zero encountered in log\n",
            "  p_of_y_given_x = np.log(p_of_y * p_of_x_given_y)\n",
            "Loading…: 100%|██████████████████████████| 126/126 [00:14<00:00,  8.95it/s]\n",
            "Loading…:  42%|███████████▎               | 53/126 [00:05<00:05, 12.67it/s]<ipython-input-22-35bcd1737ba8>:60: RuntimeWarning: divide by zero encountered in log\n",
            "  p_of_y_given_x = np.log(p_of_y * p_of_x_given_y)\n",
            "Loading…: 100%|██████████████████████████| 126/126 [00:12<00:00, 10.45it/s]\n",
            "Loading…:  51%|█████████████▋             | 64/126 [00:06<00:05, 11.82it/s]<ipython-input-22-35bcd1737ba8>:60: RuntimeWarning: divide by zero encountered in log\n",
            "  p_of_y_given_x = np.log(p_of_y * p_of_x_given_y)\n",
            "Loading…: 100%|██████████████████████████| 126/126 [00:12<00:00, 10.49it/s]\n",
            "Loading…:   8%|██▏                        | 10/126 [00:00<00:08, 13.17it/s]<ipython-input-22-35bcd1737ba8>:60: RuntimeWarning: divide by zero encountered in log\n",
            "  p_of_y_given_x = np.log(p_of_y * p_of_x_given_y)\n",
            "Loading…: 100%|██████████████████████████| 126/126 [00:11<00:00, 10.67it/s]\n"
          ]
        },
        {
          "output_type": "stream",
          "name": "stdout",
          "text": [
            "Iteration: 179\n"
          ]
        },
        {
          "output_type": "stream",
          "name": "stderr",
          "text": [
            "Loading…:  27%|███████▎                   | 34/126 [00:02<00:08, 11.18it/s]<ipython-input-22-35bcd1737ba8>:60: RuntimeWarning: divide by zero encountered in log\n",
            "  p_of_y_given_x = np.log(p_of_y * p_of_x_given_y)\n",
            "Loading…: 100%|██████████████████████████| 126/126 [00:13<00:00,  9.65it/s]\n",
            "Loading…:  11%|███                        | 14/126 [00:01<00:11,  9.95it/s]<ipython-input-22-35bcd1737ba8>:60: RuntimeWarning: divide by zero encountered in log\n",
            "  p_of_y_given_x = np.log(p_of_y * p_of_x_given_y)\n",
            "Loading…: 100%|██████████████████████████| 126/126 [00:14<00:00,  8.78it/s]\n",
            "Loading…:  72%|███████████████████▌       | 91/126 [00:09<00:03, 10.95it/s]<ipython-input-22-35bcd1737ba8>:60: RuntimeWarning: divide by zero encountered in log\n",
            "  p_of_y_given_x = np.log(p_of_y * p_of_x_given_y)\n",
            "Loading…: 100%|██████████████████████████| 126/126 [00:13<00:00,  9.30it/s]\n",
            "Loading…:  12%|███▏                       | 15/126 [00:01<00:14,  7.92it/s]<ipython-input-22-35bcd1737ba8>:60: RuntimeWarning: divide by zero encountered in log\n",
            "  p_of_y_given_x = np.log(p_of_y * p_of_x_given_y)\n",
            "Loading…: 100%|██████████████████████████| 126/126 [00:12<00:00,  9.88it/s]\n",
            "Loading…:  11%|███                        | 14/126 [00:01<00:17,  6.54it/s]<ipython-input-22-35bcd1737ba8>:60: RuntimeWarning: divide by zero encountered in log\n",
            "  p_of_y_given_x = np.log(p_of_y * p_of_x_given_y)\n",
            "Loading…: 100%|██████████████████████████| 126/126 [00:15<00:00,  8.19it/s]\n",
            "Loading…:  10%|██▊                        | 13/126 [00:01<00:14,  7.66it/s]<ipython-input-22-35bcd1737ba8>:60: RuntimeWarning: divide by zero encountered in log\n",
            "  p_of_y_given_x = np.log(p_of_y * p_of_x_given_y)\n",
            "Loading…: 100%|██████████████████████████| 126/126 [00:13<00:00,  9.49it/s]\n",
            "Loading…:  15%|████                       | 19/126 [00:02<00:14,  7.27it/s]<ipython-input-22-35bcd1737ba8>:60: RuntimeWarning: divide by zero encountered in log\n",
            "  p_of_y_given_x = np.log(p_of_y * p_of_x_given_y)\n",
            "Loading…: 100%|██████████████████████████| 126/126 [00:14<00:00,  8.83it/s]\n",
            "Loading…:  43%|███████████▌               | 54/126 [00:05<00:06, 11.25it/s]<ipython-input-22-35bcd1737ba8>:60: RuntimeWarning: divide by zero encountered in log\n",
            "  p_of_y_given_x = np.log(p_of_y * p_of_x_given_y)\n",
            "Loading…: 100%|██████████████████████████| 126/126 [00:14<00:00,  8.99it/s]\n",
            "Loading…:  51%|█████████████▋             | 64/126 [00:06<00:06,  9.76it/s]<ipython-input-22-35bcd1737ba8>:60: RuntimeWarning: divide by zero encountered in log\n",
            "  p_of_y_given_x = np.log(p_of_y * p_of_x_given_y)\n",
            "Loading…: 100%|██████████████████████████| 126/126 [00:13<00:00,  9.01it/s]\n",
            "Loading…:   8%|██▏                        | 10/126 [00:00<00:10, 11.04it/s]<ipython-input-22-35bcd1737ba8>:60: RuntimeWarning: divide by zero encountered in log\n",
            "  p_of_y_given_x = np.log(p_of_y * p_of_x_given_y)\n",
            "Loading…: 100%|██████████████████████████| 126/126 [00:13<00:00,  9.12it/s]\n"
          ]
        },
        {
          "output_type": "stream",
          "name": "stdout",
          "text": [
            "Iteration: 180\n"
          ]
        },
        {
          "output_type": "stream",
          "name": "stderr",
          "text": [
            "Loading…:  27%|███████▎                   | 34/126 [00:03<00:09,  9.74it/s]<ipython-input-22-35bcd1737ba8>:60: RuntimeWarning: divide by zero encountered in log\n",
            "  p_of_y_given_x = np.log(p_of_y * p_of_x_given_y)\n",
            "Loading…: 100%|██████████████████████████| 126/126 [00:15<00:00,  7.96it/s]\n",
            "Loading…:  11%|███                        | 14/126 [00:01<00:13,  8.49it/s]<ipython-input-22-35bcd1737ba8>:60: RuntimeWarning: divide by zero encountered in log\n",
            "  p_of_y_given_x = np.log(p_of_y * p_of_x_given_y)\n",
            "Loading…: 100%|██████████████████████████| 126/126 [00:16<00:00,  7.63it/s]\n",
            "Loading…:  72%|███████████████████▌       | 91/126 [00:10<00:03,  9.04it/s]<ipython-input-22-35bcd1737ba8>:60: RuntimeWarning: divide by zero encountered in log\n",
            "  p_of_y_given_x = np.log(p_of_y * p_of_x_given_y)\n",
            "Loading…: 100%|██████████████████████████| 126/126 [00:16<00:00,  7.45it/s]\n",
            "Loading…:  11%|███                        | 14/126 [00:01<00:09, 12.09it/s]<ipython-input-22-35bcd1737ba8>:60: RuntimeWarning: divide by zero encountered in log\n",
            "  p_of_y_given_x = np.log(p_of_y * p_of_x_given_y)\n",
            "Loading…: 100%|██████████████████████████| 126/126 [00:14<00:00,  8.76it/s]\n",
            "Loading…:  11%|███                        | 14/126 [00:01<00:11,  9.74it/s]<ipython-input-22-35bcd1737ba8>:60: RuntimeWarning: divide by zero encountered in log\n",
            "  p_of_y_given_x = np.log(p_of_y * p_of_x_given_y)\n",
            "Loading…: 100%|██████████████████████████| 126/126 [00:15<00:00,  8.16it/s]\n",
            "Loading…:  10%|██▊                        | 13/126 [00:01<00:11,  9.86it/s]<ipython-input-22-35bcd1737ba8>:60: RuntimeWarning: divide by zero encountered in log\n",
            "  p_of_y_given_x = np.log(p_of_y * p_of_x_given_y)\n",
            "Loading…: 100%|██████████████████████████| 126/126 [00:15<00:00,  8.40it/s]\n",
            "Loading…:  15%|████                       | 19/126 [00:02<00:13,  7.99it/s]<ipython-input-22-35bcd1737ba8>:60: RuntimeWarning: divide by zero encountered in log\n",
            "  p_of_y_given_x = np.log(p_of_y * p_of_x_given_y)\n",
            "Loading…: 100%|██████████████████████████| 126/126 [00:17<00:00,  7.29it/s]\n",
            "Loading…:  43%|███████████▌               | 54/126 [00:06<00:07,  9.73it/s]<ipython-input-22-35bcd1737ba8>:60: RuntimeWarning: divide by zero encountered in log\n",
            "  p_of_y_given_x = np.log(p_of_y * p_of_x_given_y)\n",
            "Loading…: 100%|██████████████████████████| 126/126 [00:17<00:00,  7.29it/s]\n",
            "Loading…:  51%|█████████████▋             | 64/126 [00:07<00:07,  8.44it/s]<ipython-input-22-35bcd1737ba8>:60: RuntimeWarning: divide by zero encountered in log\n",
            "  p_of_y_given_x = np.log(p_of_y * p_of_x_given_y)\n",
            "Loading…: 100%|██████████████████████████| 126/126 [00:15<00:00,  7.88it/s]\n",
            "Loading…:   8%|██▏                        | 10/126 [00:01<00:12,  9.60it/s]<ipython-input-22-35bcd1737ba8>:60: RuntimeWarning: divide by zero encountered in log\n",
            "  p_of_y_given_x = np.log(p_of_y * p_of_x_given_y)\n",
            "Loading…: 100%|██████████████████████████| 126/126 [00:15<00:00,  8.05it/s]\n"
          ]
        },
        {
          "output_type": "stream",
          "name": "stdout",
          "text": [
            "Iteration: 181\n"
          ]
        },
        {
          "output_type": "stream",
          "name": "stderr",
          "text": [
            "Loading…: 100%|█████████████████████████| 126/126 [00:00<00:00, 303.08it/s]\n",
            "Loading…: 100%|█████████████████████████| 126/126 [00:00<00:00, 235.45it/s]\n",
            "Loading…: 100%|█████████████████████████| 126/126 [00:00<00:00, 162.85it/s]\n",
            "Loading…: 100%|█████████████████████████| 126/126 [00:00<00:00, 167.95it/s]\n",
            "Loading…: 100%|█████████████████████████| 126/126 [00:00<00:00, 169.52it/s]\n",
            "Loading…: 100%|█████████████████████████| 126/126 [00:00<00:00, 164.68it/s]\n",
            "Loading…: 100%|█████████████████████████| 126/126 [00:00<00:00, 214.12it/s]\n",
            "Loading…: 100%|█████████████████████████| 126/126 [00:00<00:00, 302.12it/s]\n",
            "Loading…: 100%|█████████████████████████| 126/126 [00:00<00:00, 270.93it/s]\n",
            "Loading…: 100%|█████████████████████████| 126/126 [00:00<00:00, 304.49it/s]\n"
          ]
        },
        {
          "output_type": "stream",
          "name": "stdout",
          "text": [
            "Iteration: 182\n"
          ]
        },
        {
          "output_type": "stream",
          "name": "stderr",
          "text": [
            "Loading…: 100%|█████████████████████████| 126/126 [00:00<00:00, 246.14it/s]\n",
            "Loading…: 100%|█████████████████████████| 126/126 [00:00<00:00, 212.00it/s]\n",
            "Loading…: 100%|█████████████████████████| 126/126 [00:00<00:00, 240.20it/s]\n",
            "Loading…: 100%|█████████████████████████| 126/126 [00:00<00:00, 263.12it/s]\n",
            "Loading…: 100%|█████████████████████████| 126/126 [00:00<00:00, 234.64it/s]\n",
            "Loading…: 100%|█████████████████████████| 126/126 [00:00<00:00, 257.06it/s]\n",
            "Loading…: 100%|█████████████████████████| 126/126 [00:00<00:00, 228.97it/s]\n",
            "Loading…: 100%|█████████████████████████| 126/126 [00:00<00:00, 225.05it/s]\n",
            "Loading…: 100%|█████████████████████████| 126/126 [00:00<00:00, 220.95it/s]\n",
            "Loading…: 100%|█████████████████████████| 126/126 [00:00<00:00, 156.36it/s]\n"
          ]
        },
        {
          "output_type": "stream",
          "name": "stdout",
          "text": [
            "Iteration: 183\n"
          ]
        },
        {
          "output_type": "stream",
          "name": "stderr",
          "text": [
            "Loading…: 100%|█████████████████████████| 126/126 [00:00<00:00, 129.09it/s]\n",
            "Loading…: 100%|█████████████████████████| 126/126 [00:00<00:00, 175.87it/s]\n",
            "Loading…: 100%|█████████████████████████| 126/126 [00:00<00:00, 193.52it/s]\n",
            "Loading…: 100%|█████████████████████████| 126/126 [00:00<00:00, 207.99it/s]\n",
            "Loading…: 100%|█████████████████████████| 126/126 [00:00<00:00, 190.73it/s]\n",
            "Loading…: 100%|█████████████████████████| 126/126 [00:00<00:00, 203.06it/s]\n",
            "Loading…: 100%|█████████████████████████| 126/126 [00:00<00:00, 183.29it/s]\n",
            "Loading…: 100%|█████████████████████████| 126/126 [00:00<00:00, 190.12it/s]\n",
            "Loading…: 100%|█████████████████████████| 126/126 [00:00<00:00, 182.78it/s]\n",
            "Loading…: 100%|█████████████████████████| 126/126 [00:00<00:00, 187.55it/s]\n"
          ]
        },
        {
          "output_type": "stream",
          "name": "stdout",
          "text": [
            "Iteration: 184\n"
          ]
        },
        {
          "output_type": "stream",
          "name": "stderr",
          "text": [
            "Loading…: 100%|██████████████████████████| 126/126 [00:01<00:00, 94.77it/s]\n",
            "Loading…: 100%|█████████████████████████| 126/126 [00:00<00:00, 155.62it/s]\n",
            "Loading…: 100%|█████████████████████████| 126/126 [00:00<00:00, 170.90it/s]\n",
            "Loading…: 100%|█████████████████████████| 126/126 [00:00<00:00, 178.65it/s]\n",
            "Loading…: 100%|█████████████████████████| 126/126 [00:00<00:00, 172.08it/s]\n",
            "Loading…: 100%|█████████████████████████| 126/126 [00:00<00:00, 164.89it/s]\n",
            "Loading…: 100%|█████████████████████████| 126/126 [00:00<00:00, 162.11it/s]\n",
            "Loading…: 100%|█████████████████████████| 126/126 [00:00<00:00, 162.81it/s]\n",
            "Loading…: 100%|█████████████████████████| 126/126 [00:00<00:00, 161.95it/s]\n",
            "Loading…: 100%|██████████████████████████| 126/126 [00:01<00:00, 85.82it/s]\n"
          ]
        },
        {
          "output_type": "stream",
          "name": "stdout",
          "text": [
            "Iteration: 185\n"
          ]
        },
        {
          "output_type": "stream",
          "name": "stderr",
          "text": [
            "Loading…: 100%|█████████████████████████| 126/126 [00:00<00:00, 165.54it/s]\n",
            "Loading…: 100%|█████████████████████████| 126/126 [00:00<00:00, 128.96it/s]\n",
            "Loading…: 100%|██████████████████████████| 126/126 [00:01<00:00, 80.06it/s]\n",
            "Loading…: 100%|█████████████████████████| 126/126 [00:00<00:00, 145.02it/s]\n",
            "Loading…: 100%|█████████████████████████| 126/126 [00:00<00:00, 143.15it/s]\n",
            "Loading…: 100%|█████████████████████████| 126/126 [00:01<00:00, 110.32it/s]\n",
            "Loading…: 100%|██████████████████████████| 126/126 [00:01<00:00, 74.51it/s]\n",
            "Loading…: 100%|█████████████████████████| 126/126 [00:00<00:00, 142.84it/s]\n",
            "Loading…: 100%|█████████████████████████| 126/126 [00:00<00:00, 139.24it/s]\n",
            "Loading…: 100%|█████████████████████████| 126/126 [00:00<00:00, 142.72it/s]\n"
          ]
        },
        {
          "output_type": "stream",
          "name": "stdout",
          "text": [
            "Iteration: 186\n"
          ]
        },
        {
          "output_type": "stream",
          "name": "stderr",
          "text": [
            "Loading…: 100%|█████████████████████████| 126/126 [00:00<00:00, 300.53it/s]\n",
            "Loading…: 100%|█████████████████████████| 126/126 [00:00<00:00, 232.77it/s]\n",
            "Loading…: 100%|█████████████████████████| 126/126 [00:00<00:00, 280.11it/s]\n",
            "Loading…: 100%|█████████████████████████| 126/126 [00:00<00:00, 277.44it/s]\n",
            "Loading…: 100%|█████████████████████████| 126/126 [00:00<00:00, 285.21it/s]\n",
            "Loading…: 100%|█████████████████████████| 126/126 [00:00<00:00, 283.98it/s]\n",
            "Loading…: 100%|█████████████████████████| 126/126 [00:00<00:00, 277.02it/s]\n",
            "Loading…: 100%|█████████████████████████| 126/126 [00:00<00:00, 243.30it/s]\n",
            "Loading…: 100%|█████████████████████████| 126/126 [00:00<00:00, 154.35it/s]\n",
            "Loading…: 100%|█████████████████████████| 126/126 [00:00<00:00, 155.11it/s]\n"
          ]
        },
        {
          "output_type": "stream",
          "name": "stdout",
          "text": [
            "Iteration: 187\n"
          ]
        },
        {
          "output_type": "stream",
          "name": "stderr",
          "text": [
            "Loading…: 100%|█████████████████████████| 126/126 [00:00<00:00, 241.52it/s]\n",
            "Loading…: 100%|█████████████████████████| 126/126 [00:00<00:00, 216.13it/s]\n",
            "Loading…: 100%|█████████████████████████| 126/126 [00:00<00:00, 225.01it/s]\n",
            "Loading…: 100%|█████████████████████████| 126/126 [00:00<00:00, 245.96it/s]\n",
            "Loading…: 100%|█████████████████████████| 126/126 [00:00<00:00, 214.63it/s]\n",
            "Loading…: 100%|█████████████████████████| 126/126 [00:00<00:00, 232.00it/s]\n",
            "Loading…: 100%|█████████████████████████| 126/126 [00:00<00:00, 223.12it/s]\n",
            "Loading…: 100%|█████████████████████████| 126/126 [00:00<00:00, 216.61it/s]\n",
            "Loading…: 100%|█████████████████████████| 126/126 [00:00<00:00, 221.37it/s]\n",
            "Loading…: 100%|█████████████████████████| 126/126 [00:00<00:00, 226.48it/s]\n"
          ]
        },
        {
          "output_type": "stream",
          "name": "stdout",
          "text": [
            "Iteration: 188\n"
          ]
        },
        {
          "output_type": "stream",
          "name": "stderr",
          "text": [
            "Loading…: 100%|█████████████████████████| 126/126 [00:00<00:00, 193.52it/s]\n",
            "Loading…: 100%|██████████████████████████| 126/126 [00:01<00:00, 96.90it/s]\n",
            "Loading…: 100%|█████████████████████████| 126/126 [00:01<00:00, 105.55it/s]\n",
            "Loading…: 100%|█████████████████████████| 126/126 [00:00<00:00, 204.05it/s]\n",
            "Loading…: 100%|█████████████████████████| 126/126 [00:00<00:00, 187.57it/s]\n",
            "Loading…: 100%|█████████████████████████| 126/126 [00:00<00:00, 193.90it/s]\n",
            "Loading…: 100%|█████████████████████████| 126/126 [00:00<00:00, 183.56it/s]\n",
            "Loading…: 100%|█████████████████████████| 126/126 [00:00<00:00, 179.67it/s]\n",
            "Loading…: 100%|█████████████████████████| 126/126 [00:00<00:00, 174.62it/s]\n",
            "Loading…: 100%|█████████████████████████| 126/126 [00:00<00:00, 191.52it/s]\n"
          ]
        },
        {
          "output_type": "stream",
          "name": "stdout",
          "text": [
            "Iteration: 189\n"
          ]
        },
        {
          "output_type": "stream",
          "name": "stderr",
          "text": [
            "Loading…: 100%|█████████████████████████| 126/126 [00:00<00:00, 179.84it/s]\n",
            "Loading…: 100%|██████████████████████████| 126/126 [00:01<00:00, 79.12it/s]\n",
            "Loading…: 100%|█████████████████████████| 126/126 [00:01<00:00, 101.96it/s]\n",
            "Loading…: 100%|█████████████████████████| 126/126 [00:00<00:00, 179.33it/s]\n",
            "Loading…: 100%|█████████████████████████| 126/126 [00:00<00:00, 164.98it/s]\n",
            "Loading…: 100%|█████████████████████████| 126/126 [00:00<00:00, 172.18it/s]\n",
            "Loading…: 100%|█████████████████████████| 126/126 [00:00<00:00, 160.20it/s]\n",
            "Loading…: 100%|█████████████████████████| 126/126 [00:00<00:00, 157.32it/s]\n",
            "Loading…: 100%|█████████████████████████| 126/126 [00:00<00:00, 153.89it/s]\n",
            "Loading…: 100%|█████████████████████████| 126/126 [00:00<00:00, 166.31it/s]\n"
          ]
        },
        {
          "output_type": "stream",
          "name": "stdout",
          "text": [
            "Iteration: 190\n"
          ]
        },
        {
          "output_type": "stream",
          "name": "stderr",
          "text": [
            "Loading…: 100%|██████████████████████████| 126/126 [00:01<00:00, 80.77it/s]\n",
            "Loading…: 100%|█████████████████████████| 126/126 [00:00<00:00, 129.06it/s]\n",
            "Loading…: 100%|█████████████████████████| 126/126 [00:00<00:00, 144.76it/s]\n",
            "Loading…: 100%|█████████████████████████| 126/126 [00:00<00:00, 159.21it/s]\n",
            "Loading…: 100%|█████████████████████████| 126/126 [00:00<00:00, 148.00it/s]\n",
            "Loading…: 100%|█████████████████████████| 126/126 [00:00<00:00, 151.14it/s]\n",
            "Loading…: 100%|█████████████████████████| 126/126 [00:00<00:00, 140.09it/s]\n",
            "Loading…: 100%|██████████████████████████| 126/126 [00:01<00:00, 76.02it/s]\n",
            "Loading…: 100%|██████████████████████████| 126/126 [00:01<00:00, 88.16it/s]\n",
            "Loading…: 100%|█████████████████████████| 126/126 [00:00<00:00, 144.99it/s]\n"
          ]
        },
        {
          "output_type": "stream",
          "name": "stdout",
          "text": [
            "Iteration: 191\n"
          ]
        },
        {
          "output_type": "stream",
          "name": "stderr",
          "text": [
            "Loading…: 100%|█████████████████████████| 126/126 [00:00<00:00, 156.44it/s]\n",
            "Loading…: 100%|█████████████████████████| 126/126 [00:00<00:00, 143.21it/s]\n",
            "Loading…: 100%|█████████████████████████| 126/126 [00:00<00:00, 144.21it/s]\n",
            "Loading…: 100%|█████████████████████████| 126/126 [00:00<00:00, 152.61it/s]\n",
            "Loading…: 100%|█████████████████████████| 126/126 [00:00<00:00, 144.19it/s]\n",
            "Loading…: 100%|█████████████████████████| 126/126 [00:00<00:00, 152.37it/s]\n",
            "Loading…: 100%|█████████████████████████| 126/126 [00:00<00:00, 144.13it/s]\n",
            "Loading…: 100%|██████████████████████████| 126/126 [00:01<00:00, 95.61it/s]\n",
            "Loading…: 100%|██████████████████████████| 126/126 [00:01<00:00, 77.62it/s]\n",
            "Loading…: 100%|██████████████████████████| 126/126 [00:01<00:00, 91.39it/s]\n"
          ]
        },
        {
          "output_type": "stream",
          "name": "stdout",
          "text": [
            "Iteration: 192\n"
          ]
        },
        {
          "output_type": "stream",
          "name": "stderr",
          "text": [
            "Loading…: 100%|█████████████████████████| 126/126 [00:01<00:00, 120.55it/s]\n",
            "Loading…: 100%|█████████████████████████| 126/126 [00:01<00:00, 109.40it/s]\n",
            "Loading…: 100%|█████████████████████████| 126/126 [00:01<00:00, 117.68it/s]\n",
            "Loading…: 100%|█████████████████████████| 126/126 [00:01<00:00, 120.08it/s]\n",
            "Loading…: 100%|█████████████████████████| 126/126 [00:01<00:00, 116.78it/s]\n",
            "Loading…: 100%|█████████████████████████| 126/126 [00:01<00:00, 118.43it/s]\n",
            "Loading…: 100%|██████████████████████████| 126/126 [00:01<00:00, 89.21it/s]\n",
            "Loading…: 100%|██████████████████████████| 126/126 [00:02<00:00, 59.05it/s]\n",
            "Loading…: 100%|██████████████████████████| 126/126 [00:02<00:00, 54.53it/s]\n",
            "Loading…: 100%|██████████████████████████| 126/126 [00:01<00:00, 67.88it/s]\n"
          ]
        },
        {
          "output_type": "stream",
          "name": "stdout",
          "text": [
            "Iteration: 193\n"
          ]
        },
        {
          "output_type": "stream",
          "name": "stderr",
          "text": [
            "Loading…: 100%|█████████████████████████| 126/126 [00:01<00:00, 104.16it/s]\n",
            "Loading…: 100%|██████████████████████████| 126/126 [00:01<00:00, 88.68it/s]\n",
            "Loading…: 100%|██████████████████████████| 126/126 [00:01<00:00, 97.60it/s]\n",
            "Loading…: 100%|██████████████████████████| 126/126 [00:01<00:00, 67.79it/s]\n",
            "Loading…: 100%|██████████████████████████| 126/126 [00:02<00:00, 56.32it/s]\n",
            "Loading…: 100%|██████████████████████████| 126/126 [00:01<00:00, 98.95it/s]\n",
            "Loading…: 100%|██████████████████████████| 126/126 [00:01<00:00, 90.45it/s]\n",
            "Loading…: 100%|██████████████████████████| 126/126 [00:01<00:00, 90.86it/s]\n",
            "Loading…: 100%|██████████████████████████| 126/126 [00:01<00:00, 93.64it/s]\n",
            "Loading…: 100%|██████████████████████████| 126/126 [00:01<00:00, 95.22it/s]\n"
          ]
        },
        {
          "output_type": "stream",
          "name": "stdout",
          "text": [
            "Iteration: 194\n"
          ]
        },
        {
          "output_type": "stream",
          "name": "stderr",
          "text": [
            "Loading…: 100%|██████████████████████████| 126/126 [00:02<00:00, 47.07it/s]\n",
            "Loading…: 100%|██████████████████████████| 126/126 [00:01<00:00, 77.33it/s]\n",
            "Loading…: 100%|██████████████████████████| 126/126 [00:01<00:00, 85.25it/s]\n",
            "Loading…: 100%|██████████████████████████| 126/126 [00:01<00:00, 93.08it/s]\n",
            "Loading…: 100%|██████████████████████████| 126/126 [00:01<00:00, 85.30it/s]\n",
            "Loading…: 100%|██████████████████████████| 126/126 [00:01<00:00, 88.13it/s]\n",
            "Loading…: 100%|██████████████████████████| 126/126 [00:03<00:00, 41.48it/s]\n",
            "Loading…: 100%|██████████████████████████| 126/126 [00:01<00:00, 81.08it/s]\n",
            "Loading…: 100%|██████████████████████████| 126/126 [00:01<00:00, 79.51it/s]\n",
            "Loading…: 100%|██████████████████████████| 126/126 [00:01<00:00, 84.05it/s]\n"
          ]
        },
        {
          "output_type": "stream",
          "name": "stdout",
          "text": [
            "Iteration: 195\n"
          ]
        },
        {
          "output_type": "stream",
          "name": "stderr",
          "text": [
            "Loading…: 100%|██████████████████████████| 126/126 [00:01<00:00, 79.17it/s]\n",
            "Loading…: 100%|██████████████████████████| 126/126 [00:03<00:00, 39.61it/s]\n",
            "Loading…: 100%|██████████████████████████| 126/126 [00:01<00:00, 73.88it/s]\n",
            "Loading…: 100%|██████████████████████████| 126/126 [00:01<00:00, 82.37it/s]\n",
            "Loading…: 100%|██████████████████████████| 126/126 [00:01<00:00, 71.67it/s]\n",
            "Loading…: 100%|██████████████████████████| 126/126 [00:01<00:00, 76.85it/s]\n",
            "Loading…: 100%|██████████████████████████| 126/126 [00:02<00:00, 48.16it/s]\n",
            "Loading…: 100%|██████████████████████████| 126/126 [00:02<00:00, 59.04it/s]\n",
            "Loading…: 100%|██████████████████████████| 126/126 [00:01<00:00, 70.79it/s]\n",
            "Loading…: 100%|██████████████████████████| 126/126 [00:01<00:00, 74.05it/s]\n"
          ]
        },
        {
          "output_type": "stream",
          "name": "stdout",
          "text": [
            "Iteration: 196\n"
          ]
        },
        {
          "output_type": "stream",
          "name": "stderr",
          "text": [
            "Loading…: 100%|█████████████████████████| 126/126 [00:00<00:00, 147.72it/s]\n",
            "Loading…: 100%|█████████████████████████| 126/126 [00:00<00:00, 140.98it/s]\n",
            "Loading…: 100%|█████████████████████████| 126/126 [00:00<00:00, 139.89it/s]\n",
            "Loading…: 100%|██████████████████████████| 126/126 [00:01<00:00, 82.97it/s]\n",
            "Loading…: 100%|██████████████████████████| 126/126 [00:01<00:00, 79.02it/s]\n",
            "Loading…: 100%|█████████████████████████| 126/126 [00:01<00:00, 120.23it/s]\n",
            "Loading…: 100%|█████████████████████████| 126/126 [00:00<00:00, 140.49it/s]\n",
            "Loading…: 100%|█████████████████████████| 126/126 [00:00<00:00, 145.02it/s]\n",
            "Loading…: 100%|█████████████████████████| 126/126 [00:00<00:00, 140.20it/s]\n",
            "Loading…: 100%|█████████████████████████| 126/126 [00:00<00:00, 142.28it/s]\n"
          ]
        },
        {
          "output_type": "stream",
          "name": "stdout",
          "text": [
            "Iteration: 197\n"
          ]
        },
        {
          "output_type": "stream",
          "name": "stderr",
          "text": [
            "Loading…: 100%|█████████████████████████| 126/126 [00:01<00:00, 117.83it/s]\n",
            "Loading…: 100%|█████████████████████████| 126/126 [00:01<00:00, 105.31it/s]\n",
            "Loading…: 100%|█████████████████████████| 126/126 [00:01<00:00, 117.91it/s]\n",
            "Loading…: 100%|██████████████████████████| 126/126 [00:01<00:00, 65.20it/s]\n",
            "Loading…: 100%|██████████████████████████| 126/126 [00:01<00:00, 66.76it/s]\n",
            "Loading…: 100%|█████████████████████████| 126/126 [00:01<00:00, 117.87it/s]\n",
            "Loading…: 100%|█████████████████████████| 126/126 [00:01<00:00, 109.39it/s]\n",
            "Loading…: 100%|█████████████████████████| 126/126 [00:01<00:00, 109.26it/s]\n",
            "Loading…: 100%|█████████████████████████| 126/126 [00:01<00:00, 109.52it/s]\n",
            "Loading…: 100%|██████████████████████████| 126/126 [00:01<00:00, 77.66it/s]\n"
          ]
        },
        {
          "output_type": "stream",
          "name": "stdout",
          "text": [
            "Iteration: 198\n"
          ]
        },
        {
          "output_type": "stream",
          "name": "stderr",
          "text": [
            "Loading…: 100%|██████████████████████████| 126/126 [00:02<00:00, 51.69it/s]\n",
            "Loading…: 100%|██████████████████████████| 126/126 [00:01<00:00, 65.06it/s]\n",
            "Loading…: 100%|██████████████████████████| 126/126 [00:01<00:00, 94.96it/s]\n",
            "Loading…: 100%|█████████████████████████| 126/126 [00:01<00:00, 100.56it/s]\n",
            "Loading…: 100%|██████████████████████████| 126/126 [00:01<00:00, 92.63it/s]\n",
            "Loading…: 100%|██████████████████████████| 126/126 [00:01<00:00, 94.86it/s]\n",
            "Loading…: 100%|██████████████████████████| 126/126 [00:01<00:00, 85.67it/s]\n",
            "Loading…: 100%|██████████████████████████| 126/126 [00:02<00:00, 48.01it/s]\n",
            "Loading…: 100%|██████████████████████████| 126/126 [00:01<00:00, 74.86it/s]\n",
            "Loading…: 100%|██████████████████████████| 126/126 [00:01<00:00, 95.45it/s]\n"
          ]
        },
        {
          "output_type": "stream",
          "name": "stdout",
          "text": [
            "Iteration: 199\n"
          ]
        },
        {
          "output_type": "stream",
          "name": "stderr",
          "text": [
            "Loading…: 100%|██████████████████████████| 126/126 [00:01<00:00, 87.47it/s]\n",
            "Loading…: 100%|██████████████████████████| 126/126 [00:01<00:00, 71.75it/s]\n",
            "Loading…: 100%|██████████████████████████| 126/126 [00:01<00:00, 74.63it/s]\n",
            "Loading…: 100%|██████████████████████████| 126/126 [00:02<00:00, 48.39it/s]\n",
            "Loading…: 100%|██████████████████████████| 126/126 [00:01<00:00, 82.81it/s]\n",
            "Loading…: 100%|██████████████████████████| 126/126 [00:01<00:00, 79.31it/s]\n",
            "Loading…: 100%|██████████████████████████| 126/126 [00:01<00:00, 77.26it/s]\n",
            "Loading…: 100%|██████████████████████████| 126/126 [00:01<00:00, 75.89it/s]\n",
            "Loading…: 100%|██████████████████████████| 126/126 [00:02<00:00, 53.55it/s]\n",
            "Loading…: 100%|██████████████████████████| 126/126 [00:02<00:00, 57.81it/s]\n"
          ]
        },
        {
          "output_type": "stream",
          "name": "stdout",
          "text": [
            "Iteration: 200\n"
          ]
        },
        {
          "output_type": "stream",
          "name": "stderr",
          "text": [
            "Loading…: 100%|██████████████████████████| 126/126 [00:01<00:00, 78.63it/s]\n",
            "Loading…: 100%|██████████████████████████| 126/126 [00:01<00:00, 65.91it/s]\n",
            "Loading…: 100%|██████████████████████████| 126/126 [00:01<00:00, 73.31it/s]\n",
            "Loading…: 100%|██████████████████████████| 126/126 [00:02<00:00, 43.44it/s]\n",
            "Loading…: 100%|██████████████████████████| 126/126 [00:01<00:00, 71.52it/s]\n",
            "Loading…: 100%|██████████████████████████| 126/126 [00:01<00:00, 76.38it/s]\n",
            "Loading…: 100%|██████████████████████████| 126/126 [00:01<00:00, 68.59it/s]\n",
            "Loading…: 100%|██████████████████████████| 126/126 [00:01<00:00, 68.96it/s]\n",
            "Loading…: 100%|██████████████████████████| 126/126 [00:03<00:00, 37.92it/s]\n",
            "Loading…: 100%|██████████████████████████| 126/126 [00:01<00:00, 69.49it/s]\n"
          ]
        },
        {
          "output_type": "stream",
          "name": "stdout",
          "text": [
            "Iteration: 201\n"
          ]
        },
        {
          "output_type": "stream",
          "name": "stderr",
          "text": [
            "Loading…: 100%|██████████████████████████| 126/126 [00:01<00:00, 76.87it/s]\n",
            "Loading…: 100%|██████████████████████████| 126/126 [00:01<00:00, 70.18it/s]\n",
            "Loading…: 100%|██████████████████████████| 126/126 [00:01<00:00, 73.38it/s]\n",
            "Loading…: 100%|██████████████████████████| 126/126 [00:01<00:00, 63.99it/s]\n",
            "Loading…: 100%|██████████████████████████| 126/126 [00:03<00:00, 40.31it/s]\n",
            "Loading…: 100%|██████████████████████████| 126/126 [00:01<00:00, 71.63it/s]\n",
            "Loading…: 100%|██████████████████████████| 126/126 [00:01<00:00, 72.05it/s]\n",
            "Loading…: 100%|██████████████████████████| 126/126 [00:01<00:00, 72.47it/s]\n",
            "Loading…: 100%|██████████████████████████| 126/126 [00:01<00:00, 71.93it/s]\n",
            "Loading…: 100%|██████████████████████████| 126/126 [00:01<00:00, 74.46it/s]\n"
          ]
        },
        {
          "output_type": "stream",
          "name": "stdout",
          "text": [
            "Iteration: 202\n"
          ]
        },
        {
          "output_type": "stream",
          "name": "stderr",
          "text": [
            "Loading…: 100%|██████████████████████████| 126/126 [00:04<00:00, 30.80it/s]\n",
            "Loading…: 100%|██████████████████████████| 126/126 [00:03<00:00, 32.76it/s]\n",
            "Loading…: 100%|██████████████████████████| 126/126 [00:02<00:00, 58.72it/s]\n",
            "Loading…: 100%|██████████████████████████| 126/126 [00:02<00:00, 61.25it/s]\n",
            "Loading…: 100%|██████████████████████████| 126/126 [00:03<00:00, 36.98it/s]\n",
            "Loading…: 100%|██████████████████████████| 126/126 [00:02<00:00, 49.50it/s]\n",
            "Loading…: 100%|██████████████████████████| 126/126 [00:02<00:00, 55.35it/s]\n",
            "Loading…: 100%|██████████████████████████| 126/126 [00:02<00:00, 55.81it/s]\n",
            "Loading…: 100%|██████████████████████████| 126/126 [00:02<00:00, 54.06it/s]\n",
            "Loading…: 100%|██████████████████████████| 126/126 [00:03<00:00, 35.13it/s]\n"
          ]
        },
        {
          "output_type": "stream",
          "name": "stdout",
          "text": [
            "Iteration: 203\n"
          ]
        },
        {
          "output_type": "stream",
          "name": "stderr",
          "text": [
            "Loading…: 100%|██████████████████████████| 126/126 [00:02<00:00, 49.52it/s]\n",
            "Loading…: 100%|██████████████████████████| 126/126 [00:02<00:00, 44.10it/s]\n",
            "Loading…: 100%|██████████████████████████| 126/126 [00:02<00:00, 48.50it/s]\n",
            "Loading…: 100%|██████████████████████████| 126/126 [00:04<00:00, 29.37it/s]\n",
            "Loading…: 100%|██████████████████████████| 126/126 [00:02<00:00, 48.07it/s]\n",
            "Loading…: 100%|██████████████████████████| 126/126 [00:02<00:00, 48.46it/s]\n",
            "Loading…: 100%|██████████████████████████| 126/126 [00:02<00:00, 45.53it/s]\n",
            "Loading…: 100%|██████████████████████████| 126/126 [00:04<00:00, 27.54it/s]\n",
            "Loading…: 100%|██████████████████████████| 126/126 [00:02<00:00, 44.39it/s]\n",
            "Loading…: 100%|██████████████████████████| 126/126 [00:02<00:00, 43.43it/s]\n"
          ]
        },
        {
          "output_type": "stream",
          "name": "stdout",
          "text": [
            "Iteration: 204\n"
          ]
        },
        {
          "output_type": "stream",
          "name": "stderr",
          "text": [
            "Loading…: 100%|██████████████████████████| 126/126 [00:04<00:00, 29.18it/s]\n",
            "Loading…: 100%|██████████████████████████| 126/126 [00:03<00:00, 37.51it/s]\n",
            "Loading…: 100%|██████████████████████████| 126/126 [00:03<00:00, 41.92it/s]\n",
            "Loading…: 100%|██████████████████████████| 126/126 [00:02<00:00, 42.16it/s]\n",
            "Loading…: 100%|██████████████████████████| 126/126 [00:04<00:00, 29.86it/s]\n",
            "Loading…: 100%|██████████████████████████| 126/126 [00:02<00:00, 42.73it/s]\n",
            "Loading…: 100%|██████████████████████████| 126/126 [00:03<00:00, 39.53it/s]\n",
            "Loading…: 100%|██████████████████████████| 126/126 [00:05<00:00, 25.01it/s]\n",
            "Loading…: 100%|██████████████████████████| 126/126 [00:03<00:00, 39.83it/s]\n",
            "Loading…: 100%|██████████████████████████| 126/126 [00:03<00:00, 31.70it/s]\n"
          ]
        },
        {
          "output_type": "stream",
          "name": "stdout",
          "text": [
            "Iteration: 205\n"
          ]
        },
        {
          "output_type": "stream",
          "name": "stderr",
          "text": [
            "Loading…: 100%|██████████████████████████| 126/126 [00:04<00:00, 29.54it/s]\n",
            "Loading…: 100%|██████████████████████████| 126/126 [00:03<00:00, 33.72it/s]\n",
            "Loading…: 100%|██████████████████████████| 126/126 [00:03<00:00, 33.97it/s]\n",
            "Loading…: 100%|██████████████████████████| 126/126 [00:04<00:00, 31.10it/s]\n",
            "Loading…: 100%|██████████████████████████| 126/126 [00:03<00:00, 37.14it/s]\n",
            "Loading…: 100%|██████████████████████████| 126/126 [00:03<00:00, 38.00it/s]\n",
            "Loading…: 100%|██████████████████████████| 126/126 [00:04<00:00, 26.03it/s]\n",
            "Loading…: 100%|██████████████████████████| 126/126 [00:03<00:00, 34.90it/s]\n",
            "Loading…: 100%|██████████████████████████| 126/126 [00:04<00:00, 29.17it/s]\n",
            "Loading…: 100%|██████████████████████████| 126/126 [00:04<00:00, 31.32it/s]\n"
          ]
        },
        {
          "output_type": "stream",
          "name": "stdout",
          "text": [
            "Iteration: 206\n"
          ]
        },
        {
          "output_type": "stream",
          "name": "stderr",
          "text": [
            "Loading…: 100%|██████████████████████████| 126/126 [00:01<00:00, 74.70it/s]\n",
            "Loading…: 100%|██████████████████████████| 126/126 [00:01<00:00, 68.53it/s]\n",
            "Loading…: 100%|██████████████████████████| 126/126 [00:01<00:00, 72.83it/s]\n",
            "Loading…: 100%|██████████████████████████| 126/126 [00:02<00:00, 46.78it/s]\n",
            "Loading…: 100%|██████████████████████████| 126/126 [00:02<00:00, 51.68it/s]\n",
            "Loading…: 100%|██████████████████████████| 126/126 [00:01<00:00, 72.95it/s]\n",
            "Loading…: 100%|██████████████████████████| 126/126 [00:01<00:00, 70.52it/s]\n",
            "Loading…: 100%|██████████████████████████| 126/126 [00:01<00:00, 71.71it/s]\n",
            "Loading…: 100%|██████████████████████████| 126/126 [00:01<00:00, 67.55it/s]\n",
            "Loading…: 100%|██████████████████████████| 126/126 [00:01<00:00, 63.73it/s]\n"
          ]
        },
        {
          "output_type": "stream",
          "name": "stdout",
          "text": [
            "Iteration: 207\n"
          ]
        },
        {
          "output_type": "stream",
          "name": "stderr",
          "text": [
            "Loading…: 100%|██████████████████████████| 126/126 [00:02<00:00, 47.24it/s]\n",
            "Loading…: 100%|██████████████████████████| 126/126 [00:02<00:00, 52.98it/s]\n",
            "Loading…: 100%|██████████████████████████| 126/126 [00:02<00:00, 57.65it/s]\n",
            "Loading…: 100%|██████████████████████████| 126/126 [00:02<00:00, 59.83it/s]\n",
            "Loading…: 100%|██████████████████████████| 126/126 [00:03<00:00, 35.96it/s]\n",
            "Loading…: 100%|██████████████████████████| 126/126 [00:02<00:00, 50.25it/s]\n",
            "Loading…: 100%|██████████████████████████| 126/126 [00:02<00:00, 54.36it/s]\n",
            "Loading…: 100%|██████████████████████████| 126/126 [00:02<00:00, 54.28it/s]\n",
            "Loading…: 100%|██████████████████████████| 126/126 [00:02<00:00, 54.42it/s]\n",
            "Loading…: 100%|██████████████████████████| 126/126 [00:04<00:00, 31.13it/s]\n"
          ]
        },
        {
          "output_type": "stream",
          "name": "stdout",
          "text": [
            "Iteration: 208\n"
          ]
        },
        {
          "output_type": "stream",
          "name": "stderr",
          "text": [
            "Loading…: 100%|██████████████████████████| 126/126 [00:03<00:00, 32.59it/s]\n",
            "Loading…: 100%|██████████████████████████| 126/126 [00:02<00:00, 43.08it/s]\n",
            "Loading…: 100%|██████████████████████████| 126/126 [00:04<00:00, 28.92it/s]\n",
            "Loading…: 100%|██████████████████████████| 126/126 [00:02<00:00, 50.04it/s]\n",
            "Loading…: 100%|██████████████████████████| 126/126 [00:02<00:00, 47.07it/s]\n",
            "Loading…: 100%|██████████████████████████| 126/126 [00:02<00:00, 48.19it/s]\n",
            "Loading…: 100%|██████████████████████████| 126/126 [00:04<00:00, 27.86it/s]\n",
            "Loading…: 100%|██████████████████████████| 126/126 [00:02<00:00, 44.37it/s]\n",
            "Loading…: 100%|██████████████████████████| 126/126 [00:02<00:00, 43.34it/s]\n",
            "Loading…: 100%|██████████████████████████| 126/126 [00:02<00:00, 46.95it/s]\n"
          ]
        },
        {
          "output_type": "stream",
          "name": "stdout",
          "text": [
            "Iteration: 209\n"
          ]
        },
        {
          "output_type": "stream",
          "name": "stderr",
          "text": [
            "Loading…: 100%|██████████████████████████| 126/126 [00:03<00:00, 33.54it/s]\n",
            "Loading…: 100%|██████████████████████████| 126/126 [00:03<00:00, 36.61it/s]\n",
            "Loading…: 100%|██████████████████████████| 126/126 [00:03<00:00, 40.41it/s]\n",
            "Loading…: 100%|██████████████████████████| 126/126 [00:04<00:00, 27.43it/s]\n",
            "Loading…: 100%|██████████████████████████| 126/126 [00:03<00:00, 39.79it/s]\n",
            "Loading…: 100%|██████████████████████████| 126/126 [00:02<00:00, 42.25it/s]\n",
            "Loading…: 100%|██████████████████████████| 126/126 [00:04<00:00, 25.48it/s]\n",
            "Loading…: 100%|██████████████████████████| 126/126 [00:03<00:00, 38.92it/s]\n",
            "Loading…: 100%|██████████████████████████| 126/126 [00:03<00:00, 38.77it/s]\n",
            "Loading…: 100%|██████████████████████████| 126/126 [00:04<00:00, 30.69it/s]\n"
          ]
        },
        {
          "output_type": "stream",
          "name": "stdout",
          "text": [
            "Iteration: 210\n"
          ]
        },
        {
          "output_type": "stream",
          "name": "stderr",
          "text": [
            "Loading…: 100%|██████████████████████████| 126/126 [00:03<00:00, 38.23it/s]\n",
            "Loading…: 100%|██████████████████████████| 126/126 [00:03<00:00, 32.19it/s]\n",
            "Loading…: 100%|██████████████████████████| 126/126 [00:05<00:00, 23.91it/s]\n",
            "Loading…: 100%|██████████████████████████| 126/126 [00:03<00:00, 39.58it/s]\n",
            "Loading…: 100%|██████████████████████████| 126/126 [00:04<00:00, 30.11it/s]\n",
            "Loading…: 100%|██████████████████████████| 126/126 [00:05<00:00, 22.46it/s]\n",
            "Loading…: 100%|██████████████████████████| 126/126 [00:03<00:00, 34.34it/s]\n",
            "Loading…: 100%|██████████████████████████| 126/126 [00:03<00:00, 33.78it/s]\n",
            "Loading…: 100%|██████████████████████████| 126/126 [00:05<00:00, 24.99it/s]\n",
            "Loading…: 100%|██████████████████████████| 126/126 [00:03<00:00, 35.00it/s]\n"
          ]
        },
        {
          "output_type": "stream",
          "name": "stdout",
          "text": [
            "Iteration: 211\n"
          ]
        },
        {
          "output_type": "stream",
          "name": "stderr",
          "text": [
            "Loading…: 100%|██████████████████████████| 126/126 [00:02<00:00, 46.70it/s]\n",
            "Loading…: 100%|██████████████████████████| 126/126 [00:04<00:00, 29.06it/s]\n",
            "Loading…: 100%|██████████████████████████| 126/126 [00:02<00:00, 48.18it/s]\n",
            "Loading…: 100%|██████████████████████████| 126/126 [00:02<00:00, 49.94it/s]\n",
            "Loading…: 100%|██████████████████████████| 126/126 [00:02<00:00, 48.05it/s]\n",
            "Loading…: 100%|██████████████████████████| 126/126 [00:03<00:00, 32.64it/s]\n",
            "Loading…: 100%|██████████████████████████| 126/126 [00:03<00:00, 40.27it/s]\n",
            "Loading…: 100%|██████████████████████████| 126/126 [00:02<00:00, 47.80it/s]\n",
            "Loading…: 100%|██████████████████████████| 126/126 [00:02<00:00, 47.63it/s]\n",
            "Loading…: 100%|██████████████████████████| 126/126 [00:03<00:00, 41.14it/s]\n"
          ]
        },
        {
          "output_type": "stream",
          "name": "stdout",
          "text": [
            "Iteration: 212\n"
          ]
        },
        {
          "output_type": "stream",
          "name": "stderr",
          "text": [
            "Loading…: 100%|██████████████████████████| 126/126 [00:03<00:00, 35.56it/s]\n",
            "Loading…: 100%|██████████████████████████| 126/126 [00:03<00:00, 35.06it/s]\n",
            "Loading…: 100%|██████████████████████████| 126/126 [00:03<00:00, 36.15it/s]\n",
            "Loading…: 100%|██████████████████████████| 126/126 [00:04<00:00, 27.18it/s]\n",
            "Loading…: 100%|██████████████████████████| 126/126 [00:03<00:00, 37.19it/s]\n",
            "Loading…: 100%|██████████████████████████| 126/126 [00:03<00:00, 38.62it/s]\n",
            "Loading…: 100%|██████████████████████████| 126/126 [00:05<00:00, 24.01it/s]\n",
            "Loading…: 100%|██████████████████████████| 126/126 [00:03<00:00, 36.41it/s]\n",
            "Loading…: 100%|██████████████████████████| 126/126 [00:03<00:00, 35.35it/s]\n",
            "Loading…: 100%|██████████████████████████| 126/126 [00:04<00:00, 26.86it/s]\n"
          ]
        },
        {
          "output_type": "stream",
          "name": "stdout",
          "text": [
            "Iteration: 213\n"
          ]
        },
        {
          "output_type": "stream",
          "name": "stderr",
          "text": [
            "Loading…: 100%|██████████████████████████| 126/126 [00:05<00:00, 23.55it/s]\n",
            "Loading…: 100%|██████████████████████████| 126/126 [00:05<00:00, 25.02it/s]\n",
            "Loading…: 100%|██████████████████████████| 126/126 [00:04<00:00, 27.01it/s]\n",
            "Loading…: 100%|██████████████████████████| 126/126 [00:03<00:00, 33.93it/s]\n",
            "Loading…: 100%|██████████████████████████| 126/126 [00:05<00:00, 23.22it/s]\n",
            "Loading…: 100%|██████████████████████████| 126/126 [00:04<00:00, 31.44it/s]\n",
            "Loading…: 100%|██████████████████████████| 126/126 [00:04<00:00, 30.47it/s]\n",
            "Loading…: 100%|██████████████████████████| 126/126 [00:05<00:00, 21.45it/s]\n",
            "Loading…: 100%|██████████████████████████| 126/126 [00:04<00:00, 29.89it/s]\n",
            "Loading…: 100%|██████████████████████████| 126/126 [00:04<00:00, 31.36it/s]\n"
          ]
        },
        {
          "output_type": "stream",
          "name": "stdout",
          "text": [
            "Iteration: 214\n"
          ]
        },
        {
          "output_type": "stream",
          "name": "stderr",
          "text": [
            "Loading…: 100%|██████████████████████████| 126/126 [00:05<00:00, 24.75it/s]\n",
            "Loading…: 100%|██████████████████████████| 126/126 [00:04<00:00, 25.24it/s]\n",
            "Loading…: 100%|██████████████████████████| 126/126 [00:06<00:00, 19.71it/s]\n",
            "Loading…: 100%|██████████████████████████| 126/126 [00:04<00:00, 29.53it/s]\n",
            "Loading…: 100%|██████████████████████████| 126/126 [00:06<00:00, 20.33it/s]\n",
            "Loading…: 100%|██████████████████████████| 126/126 [00:04<00:00, 28.29it/s]\n",
            "Loading…: 100%|██████████████████████████| 126/126 [00:04<00:00, 25.85it/s]\n",
            "Loading…: 100%|██████████████████████████| 126/126 [00:06<00:00, 20.66it/s]\n",
            "Loading…: 100%|██████████████████████████| 126/126 [00:04<00:00, 25.60it/s]\n",
            "Loading…: 100%|██████████████████████████| 126/126 [00:07<00:00, 16.34it/s]\n"
          ]
        },
        {
          "output_type": "stream",
          "name": "stdout",
          "text": [
            "Iteration: 215\n"
          ]
        },
        {
          "output_type": "stream",
          "name": "stderr",
          "text": [
            "Loading…: 100%|██████████████████████████| 126/126 [00:04<00:00, 25.56it/s]\n",
            "Loading…: 100%|██████████████████████████| 126/126 [00:07<00:00, 16.89it/s]\n",
            "Loading…: 100%|██████████████████████████| 126/126 [00:05<00:00, 24.62it/s]\n",
            "Loading…: 100%|██████████████████████████| 126/126 [00:06<00:00, 19.38it/s]\n",
            "Loading…: 100%|██████████████████████████| 126/126 [00:05<00:00, 23.75it/s]\n",
            "Loading…: 100%|██████████████████████████| 126/126 [00:06<00:00, 18.60it/s]\n",
            "Loading…: 100%|██████████████████████████| 126/126 [00:05<00:00, 23.44it/s]\n",
            "Loading…: 100%|██████████████████████████| 126/126 [00:07<00:00, 17.57it/s]\n",
            "Loading…: 100%|██████████████████████████| 126/126 [00:05<00:00, 23.33it/s]\n",
            "Loading…: 100%|██████████████████████████| 126/126 [00:07<00:00, 17.79it/s]\n"
          ]
        },
        {
          "output_type": "stream",
          "name": "stdout",
          "text": [
            "Iteration: 216\n"
          ]
        },
        {
          "output_type": "stream",
          "name": "stderr",
          "text": [
            "Loading…: 100%|██████████████████████████| 126/126 [00:02<00:00, 48.20it/s]\n",
            "Loading…: 100%|██████████████████████████| 126/126 [00:02<00:00, 45.75it/s]\n",
            "Loading…: 100%|██████████████████████████| 126/126 [00:02<00:00, 46.14it/s]\n",
            "Loading…: 100%|██████████████████████████| 126/126 [00:04<00:00, 29.93it/s]\n",
            "Loading…: 100%|██████████████████████████| 126/126 [00:02<00:00, 48.02it/s]\n",
            "Loading…: 100%|██████████████████████████| 126/126 [00:02<00:00, 48.00it/s]\n",
            "Loading…: 100%|██████████████████████████| 126/126 [00:02<00:00, 45.97it/s]\n",
            "Loading…: 100%|██████████████████████████| 126/126 [00:04<00:00, 30.81it/s]\n",
            "Loading…: 100%|██████████████████████████| 126/126 [00:04<00:00, 31.47it/s]\n",
            "Loading…: 100%|██████████████████████████| 126/126 [00:03<00:00, 35.55it/s]\n"
          ]
        },
        {
          "output_type": "stream",
          "name": "stdout",
          "text": [
            "Iteration: 217\n"
          ]
        },
        {
          "output_type": "stream",
          "name": "stderr",
          "text": [
            "Loading…: 100%|██████████████████████████| 126/126 [00:04<00:00, 27.61it/s]\n",
            "Loading…: 100%|██████████████████████████| 126/126 [00:03<00:00, 32.12it/s]\n",
            "Loading…: 100%|██████████████████████████| 126/126 [00:03<00:00, 36.68it/s]\n",
            "Loading…: 100%|██████████████████████████| 126/126 [00:03<00:00, 33.21it/s]\n",
            "Loading…: 100%|██████████████████████████| 126/126 [00:04<00:00, 27.70it/s]\n",
            "Loading…: 100%|██████████████████████████| 126/126 [00:03<00:00, 36.10it/s]\n",
            "Loading…: 100%|██████████████████████████| 126/126 [00:03<00:00, 35.18it/s]\n",
            "Loading…: 100%|██████████████████████████| 126/126 [00:05<00:00, 23.89it/s]\n",
            "Loading…: 100%|██████████████████████████| 126/126 [00:03<00:00, 35.00it/s]\n",
            "Loading…: 100%|██████████████████████████| 126/126 [00:03<00:00, 36.34it/s]\n"
          ]
        },
        {
          "output_type": "stream",
          "name": "stdout",
          "text": [
            "Iteration: 218\n"
          ]
        },
        {
          "output_type": "stream",
          "name": "stderr",
          "text": [
            "Loading…: 100%|██████████████████████████| 126/126 [00:05<00:00, 24.25it/s]\n",
            "Loading…: 100%|██████████████████████████| 126/126 [00:04<00:00, 28.51it/s]\n",
            "Loading…: 100%|██████████████████████████| 126/126 [00:05<00:00, 23.42it/s]\n",
            "Loading…: 100%|██████████████████████████| 126/126 [00:03<00:00, 31.92it/s]\n",
            "Loading…: 100%|██████████████████████████| 126/126 [00:04<00:00, 30.83it/s]\n",
            "Loading…: 100%|██████████████████████████| 126/126 [00:05<00:00, 22.19it/s]\n",
            "Loading…: 100%|██████████████████████████| 126/126 [00:04<00:00, 29.37it/s]\n",
            "Loading…: 100%|██████████████████████████| 126/126 [00:04<00:00, 29.54it/s]\n",
            "Loading…: 100%|██████████████████████████| 126/126 [00:05<00:00, 21.29it/s]\n",
            "Loading…: 100%|██████████████████████████| 126/126 [00:04<00:00, 30.67it/s]\n"
          ]
        },
        {
          "output_type": "stream",
          "name": "stdout",
          "text": [
            "Iteration: 219\n"
          ]
        },
        {
          "output_type": "stream",
          "name": "stderr",
          "text": [
            "Loading…: 100%|██████████████████████████| 126/126 [00:07<00:00, 16.40it/s]\n",
            "Loading…: 100%|██████████████████████████| 126/126 [00:05<00:00, 24.39it/s]\n",
            "Loading…: 100%|██████████████████████████| 126/126 [00:05<00:00, 24.15it/s]\n",
            "Loading…: 100%|██████████████████████████| 126/126 [00:05<00:00, 24.34it/s]\n",
            "Loading…: 100%|██████████████████████████| 126/126 [00:04<00:00, 26.87it/s]\n",
            "Loading…: 100%|██████████████████████████| 126/126 [00:06<00:00, 19.93it/s]\n",
            "Loading…: 100%|██████████████████████████| 126/126 [00:04<00:00, 25.85it/s]\n",
            "Loading…: 100%|██████████████████████████| 126/126 [00:06<00:00, 18.93it/s]\n",
            "Loading…: 100%|██████████████████████████| 126/126 [00:04<00:00, 25.54it/s]\n",
            "Loading…: 100%|██████████████████████████| 126/126 [00:05<00:00, 21.01it/s]\n"
          ]
        },
        {
          "output_type": "stream",
          "name": "stdout",
          "text": [
            "Iteration: 220\n"
          ]
        },
        {
          "output_type": "stream",
          "name": "stderr",
          "text": [
            "Loading…: 100%|██████████████████████████| 126/126 [00:04<00:00, 25.30it/s]\n",
            "Loading…:  12%|███▏                       | 15/126 [00:00<00:04, 23.22it/s]<ipython-input-22-35bcd1737ba8>:60: RuntimeWarning: divide by zero encountered in log\n",
            "  p_of_y_given_x = np.log(p_of_y * p_of_x_given_y)\n",
            "Loading…: 100%|██████████████████████████| 126/126 [00:07<00:00, 16.59it/s]\n",
            "Loading…: 100%|██████████████████████████| 126/126 [00:05<00:00, 24.34it/s]\n",
            "Loading…:  12%|███▏                       | 15/126 [00:00<00:03, 29.44it/s]<ipython-input-22-35bcd1737ba8>:60: RuntimeWarning: divide by zero encountered in log\n",
            "  p_of_y_given_x = np.log(p_of_y * p_of_x_given_y)\n",
            "Loading…: 100%|██████████████████████████| 126/126 [00:06<00:00, 19.35it/s]\n",
            "Loading…: 100%|██████████████████████████| 126/126 [00:05<00:00, 23.95it/s]\n",
            "Loading…:  79%|████████████████████▋     | 100/126 [00:04<00:01, 16.19it/s]<ipython-input-22-35bcd1737ba8>:60: RuntimeWarning: divide by zero encountered in log\n",
            "  p_of_y_given_x = np.log(p_of_y * p_of_x_given_y)\n",
            "Loading…: 100%|██████████████████████████| 126/126 [00:06<00:00, 19.92it/s]\n",
            "Loading…:  74%|███████████████████▉       | 93/126 [00:06<00:01, 21.23it/s]<ipython-input-22-35bcd1737ba8>:60: RuntimeWarning: divide by zero encountered in log\n",
            "  p_of_y_given_x = np.log(p_of_y * p_of_x_given_y)\n",
            "Loading…: 100%|██████████████████████████| 126/126 [00:07<00:00, 16.90it/s]\n",
            "Loading…:  98%|█████████████████████████▍| 123/126 [00:07<00:00, 21.34it/s]<ipython-input-22-35bcd1737ba8>:60: RuntimeWarning: divide by zero encountered in log\n",
            "  p_of_y_given_x = np.log(p_of_y * p_of_x_given_y)\n",
            "Loading…: 100%|██████████████████████████| 126/126 [00:07<00:00, 17.24it/s]\n",
            "Loading…:  85%|██████████████████████    | 107/126 [00:04<00:00, 23.99it/s]<ipython-input-22-35bcd1737ba8>:60: RuntimeWarning: divide by zero encountered in log\n",
            "  p_of_y_given_x = np.log(p_of_y * p_of_x_given_y)\n",
            "Loading…: 100%|██████████████████████████| 126/126 [00:05<00:00, 22.46it/s]\n",
            "Loading…: 100%|██████████████████████████| 126/126 [00:07<00:00, 17.50it/s]\n"
          ]
        },
        {
          "output_type": "stream",
          "name": "stdout",
          "text": [
            "Iteration: 221\n"
          ]
        },
        {
          "output_type": "stream",
          "name": "stderr",
          "text": [
            "Loading…: 100%|██████████████████████████| 126/126 [00:03<00:00, 36.60it/s]\n",
            "Loading…: 100%|██████████████████████████| 126/126 [00:03<00:00, 31.58it/s]\n",
            "Loading…: 100%|██████████████████████████| 126/126 [00:04<00:00, 26.40it/s]\n",
            "Loading…: 100%|██████████████████████████| 126/126 [00:03<00:00, 36.56it/s]\n",
            "Loading…: 100%|██████████████████████████| 126/126 [00:03<00:00, 35.25it/s]\n",
            "Loading…: 100%|██████████████████████████| 126/126 [00:05<00:00, 24.18it/s]\n",
            "Loading…: 100%|██████████████████████████| 126/126 [00:03<00:00, 34.42it/s]\n",
            "Loading…: 100%|██████████████████████████| 126/126 [00:03<00:00, 34.15it/s]\n",
            "Loading…: 100%|██████████████████████████| 126/126 [00:05<00:00, 23.42it/s]\n",
            "Loading…: 100%|██████████████████████████| 126/126 [00:03<00:00, 35.05it/s]\n"
          ]
        },
        {
          "output_type": "stream",
          "name": "stdout",
          "text": [
            "Iteration: 222\n"
          ]
        },
        {
          "output_type": "stream",
          "name": "stderr",
          "text": [
            "Loading…: 100%|██████████████████████████| 126/126 [00:04<00:00, 29.14it/s]\n",
            "Loading…: 100%|██████████████████████████| 126/126 [00:06<00:00, 19.20it/s]\n",
            "Loading…: 100%|██████████████████████████| 126/126 [00:04<00:00, 27.54it/s]\n",
            "Loading…: 100%|██████████████████████████| 126/126 [00:05<00:00, 21.81it/s]\n",
            "Loading…: 100%|██████████████████████████| 126/126 [00:04<00:00, 27.21it/s]\n",
            "Loading…: 100%|██████████████████████████| 126/126 [00:05<00:00, 24.36it/s]\n",
            "Loading…: 100%|██████████████████████████| 126/126 [00:07<00:00, 17.23it/s]\n",
            "Loading…: 100%|██████████████████████████| 126/126 [00:04<00:00, 26.82it/s]\n",
            "Loading…: 100%|██████████████████████████| 126/126 [00:06<00:00, 20.42it/s]\n",
            "Loading…: 100%|██████████████████████████| 126/126 [00:04<00:00, 26.61it/s]\n"
          ]
        },
        {
          "output_type": "stream",
          "name": "stdout",
          "text": [
            "Iteration: 223\n"
          ]
        },
        {
          "output_type": "stream",
          "name": "stderr",
          "text": [
            "Loading…: 100%|██████████████████████████| 126/126 [00:06<00:00, 20.06it/s]\n",
            "Loading…: 100%|██████████████████████████| 126/126 [00:06<00:00, 19.97it/s]\n",
            "Loading…: 100%|██████████████████████████| 126/126 [00:06<00:00, 19.68it/s]\n",
            "Loading…: 100%|██████████████████████████| 126/126 [00:05<00:00, 22.81it/s]\n",
            "Loading…: 100%|██████████████████████████| 126/126 [00:05<00:00, 21.59it/s]\n",
            "Loading…: 100%|██████████████████████████| 126/126 [00:06<00:00, 20.11it/s]\n",
            "Loading…: 100%|██████████████████████████| 126/126 [00:05<00:00, 22.57it/s]\n",
            "Loading…: 100%|██████████████████████████| 126/126 [00:07<00:00, 17.90it/s]\n",
            "Loading…: 100%|██████████████████████████| 126/126 [00:05<00:00, 22.67it/s]\n",
            "Loading…: 100%|██████████████████████████| 126/126 [00:07<00:00, 18.00it/s]\n"
          ]
        },
        {
          "output_type": "stream",
          "name": "stdout",
          "text": [
            "Iteration: 224\n"
          ]
        },
        {
          "output_type": "stream",
          "name": "stderr",
          "text": [
            "Loading…: 100%|██████████████████████████| 126/126 [00:06<00:00, 19.75it/s]\n",
            "Loading…: 100%|██████████████████████████| 126/126 [00:09<00:00, 13.80it/s]\n",
            "Loading…: 100%|██████████████████████████| 126/126 [00:07<00:00, 16.16it/s]\n",
            "Loading…: 100%|██████████████████████████| 126/126 [00:05<00:00, 22.12it/s]\n",
            "Loading…: 100%|██████████████████████████| 126/126 [00:07<00:00, 15.95it/s]\n",
            "Loading…: 100%|██████████████████████████| 126/126 [00:05<00:00, 21.16it/s]\n",
            "Loading…: 100%|██████████████████████████| 126/126 [00:08<00:00, 15.47it/s]\n",
            "Loading…: 100%|██████████████████████████| 126/126 [00:07<00:00, 17.05it/s]\n",
            "Loading…: 100%|██████████████████████████| 126/126 [00:06<00:00, 19.00it/s]\n",
            "Loading…: 100%|██████████████████████████| 126/126 [00:07<00:00, 15.88it/s]\n"
          ]
        },
        {
          "output_type": "stream",
          "name": "stdout",
          "text": [
            "Iteration: 225\n"
          ]
        },
        {
          "output_type": "stream",
          "name": "stderr",
          "text": [
            "Loading…: 100%|██████████████████████████| 126/126 [00:06<00:00, 19.52it/s]\n",
            "Loading…: 100%|██████████████████████████| 126/126 [00:09<00:00, 13.62it/s]\n",
            "Loading…: 100%|██████████████████████████| 126/126 [00:08<00:00, 14.40it/s]\n",
            "Loading…: 100%|██████████████████████████| 126/126 [00:06<00:00, 19.81it/s]\n",
            "Loading…: 100%|██████████████████████████| 126/126 [00:09<00:00, 12.84it/s]\n",
            "Loading…: 100%|██████████████████████████| 126/126 [00:07<00:00, 16.90it/s]\n",
            "Loading…: 100%|██████████████████████████| 126/126 [00:07<00:00, 16.74it/s]\n",
            "Loading…: 100%|██████████████████████████| 126/126 [00:08<00:00, 14.11it/s]\n",
            "Loading…: 100%|██████████████████████████| 126/126 [00:07<00:00, 16.15it/s]\n",
            "Loading…: 100%|██████████████████████████| 126/126 [00:07<00:00, 16.56it/s]\n"
          ]
        },
        {
          "output_type": "stream",
          "name": "stdout",
          "text": [
            "Iteration: 226\n"
          ]
        },
        {
          "output_type": "stream",
          "name": "stderr",
          "text": [
            "Loading…: 100%|██████████████████████████| 126/126 [00:04<00:00, 30.35it/s]\n",
            "Loading…: 100%|██████████████████████████| 126/126 [00:04<00:00, 26.34it/s]\n",
            "Loading…: 100%|██████████████████████████| 126/126 [00:03<00:00, 35.06it/s]\n",
            "Loading…: 100%|██████████████████████████| 126/126 [00:03<00:00, 35.75it/s]\n",
            "Loading…: 100%|██████████████████████████| 126/126 [00:05<00:00, 23.37it/s]\n",
            "Loading…: 100%|██████████████████████████| 126/126 [00:03<00:00, 35.47it/s]\n",
            "Loading…: 100%|██████████████████████████| 126/126 [00:03<00:00, 32.90it/s]\n",
            "Loading…: 100%|██████████████████████████| 126/126 [00:05<00:00, 23.32it/s]\n",
            "Loading…: 100%|██████████████████████████| 126/126 [00:03<00:00, 34.26it/s]\n",
            "Loading…: 100%|██████████████████████████| 126/126 [00:03<00:00, 34.97it/s]\n"
          ]
        },
        {
          "output_type": "stream",
          "name": "stdout",
          "text": [
            "Iteration: 227\n"
          ]
        },
        {
          "output_type": "stream",
          "name": "stderr",
          "text": [
            "Loading…: 100%|██████████████████████████| 126/126 [00:07<00:00, 17.40it/s]\n",
            "Loading…: 100%|██████████████████████████| 126/126 [00:05<00:00, 22.92it/s]\n",
            "Loading…: 100%|██████████████████████████| 126/126 [00:06<00:00, 19.86it/s]\n",
            "Loading…: 100%|██████████████████████████| 126/126 [00:04<00:00, 28.67it/s]\n",
            "Loading…: 100%|██████████████████████████| 126/126 [00:05<00:00, 21.82it/s]\n",
            "Loading…: 100%|██████████████████████████| 126/126 [00:05<00:00, 25.14it/s]\n",
            "Loading…: 100%|██████████████████████████| 126/126 [00:04<00:00, 25.97it/s]\n",
            "Loading…: 100%|██████████████████████████| 126/126 [00:06<00:00, 18.92it/s]\n",
            "Loading…: 100%|██████████████████████████| 126/126 [00:05<00:00, 25.02it/s]\n",
            "Loading…: 100%|██████████████████████████| 126/126 [00:06<00:00, 19.44it/s]\n"
          ]
        },
        {
          "output_type": "stream",
          "name": "stdout",
          "text": [
            "Iteration: 228\n"
          ]
        },
        {
          "output_type": "stream",
          "name": "stderr",
          "text": [
            "Loading…: 100%|██████████████████████████| 126/126 [00:05<00:00, 23.41it/s]\n",
            "Loading…: 100%|██████████████████████████| 126/126 [00:07<00:00, 16.27it/s]\n",
            "Loading…: 100%|██████████████████████████| 126/126 [00:05<00:00, 22.69it/s]\n",
            "Loading…: 100%|██████████████████████████| 126/126 [00:06<00:00, 18.24it/s]\n",
            "Loading…: 100%|██████████████████████████| 126/126 [00:05<00:00, 22.92it/s]\n",
            "Loading…: 100%|██████████████████████████| 126/126 [00:07<00:00, 17.76it/s]\n",
            "Loading…: 100%|██████████████████████████| 126/126 [00:05<00:00, 21.97it/s]\n",
            "Loading…: 100%|██████████████████████████| 126/126 [00:09<00:00, 13.62it/s]\n",
            "Loading…: 100%|██████████████████████████| 126/126 [00:05<00:00, 22.11it/s]\n",
            "Loading…: 100%|██████████████████████████| 126/126 [00:07<00:00, 16.79it/s]\n"
          ]
        },
        {
          "output_type": "stream",
          "name": "stdout",
          "text": [
            "Iteration: 229\n"
          ]
        },
        {
          "output_type": "stream",
          "name": "stderr",
          "text": [
            "Loading…: 100%|██████████████████████████| 126/126 [00:05<00:00, 21.22it/s]\n",
            "Loading…: 100%|██████████████████████████| 126/126 [00:08<00:00, 14.70it/s]\n",
            "Loading…: 100%|██████████████████████████| 126/126 [00:07<00:00, 16.86it/s]\n",
            "Loading…: 100%|██████████████████████████| 126/126 [00:05<00:00, 21.28it/s]\n",
            "Loading…: 100%|██████████████████████████| 126/126 [00:08<00:00, 15.69it/s]\n",
            "Loading…: 100%|██████████████████████████| 126/126 [00:06<00:00, 20.69it/s]\n",
            "Loading…: 100%|██████████████████████████| 126/126 [00:08<00:00, 14.99it/s]\n",
            "Loading…: 100%|██████████████████████████| 126/126 [00:06<00:00, 18.91it/s]\n",
            "Loading…: 100%|██████████████████████████| 126/126 [00:08<00:00, 15.16it/s]\n",
            "Loading…: 100%|██████████████████████████| 126/126 [00:07<00:00, 15.96it/s]\n"
          ]
        },
        {
          "output_type": "stream",
          "name": "stdout",
          "text": [
            "Iteration: 230\n"
          ]
        },
        {
          "output_type": "stream",
          "name": "stderr",
          "text": [
            "Loading…: 100%|██████████████████████████| 126/126 [00:07<00:00, 16.05it/s]\n",
            "Loading…:  11%|███                        | 14/126 [00:01<00:12,  9.15it/s]<ipython-input-22-35bcd1737ba8>:60: RuntimeWarning: divide by zero encountered in log\n",
            "  p_of_y_given_x = np.log(p_of_y * p_of_x_given_y)\n",
            "Loading…: 100%|██████████████████████████| 126/126 [00:09<00:00, 13.53it/s]\n",
            "Loading…: 100%|██████████████████████████| 126/126 [00:08<00:00, 14.23it/s]\n",
            "Loading…:  11%|███                        | 14/126 [00:00<00:05, 22.24it/s]<ipython-input-22-35bcd1737ba8>:60: RuntimeWarning: divide by zero encountered in log\n",
            "  p_of_y_given_x = np.log(p_of_y * p_of_x_given_y)\n",
            "Loading…: 100%|██████████████████████████| 126/126 [00:06<00:00, 18.82it/s]\n",
            "Loading…:  55%|██████████████▊            | 69/126 [00:05<00:03, 18.38it/s]<ipython-input-22-35bcd1737ba8>:60: RuntimeWarning: divide by zero encountered in log\n",
            "  p_of_y_given_x = np.log(p_of_y * p_of_x_given_y)\n",
            "Loading…: 100%|██████████████████████████| 126/126 [00:08<00:00, 14.31it/s]\n",
            "Loading…:  80%|████████████████████▊     | 101/126 [00:06<00:02, 11.17it/s]<ipython-input-22-35bcd1737ba8>:60: RuntimeWarning: divide by zero encountered in log\n",
            "  p_of_y_given_x = np.log(p_of_y * p_of_x_given_y)\n",
            "Loading…: 100%|██████████████████████████| 126/126 [00:08<00:00, 14.74it/s]\n",
            "Loading…:  75%|████████████████████▏      | 94/126 [00:05<00:01, 17.28it/s]<ipython-input-22-35bcd1737ba8>:60: RuntimeWarning: divide by zero encountered in log\n",
            "  p_of_y_given_x = np.log(p_of_y * p_of_x_given_y)\n",
            "Loading…: 100%|██████████████████████████| 126/126 [00:07<00:00, 16.83it/s]\n",
            "Loading…:  98%|█████████████████████████▍| 123/126 [00:09<00:00, 16.55it/s]<ipython-input-22-35bcd1737ba8>:60: RuntimeWarning: divide by zero encountered in log\n",
            "  p_of_y_given_x = np.log(p_of_y * p_of_x_given_y)\n",
            "Loading…: 100%|██████████████████████████| 126/126 [00:09<00:00, 13.66it/s]\n",
            "Loading…:  86%|██████████████████████▎   | 108/126 [00:07<00:01, 10.69it/s]<ipython-input-22-35bcd1737ba8>:60: RuntimeWarning: divide by zero encountered in log\n",
            "  p_of_y_given_x = np.log(p_of_y * p_of_x_given_y)\n",
            "Loading…: 100%|██████████████████████████| 126/126 [00:09<00:00, 13.81it/s]\n",
            "Loading…: 100%|██████████████████████████| 126/126 [00:07<00:00, 17.22it/s]\n"
          ]
        },
        {
          "output_type": "stream",
          "name": "stdout",
          "text": [
            "Iteration: 231\n"
          ]
        },
        {
          "output_type": "stream",
          "name": "stderr",
          "text": [
            "Loading…: 100%|██████████████████████████| 126/126 [00:06<00:00, 20.54it/s]\n",
            "Loading…: 100%|██████████████████████████| 126/126 [00:04<00:00, 27.14it/s]\n",
            "Loading…: 100%|██████████████████████████| 126/126 [00:07<00:00, 17.93it/s]\n",
            "Loading…: 100%|██████████████████████████| 126/126 [00:05<00:00, 23.92it/s]\n",
            "Loading…: 100%|██████████████████████████| 126/126 [00:04<00:00, 27.97it/s]\n",
            "Loading…: 100%|██████████████████████████| 126/126 [00:06<00:00, 20.37it/s]\n",
            "Loading…: 100%|██████████████████████████| 126/126 [00:04<00:00, 27.34it/s]\n",
            "Loading…: 100%|██████████████████████████| 126/126 [00:04<00:00, 26.61it/s]\n",
            "Loading…: 100%|██████████████████████████| 126/126 [00:06<00:00, 20.28it/s]\n",
            "Loading…: 100%|██████████████████████████| 126/126 [00:04<00:00, 27.85it/s]\n"
          ]
        },
        {
          "output_type": "stream",
          "name": "stdout",
          "text": [
            "Iteration: 232\n"
          ]
        },
        {
          "output_type": "stream",
          "name": "stderr",
          "text": [
            "Loading…: 100%|██████████████████████████| 126/126 [00:07<00:00, 17.28it/s]\n",
            "Loading…: 100%|██████████████████████████| 126/126 [00:06<00:00, 20.65it/s]\n",
            "Loading…: 100%|██████████████████████████| 126/126 [00:07<00:00, 16.82it/s]\n",
            "Loading…: 100%|██████████████████████████| 126/126 [00:05<00:00, 22.97it/s]\n",
            "Loading…: 100%|██████████████████████████| 126/126 [00:07<00:00, 16.89it/s]\n",
            "Loading…: 100%|██████████████████████████| 126/126 [00:05<00:00, 22.48it/s]\n",
            "Loading…: 100%|██████████████████████████| 126/126 [00:07<00:00, 16.55it/s]\n",
            "Loading…: 100%|██████████████████████████| 126/126 [00:05<00:00, 21.64it/s]\n",
            "Loading…: 100%|██████████████████████████| 126/126 [00:09<00:00, 13.51it/s]\n",
            "Loading…: 100%|██████████████████████████| 126/126 [00:05<00:00, 21.87it/s]\n"
          ]
        },
        {
          "output_type": "stream",
          "name": "stdout",
          "text": [
            "Iteration: 233\n"
          ]
        },
        {
          "output_type": "stream",
          "name": "stderr",
          "text": [
            "Loading…: 100%|██████████████████████████| 126/126 [00:08<00:00, 15.49it/s]\n",
            "Loading…: 100%|██████████████████████████| 126/126 [00:08<00:00, 14.34it/s]\n",
            "Loading…: 100%|██████████████████████████| 126/126 [00:06<00:00, 18.87it/s]\n",
            "Loading…: 100%|██████████████████████████| 126/126 [00:07<00:00, 15.94it/s]\n",
            "Loading…: 100%|██████████████████████████| 126/126 [00:06<00:00, 18.76it/s]\n",
            "Loading…: 100%|██████████████████████████| 126/126 [00:08<00:00, 15.42it/s]\n",
            "Loading…: 100%|██████████████████████████| 126/126 [00:07<00:00, 16.50it/s]\n",
            "Loading…: 100%|██████████████████████████| 126/126 [00:07<00:00, 16.12it/s]\n",
            "Loading…: 100%|██████████████████████████| 126/126 [00:08<00:00, 14.45it/s]\n",
            "Loading…: 100%|██████████████████████████| 126/126 [00:06<00:00, 18.41it/s]\n"
          ]
        },
        {
          "output_type": "stream",
          "name": "stdout",
          "text": [
            "Iteration: 234\n"
          ]
        },
        {
          "output_type": "stream",
          "name": "stderr",
          "text": [
            "Loading…: 100%|██████████████████████████| 126/126 [00:09<00:00, 13.69it/s]\n",
            "Loading…: 100%|██████████████████████████| 126/126 [00:10<00:00, 11.49it/s]\n",
            "Loading…: 100%|██████████████████████████| 126/126 [00:09<00:00, 13.31it/s]\n",
            "Loading…: 100%|██████████████████████████| 126/126 [00:07<00:00, 17.68it/s]\n",
            "Loading…: 100%|██████████████████████████| 126/126 [00:09<00:00, 13.29it/s]\n",
            "Loading…: 100%|██████████████████████████| 126/126 [00:09<00:00, 13.64it/s]\n",
            "Loading…: 100%|██████████████████████████| 126/126 [00:08<00:00, 15.58it/s]\n",
            "Loading…: 100%|██████████████████████████| 126/126 [00:09<00:00, 13.00it/s]\n",
            "Loading…: 100%|██████████████████████████| 126/126 [00:09<00:00, 12.89it/s]\n",
            "Loading…: 100%|██████████████████████████| 126/126 [00:07<00:00, 15.87it/s]\n"
          ]
        },
        {
          "output_type": "stream",
          "name": "stdout",
          "text": [
            "Iteration: 235\n"
          ]
        },
        {
          "output_type": "stream",
          "name": "stderr",
          "text": [
            "Loading…: 100%|██████████████████████████| 126/126 [00:08<00:00, 15.14it/s]\n",
            "Loading…: 100%|██████████████████████████| 126/126 [00:12<00:00,  9.74it/s]\n",
            "Loading…: 100%|██████████████████████████| 126/126 [00:10<00:00, 12.13it/s]\n",
            "Loading…: 100%|██████████████████████████| 126/126 [00:09<00:00, 13.36it/s]\n",
            "Loading…: 100%|██████████████████████████| 126/126 [00:08<00:00, 14.58it/s]\n",
            "Loading…: 100%|██████████████████████████| 126/126 [00:10<00:00, 12.54it/s]\n",
            "Loading…: 100%|██████████████████████████| 126/126 [00:10<00:00, 11.65it/s]\n",
            "Loading…: 100%|██████████████████████████| 126/126 [00:10<00:00, 11.58it/s]\n",
            "Loading…: 100%|██████████████████████████| 126/126 [00:10<00:00, 12.31it/s]\n",
            "Loading…: 100%|██████████████████████████| 126/126 [00:08<00:00, 14.27it/s]\n"
          ]
        },
        {
          "output_type": "stream",
          "name": "stdout",
          "text": [
            "Iteration: 236\n"
          ]
        },
        {
          "output_type": "stream",
          "name": "stderr",
          "text": [
            "Loading…: 100%|██████████████████████████| 126/126 [00:06<00:00, 20.75it/s]\n",
            "Loading…: 100%|██████████████████████████| 126/126 [00:05<00:00, 21.99it/s]\n",
            "Loading…: 100%|██████████████████████████| 126/126 [00:06<00:00, 18.31it/s]\n",
            "Loading…: 100%|██████████████████████████| 126/126 [00:04<00:00, 29.03it/s]\n",
            "Loading…: 100%|██████████████████████████| 126/126 [00:04<00:00, 25.48it/s]\n",
            "Loading…: 100%|██████████████████████████| 126/126 [00:05<00:00, 22.10it/s]\n",
            "Loading…: 100%|██████████████████████████| 126/126 [00:04<00:00, 27.18it/s]\n",
            "Loading…: 100%|██████████████████████████| 126/126 [00:06<00:00, 19.70it/s]\n",
            "Loading…: 100%|██████████████████████████| 126/126 [00:04<00:00, 27.29it/s]\n",
            "Loading…: 100%|██████████████████████████| 126/126 [00:04<00:00, 27.31it/s]\n"
          ]
        },
        {
          "output_type": "stream",
          "name": "stdout",
          "text": [
            "Iteration: 237\n"
          ]
        },
        {
          "output_type": "stream",
          "name": "stderr",
          "text": [
            "Loading…: 100%|██████████████████████████| 126/126 [00:06<00:00, 20.04it/s]\n",
            "Loading…: 100%|██████████████████████████| 126/126 [00:06<00:00, 18.00it/s]\n",
            "Loading…: 100%|██████████████████████████| 126/126 [00:06<00:00, 20.00it/s]\n",
            "Loading…: 100%|██████████████████████████| 126/126 [00:06<00:00, 20.38it/s]\n",
            "Loading…: 100%|██████████████████████████| 126/126 [00:06<00:00, 18.95it/s]\n",
            "Loading…: 100%|██████████████████████████| 126/126 [00:06<00:00, 20.48it/s]\n",
            "Loading…: 100%|██████████████████████████| 126/126 [00:06<00:00, 18.21it/s]\n",
            "Loading…: 100%|██████████████████████████| 126/126 [00:06<00:00, 18.46it/s]\n",
            "Loading…: 100%|██████████████████████████| 126/126 [00:08<00:00, 15.06it/s]\n",
            "Loading…: 100%|██████████████████████████| 126/126 [00:07<00:00, 16.70it/s]\n"
          ]
        },
        {
          "output_type": "stream",
          "name": "stdout",
          "text": [
            "Iteration: 238\n"
          ]
        },
        {
          "output_type": "stream",
          "name": "stderr",
          "text": [
            "Loading…: 100%|██████████████████████████| 126/126 [00:06<00:00, 19.57it/s]\n",
            "Loading…: 100%|██████████████████████████| 126/126 [00:09<00:00, 13.74it/s]\n",
            "Loading…: 100%|██████████████████████████| 126/126 [00:07<00:00, 16.15it/s]\n",
            "Loading…: 100%|██████████████████████████| 126/126 [00:06<00:00, 18.62it/s]\n",
            "Loading…: 100%|██████████████████████████| 126/126 [00:08<00:00, 14.73it/s]\n",
            "Loading…: 100%|██████████████████████████| 126/126 [00:06<00:00, 19.01it/s]\n",
            "Loading…: 100%|██████████████████████████| 126/126 [00:08<00:00, 14.08it/s]\n",
            "Loading…: 100%|██████████████████████████| 126/126 [00:08<00:00, 14.86it/s]\n",
            "Loading…: 100%|██████████████████████████| 126/126 [00:07<00:00, 17.52it/s]\n",
            "Loading…: 100%|██████████████████████████| 126/126 [00:08<00:00, 14.40it/s]\n"
          ]
        },
        {
          "output_type": "stream",
          "name": "stdout",
          "text": [
            "Iteration: 239\n"
          ]
        },
        {
          "output_type": "stream",
          "name": "stderr",
          "text": [
            "Loading…: 100%|██████████████████████████| 126/126 [00:10<00:00, 11.53it/s]\n",
            "Loading…: 100%|██████████████████████████| 126/126 [00:08<00:00, 14.63it/s]\n",
            "Loading…: 100%|██████████████████████████| 126/126 [00:09<00:00, 13.68it/s]\n",
            "Loading…: 100%|██████████████████████████| 126/126 [00:09<00:00, 13.92it/s]\n",
            "Loading…: 100%|██████████████████████████| 126/126 [00:08<00:00, 15.32it/s]\n",
            "Loading…: 100%|██████████████████████████| 126/126 [00:08<00:00, 14.77it/s]\n",
            "Loading…: 100%|██████████████████████████| 126/126 [00:10<00:00, 12.55it/s]\n",
            "Loading…: 100%|██████████████████████████| 126/126 [00:09<00:00, 12.65it/s]\n",
            "Loading…: 100%|██████████████████████████| 126/126 [00:08<00:00, 15.06it/s]\n",
            "Loading…: 100%|██████████████████████████| 126/126 [00:09<00:00, 13.00it/s]\n"
          ]
        },
        {
          "output_type": "stream",
          "name": "stdout",
          "text": [
            "Iteration: 240\n"
          ]
        },
        {
          "output_type": "stream",
          "name": "stderr",
          "text": [
            "Loading…: 100%|██████████████████████████| 126/126 [00:11<00:00, 10.60it/s]\n",
            "Loading…:  12%|███▏                       | 15/126 [00:01<00:08, 13.45it/s]<ipython-input-22-35bcd1737ba8>:60: RuntimeWarning: divide by zero encountered in log\n",
            "  p_of_y_given_x = np.log(p_of_y * p_of_x_given_y)\n",
            "Loading…: 100%|██████████████████████████| 126/126 [00:11<00:00, 11.01it/s]\n",
            "Loading…: 100%|██████████████████████████| 126/126 [00:10<00:00, 11.98it/s]\n",
            "Loading…:  12%|███▏                       | 15/126 [00:00<00:06, 16.66it/s]<ipython-input-22-35bcd1737ba8>:60: RuntimeWarning: divide by zero encountered in log\n",
            "  p_of_y_given_x = np.log(p_of_y * p_of_x_given_y)\n",
            "Loading…: 100%|██████████████████████████| 126/126 [00:08<00:00, 14.90it/s]\n",
            "Loading…:  55%|██████████████▊            | 69/126 [00:05<00:04, 13.98it/s]<ipython-input-22-35bcd1737ba8>:60: RuntimeWarning: divide by zero encountered in log\n",
            "  p_of_y_given_x = np.log(p_of_y * p_of_x_given_y)\n",
            "Loading…: 100%|██████████████████████████| 126/126 [00:09<00:00, 12.79it/s]\n",
            "Loading…:  80%|████████████████████▊     | 101/126 [00:08<00:01, 16.15it/s]<ipython-input-22-35bcd1737ba8>:60: RuntimeWarning: divide by zero encountered in log\n",
            "  p_of_y_given_x = np.log(p_of_y * p_of_x_given_y)\n",
            "Loading…: 100%|██████████████████████████| 126/126 [00:10<00:00, 12.27it/s]\n",
            "Loading…:  75%|████████████████████▏      | 94/126 [00:08<00:02, 12.78it/s]<ipython-input-22-35bcd1737ba8>:60: RuntimeWarning: divide by zero encountered in log\n",
            "  p_of_y_given_x = np.log(p_of_y * p_of_x_given_y)\n",
            "Loading…: 100%|██████████████████████████| 126/126 [00:11<00:00, 11.28it/s]\n",
            "Loading…:  97%|█████████████████████████▏| 122/126 [00:10<00:00, 11.88it/s]<ipython-input-22-35bcd1737ba8>:60: RuntimeWarning: divide by zero encountered in log\n",
            "  p_of_y_given_x = np.log(p_of_y * p_of_x_given_y)\n",
            "Loading…: 100%|██████████████████████████| 126/126 [00:11<00:00, 11.38it/s]\n",
            "Loading…:  85%|██████████████████████    | 107/126 [00:07<00:01, 14.48it/s]<ipython-input-22-35bcd1737ba8>:60: RuntimeWarning: divide by zero encountered in log\n",
            "  p_of_y_given_x = np.log(p_of_y * p_of_x_given_y)\n",
            "Loading…: 100%|██████████████████████████| 126/126 [00:10<00:00, 12.60it/s]\n",
            "Loading…: 100%|██████████████████████████| 126/126 [00:09<00:00, 13.23it/s]\n"
          ]
        }
      ]
    },
    {
      "cell_type": "code",
      "source": [
        "error"
      ],
      "metadata": {
        "colab": {
          "base_uri": "https://localhost:8080/"
        },
        "id": "4y0Fw64_FLk2",
        "outputId": "8c9514ba-108a-42bf-f58e-c3bded08b80f"
      },
      "execution_count": null,
      "outputs": [
        {
          "output_type": "execute_result",
          "data": {
            "text/plain": [
              "[0.4166666666666667,\n",
              " 0.42698412698412697,\n",
              " 0.4261904761904762,\n",
              " 0.4246031746031746,\n",
              " 0.4253968253968254,\n",
              " 0.42936507936507934,\n",
              " 0.4269841269841269,\n",
              " 0.42777777777777776,\n",
              " 0.42301587301587296,\n",
              " 0.42698412698412697,\n",
              " 0.42063492063492064,\n",
              " 0.4309523809523809,\n",
              " 0.4333333333333333,\n",
              " 0.4428571428571429,\n",
              " 0.44682539682539685,\n",
              " 0.40555555555555556,\n",
              " 0.41666666666666663,\n",
              " 0.4285714285714285,\n",
              " 0.44523809523809527,\n",
              " 0.44603174603174606,\n",
              " 0.4007936507936508,\n",
              " 0.41587301587301584,\n",
              " 0.40476190476190477,\n",
              " 0.4134920634920635,\n",
              " 0.41984126984126985,\n",
              " 0.38730158730158726,\n",
              " 0.39682539682539686,\n",
              " 0.40476190476190477,\n",
              " 0.41587301587301584,\n",
              " 0.4238095238095238,\n",
              " 0.3849206349206349,\n",
              " 0.396031746031746,\n",
              " 0.3928571428571429,\n",
              " 0.4007936507936508,\n",
              " 0.4119047619047619,\n",
              " 0.3865079365079366,\n",
              " 0.3833333333333334,\n",
              " 0.3936507936507937,\n",
              " 0.40476190476190477,\n",
              " 0.4119047619047619,\n",
              " 0.3706349206349206,\n",
              " 0.38809523809523805,\n",
              " 0.3928571428571428,\n",
              " 0.39841269841269844,\n",
              " 0.4031746031746032,\n",
              " 0.3753968253968254,\n",
              " 0.37222222222222223,\n",
              " 0.38015873015873014,\n",
              " 0.38730158730158726,\n",
              " 0.39444444444444443,\n",
              " 0.36587301587301585,\n",
              " 0.38253968253968257,\n",
              " 0.3761904761904762,\n",
              " 0.38492063492063494,\n",
              " 0.392063492063492,\n",
              " 0.36587301587301585,\n",
              " 0.369047619047619,\n",
              " 0.3761904761904762,\n",
              " 0.3888888888888889,\n",
              " 0.3936507936507937,\n",
              " 0.4341269841269842,\n",
              " 0.43968253968253973,\n",
              " 0.4412698412698412,\n",
              " 0.4428571428571428,\n",
              " 0.43571428571428567,\n",
              " 0.4317460317460317,\n",
              " 0.43015873015873013,\n",
              " 0.4341269841269842,\n",
              " 0.4309523809523809,\n",
              " 0.4309523809523809,\n",
              " 0.42857142857142855,\n",
              " 0.43015873015873013,\n",
              " 0.4420634920634921,\n",
              " 0.4420634920634921,\n",
              " 0.44841269841269843,\n",
              " 0.42698412698412697,\n",
              " 0.42936507936507934,\n",
              " 0.4349206349206349,\n",
              " 0.43888888888888894,\n",
              " 0.4515873015873016,\n",
              " 0.42142857142857143,\n",
              " 0.43650793650793646,\n",
              " 0.4317460317460317,\n",
              " 0.42936507936507934,\n",
              " 0.43730158730158736,\n",
              " 0.41190476190476194,\n",
              " 0.4158730158730159,\n",
              " 0.4238095238095238,\n",
              " 0.43888888888888894,\n",
              " 0.4515873015873016,\n",
              " 0.4063492063492064,\n",
              " 0.4246031746031746,\n",
              " 0.42777777777777776,\n",
              " 0.4246031746031746,\n",
              " 0.4325396825396825,\n",
              " 0.3984126984126984,\n",
              " 0.4174603174603174,\n",
              " 0.41904761904761906,\n",
              " 0.42777777777777776,\n",
              " 0.43888888888888894,\n",
              " 0.40158730158730166,\n",
              " 0.4134920634920635,\n",
              " 0.4134920634920635,\n",
              " 0.41904761904761906,\n",
              " 0.42857142857142855,\n",
              " 0.39206349206349206,\n",
              " 0.4087301587301587,\n",
              " 0.4134920634920635,\n",
              " 0.42698412698412697,\n",
              " 0.4333333333333333,\n",
              " 0.4007936507936508,\n",
              " 0.4071428571428572,\n",
              " 0.4150793650793651,\n",
              " 0.4206349206349206,\n",
              " 0.4222222222222222,\n",
              " 0.3865079365079365,\n",
              " 0.4,\n",
              " 0.4087301587301587,\n",
              " 0.4158730158730159,\n",
              " 0.423015873015873,\n",
              " 0.469047619047619,\n",
              " 0.48730158730158735,\n",
              " 0.48650793650793656,\n",
              " 0.48730158730158735,\n",
              " 0.48888888888888893,\n",
              " 0.47380952380952374,\n",
              " 0.488095238095238,\n",
              " 0.4841269841269841,\n",
              " 0.4833333333333333,\n",
              " 0.48492063492063486,\n",
              " 0.45634920634920634,\n",
              " 0.4674603174603174,\n",
              " 0.47619047619047616,\n",
              " 0.47619047619047616,\n",
              " 0.47619047619047616,\n",
              " 0.45714285714285713,\n",
              " 0.46507936507936504,\n",
              " 0.4674603174603174,\n",
              " 0.46269841269841266,\n",
              " 0.46507936507936504,\n",
              " 0.4515873015873016,\n",
              " 0.4611111111111111,\n",
              " 0.47698412698412695,\n",
              " 0.4841269841269841,\n",
              " 0.5007936507936508,\n",
              " 0.4531746031746032,\n",
              " 0.4706349206349206,\n",
              " 0.4753968253968254,\n",
              " 0.4928571428571429,\n",
              " 0.5222222222222223,\n",
              " 0.434920634920635,\n",
              " 0.4587301587301587,\n",
              " 0.4753968253968254,\n",
              " 0.47777777777777775,\n",
              " 0.4976190476190476,\n",
              " 0.44761904761904764,\n",
              " 0.4611111111111111,\n",
              " 0.46984126984126984,\n",
              " 0.48730158730158724,\n",
              " 0.507936507936508,\n",
              " 0.4325396825396826,\n",
              " 0.4611111111111111,\n",
              " 0.47301587301587295,\n",
              " 0.4753968253968254,\n",
              " 0.49523809523809526,\n",
              " 0.43650793650793646,\n",
              " 0.4507936507936508,\n",
              " 0.47063492063492063,\n",
              " 0.4833333333333333,\n",
              " 0.5063492063492063,\n",
              " 0.42777777777777776,\n",
              " 0.4515873015873016,\n",
              " 0.46269841269841266,\n",
              " 0.4746031746031746,\n",
              " 0.49523809523809514,\n",
              " 0.42460317460317454,\n",
              " 0.4587301587301587,\n",
              " 0.46349206349206346,\n",
              " 0.47698412698412695,\n",
              " 0.5023809523809524,\n",
              " 0.42063492063492064,\n",
              " 0.42698412698412697,\n",
              " 0.4261904761904762,\n",
              " 0.4253968253968254,\n",
              " 0.42698412698412697,\n",
              " 0.423015873015873,\n",
              " 0.4246031746031746,\n",
              " 0.4238095238095238,\n",
              " 0.419047619047619,\n",
              " 0.4198412698412698,\n",
              " 0.4238095238095239,\n",
              " 0.42698412698412697,\n",
              " 0.4357142857142858,\n",
              " 0.44523809523809516,\n",
              " 0.4515873015873016,\n",
              " 0.40793650793650793,\n",
              " 0.4182539682539682,\n",
              " 0.4293650793650793,\n",
              " 0.4349206349206349,\n",
              " 0.4436507936507937,\n",
              " 0.39682539682539686,\n",
              " 0.40476190476190477,\n",
              " 0.41031746031746036,\n",
              " 0.4142857142857143,\n",
              " 0.41825396825396827,\n",
              " 0.3952380952380953,\n",
              " 0.4015873015873016,\n",
              " 0.40555555555555556,\n",
              " 0.41349206349206347,\n",
              " 0.4253968253968254,\n",
              " 0.38253968253968246,\n",
              " 0.40634920634920635,\n",
              " 0.39365079365079364,\n",
              " 0.40634920634920635,\n",
              " 0.40952380952380957,\n",
              " 0.3841269841269841,\n",
              " 0.3912698412698413,\n",
              " 0.3968253968253968,\n",
              " 0.4,\n",
              " 0.4087301587301588,\n",
              " 0.36507936507936506,\n",
              " 0.3865079365079365,\n",
              " 0.3873015873015873,\n",
              " 0.3896825396825397,\n",
              " 0.4007936507936508,\n",
              " 0.3746031746031746,\n",
              " 0.37777777777777777,\n",
              " 0.3825396825396825,\n",
              " 0.39285714285714285,\n",
              " 0.4047619047619048,\n",
              " 0.36666666666666664,\n",
              " 0.38015873015873014,\n",
              " 0.3785714285714286,\n",
              " 0.3888888888888889,\n",
              " 0.3896825396825397,\n",
              " 0.36904761904761907,\n",
              " 0.37301587301587297,\n",
              " 0.3753968253968254,\n",
              " 0.38968253968253963,\n",
              " 0.39047619047619053]"
            ]
          },
          "metadata": {},
          "execution_count": 84
        }
      ]
    },
    {
      "cell_type": "code",
      "source": [
        "import pickle\n",
        "\n",
        "with open('error.pkl', 'wb') as file:\n",
        "  pickle.dump(error, file)\n",
        "\n",
        "with open('infos.pkl', 'wb') as file:\n",
        "  pickle.dump(infos, file)"
      ],
      "metadata": {
        "id": "UDUQ_Jq-GrTH"
      },
      "execution_count": null,
      "outputs": []
    },
    {
      "cell_type": "code",
      "source": [
        "min(error)"
      ],
      "metadata": {
        "colab": {
          "base_uri": "https://localhost:8080/"
        },
        "id": "dTuqgoq_KUZr",
        "outputId": "61c88114-bbb1-437d-bd11-09a22f70c8a4"
      },
      "execution_count": null,
      "outputs": [
        {
          "output_type": "execute_result",
          "data": {
            "text/plain": [
              "0.36507936507936506"
            ]
          },
          "metadata": {},
          "execution_count": 116
        }
      ]
    },
    {
      "cell_type": "code",
      "source": [
        "np.argmin(error)"
      ],
      "metadata": {
        "colab": {
          "base_uri": "https://localhost:8080/"
        },
        "id": "cuXIkFSXEskQ",
        "outputId": "5a9c477c-ccab-4bac-e58f-732c38e3f570"
      },
      "execution_count": null,
      "outputs": [
        {
          "output_type": "execute_result",
          "data": {
            "text/plain": [
              "220"
            ]
          },
          "metadata": {},
          "execution_count": 117
        }
      ]
    },
    {
      "cell_type": "code",
      "source": [
        "error[220]"
      ],
      "metadata": {
        "colab": {
          "base_uri": "https://localhost:8080/"
        },
        "id": "39ln9Op7PLqC",
        "outputId": "2e457a21-6142-4de9-e64d-7cc56f5ef21d"
      },
      "execution_count": null,
      "outputs": [
        {
          "output_type": "execute_result",
          "data": {
            "text/plain": [
              "0.36507936507936506"
            ]
          },
          "metadata": {},
          "execution_count": 120
        }
      ]
    },
    {
      "cell_type": "code",
      "source": [
        "hps[220]"
      ],
      "metadata": {
        "colab": {
          "base_uri": "https://localhost:8080/"
        },
        "id": "fW-0XMLVFCrc",
        "outputId": "eab82685-375a-4087-ae1e-cbcf434b034a"
      },
      "execution_count": null,
      "outputs": [
        {
          "output_type": "execute_result",
          "data": {
            "text/plain": [
              "(['after',\n",
              "  'nevertheless',\n",
              "  'it',\n",
              "  'elle',\n",
              "  'sont',\n",
              "  'parfois',\n",
              "  'fusses',\n",
              "  'themselves',\n",
              "  'furent',\n",
              "  'sait',\n",
              "  'he',\n",
              "  'whither',\n",
              "  'uns',\n",
              "  'ten',\n",
              "  'tiens',\n",
              "  \"won't\",\n",
              "  'serez',\n",
              "  'quinze',\n",
              "  'c’',\n",
              "  'vais',\n",
              "  'thus',\n",
              "  'sous',\n",
              "  'les',\n",
              "  'this',\n",
              "  'us',\n",
              "  'on',\n",
              "  'otherwise',\n",
              "  'anterieure',\n",
              "  'auront',\n",
              "  'ait',\n",
              "  'above',\n",
              "  'celui-là',\n",
              "  'touchant',\n",
              "  'antérieur',\n",
              "  'fifty',\n",
              "  'soyons',\n",
              "  'néanmoins',\n",
              "  'eight',\n",
              "  'cet',\n",
              "  'suivante',\n",
              "  'votres',\n",
              "  'by',\n",
              "  'suffit',\n",
              "  'different',\n",
              "  'suivant',\n",
              "  'hers',\n",
              "  'mes',\n",
              "  'vôtres',\n",
              "  'side',\n",
              "  \"'ll\",\n",
              "  'doivent',\n",
              "  'hormis',\n",
              "  'pense',\n",
              "  'now',\n",
              "  'seemed',\n",
              "  'nul',\n",
              "  'ô',\n",
              "  'tien',\n",
              "  'nor',\n",
              "  'certains',\n",
              "  'celles-là',\n",
              "  'font',\n",
              "  \"'m\",\n",
              "  'derriere',\n",
              "  'first',\n",
              "  'étant',\n",
              "  '’ll',\n",
              "  'too',\n",
              "  '‘s',\n",
              "  'cinquante',\n",
              "  'seront',\n",
              "  'tenant',\n",
              "  'due',\n",
              "  'further',\n",
              "  'devers',\n",
              "  'avec',\n",
              "  'notre',\n",
              "  'gens',\n",
              "  'shan',\n",
              "  'vé',\n",
              "  'ayez',\n",
              "  'nombreux',\n",
              "  'compris',\n",
              "  'been',\n",
              "  'ha',\n",
              "  'soi-meme',\n",
              "  'que',\n",
              "  'hé',\n",
              "  'ayant',\n",
              "  'd',\n",
              "  'environ',\n",
              "  'became',\n",
              "  'ouverte',\n",
              "  'sera',\n",
              "  'ayants',\n",
              "  'dix',\n",
              "  \"'s\",\n",
              "  'plutot',\n",
              "  'ceux-ci',\n",
              "  'avoir',\n",
              "  'telles',\n",
              "  'aies',\n",
              "  'puisque',\n",
              "  'serons',\n",
              "  'maintenant',\n",
              "  'dont',\n",
              "  'comment',\n",
              "  'auxquelles',\n",
              "  'hep',\n",
              "  'bat',\n",
              "  'toward',\n",
              "  'plus',\n",
              "  'thru',\n",
              "  'there',\n",
              "  'might',\n",
              "  'you',\n",
              "  'eux-mêmes',\n",
              "  'pendant',\n",
              "  'dixième',\n",
              "  'désormais',\n",
              "  'ever',\n",
              "  'since',\n",
              "  'pourquoi',\n",
              "  \"t'\",\n",
              "  'meanwhile',\n",
              "  'quiconque',\n",
              "  \"s'\",\n",
              "  'tiennes',\n",
              "  'about',\n",
              "  'thereafter',\n",
              "  'celles-la',\n",
              "  'sometime',\n",
              "  'cannot',\n",
              "  'rendre',\n",
              "  'though',\n",
              "  'lès',\n",
              "  'ainsi',\n",
              "  'third',\n",
              "  'aurons',\n",
              "  'jusque',\n",
              "  'dit',\n",
              "  'twenty',\n",
              "  'how',\n",
              "  'auras',\n",
              "  'dès',\n",
              "  'she',\n",
              "  'devant',\n",
              "  'pres',\n",
              "  'hereupon',\n",
              "  'made',\n",
              "  'serais',\n",
              "  'aren',\n",
              "  'étante',\n",
              "  \"weren't\",\n",
              "  'lesquelles',\n",
              "  'enfin',\n",
              "  'onzième',\n",
              "  'toutes',\n",
              "  'seems',\n",
              "  'www',\n",
              "  'thence',\n",
              "  'ho',\n",
              "  'is',\n",
              "  'during',\n",
              "  'ne',\n",
              "  'exactement',\n",
              "  'siennes',\n",
              "  'lui-meme',\n",
              "  'itself',\n",
              "  'tienne',\n",
              "  'tu',\n",
              "  'avant',\n",
              "  'they',\n",
              "  'dejà',\n",
              "  'celles',\n",
              "  'concernant',\n",
              "  \"qu'\",\n",
              "  'tout',\n",
              "  'across',\n",
              "  'c',\n",
              "  'ayante',\n",
              "  'beforehand',\n",
              "  'ouverts',\n",
              "  'meme',\n",
              "  \"don't\",\n",
              "  'aurai',\n",
              "  'does',\n",
              "  'même',\n",
              "  'having',\n",
              "  'wasn',\n",
              "  'hors',\n",
              "  'déjà',\n",
              "  'longtemps',\n",
              "  'laquelle',\n",
              "  \"d'\",\n",
              "  'toi-meme',\n",
              "  'etant',\n",
              "  'aupres',\n",
              "  'deja',\n",
              "  'onze',\n",
              "  'unes',\n",
              "  'cinq',\n",
              "  'used',\n",
              "  'etait',\n",
              "  'sa',\n",
              "  'full',\n",
              "  'avaient',\n",
              "  'could',\n",
              "  'si',\n",
              "  'certes',\n",
              "  'd’',\n",
              "  've',\n",
              "  'mien',\n",
              "  'du',\n",
              "  'reste',\n",
              "  'n‘t',\n",
              "  'sent',\n",
              "  'aurais',\n",
              "  'était',\n",
              "  'parce',\n",
              "  'revoilà',\n",
              "  'dedans',\n",
              "  'auquel',\n",
              "  'against',\n",
              "  'semblent',\n",
              "  'elle-même',\n",
              "  'personne',\n",
              "  'et',\n",
              "  'quelconque',\n",
              "  'effet',\n",
              "  'possibles',\n",
              "  'y',\n",
              "  'get',\n",
              "  'whole',\n",
              "  'après',\n",
              "  'specifiques',\n",
              "  'everything',\n",
              "  'delà',\n",
              "  'soient',\n",
              "  'peux',\n",
              "  'besides',\n",
              "  'mon',\n",
              "  'three',\n",
              "  'among',\n",
              "  'celle',\n",
              "  'off',\n",
              "  'ces',\n",
              "  'est',\n",
              "  'much',\n",
              "  'es',\n",
              "  \"couldn't\",\n",
              "  'various',\n",
              "  \"wasn't\",\n",
              "  'eûmes',\n",
              "  'elsewhere',\n",
              "  \"m'\",\n",
              "  'étés',\n",
              "  'pas',\n",
              "  'tous',\n",
              "  'sinon',\n",
              "  'derrière',\n",
              "  'quoi',\n",
              "  'assez',\n",
              "  'miens',\n",
              "  'again',\n",
              "  'everyone',\n",
              "  'fûtes',\n",
              "  'him',\n",
              "  'those',\n",
              "  'eux',\n",
              "  'très',\n",
              "  'se',\n",
              "  'mightn',\n",
              "  'autrui',\n",
              "  'moi',\n",
              "  'seul',\n",
              "  'cette',\n",
              "  'name',\n",
              "  '‘m',\n",
              "  'premièrement',\n",
              "  'who',\n",
              "  'directe',\n",
              "  'both',\n",
              "  'cinquantaine',\n",
              "  'yours',\n",
              "  'deuxième',\n",
              "  'can',\n",
              "  'nowhere',\n",
              "  'sienne',\n",
              "  'dans',\n",
              "  'once',\n",
              "  'pour',\n",
              "  'me',\n",
              "  'douzième',\n",
              "  'ouste',\n",
              "  'tels',\n",
              "  'into',\n",
              "  \"l'\",\n",
              "  \"didn't\",\n",
              "  'such',\n",
              "  'qu’',\n",
              "  'vous',\n",
              "  'an',\n",
              "  'these',\n",
              "  'eussiez',\n",
              "  'ses',\n",
              "  \"she's\",\n",
              "  'ès',\n",
              "  'most',\n",
              "  'sans',\n",
              "  'six',\n",
              "  'dits',\n",
              "  'malgre',\n",
              "  'etais',\n",
              "  'least',\n",
              "  're',\n",
              "  '‘ve',\n",
              "  'don',\n",
              "  'mêmes',\n",
              "  'jusqu',\n",
              "  'beyond',\n",
              "  'celui-ci',\n",
              "  'rend',\n",
              "  'suis',\n",
              "  'several',\n",
              "  'whom',\n",
              "  'll',\n",
              "  'autrement',\n",
              "  'également',\n",
              "  'avais',\n",
              "  'entre',\n",
              "  'suffisante',\n",
              "  'within',\n",
              "  'to',\n",
              "  'show',\n",
              "  'faisant',\n",
              "  'up',\n",
              "  'because',\n",
              "  'retour',\n",
              "  'them',\n",
              "  'semblable',\n",
              "  'moreover',\n",
              "  'comme',\n",
              "  'différent',\n",
              "  'ils',\n",
              "  'every',\n",
              "  'or',\n",
              "  'été',\n",
              "  'already',\n",
              "  'ayantes',\n",
              "  'down',\n",
              "  'upon',\n",
              "  'seules',\n",
              "  'whereafter',\n",
              "  'nobody',\n",
              "  'nôtre',\n",
              "  'whoever',\n",
              "  'sur',\n",
              "  'didn',\n",
              "  'antérieures',\n",
              "  'troisièmement',\n",
              "  'many',\n",
              "  'nôtres',\n",
              "  'well',\n",
              "  'quelles',\n",
              "  'auxquels',\n",
              "  'part',\n",
              "  'l’',\n",
              "  'call',\n",
              "  'quatre-vingt',\n",
              "  'differentes',\n",
              "  'were',\n",
              "  's',\n",
              "  'isn',\n",
              "  'lorsque',\n",
              "  'fut',\n",
              "  'facon',\n",
              "  'elle-meme',\n",
              "  'doit',\n",
              "  'chacune',\n",
              "  'qui',\n",
              "  'amongst',\n",
              "  'yourselves',\n",
              "  'noone',\n",
              "  'being',\n",
              "  'precisement',\n",
              "  'suivre',\n",
              "  'tant',\n",
              "  'empty',\n",
              "  'that',\n",
              "  'has',\n",
              "  'm',\n",
              "  'lequel',\n",
              "  'hue',\n",
              "  'become',\n",
              "  'cent',\n",
              "  'où',\n",
              "  'forty',\n",
              "  \"you'd\",\n",
              "  'aie',\n",
              "  \"j'\",\n",
              "  'revoila',\n",
              "  'auriez',\n",
              "  'outre',\n",
              "  'je',\n",
              "  'permet',\n",
              "  'which',\n",
              "  'plutôt',\n",
              "  'yet',\n",
              "  'directement',\n",
              "  'dire',\n",
              "  'somehow',\n",
              "  'notamment',\n",
              "  'everywhere',\n",
              "  'with',\n",
              "  'fusse',\n",
              "  'tend',\n",
              "  'nombreuses',\n",
              "  'all',\n",
              "  'fussent',\n",
              "  'mais',\n",
              "  'wherever',\n",
              "  'selon',\n",
              "  'go',\n",
              "  'l',\n",
              "  'avons',\n",
              "  \"shan't\",\n",
              "  'did',\n",
              "  'doing',\n",
              "  'either',\n",
              "  'weren',\n",
              "  'although',\n",
              "  'une',\n",
              "  'if',\n",
              "  'whence',\n",
              "  'à',\n",
              "  'specifique',\n",
              "  'still',\n",
              "  'fais',\n",
              "  'moi-meme',\n",
              "  'using',\n",
              "  'cinquième',\n",
              "  'no',\n",
              "  'siens',\n",
              "  'souvent',\n",
              "  'lors',\n",
              "  'seraient',\n",
              "  'memes',\n",
              "  'haven',\n",
              "  'sept',\n",
              "  'da',\n",
              "  'dehors',\n",
              "  'm’',\n",
              "  'faisaient',\n",
              "  'onto',\n",
              "  'quant-à-soi',\n",
              "  'huit',\n",
              "  'merci',\n",
              "  'hadn',\n",
              "  'façon',\n",
              "  'sixty',\n",
              "  'suffisant',\n",
              "  'aurions',\n",
              "  'étais',\n",
              "  'aviez',\n",
              "  'restent',\n",
              "  'say',\n",
              "  'debout',\n",
              "  'o',\n",
              "  'quels',\n",
              "  'very',\n",
              "  'less',\n",
              "  'revoici',\n",
              "  'vos',\n",
              "  'semblaient',\n",
              "  'vont',\n",
              "  'others',\n",
              "  \"mightn't\",\n",
              "  'ain',\n",
              "  'différentes',\n",
              "  'won',\n",
              "  'relativement',\n",
              "  'moins',\n",
              "  'un',\n",
              "  'toi-même',\n",
              "  'around',\n",
              "  'between',\n",
              "  'something',\n",
              "  'avions',\n",
              "  'celle-ci',\n",
              "  'cinquantième',\n",
              "  'elles-mêmes',\n",
              "  'vu',\n",
              "  'would',\n",
              "  'suivantes',\n",
              "  'towards',\n",
              "  'couldn',\n",
              "  'my',\n",
              "  'seeming',\n",
              "  \"n'\",\n",
              "  'quant',\n",
              "  'ourselves',\n",
              "  'amount',\n",
              "  'same',\n",
              "  'feront',\n",
              "  'throughout',\n",
              "  'étions',\n",
              "  'mille',\n",
              "  'wherein',\n",
              "  'have',\n",
              "  \"'d\",\n",
              "  'allons',\n",
              "  'make',\n",
              "  'nous',\n",
              "  'aux',\n",
              "  'etaient',\n",
              "  'anywhere',\n",
              "  'celle-la',\n",
              "  'ou',\n",
              "  'bottom',\n",
              "  'n',\n",
              "  'vous-mêmes',\n",
              "  'nos',\n",
              "  'aurait',\n",
              "  'durant',\n",
              "  'tenir',\n",
              "  'also',\n",
              "  'fûmes',\n",
              "  'partant',\n",
              "  'behind',\n",
              "  'premier',\n",
              "  'restant',\n",
              "  'wouldn',\n",
              "  'anyone',\n",
              "  'certaines',\n",
              "  'là',\n",
              "  'pouvait',\n",
              "  'trente',\n",
              "  'some',\n",
              "  'one',\n",
              "  'houp',\n",
              "  'without',\n",
              "  \"shouldn't\",\n",
              "  'antérieure',\n",
              "  'herself',\n",
              "  't',\n",
              "  'huitième',\n",
              "  'vers',\n",
              "  'must',\n",
              "  'vingt',\n",
              "  'somewhere',\n",
              "  'envers',\n",
              "  'basee',\n",
              "  'moindres',\n",
              "  'quatrième',\n",
              "  'plusieurs',\n",
              "  'put',\n",
              "  \"c'\",\n",
              "  'peut',\n",
              "  'doesn',\n",
              "  'pourrais',\n",
              "  'latter',\n",
              "  \"isn't\",\n",
              "  'sixième',\n",
              "  'ouias',\n",
              "  'eut',\n",
              "  'will',\n",
              "  'serions',\n",
              "  'eues',\n",
              "  'divers',\n",
              "  'puis',\n",
              "  'soi',\n",
              "  'whereupon',\n",
              "  'ca',\n",
              "  'whereby',\n",
              "  'ont',\n",
              "  'its',\n",
              "  'quoique',\n",
              "  'rather',\n",
              "  'nouveau',\n",
              "  'serait',\n",
              "  'sois',\n",
              "  'eu',\n",
              "  'out',\n",
              "  'combien',\n",
              "  'eût',\n",
              "  'le',\n",
              "  'under',\n",
              "  'ceux-là',\n",
              "  'here',\n",
              "  'i',\n",
              "  'afin',\n",
              "  'attendu',\n",
              "  'seriez',\n",
              "  'j’',\n",
              "  'excepté',\n",
              "  'elles',\n",
              "  'tes',\n",
              "  '’s',\n",
              "  'des',\n",
              "  'eusses',\n",
              "  \"should've\",\n",
              "  'ci',\n",
              "  'than',\n",
              "  'top',\n",
              "  'where',\n",
              "  'see',\n",
              "  'egalement',\n",
              "  'nothing',\n",
              "  \"you'll\",\n",
              "  'seule',\n",
              "  'deuxièmement',\n",
              "  'différents',\n",
              "  'quel',\n",
              "  'whereas',\n",
              "  'toujours',\n",
              "  'himself',\n",
              "  'étaient',\n",
              "  'na',\n",
              "  'fus',\n",
              "  'nine',\n",
              "  '’ve',\n",
              "  'chez',\n",
              "  'seem',\n",
              "  'pourrait',\n",
              "  'de',\n",
              "  'a',\n",
              "  'moi-même',\n",
              "  'surtout',\n",
              "  'ma',\n",
              "  'twelve',\n",
              "  'becoming',\n",
              "  'celui',\n",
              "  'while',\n",
              "  'give',\n",
              "  'and',\n",
              "  'chaque',\n",
              "  'own',\n",
              "  'eus',\n",
              "  'n’',\n",
              "  'certain',\n",
              "  'parlent',\n",
              "  'seulement',\n",
              "  'five',\n",
              "  'formerly',\n",
              "  'étée',\n",
              "  'son',\n",
              "  'peu',\n",
              "  'quatre',\n",
              "  'étées',\n",
              "  'dix-neuf',\n",
              "  '‘d',\n",
              "  'tres',\n",
              "  '‘re',\n",
              "  'http',\n",
              "  'quelques',\n",
              "  'eh',\n",
              "  'ce',\n",
              "  'we',\n",
              "  'as',\n",
              "  'la',\n",
              "  'mine',\n",
              "  'elles-memes',\n",
              "  'diverses',\n",
              "  'perhaps',\n",
              "  'va',\n",
              "  'troisième',\n",
              "  'someone',\n",
              "  'lui',\n",
              "  'stop',\n",
              "  'par',\n",
              "  'dite',\n",
              "  'suit',\n",
              "  'vas',\n",
              "  \"it's\",\n",
              "  'before',\n",
              "  'parmi',\n",
              "  'votre',\n",
              "  'étantes',\n",
              "  'anyway',\n",
              "  'thereby',\n",
              "  'fait',\n",
              "  \"mustn't\",\n",
              "  'étants',\n",
              "  'front',\n",
              "  'anterieur',\n",
              "  'ton',\n",
              "  'deux',\n",
              "  '‘ll',\n",
              "  'quelle',\n",
              "  'fussiez',\n",
              "  'étiez',\n",
              "  'beside',\n",
              "  'précisement',\n",
              "  'toi',\n",
              "  'sauf',\n",
              "  'latterly',\n",
              "  'voila',\n",
              "  'serai',\n",
              "  'prealable',\n",
              "  'had',\n",
              "  'soixante',\n",
              "  'really',\n",
              "  'toute',\n",
              "  'almost',\n",
              "  'the',\n",
              "  'soit',\n",
              "  'enough',\n",
              "  'spécifique',\n",
              "  'neuvième',\n",
              "  'any',\n",
              "  'car',\n",
              "  'except',\n",
              "  'in',\n",
              "  'just',\n",
              "  'diverse',\n",
              "  'lesquels',\n",
              "  'dix-huit',\n",
              "  'parler',\n",
              "  'procedant',\n",
              "  'quatorze',\n",
              "  'hem',\n",
              "  'leurs',\n",
              "  'over',\n",
              "  'never',\n",
              "  'her',\n",
              "  'mustn',\n",
              "  'près',\n",
              "  'seras',\n",
              "  'telle',\n",
              "  'desormais',\n",
              "  'eussent',\n",
              "  'differents',\n",
              "  \"haven't\",\n",
              "  'quite',\n",
              "  'â',\n",
              "  'ni',\n",
              "  'aussi',\n",
              "  't’',\n",
              "  'only',\n",
              "  'often',\n",
              "  'soyez',\n",
              "  'hence',\n",
              "  'hou',\n",
              "  'seuls',\n",
              "  '’m',\n",
              "  'leur',\n",
              "  'please',\n",
              "  'former',\n",
              "  'hereby',\n",
              "  'at',\n",
              "  'fifteen',\n",
              "  'not',\n",
              "  'celles-ci',\n",
              "  'première',\n",
              "  'our',\n",
              "  'until',\n",
              "  'however',\n",
              "  'from',\n",
              "  'avez',\n",
              "  'more',\n",
              "  'duquel',\n",
              "  'was',\n",
              "  'qu',\n",
              "  'differente',\n",
              "  'should',\n",
              "  'abord',\n",
              "  'septième',\n",
              "  'through',\n",
              "  'pu',\n",
              "  'hundred',\n",
              "  'aient',\n",
              "  'regarding',\n",
              "  'eûtes',\n",
              "  'done',\n",
              "  'vôtre',\n",
              "  'along',\n",
              "  'devra',\n",
              "  'unless',\n",
              "  'tente',\n",
              "  'last',\n",
              "  'none',\n",
              "  'ça',\n",
              "  'per',\n",
              "  'take',\n",
              "  'soi-même',\n",
              "  \"aren't\",\n",
              "  'even',\n",
              "  'cela',\n",
              "  'am',\n",
              "  'whenever',\n",
              "  'another',\n",
              "  'ayons',\n",
              "  'becomes',\n",
              "  'avait',\n",
              "  'few',\n",
              "  'eussions',\n",
              "  'for',\n",
              "  \"quelqu'un\",\n",
              "  'ta',\n",
              "  'chacun',\n",
              "  'suivants',\n",
              "  'alors',\n",
              "  'yourself',\n",
              "  'namely',\n",
              "  'peuvent',\n",
              "  'why',\n",
              "  'whatever',\n",
              "  'what',\n",
              "  'bas',\n",
              "  'sien',\n",
              "  \"doesn't\",\n",
              "  'do',\n",
              "  'may',\n",
              "  'ceux',\n",
              "  'celui-la',\n",
              "  \"you've\",\n",
              "  'etre',\n",
              "  'your',\n",
              "  'needn',\n",
              "  'tel',\n",
              "  'anyhow',\n",
              "  'te',\n",
              "  'neanmoins',\n",
              "  'sometimes',\n",
              "  'whether',\n",
              "  'proche',\n",
              "  'apres',\n",
              "  \"you're\",\n",
              "  'four',\n",
              "  'whose',\n",
              "  'certaine',\n",
              "  \"'re\",\n",
              "  'allaient',\n",
              "  'when',\n",
              "  'neither',\n",
              "  'mostly',\n",
              "  \"hasn't\",\n",
              "  'herein',\n",
              "  'mienne',\n",
              "  'encore',\n",
              "  'sommes',\n",
              "  'move',\n",
              "  'cependant',\n",
              "  'aura',\n",
              "  'hui',\n",
              "  'nous-mêmes',\n",
              "  'https',\n",
              "  'of',\n",
              "  'quarante',\n",
              "  'his',\n",
              "  'therefore',\n",
              "  'malgré',\n",
              "  'desquels',\n",
              "  'dessous',\n",
              "  'trois',\n",
              "  'are',\n",
              "  'via',\n",
              "  \"'ve\",\n",
              "  'therein',\n",
              "  'eusse',\n",
              "  's’',\n",
              "  'fût',\n",
              "  'be',\n",
              "  'possible',\n",
              "  'each',\n",
              "  'voilà',\n",
              "  'différente',\n",
              "  'always',\n",
              "  'ouvert',\n",
              "  'theirs',\n",
              "  'depuis',\n",
              "  'indeed',\n",
              "  'autres',\n",
              "  'ah',\n",
              "  'fussions',\n",
              "  'ours',\n",
              "  'then',\n",
              "  \"needn't\",\n",
              "  'té',\n",
              "  'together',\n",
              "  'afterwards',\n",
              "  'keep',\n",
              "  'hi',\n",
              "  'other',\n",
              "  'celle-là',\n",
              "  'their',\n",
              "  'déja',\n",
              "  'autre',\n",
              "  'douze',\n",
              "  'ai',\n",
              "  'desquelles',\n",
              "  'treize',\n",
              "  'back',\n",
              "  'au',\n",
              "  'next',\n",
              "  'seize',\n",
              "  'serious',\n",
              "  'maint',\n",
              "  'alone',\n",
              "  'below',\n",
              "  'lui-même',\n",
              "  'auraient',\n",
              "  'miennes',\n",
              "  'êtes',\n",
              "  'etc',\n",
              "  'anterieures',\n",
              "  'préalable',\n",
              "  'anything',\n",
              "  'quand',\n",
              "  \"wouldn't\",\n",
              "  'laisser',\n",
              "  'aurez',\n",
              "  'importe',\n",
              "  'parle',\n",
              "  'dessus',\n",
              "  'hereafter',\n",
              "  'en',\n",
              "  'but',\n",
              "  \"n't\",\n",
              "  'quatrièmement',\n",
              "  'semble',\n",
              "  \"that'll\",\n",
              "  'else',\n",
              "  'tellement',\n",
              "  \"hadn't\",\n",
              "  'myself',\n",
              "  'two',\n",
              "  'j',\n",
              "  'donc',\n",
              "  'n’t',\n",
              "  '’re',\n",
              "  'eue',\n",
              "  'hasn',\n",
              "  'ceci',\n",
              "  'eleven',\n",
              "  'eurent',\n",
              "  'quelque',\n",
              "  'voici',\n",
              "  'shouldn',\n",
              "  'dix-sept',\n",
              "  'so',\n",
              "  'il',\n",
              "  'être',\n",
              "  'thereupon',\n",
              "  'juste',\n",
              "  'spécifiques',\n",
              "  '’d',\n",
              "  'relative'],\n",
              " 4000,\n",
              " True,\n",
              " (1, 1))"
            ]
          },
          "metadata": {},
          "execution_count": 118
        }
      ]
    },
    {
      "cell_type": "code",
      "source": [
        "# With Processing\n",
        "\n",
        "stop_words, max_feat, _, _ = hps[220]\n",
        "\n",
        "processed_training_data = preprocess(lemmatized_training_data, stop_words = stop_words)\n",
        "\n",
        "test_split = 0.1\n",
        "\n",
        "(training_data_split, testing_data_split, training_labels_split, testing_labels_split) = train_test_split(processed_training_data, training_labels, test_size = int(len(processed_training_data)*test_split), random_state=seed)\n",
        "\n",
        "model = NB(max_features = max_feat, ngram_range = (1,1))\n",
        "model.fit(training_data_split, training_labels_split)\n",
        "predictions = model.predict(testing_data_split)\n",
        "accuracy_score(testing_labels_split, predictions)"
      ],
      "metadata": {
        "colab": {
          "base_uri": "https://localhost:8080/"
        },
        "id": "cCnc40U9NLVP",
        "outputId": "a9e7dea1-6aec-44f0-c132-2ab5673f7bf2"
      },
      "execution_count": null,
      "outputs": [
        {
          "output_type": "stream",
          "name": "stderr",
          "text": [
            "Loading…: 100%|██████████████████████████| 139/139 [00:04<00:00, 29.58it/s]\n"
          ]
        },
        {
          "output_type": "execute_result",
          "data": {
            "text/plain": [
              "0.6474820143884892"
            ]
          },
          "metadata": {},
          "execution_count": 15
        }
      ]
    },
    {
      "cell_type": "code",
      "source": [
        "# With Processing\n",
        "\n",
        "spacy_stopwords_list = list(fr_stop) + list(en_stop)\n",
        "nltk_stopwords_list = stopwords.words('english') + stopwords.words('french')\n",
        "other_stop_words = ['http', 'https', 'www']\n",
        "stop_words = list(set().union(spacy_stopwords_list, nltk_stopwords_list, other_stop_words))\n",
        "\n",
        "processed_training_data = preprocess(training_data, stop_words = stop_words)\n",
        "\n",
        "test_split = 0.1\n",
        "\n",
        "(training_data_split, testing_data_split, training_labels_split, testing_labels_split) = train_test_split(processed_training_data, training_labels, test_size = int(len(processed_training_data)*test_split), random_state=seed)\n",
        "\n",
        "model = NB()\n",
        "model.fit(training_data_split, training_labels_split)\n",
        "mean_error, info = k_fold_validation(training_data_split, training_labels_split, model = model)\n",
        "predictions = model.predict(testing_data_split)\n",
        "print(1-mean_error)\n",
        "accuracy_score(testing_labels_split, predictions)"
      ],
      "metadata": {
        "colab": {
          "base_uri": "https://localhost:8080/"
        },
        "id": "q1Okh7RSdckn",
        "outputId": "bbc95f8d-6fb8-4020-fd18-ffebb367871a"
      },
      "execution_count": null,
      "outputs": [
        {
          "output_type": "stream",
          "name": "stdout",
          "text": [
            "(1, 1)\n"
          ]
        },
        {
          "output_type": "stream",
          "name": "stderr",
          "text": [
            "Loading…: 100%|██████████████████████████| 126/126 [00:02<00:00, 42.02it/s]\n"
          ]
        },
        {
          "output_type": "stream",
          "name": "stdout",
          "text": [
            "(1, 1)\n"
          ]
        },
        {
          "output_type": "stream",
          "name": "stderr",
          "text": [
            "Loading…: 100%|██████████████████████████| 126/126 [00:02<00:00, 44.37it/s]\n"
          ]
        },
        {
          "output_type": "stream",
          "name": "stdout",
          "text": [
            "(1, 1)\n"
          ]
        },
        {
          "output_type": "stream",
          "name": "stderr",
          "text": [
            "Loading…: 100%|██████████████████████████| 126/126 [00:03<00:00, 37.88it/s]\n"
          ]
        },
        {
          "output_type": "stream",
          "name": "stdout",
          "text": [
            "(1, 1)\n"
          ]
        },
        {
          "output_type": "stream",
          "name": "stderr",
          "text": [
            "Loading…: 100%|██████████████████████████| 126/126 [00:03<00:00, 35.02it/s]\n"
          ]
        },
        {
          "output_type": "stream",
          "name": "stdout",
          "text": [
            "(1, 1)\n"
          ]
        },
        {
          "output_type": "stream",
          "name": "stderr",
          "text": [
            "Loading…: 100%|██████████████████████████| 126/126 [00:02<00:00, 45.51it/s]\n"
          ]
        },
        {
          "output_type": "stream",
          "name": "stdout",
          "text": [
            "(1, 1)\n"
          ]
        },
        {
          "output_type": "stream",
          "name": "stderr",
          "text": [
            "Loading…: 100%|██████████████████████████| 126/126 [00:02<00:00, 47.59it/s]\n"
          ]
        },
        {
          "output_type": "stream",
          "name": "stdout",
          "text": [
            "(1, 1)\n"
          ]
        },
        {
          "output_type": "stream",
          "name": "stderr",
          "text": [
            "Loading…: 100%|██████████████████████████| 126/126 [00:02<00:00, 45.05it/s]\n"
          ]
        },
        {
          "output_type": "stream",
          "name": "stdout",
          "text": [
            "(1, 1)\n"
          ]
        },
        {
          "output_type": "stream",
          "name": "stderr",
          "text": [
            "Loading…: 100%|██████████████████████████| 126/126 [00:04<00:00, 28.29it/s]\n"
          ]
        },
        {
          "output_type": "stream",
          "name": "stdout",
          "text": [
            "(1, 1)\n"
          ]
        },
        {
          "output_type": "stream",
          "name": "stderr",
          "text": [
            "Loading…: 100%|██████████████████████████| 126/126 [00:02<00:00, 45.99it/s]\n"
          ]
        },
        {
          "output_type": "stream",
          "name": "stdout",
          "text": [
            "(1, 1)\n"
          ]
        },
        {
          "output_type": "stream",
          "name": "stderr",
          "text": [
            "Loading…: 100%|██████████████████████████| 126/126 [00:02<00:00, 45.93it/s]\n",
            "Loading…: 100%|██████████████████████████| 139/139 [00:03<00:00, 43.98it/s]"
          ]
        },
        {
          "output_type": "stream",
          "name": "stdout",
          "text": [
            "0.6158730158730159\n"
          ]
        },
        {
          "output_type": "stream",
          "name": "stderr",
          "text": [
            "\n"
          ]
        },
        {
          "output_type": "execute_result",
          "data": {
            "text/plain": [
              "0.6690647482014388"
            ]
          },
          "metadata": {},
          "execution_count": 20
        }
      ]
    },
    {
      "cell_type": "markdown",
      "metadata": {
        "id": "Giz98mOOps5d"
      },
      "source": [
        "# Actual Test Case"
      ]
    },
    {
      "cell_type": "code",
      "source": [
        "test_df   = pd.read_csv(path + 'test.csv', encoding = \"ISO-8859-1\")\n",
        "test_data = test_df['body'].apply(lambda x: x.lower().replace('_', ' ')).to_numpy()\n",
        "\n",
        "stop_words, max_feat, _, _ = hps[220]\n",
        "\n",
        "processed_training_data = preprocess(lemmatized_training_data, stop_words = stop_words)\n",
        "processed_test_data     = preprocess(test_data    , stop_words = stop_words, is_lemmatize = True)\n",
        "\n",
        "model = NB(max_features = max_feat, ngram_range = (1,1))\n",
        "model.fit(processed_training_data, training_labels)\n",
        "predictions = model.predict(processed_test_data)\n",
        "\n",
        "pd.DataFrame({'Subreddit':predictions}).reset_index().rename(columns={\"index\": \"Id\"}).to_csv('results.csv', index=False)"
      ],
      "metadata": {
        "colab": {
          "base_uri": "https://localhost:8080/"
        },
        "id": "N6WOSt8cIGjd",
        "outputId": "958c81cf-bfdf-4057-8057-1d63fe67e19c"
      },
      "execution_count": null,
      "outputs": [
        {
          "output_type": "stream",
          "name": "stderr",
          "text": [
            "Loading…: 100%|██████████████████████████| 600/600 [00:17<00:00, 33.66it/s]\n"
          ]
        }
      ]
    },
    {
      "cell_type": "code",
      "execution_count": null,
      "metadata": {
        "id": "YHux80f5QvTq"
      },
      "outputs": [],
      "source": [
        "pd.DataFrame({'Subreddit':predictions}).reset_index().rename(columns={\"index\": \"Id\"}).to_csv('results.csv', index=False)"
      ]
    }
  ],
  "metadata": {
    "colab": {
      "provenance": []
    },
    "kernelspec": {
      "display_name": "Python 3",
      "name": "python3"
    },
    "language_info": {
      "codemirror_mode": {
        "name": "ipython",
        "version": 3
      },
      "file_extension": ".py",
      "mimetype": "text/x-python",
      "name": "python",
      "nbconvert_exporter": "python",
      "pygments_lexer": "ipython3",
      "version": "3.10.5"
    }
  },
  "nbformat": 4,
  "nbformat_minor": 0
}